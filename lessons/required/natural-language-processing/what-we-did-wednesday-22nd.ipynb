{
 "cells": [
  {
   "cell_type": "markdown",
   "metadata": {},
   "source": [
    "<img src=\"http://imgur.com/1ZcRyrc.png\" style=\"float: left; margin: 20px; height: 55px\">\n",
    " \n",
    "# Natural Language Processing"
   ]
  },
  {
   "cell_type": "markdown",
   "metadata": {},
   "source": [
    "### Learning Objectives\n",
    "- Discuss the major tasks involved with natural language processing.\n",
    "- Discuss, on a low level, the components of natural language processing.\n",
    "- Do some EDA on a natural language processing dataset\n",
    "- Identify why natural language processing is difficult.\n",
    "- Demonstrate text classification on a multi-class problem.\n",
    "- Demonstrate common text preprocessing techniques."
   ]
  },
  {
   "cell_type": "markdown",
   "metadata": {},
   "source": [
    "### How Do We Use NLP in Data Science?\n",
    "\n",
    "In data science, we are often asked to analyze unstructured text or make a predictive model using it. Unfortunately, most data science techniques require numeric data. NLP libraries provide a tool set of methods to convert unstructured text into meaningful numeric data.\n",
    "\n",
    "- **Analysis:** NLP techniques provide tools to allow us to understand and analyze large amounts of text. For example:\n",
    "\n",
    "    - Analyze the positivity/negativity of comments on different websites. \n",
    "    - Extract key words from meeting notes and visualize how meeting topics change over time.\n",
    "\n",
    "- **Vectorizing for machine learning:** When building a machine learning model, we typically must transform our data into numeric features. This process of transforming non-numeric data such as natural language into numeric features is called vectorization. For example:\n",
    "\n",
    "    - Understanding related words. Using stemming, NLP lets us know that \"swim\", \"swims\", and \"swimming\" all refer to the same base word. This allows us to reduce the number of features used in our model.\n",
    "    - Identifying important and unique words. Using TF-IDF (term frequency-inverse document frequency), we can identify which words are most likely to be meaningful in a document."
   ]
  },
  {
   "cell_type": "markdown",
   "metadata": {},
   "source": [
    "### Libraries we will use & things to download"
   ]
  },
  {
   "cell_type": "code",
   "execution_count": null,
   "metadata": {
    "scrolled": true
   },
   "outputs": [],
   "source": [
    "!pip install wordcloud"
   ]
  },
  {
   "cell_type": "code",
   "execution_count": null,
   "metadata": {},
   "outputs": [],
   "source": [
    "!conda install nltk"
   ]
  },
  {
   "cell_type": "code",
   "execution_count": null,
   "metadata": {},
   "outputs": [],
   "source": [
    "import nltk"
   ]
  },
  {
   "cell_type": "code",
   "execution_count": null,
   "metadata": {},
   "outputs": [],
   "source": [
    "nltk.download('stopwords')"
   ]
  },
  {
   "cell_type": "code",
   "execution_count": null,
   "metadata": {},
   "outputs": [],
   "source": [
    "!conda install -c conda-forge spacy"
   ]
  },
  {
   "cell_type": "code",
   "execution_count": null,
   "metadata": {},
   "outputs": [],
   "source": [
    "!python -m spacy download en_core_web_sm"
   ]
  },
  {
   "cell_type": "code",
   "execution_count": 210,
   "metadata": {},
   "outputs": [
    {
     "name": "stdout",
     "output_type": "stream",
     "text": [
      "Collecting en_core_web_lg==2.2.0 from https://github.com/explosion/spacy-models/releases/download/en_core_web_lg-2.2.0/en_core_web_lg-2.2.0.tar.gz#egg=en_core_web_lg==2.2.0\n",
      "  Downloading https://github.com/explosion/spacy-models/releases/download/en_core_web_lg-2.2.0/en_core_web_lg-2.2.0.tar.gz (827.9MB)\n",
      "Requirement already satisfied: spacy>=2.2.0 in d:\\users\\gregb\\appdata\\local\\continuum\\anaconda3\\lib\\site-packages (from en_core_web_lg==2.2.0) (2.2.1)\n",
      "Requirement already satisfied: numpy>=1.15.0 in d:\\users\\gregb\\appdata\\local\\continuum\\anaconda3\\lib\\site-packages (from spacy>=2.2.0->en_core_web_lg==2.2.0) (1.16.4)\n",
      "Requirement already satisfied: murmurhash<1.1.0,>=0.28.0 in d:\\users\\gregb\\appdata\\local\\continuum\\anaconda3\\lib\\site-packages (from spacy>=2.2.0->en_core_web_lg==2.2.0) (1.0.0)\n",
      "Requirement already satisfied: thinc<7.2.0,>=7.1.1 in d:\\users\\gregb\\appdata\\local\\continuum\\anaconda3\\lib\\site-packages (from spacy>=2.2.0->en_core_web_lg==2.2.0) (7.1.1)\n",
      "Requirement already satisfied: preshed<3.1.0,>=3.0.2 in d:\\users\\gregb\\appdata\\local\\continuum\\anaconda3\\lib\\site-packages (from spacy>=2.2.0->en_core_web_lg==2.2.0) (3.0.2)\n",
      "Requirement already satisfied: plac<1.0.0,>=0.9.6 in d:\\users\\gregb\\appdata\\local\\continuum\\anaconda3\\lib\\site-packages (from spacy>=2.2.0->en_core_web_lg==2.2.0) (0.9.6)\n",
      "Requirement already satisfied: blis<0.5.0,>=0.4.0 in d:\\users\\gregb\\appdata\\local\\continuum\\anaconda3\\lib\\site-packages (from spacy>=2.2.0->en_core_web_lg==2.2.0) (0.4.1)\n",
      "Requirement already satisfied: srsly<1.1.0,>=0.1.0 in d:\\users\\gregb\\appdata\\local\\continuum\\anaconda3\\lib\\site-packages (from spacy>=2.2.0->en_core_web_lg==2.2.0) (1.0.0)\n",
      "Requirement already satisfied: wasabi<1.1.0,>=0.2.0 in d:\\users\\gregb\\appdata\\local\\continuum\\anaconda3\\lib\\site-packages (from spacy>=2.2.0->en_core_web_lg==2.2.0) (0.6.0)\n",
      "Requirement already satisfied: cymem<2.1.0,>=2.0.2 in d:\\users\\gregb\\appdata\\local\\continuum\\anaconda3\\lib\\site-packages (from spacy>=2.2.0->en_core_web_lg==2.2.0) (2.0.3)\n",
      "Requirement already satisfied: requests<3.0.0,>=2.13.0 in d:\\users\\gregb\\appdata\\local\\continuum\\anaconda3\\lib\\site-packages (from spacy>=2.2.0->en_core_web_lg==2.2.0) (2.22.0)\n",
      "Requirement already satisfied: tqdm<5.0.0,>=4.10.0 in d:\\users\\gregb\\appdata\\local\\continuum\\anaconda3\\lib\\site-packages (from thinc<7.2.0,>=7.1.1->spacy>=2.2.0->en_core_web_lg==2.2.0) (4.32.1)\n",
      "Requirement already satisfied: urllib3!=1.25.0,!=1.25.1,<1.26,>=1.21.1 in d:\\users\\gregb\\appdata\\local\\continuum\\anaconda3\\lib\\site-packages (from requests<3.0.0,>=2.13.0->spacy>=2.2.0->en_core_web_lg==2.2.0) (1.24.2)\n",
      "Requirement already satisfied: chardet<3.1.0,>=3.0.2 in d:\\users\\gregb\\appdata\\local\\continuum\\anaconda3\\lib\\site-packages (from requests<3.0.0,>=2.13.0->spacy>=2.2.0->en_core_web_lg==2.2.0) (3.0.4)\n",
      "Requirement already satisfied: certifi>=2017.4.17 in d:\\users\\gregb\\appdata\\local\\continuum\\anaconda3\\lib\\site-packages (from requests<3.0.0,>=2.13.0->spacy>=2.2.0->en_core_web_lg==2.2.0) (2020.4.5.1)\n",
      "Requirement already satisfied: idna<2.9,>=2.5 in d:\\users\\gregb\\appdata\\local\\continuum\\anaconda3\\lib\\site-packages (from requests<3.0.0,>=2.13.0->spacy>=2.2.0->en_core_web_lg==2.2.0) (2.8)\n",
      "Building wheels for collected packages: en-core-web-lg\n",
      "  Building wheel for en-core-web-lg (setup.py): started\n",
      "  Building wheel for en-core-web-lg (setup.py): still running...\n",
      "  Building wheel for en-core-web-lg (setup.py): finished with status 'done'\n",
      "  Stored in directory: D:\\Users\\gregb\\AppData\\Local\\Temp\\1\\pip-ephem-wheel-cache-l2raxowz\\wheels\\9f\\3c\\d6\\3ade7ed8195030f4d7f299cf73d856a84d7b3effd5890133fb\n",
      "Successfully built en-core-web-lg\n",
      "Installing collected packages: en-core-web-lg\n",
      "Successfully installed en-core-web-lg-2.2.0\n",
      "[+] Download and installation successful\n",
      "You can now load the model via spacy.load('en_core_web_lg')\n"
     ]
    }
   ],
   "source": [
    "!python -m spacy download en_core_web_lg"
   ]
  },
  {
   "cell_type": "markdown",
   "metadata": {},
   "source": [
    "## Lesson Guide\n",
    "\n",
    "- [Introduction to Natural Language Processing](#intro)\n",
    "- [Reading Yelp reviews With NLP](#yelp_rev)\n",
    "- [Text Classification](#text_class)\n",
    "- [Count Vectorization](#count_vec)\n",
    "    - [Using CountVectorizer in a Model](#countvectorizer-model)\n",
    "    - [N-Grams](#ngrams)\n",
    "    - [Stop-Word Removal](#stopwords)\n",
    "\t- [Count Vector Options](#cvec_opt)\n",
    "- [Intro to Spacy](#textblob)\n",
    "\t- [Parts of speech]\n",
    "    - [Stemming and Lemmatization](#stem)\n",
    "- [Term Frequency–Inverse Document Frequency Vectorization](#tfidf)\n",
    "\t- [Yelp Summary Using TF–IDF](#yelp_tfidf)\n",
    "- [Sentiment Analysis](#sentiment)\n",
    "- [BONUS: Adding Features to a Document-Term Matrix](#add_feat)\n",
    "- [Conclusion](#conclusion)"
   ]
  },
  {
   "cell_type": "markdown",
   "metadata": {},
   "source": [
    "## Introduction"
   ]
  },
  {
   "cell_type": "markdown",
   "metadata": {},
   "source": [
    "### What Is Natural Language Processing (NLP)?\n",
    "\n",
    "- Using computers to process (analyze, understand, generate) natural human languages.\n",
    "- Making sense of human knowledge stored as unstructured text.\n",
    "- Building probabilistic models using data about a language."
   ]
  },
  {
   "cell_type": "markdown",
   "metadata": {},
   "source": [
    "### What Are Some of the Higher-Level Task Areas?\n",
    "\n",
    "- **Objective:** Discuss the major tasks involved with natural language processing.\n",
    "\n",
    "We often hope that computers can solve many high-level problems involving natural language. Unfortunately, due to the difficulty of understanding human language, many of these problems are still not well solved. That said, existing solutions to these problems all involve utilizing the lower-level components of NLP discussed in the next section. Some higher-level tasks include:\n",
    "\n",
    "- **Chatbots:** Understand natural language from the user and return intelligent responses.\n",
    "    - [Api.ai](https://api.ai/)\n",
    "- **Information retrieval:** Find relevant results and similar results.\n",
    "    - [Google](https://www.google.com/)    \n",
    "- **Information extraction:** Structured information from unstructured documents.\n",
    "    - [Events from Gmail](https://support.google.com/calendar/answer/6084018?hl=en)\n",
    "- **Machine translation:** One language to another.\n",
    "    - [Google Translate](https://translate.google.com/)\n",
    "- **Text simplification:** Preserve the meaning of text, but simplify the grammar and vocabulary.\n",
    "    - [Rewordify](https://rewordify.com/)\n",
    "    - [Simple English Wikipedia](https://simple.wikipedia.org/wiki/Main_Page)\n",
    "- **Predictive text input:** Faster or easier typing.\n",
    "    - [Phrase completion application](https://justmarkham.shinyapps.io/textprediction/)\n",
    "    - [A much better application](https://farsite.shinyapps.io/swiftkey-cap/)\n",
    "- **Sentiment analysis:** Attitude of speaker.\n",
    "    - [Hater News](https://medium.com/@KevinMcAlear/building-hater-news-62062c58325c)\n",
    "- **Automatic summarization:** Extractive or abstractive summarization.\n",
    "    - [autotldr](https://www.reddit.com/r/technology/comments/35brc8/21_million_people_still_use_aol_dialup/cr2zzj0)\n",
    "- **Natural language generation:** Generate text from data.\n",
    "    - [How a computer describes a sports match](http://www.bbc.com/news/technology-34204052)\n",
    "    - [Publishers withdraw more than 120 gibberish papers](http://www.nature.com/news/publishers-withdraw-more-than-120-gibberish-papers-1.14763)\n",
    "- **Speech recognition and generation:** Speech-to-text, text-to-speech.\n",
    "    - [Google's Web Speech API demo](https://www.google.com/intl/en/chrome/demos/speech.html)\n",
    "    - [Vocalware Text-to-Speech demo](https://www.vocalware.com/index/demo)\n",
    "- **Question answering:** Determine the intent of the question, match query with knowledge base, evaluate hypotheses.\n",
    "    - [How did supercomputer Watson beat Jeopardy champion Ken Jennings?](http://blog.ted.com/how-did-supercomputer-watson-beat-jeopardy-champion-ken-jennings-experts-discuss/)\n",
    "    - [IBM's Watson Trivia Challenge](http://www.nytimes.com/interactive/2010/06/16/magazine/watson-trivia-game.html)\n",
    "    - [The AI Behind Watson](http://www.aaai.org/Magazine/Watson/watson.php)"
   ]
  },
  {
   "cell_type": "markdown",
   "metadata": {},
   "source": [
    "### What Are Some of the Lower-Level Components?\n",
    "\n",
    "- **Objective:** Discuss, on a low level, the components of natural language processing.\n",
    "\n",
    "Unfortunately, the NLP programming libraries typically do not provide direct solutions for the high-level tasks above. Instead, they provide low-level building blocks that enable us to craft our own solutions. These include:\n",
    "\n",
    "- **Tokenization:** Breaking text into tokens (words, sentences, n-grams)\n",
    "- **Stop-word removal:** a/an/the\n",
    "- **Stemming and lemmatization:** root word\n",
    "- **TF-IDF:** word importance\n",
    "- **Part-of-speech tagging:** noun/verb/adjective\n",
    "- **Named entity recognition:** person/organization/location\n",
    "- **Spelling correction:** \"New Yrok City\"\n",
    "- **Word sense disambiguation:** \"buy a mouse\"\n",
    "- **Segmentation:** \"New York City subway\"\n",
    "- **Language detection:** \"translate this page\"\n",
    "- **Machine learning:** specialized models that work well with text"
   ]
  },
  {
   "cell_type": "markdown",
   "metadata": {},
   "source": [
    "### Why is NLP hard?\n",
    "\n",
    "- **Objective:** Identify why natural language processing is difficult.\n",
    "\n",
    "Natural language processing requires an understanding of the language and the world. Several limitations of NLP are:\n",
    "\n",
    "- **Ambiguity**:\n",
    "    - Hospitals Are Sued by 7 Foot Doctors\n",
    "    - Juvenile Court to Try Shooting Defendant\n",
    "    - Local High School Dropouts Cut in Half\n",
    "- **Non-standard English:** text messages\n",
    "- **Idioms:** \"throw in the towel\"\n",
    "- **Newly coined words:** \"retweet\"\n",
    "- **Tricky entity names:** \"Where is A Bug's Life playing?\"\n",
    "- **World knowledge:** \"Mary and Sue are sisters\", \"Mary and Sue are mothers\""
   ]
  },
  {
   "cell_type": "markdown",
   "metadata": {},
   "source": [
    "<a id='yelp_rev'></a>\n",
    "\n",
    "## Reading in the Yelp Reviews\n",
    "\n",
    "Throughout this lesson, we will use Yelp reviews to practice and discover common low-level NLP techniques.\n",
    "\n",
    "You should be familiar with these terms, as they are frequently used in NLP:\n",
    "- **corpus**: a collection of documents (derived from the Latin word for \"body\")\n",
    "- **corpora**: plural form of corpus"
   ]
  },
  {
   "cell_type": "code",
   "execution_count": 1,
   "metadata": {},
   "outputs": [],
   "source": [
    "import pandas as pd"
   ]
  },
  {
   "cell_type": "code",
   "execution_count": 2,
   "metadata": {},
   "outputs": [],
   "source": [
    "yelp = pd.read_csv('data/yelp.csv', index_col='review_id', parse_dates=['date'])"
   ]
  },
  {
   "cell_type": "code",
   "execution_count": 3,
   "metadata": {},
   "outputs": [
    {
     "data": {
      "text/html": [
       "<div>\n",
       "<style scoped>\n",
       "    .dataframe tbody tr th:only-of-type {\n",
       "        vertical-align: middle;\n",
       "    }\n",
       "\n",
       "    .dataframe tbody tr th {\n",
       "        vertical-align: top;\n",
       "    }\n",
       "\n",
       "    .dataframe thead th {\n",
       "        text-align: right;\n",
       "    }\n",
       "</style>\n",
       "<table border=\"1\" class=\"dataframe\">\n",
       "  <thead>\n",
       "    <tr style=\"text-align: right;\">\n",
       "      <th></th>\n",
       "      <th>business_id</th>\n",
       "      <th>date</th>\n",
       "      <th>stars</th>\n",
       "      <th>text</th>\n",
       "      <th>type</th>\n",
       "      <th>user_id</th>\n",
       "      <th>cool</th>\n",
       "      <th>useful</th>\n",
       "      <th>funny</th>\n",
       "    </tr>\n",
       "    <tr>\n",
       "      <th>review_id</th>\n",
       "      <th></th>\n",
       "      <th></th>\n",
       "      <th></th>\n",
       "      <th></th>\n",
       "      <th></th>\n",
       "      <th></th>\n",
       "      <th></th>\n",
       "      <th></th>\n",
       "      <th></th>\n",
       "    </tr>\n",
       "  </thead>\n",
       "  <tbody>\n",
       "    <tr>\n",
       "      <th>YPNq_oUyl5MKRjGShanEEA</th>\n",
       "      <td>JJDaF4yFPLgQ3u678qyL2w</td>\n",
       "      <td>2012-09-11</td>\n",
       "      <td>5</td>\n",
       "      <td>There are 3 choices at ASU for game design. Wh...</td>\n",
       "      <td>review</td>\n",
       "      <td>Q4Yy0RkFVtyqsYig8dyg3w</td>\n",
       "      <td>0</td>\n",
       "      <td>0</td>\n",
       "      <td>0</td>\n",
       "    </tr>\n",
       "    <tr>\n",
       "      <th>breTkAJpsdmO2YXCantl6A</th>\n",
       "      <td>eGj1NnvbIUVWgDYQWEOwQg</td>\n",
       "      <td>2012-06-03</td>\n",
       "      <td>4</td>\n",
       "      <td>One of my favorite parks that I've been to! Th...</td>\n",
       "      <td>review</td>\n",
       "      <td>7o7MF9B9lxcWupE8jiLOaQ</td>\n",
       "      <td>0</td>\n",
       "      <td>0</td>\n",
       "      <td>0</td>\n",
       "    </tr>\n",
       "    <tr>\n",
       "      <th>YHvP_RM3pvYXbGRH-k0a3Q</th>\n",
       "      <td>DcrM4hwDcU2G6vuh2cnaYQ</td>\n",
       "      <td>2010-04-25</td>\n",
       "      <td>4</td>\n",
       "      <td>Excellent service.  Easy to access.  Dessert i...</td>\n",
       "      <td>review</td>\n",
       "      <td>zMhkzu9VXFULKQ8YCCsDVQ</td>\n",
       "      <td>0</td>\n",
       "      <td>0</td>\n",
       "      <td>0</td>\n",
       "    </tr>\n",
       "    <tr>\n",
       "      <th>f5Nkgg5Drd6fJyoZA5mkIA</th>\n",
       "      <td>lBRCMN7wNn-BKUsaOXJRow</td>\n",
       "      <td>2011-02-16</td>\n",
       "      <td>5</td>\n",
       "      <td>We love this place. We got Miss V washed up wi...</td>\n",
       "      <td>review</td>\n",
       "      <td>NSu-sX5ZAcnWN5Sy0QDohg</td>\n",
       "      <td>0</td>\n",
       "      <td>0</td>\n",
       "      <td>0</td>\n",
       "    </tr>\n",
       "    <tr>\n",
       "      <th>agWENQvyoHf3w-k5uu_3RA</th>\n",
       "      <td>Cse5FvYuACIxljwaac2SZg</td>\n",
       "      <td>2012-07-10</td>\n",
       "      <td>4</td>\n",
       "      <td>Another new great place in the Arcadia neighbo...</td>\n",
       "      <td>review</td>\n",
       "      <td>pEVf8GRshP9HUkSpizc9LA</td>\n",
       "      <td>1</td>\n",
       "      <td>3</td>\n",
       "      <td>0</td>\n",
       "    </tr>\n",
       "  </tbody>\n",
       "</table>\n",
       "</div>"
      ],
      "text/plain": [
       "                                   business_id       date  stars  \\\n",
       "review_id                                                          \n",
       "YPNq_oUyl5MKRjGShanEEA  JJDaF4yFPLgQ3u678qyL2w 2012-09-11      5   \n",
       "breTkAJpsdmO2YXCantl6A  eGj1NnvbIUVWgDYQWEOwQg 2012-06-03      4   \n",
       "YHvP_RM3pvYXbGRH-k0a3Q  DcrM4hwDcU2G6vuh2cnaYQ 2010-04-25      4   \n",
       "f5Nkgg5Drd6fJyoZA5mkIA  lBRCMN7wNn-BKUsaOXJRow 2011-02-16      5   \n",
       "agWENQvyoHf3w-k5uu_3RA  Cse5FvYuACIxljwaac2SZg 2012-07-10      4   \n",
       "\n",
       "                                                                     text  \\\n",
       "review_id                                                                   \n",
       "YPNq_oUyl5MKRjGShanEEA  There are 3 choices at ASU for game design. Wh...   \n",
       "breTkAJpsdmO2YXCantl6A  One of my favorite parks that I've been to! Th...   \n",
       "YHvP_RM3pvYXbGRH-k0a3Q  Excellent service.  Easy to access.  Dessert i...   \n",
       "f5Nkgg5Drd6fJyoZA5mkIA  We love this place. We got Miss V washed up wi...   \n",
       "agWENQvyoHf3w-k5uu_3RA  Another new great place in the Arcadia neighbo...   \n",
       "\n",
       "                          type                 user_id  cool  useful  funny  \n",
       "review_id                                                                    \n",
       "YPNq_oUyl5MKRjGShanEEA  review  Q4Yy0RkFVtyqsYig8dyg3w     0       0      0  \n",
       "breTkAJpsdmO2YXCantl6A  review  7o7MF9B9lxcWupE8jiLOaQ     0       0      0  \n",
       "YHvP_RM3pvYXbGRH-k0a3Q  review  zMhkzu9VXFULKQ8YCCsDVQ     0       0      0  \n",
       "f5Nkgg5Drd6fJyoZA5mkIA  review  NSu-sX5ZAcnWN5Sy0QDohg     0       0      0  \n",
       "agWENQvyoHf3w-k5uu_3RA  review  pEVf8GRshP9HUkSpizc9LA     1       3      0  "
      ]
     },
     "execution_count": 3,
     "metadata": {},
     "output_type": "execute_result"
    }
   ],
   "source": [
    "yelp.sample(5)"
   ]
  },
  {
   "cell_type": "code",
   "execution_count": 4,
   "metadata": {},
   "outputs": [
    {
     "data": {
      "text/plain": [
       "<matplotlib.axes._subplots.AxesSubplot at 0x1d6ef627e10>"
      ]
     },
     "execution_count": 4,
     "metadata": {},
     "output_type": "execute_result"
    }
   ],
   "source": [
    "yelp['text_count'] = yelp.text.map(len)\n",
    "yelp.text_count.plot.hist()"
   ]
  },
  {
   "cell_type": "code",
   "execution_count": 5,
   "metadata": {},
   "outputs": [
    {
     "data": {
      "text/plain": [
       "<matplotlib.axes._subplots.AxesSubplot at 0x1d6f2e8a6d8>"
      ]
     },
     "execution_count": 5,
     "metadata": {},
     "output_type": "execute_result"
    },
    {
     "data": {
      "image/png": "[encoded data removed]",
      "text/plain": [
       "<Figure size 432x288 with 1 Axes>"
      ]
     },
     "metadata": {
      "needs_background": "light"
     },
     "output_type": "display_data"
    }
   ],
   "source": [
    "yelp['word_count'] = yelp.text.str.split(' ').map(len)\n",
    "yelp['word_count'].plot.hist()"
   ]
  },
  {
   "cell_type": "code",
   "execution_count": 6,
   "metadata": {},
   "outputs": [
    {
     "data": {
      "text/plain": [
       "<matplotlib.axes._subplots.AxesSubplot at 0x1d6f2e9b438>"
      ]
     },
     "execution_count": 6,
     "metadata": {},
     "output_type": "execute_result"
    },
    {
     "data": {
      "image/png": "[encoded data removed]",
      "text/plain": [
       "<Figure size 432x288 with 1 Axes>"
      ]
     },
     "metadata": {
      "needs_background": "light"
     },
     "output_type": "display_data"
    }
   ],
   "source": [
    "yelp['average_word_length'] = yelp.text_count / yelp.word_count\n",
    "yelp.average_word_length.plot.hist()"
   ]
  },
  {
   "cell_type": "code",
   "execution_count": 7,
   "metadata": {},
   "outputs": [
    {
     "data": {
      "text/html": [
       "<div>\n",
       "<style scoped>\n",
       "    .dataframe tbody tr th:only-of-type {\n",
       "        vertical-align: middle;\n",
       "    }\n",
       "\n",
       "    .dataframe tbody tr th {\n",
       "        vertical-align: top;\n",
       "    }\n",
       "\n",
       "    .dataframe thead th {\n",
       "        text-align: right;\n",
       "    }\n",
       "</style>\n",
       "<table border=\"1\" class=\"dataframe\">\n",
       "  <thead>\n",
       "    <tr style=\"text-align: right;\">\n",
       "      <th></th>\n",
       "      <th>business_id</th>\n",
       "      <th>date</th>\n",
       "      <th>stars</th>\n",
       "      <th>text</th>\n",
       "      <th>type</th>\n",
       "      <th>user_id</th>\n",
       "      <th>cool</th>\n",
       "      <th>useful</th>\n",
       "      <th>funny</th>\n",
       "      <th>text_count</th>\n",
       "      <th>word_count</th>\n",
       "      <th>average_word_length</th>\n",
       "    </tr>\n",
       "    <tr>\n",
       "      <th>review_id</th>\n",
       "      <th></th>\n",
       "      <th></th>\n",
       "      <th></th>\n",
       "      <th></th>\n",
       "      <th></th>\n",
       "      <th></th>\n",
       "      <th></th>\n",
       "      <th></th>\n",
       "      <th></th>\n",
       "      <th></th>\n",
       "      <th></th>\n",
       "      <th></th>\n",
       "    </tr>\n",
       "  </thead>\n",
       "  <tbody>\n",
       "    <tr>\n",
       "      <th>Qv1jJdZftPlfJef45OX3GQ</th>\n",
       "      <td>gUt-pPUpOVVhaCFC8-E4yQ</td>\n",
       "      <td>2011-03-27</td>\n",
       "      <td>5</td>\n",
       "      <td>Bomb ............................................</td>\n",
       "      <td>review</td>\n",
       "      <td>_tTNzjkD-pvWqSb-Ahw9Uw</td>\n",
       "      <td>0</td>\n",
       "      <td>0</td>\n",
       "      <td>0</td>\n",
       "      <td>143</td>\n",
       "      <td>4</td>\n",
       "      <td>35.75</td>\n",
       "    </tr>\n",
       "  </tbody>\n",
       "</table>\n",
       "</div>"
      ],
      "text/plain": [
       "                                   business_id       date  stars  \\\n",
       "review_id                                                          \n",
       "Qv1jJdZftPlfJef45OX3GQ  gUt-pPUpOVVhaCFC8-E4yQ 2011-03-27      5   \n",
       "\n",
       "                                                                     text  \\\n",
       "review_id                                                                   \n",
       "Qv1jJdZftPlfJef45OX3GQ  Bomb ............................................   \n",
       "\n",
       "                          type                 user_id  cool  useful  funny  \\\n",
       "review_id                                                                     \n",
       "Qv1jJdZftPlfJef45OX3GQ  review  _tTNzjkD-pvWqSb-Ahw9Uw     0       0      0   \n",
       "\n",
       "                        text_count  word_count  average_word_length  \n",
       "review_id                                                            \n",
       "Qv1jJdZftPlfJef45OX3GQ         143           4                35.75  "
      ]
     },
     "execution_count": 7,
     "metadata": {},
     "output_type": "execute_result"
    }
   ],
   "source": [
    "yelp[yelp.average_word_length > 15]"
   ]
  },
  {
   "cell_type": "code",
   "execution_count": 8,
   "metadata": {},
   "outputs": [
    {
     "data": {
      "text/plain": [
       "<matplotlib.axes._subplots.AxesSubplot at 0x1d6f2ddd128>"
      ]
     },
     "execution_count": 8,
     "metadata": {},
     "output_type": "execute_result"
    },
    {
     "data": {
      "image/png": "[encoded data removed]",
      "text/plain": [
       "<Figure size 432x288 with 1 Axes>"
      ]
     },
     "metadata": {
      "needs_background": "light"
     },
     "output_type": "display_data"
    }
   ],
   "source": [
    "yelp[yelp.average_word_length < 15].average_word_length.plot.hist()"
   ]
  },
  {
   "cell_type": "code",
   "execution_count": 9,
   "metadata": {},
   "outputs": [],
   "source": [
    "yelp['words'] = yelp.text.str.split(' ')\n",
    "yelp['distinct_word_count'] = yelp.words.map(lambda x: len(set(x)))\n",
    "yelp['lexical_diversity'] = yelp.distinct_word_count / yelp.word_count"
   ]
  },
  {
   "cell_type": "code",
   "execution_count": 10,
   "metadata": {},
   "outputs": [
    {
     "data": {
      "text/plain": [
       "user_id\n",
       "I7zvmDRYtsLUHsLi50wDNA    1.000000\n",
       "Eq6j-P0ipCIlhI1GqrbpWQ    1.000000\n",
       "H4XCAov3KP3JjThhExpocg    1.000000\n",
       "HE8AOm5mO_sgap7_coM0RQ    1.000000\n",
       "HEag_QERXNbyGmNgA6no2Q    1.000000\n",
       "HOAFwraJMBTcYy1qTmFmgQ    1.000000\n",
       "HavRojH3G8AlJchZXonaOg    1.000000\n",
       "nURs-n-ucizNeoo280nmTQ    1.000000\n",
       "Hqgx3IdJAAaoQjvrUnbNvw    1.000000\n",
       "x1Yagv0rOlPd_NRu5t0SIA    1.000000\n",
       "I6KftQl6q4I7IuKV7wPR7w    1.000000\n",
       "IAOCwB3c2c_-6_Y5rAjXIg    1.000000\n",
       "x4thcv_eJg2FBsb_E8P4sA    1.000000\n",
       "n5PtmHO-PSHiyseG56XZtA    1.000000\n",
       "IXuKjVb0F7t7T-BTpwLqKQ    1.000000\n",
       "I_i3bHwfSFne6eTHPe4tMQ    1.000000\n",
       "x7QYSYyc_x63-61Z9SB8jA    1.000000\n",
       "Iqqy89mlRXExxeP8RZqCUA    1.000000\n",
       "mm1-8hxSTbQH9iUAIkML4w    1.000000\n",
       "IwZkZmCpc2D7DslEogiBYg    1.000000\n",
       "IwiupaUMeltnd0a9Cp15tA    1.000000\n",
       "mavwphmn_T_u_J4Pcmocbg    1.000000\n",
       "JCpQDETmyGtQ_PJbSnc47w    1.000000\n",
       "2fdyqZooz7YSZ5vgkDLxxA    1.000000\n",
       "JDVbRaxrjJaLX75UQ8Q3Ng    1.000000\n",
       "Gzh93lma7vWTK2WiENHd4w    1.000000\n",
       "nzhUfCzDUW8VFLc40nAtsA    1.000000\n",
       "GwTb7Kiacz0jxqtiK8y09g    1.000000\n",
       "GV40APiM60CXnX7TAzYV0Q    1.000000\n",
       "FEdeDneIRH2IjKfneDA-vw    1.000000\n",
       "                            ...   \n",
       "aEU-EIGl_do9y6-j1MEMNQ    0.523171\n",
       "5S9qsoHWUcMeahMtBwuX3g    0.522551\n",
       "2QkokcNKpgUG-Suif3JKJg    0.522199\n",
       "0hJChgGIqzg5JQkwvcnLZw    0.522095\n",
       "2IaQQuZtbZKhOcNwYJOVuQ    0.521825\n",
       "1Ofs7rMHcd6UrbyF-QWk2w    0.520913\n",
       "QGHqcWMrAQg7d1rwY1Xyuw    0.520325\n",
       "MKUv9aV4Aq6fmNeFHQjqPQ    0.519435\n",
       "KK_2vxqNug1wQhVo22soQw    0.518459\n",
       "Kq4cVcc_g8amBkHe5dJ01A    0.517972\n",
       "NlvWKd0eF3QEpgd9mlcOaw    0.516556\n",
       "6X4f6bB9XQ1H0qtz1eUaFg    0.512733\n",
       "akmkd_2iLRrbOyPBfYLN0A    0.511475\n",
       "KcI2VGSvRhLAmw6vZrc8WQ    0.506083\n",
       "w_e0D3ON-y5-gd5UTNyQFg    0.505976\n",
       "KzFKfC6q_s7i6mUt8Q43FA    0.503906\n",
       "SiFloh5xminiR6GopZINRA    0.502604\n",
       "KsQQOQ3ngmh_Yk6RmTo2ug    0.501805\n",
       "wSWDShwN69X58ydFJkIeDQ    0.500000\n",
       "lHhUQlEu8ZFW6fyu2rwBBQ    0.500000\n",
       "fbI36KFLubq5adz8lzX3Rg    0.496914\n",
       "Y0aovX_kbraKpdLYCzVHKA    0.495526\n",
       "4kfvccmKDUgCXu_jLYm5dQ    0.494673\n",
       "-ZVmHZcdn_OH52QWwSMimA    0.494145\n",
       "O_KD0lyV0VlwMdPF2k6lqA    0.490716\n",
       "k5BJbz43TUKOBygmatgehA    0.477419\n",
       "8qe2c5uRlAkvNFvDriBm1Q    0.471274\n",
       "_Pcu--HeFV94yAgHHdBQbQ    0.469522\n",
       "CJWaJ8MfppMDGCiMXyl0pg    0.466955\n",
       "VkuUr9DO7eefmsFQ_fEJTA    0.440887\n",
       "Name: lexical_diversity, Length: 6403, dtype: float64"
      ]
     },
     "execution_count": 10,
     "metadata": {},
     "output_type": "execute_result"
    }
   ],
   "source": [
    "yelp.groupby('user_id').lexical_diversity.mean().sort_values(ascending=False)"
   ]
  },
  {
   "cell_type": "code",
   "execution_count": 11,
   "metadata": {},
   "outputs": [
    {
     "data": {
      "text/html": [
       "<div>\n",
       "<style scoped>\n",
       "    .dataframe tbody tr th:only-of-type {\n",
       "        vertical-align: middle;\n",
       "    }\n",
       "\n",
       "    .dataframe tbody tr th {\n",
       "        vertical-align: top;\n",
       "    }\n",
       "\n",
       "    .dataframe thead th {\n",
       "        text-align: right;\n",
       "    }\n",
       "</style>\n",
       "<table border=\"1\" class=\"dataframe\">\n",
       "  <thead>\n",
       "    <tr style=\"text-align: right;\">\n",
       "      <th></th>\n",
       "      <th>business_id</th>\n",
       "      <th>date</th>\n",
       "      <th>stars</th>\n",
       "      <th>text</th>\n",
       "      <th>type</th>\n",
       "      <th>user_id</th>\n",
       "      <th>cool</th>\n",
       "      <th>useful</th>\n",
       "      <th>funny</th>\n",
       "      <th>text_count</th>\n",
       "      <th>word_count</th>\n",
       "      <th>average_word_length</th>\n",
       "      <th>words</th>\n",
       "      <th>distinct_word_count</th>\n",
       "      <th>lexical_diversity</th>\n",
       "    </tr>\n",
       "    <tr>\n",
       "      <th>review_id</th>\n",
       "      <th></th>\n",
       "      <th></th>\n",
       "      <th></th>\n",
       "      <th></th>\n",
       "      <th></th>\n",
       "      <th></th>\n",
       "      <th></th>\n",
       "      <th></th>\n",
       "      <th></th>\n",
       "      <th></th>\n",
       "      <th></th>\n",
       "      <th></th>\n",
       "      <th></th>\n",
       "      <th></th>\n",
       "      <th></th>\n",
       "    </tr>\n",
       "  </thead>\n",
       "  <tbody>\n",
       "    <tr>\n",
       "      <th>3vLZq2teUIqXnpnWWRNnNA</th>\n",
       "      <td>LzpR_jE6VIutJ08s2cdRrw</td>\n",
       "      <td>2010-05-01</td>\n",
       "      <td>3</td>\n",
       "      <td>My boyfriend and I had heard about the great f...</td>\n",
       "      <td>review</td>\n",
       "      <td>VkuUr9DO7eefmsFQ_fEJTA</td>\n",
       "      <td>0</td>\n",
       "      <td>0</td>\n",
       "      <td>0</td>\n",
       "      <td>4119</td>\n",
       "      <td>812</td>\n",
       "      <td>5.07266</td>\n",
       "      <td>[My, boyfriend, and, I, had, heard, about, the...</td>\n",
       "      <td>358</td>\n",
       "      <td>0.440887</td>\n",
       "    </tr>\n",
       "  </tbody>\n",
       "</table>\n",
       "</div>"
      ],
      "text/plain": [
       "                                   business_id       date  stars  \\\n",
       "review_id                                                          \n",
       "3vLZq2teUIqXnpnWWRNnNA  LzpR_jE6VIutJ08s2cdRrw 2010-05-01      3   \n",
       "\n",
       "                                                                     text  \\\n",
       "review_id                                                                   \n",
       "3vLZq2teUIqXnpnWWRNnNA  My boyfriend and I had heard about the great f...   \n",
       "\n",
       "                          type                 user_id  cool  useful  funny  \\\n",
       "review_id                                                                     \n",
       "3vLZq2teUIqXnpnWWRNnNA  review  VkuUr9DO7eefmsFQ_fEJTA     0       0      0   \n",
       "\n",
       "                        text_count  word_count  average_word_length  \\\n",
       "review_id                                                             \n",
       "3vLZq2teUIqXnpnWWRNnNA        4119         812              5.07266   \n",
       "\n",
       "                                                                    words  \\\n",
       "review_id                                                                   \n",
       "3vLZq2teUIqXnpnWWRNnNA  [My, boyfriend, and, I, had, heard, about, the...   \n",
       "\n",
       "                        distinct_word_count  lexical_diversity  \n",
       "review_id                                                       \n",
       "3vLZq2teUIqXnpnWWRNnNA                  358           0.440887  "
      ]
     },
     "execution_count": 11,
     "metadata": {},
     "output_type": "execute_result"
    }
   ],
   "source": [
    "yelp[yelp.user_id == 'VkuUr9DO7eefmsFQ_fEJTA']"
   ]
  },
  {
   "cell_type": "code",
   "execution_count": null,
   "metadata": {},
   "outputs": [],
   "source": []
  },
  {
   "cell_type": "code",
   "execution_count": 12,
   "metadata": {},
   "outputs": [],
   "source": [
    "# Visualise with word clouds? Any other diagrams you want to make?"
   ]
  },
  {
   "cell_type": "code",
   "execution_count": 13,
   "metadata": {},
   "outputs": [],
   "source": [
    "import wordcloud"
   ]
  },
  {
   "cell_type": "code",
   "execution_count": 14,
   "metadata": {},
   "outputs": [],
   "source": [
    "w = wordcloud.WordCloud()"
   ]
  },
  {
   "cell_type": "code",
   "execution_count": 15,
   "metadata": {},
   "outputs": [
    {
     "data": {
      "text/plain": [
       "<wordcloud.wordcloud.WordCloud at 0x1d6f622e5f8>"
      ]
     },
     "execution_count": 15,
     "metadata": {},
     "output_type": "execute_result"
    }
   ],
   "source": [
    "w.generate(\"\\n\".join(yelp.text))"
   ]
  },
  {
   "cell_type": "code",
   "execution_count": 16,
   "metadata": {},
   "outputs": [
    {
     "data": {
      "image/png": "[encoded data removed]",
      "text/plain": [
       "<PIL.Image.Image image mode=RGB size=400x200 at 0x1D6F70029B0>"
      ]
     },
     "execution_count": 16,
     "metadata": {},
     "output_type": "execute_result"
    }
   ],
   "source": [
    "w.to_image()"
   ]
  },
  {
   "cell_type": "markdown",
   "metadata": {},
   "source": [
    "<a id='stopwords'></a>\n",
    "\n",
    "### Stop-Word Removal\n",
    "\n",
    "- **What:** This process is used to remove common words that will likely appear in any text.\n",
    "- **Why:** Because common words exist in most documents, they likely only add noise to your model and should be removed.\n",
    "\n",
    "**What are stop words?**\n",
    "Stop words are some of the most common words in a language. They are used so that a sentence makes sense grammatically, such as prepositions and determiners, e.g., \"to,\" \"the,\" \"and.\" However, they are so commonly used that they are generally worthless for predicting the class of a document. Since \"a\" appears in spam and non-spam emails, for example, it would only contribute noise to our model.\n",
    "\n",
    "Example: \n",
    "\n",
    "> 1. Original sentence: \"The dog jumped over the fence\"  \n",
    "> 2. After stop-word removal: \"dog jumped over fence\"\n",
    "\n",
    "The fact that there is a fence and a dog jumped over it can be derived with or without stop words."
   ]
  },
  {
   "cell_type": "code",
   "execution_count": 17,
   "metadata": {
    "scrolled": true
   },
   "outputs": [
    {
     "data": {
      "image/png": "[encoded data removed]",
      "text/plain": [
       "<PIL.Image.Image image mode=RGB size=400x200 at 0x1D6F7005908>"
      ]
     },
     "execution_count": 17,
     "metadata": {},
     "output_type": "execute_result"
    }
   ],
   "source": [
    "w = wordcloud.WordCloud(stopwords=['place'])\n",
    "w.generate(\"\\n\".join(yelp.text))\n",
    "w.to_image()"
   ]
  },
  {
   "cell_type": "code",
   "execution_count": 18,
   "metadata": {},
   "outputs": [],
   "source": [
    "import nltk"
   ]
  },
  {
   "cell_type": "code",
   "execution_count": 19,
   "metadata": {},
   "outputs": [
    {
     "data": {
      "image/png": "[encoded data removed]",
      "text/plain": [
       "<PIL.Image.Image image mode=RGB size=400x200 at 0x1D68A431AC8>"
      ]
     },
     "execution_count": 19,
     "metadata": {},
     "output_type": "execute_result"
    }
   ],
   "source": [
    "w = wordcloud.WordCloud(stopwords=['place'] + nltk.corpus.stopwords.words('english'))\n",
    "w.generate(\"\\n\".join(yelp.text))\n",
    "w.to_image() "
   ]
  },
  {
   "cell_type": "code",
   "execution_count": null,
   "metadata": {},
   "outputs": [],
   "source": []
  },
  {
   "cell_type": "code",
   "execution_count": 20,
   "metadata": {},
   "outputs": [],
   "source": [
    "# What do you want to predict?"
   ]
  },
  {
   "cell_type": "code",
   "execution_count": 21,
   "metadata": {},
   "outputs": [
    {
     "data": {
      "text/plain": [
       "<matplotlib.axes._subplots.AxesSubplot at 0x1d6f7029278>"
      ]
     },
     "execution_count": 21,
     "metadata": {},
     "output_type": "execute_result"
    },
    {
     "data": {
      "image/png": "[encoded data removed]",
      "text/plain": [
       "<Figure size 432x288 with 1 Axes>"
      ]
     },
     "metadata": {
      "needs_background": "light"
     },
     "output_type": "display_data"
    }
   ],
   "source": [
    "yelp.stars.plot.hist()"
   ]
  },
  {
   "cell_type": "code",
   "execution_count": 22,
   "metadata": {},
   "outputs": [],
   "source": [
    "def stars2feedback(number_of_stars):\n",
    "    if number_of_stars == 3:\n",
    "        return 'neutral'\n",
    "    if number_of_stars > 3:\n",
    "        return 'happy'\n",
    "    if number_of_stars < 3: \n",
    "        return 'sad'\n",
    "\n",
    "yelp['feedback'] = yelp.stars.map(stars2feedback)"
   ]
  },
  {
   "cell_type": "code",
   "execution_count": 23,
   "metadata": {},
   "outputs": [
    {
     "data": {
      "text/plain": [
       "happy      6863\n",
       "sad        1676\n",
       "neutral    1461\n",
       "Name: feedback, dtype: int64"
      ]
     },
     "execution_count": 23,
     "metadata": {},
     "output_type": "execute_result"
    }
   ],
   "source": [
    "yelp.feedback.value_counts()"
   ]
  },
  {
   "cell_type": "code",
   "execution_count": 24,
   "metadata": {},
   "outputs": [
    {
     "data": {
      "image/png": "[encoded data removed]",
      "text/plain": [
       "<PIL.Image.Image image mode=RGB size=400x200 at 0x1D68A956080>"
      ]
     },
     "execution_count": 24,
     "metadata": {},
     "output_type": "execute_result"
    }
   ],
   "source": [
    "w = wordcloud.WordCloud(stopwords=['place'] + nltk.corpus.stopwords.words('english'))\n",
    "w.generate(\"\\n\".join(yelp.text[yelp.feedback == 'happy']))\n",
    "w.to_image() "
   ]
  },
  {
   "cell_type": "code",
   "execution_count": 25,
   "metadata": {},
   "outputs": [
    {
     "data": {
      "image/png": "[encoded data removed]",
      "text/plain": [
       "<PIL.Image.Image image mode=RGB size=400x200 at 0x1D6F7029860>"
      ]
     },
     "execution_count": 25,
     "metadata": {},
     "output_type": "execute_result"
    }
   ],
   "source": [
    "w = wordcloud.WordCloud(stopwords=['place'] + nltk.corpus.stopwords.words('english'))\n",
    "w.generate(\"\\n\".join(yelp.text[yelp.feedback == 'sad']))\n",
    "w.to_image() "
   ]
  },
  {
   "cell_type": "code",
   "execution_count": 26,
   "metadata": {},
   "outputs": [],
   "source": [
    "# add whatever features you want to add, do a train-test split, etc."
   ]
  },
  {
   "cell_type": "code",
   "execution_count": 27,
   "metadata": {},
   "outputs": [],
   "source": [
    "import sklearn.model_selection\n",
    "Xtrain, Xtest, Ytrain, Ytest =  sklearn.model_selection.train_test_split(yelp.text, yelp.feedback,\n",
    "                                                                        random_state=3334)"
   ]
  },
  {
   "cell_type": "markdown",
   "metadata": {},
   "source": [
    "<a id='text_class'></a>\n",
    "\n",
    "\n",
    "# Introduction: Text Classification"
   ]
  },
  {
   "cell_type": "markdown",
   "metadata": {},
   "source": [
    "As you proceed through this section, note that text classification is done in the same way as all other \n",
    "classification models. \n",
    "\n",
    "First, the **text is vectorized into a set of numeric features**.\n",
    "\n",
    "- Bag of words?\n",
    "- Bag of n-grams?\n",
    "- Weighted words or ngrams?\n",
    "- Dimensionality reduced skip-gram (e.g. Glove, BERT)\n"
   ]
  },
  {
   "cell_type": "markdown",
   "metadata": {},
   "source": [
    "Then, a standard machine learning classifier is applied. NLP libraries often include vectorizers and ML models that work particularly well with text.\n",
    "\n",
    "> We will refer to each piece of text we are trying to classify as a document.\n",
    "> - For example, a document could refer to an email, book chapter, tweet, article, or text message.\n",
    "\n",
    "**Text classification is the task of predicting which category or topic a text sample is from.**\n",
    "\n",
    "We may want to identify:\n",
    "- Is an article a sports or business story?\n",
    "- Does an email have positive or negative sentiment?\n",
    "- Is the rating of a recipe 1, 2, 3, 4, or 5 stars?\n",
    "\n",
    "**Predictions are often made by using the words as features and the label as the target output.**\n",
    "\n",
    "Starting out, we will make each unique word (across all documents) a single feature. In any given corpora, we may have hundreds of thousands of unique words, so we may have hundreds of thousands of features!\n",
    "\n",
    "- For a given document, the numeric value of each feature could be the number of times the word appears in the document.\n",
    "    - So, most features will have a value of zero, resulting in a sparse matrix of features.\n",
    "\n",
    "- This technique for vectorizing text is referred to as a bag-of-words model. \n",
    "    - It is called bag of words because the document's structure is lost — as if the words are all jumbled up in a bag.\n",
    "    - The first step to creating a bag-of-words model is to create a vocabulary of all possible words in the corpora.\n",
    "\n",
    "> Alternatively, we could make each column an indicator column, which is 1 if the word is present in the document (no matter how many times) and 0 if not. This vectorization could be used to reduce the importance of repeated words. For example, a website search engine would be susceptible to spammers who load websites with repeated words. So, the search engine might use indicator columns as features rather than word counts.\n",
    "\n",
    "**We need to consider several things to decide if bag-of-words is appropriate.**\n",
    "\n",
    "- Does order of words matter?\n",
    "- Does punctuation matter?\n",
    "- Does upper or lower case matter?"
   ]
  },
  {
   "cell_type": "code",
   "execution_count": null,
   "metadata": {},
   "outputs": [],
   "source": []
  },
  {
   "cell_type": "code",
   "execution_count": null,
   "metadata": {},
   "outputs": [],
   "source": []
  },
  {
   "cell_type": "markdown",
   "metadata": {},
   "source": [
    "<a id='countvectorizer-model'></a>\n",
    "\n",
    "\n",
    "### Using CountVectorizer in a Model\n",
    "![DTM](images/DTM.png)"
   ]
  },
  {
   "cell_type": "code",
   "execution_count": 28,
   "metadata": {},
   "outputs": [],
   "source": [
    "count_vectorizer = sklearn.feature_extraction.text.CountVectorizer(min_df=3, \n",
    "                                                                   token_pattern='(?u)\\\\b[a-z]{3,}\\\\b')"
   ]
  },
  {
   "cell_type": "code",
   "execution_count": 29,
   "metadata": {},
   "outputs": [],
   "source": [
    "sklearn.feature_extraction.text.CountVectorizer?"
   ]
  },
  {
   "cell_type": "code",
   "execution_count": 30,
   "metadata": {},
   "outputs": [
    {
     "data": {
      "text/plain": [
       "<7500x10216 sparse matrix of type '<class 'numpy.int64'>'\n",
       "\twith 524775 stored elements in Compressed Sparse Row format>"
      ]
     },
     "execution_count": 30,
     "metadata": {},
     "output_type": "execute_result"
    }
   ],
   "source": [
    "vecTrain = count_vectorizer.fit_transform(Xtrain)\n",
    "vecTrain"
   ]
  },
  {
   "cell_type": "code",
   "execution_count": 31,
   "metadata": {},
   "outputs": [
    {
     "data": {
      "text/plain": [
       "['aaron',\n",
       " 'abandoned',\n",
       " 'abc',\n",
       " 'abilities',\n",
       " 'ability',\n",
       " 'able',\n",
       " 'abode',\n",
       " 'abound',\n",
       " 'about',\n",
       " 'above',\n",
       " 'abroad',\n",
       " 'absence',\n",
       " 'absent',\n",
       " 'absolute',\n",
       " 'absolutely',\n",
       " 'absolutly',\n",
       " 'absurd',\n",
       " 'abundance',\n",
       " 'abysmal',\n",
       " 'acai',\n",
       " 'accent',\n",
       " 'accented',\n",
       " 'accents',\n",
       " 'accept',\n",
       " 'acceptable',\n",
       " 'accepted',\n",
       " 'accepting',\n",
       " 'access',\n",
       " 'accessible',\n",
       " 'accessories',\n",
       " 'accident',\n",
       " 'accidentally',\n",
       " 'accolades',\n",
       " 'accommodate',\n",
       " 'accommodated',\n",
       " 'accommodating',\n",
       " 'accommodation',\n",
       " 'accommodations',\n",
       " 'accomodate',\n",
       " 'accomodated',\n",
       " 'accomodating',\n",
       " 'accompanied',\n",
       " 'accompaniment',\n",
       " 'accompaniments',\n",
       " 'accompany',\n",
       " 'accompanying',\n",
       " 'accomplish',\n",
       " 'accomplished',\n",
       " 'accomplishment',\n",
       " 'according',\n",
       " 'accordingly',\n",
       " 'account',\n",
       " 'accross',\n",
       " 'accurate',\n",
       " 'accused',\n",
       " 'accustomed',\n",
       " 'ace',\n",
       " 'ache',\n",
       " 'achieve',\n",
       " 'achieved',\n",
       " 'acidic',\n",
       " 'acknowledge',\n",
       " 'acknowledged',\n",
       " 'acknowledging',\n",
       " 'acoustic',\n",
       " 'acoustics',\n",
       " 'acquaintance',\n",
       " 'acquired',\n",
       " 'across',\n",
       " 'act',\n",
       " 'acted',\n",
       " 'acting',\n",
       " 'action',\n",
       " 'active',\n",
       " 'activities',\n",
       " 'activity',\n",
       " 'actor',\n",
       " 'actors',\n",
       " 'acts',\n",
       " 'actual',\n",
       " 'actually',\n",
       " 'adam',\n",
       " 'adams',\n",
       " 'add',\n",
       " 'added',\n",
       " 'addict',\n",
       " 'addicted',\n",
       " 'addicting',\n",
       " 'addiction',\n",
       " 'addictive',\n",
       " 'adding',\n",
       " 'addition',\n",
       " 'additional',\n",
       " 'additionally',\n",
       " 'additions',\n",
       " 'address',\n",
       " 'addressed',\n",
       " 'adds',\n",
       " 'adequate',\n",
       " 'adequately',\n",
       " 'adjacent',\n",
       " 'adjoining',\n",
       " 'adjust',\n",
       " 'admirable',\n",
       " 'admission',\n",
       " 'admit',\n",
       " 'admitted',\n",
       " 'admittedly',\n",
       " 'adobada',\n",
       " 'adobe',\n",
       " 'adobo',\n",
       " 'adopted',\n",
       " 'adorable',\n",
       " 'adore',\n",
       " 'adored',\n",
       " 'adovada',\n",
       " 'adult',\n",
       " 'adults',\n",
       " 'advance',\n",
       " 'advanced',\n",
       " 'advantage',\n",
       " 'adventure',\n",
       " 'adventures',\n",
       " 'adventurous',\n",
       " 'adverse',\n",
       " 'advertise',\n",
       " 'advertised',\n",
       " 'advertising',\n",
       " 'advice',\n",
       " 'advise',\n",
       " 'advised',\n",
       " 'aerobics',\n",
       " 'aesthetics',\n",
       " 'affair',\n",
       " 'affect',\n",
       " 'affected',\n",
       " 'afford',\n",
       " 'affordable',\n",
       " 'afloat',\n",
       " 'aforementioned',\n",
       " 'afraid',\n",
       " 'african',\n",
       " 'after',\n",
       " 'afterall',\n",
       " 'afternoon',\n",
       " 'afternoons',\n",
       " 'aftertaste',\n",
       " 'afterthought',\n",
       " 'afterward',\n",
       " 'afterwards',\n",
       " 'again',\n",
       " 'against',\n",
       " 'agave',\n",
       " 'age',\n",
       " 'aged',\n",
       " 'agent',\n",
       " 'agents',\n",
       " 'ages',\n",
       " 'aggressive',\n",
       " 'aging',\n",
       " 'ago',\n",
       " 'agree',\n",
       " 'agreeable',\n",
       " 'agreed',\n",
       " 'agreement',\n",
       " 'agrees',\n",
       " 'agua',\n",
       " 'ahead',\n",
       " 'ahh',\n",
       " 'ahhh',\n",
       " 'ahi',\n",
       " 'ahwatukee',\n",
       " 'aid',\n",
       " 'aiello',\n",
       " 'aims',\n",
       " 'ain',\n",
       " 'aint',\n",
       " 'aioli',\n",
       " 'air',\n",
       " 'aired',\n",
       " 'airline',\n",
       " 'airlines',\n",
       " 'airpark',\n",
       " 'airport',\n",
       " 'airports',\n",
       " 'airways',\n",
       " 'airy',\n",
       " 'aisle',\n",
       " 'aisles',\n",
       " 'aji',\n",
       " 'ajo',\n",
       " 'ajs',\n",
       " 'aka',\n",
       " 'ala',\n",
       " 'alas',\n",
       " 'alaska',\n",
       " 'alaskan',\n",
       " 'albacore',\n",
       " 'albeit',\n",
       " 'albert',\n",
       " 'albertsons',\n",
       " 'albums',\n",
       " 'alcohol',\n",
       " 'alcoholic',\n",
       " 'ale',\n",
       " 'alert',\n",
       " 'ales',\n",
       " 'alex',\n",
       " 'alfredo',\n",
       " 'algae',\n",
       " 'ali',\n",
       " 'alice',\n",
       " 'alike',\n",
       " 'alive',\n",
       " 'all',\n",
       " 'alla',\n",
       " 'allergic',\n",
       " 'allergies',\n",
       " 'allergy',\n",
       " 'alley',\n",
       " 'alligator',\n",
       " 'allot',\n",
       " 'allow',\n",
       " 'allowed',\n",
       " 'allowing',\n",
       " 'allows',\n",
       " 'allure',\n",
       " 'almond',\n",
       " 'almonds',\n",
       " 'almost',\n",
       " 'aloha',\n",
       " 'alone',\n",
       " 'along',\n",
       " 'alongside',\n",
       " 'alot',\n",
       " 'already',\n",
       " 'alright',\n",
       " 'also',\n",
       " 'altered',\n",
       " 'alternate',\n",
       " 'alternative',\n",
       " 'alternatives',\n",
       " 'although',\n",
       " 'altogether',\n",
       " 'aluminum',\n",
       " 'always',\n",
       " 'amanda',\n",
       " 'amateur',\n",
       " 'amaze',\n",
       " 'amazed',\n",
       " 'amazing',\n",
       " 'amazingly',\n",
       " 'amber',\n",
       " 'ambiance',\n",
       " 'ambience',\n",
       " 'ambient',\n",
       " 'ambrosia',\n",
       " 'amc',\n",
       " 'amenities',\n",
       " 'america',\n",
       " 'american',\n",
       " 'americana',\n",
       " 'americanized',\n",
       " 'americano',\n",
       " 'americans',\n",
       " 'amex',\n",
       " 'amidst',\n",
       " 'amigos',\n",
       " 'among',\n",
       " 'amongst',\n",
       " 'amore',\n",
       " 'amount',\n",
       " 'amounts',\n",
       " 'ample',\n",
       " 'amuse',\n",
       " 'amused',\n",
       " 'amusing',\n",
       " 'amy',\n",
       " 'anaheim',\n",
       " 'anal',\n",
       " 'analysis',\n",
       " 'ancho',\n",
       " 'anchovies',\n",
       " 'ancient',\n",
       " 'and',\n",
       " 'andouille',\n",
       " 'andre',\n",
       " 'andrea',\n",
       " 'andrew',\n",
       " 'andy',\n",
       " 'angel',\n",
       " 'angela',\n",
       " 'angeles',\n",
       " 'angels',\n",
       " 'anglaise',\n",
       " 'angle',\n",
       " 'angles',\n",
       " 'angry',\n",
       " 'angus',\n",
       " 'animal',\n",
       " 'animals',\n",
       " 'anise',\n",
       " 'ankle',\n",
       " 'ann',\n",
       " 'annie',\n",
       " 'anniversary',\n",
       " 'announced',\n",
       " 'annoy',\n",
       " 'annoyance',\n",
       " 'annoyances',\n",
       " 'annoyed',\n",
       " 'annoying',\n",
       " 'annoyingly',\n",
       " 'annual',\n",
       " 'another',\n",
       " 'answer',\n",
       " 'answered',\n",
       " 'answering',\n",
       " 'answers',\n",
       " 'anthem',\n",
       " 'anthony',\n",
       " 'anti',\n",
       " 'anticipate',\n",
       " 'anticipated',\n",
       " 'anticipating',\n",
       " 'antipasti',\n",
       " 'antipasto',\n",
       " 'antique',\n",
       " 'antiques',\n",
       " 'ants',\n",
       " 'anxiety',\n",
       " 'anxious',\n",
       " 'anxiously',\n",
       " 'any',\n",
       " 'anybody',\n",
       " 'anyday',\n",
       " 'anyhoo',\n",
       " 'anyhow',\n",
       " 'anymore',\n",
       " 'anyone',\n",
       " 'anything',\n",
       " 'anytime',\n",
       " 'anyway',\n",
       " 'anyways',\n",
       " 'anywhere',\n",
       " 'anywho',\n",
       " 'apache',\n",
       " 'apart',\n",
       " 'apartment',\n",
       " 'apartments',\n",
       " 'apollo',\n",
       " 'apologetic',\n",
       " 'apologies',\n",
       " 'apologize',\n",
       " 'apologized',\n",
       " 'apologizing',\n",
       " 'apology',\n",
       " 'app',\n",
       " 'apparel',\n",
       " 'apparent',\n",
       " 'apparently',\n",
       " 'appeal',\n",
       " 'appealing',\n",
       " 'appeals',\n",
       " 'appear',\n",
       " 'appearance',\n",
       " 'appeared',\n",
       " 'appears',\n",
       " 'appetite',\n",
       " 'appetizer',\n",
       " 'appetizers',\n",
       " 'appetizing',\n",
       " 'applaud',\n",
       " 'apple',\n",
       " 'applebee',\n",
       " 'applebees',\n",
       " 'apples',\n",
       " 'applewood',\n",
       " 'appliances',\n",
       " 'applied',\n",
       " 'apply',\n",
       " 'applying',\n",
       " 'appointed',\n",
       " 'appointment',\n",
       " 'appointments',\n",
       " 'appreciate',\n",
       " 'appreciated',\n",
       " 'appreciation',\n",
       " 'appreciative',\n",
       " 'apprehensive',\n",
       " 'approach',\n",
       " 'approachable',\n",
       " 'approached',\n",
       " 'approaches',\n",
       " 'approaching',\n",
       " 'appropriate',\n",
       " 'appropriately',\n",
       " 'approval',\n",
       " 'approve',\n",
       " 'approx',\n",
       " 'approximately',\n",
       " 'apps',\n",
       " 'appt',\n",
       " 'apricot',\n",
       " 'april',\n",
       " 'apron',\n",
       " 'apt',\n",
       " 'aqua',\n",
       " 'aquarium',\n",
       " 'arcade',\n",
       " 'arcadia',\n",
       " 'arches',\n",
       " 'architect',\n",
       " 'architecture',\n",
       " 'are',\n",
       " 'area',\n",
       " 'areas',\n",
       " 'aren',\n",
       " 'arena',\n",
       " 'arent',\n",
       " 'argentinian',\n",
       " 'argue',\n",
       " 'argued',\n",
       " 'arguing',\n",
       " 'argument',\n",
       " 'arizona',\n",
       " 'arizonians',\n",
       " 'arlecchino',\n",
       " 'arm',\n",
       " 'armed',\n",
       " 'armor',\n",
       " 'armour',\n",
       " 'arms',\n",
       " 'army',\n",
       " 'arnold',\n",
       " 'aroma',\n",
       " 'around',\n",
       " 'arranged',\n",
       " 'arrangement',\n",
       " 'arrangements',\n",
       " 'array',\n",
       " 'arriba',\n",
       " 'arrival',\n",
       " 'arrive',\n",
       " 'arrived',\n",
       " 'arrives',\n",
       " 'arriving',\n",
       " 'arrogant',\n",
       " 'arrowhead',\n",
       " 'art',\n",
       " 'artery',\n",
       " 'artichoke',\n",
       " 'artichokes',\n",
       " 'article',\n",
       " 'articles',\n",
       " 'artifacts',\n",
       " 'artificial',\n",
       " 'artisan',\n",
       " 'artist',\n",
       " 'artistic',\n",
       " 'artistry',\n",
       " 'artists',\n",
       " 'artois',\n",
       " 'arts',\n",
       " 'artsy',\n",
       " 'artwork',\n",
       " 'arugula',\n",
       " 'asada',\n",
       " 'asado',\n",
       " 'asahi',\n",
       " 'asap',\n",
       " 'ashamed',\n",
       " 'asiago',\n",
       " 'asian',\n",
       " 'asians',\n",
       " 'aside',\n",
       " 'ask',\n",
       " 'asked',\n",
       " 'asking',\n",
       " 'asks',\n",
       " 'asleep',\n",
       " 'asparagus',\n",
       " 'aspect',\n",
       " 'aspects',\n",
       " 'ass',\n",
       " 'assed',\n",
       " 'assemble',\n",
       " 'asses',\n",
       " 'assessment',\n",
       " 'asset',\n",
       " 'asshole',\n",
       " 'assigned',\n",
       " 'assignment',\n",
       " 'assistance',\n",
       " 'assistant',\n",
       " 'assisted',\n",
       " 'associate',\n",
       " 'associated',\n",
       " 'associates',\n",
       " 'assorted',\n",
       " 'assortment',\n",
       " 'assume',\n",
       " 'assumed',\n",
       " 'assuming',\n",
       " 'assumption',\n",
       " 'assure',\n",
       " 'assured',\n",
       " 'assuredly',\n",
       " 'astounding',\n",
       " 'asu',\n",
       " 'ate',\n",
       " 'athletes',\n",
       " 'atlanta',\n",
       " 'atlantic',\n",
       " 'atleast',\n",
       " 'atm',\n",
       " 'atmosphere',\n",
       " 'atomic',\n",
       " 'atop',\n",
       " 'atoyac',\n",
       " 'atrium',\n",
       " 'atrocious',\n",
       " 'attached',\n",
       " 'attack',\n",
       " 'attempt',\n",
       " 'attempted',\n",
       " 'attempting',\n",
       " 'attempts',\n",
       " 'attend',\n",
       " 'attendant',\n",
       " 'attendants',\n",
       " 'attended',\n",
       " 'attendees',\n",
       " 'attending',\n",
       " 'attention',\n",
       " 'attentive',\n",
       " 'attentiveness',\n",
       " 'attest',\n",
       " 'attic',\n",
       " 'attire',\n",
       " 'attitude',\n",
       " 'attitudes',\n",
       " 'attract',\n",
       " 'attracted',\n",
       " 'attraction',\n",
       " 'attractions',\n",
       " 'attractive',\n",
       " 'attracts',\n",
       " 'audacity',\n",
       " 'audience',\n",
       " 'audrey',\n",
       " 'aug',\n",
       " 'august',\n",
       " 'aunt',\n",
       " 'austin',\n",
       " 'authentic',\n",
       " 'authentically',\n",
       " 'authenticity',\n",
       " 'authority',\n",
       " 'auto',\n",
       " 'automatic',\n",
       " 'automatically',\n",
       " 'autumn',\n",
       " 'avacado',\n",
       " 'availability',\n",
       " 'available',\n",
       " 'ave',\n",
       " 'avenue',\n",
       " 'average',\n",
       " 'averaged',\n",
       " 'averages',\n",
       " 'avid',\n",
       " 'avocado',\n",
       " 'avocados',\n",
       " 'avoid',\n",
       " 'avoided',\n",
       " 'avoiding',\n",
       " 'awaited',\n",
       " 'awaiting',\n",
       " 'awake',\n",
       " 'award',\n",
       " 'awarded',\n",
       " 'awards',\n",
       " 'aware',\n",
       " 'awareness',\n",
       " 'away',\n",
       " 'awesome',\n",
       " 'awesomely',\n",
       " 'awesomeness',\n",
       " 'awful',\n",
       " 'awfully',\n",
       " 'awhile',\n",
       " 'awkward',\n",
       " 'awsome',\n",
       " 'axis',\n",
       " 'ayce',\n",
       " 'baba',\n",
       " 'babbo',\n",
       " 'babies',\n",
       " 'baby',\n",
       " 'babysitter',\n",
       " 'bachelorette',\n",
       " 'back',\n",
       " 'backdrop',\n",
       " 'backed',\n",
       " 'background',\n",
       " 'backs',\n",
       " 'backside',\n",
       " 'backup',\n",
       " 'backwards',\n",
       " 'backyard',\n",
       " 'bacon',\n",
       " 'bad',\n",
       " 'badger',\n",
       " 'badly',\n",
       " 'baffled',\n",
       " 'bag',\n",
       " 'bagel',\n",
       " 'bagels',\n",
       " 'baggage',\n",
       " 'bagged',\n",
       " 'bags',\n",
       " 'baguette',\n",
       " 'bahama',\n",
       " 'bail',\n",
       " 'baileys',\n",
       " 'bait',\n",
       " 'baiz',\n",
       " 'baja',\n",
       " 'bake',\n",
       " 'baked',\n",
       " 'baker',\n",
       " 'bakeries',\n",
       " 'bakery',\n",
       " 'baking',\n",
       " 'baklava',\n",
       " 'balance',\n",
       " 'balanced',\n",
       " 'balancing',\n",
       " 'balcony',\n",
       " 'ball',\n",
       " 'ballet',\n",
       " 'ballpark',\n",
       " 'ballroom',\n",
       " 'balls',\n",
       " 'balsamic',\n",
       " 'bam',\n",
       " 'bamboo',\n",
       " 'banana',\n",
       " 'bananas',\n",
       " 'band',\n",
       " 'bandera',\n",
       " 'bandido',\n",
       " 'bands',\n",
       " 'bang',\n",
       " 'bangers',\n",
       " 'banging',\n",
       " 'bangs',\n",
       " 'banh',\n",
       " 'bank',\n",
       " 'banking',\n",
       " 'banner',\n",
       " 'banquet',\n",
       " 'banter',\n",
       " 'bar',\n",
       " 'barbacoa',\n",
       " 'barbecue',\n",
       " 'barbeque',\n",
       " 'barber',\n",
       " 'barbers',\n",
       " 'barcelona',\n",
       " 'bare',\n",
       " 'barely',\n",
       " 'bargain',\n",
       " 'bargains',\n",
       " 'barista',\n",
       " 'baristas',\n",
       " 'bark',\n",
       " 'barking',\n",
       " 'barn',\n",
       " 'barnes',\n",
       " 'barrel',\n",
       " 'barrels',\n",
       " 'barrier',\n",
       " 'barrio',\n",
       " 'barro',\n",
       " 'bars',\n",
       " 'bartender',\n",
       " 'bartenders',\n",
       " 'base',\n",
       " 'baseball',\n",
       " 'based',\n",
       " 'baseline',\n",
       " 'basement',\n",
       " 'bash',\n",
       " 'basha',\n",
       " 'bashas',\n",
       " 'basic',\n",
       " 'basically',\n",
       " 'basics',\n",
       " 'basil',\n",
       " 'basis',\n",
       " 'basket',\n",
       " 'basketball',\n",
       " 'baskets',\n",
       " 'baskin',\n",
       " 'basmati',\n",
       " 'bass',\n",
       " 'bastard',\n",
       " 'bastards',\n",
       " 'bat',\n",
       " 'batch',\n",
       " 'bath',\n",
       " 'bathed',\n",
       " 'bathing',\n",
       " 'bathroom',\n",
       " 'bathrooms',\n",
       " 'bathtub',\n",
       " 'batman',\n",
       " 'bats',\n",
       " 'batter',\n",
       " 'battered',\n",
       " 'batteries',\n",
       " 'battery',\n",
       " 'batting',\n",
       " 'battle',\n",
       " 'bay',\n",
       " 'bbq',\n",
       " 'bcs',\n",
       " 'bday',\n",
       " 'beach',\n",
       " 'beams',\n",
       " 'bean',\n",
       " 'beans',\n",
       " 'bear',\n",
       " 'bearable',\n",
       " 'beard',\n",
       " 'bearing',\n",
       " 'bears',\n",
       " 'beat',\n",
       " 'beaten',\n",
       " 'beaters',\n",
       " 'beating',\n",
       " 'beats',\n",
       " 'beau',\n",
       " 'beautiful',\n",
       " 'beautifully',\n",
       " 'beauty',\n",
       " 'beaver',\n",
       " 'became',\n",
       " 'because',\n",
       " 'beckett',\n",
       " 'beckoning',\n",
       " 'become',\n",
       " 'becomes',\n",
       " 'becoming',\n",
       " 'bed',\n",
       " 'bedroom',\n",
       " 'bedrooms',\n",
       " 'beds',\n",
       " 'bee',\n",
       " 'beef',\n",
       " 'beefy',\n",
       " 'been',\n",
       " 'beer',\n",
       " 'beers',\n",
       " 'bees',\n",
       " 'beet',\n",
       " 'beets',\n",
       " 'before',\n",
       " 'beforehand',\n",
       " 'began',\n",
       " 'begged',\n",
       " 'begging',\n",
       " 'begin',\n",
       " 'beginner',\n",
       " 'beginners',\n",
       " 'beginning',\n",
       " 'begins',\n",
       " 'begrudgingly',\n",
       " 'behalf',\n",
       " 'behave',\n",
       " 'behaved',\n",
       " 'behavior',\n",
       " 'behind',\n",
       " 'behold',\n",
       " 'beige',\n",
       " 'beignets',\n",
       " 'being',\n",
       " 'belgian',\n",
       " 'belgium',\n",
       " 'belief',\n",
       " 'believe',\n",
       " 'believed',\n",
       " 'believer',\n",
       " 'bell',\n",
       " 'bellini',\n",
       " 'bellinis',\n",
       " 'belly',\n",
       " 'belong',\n",
       " 'belongs',\n",
       " 'beloved',\n",
       " 'below',\n",
       " 'belt',\n",
       " 'belts',\n",
       " 'ben',\n",
       " 'bench',\n",
       " 'benches',\n",
       " 'bend',\n",
       " 'beneath',\n",
       " 'benedict',\n",
       " 'benefit',\n",
       " 'benefited',\n",
       " 'benefits',\n",
       " 'benny',\n",
       " 'bent',\n",
       " 'bento',\n",
       " 'beppo',\n",
       " 'berries',\n",
       " 'berry',\n",
       " 'berto',\n",
       " 'bertos',\n",
       " 'beside',\n",
       " 'besides',\n",
       " 'best',\n",
       " 'bet',\n",
       " 'better',\n",
       " 'betty',\n",
       " 'between',\n",
       " 'beverage',\n",
       " 'beverages',\n",
       " 'bevmo',\n",
       " 'bevy',\n",
       " 'beware',\n",
       " 'beyond',\n",
       " 'bff',\n",
       " 'bianca',\n",
       " 'bianco',\n",
       " 'biancoverde',\n",
       " 'bias',\n",
       " 'biased',\n",
       " 'bibimbap',\n",
       " 'bicycle',\n",
       " 'biersch',\n",
       " 'big',\n",
       " 'bigger',\n",
       " 'biggest',\n",
       " 'biggie',\n",
       " 'bike',\n",
       " 'bikers',\n",
       " 'bikes',\n",
       " 'biking',\n",
       " 'bikini',\n",
       " 'bill',\n",
       " 'billed',\n",
       " 'billiards',\n",
       " 'billing',\n",
       " 'bills',\n",
       " 'biltmore',\n",
       " 'bin',\n",
       " 'bins',\n",
       " 'bird',\n",
       " 'birds',\n",
       " 'birthday',\n",
       " 'birthdays',\n",
       " 'biryani',\n",
       " 'biscuit',\n",
       " 'biscuits',\n",
       " 'bison',\n",
       " 'bisque',\n",
       " 'bistro',\n",
       " 'bit',\n",
       " 'bitch',\n",
       " 'bite',\n",
       " 'bites',\n",
       " 'biting',\n",
       " 'bits',\n",
       " 'bitter',\n",
       " 'bitterness',\n",
       " 'biz',\n",
       " 'bizarre',\n",
       " 'black',\n",
       " 'blackberries',\n",
       " 'blackberry',\n",
       " 'blackened',\n",
       " 'bladder',\n",
       " 'blade',\n",
       " 'blah',\n",
       " 'blame',\n",
       " 'blamed',\n",
       " 'blanc',\n",
       " 'blanca',\n",
       " 'blanco',\n",
       " 'bland',\n",
       " 'blank',\n",
       " 'blanket',\n",
       " 'blaring',\n",
       " 'blase',\n",
       " 'blast',\n",
       " 'blasting',\n",
       " 'blatantly',\n",
       " 'blazin',\n",
       " 'blazing',\n",
       " 'bleached',\n",
       " 'blech',\n",
       " 'bleed',\n",
       " 'bleh',\n",
       " 'blend',\n",
       " 'blended',\n",
       " 'blending',\n",
       " 'blends',\n",
       " 'bless',\n",
       " 'blessings',\n",
       " 'bleu',\n",
       " 'blew',\n",
       " 'blimpie',\n",
       " 'blind',\n",
       " 'blinking',\n",
       " 'bliss',\n",
       " 'blissful',\n",
       " 'bloated',\n",
       " 'block',\n",
       " 'blockbuster',\n",
       " 'blocked',\n",
       " 'blocks',\n",
       " 'blog',\n",
       " 'blond',\n",
       " 'blonde',\n",
       " 'blood',\n",
       " 'bloody',\n",
       " 'bloom',\n",
       " 'blossom',\n",
       " 'blossoms',\n",
       " 'blow',\n",
       " 'blower',\n",
       " 'blowing',\n",
       " 'blown',\n",
       " 'blows',\n",
       " 'blt',\n",
       " 'blu',\n",
       " 'blue',\n",
       " 'blueberries',\n",
       " 'blueberry',\n",
       " 'blues',\n",
       " 'blunt',\n",
       " 'blvd',\n",
       " 'bmw',\n",
       " 'boa',\n",
       " 'boar',\n",
       " 'board',\n",
       " 'boarded',\n",
       " 'boarding',\n",
       " 'boards',\n",
       " 'boast',\n",
       " 'boasted',\n",
       " 'boasts',\n",
       " 'boat',\n",
       " 'boats',\n",
       " 'bob',\n",
       " 'boba',\n",
       " 'bobbie',\n",
       " 'bobby',\n",
       " 'bocca',\n",
       " 'bocce',\n",
       " 'body',\n",
       " 'bogo',\n",
       " 'boil',\n",
       " 'boiled',\n",
       " 'boiling',\n",
       " 'bold',\n",
       " 'bollywood',\n",
       " 'bolognese',\n",
       " 'bolt',\n",
       " 'bomb',\n",
       " 'bombay',\n",
       " 'bomber',\n",
       " 'bombers',\n",
       " 'bombs',\n",
       " 'bon',\n",
       " 'bone',\n",
       " 'boneless',\n",
       " 'bones',\n",
       " 'bonnie',\n",
       " 'bonus',\n",
       " 'boo',\n",
       " 'book',\n",
       " 'booked',\n",
       " 'booking',\n",
       " 'bookman',\n",
       " 'bookmans',\n",
       " 'books',\n",
       " 'bookstore',\n",
       " 'bookstores',\n",
       " 'boom',\n",
       " 'boombozz',\n",
       " 'booming',\n",
       " 'boost',\n",
       " 'boot',\n",
       " 'booth',\n",
       " 'booths',\n",
       " ...]"
      ]
     },
     "execution_count": 31,
     "metadata": {},
     "output_type": "execute_result"
    }
   ],
   "source": [
    "count_vectorizer.get_feature_names()"
   ]
  },
  {
   "cell_type": "code",
   "execution_count": 32,
   "metadata": {},
   "outputs": [
    {
     "data": {
      "text/plain": [
       "'Had some time to kill before the Ultimate pleY Date Yelp event, and I\\'d wanted to share my love of Nobuo\\'s Dark chocolate mousse with green tea ice cream and sugared orange peels with my happy-go-lucky cousin, who has never been here before, so we stopped by at 5:17p to find that Nobuo wouldn\\'t open till 5:30p, so we waited outside in the comfortable patio.\\r\\n\\r\\nAfter watching a couple of employees add lanterns to their outdoor umbrellaed tables, I noticed the \"OPEN\" sign on the front door, so we entered the resto, whereupon we were greeted warmly by a male host and shown to a two-top.  I didn\\'t like the energy in that room, so I asked if we could sit elsewhere, and he said to choose wherever we wanted to sit.  We were the first customers, so we chose a four-top, knowing we wouldn\\'t be taking up space for very long, anyway.  Glasses of water were delivered, and soon we met our female server (whose name on the receipt reflected \"Butai\").  When she laid down the menus, I told her we would only be having dessert and could we see the dessert menu?  I wished we had a video of the look she gave us, a look of pure distaste, as she gathered up the dinner and beverage menus and said \"We don\\'t have dessert menus, as we only have two...\" and proceeded to tell us of the mousse and the almond-orange fritters.  She walked away, and as we loudly discussed about our losing our interest in dining there, she came back with napkins and utensils and asked if we decided what we were going to have.  I decided to forgo our server\\'s very cold treatment and asked for the mousse.  After all, I\\'d already finished a glass of ice-cold water and cousin\\'s phone needed recharging...  \\r\\n\\r\\nWhen Butai placed our chocolate mousse http://www.yelp.com/biz_photos/0Buxoc0cRqjpvkezo3bqog?select=rK8m1rxl50PB69_c2YqQTg#rK8m1rxl50PB69_c2YqQTg on the table, I wanted to send it back.  Where was the lovely bowl and presentation of the last dessert I had here?  Was she serious in presenting us with this stale-looking mousse, with cracked edges and whose green tea ice cream had ice crystals on it?  I don\\'t know about you, but the only times I\\'ve seen crystals on ice cream is when it has slightly melted and placed back in the freezer to re-freeze.  For me, seeing crystals on ice cream is a sign that it is old...  I brought the receptacle and showed it to the male host, who assured me that all of the mousse is made daily at 4:00a and seeing cracks and bubbles in the mousse is normal, so I decided we would go ahead and try it, if for nothing else but to have something to report here.  The dessert was definitely not up to par with the pretty bowl http://www.yelp.com/biz_photos/0Buxoc0cRqjpvkezo3bqog?select=o9jIksB-MObhCxoI_msekQ#o9jIksB-MObhCxoI_msekQ I had during our October OYE in taste and presentation, but it was OK.  The mousse was still cold and stiff, and it had a mouth-feel more of like thick chocolate ganache filling/icing on a cake- certainly not the silky-smooth chocolate decadence I knew it could be.  My cousin had to warm up to the dish, as the sound of chocolate and green tea together didn\\'t seem like a great combo to her (I told her to trust me).  She also never enjoyed orange and chocolate together, but she liked it in this dessert.  \\r\\n\\r\\nI understand that the knowledge of having to serve only dessert instead of dinner AND dessert, which translates to a higher table bill, can be a bit of a disappointment, but why must you show your displeasure to your guests?  Butai, you were lucky that my cousin even left you the change for a tip- she didn\\'t want to give you anything, and you certainly didn\\'t deserve it!  When I told other Yelp friends about the sub-par service and dessert we just had, one replied she didn\\'t enjoy the last time we had apps here (I think it was around Halloween and First Friday?) either.  Cousin and I thought it very poor taste that our server gave us that awful, condescending look after finding out we were just going to have dessert; We didn\\'t deserve that!  I am never going to recommend Nobuo to anyone, anymore.  I even promised my Japanese friend (who lives and works overseas) I\\'d treat her to a dining experience here when she comes to visit.  Guess I\\'ll have to find another place to take her...  I don\\'t want to risk getting the same treatment from Butai, or from another server should we come back here.  \\r\\n\\r\\nSorry, Nobuo, but I won\\'t be returning.'"
      ]
     },
     "execution_count": 32,
     "metadata": {},
     "output_type": "execute_result"
    }
   ],
   "source": [
    "yelp[yelp.text.str.lower().str.contains('0buxoc0crqjpvkezo3bqog')].text.iloc[0]"
   ]
  },
  {
   "cell_type": "markdown",
   "metadata": {},
   "source": [
    "# Make a model!\n",
    "\n",
    "Logistic regression often works well. Support Vector Machines are usually good too.\n",
    "\n",
    "(Decision trees and random forests usually take too long)"
   ]
  },
  {
   "cell_type": "code",
   "execution_count": 33,
   "metadata": {
    "scrolled": true
   },
   "outputs": [
    {
     "data": {
      "text/plain": [
       "LogisticRegressionCV(Cs=10, class_weight=None, cv=5, dual=False,\n",
       "                     fit_intercept=True, intercept_scaling=1.0, l1_ratios=None,\n",
       "                     max_iter=1000, multi_class='auto', n_jobs=None,\n",
       "                     penalty='l2', random_state=None, refit=True, scoring=None,\n",
       "                     solver='lbfgs', tol=0.0001, verbose=0)"
      ]
     },
     "execution_count": 33,
     "metadata": {},
     "output_type": "execute_result"
    }
   ],
   "source": [
    "import sklearn.linear_model\n",
    "lr = sklearn.linear_model.LogisticRegressionCV(solver='lbfgs', multi_class=\"auto\", max_iter=1000, cv=5)\n",
    "lr.fit(vecTrain, Ytrain)"
   ]
  },
  {
   "cell_type": "markdown",
   "metadata": {},
   "source": [
    "### How do measure the success of this model?"
   ]
  },
  {
   "cell_type": "code",
   "execution_count": 34,
   "metadata": {},
   "outputs": [],
   "source": [
    "vecTest = count_vectorizer.transform(Xtest)\n",
    "predictions = lr.predict(vecTest)"
   ]
  },
  {
   "cell_type": "code",
   "execution_count": 35,
   "metadata": {},
   "outputs": [],
   "source": [
    "import sklearn.metrics"
   ]
  },
  {
   "cell_type": "code",
   "execution_count": 36,
   "metadata": {},
   "outputs": [
    {
     "data": {
      "text/plain": [
       "array([[1596,   63,   38],\n",
       "       [ 234,   92,   54],\n",
       "       [ 113,   35,  275]], dtype=int64)"
      ]
     },
     "execution_count": 36,
     "metadata": {},
     "output_type": "execute_result"
    }
   ],
   "source": [
    "sklearn.metrics.confusion_matrix(Ytest, predictions)"
   ]
  },
  {
   "cell_type": "code",
   "execution_count": 37,
   "metadata": {},
   "outputs": [
    {
     "data": {
      "text/plain": [
       "happy      1943\n",
       "sad         367\n",
       "neutral     190\n",
       "dtype: int64"
      ]
     },
     "execution_count": 37,
     "metadata": {},
     "output_type": "execute_result"
    }
   ],
   "source": [
    "pd.Series(predictions).value_counts()"
   ]
  },
  {
   "cell_type": "code",
   "execution_count": 38,
   "metadata": {},
   "outputs": [
    {
     "data": {
      "text/plain": [
       "happy      1697\n",
       "sad         423\n",
       "neutral     380\n",
       "Name: feedback, dtype: int64"
      ]
     },
     "execution_count": 38,
     "metadata": {},
     "output_type": "execute_result"
    }
   ],
   "source": [
    "Ytest.value_counts()"
   ]
  },
  {
   "cell_type": "code",
   "execution_count": 39,
   "metadata": {},
   "outputs": [
    {
     "data": {
      "text/plain": [
       "([<matplotlib.axis.YTick at 0x1d680905ba8>,\n",
       "  <matplotlib.axis.YTick at 0x1d680905470>,\n",
       "  <matplotlib.axis.YTick at 0x1d685c99a58>],\n",
       " <a list of 3 Text yticklabel objects>)"
      ]
     },
     "execution_count": 39,
     "metadata": {},
     "output_type": "execute_result"
    },
    {
     "data": {
      "image/png": "[encoded data removed]",
      "text/plain": [
       "<Figure size 432x288 with 2 Axes>"
      ]
     },
     "metadata": {
      "needs_background": "light"
     },
     "output_type": "display_data"
    }
   ],
   "source": [
    "import seaborn as sns\n",
    "sns.heatmap(sklearn.metrics.confusion_matrix(Ytest, predictions), annot=True, fmt='4d')\n",
    "import matplotlib.pyplot as plt\n",
    "plt.xlabel(\"We predicted\")\n",
    "plt.ylabel(\"The customer was actually...\")\n",
    "plt.xticks([0.5,1.5,2.5],[\"happy\", \"neutral\", \"sad\"])\n",
    "plt.yticks([0.5,1.5,2.5],[\"happy\", \"neutral\", \"sad\"])"
   ]
  },
  {
   "cell_type": "code",
   "execution_count": 40,
   "metadata": {},
   "outputs": [
    {
     "name": "stdout",
     "output_type": "stream",
     "text": [
      "              precision    recall  f1-score   support\n",
      "\n",
      "       happy       0.82      0.94      0.88      1697\n",
      "     neutral       0.48      0.24      0.32       380\n",
      "         sad       0.75      0.65      0.70       423\n",
      "\n",
      "    accuracy                           0.79      2500\n",
      "   macro avg       0.68      0.61      0.63      2500\n",
      "weighted avg       0.76      0.79      0.76      2500\n",
      "\n"
     ]
    }
   ],
   "source": [
    "print(sklearn.metrics.classification_report(Ytest, predictions))"
   ]
  },
  {
   "cell_type": "code",
   "execution_count": 41,
   "metadata": {},
   "outputs": [
    {
     "data": {
      "text/plain": [
       "0.7852"
      ]
     },
     "execution_count": 41,
     "metadata": {},
     "output_type": "execute_result"
    }
   ],
   "source": [
    "sklearn.metrics.accuracy_score(Ytest, predictions)"
   ]
  },
  {
   "cell_type": "code",
   "execution_count": 42,
   "metadata": {},
   "outputs": [
    {
     "data": {
      "text/plain": [
       "0.7579579784063801"
      ]
     },
     "execution_count": 42,
     "metadata": {},
     "output_type": "execute_result"
    }
   ],
   "source": [
    "sklearn.metrics.precision_score(Ytest, predictions, average='weighted')"
   ]
  },
  {
   "cell_type": "code",
   "execution_count": 43,
   "metadata": {},
   "outputs": [
    {
     "data": {
      "text/plain": [
       "0.7852"
      ]
     },
     "execution_count": 43,
     "metadata": {},
     "output_type": "execute_result"
    }
   ],
   "source": [
    "sklearn.metrics.recall_score(Ytest, predictions, average='weighted')"
   ]
  },
  {
   "cell_type": "code",
   "execution_count": 44,
   "metadata": {},
   "outputs": [
    {
     "data": {
      "text/plain": [
       "0.7621195196364816"
      ]
     },
     "execution_count": 44,
     "metadata": {},
     "output_type": "execute_result"
    }
   ],
   "source": [
    "sklearn.metrics.f1_score(Ytest, predictions, average='weighted')"
   ]
  },
  {
   "cell_type": "code",
   "execution_count": 45,
   "metadata": {},
   "outputs": [
    {
     "data": {
      "text/plain": [
       "array([[0.75696614, 0.21762062, 0.02541323],\n",
       "       [0.94726608, 0.03950975, 0.01322417],\n",
       "       [0.71989965, 0.20040839, 0.07969196],\n",
       "       ...,\n",
       "       [0.65669623, 0.25166117, 0.0916426 ],\n",
       "       [0.03998995, 0.01371128, 0.94629877],\n",
       "       [0.90494903, 0.08536901, 0.00968195]])"
      ]
     },
     "execution_count": 45,
     "metadata": {},
     "output_type": "execute_result"
    }
   ],
   "source": [
    "prediction_proba = lr.predict_proba(vecTest)\n",
    "prediction_proba"
   ]
  },
  {
   "cell_type": "code",
   "execution_count": 46,
   "metadata": {},
   "outputs": [
    {
     "data": {
      "text/plain": [
       "review_id\n",
       "WeNhaODwNX1qmMXp5Y2bMg    I've got to admit, fishing at the Water Ranch ...\n",
       "fdvuKm4JIKrcn5nWxqpX1A    Great all natural selection, if you are lookin...\n",
       "v5mmm3T1XILyR0txwDVVJg    A nice place to go to catch the blockbuster mo...\n",
       "Name: text, dtype: object"
      ]
     },
     "execution_count": 46,
     "metadata": {},
     "output_type": "execute_result"
    }
   ],
   "source": [
    "Xtest.head(3)"
   ]
  },
  {
   "cell_type": "code",
   "execution_count": 47,
   "metadata": {},
   "outputs": [
    {
     "ename": "ValueError",
     "evalue": "bad input shape (2500, 3)",
     "output_type": "error",
     "traceback": [
      "\u001b[1;31m---------------------------------------------------------------------------\u001b[0m",
      "\u001b[1;31mValueError\u001b[0m                                Traceback (most recent call last)",
      "\u001b[1;32m<ipython-input-47-c809f28b99a0>\u001b[0m in \u001b[0;36m<module>\u001b[1;34m\u001b[0m\n\u001b[1;32m----> 1\u001b[1;33m \u001b[0msklearn\u001b[0m\u001b[1;33m.\u001b[0m\u001b[0mmetrics\u001b[0m\u001b[1;33m.\u001b[0m\u001b[0mauc\u001b[0m\u001b[1;33m(\u001b[0m\u001b[0mYtest\u001b[0m\u001b[1;33m,\u001b[0m \u001b[0mprediction_proba\u001b[0m\u001b[1;33m)\u001b[0m\u001b[1;33m\u001b[0m\u001b[1;33m\u001b[0m\u001b[0m\n\u001b[0m",
      "\u001b[1;32m~\\AppData\\Local\\Continuum\\anaconda3\\lib\\site-packages\\sklearn\\metrics\\ranking.py\u001b[0m in \u001b[0;36mauc\u001b[1;34m(x, y, reorder)\u001b[0m\n\u001b[0;32m     90\u001b[0m     \u001b[0mcheck_consistent_length\u001b[0m\u001b[1;33m(\u001b[0m\u001b[0mx\u001b[0m\u001b[1;33m,\u001b[0m \u001b[0my\u001b[0m\u001b[1;33m)\u001b[0m\u001b[1;33m\u001b[0m\u001b[1;33m\u001b[0m\u001b[0m\n\u001b[0;32m     91\u001b[0m     \u001b[0mx\u001b[0m \u001b[1;33m=\u001b[0m \u001b[0mcolumn_or_1d\u001b[0m\u001b[1;33m(\u001b[0m\u001b[0mx\u001b[0m\u001b[1;33m)\u001b[0m\u001b[1;33m\u001b[0m\u001b[1;33m\u001b[0m\u001b[0m\n\u001b[1;32m---> 92\u001b[1;33m     \u001b[0my\u001b[0m \u001b[1;33m=\u001b[0m \u001b[0mcolumn_or_1d\u001b[0m\u001b[1;33m(\u001b[0m\u001b[0my\u001b[0m\u001b[1;33m)\u001b[0m\u001b[1;33m\u001b[0m\u001b[1;33m\u001b[0m\u001b[0m\n\u001b[0m\u001b[0;32m     93\u001b[0m \u001b[1;33m\u001b[0m\u001b[0m\n\u001b[0;32m     94\u001b[0m     \u001b[1;32mif\u001b[0m \u001b[0mx\u001b[0m\u001b[1;33m.\u001b[0m\u001b[0mshape\u001b[0m\u001b[1;33m[\u001b[0m\u001b[1;36m0\u001b[0m\u001b[1;33m]\u001b[0m \u001b[1;33m<\u001b[0m \u001b[1;36m2\u001b[0m\u001b[1;33m:\u001b[0m\u001b[1;33m\u001b[0m\u001b[1;33m\u001b[0m\u001b[0m\n",
      "\u001b[1;32m~\\AppData\\Local\\Continuum\\anaconda3\\lib\\site-packages\\sklearn\\utils\\validation.py\u001b[0m in \u001b[0;36mcolumn_or_1d\u001b[1;34m(y, warn)\u001b[0m\n\u001b[0;32m    758\u001b[0m         \u001b[1;32mreturn\u001b[0m \u001b[0mnp\u001b[0m\u001b[1;33m.\u001b[0m\u001b[0mravel\u001b[0m\u001b[1;33m(\u001b[0m\u001b[0my\u001b[0m\u001b[1;33m)\u001b[0m\u001b[1;33m\u001b[0m\u001b[1;33m\u001b[0m\u001b[0m\n\u001b[0;32m    759\u001b[0m \u001b[1;33m\u001b[0m\u001b[0m\n\u001b[1;32m--> 760\u001b[1;33m     \u001b[1;32mraise\u001b[0m \u001b[0mValueError\u001b[0m\u001b[1;33m(\u001b[0m\u001b[1;34m\"bad input shape {0}\"\u001b[0m\u001b[1;33m.\u001b[0m\u001b[0mformat\u001b[0m\u001b[1;33m(\u001b[0m\u001b[0mshape\u001b[0m\u001b[1;33m)\u001b[0m\u001b[1;33m)\u001b[0m\u001b[1;33m\u001b[0m\u001b[1;33m\u001b[0m\u001b[0m\n\u001b[0m\u001b[0;32m    761\u001b[0m \u001b[1;33m\u001b[0m\u001b[0m\n\u001b[0;32m    762\u001b[0m \u001b[1;33m\u001b[0m\u001b[0m\n",
      "\u001b[1;31mValueError\u001b[0m: bad input shape (2500, 3)"
     ]
    }
   ],
   "source": [
    "sklearn.metrics.auc(Ytest, prediction_proba)"
   ]
  },
  {
   "cell_type": "markdown",
   "metadata": {},
   "source": [
    "### What do the coefficients of the model mean?"
   ]
  },
  {
   "cell_type": "code",
   "execution_count": null,
   "metadata": {},
   "outputs": [],
   "source": [
    "lr"
   ]
  },
  {
   "cell_type": "code",
   "execution_count": null,
   "metadata": {},
   "outputs": [],
   "source": [
    "lr.coef_.shape"
   ]
  },
  {
   "cell_type": "code",
   "execution_count": null,
   "metadata": {},
   "outputs": [],
   "source": [
    "len(count_vectorizer.get_feature_names())"
   ]
  },
  {
   "cell_type": "code",
   "execution_count": null,
   "metadata": {},
   "outputs": [],
   "source": [
    "happy_words = pd.Series(index=count_vectorizer.get_feature_names(), data=lr.coef_[0])\n",
    "happy_words.sort_values(ascending=False)"
   ]
  },
  {
   "cell_type": "code",
   "execution_count": null,
   "metadata": {},
   "outputs": [],
   "source": [
    "lr.predict(count_vectorizer.transform([\"delicious and amazing\"]))"
   ]
  },
  {
   "cell_type": "code",
   "execution_count": null,
   "metadata": {},
   "outputs": [],
   "source": [
    "sad_words = pd.Series(index=count_vectorizer.get_feature_names(), data=lr.coef_[2])\n",
    "sad_words.sort_values(ascending=False)"
   ]
  },
  {
   "cell_type": "code",
   "execution_count": null,
   "metadata": {},
   "outputs": [],
   "source": [
    "neutral_words = pd.Series(index=count_vectorizer.get_feature_names(), data=lr.coef_[1])\n",
    "neutral_words.sort_values(ascending=False)"
   ]
  },
  {
   "cell_type": "code",
   "execution_count": null,
   "metadata": {},
   "outputs": [],
   "source": [
    "yelp[yelp.text.str.lower().str.contains('airport')].stars.plot.hist()"
   ]
  },
  {
   "cell_type": "code",
   "execution_count": null,
   "metadata": {},
   "outputs": [],
   "source": [
    "happy_words[happy_words.abs() < 0.01]"
   ]
  },
  {
   "cell_type": "code",
   "execution_count": null,
   "metadata": {},
   "outputs": [],
   "source": [
    "prediction_proba"
   ]
  },
  {
   "cell_type": "markdown",
   "metadata": {},
   "source": [
    "Let's take a look next at other ways of preprocessing text!\n",
    "\n",
    "- **Objective:** Demonstrate common text preprocessing techniques.\n",
    "\n",
    "<a id='ngrams'></a>\n",
    "### N-Grams"
   ]
  },
  {
   "cell_type": "markdown",
   "metadata": {},
   "source": [
    "N-grams are features which consist of N consecutive words. This is useful because using the bag-of-words model, treating `data scientist` as a single feature has more meaning than having two independent features `data` and `scientist`!\n",
    "\n",
    "Example:\n",
    "```\n",
    "my cat is awesome\n",
    "Unigrams (1-grams): 'my', 'cat', 'is', 'awesome'\n",
    "Bigrams (2-grams): 'my cat', 'cat is', 'is awesome'\n",
    "Trigrams (3-grams): 'my cat is', 'cat is awesome'\n",
    "4-grams: 'my cat is awesome'\n",
    "```\n",
    "\n",
    "- **ngram_range:** tuple (min_n, max_n)\n",
    "- The lower and upper boundary of the range of n-values for different n-grams to be extracted. All values of n such that min_n <= n <= max_n will be used."
   ]
  },
  {
   "cell_type": "code",
   "execution_count": null,
   "metadata": {},
   "outputs": [],
   "source": [
    "sad_words[sad_words.index == 'not']"
   ]
  },
  {
   "cell_type": "code",
   "execution_count": null,
   "metadata": {},
   "outputs": [],
   "source": [
    "happy_words[happy_words.index == 'not']"
   ]
  },
  {
   "cell_type": "code",
   "execution_count": null,
   "metadata": {},
   "outputs": [],
   "source": [
    "ngram_vectorizer = sklearn.feature_extraction.text.CountVectorizer(min_df=2, \n",
    "                                                                   ngram_range=(2,3),\n",
    "                                                                   token_pattern='(?u)\\\\b[a-z]{2,}\\\\b')\n",
    "ngramTrainVecs = ngram_vectorizer.fit_transform(Xtrain)"
   ]
  },
  {
   "cell_type": "code",
   "execution_count": null,
   "metadata": {},
   "outputs": [],
   "source": [
    "ngramTrainVecs.shape"
   ]
  },
  {
   "cell_type": "code",
   "execution_count": null,
   "metadata": {},
   "outputs": [],
   "source": [
    "ngram_vectorizer.get_feature_names()"
   ]
  },
  {
   "cell_type": "code",
   "execution_count": null,
   "metadata": {},
   "outputs": [],
   "source": [
    "ngram_lr = sklearn.linear_model.LogisticRegressionCV(multi_class='auto', solver='lbfgs', cv=5)\n",
    "ngram_lr.fit(ngramTrainVecs, Ytrain)"
   ]
  },
  {
   "cell_type": "code",
   "execution_count": null,
   "metadata": {},
   "outputs": [],
   "source": [
    "ngram_predictions = ngram_lr.predict(ngram_vectorizer.transform(Xtest))\n",
    "sklearn.metrics.accuracy_score(Ytest, ngram_predictions)"
   ]
  },
  {
   "cell_type": "code",
   "execution_count": null,
   "metadata": {},
   "outputs": [],
   "source": [
    "print(sklearn.metrics.classification_report(Ytest, predictions))"
   ]
  },
  {
   "cell_type": "code",
   "execution_count": null,
   "metadata": {},
   "outputs": [],
   "source": [
    "import sklearn.svm\n",
    "svc = sklearn.svm.SVC()\n",
    "svc.fit(ngramTrainVecs, Ytrain)"
   ]
  },
  {
   "cell_type": "code",
   "execution_count": null,
   "metadata": {},
   "outputs": [],
   "source": [
    "svc_predictions = svc.predict(ngram_vectorizer.transform(Xtest))\n",
    "sklearn.metrics.accuracy_score(Ytest, svc_predictions)"
   ]
  },
  {
   "cell_type": "markdown",
   "metadata": {},
   "source": [
    "<a id='tfidf'></a>\n",
    "## Term Frequency–Inverse Document Frequency (TF–IDF)\n",
    "\n",
    "While a Count Vectorizer simply totals up the number of times a \"word\" appears in a document, the more complex TF-IDF Vectorizer analyzes the uniqueness of words between documents to find distinguishing characteristics. \n",
    "     \n",
    "- **What:** Term frequency–inverse document frequency (TF–IDF) computes the \"relative frequency\" with which a word appears in a document, compared to its frequency across all documents.\n",
    "- **Why:** It's more useful than \"term frequency\" for identifying \"important\" words in each document (high frequency in that document, low frequency in other documents).\n",
    "- **Notes:** It's used for search-engine scoring, text summarization, and document clustering."
   ]
  },
  {
   "cell_type": "code",
   "execution_count": null,
   "metadata": {},
   "outputs": [],
   "source": [
    "happy_words[happy_words.index=='place']"
   ]
  },
  {
   "cell_type": "code",
   "execution_count": null,
   "metadata": {},
   "outputs": [],
   "source": [
    "happy_words[happy_words.index=='food']"
   ]
  },
  {
   "cell_type": "code",
   "execution_count": null,
   "metadata": {},
   "outputs": [],
   "source": [
    "yelp.text.str.lower().str.contains('food').mean()"
   ]
  },
  {
   "cell_type": "code",
   "execution_count": null,
   "metadata": {},
   "outputs": [],
   "source": [
    "tfidf = sklearn.feature_extraction.text.TfidfVectorizer(min_df=3, token_pattern='(?u)\\\\b[a-z]{3,}\\\\b')"
   ]
  },
  {
   "cell_type": "code",
   "execution_count": null,
   "metadata": {},
   "outputs": [],
   "source": [
    "tfidf_train_vec = tfidf.fit_transform(Xtrain)"
   ]
  },
  {
   "cell_type": "code",
   "execution_count": null,
   "metadata": {},
   "outputs": [],
   "source": [
    "tfidf_lr = sklearn.linear_model.LogisticRegression(solver='lbfgs', multi_class='auto')\n",
    "tfidf_lr.fit(tfidf_train_vec, Ytrain)"
   ]
  },
  {
   "cell_type": "code",
   "execution_count": null,
   "metadata": {},
   "outputs": [],
   "source": [
    "tfidf_happy_words = pd.Series(index=tfidf.get_feature_names(), data=tfidf_lr.coef_[0])\n",
    "tfidf_happy_words.sort_values(ascending=False)"
   ]
  },
  {
   "cell_type": "code",
   "execution_count": null,
   "metadata": {},
   "outputs": [],
   "source": [
    "happy_words.sort_values(ascending=False)"
   ]
  },
  {
   "cell_type": "code",
   "execution_count": null,
   "metadata": {},
   "outputs": [],
   "source": []
  },
  {
   "cell_type": "code",
   "execution_count": null,
   "metadata": {},
   "outputs": [],
   "source": []
  },
  {
   "cell_type": "markdown",
   "metadata": {},
   "source": [
    "# An introduction to Spacy\n",
    "\n",
    "spaCy is a free, open-source library for advanced Natural Language Processing (NLP) in Python, and one of the\n",
    "best available.\n",
    "\n",
    "It is a bit slow though. For something faster that is less comprehensive, Facebook have \"fasttext\""
   ]
  },
  {
   "cell_type": "code",
   "execution_count": 48,
   "metadata": {},
   "outputs": [],
   "source": [
    "import spacy"
   ]
  },
  {
   "cell_type": "code",
   "execution_count": 49,
   "metadata": {},
   "outputs": [],
   "source": [
    "nlp = spacy.load(\"en_core_web_sm\")"
   ]
  },
  {
   "cell_type": "code",
   "execution_count": null,
   "metadata": {},
   "outputs": [],
   "source": [
    "# call nlp() on a string to turn it into a document"
   ]
  },
  {
   "cell_type": "code",
   "execution_count": 198,
   "metadata": {},
   "outputs": [
    {
     "data": {
      "text/plain": [
       "This is not a good restaurant. The curry smells like a leopard.\n",
       "          Donald Trump won't eat here. Nor would Jawaharlal Nehru.\n",
       "          At 12pm on a Monday I would rather go to Lahore in India."
      ]
     },
     "execution_count": 198,
     "metadata": {},
     "output_type": "execute_result"
    }
   ],
   "source": [
    "doc = nlp(\"\"\"This is not a good restaurant. The curry smells like a leopard.\n",
    "          Donald Trump won't eat here. Nor would Jawaharlal Nehru.\n",
    "          At 12pm on a Monday I would rather go to Lahore in India.\"\"\")\n",
    "doc"
   ]
  },
  {
   "cell_type": "code",
   "execution_count": 199,
   "metadata": {},
   "outputs": [
    {
     "name": "stdout",
     "output_type": "stream",
     "text": [
      "This is not a good restaurant.\n",
      "The curry smells like a leopard.\n",
      "          \n",
      "Donald Trump won't eat here.\n",
      "Nor would Jawaharlal Nehru.\n",
      "          \n",
      "At 12pm on a Monday I would rather go to Lahore in India.\n"
     ]
    }
   ],
   "source": [
    "for sentence in doc.sents:\n",
    "    print(sentence)"
   ]
  },
  {
   "cell_type": "code",
   "execution_count": 200,
   "metadata": {},
   "outputs": [],
   "source": [
    "# look at each word in each sentence and see \n",
    "# - orth_\n",
    "# - pos_\n",
    "# - tag_\n",
    "# - dep_\n",
    "# - lemma_\n",
    "# - head.lemma_"
   ]
  },
  {
   "cell_type": "code",
   "execution_count": 201,
   "metadata": {},
   "outputs": [
    {
     "name": "stdout",
     "output_type": "stream",
     "text": [
      "This DET DT nsubj this is\n",
      "is AUX VBZ ROOT be is\n",
      "not PART RB neg not is\n",
      "a DET DT det a restaurant\n",
      "good ADJ JJ amod good restaurant\n",
      "restaurant NOUN NN attr restaurant is\n",
      ". PUNCT . punct . is\n",
      "The DET DT det the curry\n",
      "curry NOUN NN nsubj curry smells\n",
      "smells VERB VBZ ROOT smell smells\n",
      "like SCONJ IN prep like smells\n",
      "a DET DT det a leopard\n",
      "leopard NOUN NN pobj leopard like\n",
      ". PUNCT . punct . smells\n",
      "\n",
      "           SPACE _SP  \n",
      "           .\n",
      "Donald PROPN NNP compound Donald Trump\n",
      "Trump PROPN NNP nsubj Trump eat\n",
      "wo AUX MD aux will eat\n",
      "n't PART RB neg not eat\n",
      "eat VERB VB ROOT eat eat\n",
      "here ADV RB advmod here eat\n",
      ". PUNCT . punct . eat\n",
      "Nor CCONJ CC cc nor would\n",
      "would AUX MD ROOT would would\n",
      "Jawaharlal PROPN NNP compound Jawaharlal Nehru\n",
      "Nehru PROPN NNP nsubj Nehru would\n",
      ". PUNCT . punct . would\n",
      "\n",
      "           SPACE _SP  \n",
      "           .\n",
      "At ADP IN prep at go\n",
      "12 NUM CD nummod 12 pm\n",
      "pm NOUN NN pobj p.m. At\n",
      "on ADP IN prep on go\n",
      "a DET DT det a Monday\n",
      "Monday PROPN NNP pobj Monday on\n",
      "I PRON PRP nsubj -PRON- go\n",
      "would AUX MD aux would go\n",
      "rather ADV RB advmod rather go\n",
      "go VERB VB ROOT go go\n",
      "to ADP IN prep to go\n",
      "Lahore PROPN NNP pobj Lahore to\n",
      "in ADP IN prep in go\n",
      "India PROPN NNP pobj India in\n",
      ". PUNCT . punct . go\n"
     ]
    }
   ],
   "source": [
    "for sentence in doc.sents:\n",
    "    for word in sentence:\n",
    "        print(word.orth_, word.pos_, word.tag_, word.dep_, word.lemma_, word.head.orth_)"
   ]
  },
  {
   "cell_type": "code",
   "execution_count": 202,
   "metadata": {},
   "outputs": [
    {
     "data": {
      "text/plain": [
       "[a good restaurant,\n",
       " The curry,\n",
       " a leopard,\n",
       " Donald Trump,\n",
       " Jawaharlal Nehru,\n",
       " 12pm,\n",
       " a Monday,\n",
       " I,\n",
       " Lahore,\n",
       " India]"
      ]
     },
     "execution_count": 202,
     "metadata": {},
     "output_type": "execute_result"
    }
   ],
   "source": [
    "list(doc.noun_chunks)"
   ]
  },
  {
   "cell_type": "code",
   "execution_count": 203,
   "metadata": {
    "scrolled": true
   },
   "outputs": [
    {
     "data": {
      "text/plain": [
       "(Donald Trump, Jawaharlal Nehru, 12pm, Monday, Lahore, India)"
      ]
     },
     "execution_count": 203,
     "metadata": {},
     "output_type": "execute_result"
    }
   ],
   "source": [
    "doc.ents"
   ]
  },
  {
   "cell_type": "code",
   "execution_count": 204,
   "metadata": {},
   "outputs": [
    {
     "data": {
      "text/plain": [
       "'PERSON'"
      ]
     },
     "execution_count": 204,
     "metadata": {},
     "output_type": "execute_result"
    }
   ],
   "source": [
    "doc.ents[0].label_"
   ]
  },
  {
   "cell_type": "code",
   "execution_count": 205,
   "metadata": {},
   "outputs": [
    {
     "data": {
      "text/plain": [
       "'PERSON'"
      ]
     },
     "execution_count": 205,
     "metadata": {},
     "output_type": "execute_result"
    }
   ],
   "source": [
    "doc.ents[1].label_"
   ]
  },
  {
   "cell_type": "code",
   "execution_count": 206,
   "metadata": {},
   "outputs": [
    {
     "data": {
      "text/plain": [
       "'QUANTITY'"
      ]
     },
     "execution_count": 206,
     "metadata": {},
     "output_type": "execute_result"
    }
   ],
   "source": [
    "doc.ents[2].label_"
   ]
  },
  {
   "cell_type": "code",
   "execution_count": 207,
   "metadata": {},
   "outputs": [
    {
     "data": {
      "text/plain": [
       "'DATE'"
      ]
     },
     "execution_count": 207,
     "metadata": {},
     "output_type": "execute_result"
    }
   ],
   "source": [
    "doc.ents[3].label_"
   ]
  },
  {
   "cell_type": "code",
   "execution_count": 208,
   "metadata": {},
   "outputs": [
    {
     "data": {
      "text/plain": [
       "'GPE'"
      ]
     },
     "execution_count": 208,
     "metadata": {},
     "output_type": "execute_result"
    }
   ],
   "source": [
    "doc.ents[4].label_"
   ]
  },
  {
   "cell_type": "code",
   "execution_count": 209,
   "metadata": {},
   "outputs": [
    {
     "data": {
      "text/plain": [
       "'GPE'"
      ]
     },
     "execution_count": 209,
     "metadata": {},
     "output_type": "execute_result"
    }
   ],
   "source": [
    "doc.ents[5].label_"
   ]
  },
  {
   "cell_type": "code",
   "execution_count": 120,
   "metadata": {},
   "outputs": [
    {
     "name": "stdout",
     "output_type": "stream",
     "text": [
      "good\n"
     ]
    }
   ],
   "source": [
    "for word in doc:\n",
    "    if word.pos_ == 'ADJ':\n",
    "        print(word)"
   ]
  },
  {
   "cell_type": "code",
   "execution_count": 123,
   "metadata": {},
   "outputs": [
    {
     "name": "stdout",
     "output_type": "stream",
     "text": [
      "excellent excellent\n",
      "perfect perfect\n",
      "absolute absolute\n",
      "excellent excellent\n",
      "semi semi\n",
      "- semi\n",
      "busy semi\n",
      "better so\n",
      "Bloody Bloody\n",
      "phenomenal phenomenal\n",
      "best simply\n",
      "sure pretty\n",
      "fresh fresh\n",
      "amazing amazing\n",
      "excellent excellent\n",
      "white white\n",
      "tasty tasty\n",
      "delicious delicious\n",
      "griddled griddled\n",
      "amazing amazing\n",
      "complete the\n",
      "best best\n"
     ]
    }
   ],
   "source": [
    "d1 = nlp(yelp.text.iloc[0])\n",
    "for word in d1:\n",
    "    if word.pos_ == 'ADJ':\n",
    "        print(word.orth_, word.left_edge)"
   ]
  },
  {
   "cell_type": "code",
   "execution_count": null,
   "metadata": {},
   "outputs": [],
   "source": []
  },
  {
   "cell_type": "code",
   "execution_count": 124,
   "metadata": {},
   "outputs": [
    {
     "data": {
      "text/plain": [
       "'My wife took me here on my birthday for breakfast and it was excellent.  The weather was perfect which made sitting outside overlooking their grounds an absolute pleasure.  Our waitress was excellent and our food arrived quickly on the semi-busy Saturday morning.  It looked like the place fills up pretty quickly so the earlier you get here the better.\\r\\n\\r\\nDo yourself a favor and get their Bloody Mary.  It was phenomenal and simply the best I\\'ve ever had.  I\\'m pretty sure they only use ingredients from their garden and blend them fresh when you order it.  It was amazing.\\r\\n\\r\\nWhile EVERYTHING on the menu looks excellent, I had the white truffle scrambled eggs vegetable skillet and it was tasty and delicious.  It came with 2 pieces of their griddled bread with was amazing and it absolutely made the meal complete.  It was the best \"toast\" I\\'ve ever had.\\r\\n\\r\\nAnyway, I can\\'t wait to go back!'"
      ]
     },
     "execution_count": 124,
     "metadata": {},
     "output_type": "execute_result"
    }
   ],
   "source": [
    "yelp.text.iloc[0]"
   ]
  },
  {
   "cell_type": "code",
   "execution_count": null,
   "metadata": {},
   "outputs": [],
   "source": [
    "# Look for past tense verbs only?"
   ]
  },
  {
   "cell_type": "code",
   "execution_count": 147,
   "metadata": {},
   "outputs": [],
   "source": [
    "def past_verbs(doc):\n",
    "    answer = []\n",
    "    for sentence in doc.sents:\n",
    "        for word in sentence:\n",
    "            if word.tag_ == 'VBD':\n",
    "                #answer.append(word.lemma_)\n",
    "                answer.append(word.orth_)\n",
    "    return \" \".join(answer)"
   ]
  },
  {
   "cell_type": "code",
   "execution_count": 148,
   "metadata": {},
   "outputs": [
    {
     "data": {
      "text/plain": [
       "'took was was made was arrived looked was was had was came was made was'"
      ]
     },
     "execution_count": 148,
     "metadata": {},
     "output_type": "execute_result"
    }
   ],
   "source": [
    "past_verbs(d1)"
   ]
  },
  {
   "cell_type": "code",
   "execution_count": 151,
   "metadata": {},
   "outputs": [
    {
     "name": "stdout",
     "output_type": "stream",
     "text": [
      "Wall time: 41.2 s\n"
     ]
    }
   ],
   "source": [
    "%%time\n",
    "yelp_sample = yelp.sample(1000).copy()\n",
    "yelp_sample['nlp'] = yelp_sample.text.map(nlp)"
   ]
  },
  {
   "cell_type": "code",
   "execution_count": null,
   "metadata": {},
   "outputs": [],
   "source": [
    "# How does the model perform only on verbs? What sort of coefficients do you see?"
   ]
  },
  {
   "cell_type": "code",
   "execution_count": 154,
   "metadata": {},
   "outputs": [
    {
     "data": {
      "text/html": [
       "<div>\n",
       "<style scoped>\n",
       "    .dataframe tbody tr th:only-of-type {\n",
       "        vertical-align: middle;\n",
       "    }\n",
       "\n",
       "    .dataframe tbody tr th {\n",
       "        vertical-align: top;\n",
       "    }\n",
       "\n",
       "    .dataframe thead th {\n",
       "        text-align: right;\n",
       "    }\n",
       "</style>\n",
       "<table border=\"1\" class=\"dataframe\">\n",
       "  <thead>\n",
       "    <tr style=\"text-align: right;\">\n",
       "      <th></th>\n",
       "      <th>text</th>\n",
       "      <th>past_tense_verbs</th>\n",
       "    </tr>\n",
       "    <tr>\n",
       "      <th>review_id</th>\n",
       "      <th></th>\n",
       "      <th></th>\n",
       "    </tr>\n",
       "  </thead>\n",
       "  <tbody>\n",
       "    <tr>\n",
       "      <th>Pviwc4jGf2dia6zKYc9CAA</th>\n",
       "      <td>Best breakfast in west Chandler!  I love their...</td>\n",
       "      <td></td>\n",
       "    </tr>\n",
       "    <tr>\n",
       "      <th>_ElIIVS6FSE051k9qKD8vQ</th>\n",
       "      <td>came here last Saturday night with a friend. t...</td>\n",
       "      <td>came had was crispy</td>\n",
       "    </tr>\n",
       "    <tr>\n",
       "      <th>DfsdM_qT6kyzRa2MpfeuSA</th>\n",
       "      <td>Great Frozen Yogurt. Helpful staff, clean envi...</td>\n",
       "      <td></td>\n",
       "    </tr>\n",
       "    <tr>\n",
       "      <th>0xA6Q_vQhVI4hZh7Wvaw5Q</th>\n",
       "      <td>I came here for a Yelp event and had a great t...</td>\n",
       "      <td>came had divided liked was rocked</td>\n",
       "    </tr>\n",
       "    <tr>\n",
       "      <th>dc9QzMK5ngeWlser3yiQLQ</th>\n",
       "      <td>Best place in Arcadia to get a coffee or a tea...</td>\n",
       "      <td>read</td>\n",
       "    </tr>\n",
       "    <tr>\n",
       "      <th>DPhy3dRkmhiphPD57j7Vtg</th>\n",
       "      <td>I have been here at least 10 times and have ne...</td>\n",
       "      <td></td>\n",
       "    </tr>\n",
       "    <tr>\n",
       "      <th>4xdfcdhZSShne6aIVp1cMA</th>\n",
       "      <td>Ugh.  My tip-off should have been the Guy Who ...</td>\n",
       "      <td>Saw came was was was scanned found ordered tol...</td>\n",
       "    </tr>\n",
       "    <tr>\n",
       "      <th>KuwJr_6BUt4tsrA6M3zbjg</th>\n",
       "      <td>While I am giving this restaurant four stars, ...</td>\n",
       "      <td>served decided needed</td>\n",
       "    </tr>\n",
       "    <tr>\n",
       "      <th>L2NIFHpkykMg21g-a7lOpA</th>\n",
       "      <td>This place does it right, but hold on to your ...</td>\n",
       "      <td></td>\n",
       "    </tr>\n",
       "    <tr>\n",
       "      <th>L5tu22TsPaI6pgVkg9fSpQ</th>\n",
       "      <td>They came to my house the same day that I call...</td>\n",
       "      <td>came called was did</td>\n",
       "    </tr>\n",
       "    <tr>\n",
       "      <th>r8r4aZHyTtPk5Ntad7FDaA</th>\n",
       "      <td>The service here was wonderful, really friendl...</td>\n",
       "      <td>was was was wanted</td>\n",
       "    </tr>\n",
       "    <tr>\n",
       "      <th>qM17darbRCQm2KiemtTc6A</th>\n",
       "      <td>Soggy overpriced fast food burger with allot o...</td>\n",
       "      <td>overpriced</td>\n",
       "    </tr>\n",
       "    <tr>\n",
       "      <th>j1ZVJokxBKvI0dX2652FoA</th>\n",
       "      <td>This review is mainly for the bar and a few li...</td>\n",
       "      <td>was got posted Started got was showed was took...</td>\n",
       "    </tr>\n",
       "    <tr>\n",
       "      <th>FAyctGefcKSgWQQuL_QOSA</th>\n",
       "      <td>We had a pretty darn good time.\\r\\n\\r\\nDecided...</td>\n",
       "      <td>had Decided was got went was changed got start...</td>\n",
       "    </tr>\n",
       "    <tr>\n",
       "      <th>rKVjF9XlDfW_mIf_n-VrIg</th>\n",
       "      <td>Brookstone is the Sharper Image's older and mo...</td>\n",
       "      <td></td>\n",
       "    </tr>\n",
       "    <tr>\n",
       "      <th>2ezengWz-lYIDWRCX5cfPQ</th>\n",
       "      <td>I'm President of the Local scooter club so I k...</td>\n",
       "      <td>did had had Got</td>\n",
       "    </tr>\n",
       "    <tr>\n",
       "      <th>VLzod0cVgMuY4eR1NdRC5Q</th>\n",
       "      <td>OMG try their breakfast burritos!!!!  Habanero...</td>\n",
       "      <td></td>\n",
       "    </tr>\n",
       "    <tr>\n",
       "      <th>Oz9HXBHI8cqTeFgEusyUrw</th>\n",
       "      <td>Very friendly and knowledgeable guys.</td>\n",
       "      <td></td>\n",
       "    </tr>\n",
       "    <tr>\n",
       "      <th>6jIkly-coKd7ReOQcvRidw</th>\n",
       "      <td>Over-priced, over-crowded and every time I hav...</td>\n",
       "      <td></td>\n",
       "    </tr>\n",
       "    <tr>\n",
       "      <th>yHkvJxOyBbGT3MG-d487zw</th>\n",
       "      <td>Great drinks!!!\\r\\n\\r\\nGood atmosphere\\r\\n\\r\\n...</td>\n",
       "      <td>kept</td>\n",
       "    </tr>\n",
       "    <tr>\n",
       "      <th>J7MtPNuSCzIpUnfLSuz4ZQ</th>\n",
       "      <td>Thanks to Sara V. I learned about Total Wine &amp;...</td>\n",
       "      <td>learned heard were was had recommended had lov...</td>\n",
       "    </tr>\n",
       "    <tr>\n",
       "      <th>LJxpeUxAXKloGT3VQjWv1A</th>\n",
       "      <td>This bar is now \"Dodey's\". Sold just under a y...</td>\n",
       "      <td></td>\n",
       "    </tr>\n",
       "    <tr>\n",
       "      <th>gFpZacglRHhKUVvUXmIVtg</th>\n",
       "      <td>Anytime I locate a Subway with BOOTHS, I put i...</td>\n",
       "      <td>put hopped was asked had said asked was wanted...</td>\n",
       "    </tr>\n",
       "    <tr>\n",
       "      <th>d37voH8FNsdb4ewmSrLNWg</th>\n",
       "      <td>I eat a lot of Asian food (of different sorts)...</td>\n",
       "      <td>was</td>\n",
       "    </tr>\n",
       "    <tr>\n",
       "      <th>4XLehIAzLEN2XwDXQezcUA</th>\n",
       "      <td>Zipps has good bar food, but the service is us...</td>\n",
       "      <td></td>\n",
       "    </tr>\n",
       "    <tr>\n",
       "      <th>2Jfy0EnW9PEFjhbMpdWwSA</th>\n",
       "      <td>KIerland Commons is a fantastic development. L...</td>\n",
       "      <td>frequent</td>\n",
       "    </tr>\n",
       "    <tr>\n",
       "      <th>FGVsHCT8DgeSAHd5va8FjQ</th>\n",
       "      <td>New N. Scottsdale location, Baaaaaaad!  The we...</td>\n",
       "      <td>were was forgot</td>\n",
       "    </tr>\n",
       "    <tr>\n",
       "      <th>hghI4qb8mDNGko2GSHx3Ew</th>\n",
       "      <td>I'm always on the lookout for a morning coffee...</td>\n",
       "      <td>decided looked was was had was said was</td>\n",
       "    </tr>\n",
       "    <tr>\n",
       "      <th>G4R9ZqwwY_eq2PeGcQlv4Q</th>\n",
       "      <td>I was looking into gyms around the area. Upon ...</td>\n",
       "      <td>was was asked said stood snickered went came w...</td>\n",
       "    </tr>\n",
       "    <tr>\n",
       "      <th>AIVj3zSU0GtrQvjK0-h-5g</th>\n",
       "      <td>Dr Natalie is a compassionate, empathetic, car...</td>\n",
       "      <td></td>\n",
       "    </tr>\n",
       "    <tr>\n",
       "      <th>...</th>\n",
       "      <td>...</td>\n",
       "      <td>...</td>\n",
       "    </tr>\n",
       "    <tr>\n",
       "      <th>E2_iMgob9t9_vg8FazTJJg</th>\n",
       "      <td>My new favorite Mexican place in Tempe. Love t...</td>\n",
       "      <td></td>\n",
       "    </tr>\n",
       "    <tr>\n",
       "      <th>NuU3hi3Bsm3sUcSzmE13rQ</th>\n",
       "      <td>We were exceptionally sun deprived by the time...</td>\n",
       "      <td>were came was did picked was spent was was wer...</td>\n",
       "    </tr>\n",
       "    <tr>\n",
       "      <th>MExqiQcg4Yfg7HRyjnxskw</th>\n",
       "      <td>When I say a certain food contains ingredients...</td>\n",
       "      <td>sampled Salted were was got was saw did was ta...</td>\n",
       "    </tr>\n",
       "    <tr>\n",
       "      <th>kW99ou1rgbj2FnzMGYh7NA</th>\n",
       "      <td>Best Greek food I had in Arizona and excellent...</td>\n",
       "      <td>had were was had was had was</td>\n",
       "    </tr>\n",
       "    <tr>\n",
       "      <th>1cqdoam9JEVnVtMvvXp7zQ</th>\n",
       "      <td>I was stuck between wanting to give a two star...</td>\n",
       "      <td>was seemed was was was had seemed</td>\n",
       "    </tr>\n",
       "    <tr>\n",
       "      <th>C3F0kLSSEteBvx97qtUrfw</th>\n",
       "      <td>Good food, but very expensive for a simple bre...</td>\n",
       "      <td>were</td>\n",
       "    </tr>\n",
       "    <tr>\n",
       "      <th>OxDuLpG3t4IjgZAqX6VRLQ</th>\n",
       "      <td>Great neighborhood sports bar.  They've got so...</td>\n",
       "      <td></td>\n",
       "    </tr>\n",
       "    <tr>\n",
       "      <th>_ztWOr-oQMzVtvDyswUQOA</th>\n",
       "      <td>Great, fun atomosphere! Service was great! My ...</td>\n",
       "      <td>was had was were</td>\n",
       "    </tr>\n",
       "    <tr>\n",
       "      <th>RnhBH0hGPB9dBXP0BQAYBw</th>\n",
       "      <td>I loved this casual dining experience at the g...</td>\n",
       "      <td>loved stopped had sat was was</td>\n",
       "    </tr>\n",
       "    <tr>\n",
       "      <th>uaxOnMEBB1wcLfRsSsVY8g</th>\n",
       "      <td>i called them and they wanted to charge $30 fo...</td>\n",
       "      <td>called wanted found did</td>\n",
       "    </tr>\n",
       "    <tr>\n",
       "      <th>CgGO-VEEeUFngo0uf6Z7DQ</th>\n",
       "      <td>Simply magnificent. Easily the best Mexican fo...</td>\n",
       "      <td></td>\n",
       "    </tr>\n",
       "    <tr>\n",
       "      <th>ODtau4AxqBoGeEW5JGlZPw</th>\n",
       "      <td>I wrote a less than stellar review about this ...</td>\n",
       "      <td>wrote decided decided was was was had acted we...</td>\n",
       "    </tr>\n",
       "    <tr>\n",
       "      <th>smRJLdNn0C6FtzKhiuvBDA</th>\n",
       "      <td>So we went here on Monday to celebrate another...</td>\n",
       "      <td>went changed did had was was was did was</td>\n",
       "    </tr>\n",
       "    <tr>\n",
       "      <th>m6X-e16VIJsRv3-64iNMfA</th>\n",
       "      <td>Pretty good place.  You never actually know wh...</td>\n",
       "      <td>was</td>\n",
       "    </tr>\n",
       "    <tr>\n",
       "      <th>_CV94H0BgcZ_VjrGllmXpg</th>\n",
       "      <td>I had been dying to try True Food Kitchen for ...</td>\n",
       "      <td>had was took went was ordered was was became o...</td>\n",
       "    </tr>\n",
       "    <tr>\n",
       "      <th>7pDu262vEGm7Avr9QeghAA</th>\n",
       "      <td>not clean, worst gel manicure ever and ruined ...</td>\n",
       "      <td>ruined finished started sanded cut brought</td>\n",
       "    </tr>\n",
       "    <tr>\n",
       "      <th>ncudV5yVmoT3PWvYorCszA</th>\n",
       "      <td>Are you kidding me, this place is great.  Perf...</td>\n",
       "      <td></td>\n",
       "    </tr>\n",
       "    <tr>\n",
       "      <th>UgyvGcJ4ZGkMg3QMWEt5_Q</th>\n",
       "      <td>Does anyone else think chips and salsa are par...</td>\n",
       "      <td></td>\n",
       "    </tr>\n",
       "    <tr>\n",
       "      <th>K2VH5I1ufm1Hw9jT0VJexA</th>\n",
       "      <td>It's not only a book store but also a communit...</td>\n",
       "      <td></td>\n",
       "    </tr>\n",
       "    <tr>\n",
       "      <th>v1cZKbl5NJXPEEuGbqPmNw</th>\n",
       "      <td>Nicely edited selection of mid to high end ele...</td>\n",
       "      <td></td>\n",
       "    </tr>\n",
       "    <tr>\n",
       "      <th>XbC1i3lXYMDlHS94S-FHJw</th>\n",
       "      <td>Went here because of the reviews on Yelp,  ver...</td>\n",
       "      <td>Went Had Had were</td>\n",
       "    </tr>\n",
       "    <tr>\n",
       "      <th>-8a9TktdvoC01Xm69S6Q7w</th>\n",
       "      <td>Our visit to Scottsdale brought us into Founta...</td>\n",
       "      <td>brought were decided heard happened was made</td>\n",
       "    </tr>\n",
       "    <tr>\n",
       "      <th>rudZ-SWNx8x9bRIgWxeihw</th>\n",
       "      <td>Since moving to Arizona I have selected Fry's ...</td>\n",
       "      <td>signed</td>\n",
       "    </tr>\n",
       "    <tr>\n",
       "      <th>kyZ6dPtX14mIODf3KrQAtQ</th>\n",
       "      <td>I'm a value sorta guy...considering that, I sh...</td>\n",
       "      <td></td>\n",
       "    </tr>\n",
       "    <tr>\n",
       "      <th>1vy4zZEyu6rUM7fza5urgQ</th>\n",
       "      <td>I used to love Quiznos.... I would go out of m...</td>\n",
       "      <td>used was did got took took was went</td>\n",
       "    </tr>\n",
       "    <tr>\n",
       "      <th>PNsEemFegniUx1guONCxjA</th>\n",
       "      <td>Place is awsome.  Got the beef cheesesteak and...</td>\n",
       "      <td>Got was was was walked</td>\n",
       "    </tr>\n",
       "    <tr>\n",
       "      <th>RrO_L0kXi57Teoxa7g6KYg</th>\n",
       "      <td>went for lunch today with my girlfriend.  i ha...</td>\n",
       "      <td>went had had switched was had loved seasoned h...</td>\n",
       "    </tr>\n",
       "    <tr>\n",
       "      <th>Pci-l3zCK0FVCnJaKliMyg</th>\n",
       "      <td>Thanks for helping me to find Valley Eyecare C...</td>\n",
       "      <td>visited knew walked was was was was was was di...</td>\n",
       "    </tr>\n",
       "    <tr>\n",
       "      <th>zwTx89vgWu8IAU2DGaFpVA</th>\n",
       "      <td>This is the best buffet in Az. HUGE variety fr...</td>\n",
       "      <td></td>\n",
       "    </tr>\n",
       "    <tr>\n",
       "      <th>7vSAtODBT0frsv8pCgcCHA</th>\n",
       "      <td>Excellent service and great quality.  I will a...</td>\n",
       "      <td>Had needed had</td>\n",
       "    </tr>\n",
       "  </tbody>\n",
       "</table>\n",
       "<p>1000 rows × 2 columns</p>\n",
       "</div>"
      ],
      "text/plain": [
       "                                                                     text  \\\n",
       "review_id                                                                   \n",
       "Pviwc4jGf2dia6zKYc9CAA  Best breakfast in west Chandler!  I love their...   \n",
       "_ElIIVS6FSE051k9qKD8vQ  came here last Saturday night with a friend. t...   \n",
       "DfsdM_qT6kyzRa2MpfeuSA  Great Frozen Yogurt. Helpful staff, clean envi...   \n",
       "0xA6Q_vQhVI4hZh7Wvaw5Q  I came here for a Yelp event and had a great t...   \n",
       "dc9QzMK5ngeWlser3yiQLQ  Best place in Arcadia to get a coffee or a tea...   \n",
       "DPhy3dRkmhiphPD57j7Vtg  I have been here at least 10 times and have ne...   \n",
       "4xdfcdhZSShne6aIVp1cMA  Ugh.  My tip-off should have been the Guy Who ...   \n",
       "KuwJr_6BUt4tsrA6M3zbjg  While I am giving this restaurant four stars, ...   \n",
       "L2NIFHpkykMg21g-a7lOpA  This place does it right, but hold on to your ...   \n",
       "L5tu22TsPaI6pgVkg9fSpQ  They came to my house the same day that I call...   \n",
       "r8r4aZHyTtPk5Ntad7FDaA  The service here was wonderful, really friendl...   \n",
       "qM17darbRCQm2KiemtTc6A  Soggy overpriced fast food burger with allot o...   \n",
       "j1ZVJokxBKvI0dX2652FoA  This review is mainly for the bar and a few li...   \n",
       "FAyctGefcKSgWQQuL_QOSA  We had a pretty darn good time.\\r\\n\\r\\nDecided...   \n",
       "rKVjF9XlDfW_mIf_n-VrIg  Brookstone is the Sharper Image's older and mo...   \n",
       "2ezengWz-lYIDWRCX5cfPQ  I'm President of the Local scooter club so I k...   \n",
       "VLzod0cVgMuY4eR1NdRC5Q  OMG try their breakfast burritos!!!!  Habanero...   \n",
       "Oz9HXBHI8cqTeFgEusyUrw              Very friendly and knowledgeable guys.   \n",
       "6jIkly-coKd7ReOQcvRidw  Over-priced, over-crowded and every time I hav...   \n",
       "yHkvJxOyBbGT3MG-d487zw  Great drinks!!!\\r\\n\\r\\nGood atmosphere\\r\\n\\r\\n...   \n",
       "J7MtPNuSCzIpUnfLSuz4ZQ  Thanks to Sara V. I learned about Total Wine &...   \n",
       "LJxpeUxAXKloGT3VQjWv1A  This bar is now \"Dodey's\". Sold just under a y...   \n",
       "gFpZacglRHhKUVvUXmIVtg  Anytime I locate a Subway with BOOTHS, I put i...   \n",
       "d37voH8FNsdb4ewmSrLNWg  I eat a lot of Asian food (of different sorts)...   \n",
       "4XLehIAzLEN2XwDXQezcUA  Zipps has good bar food, but the service is us...   \n",
       "2Jfy0EnW9PEFjhbMpdWwSA  KIerland Commons is a fantastic development. L...   \n",
       "FGVsHCT8DgeSAHd5va8FjQ  New N. Scottsdale location, Baaaaaaad!  The we...   \n",
       "hghI4qb8mDNGko2GSHx3Ew  I'm always on the lookout for a morning coffee...   \n",
       "G4R9ZqwwY_eq2PeGcQlv4Q  I was looking into gyms around the area. Upon ...   \n",
       "AIVj3zSU0GtrQvjK0-h-5g  Dr Natalie is a compassionate, empathetic, car...   \n",
       "...                                                                   ...   \n",
       "E2_iMgob9t9_vg8FazTJJg  My new favorite Mexican place in Tempe. Love t...   \n",
       "NuU3hi3Bsm3sUcSzmE13rQ  We were exceptionally sun deprived by the time...   \n",
       "MExqiQcg4Yfg7HRyjnxskw  When I say a certain food contains ingredients...   \n",
       "kW99ou1rgbj2FnzMGYh7NA  Best Greek food I had in Arizona and excellent...   \n",
       "1cqdoam9JEVnVtMvvXp7zQ  I was stuck between wanting to give a two star...   \n",
       "C3F0kLSSEteBvx97qtUrfw  Good food, but very expensive for a simple bre...   \n",
       "OxDuLpG3t4IjgZAqX6VRLQ  Great neighborhood sports bar.  They've got so...   \n",
       "_ztWOr-oQMzVtvDyswUQOA  Great, fun atomosphere! Service was great! My ...   \n",
       "RnhBH0hGPB9dBXP0BQAYBw  I loved this casual dining experience at the g...   \n",
       "uaxOnMEBB1wcLfRsSsVY8g  i called them and they wanted to charge $30 fo...   \n",
       "CgGO-VEEeUFngo0uf6Z7DQ  Simply magnificent. Easily the best Mexican fo...   \n",
       "ODtau4AxqBoGeEW5JGlZPw  I wrote a less than stellar review about this ...   \n",
       "smRJLdNn0C6FtzKhiuvBDA  So we went here on Monday to celebrate another...   \n",
       "m6X-e16VIJsRv3-64iNMfA  Pretty good place.  You never actually know wh...   \n",
       "_CV94H0BgcZ_VjrGllmXpg  I had been dying to try True Food Kitchen for ...   \n",
       "7pDu262vEGm7Avr9QeghAA  not clean, worst gel manicure ever and ruined ...   \n",
       "ncudV5yVmoT3PWvYorCszA  Are you kidding me, this place is great.  Perf...   \n",
       "UgyvGcJ4ZGkMg3QMWEt5_Q  Does anyone else think chips and salsa are par...   \n",
       "K2VH5I1ufm1Hw9jT0VJexA  It's not only a book store but also a communit...   \n",
       "v1cZKbl5NJXPEEuGbqPmNw  Nicely edited selection of mid to high end ele...   \n",
       "XbC1i3lXYMDlHS94S-FHJw  Went here because of the reviews on Yelp,  ver...   \n",
       "-8a9TktdvoC01Xm69S6Q7w  Our visit to Scottsdale brought us into Founta...   \n",
       "rudZ-SWNx8x9bRIgWxeihw  Since moving to Arizona I have selected Fry's ...   \n",
       "kyZ6dPtX14mIODf3KrQAtQ  I'm a value sorta guy...considering that, I sh...   \n",
       "1vy4zZEyu6rUM7fza5urgQ  I used to love Quiznos.... I would go out of m...   \n",
       "PNsEemFegniUx1guONCxjA  Place is awsome.  Got the beef cheesesteak and...   \n",
       "RrO_L0kXi57Teoxa7g6KYg  went for lunch today with my girlfriend.  i ha...   \n",
       "Pci-l3zCK0FVCnJaKliMyg  Thanks for helping me to find Valley Eyecare C...   \n",
       "zwTx89vgWu8IAU2DGaFpVA  This is the best buffet in Az. HUGE variety fr...   \n",
       "7vSAtODBT0frsv8pCgcCHA  Excellent service and great quality.  I will a...   \n",
       "\n",
       "                                                         past_tense_verbs  \n",
       "review_id                                                                  \n",
       "Pviwc4jGf2dia6zKYc9CAA                                                     \n",
       "_ElIIVS6FSE051k9qKD8vQ                                came had was crispy  \n",
       "DfsdM_qT6kyzRa2MpfeuSA                                                     \n",
       "0xA6Q_vQhVI4hZh7Wvaw5Q                  came had divided liked was rocked  \n",
       "dc9QzMK5ngeWlser3yiQLQ                                               read  \n",
       "DPhy3dRkmhiphPD57j7Vtg                                                     \n",
       "4xdfcdhZSShne6aIVp1cMA  Saw came was was was scanned found ordered tol...  \n",
       "KuwJr_6BUt4tsrA6M3zbjg                              served decided needed  \n",
       "L2NIFHpkykMg21g-a7lOpA                                                     \n",
       "L5tu22TsPaI6pgVkg9fSpQ                                came called was did  \n",
       "r8r4aZHyTtPk5Ntad7FDaA                                 was was was wanted  \n",
       "qM17darbRCQm2KiemtTc6A                                         overpriced  \n",
       "j1ZVJokxBKvI0dX2652FoA  was got posted Started got was showed was took...  \n",
       "FAyctGefcKSgWQQuL_QOSA  had Decided was got went was changed got start...  \n",
       "rKVjF9XlDfW_mIf_n-VrIg                                                     \n",
       "2ezengWz-lYIDWRCX5cfPQ                                    did had had Got  \n",
       "VLzod0cVgMuY4eR1NdRC5Q                                                     \n",
       "Oz9HXBHI8cqTeFgEusyUrw                                                     \n",
       "6jIkly-coKd7ReOQcvRidw                                                     \n",
       "yHkvJxOyBbGT3MG-d487zw                                               kept  \n",
       "J7MtPNuSCzIpUnfLSuz4ZQ  learned heard were was had recommended had lov...  \n",
       "LJxpeUxAXKloGT3VQjWv1A                                                     \n",
       "gFpZacglRHhKUVvUXmIVtg  put hopped was asked had said asked was wanted...  \n",
       "d37voH8FNsdb4ewmSrLNWg                                                was  \n",
       "4XLehIAzLEN2XwDXQezcUA                                                     \n",
       "2Jfy0EnW9PEFjhbMpdWwSA                                           frequent  \n",
       "FGVsHCT8DgeSAHd5va8FjQ                                    were was forgot  \n",
       "hghI4qb8mDNGko2GSHx3Ew            decided looked was was had was said was  \n",
       "G4R9ZqwwY_eq2PeGcQlv4Q  was was asked said stood snickered went came w...  \n",
       "AIVj3zSU0GtrQvjK0-h-5g                                                     \n",
       "...                                                                   ...  \n",
       "E2_iMgob9t9_vg8FazTJJg                                                     \n",
       "NuU3hi3Bsm3sUcSzmE13rQ  were came was did picked was spent was was wer...  \n",
       "MExqiQcg4Yfg7HRyjnxskw  sampled Salted were was got was saw did was ta...  \n",
       "kW99ou1rgbj2FnzMGYh7NA                       had were was had was had was  \n",
       "1cqdoam9JEVnVtMvvXp7zQ                  was seemed was was was had seemed  \n",
       "C3F0kLSSEteBvx97qtUrfw                                               were  \n",
       "OxDuLpG3t4IjgZAqX6VRLQ                                                     \n",
       "_ztWOr-oQMzVtvDyswUQOA                                   was had was were  \n",
       "RnhBH0hGPB9dBXP0BQAYBw                      loved stopped had sat was was  \n",
       "uaxOnMEBB1wcLfRsSsVY8g                            called wanted found did  \n",
       "CgGO-VEEeUFngo0uf6Z7DQ                                                     \n",
       "ODtau4AxqBoGeEW5JGlZPw  wrote decided decided was was was had acted we...  \n",
       "smRJLdNn0C6FtzKhiuvBDA           went changed did had was was was did was  \n",
       "m6X-e16VIJsRv3-64iNMfA                                                was  \n",
       "_CV94H0BgcZ_VjrGllmXpg  had was took went was ordered was was became o...  \n",
       "7pDu262vEGm7Avr9QeghAA         ruined finished started sanded cut brought  \n",
       "ncudV5yVmoT3PWvYorCszA                                                     \n",
       "UgyvGcJ4ZGkMg3QMWEt5_Q                                                     \n",
       "K2VH5I1ufm1Hw9jT0VJexA                                                     \n",
       "v1cZKbl5NJXPEEuGbqPmNw                                                     \n",
       "XbC1i3lXYMDlHS94S-FHJw                                  Went Had Had were  \n",
       "-8a9TktdvoC01Xm69S6Q7w       brought were decided heard happened was made  \n",
       "rudZ-SWNx8x9bRIgWxeihw                                             signed  \n",
       "kyZ6dPtX14mIODf3KrQAtQ                                                     \n",
       "1vy4zZEyu6rUM7fza5urgQ                used was did got took took was went  \n",
       "PNsEemFegniUx1guONCxjA                             Got was was was walked  \n",
       "RrO_L0kXi57Teoxa7g6KYg  went had had switched was had loved seasoned h...  \n",
       "Pci-l3zCK0FVCnJaKliMyg  visited knew walked was was was was was was di...  \n",
       "zwTx89vgWu8IAU2DGaFpVA                                                     \n",
       "7vSAtODBT0frsv8pCgcCHA                                     Had needed had  \n",
       "\n",
       "[1000 rows x 2 columns]"
      ]
     },
     "execution_count": 154,
     "metadata": {},
     "output_type": "execute_result"
    }
   ],
   "source": [
    "yelp_sample['past_tense_verbs'] = yelp_sample.nlp.map(past_verbs)\n",
    "yelp_sample[['text', 'past_tense_verbs']]"
   ]
  },
  {
   "cell_type": "code",
   "execution_count": 155,
   "metadata": {},
   "outputs": [],
   "source": [
    "tfidf3 = sklearn.feature_extraction.text.TfidfVectorizer(ngram_range=(1,1), min_df=2)\n",
    "verbvec = tfidf3.fit_transform(yelp_sample.past_tense_verbs)"
   ]
  },
  {
   "cell_type": "code",
   "execution_count": 156,
   "metadata": {},
   "outputs": [
    {
     "data": {
      "text/plain": [
       "['acted',\n",
       " 'added',\n",
       " 'agreed',\n",
       " 'answered',\n",
       " 'appeared',\n",
       " 'appreciated',\n",
       " 'approached',\n",
       " 'arrived',\n",
       " 'asked',\n",
       " 'assumed',\n",
       " 'assured',\n",
       " 'ate',\n",
       " 'attempted',\n",
       " 'attended',\n",
       " 'bagged',\n",
       " 'beat',\n",
       " 'became',\n",
       " 'began',\n",
       " 'blew',\n",
       " 'booked',\n",
       " 'bothered',\n",
       " 'bought',\n",
       " 'broke',\n",
       " 'brought',\n",
       " 'called',\n",
       " 'came',\n",
       " 'caught',\n",
       " 'caved',\n",
       " 'changed',\n",
       " 'charged',\n",
       " 'chatted',\n",
       " 'checked',\n",
       " 'chopped',\n",
       " 'chose',\n",
       " 'claimed',\n",
       " 'cleaned',\n",
       " 'cleared',\n",
       " 'comped',\n",
       " 'complained',\n",
       " 'consisted',\n",
       " 'contained',\n",
       " 'continued',\n",
       " 'cooked',\n",
       " 'cost',\n",
       " 'created',\n",
       " 'crispy',\n",
       " 'cut',\n",
       " 'decided',\n",
       " 'deserved',\n",
       " 'determined',\n",
       " 'devoured',\n",
       " 'did',\n",
       " 'dipped',\n",
       " 'disappeared',\n",
       " 'disappointed',\n",
       " 'discovered',\n",
       " 'disliked',\n",
       " 'drank',\n",
       " 'dropped',\n",
       " 'drove',\n",
       " 'dug',\n",
       " 'dumped',\n",
       " 'encountered',\n",
       " 'ended',\n",
       " 'enjoyed',\n",
       " 'entered',\n",
       " 'entertained',\n",
       " 'envisioned',\n",
       " 'expected',\n",
       " 'experienced',\n",
       " 'explained',\n",
       " 'fell',\n",
       " 'felt',\n",
       " 'figured',\n",
       " 'filled',\n",
       " 'finished',\n",
       " 'flew',\n",
       " 'followed',\n",
       " 'forgot',\n",
       " 'found',\n",
       " 'frequent',\n",
       " 'gave',\n",
       " 'got',\n",
       " 'graduated',\n",
       " 'greeted',\n",
       " 'grew',\n",
       " 'grilled',\n",
       " 'had',\n",
       " 'handed',\n",
       " 'happened',\n",
       " 'hated',\n",
       " 'heard',\n",
       " 'helped',\n",
       " 'hit',\n",
       " 'hooked',\n",
       " 'hung',\n",
       " 'included',\n",
       " 'indicated',\n",
       " 'informed',\n",
       " 'inspired',\n",
       " 'introduced',\n",
       " 'jumped',\n",
       " 'kept',\n",
       " 'knew',\n",
       " 'lacked',\n",
       " 'laid',\n",
       " 'landed',\n",
       " 'learned',\n",
       " 'led',\n",
       " 'left',\n",
       " 'let',\n",
       " 'liked',\n",
       " 'lived',\n",
       " 'looked',\n",
       " 'lost',\n",
       " 'loved',\n",
       " 'made',\n",
       " 'managed',\n",
       " 'marinated',\n",
       " 'marked',\n",
       " 'mashed',\n",
       " 'meant',\n",
       " 'melted',\n",
       " 'mentioned',\n",
       " 'messed',\n",
       " 'met',\n",
       " 'microwaved',\n",
       " 'missed',\n",
       " 'moved',\n",
       " 'needed',\n",
       " 'neglected',\n",
       " 'noticed',\n",
       " 'offered',\n",
       " 'opened',\n",
       " 'opted',\n",
       " 'ordered',\n",
       " 'overcharged',\n",
       " 'overcooked',\n",
       " 'overlooked',\n",
       " 'overpriced',\n",
       " 'owned',\n",
       " 'paid',\n",
       " 'paired',\n",
       " 'parked',\n",
       " 'passed',\n",
       " 'picked',\n",
       " 'place',\n",
       " 'placed',\n",
       " 'pointed',\n",
       " 'popped',\n",
       " 'proceeded',\n",
       " 'provided',\n",
       " 'pulled',\n",
       " 'pun',\n",
       " 'purchased',\n",
       " 'put',\n",
       " 'questioned',\n",
       " 'ran',\n",
       " 'rang',\n",
       " 'raved',\n",
       " 'read',\n",
       " 'realized',\n",
       " 'received',\n",
       " 'recognized',\n",
       " 'recommended',\n",
       " 'refilled',\n",
       " 'refunded',\n",
       " 'remembered',\n",
       " 'reminded',\n",
       " 'requested',\n",
       " 'responded',\n",
       " 'resulted',\n",
       " 'returned',\n",
       " 'roasted',\n",
       " 'rolled',\n",
       " 'rose',\n",
       " 'ruined',\n",
       " 'sacrificed',\n",
       " 'said',\n",
       " 'salad',\n",
       " 'salted',\n",
       " 'sampled',\n",
       " 'sat',\n",
       " 'saved',\n",
       " 'saw',\n",
       " 'scored',\n",
       " 'seasoned',\n",
       " 'seemed',\n",
       " 'sent',\n",
       " 'served',\n",
       " 'set',\n",
       " 'settled',\n",
       " 'shared',\n",
       " 'showed',\n",
       " 'shredded',\n",
       " 'signed',\n",
       " 'skipped',\n",
       " 'sliced',\n",
       " 'smelled',\n",
       " 'smiled',\n",
       " 'smoked',\n",
       " 'snickered',\n",
       " 'sold',\n",
       " 'sounded',\n",
       " 'spent',\n",
       " 'spit',\n",
       " 'split',\n",
       " 'spoke',\n",
       " 'spotted',\n",
       " 'sprinkled',\n",
       " 'stacked',\n",
       " 'stared',\n",
       " 'started',\n",
       " 'stated',\n",
       " 'stayed',\n",
       " 'stepped',\n",
       " 'stood',\n",
       " 'stopped',\n",
       " 'struggled',\n",
       " 'stuck',\n",
       " 'stumbled',\n",
       " 'sucked',\n",
       " 'suggested',\n",
       " 'surprised',\n",
       " 'switched',\n",
       " 'talked',\n",
       " 'tasted',\n",
       " 'tested',\n",
       " 'thought',\n",
       " 'threw',\n",
       " 'told',\n",
       " 'took',\n",
       " 'topped',\n",
       " 'tossed',\n",
       " 'tried',\n",
       " 'turned',\n",
       " 'used',\n",
       " 'ventured',\n",
       " 'visited',\n",
       " 'vowed',\n",
       " 'waited',\n",
       " 'walked',\n",
       " 'wanted',\n",
       " 'was',\n",
       " 'washed',\n",
       " 'wasted',\n",
       " 'watched',\n",
       " 'went',\n",
       " 'were',\n",
       " 'won',\n",
       " 'wondered',\n",
       " 'worked',\n",
       " 'wrapped',\n",
       " 'wrote']"
      ]
     },
     "execution_count": 156,
     "metadata": {},
     "output_type": "execute_result"
    }
   ],
   "source": [
    "tfidf3.get_feature_names()"
   ]
  },
  {
   "cell_type": "code",
   "execution_count": 158,
   "metadata": {},
   "outputs": [
    {
     "name": "stderr",
     "output_type": "stream",
     "text": [
      "D:\\Users\\gregb\\AppData\\Local\\Continuum\\anaconda3\\lib\\site-packages\\sklearn\\linear_model\\logistic.py:947: ConvergenceWarning: lbfgs failed to converge. Increase the number of iterations.\n",
      "  \"of iterations.\", ConvergenceWarning)\n",
      "D:\\Users\\gregb\\AppData\\Local\\Continuum\\anaconda3\\lib\\site-packages\\sklearn\\linear_model\\logistic.py:947: ConvergenceWarning: lbfgs failed to converge. Increase the number of iterations.\n",
      "  \"of iterations.\", ConvergenceWarning)\n",
      "D:\\Users\\gregb\\AppData\\Local\\Continuum\\anaconda3\\lib\\site-packages\\sklearn\\linear_model\\logistic.py:947: ConvergenceWarning: lbfgs failed to converge. Increase the number of iterations.\n",
      "  \"of iterations.\", ConvergenceWarning)\n",
      "D:\\Users\\gregb\\AppData\\Local\\Continuum\\anaconda3\\lib\\site-packages\\sklearn\\linear_model\\logistic.py:947: ConvergenceWarning: lbfgs failed to converge. Increase the number of iterations.\n",
      "  \"of iterations.\", ConvergenceWarning)\n"
     ]
    },
    {
     "data": {
      "text/plain": [
       "LogisticRegressionCV(Cs=10, class_weight=None, cv=5, dual=False,\n",
       "                     fit_intercept=True, intercept_scaling=1.0, l1_ratios=None,\n",
       "                     max_iter=1000, multi_class='auto', n_jobs=None,\n",
       "                     penalty='l2', random_state=None, refit=True, scoring=None,\n",
       "                     solver='lbfgs', tol=0.0001, verbose=0)"
      ]
     },
     "execution_count": 158,
     "metadata": {},
     "output_type": "execute_result"
    }
   ],
   "source": [
    "lr = sklearn.linear_model.LogisticRegressionCV(multi_class='auto', solver='lbfgs', cv=5, max_iter=1000)\n",
    "lr.fit(verbvec, yelp_sample.feedback)"
   ]
  },
  {
   "cell_type": "code",
   "execution_count": 159,
   "metadata": {},
   "outputs": [
    {
     "data": {
      "text/plain": [
       "enjoyed        0.000328\n",
       "loved          0.000309\n",
       "lived          0.000173\n",
       "moved          0.000158\n",
       "bought         0.000130\n",
       "opened         0.000115\n",
       "liked          0.000090\n",
       "remembered     0.000088\n",
       "recommended    0.000086\n",
       "helped         0.000082\n",
       "shared         0.000082\n",
       "mashed         0.000079\n",
       "popped         0.000076\n",
       "grilled        0.000075\n",
       "stumbled       0.000070\n",
       "determined     0.000068\n",
       "picked         0.000067\n",
       "had            0.000062\n",
       "fell           0.000061\n",
       "included       0.000060\n",
       "smoked         0.000059\n",
       "discovered     0.000058\n",
       "greeted        0.000058\n",
       "booked         0.000058\n",
       "parked         0.000056\n",
       "entered        0.000055\n",
       "raved          0.000051\n",
       "let            0.000051\n",
       "set            0.000048\n",
       "frequent       0.000047\n",
       "                 ...   \n",
       "saw           -0.000139\n",
       "cut           -0.000142\n",
       "stood         -0.000149\n",
       "threw         -0.000157\n",
       "sat           -0.000158\n",
       "decided       -0.000158\n",
       "left          -0.000167\n",
       "walked        -0.000168\n",
       "realized      -0.000195\n",
       "lacked        -0.000197\n",
       "made          -0.000199\n",
       "gave          -0.000208\n",
       "went          -0.000214\n",
       "ate           -0.000217\n",
       "told          -0.000232\n",
       "felt          -0.000232\n",
       "looked        -0.000234\n",
       "asked         -0.000242\n",
       "tried         -0.000251\n",
       "got           -0.000264\n",
       "wanted        -0.000325\n",
       "came          -0.000350\n",
       "took          -0.000353\n",
       "seemed        -0.000354\n",
       "tasted        -0.000384\n",
       "ordered       -0.000388\n",
       "did           -0.000431\n",
       "were          -0.000443\n",
       "said          -0.000454\n",
       "was           -0.002474\n",
       "Length: 254, dtype: float64"
      ]
     },
     "execution_count": 159,
     "metadata": {},
     "output_type": "execute_result"
    }
   ],
   "source": [
    "happy_verbs = pd.Series(index=tfidf3.get_feature_names(), data=lr.coef_[0])\n",
    "happy_verbs.sort_values(ascending=False)"
   ]
  },
  {
   "cell_type": "code",
   "execution_count": null,
   "metadata": {},
   "outputs": [],
   "source": [
    "# What about adjectives only? What do you notice about these adjectives?"
   ]
  },
  {
   "cell_type": "code",
   "execution_count": 162,
   "metadata": {},
   "outputs": [
    {
     "name": "stdout",
     "output_type": "stream",
     "text": [
      "That DET be\n",
      "was AUX be\n",
      "the DET meal\n",
      "most ADV meal\n",
      "jhakaas PROPN meal\n",
      "meal NOUN be\n"
     ]
    }
   ],
   "source": [
    "hinglish = nlp('That was the most jhakaas meal')\n",
    "for word in hinglish:\n",
    "    print(word, word.pos_, word.head.lemma_)"
   ]
  },
  {
   "cell_type": "code",
   "execution_count": 176,
   "metadata": {},
   "outputs": [
    {
     "name": "stdout",
     "output_type": "stream",
     "text": [
      "\n",
      " SPACE how\n",
      "How ADV open\n",
      "do AUX open\n",
      "I PRON open\n",
      "open VERB open\n",
      "a DET account\n",
      "trust NOUN account\n",
      "account NOUN open\n",
      "? PUNCT open\n",
      "How ADV update\n",
      "do AUX update\n",
      "I PRON update\n",
      "update VERB update\n",
      "the DET beneficiary\n",
      "beneficiary NOUN update\n",
      "? PUNCT update\n",
      "How ADV short\n",
      "can AUX short\n",
      "i PRON short\n",
      "short VERB short\n",
      "a DET derivative\n",
      "derivative NOUN short\n",
      "? PUNCT short\n",
      "\n",
      " SPACE ?\n",
      "Move VERB move\n",
      "it PRON move\n",
      "from ADP move\n",
      "wash PROPN account\n",
      "account NOUN from\n",
      "to PART control\n",
      "control NOUN move\n",
      "account NOUN control\n",
      ". PUNCT move\n",
      "\n",
      " SPACE .\n",
      "Can AUX give\n",
      "you PRON give\n",
      "give VERB give\n",
      "me PRON give\n",
      "52 NUM week\n",
      "week NOUN high\n",
      "high ADJ give\n",
      "of ADP high\n",
      "apple NOUN of\n",
      "? PUNCT give\n"
     ]
    },
    {
     "data": {
      "text/plain": [
       "[I,\n",
       " a trust account,\n",
       " I,\n",
       " the beneficiary,\n",
       " i,\n",
       " a derivative,\n",
       " it,\n",
       " wash account,\n",
       " account,\n",
       " you,\n",
       " me,\n",
       " apple]"
      ]
     },
     "execution_count": 176,
     "metadata": {},
     "output_type": "execute_result"
    }
   ],
   "source": [
    "financial = nlp(\"\"\"\n",
    "How do I open a trust account? How do I update the beneficiary? How can i short a derivative?\n",
    "Move it from wash account to control account.\n",
    "Can you give me 52 week high of apple?\"\"\")\n",
    "for word in financial:\n",
    "    print(word, word.pos_, word.head.lemma_)\n",
    "list(financial.noun_chunks)"
   ]
  },
  {
   "cell_type": "code",
   "execution_count": 171,
   "metadata": {},
   "outputs": [
    {
     "data": {
      "text/plain": [
       "'the recipient of funds or other benefits'"
      ]
     },
     "execution_count": 171,
     "metadata": {},
     "output_type": "execute_result"
    }
   ],
   "source": [
    "wn.synsets(financial[-2].orth_)[0].definition()"
   ]
  },
  {
   "cell_type": "code",
   "execution_count": 178,
   "metadata": {},
   "outputs": [
    {
     "data": {
      "text/plain": [
       "'a lofty level or position or degree'"
      ]
     },
     "execution_count": 178,
     "metadata": {},
     "output_type": "execute_result"
    }
   ],
   "source": [
    "wn.synsets('high')[0].definition()"
   ]
  },
  {
   "cell_type": "code",
   "execution_count": null,
   "metadata": {},
   "outputs": [],
   "source": []
  },
  {
   "cell_type": "markdown",
   "metadata": {},
   "source": [
    "<a id='sentiment'></a>\n",
    "## Sentiment Analysis\n",
    "\n",
    "Understanding how positive or negative a review is. There are many ways in practice to compute a sentiment value. For example:\n",
    "\n",
    "- Have a list of \"positive\" words and a list of \"negative\" words and count how many occur in a document. \n",
    "- Train a classifier given many examples of \"positive\" documents and \"negative\" documents. \n",
    "    - Note that this technique is often just an automated way to derive the first (e.g., using bag-of-words with logistic regression, a coefficient is assigned to each word!).\n",
    "\n",
    "For the most accurate sentiment analysis, you will want to train a custom sentiment model based on documents that are particular to your application. Generic models (such as the one we are about to use!) often do not work as well as hoped.\n",
    "\n",
    "As we will do below, always make sure you double-check that the algorithm is working by manually verifying that scores correctly correspond to positive/negative reviews! Otherwise, you may be using numbers that are not accurate."
   ]
  },
  {
   "cell_type": "code",
   "execution_count": 52,
   "metadata": {},
   "outputs": [],
   "source": [
    "import nltk\n",
    "from nltk.corpus import wordnet as wn"
   ]
  },
  {
   "cell_type": "code",
   "execution_count": 53,
   "metadata": {},
   "outputs": [
    {
     "data": {
      "text/plain": [
       "[Synset('restaurant.n.01')]"
      ]
     },
     "execution_count": 53,
     "metadata": {},
     "output_type": "execute_result"
    }
   ],
   "source": [
    "wn.synsets('restaurant')"
   ]
  },
  {
   "cell_type": "code",
   "execution_count": 56,
   "metadata": {},
   "outputs": [
    {
     "data": {
      "text/plain": [
       "Synset('restaurant.n.01')"
      ]
     },
     "execution_count": 56,
     "metadata": {},
     "output_type": "execute_result"
    }
   ],
   "source": [
    "r = wn.synsets('restaurant')[0]\n",
    "r"
   ]
  },
  {
   "cell_type": "code",
   "execution_count": 57,
   "metadata": {},
   "outputs": [
    {
     "data": {
      "text/plain": [
       "'a building where people go to eat'"
      ]
     },
     "execution_count": 57,
     "metadata": {},
     "output_type": "execute_result"
    }
   ],
   "source": [
    "r.definition()"
   ]
  },
  {
   "cell_type": "code",
   "execution_count": 58,
   "metadata": {},
   "outputs": [
    {
     "data": {
      "text/plain": [
       "[Synset('building.n.01')]"
      ]
     },
     "execution_count": 58,
     "metadata": {},
     "output_type": "execute_result"
    }
   ],
   "source": [
    "r.hypernyms()"
   ]
  },
  {
   "cell_type": "code",
   "execution_count": 60,
   "metadata": {},
   "outputs": [
    {
     "data": {
      "text/plain": [
       "'a structure that has a roof and walls and stands more or less permanently in one place'"
      ]
     },
     "execution_count": 60,
     "metadata": {},
     "output_type": "execute_result"
    }
   ],
   "source": [
    "r.hypernyms()[0].definition()"
   ]
  },
  {
   "cell_type": "code",
   "execution_count": 59,
   "metadata": {},
   "outputs": [
    {
     "data": {
      "text/plain": [
       "[Synset('bistro.n.01'),\n",
       " Synset('brasserie.n.01'),\n",
       " Synset('brewpub.n.01'),\n",
       " Synset('cafe.n.01'),\n",
       " Synset('cafeteria.n.01'),\n",
       " Synset('canteen.n.03'),\n",
       " Synset('canteen.n.05'),\n",
       " Synset('diner.n.03'),\n",
       " Synset('greasy_spoon.n.01'),\n",
       " Synset('grillroom.n.01'),\n",
       " Synset('hash_house.n.01'),\n",
       " Synset('lunchroom.n.01'),\n",
       " Synset('rotisserie.n.02'),\n",
       " Synset('steakhouse.n.01'),\n",
       " Synset('teashop.n.01')]"
      ]
     },
     "execution_count": 59,
     "metadata": {},
     "output_type": "execute_result"
    }
   ],
   "source": [
    "r.hyponyms()"
   ]
  },
  {
   "cell_type": "code",
   "execution_count": 65,
   "metadata": {},
   "outputs": [
    {
     "data": {
      "text/plain": [
       "[Lemma('cafeteria.n.01.cafeteria')]"
      ]
     },
     "execution_count": 65,
     "metadata": {},
     "output_type": "execute_result"
    }
   ],
   "source": [
    "r.hyponyms()[4].lemmas()"
   ]
  },
  {
   "cell_type": "code",
   "execution_count": 67,
   "metadata": {},
   "outputs": [
    {
     "data": {
      "text/plain": [
       "'cafeteria.n.01'"
      ]
     },
     "execution_count": 67,
     "metadata": {},
     "output_type": "execute_result"
    }
   ],
   "source": [
    "r.hyponyms()[4].name()"
   ]
  },
  {
   "cell_type": "code",
   "execution_count": 68,
   "metadata": {},
   "outputs": [
    {
     "data": {
      "text/plain": [
       "'cafeteria'"
      ]
     },
     "execution_count": 68,
     "metadata": {},
     "output_type": "execute_result"
    }
   ],
   "source": [
    "r.hyponyms()[4].name().split('.')[0]"
   ]
  },
  {
   "cell_type": "code",
   "execution_count": 79,
   "metadata": {},
   "outputs": [
    {
     "data": {
      "text/plain": [
       "Synset('entity.n.01')"
      ]
     },
     "execution_count": 79,
     "metadata": {},
     "output_type": "execute_result"
    }
   ],
   "source": [
    "r.hypernyms()[0].hypernyms()[0].hypernyms()[0].hypernyms()[0].hypernyms()[0].hypernyms()[0].hypernyms()[0]"
   ]
  },
  {
   "cell_type": "code",
   "execution_count": 94,
   "metadata": {},
   "outputs": [
    {
     "data": {
      "text/plain": [
       "Synset('object.n.01')"
      ]
     },
     "execution_count": 94,
     "metadata": {},
     "output_type": "execute_result"
    }
   ],
   "source": [
    "dog = wn.synsets('dog')\n",
    "dog[0].hypernyms()[0].hypernyms()[0].hypernyms()[0].hypernyms()[0].hypernyms()[0].hypernyms()[0].hypernyms()[0].hypernyms()[0].hypernyms()[0].hypernyms()[0].hypernyms()[0]"
   ]
  },
  {
   "cell_type": "code",
   "execution_count": 95,
   "metadata": {},
   "outputs": [
    {
     "data": {
      "text/plain": [
       "[Synset('physical_entity.n.01'),\n",
       " Synset('entity.n.01'),\n",
       " Synset('object.n.01'),\n",
       " Synset('whole.n.02')]"
      ]
     },
     "execution_count": 95,
     "metadata": {},
     "output_type": "execute_result"
    }
   ],
   "source": [
    "r.common_hypernyms(dog[0])"
   ]
  },
  {
   "cell_type": "code",
   "execution_count": 99,
   "metadata": {},
   "outputs": [
    {
     "data": {
      "text/plain": [
       "[Synset('entity.n.01')]"
      ]
     },
     "execution_count": 99,
     "metadata": {},
     "output_type": "execute_result"
    }
   ],
   "source": [
    "r.common_hypernyms(wn.synsets('happiness')[0])"
   ]
  },
  {
   "cell_type": "code",
   "execution_count": 104,
   "metadata": {},
   "outputs": [
    {
     "data": {
      "text/plain": [
       "[Synset('building.n.01'),\n",
       " Synset('restaurant.n.01'),\n",
       " Synset('physical_entity.n.01'),\n",
       " Synset('whole.n.02'),\n",
       " Synset('structure.n.01'),\n",
       " Synset('entity.n.01'),\n",
       " Synset('object.n.01'),\n",
       " Synset('artifact.n.01')]"
      ]
     },
     "execution_count": 104,
     "metadata": {},
     "output_type": "execute_result"
    }
   ],
   "source": [
    "cafe = wn.synsets('cafe')[0]\n",
    "bistro = wn.synsets('bistro')[0]\n",
    "cafe.common_hypernyms(bistro)"
   ]
  },
  {
   "cell_type": "code",
   "execution_count": 54,
   "metadata": {},
   "outputs": [
    {
     "data": {
      "text/plain": [
       "[Synset('dog.n.01'),\n",
       " Synset('frump.n.01'),\n",
       " Synset('dog.n.03'),\n",
       " Synset('cad.n.01'),\n",
       " Synset('frank.n.02'),\n",
       " Synset('pawl.n.01'),\n",
       " Synset('andiron.n.01'),\n",
       " Synset('chase.v.01')]"
      ]
     },
     "execution_count": 54,
     "metadata": {},
     "output_type": "execute_result"
    }
   ],
   "source": [
    "wn.synsets('dog')"
   ]
  },
  {
   "cell_type": "code",
   "execution_count": null,
   "metadata": {},
   "outputs": [],
   "source": [
    "nltk.download('sentiwordnet')"
   ]
  },
  {
   "cell_type": "code",
   "execution_count": null,
   "metadata": {},
   "outputs": [],
   "source": [
    "nltk.download('wordnet')"
   ]
  },
  {
   "cell_type": "code",
   "execution_count": 105,
   "metadata": {},
   "outputs": [],
   "source": [
    "from nltk.corpus import sentiwordnet as swn"
   ]
  },
  {
   "cell_type": "code",
   "execution_count": 106,
   "metadata": {},
   "outputs": [
    {
     "data": {
      "text/plain": [
       "[SentiSynset('dog.n.01'),\n",
       " SentiSynset('frump.n.01'),\n",
       " SentiSynset('dog.n.03'),\n",
       " SentiSynset('cad.n.01'),\n",
       " SentiSynset('frank.n.02'),\n",
       " SentiSynset('pawl.n.01'),\n",
       " SentiSynset('andiron.n.01'),\n",
       " SentiSynset('chase.v.01')]"
      ]
     },
     "execution_count": 106,
     "metadata": {},
     "output_type": "execute_result"
    }
   ],
   "source": [
    "list(swn.senti_synsets('dog'))"
   ]
  },
  {
   "cell_type": "code",
   "execution_count": 107,
   "metadata": {},
   "outputs": [
    {
     "data": {
      "text/plain": [
       "[SentiSynset('great.n.01'),\n",
       " SentiSynset('great.s.01'),\n",
       " SentiSynset('great.s.02'),\n",
       " SentiSynset('great.s.03'),\n",
       " SentiSynset('bang-up.s.01'),\n",
       " SentiSynset('capital.s.03'),\n",
       " SentiSynset('big.s.13')]"
      ]
     },
     "execution_count": 107,
     "metadata": {},
     "output_type": "execute_result"
    }
   ],
   "source": [
    "list(swn.senti_synsets('great'))"
   ]
  },
  {
   "cell_type": "code",
   "execution_count": 108,
   "metadata": {},
   "outputs": [
    {
     "data": {
      "text/plain": [
       "0.0"
      ]
     },
     "execution_count": 108,
     "metadata": {},
     "output_type": "execute_result"
    }
   ],
   "source": [
    "great_adj = list(swn.senti_synsets('great'))[1]\n",
    "great_adj.pos_score()"
   ]
  },
  {
   "cell_type": "code",
   "execution_count": 109,
   "metadata": {},
   "outputs": [
    {
     "data": {
      "text/plain": [
       "0.875"
      ]
     },
     "execution_count": 109,
     "metadata": {},
     "output_type": "execute_result"
    }
   ],
   "source": [
    "list(swn.senti_synsets('awesome'))[0].pos_score()"
   ]
  },
  {
   "cell_type": "code",
   "execution_count": 110,
   "metadata": {},
   "outputs": [
    {
     "data": {
      "text/plain": [
       "0.125"
      ]
     },
     "execution_count": 110,
     "metadata": {},
     "output_type": "execute_result"
    }
   ],
   "source": [
    "list(swn.senti_synsets('awesome'))[0].neg_score()"
   ]
  },
  {
   "cell_type": "code",
   "execution_count": null,
   "metadata": {},
   "outputs": [],
   "source": [
    "list(swn.senti_synsets('terrible'))[0].neg_score()"
   ]
  },
  {
   "cell_type": "code",
   "execution_count": null,
   "metadata": {},
   "outputs": [],
   "source": [
    "list(swn.senti_synsets('terrible'))[0].pos_score()"
   ]
  },
  {
   "cell_type": "code",
   "execution_count": null,
   "metadata": {},
   "outputs": [],
   "source": [
    "# swn.senti_synsets(...)"
   ]
  },
  {
   "cell_type": "code",
   "execution_count": null,
   "metadata": {},
   "outputs": [],
   "source": [
    "# list(swn.senti_synsets(...))[0].pos_score()"
   ]
  },
  {
   "cell_type": "code",
   "execution_count": 111,
   "metadata": {},
   "outputs": [
    {
     "data": {
      "text/plain": [
       "'My wife took me here on my birthday for breakfast and it was excellent.  The weather was perfect which made sitting outside overlooking their grounds an absolute pleasure.  Our waitress was excellent and our food arrived quickly on the semi-busy Saturday morning.  It looked like the place fills up pretty quickly so the earlier you get here the better.\\r\\n\\r\\nDo yourself a favor and get their Bloody Mary.  It was phenomenal and simply the best I\\'ve ever had.  I\\'m pretty sure they only use ingredients from their garden and blend them fresh when you order it.  It was amazing.\\r\\n\\r\\nWhile EVERYTHING on the menu looks excellent, I had the white truffle scrambled eggs vegetable skillet and it was tasty and delicious.  It came with 2 pieces of their griddled bread with was amazing and it absolutely made the meal complete.  It was the best \"toast\" I\\'ve ever had.\\r\\n\\r\\nAnyway, I can\\'t wait to go back!'"
      ]
     },
     "execution_count": 111,
     "metadata": {},
     "output_type": "execute_result"
    }
   ],
   "source": [
    "yelp.text.iloc[0]"
   ]
  },
  {
   "cell_type": "code",
   "execution_count": null,
   "metadata": {},
   "outputs": [],
   "source": []
  },
  {
   "cell_type": "markdown",
   "metadata": {},
   "source": [
    "<a id='add_feat'></a>\n",
    "## Bonus: Adding Features to a Document-Term Matrix"
   ]
  },
  {
   "cell_type": "markdown",
   "metadata": {},
   "source": [
    "Here, we will add additional features to our `CountVectorizer()`-generated feature set to hopefully improve our model.\n",
    "\n",
    "To make the best models, you will want to supplement the auto-generated features with new features you think might be important. After all, `CountVectorizer()` typically lowercases text and removes all associations between words. Or, you may have metadata to add in addition to just the text.\n",
    "\n",
    "> Remember: Although you may have hundreds of thousands of features, each data point is extremely sparse. So, if you add in a new feature, e.g., one that detects if the text is all capital letters, this new feature can still have a huge effect on the model outcome!"
   ]
  },
  {
   "cell_type": "code",
   "execution_count": null,
   "metadata": {},
   "outputs": [],
   "source": []
  },
  {
   "cell_type": "code",
   "execution_count": null,
   "metadata": {},
   "outputs": [],
   "source": [
    "X_train_dtm_extra = sp.sparse.hstack((X_train_dtm, extra))\n",
    "X_train_dtm_extra.shape"
   ]
  },
  {
   "cell_type": "code",
   "execution_count": null,
   "metadata": {},
   "outputs": [],
   "source": []
  },
  {
   "cell_type": "code",
   "execution_count": null,
   "metadata": {},
   "outputs": [],
   "source": []
  },
  {
   "cell_type": "markdown",
   "metadata": {},
   "source": [
    "<a id='conclusion'></a>\n",
    "## Conclusion\n",
    "\n",
    "- NLP is a gigantic field.\n",
    "- Understanding the basics broadens the types of data you can work with.\n",
    "- Simple techniques go a long way.\n",
    "- Use scikit-learn for NLP whenever possible.\n",
    "\n",
    "While we used SKLearn and TextBlob today, another popular python NLP library is [Spacy](https://spacy.io)."
   ]
  },
  {
   "cell_type": "code",
   "execution_count": null,
   "metadata": {},
   "outputs": [],
   "source": []
  }
 ],
 "metadata": {
  "kernelspec": {
   "display_name": "Python 3",
   "language": "python",
   "name": "python3"
  },
  "language_info": {
   "codemirror_mode": {
    "name": "ipython",
    "version": 3
   },
   "file_extension": ".py",
   "mimetype": "text/x-python",
   "name": "python",
   "nbconvert_exporter": "python",
   "pygments_lexer": "ipython3",
   "version": "3.7.3"
  }
 },
 "nbformat": 4,
 "nbformat_minor": 2
}

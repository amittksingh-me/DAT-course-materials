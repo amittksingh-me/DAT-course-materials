{
 "cells": [
  {
   "cell_type": "markdown",
   "metadata": {},
   "source": [
    "<img src=\"http://imgur.com/1ZcRyrc.png\" style=\"float: left; margin: 20px; height: 55px\">\n",
    " \n",
    "# Natural Language Processing"
   ]
  },
  {
   "cell_type": "markdown",
   "metadata": {},
   "source": [
    "### Learning Objectives\n",
    "- Discuss the major tasks involved with natural language processing.\n",
    "- Discuss, on a low level, the components of natural language processing.\n",
    "- Do some EDA on a natural language processing dataset\n",
    "- Identify why natural language processing is difficult.\n",
    "- Demonstrate text classification on a multi-class problem.\n",
    "- Demonstrate common text preprocessing techniques."
   ]
  },
  {
   "cell_type": "markdown",
   "metadata": {},
   "source": [
    "### How Do We Use NLP in Data Science?\n",
    "\n",
    "In data science, we are often asked to analyze unstructured text or make a predictive model using it. Unfortunately, most data science techniques require numeric data. NLP libraries provide a tool set of methods to convert unstructured text into meaningful numeric data.\n",
    "\n",
    "- **Analysis:** NLP techniques provide tools to allow us to understand and analyze large amounts of text. For example:\n",
    "\n",
    "    - Analyze the positivity/negativity of comments on different websites. \n",
    "    - Extract key words from meeting notes and visualize how meeting topics change over time.\n",
    "\n",
    "- **Vectorizing for machine learning:** When building a machine learning model, we typically must transform our data into numeric features. This process of transforming non-numeric data such as natural language into numeric features is called vectorization. For example:\n",
    "\n",
    "    - Understanding related words. Using stemming, NLP lets us know that \"swim\", \"swims\", and \"swimming\" all refer to the same base word. This allows us to reduce the number of features used in our model.\n",
    "    - Identifying important and unique words. Using TF-IDF (term frequency-inverse document frequency), we can identify which words are most likely to be meaningful in a document."
   ]
  },
  {
   "cell_type": "markdown",
   "metadata": {},
   "source": [
    "### Libraries we will use & things to download"
   ]
  },
  {
   "cell_type": "code",
   "execution_count": 1,
   "metadata": {
    "scrolled": true
   },
   "outputs": [
    {
     "name": "stdout",
     "output_type": "stream",
     "text": [
      "Collecting wordcloud\n",
      "  Downloading https://files.pythonhosted.org/packages/96/36/f712ec19c6e253d27c5cae0d45a4a465ebb5ccf0cb26887a6a3127d13769/wordcloud-1.6.0-cp37-cp37m-win_amd64.whl (153kB)\n",
      "Requirement already satisfied: pillow in d:\\users\\gregb\\appdata\\local\\continuum\\anaconda3\\lib\\site-packages (from wordcloud) (6.1.0)\n",
      "Requirement already satisfied: numpy>=1.6.1 in d:\\users\\gregb\\appdata\\local\\continuum\\anaconda3\\lib\\site-packages (from wordcloud) (1.16.4)\n",
      "Requirement already satisfied: matplotlib in d:\\users\\gregb\\appdata\\local\\continuum\\anaconda3\\lib\\site-packages (from wordcloud) (3.1.0)\n",
      "Requirement already satisfied: cycler>=0.10 in d:\\users\\gregb\\appdata\\local\\continuum\\anaconda3\\lib\\site-packages (from matplotlib->wordcloud) (0.10.0)\n",
      "Requirement already satisfied: kiwisolver>=1.0.1 in d:\\users\\gregb\\appdata\\local\\continuum\\anaconda3\\lib\\site-packages (from matplotlib->wordcloud) (1.1.0)\n",
      "Requirement already satisfied: pyparsing!=2.0.4,!=2.1.2,!=2.1.6,>=2.0.1 in d:\\users\\gregb\\appdata\\local\\continuum\\anaconda3\\lib\\site-packages (from matplotlib->wordcloud) (2.4.0)\n",
      "Requirement already satisfied: python-dateutil>=2.1 in d:\\users\\gregb\\appdata\\local\\continuum\\anaconda3\\lib\\site-packages (from matplotlib->wordcloud) (2.8.0)\n",
      "Requirement already satisfied: six in d:\\users\\gregb\\appdata\\local\\continuum\\anaconda3\\lib\\site-packages (from cycler>=0.10->matplotlib->wordcloud) (1.12.0)\n",
      "Requirement already satisfied: setuptools in d:\\users\\gregb\\appdata\\local\\continuum\\anaconda3\\lib\\site-packages (from kiwisolver>=1.0.1->matplotlib->wordcloud) (41.0.1)\n",
      "Installing collected packages: wordcloud\n",
      "Successfully installed wordcloud-1.6.0\n"
     ]
    }
   ],
   "source": [
    "!pip install wordcloud"
   ]
  },
  {
   "cell_type": "code",
   "execution_count": null,
   "metadata": {},
   "outputs": [],
   "source": [
    "!conda install nltk"
   ]
  },
  {
   "cell_type": "code",
   "execution_count": 1,
   "metadata": {},
   "outputs": [],
   "source": [
    "import nltk"
   ]
  },
  {
   "cell_type": "code",
   "execution_count": 2,
   "metadata": {},
   "outputs": [
    {
     "name": "stderr",
     "output_type": "stream",
     "text": [
      "[nltk_data] Downloading package stopwords to\n",
      "[nltk_data]     D:\\Users\\gregb\\AppData\\Roaming\\nltk_data...\n",
      "[nltk_data]   Unzipping corpora\\stopwords.zip.\n"
     ]
    },
    {
     "data": {
      "text/plain": [
       "True"
      ]
     },
     "execution_count": 2,
     "metadata": {},
     "output_type": "execute_result"
    }
   ],
   "source": [
    "nltk.download('stopwords')"
   ]
  },
  {
   "cell_type": "code",
   "execution_count": null,
   "metadata": {},
   "outputs": [],
   "source": [
    "!conda install -c conda-forge spacy"
   ]
  },
  {
   "cell_type": "code",
   "execution_count": 3,
   "metadata": {},
   "outputs": [
    {
     "name": "stdout",
     "output_type": "stream",
     "text": [
      "Collecting en_core_web_sm==2.2.0 from https://github.com/explosion/spacy-models/releases/download/en_core_web_sm-2.2.0/en_core_web_sm-2.2.0.tar.gz#egg=en_core_web_sm==2.2.0\n",
      "  Downloading https://github.com/explosion/spacy-models/releases/download/en_core_web_sm-2.2.0/en_core_web_sm-2.2.0.tar.gz (12.0MB)\n",
      "Requirement already satisfied: spacy>=2.2.0 in d:\\users\\gregb\\appdata\\local\\continuum\\anaconda3\\lib\\site-packages (from en_core_web_sm==2.2.0) (2.2.1)\n",
      "Requirement already satisfied: cymem<2.1.0,>=2.0.2 in d:\\users\\gregb\\appdata\\local\\continuum\\anaconda3\\lib\\site-packages (from spacy>=2.2.0->en_core_web_sm==2.2.0) (2.0.3)\n",
      "Requirement already satisfied: murmurhash<1.1.0,>=0.28.0 in d:\\users\\gregb\\appdata\\local\\continuum\\anaconda3\\lib\\site-packages (from spacy>=2.2.0->en_core_web_sm==2.2.0) (1.0.0)\n",
      "Requirement already satisfied: thinc<7.2.0,>=7.1.1 in d:\\users\\gregb\\appdata\\local\\continuum\\anaconda3\\lib\\site-packages (from spacy>=2.2.0->en_core_web_sm==2.2.0) (7.1.1)\n",
      "Requirement already satisfied: numpy>=1.15.0 in d:\\users\\gregb\\appdata\\local\\continuum\\anaconda3\\lib\\site-packages (from spacy>=2.2.0->en_core_web_sm==2.2.0) (1.16.4)\n",
      "Requirement already satisfied: blis<0.5.0,>=0.4.0 in d:\\users\\gregb\\appdata\\local\\continuum\\anaconda3\\lib\\site-packages (from spacy>=2.2.0->en_core_web_sm==2.2.0) (0.4.1)\n",
      "Requirement already satisfied: plac<1.0.0,>=0.9.6 in d:\\users\\gregb\\appdata\\local\\continuum\\anaconda3\\lib\\site-packages (from spacy>=2.2.0->en_core_web_sm==2.2.0) (0.9.6)\n",
      "Requirement already satisfied: requests<3.0.0,>=2.13.0 in d:\\users\\gregb\\appdata\\local\\continuum\\anaconda3\\lib\\site-packages (from spacy>=2.2.0->en_core_web_sm==2.2.0) (2.22.0)\n",
      "Requirement already satisfied: wasabi<1.1.0,>=0.2.0 in d:\\users\\gregb\\appdata\\local\\continuum\\anaconda3\\lib\\site-packages (from spacy>=2.2.0->en_core_web_sm==2.2.0) (0.6.0)\n",
      "Requirement already satisfied: preshed<3.1.0,>=3.0.2 in d:\\users\\gregb\\appdata\\local\\continuum\\anaconda3\\lib\\site-packages (from spacy>=2.2.0->en_core_web_sm==2.2.0) (3.0.2)\n",
      "Requirement already satisfied: srsly<1.1.0,>=0.1.0 in d:\\users\\gregb\\appdata\\local\\continuum\\anaconda3\\lib\\site-packages (from spacy>=2.2.0->en_core_web_sm==2.2.0) (1.0.0)\n",
      "Requirement already satisfied: tqdm<5.0.0,>=4.10.0 in d:\\users\\gregb\\appdata\\local\\continuum\\anaconda3\\lib\\site-packages (from thinc<7.2.0,>=7.1.1->spacy>=2.2.0->en_core_web_sm==2.2.0) (4.32.1)\n",
      "Requirement already satisfied: certifi>=2017.4.17 in d:\\users\\gregb\\appdata\\local\\continuum\\anaconda3\\lib\\site-packages (from requests<3.0.0,>=2.13.0->spacy>=2.2.0->en_core_web_sm==2.2.0) (2020.4.5.1)\n",
      "Requirement already satisfied: urllib3!=1.25.0,!=1.25.1,<1.26,>=1.21.1 in d:\\users\\gregb\\appdata\\local\\continuum\\anaconda3\\lib\\site-packages (from requests<3.0.0,>=2.13.0->spacy>=2.2.0->en_core_web_sm==2.2.0) (1.24.2)\n",
      "Requirement already satisfied: chardet<3.1.0,>=3.0.2 in d:\\users\\gregb\\appdata\\local\\continuum\\anaconda3\\lib\\site-packages (from requests<3.0.0,>=2.13.0->spacy>=2.2.0->en_core_web_sm==2.2.0) (3.0.4)\n",
      "Requirement already satisfied: idna<2.9,>=2.5 in d:\\users\\gregb\\appdata\\local\\continuum\\anaconda3\\lib\\site-packages (from requests<3.0.0,>=2.13.0->spacy>=2.2.0->en_core_web_sm==2.2.0) (2.8)\n",
      "Building wheels for collected packages: en-core-web-sm\n",
      "  Building wheel for en-core-web-sm (setup.py): started\n",
      "  Building wheel for en-core-web-sm (setup.py): finished with status 'done'\n",
      "  Stored in directory: D:\\Users\\gregb\\AppData\\Local\\Temp\\1\\pip-ephem-wheel-cache-kslw93f8\\wheels\\48\\5c\\1c\\15f9d02afc8221a668d2172446dd8467b20cdb9aef80a172a4\n",
      "Successfully built en-core-web-sm\n",
      "Installing collected packages: en-core-web-sm\n",
      "Successfully installed en-core-web-sm-2.2.0\n",
      "[+] Download and installation successful\n",
      "You can now load the model via spacy.load('en_core_web_sm')\n"
     ]
    }
   ],
   "source": [
    "!python -m spacy download en_core_web_sm"
   ]
  },
  {
   "cell_type": "markdown",
   "metadata": {},
   "source": [
    "## Lesson Guide\n",
    "\n",
    "- [Introduction to Natural Language Processing](#intro)\n",
    "- [Reading Yelp reviews With NLP](#yelp_rev)\n",
    "- [Text Classification](#text_class)\n",
    "- [Count Vectorization](#count_vec)\n",
    "    - [Using CountVectorizer in a Model](#countvectorizer-model)\n",
    "    - [N-Grams](#ngrams)\n",
    "    - [Stop-Word Removal](#stopwords)\n",
    "\t- [Count Vector Options](#cvec_opt)\n",
    "- [Intro to Spacy](#textblob)\n",
    "\t- [Parts of speech]\n",
    "    - [Stemming and Lemmatization](#stem)\n",
    "- [Term Frequency–Inverse Document Frequency Vectorization](#tfidf)\n",
    "\t- [Yelp Summary Using TF–IDF](#yelp_tfidf)\n",
    "- [Sentiment Analysis](#sentiment)\n",
    "- [BONUS: Adding Features to a Document-Term Matrix](#add_feat)\n",
    "- [Conclusion](#conclusion)"
   ]
  },
  {
   "cell_type": "markdown",
   "metadata": {},
   "source": [
    "## Introduction"
   ]
  },
  {
   "cell_type": "markdown",
   "metadata": {},
   "source": [
    "### What Is Natural Language Processing (NLP)?\n",
    "\n",
    "- Using computers to process (analyze, understand, generate) natural human languages.\n",
    "- Making sense of human knowledge stored as unstructured text.\n",
    "- Building probabilistic models using data about a language."
   ]
  },
  {
   "cell_type": "markdown",
   "metadata": {},
   "source": [
    "### What Are Some of the Higher-Level Task Areas?\n",
    "\n",
    "- **Objective:** Discuss the major tasks involved with natural language processing.\n",
    "\n",
    "We often hope that computers can solve many high-level problems involving natural language. Unfortunately, due to the difficulty of understanding human language, many of these problems are still not well solved. That said, existing solutions to these problems all involve utilizing the lower-level components of NLP discussed in the next section. Some higher-level tasks include:\n",
    "\n",
    "- **Chatbots:** Understand natural language from the user and return intelligent responses.\n",
    "    - [Api.ai](https://api.ai/)\n",
    "- **Information retrieval:** Find relevant results and similar results.\n",
    "    - [Google](https://www.google.com/)    \n",
    "- **Information extraction:** Structured information from unstructured documents.\n",
    "    - [Events from Gmail](https://support.google.com/calendar/answer/6084018?hl=en)\n",
    "- **Machine translation:** One language to another.\n",
    "    - [Google Translate](https://translate.google.com/)\n",
    "- **Text simplification:** Preserve the meaning of text, but simplify the grammar and vocabulary.\n",
    "    - [Rewordify](https://rewordify.com/)\n",
    "    - [Simple English Wikipedia](https://simple.wikipedia.org/wiki/Main_Page)\n",
    "- **Predictive text input:** Faster or easier typing.\n",
    "    - [Phrase completion application](https://justmarkham.shinyapps.io/textprediction/)\n",
    "    - [A much better application](https://farsite.shinyapps.io/swiftkey-cap/)\n",
    "- **Sentiment analysis:** Attitude of speaker.\n",
    "    - [Hater News](https://medium.com/@KevinMcAlear/building-hater-news-62062c58325c)\n",
    "- **Automatic summarization:** Extractive or abstractive summarization.\n",
    "    - [autotldr](https://www.reddit.com/r/technology/comments/35brc8/21_million_people_still_use_aol_dialup/cr2zzj0)\n",
    "- **Natural language generation:** Generate text from data.\n",
    "    - [How a computer describes a sports match](http://www.bbc.com/news/technology-34204052)\n",
    "    - [Publishers withdraw more than 120 gibberish papers](http://www.nature.com/news/publishers-withdraw-more-than-120-gibberish-papers-1.14763)\n",
    "- **Speech recognition and generation:** Speech-to-text, text-to-speech.\n",
    "    - [Google's Web Speech API demo](https://www.google.com/intl/en/chrome/demos/speech.html)\n",
    "    - [Vocalware Text-to-Speech demo](https://www.vocalware.com/index/demo)\n",
    "- **Question answering:** Determine the intent of the question, match query with knowledge base, evaluate hypotheses.\n",
    "    - [How did supercomputer Watson beat Jeopardy champion Ken Jennings?](http://blog.ted.com/how-did-supercomputer-watson-beat-jeopardy-champion-ken-jennings-experts-discuss/)\n",
    "    - [IBM's Watson Trivia Challenge](http://www.nytimes.com/interactive/2010/06/16/magazine/watson-trivia-game.html)\n",
    "    - [The AI Behind Watson](http://www.aaai.org/Magazine/Watson/watson.php)"
   ]
  },
  {
   "cell_type": "markdown",
   "metadata": {},
   "source": [
    "### What Are Some of the Lower-Level Components?\n",
    "\n",
    "- **Objective:** Discuss, on a low level, the components of natural language processing.\n",
    "\n",
    "Unfortunately, the NLP programming libraries typically do not provide direct solutions for the high-level tasks above. Instead, they provide low-level building blocks that enable us to craft our own solutions. These include:\n",
    "\n",
    "- **Tokenization:** Breaking text into tokens (words, sentences, n-grams)\n",
    "- **Stop-word removal:** a/an/the\n",
    "- **Stemming and lemmatization:** root word\n",
    "- **TF-IDF:** word importance\n",
    "- **Part-of-speech tagging:** noun/verb/adjective\n",
    "- **Named entity recognition:** person/organization/location\n",
    "- **Spelling correction:** \"New Yrok City\"\n",
    "- **Word sense disambiguation:** \"buy a mouse\"\n",
    "- **Segmentation:** \"New York City subway\"\n",
    "- **Language detection:** \"translate this page\"\n",
    "- **Machine learning:** specialized models that work well with text"
   ]
  },
  {
   "cell_type": "markdown",
   "metadata": {},
   "source": [
    "### Why is NLP hard?\n",
    "\n",
    "- **Objective:** Identify why natural language processing is difficult.\n",
    "\n",
    "Natural language processing requires an understanding of the language and the world. Several limitations of NLP are:\n",
    "\n",
    "- **Ambiguity**:\n",
    "    - Hospitals Are Sued by 7 Foot Doctors\n",
    "    - Juvenile Court to Try Shooting Defendant\n",
    "    - Local High School Dropouts Cut in Half\n",
    "- **Non-standard English:** text messages\n",
    "- **Idioms:** \"throw in the towel\"\n",
    "- **Newly coined words:** \"retweet\"\n",
    "- **Tricky entity names:** \"Where is A Bug's Life playing?\"\n",
    "- **World knowledge:** \"Mary and Sue are sisters\", \"Mary and Sue are mothers\""
   ]
  },
  {
   "cell_type": "markdown",
   "metadata": {},
   "source": [
    "<a id='yelp_rev'></a>\n",
    "\n",
    "## Reading in the Yelp Reviews\n",
    "\n",
    "Throughout this lesson, we will use Yelp reviews to practice and discover common low-level NLP techniques.\n",
    "\n",
    "You should be familiar with these terms, as they are frequently used in NLP:\n",
    "- **corpus**: a collection of documents (derived from the Latin word for \"body\")\n",
    "- **corpora**: plural form of corpus"
   ]
  },
  {
   "cell_type": "code",
   "execution_count": 4,
   "metadata": {},
   "outputs": [],
   "source": [
    "import pandas as pd"
   ]
  },
  {
   "cell_type": "code",
   "execution_count": 5,
   "metadata": {},
   "outputs": [],
   "source": [
    "yelp = pd.read_csv('data/yelp.csv', index_col='review_id', parse_dates=['date'])"
   ]
  },
  {
   "cell_type": "code",
   "execution_count": 7,
   "metadata": {},
   "outputs": [
    {
     "data": {
      "text/html": [
       "<div>\n",
       "<style scoped>\n",
       "    .dataframe tbody tr th:only-of-type {\n",
       "        vertical-align: middle;\n",
       "    }\n",
       "\n",
       "    .dataframe tbody tr th {\n",
       "        vertical-align: top;\n",
       "    }\n",
       "\n",
       "    .dataframe thead th {\n",
       "        text-align: right;\n",
       "    }\n",
       "</style>\n",
       "<table border=\"1\" class=\"dataframe\">\n",
       "  <thead>\n",
       "    <tr style=\"text-align: right;\">\n",
       "      <th></th>\n",
       "      <th>business_id</th>\n",
       "      <th>date</th>\n",
       "      <th>stars</th>\n",
       "      <th>text</th>\n",
       "      <th>type</th>\n",
       "      <th>user_id</th>\n",
       "      <th>cool</th>\n",
       "      <th>useful</th>\n",
       "      <th>funny</th>\n",
       "    </tr>\n",
       "    <tr>\n",
       "      <th>review_id</th>\n",
       "      <th></th>\n",
       "      <th></th>\n",
       "      <th></th>\n",
       "      <th></th>\n",
       "      <th></th>\n",
       "      <th></th>\n",
       "      <th></th>\n",
       "      <th></th>\n",
       "      <th></th>\n",
       "    </tr>\n",
       "  </thead>\n",
       "  <tbody>\n",
       "    <tr>\n",
       "      <th>PINoAXjJQpl3yobdDzy0Vg</th>\n",
       "      <td>v6zRA0WqOODJjmpvstrpGQ</td>\n",
       "      <td>2011-06-16</td>\n",
       "      <td>3</td>\n",
       "      <td>Today I went in for lunch and it seems the qua...</td>\n",
       "      <td>review</td>\n",
       "      <td>Iycf9KNRhxvR187Qu2zZHg</td>\n",
       "      <td>0</td>\n",
       "      <td>0</td>\n",
       "      <td>0</td>\n",
       "    </tr>\n",
       "    <tr>\n",
       "      <th>uPcQ_NkDwP5HmgyjvyVAAg</th>\n",
       "      <td>eGevCRobYnA_HSj60sEWvQ</td>\n",
       "      <td>2006-04-23</td>\n",
       "      <td>4</td>\n",
       "      <td>the food is excellent but the waiters and wait...</td>\n",
       "      <td>review</td>\n",
       "      <td>YoBu4TVcP5YHKOC35NPXQQ</td>\n",
       "      <td>0</td>\n",
       "      <td>3</td>\n",
       "      <td>0</td>\n",
       "    </tr>\n",
       "    <tr>\n",
       "      <th>PxcSbgfDs6yBh_6nBeNcQg</th>\n",
       "      <td>8ZwO9VuLDWJOXmtAdc7LXQ</td>\n",
       "      <td>2011-03-28</td>\n",
       "      <td>3</td>\n",
       "      <td>I was hoping for a more adult friendly place. ...</td>\n",
       "      <td>review</td>\n",
       "      <td>xg4AdOGHFxJyWByFbG8stA</td>\n",
       "      <td>1</td>\n",
       "      <td>2</td>\n",
       "      <td>0</td>\n",
       "    </tr>\n",
       "    <tr>\n",
       "      <th>nCzTSOBLvRfsXr208sHDYg</th>\n",
       "      <td>cc9KFNrcY9gA7t9D1a3FpA</td>\n",
       "      <td>2012-10-11</td>\n",
       "      <td>5</td>\n",
       "      <td>I have used Sandella's on three different occa...</td>\n",
       "      <td>review</td>\n",
       "      <td>m5-3onu1zp4l50V-PmZKgg</td>\n",
       "      <td>0</td>\n",
       "      <td>1</td>\n",
       "      <td>0</td>\n",
       "    </tr>\n",
       "    <tr>\n",
       "      <th>IokuZD7dpn8EUbOUe-vehQ</th>\n",
       "      <td>OE5nAmaSVaopeRS1Cs9Kuw</td>\n",
       "      <td>2011-09-28</td>\n",
       "      <td>4</td>\n",
       "      <td>Great service.  Tasty food.  I like it for lun...</td>\n",
       "      <td>review</td>\n",
       "      <td>IDHrwv_RCildFvmfWTkj5Q</td>\n",
       "      <td>0</td>\n",
       "      <td>1</td>\n",
       "      <td>0</td>\n",
       "    </tr>\n",
       "  </tbody>\n",
       "</table>\n",
       "</div>"
      ],
      "text/plain": [
       "                                   business_id       date  stars  \\\n",
       "review_id                                                          \n",
       "PINoAXjJQpl3yobdDzy0Vg  v6zRA0WqOODJjmpvstrpGQ 2011-06-16      3   \n",
       "uPcQ_NkDwP5HmgyjvyVAAg  eGevCRobYnA_HSj60sEWvQ 2006-04-23      4   \n",
       "PxcSbgfDs6yBh_6nBeNcQg  8ZwO9VuLDWJOXmtAdc7LXQ 2011-03-28      3   \n",
       "nCzTSOBLvRfsXr208sHDYg  cc9KFNrcY9gA7t9D1a3FpA 2012-10-11      5   \n",
       "IokuZD7dpn8EUbOUe-vehQ  OE5nAmaSVaopeRS1Cs9Kuw 2011-09-28      4   \n",
       "\n",
       "                                                                     text  \\\n",
       "review_id                                                                   \n",
       "PINoAXjJQpl3yobdDzy0Vg  Today I went in for lunch and it seems the qua...   \n",
       "uPcQ_NkDwP5HmgyjvyVAAg  the food is excellent but the waiters and wait...   \n",
       "PxcSbgfDs6yBh_6nBeNcQg  I was hoping for a more adult friendly place. ...   \n",
       "nCzTSOBLvRfsXr208sHDYg  I have used Sandella's on three different occa...   \n",
       "IokuZD7dpn8EUbOUe-vehQ  Great service.  Tasty food.  I like it for lun...   \n",
       "\n",
       "                          type                 user_id  cool  useful  funny  \n",
       "review_id                                                                    \n",
       "PINoAXjJQpl3yobdDzy0Vg  review  Iycf9KNRhxvR187Qu2zZHg     0       0      0  \n",
       "uPcQ_NkDwP5HmgyjvyVAAg  review  YoBu4TVcP5YHKOC35NPXQQ     0       3      0  \n",
       "PxcSbgfDs6yBh_6nBeNcQg  review  xg4AdOGHFxJyWByFbG8stA     1       2      0  \n",
       "nCzTSOBLvRfsXr208sHDYg  review  m5-3onu1zp4l50V-PmZKgg     0       1      0  \n",
       "IokuZD7dpn8EUbOUe-vehQ  review  IDHrwv_RCildFvmfWTkj5Q     0       1      0  "
      ]
     },
     "execution_count": 7,
     "metadata": {},
     "output_type": "execute_result"
    }
   ],
   "source": [
    "yelp.sample(5)"
   ]
  },
  {
   "cell_type": "code",
   "execution_count": 10,
   "metadata": {},
   "outputs": [
    {
     "data": {
      "text/plain": [
       "<matplotlib.axes._subplots.AxesSubplot at 0x250e3e7cb70>"
      ]
     },
     "execution_count": 10,
     "metadata": {},
     "output_type": "execute_result"
    },
    {
     "data": {
      "image/png": "[encoded data removed]",
      "text/plain": [
       "<Figure size 432x288 with 1 Axes>"
      ]
     },
     "metadata": {
      "needs_background": "light"
     },
     "output_type": "display_data"
    }
   ],
   "source": [
    "yelp['text_count'] = yelp.text.map(len)\n",
    "yelp.text_count.plot.hist()"
   ]
  },
  {
   "cell_type": "code",
   "execution_count": 13,
   "metadata": {},
   "outputs": [
    {
     "data": {
      "text/plain": [
       "<matplotlib.axes._subplots.AxesSubplot at 0x250ed92c1d0>"
      ]
     },
     "execution_count": 13,
     "metadata": {},
     "output_type": "execute_result"
    },
    {
     "data": {
      "image/png": "[encoded data removed]",
      "text/plain": [
       "<Figure size 432x288 with 1 Axes>"
      ]
     },
     "metadata": {
      "needs_background": "light"
     },
     "output_type": "display_data"
    }
   ],
   "source": [
    "yelp['word_count'] = yelp.text.str.split(' ').map(len)\n",
    "yelp['word_count'].plot.hist()"
   ]
  },
  {
   "cell_type": "code",
   "execution_count": 15,
   "metadata": {},
   "outputs": [
    {
     "data": {
      "text/plain": [
       "<matplotlib.axes._subplots.AxesSubplot at 0x250ea6fbe10>"
      ]
     },
     "execution_count": 15,
     "metadata": {},
     "output_type": "execute_result"
    },
    {
     "data": {
      "image/png": "[encoded data removed]",
      "text/plain": [
       "<Figure size 432x288 with 1 Axes>"
      ]
     },
     "metadata": {
      "needs_background": "light"
     },
     "output_type": "display_data"
    }
   ],
   "source": [
    "yelp['average_word_length'] = yelp.text_count / yelp.word_count\n",
    "yelp.average_word_length.plot.hist()"
   ]
  },
  {
   "cell_type": "code",
   "execution_count": 16,
   "metadata": {},
   "outputs": [
    {
     "data": {
      "text/html": [
       "<div>\n",
       "<style scoped>\n",
       "    .dataframe tbody tr th:only-of-type {\n",
       "        vertical-align: middle;\n",
       "    }\n",
       "\n",
       "    .dataframe tbody tr th {\n",
       "        vertical-align: top;\n",
       "    }\n",
       "\n",
       "    .dataframe thead th {\n",
       "        text-align: right;\n",
       "    }\n",
       "</style>\n",
       "<table border=\"1\" class=\"dataframe\">\n",
       "  <thead>\n",
       "    <tr style=\"text-align: right;\">\n",
       "      <th></th>\n",
       "      <th>business_id</th>\n",
       "      <th>date</th>\n",
       "      <th>stars</th>\n",
       "      <th>text</th>\n",
       "      <th>type</th>\n",
       "      <th>user_id</th>\n",
       "      <th>cool</th>\n",
       "      <th>useful</th>\n",
       "      <th>funny</th>\n",
       "      <th>text_count</th>\n",
       "      <th>word_count</th>\n",
       "      <th>average_word_length</th>\n",
       "    </tr>\n",
       "    <tr>\n",
       "      <th>review_id</th>\n",
       "      <th></th>\n",
       "      <th></th>\n",
       "      <th></th>\n",
       "      <th></th>\n",
       "      <th></th>\n",
       "      <th></th>\n",
       "      <th></th>\n",
       "      <th></th>\n",
       "      <th></th>\n",
       "      <th></th>\n",
       "      <th></th>\n",
       "      <th></th>\n",
       "    </tr>\n",
       "  </thead>\n",
       "  <tbody>\n",
       "    <tr>\n",
       "      <th>Qv1jJdZftPlfJef45OX3GQ</th>\n",
       "      <td>gUt-pPUpOVVhaCFC8-E4yQ</td>\n",
       "      <td>2011-03-27</td>\n",
       "      <td>5</td>\n",
       "      <td>Bomb ............................................</td>\n",
       "      <td>review</td>\n",
       "      <td>_tTNzjkD-pvWqSb-Ahw9Uw</td>\n",
       "      <td>0</td>\n",
       "      <td>0</td>\n",
       "      <td>0</td>\n",
       "      <td>143</td>\n",
       "      <td>4</td>\n",
       "      <td>35.75</td>\n",
       "    </tr>\n",
       "  </tbody>\n",
       "</table>\n",
       "</div>"
      ],
      "text/plain": [
       "                                   business_id       date  stars  \\\n",
       "review_id                                                          \n",
       "Qv1jJdZftPlfJef45OX3GQ  gUt-pPUpOVVhaCFC8-E4yQ 2011-03-27      5   \n",
       "\n",
       "                                                                     text  \\\n",
       "review_id                                                                   \n",
       "Qv1jJdZftPlfJef45OX3GQ  Bomb ............................................   \n",
       "\n",
       "                          type                 user_id  cool  useful  funny  \\\n",
       "review_id                                                                     \n",
       "Qv1jJdZftPlfJef45OX3GQ  review  _tTNzjkD-pvWqSb-Ahw9Uw     0       0      0   \n",
       "\n",
       "                        text_count  word_count  average_word_length  \n",
       "review_id                                                            \n",
       "Qv1jJdZftPlfJef45OX3GQ         143           4                35.75  "
      ]
     },
     "execution_count": 16,
     "metadata": {},
     "output_type": "execute_result"
    }
   ],
   "source": [
    "yelp[yelp.average_word_length > 15]"
   ]
  },
  {
   "cell_type": "code",
   "execution_count": 18,
   "metadata": {},
   "outputs": [
    {
     "data": {
      "text/plain": [
       "<matplotlib.axes._subplots.AxesSubplot at 0x250ec6855c0>"
      ]
     },
     "execution_count": 18,
     "metadata": {},
     "output_type": "execute_result"
    },
    {
     "data": {
      "image/png": "[encoded data removed]",
      "text/plain": [
       "<Figure size 432x288 with 1 Axes>"
      ]
     },
     "metadata": {
      "needs_background": "light"
     },
     "output_type": "display_data"
    }
   ],
   "source": [
    "yelp[yelp.average_word_length < 15].average_word_length.plot.hist()"
   ]
  },
  {
   "cell_type": "code",
   "execution_count": 22,
   "metadata": {},
   "outputs": [],
   "source": [
    "yelp['words'] = yelp.text.str.split(' ')\n",
    "yelp['distinct_word_count'] = yelp.words.map(lambda x: len(set(x)))\n",
    "yelp['lexical_diversity'] = yelp.distinct_word_count / yelp.word_count"
   ]
  },
  {
   "cell_type": "code",
   "execution_count": 25,
   "metadata": {},
   "outputs": [
    {
     "data": {
      "text/plain": [
       "user_id\n",
       "I7zvmDRYtsLUHsLi50wDNA    1.000000\n",
       "Eq6j-P0ipCIlhI1GqrbpWQ    1.000000\n",
       "H4XCAov3KP3JjThhExpocg    1.000000\n",
       "HE8AOm5mO_sgap7_coM0RQ    1.000000\n",
       "HEag_QERXNbyGmNgA6no2Q    1.000000\n",
       "HOAFwraJMBTcYy1qTmFmgQ    1.000000\n",
       "HavRojH3G8AlJchZXonaOg    1.000000\n",
       "nURs-n-ucizNeoo280nmTQ    1.000000\n",
       "Hqgx3IdJAAaoQjvrUnbNvw    1.000000\n",
       "x1Yagv0rOlPd_NRu5t0SIA    1.000000\n",
       "I6KftQl6q4I7IuKV7wPR7w    1.000000\n",
       "IAOCwB3c2c_-6_Y5rAjXIg    1.000000\n",
       "x4thcv_eJg2FBsb_E8P4sA    1.000000\n",
       "n5PtmHO-PSHiyseG56XZtA    1.000000\n",
       "IXuKjVb0F7t7T-BTpwLqKQ    1.000000\n",
       "I_i3bHwfSFne6eTHPe4tMQ    1.000000\n",
       "x7QYSYyc_x63-61Z9SB8jA    1.000000\n",
       "Iqqy89mlRXExxeP8RZqCUA    1.000000\n",
       "mm1-8hxSTbQH9iUAIkML4w    1.000000\n",
       "IwZkZmCpc2D7DslEogiBYg    1.000000\n",
       "IwiupaUMeltnd0a9Cp15tA    1.000000\n",
       "mavwphmn_T_u_J4Pcmocbg    1.000000\n",
       "JCpQDETmyGtQ_PJbSnc47w    1.000000\n",
       "2fdyqZooz7YSZ5vgkDLxxA    1.000000\n",
       "JDVbRaxrjJaLX75UQ8Q3Ng    1.000000\n",
       "Gzh93lma7vWTK2WiENHd4w    1.000000\n",
       "nzhUfCzDUW8VFLc40nAtsA    1.000000\n",
       "GwTb7Kiacz0jxqtiK8y09g    1.000000\n",
       "GV40APiM60CXnX7TAzYV0Q    1.000000\n",
       "FEdeDneIRH2IjKfneDA-vw    1.000000\n",
       "                            ...   \n",
       "aEU-EIGl_do9y6-j1MEMNQ    0.523171\n",
       "5S9qsoHWUcMeahMtBwuX3g    0.522551\n",
       "2QkokcNKpgUG-Suif3JKJg    0.522199\n",
       "0hJChgGIqzg5JQkwvcnLZw    0.522095\n",
       "2IaQQuZtbZKhOcNwYJOVuQ    0.521825\n",
       "1Ofs7rMHcd6UrbyF-QWk2w    0.520913\n",
       "QGHqcWMrAQg7d1rwY1Xyuw    0.520325\n",
       "MKUv9aV4Aq6fmNeFHQjqPQ    0.519435\n",
       "KK_2vxqNug1wQhVo22soQw    0.518459\n",
       "Kq4cVcc_g8amBkHe5dJ01A    0.517972\n",
       "NlvWKd0eF3QEpgd9mlcOaw    0.516556\n",
       "6X4f6bB9XQ1H0qtz1eUaFg    0.512733\n",
       "akmkd_2iLRrbOyPBfYLN0A    0.511475\n",
       "KcI2VGSvRhLAmw6vZrc8WQ    0.506083\n",
       "w_e0D3ON-y5-gd5UTNyQFg    0.505976\n",
       "KzFKfC6q_s7i6mUt8Q43FA    0.503906\n",
       "SiFloh5xminiR6GopZINRA    0.502604\n",
       "KsQQOQ3ngmh_Yk6RmTo2ug    0.501805\n",
       "wSWDShwN69X58ydFJkIeDQ    0.500000\n",
       "lHhUQlEu8ZFW6fyu2rwBBQ    0.500000\n",
       "fbI36KFLubq5adz8lzX3Rg    0.496914\n",
       "Y0aovX_kbraKpdLYCzVHKA    0.495526\n",
       "4kfvccmKDUgCXu_jLYm5dQ    0.494673\n",
       "-ZVmHZcdn_OH52QWwSMimA    0.494145\n",
       "O_KD0lyV0VlwMdPF2k6lqA    0.490716\n",
       "k5BJbz43TUKOBygmatgehA    0.477419\n",
       "8qe2c5uRlAkvNFvDriBm1Q    0.471274\n",
       "_Pcu--HeFV94yAgHHdBQbQ    0.469522\n",
       "CJWaJ8MfppMDGCiMXyl0pg    0.466955\n",
       "VkuUr9DO7eefmsFQ_fEJTA    0.440887\n",
       "Name: lexical_diversity, Length: 6403, dtype: float64"
      ]
     },
     "execution_count": 25,
     "metadata": {},
     "output_type": "execute_result"
    }
   ],
   "source": [
    "yelp.groupby('user_id').lexical_diversity.mean().sort_values(ascending=False)"
   ]
  },
  {
   "cell_type": "code",
   "execution_count": 26,
   "metadata": {},
   "outputs": [
    {
     "data": {
      "text/html": [
       "<div>\n",
       "<style scoped>\n",
       "    .dataframe tbody tr th:only-of-type {\n",
       "        vertical-align: middle;\n",
       "    }\n",
       "\n",
       "    .dataframe tbody tr th {\n",
       "        vertical-align: top;\n",
       "    }\n",
       "\n",
       "    .dataframe thead th {\n",
       "        text-align: right;\n",
       "    }\n",
       "</style>\n",
       "<table border=\"1\" class=\"dataframe\">\n",
       "  <thead>\n",
       "    <tr style=\"text-align: right;\">\n",
       "      <th></th>\n",
       "      <th>business_id</th>\n",
       "      <th>date</th>\n",
       "      <th>stars</th>\n",
       "      <th>text</th>\n",
       "      <th>type</th>\n",
       "      <th>user_id</th>\n",
       "      <th>cool</th>\n",
       "      <th>useful</th>\n",
       "      <th>funny</th>\n",
       "      <th>text_count</th>\n",
       "      <th>word_count</th>\n",
       "      <th>average_word_length</th>\n",
       "      <th>words</th>\n",
       "      <th>distinct_word_count</th>\n",
       "      <th>lexical_diversity</th>\n",
       "    </tr>\n",
       "    <tr>\n",
       "      <th>review_id</th>\n",
       "      <th></th>\n",
       "      <th></th>\n",
       "      <th></th>\n",
       "      <th></th>\n",
       "      <th></th>\n",
       "      <th></th>\n",
       "      <th></th>\n",
       "      <th></th>\n",
       "      <th></th>\n",
       "      <th></th>\n",
       "      <th></th>\n",
       "      <th></th>\n",
       "      <th></th>\n",
       "      <th></th>\n",
       "      <th></th>\n",
       "    </tr>\n",
       "  </thead>\n",
       "  <tbody>\n",
       "    <tr>\n",
       "      <th>3vLZq2teUIqXnpnWWRNnNA</th>\n",
       "      <td>LzpR_jE6VIutJ08s2cdRrw</td>\n",
       "      <td>2010-05-01</td>\n",
       "      <td>3</td>\n",
       "      <td>My boyfriend and I had heard about the great f...</td>\n",
       "      <td>review</td>\n",
       "      <td>VkuUr9DO7eefmsFQ_fEJTA</td>\n",
       "      <td>0</td>\n",
       "      <td>0</td>\n",
       "      <td>0</td>\n",
       "      <td>4119</td>\n",
       "      <td>812</td>\n",
       "      <td>5.07266</td>\n",
       "      <td>[My, boyfriend, and, I, had, heard, about, the...</td>\n",
       "      <td>358</td>\n",
       "      <td>0.440887</td>\n",
       "    </tr>\n",
       "  </tbody>\n",
       "</table>\n",
       "</div>"
      ],
      "text/plain": [
       "                                   business_id       date  stars  \\\n",
       "review_id                                                          \n",
       "3vLZq2teUIqXnpnWWRNnNA  LzpR_jE6VIutJ08s2cdRrw 2010-05-01      3   \n",
       "\n",
       "                                                                     text  \\\n",
       "review_id                                                                   \n",
       "3vLZq2teUIqXnpnWWRNnNA  My boyfriend and I had heard about the great f...   \n",
       "\n",
       "                          type                 user_id  cool  useful  funny  \\\n",
       "review_id                                                                     \n",
       "3vLZq2teUIqXnpnWWRNnNA  review  VkuUr9DO7eefmsFQ_fEJTA     0       0      0   \n",
       "\n",
       "                        text_count  word_count  average_word_length  \\\n",
       "review_id                                                             \n",
       "3vLZq2teUIqXnpnWWRNnNA        4119         812              5.07266   \n",
       "\n",
       "                                                                    words  \\\n",
       "review_id                                                                   \n",
       "3vLZq2teUIqXnpnWWRNnNA  [My, boyfriend, and, I, had, heard, about, the...   \n",
       "\n",
       "                        distinct_word_count  lexical_diversity  \n",
       "review_id                                                       \n",
       "3vLZq2teUIqXnpnWWRNnNA                  358           0.440887  "
      ]
     },
     "execution_count": 26,
     "metadata": {},
     "output_type": "execute_result"
    }
   ],
   "source": [
    "yelp[yelp.user_id == 'VkuUr9DO7eefmsFQ_fEJTA']"
   ]
  },
  {
   "cell_type": "code",
   "execution_count": null,
   "metadata": {},
   "outputs": [],
   "source": []
  },
  {
   "cell_type": "code",
   "execution_count": null,
   "metadata": {},
   "outputs": [],
   "source": [
    "# Visualise with word clouds? Any other diagrams you want to make?"
   ]
  },
  {
   "cell_type": "code",
   "execution_count": 27,
   "metadata": {},
   "outputs": [],
   "source": [
    "import wordcloud"
   ]
  },
  {
   "cell_type": "code",
   "execution_count": 29,
   "metadata": {},
   "outputs": [],
   "source": [
    "w = wordcloud.WordCloud()"
   ]
  },
  {
   "cell_type": "code",
   "execution_count": 31,
   "metadata": {},
   "outputs": [
    {
     "data": {
      "text/plain": [
       "<wordcloud.wordcloud.WordCloud at 0x250f148d978>"
      ]
     },
     "execution_count": 31,
     "metadata": {},
     "output_type": "execute_result"
    }
   ],
   "source": [
    "w.generate(\"\\n\".join(yelp.text))"
   ]
  },
  {
   "cell_type": "code",
   "execution_count": 32,
   "metadata": {},
   "outputs": [
    {
     "data": {
      "image/png": "[encoded data removed]",
      "text/plain": [
       "<PIL.Image.Image image mode=RGB size=400x200 at 0x250F6816E80>"
      ]
     },
     "execution_count": 32,
     "metadata": {},
     "output_type": "execute_result"
    }
   ],
   "source": [
    "w.to_image()"
   ]
  },
  {
   "cell_type": "markdown",
   "metadata": {},
   "source": [
    "<a id='stopwords'></a>\n",
    "\n",
    "### Stop-Word Removal\n",
    "\n",
    "- **What:** This process is used to remove common words that will likely appear in any text.\n",
    "- **Why:** Because common words exist in most documents, they likely only add noise to your model and should be removed.\n",
    "\n",
    "**What are stop words?**\n",
    "Stop words are some of the most common words in a language. They are used so that a sentence makes sense grammatically, such as prepositions and determiners, e.g., \"to,\" \"the,\" \"and.\" However, they are so commonly used that they are generally worthless for predicting the class of a document. Since \"a\" appears in spam and non-spam emails, for example, it would only contribute noise to our model.\n",
    "\n",
    "Example: \n",
    "\n",
    "> 1. Original sentence: \"The dog jumped over the fence\"  \n",
    "> 2. After stop-word removal: \"dog jumped over fence\"\n",
    "\n",
    "The fact that there is a fence and a dog jumped over it can be derived with or without stop words."
   ]
  },
  {
   "cell_type": "code",
   "execution_count": 33,
   "metadata": {
    "scrolled": true
   },
   "outputs": [
    {
     "data": {
      "image/png": "[encoded data removed]",
      "text/plain": [
       "<PIL.Image.Image image mode=RGB size=400x200 at 0x250F1637320>"
      ]
     },
     "execution_count": 33,
     "metadata": {},
     "output_type": "execute_result"
    }
   ],
   "source": [
    "w = wordcloud.WordCloud(stopwords=['place'])\n",
    "w.generate(\"\\n\".join(yelp.text))\n",
    "w.to_image()"
   ]
  },
  {
   "cell_type": "code",
   "execution_count": 34,
   "metadata": {},
   "outputs": [],
   "source": [
    "import nltk"
   ]
  },
  {
   "cell_type": "code",
   "execution_count": 36,
   "metadata": {},
   "outputs": [
    {
     "data": {
      "image/png": "[encoded data removed]",
      "text/plain": [
       "<PIL.Image.Image image mode=RGB size=400x200 at 0x250E39AC940>"
      ]
     },
     "execution_count": 36,
     "metadata": {},
     "output_type": "execute_result"
    }
   ],
   "source": [
    "w = wordcloud.WordCloud(stopwords=['place'] + nltk.corpus.stopwords.words('english'))\n",
    "w.generate(\"\\n\".join(yelp.text))\n",
    "w.to_image() "
   ]
  },
  {
   "cell_type": "code",
   "execution_count": null,
   "metadata": {},
   "outputs": [],
   "source": []
  },
  {
   "cell_type": "code",
   "execution_count": null,
   "metadata": {},
   "outputs": [],
   "source": [
    "# What do you want to predict?"
   ]
  },
  {
   "cell_type": "code",
   "execution_count": 38,
   "metadata": {},
   "outputs": [
    {
     "data": {
      "text/plain": [
       "<matplotlib.axes._subplots.AxesSubplot at 0x250eab48fd0>"
      ]
     },
     "execution_count": 38,
     "metadata": {},
     "output_type": "execute_result"
    },
    {
     "data": {
      "image/png": "[encoded data removed]",
      "text/plain": [
       "<Figure size 432x288 with 1 Axes>"
      ]
     },
     "metadata": {
      "needs_background": "light"
     },
     "output_type": "display_data"
    }
   ],
   "source": [
    "yelp.stars.plot.hist()"
   ]
  },
  {
   "cell_type": "code",
   "execution_count": 39,
   "metadata": {},
   "outputs": [],
   "source": [
    "def stars2feedback(number_of_stars):\n",
    "    if number_of_stars == 3:\n",
    "        return 'neutral'\n",
    "    if number_of_stars > 3:\n",
    "        return 'happy'\n",
    "    if number_of_stars < 3: \n",
    "        return 'sad'\n",
    "\n",
    "yelp['feedback'] = yelp.stars.map(stars2feedback)"
   ]
  },
  {
   "cell_type": "code",
   "execution_count": 40,
   "metadata": {},
   "outputs": [
    {
     "data": {
      "text/plain": [
       "happy      6863\n",
       "sad        1676\n",
       "neutral    1461\n",
       "Name: feedback, dtype: int64"
      ]
     },
     "execution_count": 40,
     "metadata": {},
     "output_type": "execute_result"
    }
   ],
   "source": [
    "yelp.feedback.value_counts()"
   ]
  },
  {
   "cell_type": "code",
   "execution_count": 41,
   "metadata": {},
   "outputs": [
    {
     "data": {
      "image/png": "[encoded data removed]",
      "text/plain": [
       "<PIL.Image.Image image mode=RGB size=400x200 at 0x2508AAD9A20>"
      ]
     },
     "execution_count": 41,
     "metadata": {},
     "output_type": "execute_result"
    }
   ],
   "source": [
    "w = wordcloud.WordCloud(stopwords=['place'] + nltk.corpus.stopwords.words('english'))\n",
    "w.generate(\"\\n\".join(yelp.text[yelp.feedback == 'happy']))\n",
    "w.to_image() "
   ]
  },
  {
   "cell_type": "code",
   "execution_count": 43,
   "metadata": {},
   "outputs": [
    {
     "data": {
      "image/png": "[encoded data removed]",
      "text/plain": [
       "<PIL.Image.Image image mode=RGB size=400x200 at 0x250E391A710>"
      ]
     },
     "execution_count": 43,
     "metadata": {},
     "output_type": "execute_result"
    }
   ],
   "source": [
    "w = wordcloud.WordCloud(stopwords=['place'] + nltk.corpus.stopwords.words('english'))\n",
    "w.generate(\"\\n\".join(yelp.text[yelp.feedback == 'sad']))\n",
    "w.to_image() "
   ]
  },
  {
   "cell_type": "code",
   "execution_count": null,
   "metadata": {},
   "outputs": [],
   "source": [
    "# add whatever features you want to add, do a train-test split, etc."
   ]
  },
  {
   "cell_type": "code",
   "execution_count": 44,
   "metadata": {},
   "outputs": [],
   "source": [
    "import sklearn.model_selection\n",
    "Xtrain, Xtest, Ytrain, Ytest =  sklearn.model_selection.train_test_split(yelp.text, yelp.feedback,\n",
    "                                                                        random_state=3334)"
   ]
  },
  {
   "cell_type": "markdown",
   "metadata": {},
   "source": [
    "<a id='text_class'></a>\n",
    "\n",
    "\n",
    "# Introduction: Text Classification"
   ]
  },
  {
   "cell_type": "markdown",
   "metadata": {},
   "source": [
    "As you proceed through this section, note that text classification is done in the same way as all other \n",
    "classification models. \n",
    "\n",
    "First, the **text is vectorized into a set of numeric features**.\n",
    "\n",
    "- Bag of words?\n",
    "- Bag of n-grams?\n",
    "- Weighted words or ngrams?\n",
    "- Dimensionality reduced skip-gram (e.g. Glove, BERT)\n"
   ]
  },
  {
   "cell_type": "markdown",
   "metadata": {},
   "source": [
    "Then, a standard machine learning classifier is applied. NLP libraries often include vectorizers and ML models that work particularly well with text.\n",
    "\n",
    "> We will refer to each piece of text we are trying to classify as a document.\n",
    "> - For example, a document could refer to an email, book chapter, tweet, article, or text message.\n",
    "\n",
    "**Text classification is the task of predicting which category or topic a text sample is from.**\n",
    "\n",
    "We may want to identify:\n",
    "- Is an article a sports or business story?\n",
    "- Does an email have positive or negative sentiment?\n",
    "- Is the rating of a recipe 1, 2, 3, 4, or 5 stars?\n",
    "\n",
    "**Predictions are often made by using the words as features and the label as the target output.**\n",
    "\n",
    "Starting out, we will make each unique word (across all documents) a single feature. In any given corpora, we may have hundreds of thousands of unique words, so we may have hundreds of thousands of features!\n",
    "\n",
    "- For a given document, the numeric value of each feature could be the number of times the word appears in the document.\n",
    "    - So, most features will have a value of zero, resulting in a sparse matrix of features.\n",
    "\n",
    "- This technique for vectorizing text is referred to as a bag-of-words model. \n",
    "    - It is called bag of words because the document's structure is lost — as if the words are all jumbled up in a bag.\n",
    "    - The first step to creating a bag-of-words model is to create a vocabulary of all possible words in the corpora.\n",
    "\n",
    "> Alternatively, we could make each column an indicator column, which is 1 if the word is present in the document (no matter how many times) and 0 if not. This vectorization could be used to reduce the importance of repeated words. For example, a website search engine would be susceptible to spammers who load websites with repeated words. So, the search engine might use indicator columns as features rather than word counts.\n",
    "\n",
    "**We need to consider several things to decide if bag-of-words is appropriate.**\n",
    "\n",
    "- Does order of words matter?\n",
    "- Does punctuation matter?\n",
    "- Does upper or lower case matter?"
   ]
  },
  {
   "cell_type": "code",
   "execution_count": null,
   "metadata": {},
   "outputs": [],
   "source": []
  },
  {
   "cell_type": "code",
   "execution_count": null,
   "metadata": {},
   "outputs": [],
   "source": []
  },
  {
   "cell_type": "markdown",
   "metadata": {},
   "source": [
    "<a id='countvectorizer-model'></a>\n",
    "\n",
    "\n",
    "### Using CountVectorizer in a Model\n",
    "![DTM](images/DTM.png)"
   ]
  },
  {
   "cell_type": "code",
   "execution_count": 61,
   "metadata": {},
   "outputs": [],
   "source": [
    "count_vectorizer = sklearn.feature_extraction.text.CountVectorizer(min_df=3, \n",
    "                                                                   token_pattern='(?u)\\\\b[a-z]{3,}\\\\b')"
   ]
  },
  {
   "cell_type": "code",
   "execution_count": 65,
   "metadata": {},
   "outputs": [],
   "source": [
    "sklearn.feature_extraction.text.CountVectorizer?"
   ]
  },
  {
   "cell_type": "code",
   "execution_count": 63,
   "metadata": {},
   "outputs": [
    {
     "data": {
      "text/plain": [
       "<7500x10216 sparse matrix of type '<class 'numpy.int64'>'\n",
       "\twith 524775 stored elements in Compressed Sparse Row format>"
      ]
     },
     "execution_count": 63,
     "metadata": {},
     "output_type": "execute_result"
    }
   ],
   "source": [
    "vecTrain = count_vectorizer.fit_transform(Xtrain)\n",
    "vecTrain"
   ]
  },
  {
   "cell_type": "code",
   "execution_count": 64,
   "metadata": {
    "collapsed": true
   },
   "outputs": [
    {
     "data": {
      "text/plain": [
       "['aaron',\n",
       " 'abandoned',\n",
       " 'abc',\n",
       " 'abilities',\n",
       " 'ability',\n",
       " 'able',\n",
       " 'abode',\n",
       " 'abound',\n",
       " 'about',\n",
       " 'above',\n",
       " 'abroad',\n",
       " 'absence',\n",
       " 'absent',\n",
       " 'absolute',\n",
       " 'absolutely',\n",
       " 'absolutly',\n",
       " 'absurd',\n",
       " 'abundance',\n",
       " 'abysmal',\n",
       " 'acai',\n",
       " 'accent',\n",
       " 'accented',\n",
       " 'accents',\n",
       " 'accept',\n",
       " 'acceptable',\n",
       " 'accepted',\n",
       " 'accepting',\n",
       " 'access',\n",
       " 'accessible',\n",
       " 'accessories',\n",
       " 'accident',\n",
       " 'accidentally',\n",
       " 'accolades',\n",
       " 'accommodate',\n",
       " 'accommodated',\n",
       " 'accommodating',\n",
       " 'accommodation',\n",
       " 'accommodations',\n",
       " 'accomodate',\n",
       " 'accomodated',\n",
       " 'accomodating',\n",
       " 'accompanied',\n",
       " 'accompaniment',\n",
       " 'accompaniments',\n",
       " 'accompany',\n",
       " 'accompanying',\n",
       " 'accomplish',\n",
       " 'accomplished',\n",
       " 'accomplishment',\n",
       " 'according',\n",
       " 'accordingly',\n",
       " 'account',\n",
       " 'accross',\n",
       " 'accurate',\n",
       " 'accused',\n",
       " 'accustomed',\n",
       " 'ace',\n",
       " 'ache',\n",
       " 'achieve',\n",
       " 'achieved',\n",
       " 'acidic',\n",
       " 'acknowledge',\n",
       " 'acknowledged',\n",
       " 'acknowledging',\n",
       " 'acoustic',\n",
       " 'acoustics',\n",
       " 'acquaintance',\n",
       " 'acquired',\n",
       " 'across',\n",
       " 'act',\n",
       " 'acted',\n",
       " 'acting',\n",
       " 'action',\n",
       " 'active',\n",
       " 'activities',\n",
       " 'activity',\n",
       " 'actor',\n",
       " 'actors',\n",
       " 'acts',\n",
       " 'actual',\n",
       " 'actually',\n",
       " 'adam',\n",
       " 'adams',\n",
       " 'add',\n",
       " 'added',\n",
       " 'addict',\n",
       " 'addicted',\n",
       " 'addicting',\n",
       " 'addiction',\n",
       " 'addictive',\n",
       " 'adding',\n",
       " 'addition',\n",
       " 'additional',\n",
       " 'additionally',\n",
       " 'additions',\n",
       " 'address',\n",
       " 'addressed',\n",
       " 'adds',\n",
       " 'adequate',\n",
       " 'adequately',\n",
       " 'adjacent',\n",
       " 'adjoining',\n",
       " 'adjust',\n",
       " 'admirable',\n",
       " 'admission',\n",
       " 'admit',\n",
       " 'admitted',\n",
       " 'admittedly',\n",
       " 'adobada',\n",
       " 'adobe',\n",
       " 'adobo',\n",
       " 'adopted',\n",
       " 'adorable',\n",
       " 'adore',\n",
       " 'adored',\n",
       " 'adovada',\n",
       " 'adult',\n",
       " 'adults',\n",
       " 'advance',\n",
       " 'advanced',\n",
       " 'advantage',\n",
       " 'adventure',\n",
       " 'adventures',\n",
       " 'adventurous',\n",
       " 'adverse',\n",
       " 'advertise',\n",
       " 'advertised',\n",
       " 'advertising',\n",
       " 'advice',\n",
       " 'advise',\n",
       " 'advised',\n",
       " 'aerobics',\n",
       " 'aesthetics',\n",
       " 'affair',\n",
       " 'affect',\n",
       " 'affected',\n",
       " 'afford',\n",
       " 'affordable',\n",
       " 'afloat',\n",
       " 'aforementioned',\n",
       " 'afraid',\n",
       " 'african',\n",
       " 'after',\n",
       " 'afterall',\n",
       " 'afternoon',\n",
       " 'afternoons',\n",
       " 'aftertaste',\n",
       " 'afterthought',\n",
       " 'afterward',\n",
       " 'afterwards',\n",
       " 'again',\n",
       " 'against',\n",
       " 'agave',\n",
       " 'age',\n",
       " 'aged',\n",
       " 'agent',\n",
       " 'agents',\n",
       " 'ages',\n",
       " 'aggressive',\n",
       " 'aging',\n",
       " 'ago',\n",
       " 'agree',\n",
       " 'agreeable',\n",
       " 'agreed',\n",
       " 'agreement',\n",
       " 'agrees',\n",
       " 'agua',\n",
       " 'ahead',\n",
       " 'ahh',\n",
       " 'ahhh',\n",
       " 'ahi',\n",
       " 'ahwatukee',\n",
       " 'aid',\n",
       " 'aiello',\n",
       " 'aims',\n",
       " 'ain',\n",
       " 'aint',\n",
       " 'aioli',\n",
       " 'air',\n",
       " 'aired',\n",
       " 'airline',\n",
       " 'airlines',\n",
       " 'airpark',\n",
       " 'airport',\n",
       " 'airports',\n",
       " 'airways',\n",
       " 'airy',\n",
       " 'aisle',\n",
       " 'aisles',\n",
       " 'aji',\n",
       " 'ajo',\n",
       " 'ajs',\n",
       " 'aka',\n",
       " 'ala',\n",
       " 'alas',\n",
       " 'alaska',\n",
       " 'alaskan',\n",
       " 'albacore',\n",
       " 'albeit',\n",
       " 'albert',\n",
       " 'albertsons',\n",
       " 'albums',\n",
       " 'alcohol',\n",
       " 'alcoholic',\n",
       " 'ale',\n",
       " 'alert',\n",
       " 'ales',\n",
       " 'alex',\n",
       " 'alfredo',\n",
       " 'algae',\n",
       " 'ali',\n",
       " 'alice',\n",
       " 'alike',\n",
       " 'alive',\n",
       " 'all',\n",
       " 'alla',\n",
       " 'allergic',\n",
       " 'allergies',\n",
       " 'allergy',\n",
       " 'alley',\n",
       " 'alligator',\n",
       " 'allot',\n",
       " 'allow',\n",
       " 'allowed',\n",
       " 'allowing',\n",
       " 'allows',\n",
       " 'allure',\n",
       " 'almond',\n",
       " 'almonds',\n",
       " 'almost',\n",
       " 'aloha',\n",
       " 'alone',\n",
       " 'along',\n",
       " 'alongside',\n",
       " 'alot',\n",
       " 'already',\n",
       " 'alright',\n",
       " 'also',\n",
       " 'altered',\n",
       " 'alternate',\n",
       " 'alternative',\n",
       " 'alternatives',\n",
       " 'although',\n",
       " 'altogether',\n",
       " 'aluminum',\n",
       " 'always',\n",
       " 'amanda',\n",
       " 'amateur',\n",
       " 'amaze',\n",
       " 'amazed',\n",
       " 'amazing',\n",
       " 'amazingly',\n",
       " 'amber',\n",
       " 'ambiance',\n",
       " 'ambience',\n",
       " 'ambient',\n",
       " 'ambrosia',\n",
       " 'amc',\n",
       " 'amenities',\n",
       " 'america',\n",
       " 'american',\n",
       " 'americana',\n",
       " 'americanized',\n",
       " 'americano',\n",
       " 'americans',\n",
       " 'amex',\n",
       " 'amidst',\n",
       " 'amigos',\n",
       " 'among',\n",
       " 'amongst',\n",
       " 'amore',\n",
       " 'amount',\n",
       " 'amounts',\n",
       " 'ample',\n",
       " 'amuse',\n",
       " 'amused',\n",
       " 'amusing',\n",
       " 'amy',\n",
       " 'anaheim',\n",
       " 'anal',\n",
       " 'analysis',\n",
       " 'ancho',\n",
       " 'anchovies',\n",
       " 'ancient',\n",
       " 'and',\n",
       " 'andouille',\n",
       " 'andre',\n",
       " 'andrea',\n",
       " 'andrew',\n",
       " 'andy',\n",
       " 'angel',\n",
       " 'angela',\n",
       " 'angeles',\n",
       " 'angels',\n",
       " 'anglaise',\n",
       " 'angle',\n",
       " 'angles',\n",
       " 'angry',\n",
       " 'angus',\n",
       " 'animal',\n",
       " 'animals',\n",
       " 'anise',\n",
       " 'ankle',\n",
       " 'ann',\n",
       " 'annie',\n",
       " 'anniversary',\n",
       " 'announced',\n",
       " 'annoy',\n",
       " 'annoyance',\n",
       " 'annoyances',\n",
       " 'annoyed',\n",
       " 'annoying',\n",
       " 'annoyingly',\n",
       " 'annual',\n",
       " 'another',\n",
       " 'answer',\n",
       " 'answered',\n",
       " 'answering',\n",
       " 'answers',\n",
       " 'anthem',\n",
       " 'anthony',\n",
       " 'anti',\n",
       " 'anticipate',\n",
       " 'anticipated',\n",
       " 'anticipating',\n",
       " 'antipasti',\n",
       " 'antipasto',\n",
       " 'antique',\n",
       " 'antiques',\n",
       " 'ants',\n",
       " 'anxiety',\n",
       " 'anxious',\n",
       " 'anxiously',\n",
       " 'any',\n",
       " 'anybody',\n",
       " 'anyday',\n",
       " 'anyhoo',\n",
       " 'anyhow',\n",
       " 'anymore',\n",
       " 'anyone',\n",
       " 'anything',\n",
       " 'anytime',\n",
       " 'anyway',\n",
       " 'anyways',\n",
       " 'anywhere',\n",
       " 'anywho',\n",
       " 'apache',\n",
       " 'apart',\n",
       " 'apartment',\n",
       " 'apartments',\n",
       " 'apollo',\n",
       " 'apologetic',\n",
       " 'apologies',\n",
       " 'apologize',\n",
       " 'apologized',\n",
       " 'apologizing',\n",
       " 'apology',\n",
       " 'app',\n",
       " 'apparel',\n",
       " 'apparent',\n",
       " 'apparently',\n",
       " 'appeal',\n",
       " 'appealing',\n",
       " 'appeals',\n",
       " 'appear',\n",
       " 'appearance',\n",
       " 'appeared',\n",
       " 'appears',\n",
       " 'appetite',\n",
       " 'appetizer',\n",
       " 'appetizers',\n",
       " 'appetizing',\n",
       " 'applaud',\n",
       " 'apple',\n",
       " 'applebee',\n",
       " 'applebees',\n",
       " 'apples',\n",
       " 'applewood',\n",
       " 'appliances',\n",
       " 'applied',\n",
       " 'apply',\n",
       " 'applying',\n",
       " 'appointed',\n",
       " 'appointment',\n",
       " 'appointments',\n",
       " 'appreciate',\n",
       " 'appreciated',\n",
       " 'appreciation',\n",
       " 'appreciative',\n",
       " 'apprehensive',\n",
       " 'approach',\n",
       " 'approachable',\n",
       " 'approached',\n",
       " 'approaches',\n",
       " 'approaching',\n",
       " 'appropriate',\n",
       " 'appropriately',\n",
       " 'approval',\n",
       " 'approve',\n",
       " 'approx',\n",
       " 'approximately',\n",
       " 'apps',\n",
       " 'appt',\n",
       " 'apricot',\n",
       " 'april',\n",
       " 'apron',\n",
       " 'apt',\n",
       " 'aqua',\n",
       " 'aquarium',\n",
       " 'arcade',\n",
       " 'arcadia',\n",
       " 'arches',\n",
       " 'architect',\n",
       " 'architecture',\n",
       " 'are',\n",
       " 'area',\n",
       " 'areas',\n",
       " 'aren',\n",
       " 'arena',\n",
       " 'arent',\n",
       " 'argentinian',\n",
       " 'argue',\n",
       " 'argued',\n",
       " 'arguing',\n",
       " 'argument',\n",
       " 'arizona',\n",
       " 'arizonians',\n",
       " 'arlecchino',\n",
       " 'arm',\n",
       " 'armed',\n",
       " 'armor',\n",
       " 'armour',\n",
       " 'arms',\n",
       " 'army',\n",
       " 'arnold',\n",
       " 'aroma',\n",
       " 'around',\n",
       " 'arranged',\n",
       " 'arrangement',\n",
       " 'arrangements',\n",
       " 'array',\n",
       " 'arriba',\n",
       " 'arrival',\n",
       " 'arrive',\n",
       " 'arrived',\n",
       " 'arrives',\n",
       " 'arriving',\n",
       " 'arrogant',\n",
       " 'arrowhead',\n",
       " 'art',\n",
       " 'artery',\n",
       " 'artichoke',\n",
       " 'artichokes',\n",
       " 'article',\n",
       " 'articles',\n",
       " 'artifacts',\n",
       " 'artificial',\n",
       " 'artisan',\n",
       " 'artist',\n",
       " 'artistic',\n",
       " 'artistry',\n",
       " 'artists',\n",
       " 'artois',\n",
       " 'arts',\n",
       " 'artsy',\n",
       " 'artwork',\n",
       " 'arugula',\n",
       " 'asada',\n",
       " 'asado',\n",
       " 'asahi',\n",
       " 'asap',\n",
       " 'ashamed',\n",
       " 'asiago',\n",
       " 'asian',\n",
       " 'asians',\n",
       " 'aside',\n",
       " 'ask',\n",
       " 'asked',\n",
       " 'asking',\n",
       " 'asks',\n",
       " 'asleep',\n",
       " 'asparagus',\n",
       " 'aspect',\n",
       " 'aspects',\n",
       " 'ass',\n",
       " 'assed',\n",
       " 'assemble',\n",
       " 'asses',\n",
       " 'assessment',\n",
       " 'asset',\n",
       " 'asshole',\n",
       " 'assigned',\n",
       " 'assignment',\n",
       " 'assistance',\n",
       " 'assistant',\n",
       " 'assisted',\n",
       " 'associate',\n",
       " 'associated',\n",
       " 'associates',\n",
       " 'assorted',\n",
       " 'assortment',\n",
       " 'assume',\n",
       " 'assumed',\n",
       " 'assuming',\n",
       " 'assumption',\n",
       " 'assure',\n",
       " 'assured',\n",
       " 'assuredly',\n",
       " 'astounding',\n",
       " 'asu',\n",
       " 'ate',\n",
       " 'athletes',\n",
       " 'atlanta',\n",
       " 'atlantic',\n",
       " 'atleast',\n",
       " 'atm',\n",
       " 'atmosphere',\n",
       " 'atomic',\n",
       " 'atop',\n",
       " 'atoyac',\n",
       " 'atrium',\n",
       " 'atrocious',\n",
       " 'attached',\n",
       " 'attack',\n",
       " 'attempt',\n",
       " 'attempted',\n",
       " 'attempting',\n",
       " 'attempts',\n",
       " 'attend',\n",
       " 'attendant',\n",
       " 'attendants',\n",
       " 'attended',\n",
       " 'attendees',\n",
       " 'attending',\n",
       " 'attention',\n",
       " 'attentive',\n",
       " 'attentiveness',\n",
       " 'attest',\n",
       " 'attic',\n",
       " 'attire',\n",
       " 'attitude',\n",
       " 'attitudes',\n",
       " 'attract',\n",
       " 'attracted',\n",
       " 'attraction',\n",
       " 'attractions',\n",
       " 'attractive',\n",
       " 'attracts',\n",
       " 'audacity',\n",
       " 'audience',\n",
       " 'audrey',\n",
       " 'aug',\n",
       " 'august',\n",
       " 'aunt',\n",
       " 'austin',\n",
       " 'authentic',\n",
       " 'authentically',\n",
       " 'authenticity',\n",
       " 'authority',\n",
       " 'auto',\n",
       " 'automatic',\n",
       " 'automatically',\n",
       " 'autumn',\n",
       " 'avacado',\n",
       " 'availability',\n",
       " 'available',\n",
       " 'ave',\n",
       " 'avenue',\n",
       " 'average',\n",
       " 'averaged',\n",
       " 'averages',\n",
       " 'avid',\n",
       " 'avocado',\n",
       " 'avocados',\n",
       " 'avoid',\n",
       " 'avoided',\n",
       " 'avoiding',\n",
       " 'awaited',\n",
       " 'awaiting',\n",
       " 'awake',\n",
       " 'award',\n",
       " 'awarded',\n",
       " 'awards',\n",
       " 'aware',\n",
       " 'awareness',\n",
       " 'away',\n",
       " 'awesome',\n",
       " 'awesomely',\n",
       " 'awesomeness',\n",
       " 'awful',\n",
       " 'awfully',\n",
       " 'awhile',\n",
       " 'awkward',\n",
       " 'awsome',\n",
       " 'axis',\n",
       " 'ayce',\n",
       " 'baba',\n",
       " 'babbo',\n",
       " 'babies',\n",
       " 'baby',\n",
       " 'babysitter',\n",
       " 'bachelorette',\n",
       " 'back',\n",
       " 'backdrop',\n",
       " 'backed',\n",
       " 'background',\n",
       " 'backs',\n",
       " 'backside',\n",
       " 'backup',\n",
       " 'backwards',\n",
       " 'backyard',\n",
       " 'bacon',\n",
       " 'bad',\n",
       " 'badger',\n",
       " 'badly',\n",
       " 'baffled',\n",
       " 'bag',\n",
       " 'bagel',\n",
       " 'bagels',\n",
       " 'baggage',\n",
       " 'bagged',\n",
       " 'bags',\n",
       " 'baguette',\n",
       " 'bahama',\n",
       " 'bail',\n",
       " 'baileys',\n",
       " 'bait',\n",
       " 'baiz',\n",
       " 'baja',\n",
       " 'bake',\n",
       " 'baked',\n",
       " 'baker',\n",
       " 'bakeries',\n",
       " 'bakery',\n",
       " 'baking',\n",
       " 'baklava',\n",
       " 'balance',\n",
       " 'balanced',\n",
       " 'balancing',\n",
       " 'balcony',\n",
       " 'ball',\n",
       " 'ballet',\n",
       " 'ballpark',\n",
       " 'ballroom',\n",
       " 'balls',\n",
       " 'balsamic',\n",
       " 'bam',\n",
       " 'bamboo',\n",
       " 'banana',\n",
       " 'bananas',\n",
       " 'band',\n",
       " 'bandera',\n",
       " 'bandido',\n",
       " 'bands',\n",
       " 'bang',\n",
       " 'bangers',\n",
       " 'banging',\n",
       " 'bangs',\n",
       " 'banh',\n",
       " 'bank',\n",
       " 'banking',\n",
       " 'banner',\n",
       " 'banquet',\n",
       " 'banter',\n",
       " 'bar',\n",
       " 'barbacoa',\n",
       " 'barbecue',\n",
       " 'barbeque',\n",
       " 'barber',\n",
       " 'barbers',\n",
       " 'barcelona',\n",
       " 'bare',\n",
       " 'barely',\n",
       " 'bargain',\n",
       " 'bargains',\n",
       " 'barista',\n",
       " 'baristas',\n",
       " 'bark',\n",
       " 'barking',\n",
       " 'barn',\n",
       " 'barnes',\n",
       " 'barrel',\n",
       " 'barrels',\n",
       " 'barrier',\n",
       " 'barrio',\n",
       " 'barro',\n",
       " 'bars',\n",
       " 'bartender',\n",
       " 'bartenders',\n",
       " 'base',\n",
       " 'baseball',\n",
       " 'based',\n",
       " 'baseline',\n",
       " 'basement',\n",
       " 'bash',\n",
       " 'basha',\n",
       " 'bashas',\n",
       " 'basic',\n",
       " 'basically',\n",
       " 'basics',\n",
       " 'basil',\n",
       " 'basis',\n",
       " 'basket',\n",
       " 'basketball',\n",
       " 'baskets',\n",
       " 'baskin',\n",
       " 'basmati',\n",
       " 'bass',\n",
       " 'bastard',\n",
       " 'bastards',\n",
       " 'bat',\n",
       " 'batch',\n",
       " 'bath',\n",
       " 'bathed',\n",
       " 'bathing',\n",
       " 'bathroom',\n",
       " 'bathrooms',\n",
       " 'bathtub',\n",
       " 'batman',\n",
       " 'bats',\n",
       " 'batter',\n",
       " 'battered',\n",
       " 'batteries',\n",
       " 'battery',\n",
       " 'batting',\n",
       " 'battle',\n",
       " 'bay',\n",
       " 'bbq',\n",
       " 'bcs',\n",
       " 'bday',\n",
       " 'beach',\n",
       " 'beams',\n",
       " 'bean',\n",
       " 'beans',\n",
       " 'bear',\n",
       " 'bearable',\n",
       " 'beard',\n",
       " 'bearing',\n",
       " 'bears',\n",
       " 'beat',\n",
       " 'beaten',\n",
       " 'beaters',\n",
       " 'beating',\n",
       " 'beats',\n",
       " 'beau',\n",
       " 'beautiful',\n",
       " 'beautifully',\n",
       " 'beauty',\n",
       " 'beaver',\n",
       " 'became',\n",
       " 'because',\n",
       " 'beckett',\n",
       " 'beckoning',\n",
       " 'become',\n",
       " 'becomes',\n",
       " 'becoming',\n",
       " 'bed',\n",
       " 'bedroom',\n",
       " 'bedrooms',\n",
       " 'beds',\n",
       " 'bee',\n",
       " 'beef',\n",
       " 'beefy',\n",
       " 'been',\n",
       " 'beer',\n",
       " 'beers',\n",
       " 'bees',\n",
       " 'beet',\n",
       " 'beets',\n",
       " 'before',\n",
       " 'beforehand',\n",
       " 'began',\n",
       " 'begged',\n",
       " 'begging',\n",
       " 'begin',\n",
       " 'beginner',\n",
       " 'beginners',\n",
       " 'beginning',\n",
       " 'begins',\n",
       " 'begrudgingly',\n",
       " 'behalf',\n",
       " 'behave',\n",
       " 'behaved',\n",
       " 'behavior',\n",
       " 'behind',\n",
       " 'behold',\n",
       " 'beige',\n",
       " 'beignets',\n",
       " 'being',\n",
       " 'belgian',\n",
       " 'belgium',\n",
       " 'belief',\n",
       " 'believe',\n",
       " 'believed',\n",
       " 'believer',\n",
       " 'bell',\n",
       " 'bellini',\n",
       " 'bellinis',\n",
       " 'belly',\n",
       " 'belong',\n",
       " 'belongs',\n",
       " 'beloved',\n",
       " 'below',\n",
       " 'belt',\n",
       " 'belts',\n",
       " 'ben',\n",
       " 'bench',\n",
       " 'benches',\n",
       " 'bend',\n",
       " 'beneath',\n",
       " 'benedict',\n",
       " 'benefit',\n",
       " 'benefited',\n",
       " 'benefits',\n",
       " 'benny',\n",
       " 'bent',\n",
       " 'bento',\n",
       " 'beppo',\n",
       " 'berries',\n",
       " 'berry',\n",
       " 'berto',\n",
       " 'bertos',\n",
       " 'beside',\n",
       " 'besides',\n",
       " 'best',\n",
       " 'bet',\n",
       " 'better',\n",
       " 'betty',\n",
       " 'between',\n",
       " 'beverage',\n",
       " 'beverages',\n",
       " 'bevmo',\n",
       " 'bevy',\n",
       " 'beware',\n",
       " 'beyond',\n",
       " 'bff',\n",
       " 'bianca',\n",
       " 'bianco',\n",
       " 'biancoverde',\n",
       " 'bias',\n",
       " 'biased',\n",
       " 'bibimbap',\n",
       " 'bicycle',\n",
       " 'biersch',\n",
       " 'big',\n",
       " 'bigger',\n",
       " 'biggest',\n",
       " 'biggie',\n",
       " 'bike',\n",
       " 'bikers',\n",
       " 'bikes',\n",
       " 'biking',\n",
       " 'bikini',\n",
       " 'bill',\n",
       " 'billed',\n",
       " 'billiards',\n",
       " 'billing',\n",
       " 'bills',\n",
       " 'biltmore',\n",
       " 'bin',\n",
       " 'bins',\n",
       " 'bird',\n",
       " 'birds',\n",
       " 'birthday',\n",
       " 'birthdays',\n",
       " 'biryani',\n",
       " 'biscuit',\n",
       " 'biscuits',\n",
       " 'bison',\n",
       " 'bisque',\n",
       " 'bistro',\n",
       " 'bit',\n",
       " 'bitch',\n",
       " 'bite',\n",
       " 'bites',\n",
       " 'biting',\n",
       " 'bits',\n",
       " 'bitter',\n",
       " 'bitterness',\n",
       " 'biz',\n",
       " 'bizarre',\n",
       " 'black',\n",
       " 'blackberries',\n",
       " 'blackberry',\n",
       " 'blackened',\n",
       " 'bladder',\n",
       " 'blade',\n",
       " 'blah',\n",
       " 'blame',\n",
       " 'blamed',\n",
       " 'blanc',\n",
       " 'blanca',\n",
       " 'blanco',\n",
       " 'bland',\n",
       " 'blank',\n",
       " 'blanket',\n",
       " 'blaring',\n",
       " 'blase',\n",
       " 'blast',\n",
       " 'blasting',\n",
       " 'blatantly',\n",
       " 'blazin',\n",
       " 'blazing',\n",
       " 'bleached',\n",
       " 'blech',\n",
       " 'bleed',\n",
       " 'bleh',\n",
       " 'blend',\n",
       " 'blended',\n",
       " 'blending',\n",
       " 'blends',\n",
       " 'bless',\n",
       " 'blessings',\n",
       " 'bleu',\n",
       " 'blew',\n",
       " 'blimpie',\n",
       " 'blind',\n",
       " 'blinking',\n",
       " 'bliss',\n",
       " 'blissful',\n",
       " 'bloated',\n",
       " 'block',\n",
       " 'blockbuster',\n",
       " 'blocked',\n",
       " 'blocks',\n",
       " 'blog',\n",
       " 'blond',\n",
       " 'blonde',\n",
       " 'blood',\n",
       " 'bloody',\n",
       " 'bloom',\n",
       " 'blossom',\n",
       " 'blossoms',\n",
       " 'blow',\n",
       " 'blower',\n",
       " 'blowing',\n",
       " 'blown',\n",
       " 'blows',\n",
       " 'blt',\n",
       " 'blu',\n",
       " 'blue',\n",
       " 'blueberries',\n",
       " 'blueberry',\n",
       " 'blues',\n",
       " 'blunt',\n",
       " 'blvd',\n",
       " 'bmw',\n",
       " 'boa',\n",
       " 'boar',\n",
       " 'board',\n",
       " 'boarded',\n",
       " 'boarding',\n",
       " 'boards',\n",
       " 'boast',\n",
       " 'boasted',\n",
       " 'boasts',\n",
       " 'boat',\n",
       " 'boats',\n",
       " 'bob',\n",
       " 'boba',\n",
       " 'bobbie',\n",
       " 'bobby',\n",
       " 'bocca',\n",
       " 'bocce',\n",
       " 'body',\n",
       " 'bogo',\n",
       " 'boil',\n",
       " 'boiled',\n",
       " 'boiling',\n",
       " 'bold',\n",
       " 'bollywood',\n",
       " 'bolognese',\n",
       " 'bolt',\n",
       " 'bomb',\n",
       " 'bombay',\n",
       " 'bomber',\n",
       " 'bombers',\n",
       " 'bombs',\n",
       " 'bon',\n",
       " 'bone',\n",
       " 'boneless',\n",
       " 'bones',\n",
       " 'bonnie',\n",
       " 'bonus',\n",
       " 'boo',\n",
       " 'book',\n",
       " 'booked',\n",
       " 'booking',\n",
       " 'bookman',\n",
       " 'bookmans',\n",
       " 'books',\n",
       " 'bookstore',\n",
       " 'bookstores',\n",
       " 'boom',\n",
       " 'boombozz',\n",
       " 'booming',\n",
       " 'boost',\n",
       " 'boot',\n",
       " 'booth',\n",
       " 'booths',\n",
       " ...]"
      ]
     },
     "execution_count": 64,
     "metadata": {},
     "output_type": "execute_result"
    }
   ],
   "source": [
    "count_vectorizer.get_feature_names()"
   ]
  },
  {
   "cell_type": "code",
   "execution_count": 53,
   "metadata": {
    "collapsed": true
   },
   "outputs": [
    {
     "data": {
      "text/plain": [
       "'Had some time to kill before the Ultimate pleY Date Yelp event, and I\\'d wanted to share my love of Nobuo\\'s Dark chocolate mousse with green tea ice cream and sugared orange peels with my happy-go-lucky cousin, who has never been here before, so we stopped by at 5:17p to find that Nobuo wouldn\\'t open till 5:30p, so we waited outside in the comfortable patio.\\r\\n\\r\\nAfter watching a couple of employees add lanterns to their outdoor umbrellaed tables, I noticed the \"OPEN\" sign on the front door, so we entered the resto, whereupon we were greeted warmly by a male host and shown to a two-top.  I didn\\'t like the energy in that room, so I asked if we could sit elsewhere, and he said to choose wherever we wanted to sit.  We were the first customers, so we chose a four-top, knowing we wouldn\\'t be taking up space for very long, anyway.  Glasses of water were delivered, and soon we met our female server (whose name on the receipt reflected \"Butai\").  When she laid down the menus, I told her we would only be having dessert and could we see the dessert menu?  I wished we had a video of the look she gave us, a look of pure distaste, as she gathered up the dinner and beverage menus and said \"We don\\'t have dessert menus, as we only have two...\" and proceeded to tell us of the mousse and the almond-orange fritters.  She walked away, and as we loudly discussed about our losing our interest in dining there, she came back with napkins and utensils and asked if we decided what we were going to have.  I decided to forgo our server\\'s very cold treatment and asked for the mousse.  After all, I\\'d already finished a glass of ice-cold water and cousin\\'s phone needed recharging...  \\r\\n\\r\\nWhen Butai placed our chocolate mousse http://www.yelp.com/biz_photos/0Buxoc0cRqjpvkezo3bqog?select=rK8m1rxl50PB69_c2YqQTg#rK8m1rxl50PB69_c2YqQTg on the table, I wanted to send it back.  Where was the lovely bowl and presentation of the last dessert I had here?  Was she serious in presenting us with this stale-looking mousse, with cracked edges and whose green tea ice cream had ice crystals on it?  I don\\'t know about you, but the only times I\\'ve seen crystals on ice cream is when it has slightly melted and placed back in the freezer to re-freeze.  For me, seeing crystals on ice cream is a sign that it is old...  I brought the receptacle and showed it to the male host, who assured me that all of the mousse is made daily at 4:00a and seeing cracks and bubbles in the mousse is normal, so I decided we would go ahead and try it, if for nothing else but to have something to report here.  The dessert was definitely not up to par with the pretty bowl http://www.yelp.com/biz_photos/0Buxoc0cRqjpvkezo3bqog?select=o9jIksB-MObhCxoI_msekQ#o9jIksB-MObhCxoI_msekQ I had during our October OYE in taste and presentation, but it was OK.  The mousse was still cold and stiff, and it had a mouth-feel more of like thick chocolate ganache filling/icing on a cake- certainly not the silky-smooth chocolate decadence I knew it could be.  My cousin had to warm up to the dish, as the sound of chocolate and green tea together didn\\'t seem like a great combo to her (I told her to trust me).  She also never enjoyed orange and chocolate together, but she liked it in this dessert.  \\r\\n\\r\\nI understand that the knowledge of having to serve only dessert instead of dinner AND dessert, which translates to a higher table bill, can be a bit of a disappointment, but why must you show your displeasure to your guests?  Butai, you were lucky that my cousin even left you the change for a tip- she didn\\'t want to give you anything, and you certainly didn\\'t deserve it!  When I told other Yelp friends about the sub-par service and dessert we just had, one replied she didn\\'t enjoy the last time we had apps here (I think it was around Halloween and First Friday?) either.  Cousin and I thought it very poor taste that our server gave us that awful, condescending look after finding out we were just going to have dessert; We didn\\'t deserve that!  I am never going to recommend Nobuo to anyone, anymore.  I even promised my Japanese friend (who lives and works overseas) I\\'d treat her to a dining experience here when she comes to visit.  Guess I\\'ll have to find another place to take her...  I don\\'t want to risk getting the same treatment from Butai, or from another server should we come back here.  \\r\\n\\r\\nSorry, Nobuo, but I won\\'t be returning.'"
      ]
     },
     "execution_count": 53,
     "metadata": {},
     "output_type": "execute_result"
    }
   ],
   "source": [
    "yelp[yelp.text.str.lower().str.contains('0buxoc0crqjpvkezo3bqog')].text.iloc[0]"
   ]
  },
  {
   "cell_type": "markdown",
   "metadata": {},
   "source": [
    "# Make a model!\n",
    "\n",
    "Logistic regression often works well. Support Vector Machines are usually good too.\n",
    "\n",
    "(Decision trees and random forests usually take too long)"
   ]
  },
  {
   "cell_type": "code",
   "execution_count": 69,
   "metadata": {
    "scrolled": true
   },
   "outputs": [
    {
     "data": {
      "text/plain": [
       "LogisticRegressionCV(Cs=10, class_weight=None, cv=5, dual=False,\n",
       "                     fit_intercept=True, intercept_scaling=1.0, l1_ratios=None,\n",
       "                     max_iter=1000, multi_class='auto', n_jobs=None,\n",
       "                     penalty='l2', random_state=None, refit=True, scoring=None,\n",
       "                     solver='lbfgs', tol=0.0001, verbose=0)"
      ]
     },
     "execution_count": 69,
     "metadata": {},
     "output_type": "execute_result"
    }
   ],
   "source": [
    "import sklearn.linear_model\n",
    "lr = sklearn.linear_model.LogisticRegressionCV(solver='lbfgs', multi_class=\"auto\", max_iter=1000, cv=5)\n",
    "lr.fit(vecTrain, Ytrain)"
   ]
  },
  {
   "cell_type": "markdown",
   "metadata": {},
   "source": [
    "### How do measure the success of this model?"
   ]
  },
  {
   "cell_type": "code",
   "execution_count": 71,
   "metadata": {},
   "outputs": [],
   "source": [
    "vecTest = count_vectorizer.transform(Xtest)\n",
    "predictions = lr.predict(vecTest)"
   ]
  },
  {
   "cell_type": "code",
   "execution_count": 72,
   "metadata": {},
   "outputs": [],
   "source": [
    "import sklearn.metrics"
   ]
  },
  {
   "cell_type": "code",
   "execution_count": 81,
   "metadata": {},
   "outputs": [
    {
     "data": {
      "text/plain": [
       "array([[1596,   63,   38],\n",
       "       [ 234,   92,   54],\n",
       "       [ 113,   35,  275]], dtype=int64)"
      ]
     },
     "execution_count": 81,
     "metadata": {},
     "output_type": "execute_result"
    }
   ],
   "source": [
    "sklearn.metrics.confusion_matrix(Ytest, predictions)"
   ]
  },
  {
   "cell_type": "code",
   "execution_count": 83,
   "metadata": {},
   "outputs": [
    {
     "data": {
      "text/plain": [
       "happy      1943\n",
       "sad         367\n",
       "neutral     190\n",
       "dtype: int64"
      ]
     },
     "execution_count": 83,
     "metadata": {},
     "output_type": "execute_result"
    }
   ],
   "source": [
    "pd.Series(predictions).value_counts()"
   ]
  },
  {
   "cell_type": "code",
   "execution_count": 84,
   "metadata": {},
   "outputs": [
    {
     "data": {
      "text/plain": [
       "happy      1697\n",
       "sad         423\n",
       "neutral     380\n",
       "Name: feedback, dtype: int64"
      ]
     },
     "execution_count": 84,
     "metadata": {},
     "output_type": "execute_result"
    }
   ],
   "source": [
    "Ytest.value_counts()"
   ]
  },
  {
   "cell_type": "code",
   "execution_count": 93,
   "metadata": {},
   "outputs": [
    {
     "data": {
      "text/plain": [
       "([<matplotlib.axis.YTick at 0x25081d85358>,\n",
       "  <matplotlib.axis.YTick at 0x25081d8b780>,\n",
       "  <matplotlib.axis.YTick at 0x2508241b080>],\n",
       " <a list of 3 Text yticklabel objects>)"
      ]
     },
     "execution_count": 93,
     "metadata": {},
     "output_type": "execute_result"
    },
    {
     "data": {
      "image/png": "[encoded data removed]",
      "text/plain": [
       "<Figure size 432x288 with 2 Axes>"
      ]
     },
     "metadata": {
      "needs_background": "light"
     },
     "output_type": "display_data"
    }
   ],
   "source": [
    "import seaborn as sns\n",
    "sns.heatmap(sklearn.metrics.confusion_matrix(Ytest, predictions), annot=True, fmt='4d')\n",
    "import matplotlib.pyplot as plt\n",
    "plt.xlabel(\"We predicted\")\n",
    "plt.ylabel(\"The customer was actually...\")\n",
    "plt.xticks([0.5,1.5,2.5],[\"happy\", \"neutral\", \"sad\"])\n",
    "plt.yticks([0.5,1.5,2.5],[\"happy\", \"neutral\", \"sad\"])"
   ]
  },
  {
   "cell_type": "code",
   "execution_count": 92,
   "metadata": {},
   "outputs": [
    {
     "name": "stdout",
     "output_type": "stream",
     "text": [
      "              precision    recall  f1-score   support\n",
      "\n",
      "       happy       0.82      0.94      0.88      1697\n",
      "     neutral       0.48      0.24      0.32       380\n",
      "         sad       0.75      0.65      0.70       423\n",
      "\n",
      "    accuracy                           0.79      2500\n",
      "   macro avg       0.68      0.61      0.63      2500\n",
      "weighted avg       0.76      0.79      0.76      2500\n",
      "\n"
     ]
    }
   ],
   "source": [
    "print(sklearn.metrics.classification_report(Ytest, predictions))"
   ]
  },
  {
   "cell_type": "code",
   "execution_count": 73,
   "metadata": {},
   "outputs": [
    {
     "data": {
      "text/plain": [
       "0.7852"
      ]
     },
     "execution_count": 73,
     "metadata": {},
     "output_type": "execute_result"
    }
   ],
   "source": [
    "sklearn.metrics.accuracy_score(Ytest, predictions)"
   ]
  },
  {
   "cell_type": "code",
   "execution_count": 75,
   "metadata": {},
   "outputs": [
    {
     "data": {
      "text/plain": [
       "0.7579579784063801"
      ]
     },
     "execution_count": 75,
     "metadata": {},
     "output_type": "execute_result"
    }
   ],
   "source": [
    "sklearn.metrics.precision_score(Ytest, predictions, average='weighted')"
   ]
  },
  {
   "cell_type": "code",
   "execution_count": 76,
   "metadata": {},
   "outputs": [
    {
     "data": {
      "text/plain": [
       "0.7852"
      ]
     },
     "execution_count": 76,
     "metadata": {},
     "output_type": "execute_result"
    }
   ],
   "source": [
    "sklearn.metrics.recall_score(Ytest, predictions, average='weighted')"
   ]
  },
  {
   "cell_type": "code",
   "execution_count": 77,
   "metadata": {},
   "outputs": [
    {
     "data": {
      "text/plain": [
       "0.7621195196364816"
      ]
     },
     "execution_count": 77,
     "metadata": {},
     "output_type": "execute_result"
    }
   ],
   "source": [
    "sklearn.metrics.f1_score(Ytest, predictions, average='weighted')"
   ]
  },
  {
   "cell_type": "code",
   "execution_count": 78,
   "metadata": {},
   "outputs": [
    {
     "data": {
      "text/plain": [
       "array([[0.75696614, 0.21762062, 0.02541323],\n",
       "       [0.94726608, 0.03950975, 0.01322417],\n",
       "       [0.71989965, 0.20040839, 0.07969196],\n",
       "       ...,\n",
       "       [0.65669623, 0.25166117, 0.0916426 ],\n",
       "       [0.03998995, 0.01371128, 0.94629877],\n",
       "       [0.90494903, 0.08536901, 0.00968195]])"
      ]
     },
     "execution_count": 78,
     "metadata": {},
     "output_type": "execute_result"
    }
   ],
   "source": [
    "prediction_proba = lr.predict_proba(vecTest)\n",
    "prediction_proba"
   ]
  },
  {
   "cell_type": "code",
   "execution_count": 79,
   "metadata": {},
   "outputs": [
    {
     "data": {
      "text/plain": [
       "review_id\n",
       "WeNhaODwNX1qmMXp5Y2bMg    I've got to admit, fishing at the Water Ranch ...\n",
       "fdvuKm4JIKrcn5nWxqpX1A    Great all natural selection, if you are lookin...\n",
       "v5mmm3T1XILyR0txwDVVJg    A nice place to go to catch the blockbuster mo...\n",
       "Name: text, dtype: object"
      ]
     },
     "execution_count": 79,
     "metadata": {},
     "output_type": "execute_result"
    }
   ],
   "source": [
    "Xtest.head(3)"
   ]
  },
  {
   "cell_type": "code",
   "execution_count": 80,
   "metadata": {},
   "outputs": [
    {
     "ename": "ValueError",
     "evalue": "bad input shape (2500, 3)",
     "output_type": "error",
     "traceback": [
      "\u001b[1;31m---------------------------------------------------------------------------\u001b[0m",
      "\u001b[1;31mValueError\u001b[0m                                Traceback (most recent call last)",
      "\u001b[1;32m<ipython-input-80-c809f28b99a0>\u001b[0m in \u001b[0;36m<module>\u001b[1;34m\u001b[0m\n\u001b[1;32m----> 1\u001b[1;33m \u001b[0msklearn\u001b[0m\u001b[1;33m.\u001b[0m\u001b[0mmetrics\u001b[0m\u001b[1;33m.\u001b[0m\u001b[0mauc\u001b[0m\u001b[1;33m(\u001b[0m\u001b[0mYtest\u001b[0m\u001b[1;33m,\u001b[0m \u001b[0mprediction_proba\u001b[0m\u001b[1;33m)\u001b[0m\u001b[1;33m\u001b[0m\u001b[1;33m\u001b[0m\u001b[0m\n\u001b[0m",
      "\u001b[1;32m~\\AppData\\Local\\Continuum\\anaconda3\\lib\\site-packages\\sklearn\\metrics\\ranking.py\u001b[0m in \u001b[0;36mauc\u001b[1;34m(x, y, reorder)\u001b[0m\n\u001b[0;32m     90\u001b[0m     \u001b[0mcheck_consistent_length\u001b[0m\u001b[1;33m(\u001b[0m\u001b[0mx\u001b[0m\u001b[1;33m,\u001b[0m \u001b[0my\u001b[0m\u001b[1;33m)\u001b[0m\u001b[1;33m\u001b[0m\u001b[1;33m\u001b[0m\u001b[0m\n\u001b[0;32m     91\u001b[0m     \u001b[0mx\u001b[0m \u001b[1;33m=\u001b[0m \u001b[0mcolumn_or_1d\u001b[0m\u001b[1;33m(\u001b[0m\u001b[0mx\u001b[0m\u001b[1;33m)\u001b[0m\u001b[1;33m\u001b[0m\u001b[1;33m\u001b[0m\u001b[0m\n\u001b[1;32m---> 92\u001b[1;33m     \u001b[0my\u001b[0m \u001b[1;33m=\u001b[0m \u001b[0mcolumn_or_1d\u001b[0m\u001b[1;33m(\u001b[0m\u001b[0my\u001b[0m\u001b[1;33m)\u001b[0m\u001b[1;33m\u001b[0m\u001b[1;33m\u001b[0m\u001b[0m\n\u001b[0m\u001b[0;32m     93\u001b[0m \u001b[1;33m\u001b[0m\u001b[0m\n\u001b[0;32m     94\u001b[0m     \u001b[1;32mif\u001b[0m \u001b[0mx\u001b[0m\u001b[1;33m.\u001b[0m\u001b[0mshape\u001b[0m\u001b[1;33m[\u001b[0m\u001b[1;36m0\u001b[0m\u001b[1;33m]\u001b[0m \u001b[1;33m<\u001b[0m \u001b[1;36m2\u001b[0m\u001b[1;33m:\u001b[0m\u001b[1;33m\u001b[0m\u001b[1;33m\u001b[0m\u001b[0m\n",
      "\u001b[1;32m~\\AppData\\Local\\Continuum\\anaconda3\\lib\\site-packages\\sklearn\\utils\\validation.py\u001b[0m in \u001b[0;36mcolumn_or_1d\u001b[1;34m(y, warn)\u001b[0m\n\u001b[0;32m    758\u001b[0m         \u001b[1;32mreturn\u001b[0m \u001b[0mnp\u001b[0m\u001b[1;33m.\u001b[0m\u001b[0mravel\u001b[0m\u001b[1;33m(\u001b[0m\u001b[0my\u001b[0m\u001b[1;33m)\u001b[0m\u001b[1;33m\u001b[0m\u001b[1;33m\u001b[0m\u001b[0m\n\u001b[0;32m    759\u001b[0m \u001b[1;33m\u001b[0m\u001b[0m\n\u001b[1;32m--> 760\u001b[1;33m     \u001b[1;32mraise\u001b[0m \u001b[0mValueError\u001b[0m\u001b[1;33m(\u001b[0m\u001b[1;34m\"bad input shape {0}\"\u001b[0m\u001b[1;33m.\u001b[0m\u001b[0mformat\u001b[0m\u001b[1;33m(\u001b[0m\u001b[0mshape\u001b[0m\u001b[1;33m)\u001b[0m\u001b[1;33m)\u001b[0m\u001b[1;33m\u001b[0m\u001b[1;33m\u001b[0m\u001b[0m\n\u001b[0m\u001b[0;32m    761\u001b[0m \u001b[1;33m\u001b[0m\u001b[0m\n\u001b[0;32m    762\u001b[0m \u001b[1;33m\u001b[0m\u001b[0m\n",
      "\u001b[1;31mValueError\u001b[0m: bad input shape (2500, 3)"
     ]
    }
   ],
   "source": [
    "sklearn.metrics.auc(Ytest, prediction_proba)"
   ]
  },
  {
   "cell_type": "markdown",
   "metadata": {},
   "source": [
    "### What do the coefficients of the model mean?"
   ]
  },
  {
   "cell_type": "code",
   "execution_count": 94,
   "metadata": {},
   "outputs": [
    {
     "data": {
      "text/plain": [
       "LogisticRegressionCV(Cs=10, class_weight=None, cv=5, dual=False,\n",
       "                     fit_intercept=True, intercept_scaling=1.0, l1_ratios=None,\n",
       "                     max_iter=1000, multi_class='auto', n_jobs=None,\n",
       "                     penalty='l2', random_state=None, refit=True, scoring=None,\n",
       "                     solver='lbfgs', tol=0.0001, verbose=0)"
      ]
     },
     "execution_count": 94,
     "metadata": {},
     "output_type": "execute_result"
    }
   ],
   "source": [
    "lr"
   ]
  },
  {
   "cell_type": "code",
   "execution_count": 96,
   "metadata": {},
   "outputs": [
    {
     "data": {
      "text/plain": [
       "(3, 10216)"
      ]
     },
     "execution_count": 96,
     "metadata": {},
     "output_type": "execute_result"
    }
   ],
   "source": [
    "lr.coef_.shape"
   ]
  },
  {
   "cell_type": "code",
   "execution_count": 98,
   "metadata": {},
   "outputs": [
    {
     "data": {
      "text/plain": [
       "10216"
      ]
     },
     "execution_count": 98,
     "metadata": {},
     "output_type": "execute_result"
    }
   ],
   "source": [
    "len(count_vectorizer.get_feature_names())"
   ]
  },
  {
   "cell_type": "code",
   "execution_count": 99,
   "metadata": {},
   "outputs": [
    {
     "data": {
      "text/plain": [
       "delicious     0.602230\n",
       "amazing       0.569015\n",
       "best          0.467168\n",
       "excellent     0.466536\n",
       "great         0.444274\n",
       "awesome       0.442240\n",
       "fantastic     0.439503\n",
       "love          0.433888\n",
       "recommend     0.413743\n",
       "perfect       0.403618\n",
       "fresh         0.354893\n",
       "favorite      0.342294\n",
       "definitely    0.313583\n",
       "highly        0.306969\n",
       "yummy         0.301409\n",
       "man           0.296871\n",
       "perfectly     0.292773\n",
       "loved         0.281307\n",
       "friendly      0.261716\n",
       "mouth         0.257870\n",
       "valley        0.250707\n",
       "wonderful     0.245004\n",
       "happy         0.232986\n",
       "tasty         0.227626\n",
       "super         0.226272\n",
       "packed        0.221455\n",
       "good          0.216034\n",
       "perfection    0.209262\n",
       "crispy        0.208714\n",
       "crazy         0.208223\n",
       "                ...   \n",
       "waitress     -0.232964\n",
       "terrible     -0.234682\n",
       "somewhere    -0.235894\n",
       "floor        -0.237171\n",
       "mess         -0.240482\n",
       "rather       -0.244025\n",
       "sorry        -0.250956\n",
       "maybe        -0.251130\n",
       "tasted       -0.254607\n",
       "rude         -0.261098\n",
       "chinese      -0.264360\n",
       "awful        -0.267726\n",
       "worst        -0.271451\n",
       "elsewhere    -0.272264\n",
       "not          -0.273479\n",
       "bad          -0.283873\n",
       "lacking      -0.287419\n",
       "seem         -0.300460\n",
       "wouldn       -0.308971\n",
       "horrible     -0.313341\n",
       "mediocre     -0.329894\n",
       "dry          -0.332351\n",
       "slow         -0.337985\n",
       "wasn         -0.361447\n",
       "bland        -0.371373\n",
       "however      -0.382977\n",
       "average      -0.405091\n",
       "okay         -0.407676\n",
       "nothing      -0.416536\n",
       "overpriced   -0.549119\n",
       "Length: 10216, dtype: float64"
      ]
     },
     "execution_count": 99,
     "metadata": {},
     "output_type": "execute_result"
    }
   ],
   "source": [
    "happy_words = pd.Series(index=count_vectorizer.get_feature_names(), data=lr.coef_[0])\n",
    "happy_words.sort_values(ascending=False)"
   ]
  },
  {
   "cell_type": "code",
   "execution_count": 100,
   "metadata": {},
   "outputs": [
    {
     "data": {
      "text/plain": [
       "array(['happy'], dtype=object)"
      ]
     },
     "execution_count": 100,
     "metadata": {},
     "output_type": "execute_result"
    }
   ],
   "source": [
    "lr.predict(count_vectorizer.transform([\"delicious and amazing\"]))"
   ]
  },
  {
   "cell_type": "code",
   "execution_count": 101,
   "metadata": {},
   "outputs": [
    {
     "data": {
      "text/plain": [
       "overpriced       0.492693\n",
       "bland            0.449561\n",
       "worst            0.434358\n",
       "horrible         0.376751\n",
       "poor             0.337425\n",
       "tasted           0.319863\n",
       "gross            0.303760\n",
       "dry              0.298081\n",
       "wasn             0.289324\n",
       "elsewhere        0.282000\n",
       "terrible         0.274079\n",
       "sucks            0.268210\n",
       "awful            0.266458\n",
       "mediocre         0.259161\n",
       "money            0.255960\n",
       "bad              0.243696\n",
       "business         0.241747\n",
       "rude             0.239357\n",
       "disappointed     0.237318\n",
       "disappointing    0.230934\n",
       "crowd            0.228090\n",
       "not              0.220050\n",
       "nothing          0.215303\n",
       "mistake          0.214829\n",
       "sick             0.207418\n",
       "meat             0.206551\n",
       "won              0.205912\n",
       "based            0.203756\n",
       "wouldn           0.203350\n",
       "excited          0.203189\n",
       "                   ...   \n",
       "huge            -0.208411\n",
       "wonderful       -0.212137\n",
       "fun             -0.213429\n",
       "visit           -0.213975\n",
       "noodles         -0.214027\n",
       "decent          -0.217285\n",
       "super           -0.217756\n",
       "choice          -0.219478\n",
       "bit             -0.221285\n",
       "mouth           -0.222545\n",
       "sure            -0.267008\n",
       "good            -0.268897\n",
       "clean           -0.272313\n",
       "liked           -0.277631\n",
       "tasty           -0.280198\n",
       "little          -0.286295\n",
       "perfect         -0.291762\n",
       "definitely      -0.299543\n",
       "loved           -0.305835\n",
       "favorite        -0.321540\n",
       "awesome         -0.325410\n",
       "fresh           -0.330965\n",
       "delicious       -0.334785\n",
       "friendly        -0.339288\n",
       "best            -0.354735\n",
       "fantastic       -0.357975\n",
       "amazing         -0.396256\n",
       "great           -0.440327\n",
       "love            -0.458158\n",
       "excellent       -0.463602\n",
       "Length: 10216, dtype: float64"
      ]
     },
     "execution_count": 101,
     "metadata": {},
     "output_type": "execute_result"
    }
   ],
   "source": [
    "sad_words = pd.Series(index=count_vectorizer.get_feature_names(), data=lr.coef_[2])\n",
    "sad_words.sort_values(ascending=False)"
   ]
  },
  {
   "cell_type": "code",
   "execution_count": 102,
   "metadata": {},
   "outputs": [
    {
     "data": {
      "text/plain": [
       "however        0.384116\n",
       "decent         0.359799\n",
       "solid          0.315117\n",
       "though         0.288480\n",
       "stars          0.271338\n",
       "alright        0.261854\n",
       "average        0.249794\n",
       "airport        0.235694\n",
       "choice         0.230442\n",
       "okay           0.220981\n",
       "taste          0.208745\n",
       "salads         0.203607\n",
       "nothing        0.201232\n",
       "burrito        0.198989\n",
       "bathrooms      0.197349\n",
       "visit          0.195049\n",
       "bbq            0.182428\n",
       "restaurants    0.182400\n",
       "desert         0.181542\n",
       "flavors        0.181282\n",
       "afternoon      0.181177\n",
       "movie          0.180528\n",
       "lacked         0.180204\n",
       "patio          0.179333\n",
       "usually        0.178217\n",
       "but            0.177241\n",
       "walk           0.176923\n",
       "view           0.176619\n",
       "write          0.173944\n",
       "craving        0.172763\n",
       "                 ...   \n",
       "remember      -0.160538\n",
       "excited       -0.160695\n",
       "surprised     -0.162740\n",
       "worst         -0.162907\n",
       "priced        -0.163154\n",
       "stands        -0.164735\n",
       "business      -0.165283\n",
       "gross         -0.166457\n",
       "amazing       -0.172759\n",
       "let           -0.173494\n",
       "tried         -0.173762\n",
       "normally      -0.174278\n",
       "recommended   -0.175359\n",
       "home          -0.177994\n",
       "did           -0.179495\n",
       "packed        -0.192685\n",
       "curry         -0.193231\n",
       "off           -0.193305\n",
       "even          -0.196015\n",
       "cafe          -0.198863\n",
       "these         -0.202168\n",
       "seen          -0.205955\n",
       "yummy         -0.209439\n",
       "thanks        -0.211195\n",
       "man           -0.220595\n",
       "quality       -0.222607\n",
       "reviews       -0.223767\n",
       "worth         -0.232233\n",
       "recommend     -0.262079\n",
       "delicious     -0.267445\n",
       "Length: 10216, dtype: float64"
      ]
     },
     "execution_count": 102,
     "metadata": {},
     "output_type": "execute_result"
    }
   ],
   "source": [
    "neutral_words = pd.Series(index=count_vectorizer.get_feature_names(), data=lr.coef_[1])\n",
    "neutral_words.sort_values(ascending=False)"
   ]
  },
  {
   "cell_type": "code",
   "execution_count": 104,
   "metadata": {},
   "outputs": [
    {
     "data": {
      "text/plain": [
       "<matplotlib.axes._subplots.AxesSubplot at 0x2508242ea90>"
      ]
     },
     "execution_count": 104,
     "metadata": {},
     "output_type": "execute_result"
    },
    {
     "data": {
      "image/png": "[encoded data removed]",
      "text/plain": [
       "<Figure size 432x288 with 1 Axes>"
      ]
     },
     "metadata": {
      "needs_background": "light"
     },
     "output_type": "display_data"
    }
   ],
   "source": [
    "yelp[yelp.text.str.lower().str.contains('airport')].stars.plot.hist()"
   ]
  },
  {
   "cell_type": "code",
   "execution_count": 105,
   "metadata": {},
   "outputs": [
    {
     "data": {
      "text/plain": [
       "aaron             0.008315\n",
       "abode            -0.006140\n",
       "absence           0.008226\n",
       "absurd            0.006072\n",
       "accented         -0.004862\n",
       "acceptable       -0.000342\n",
       "accepted          0.000714\n",
       "accepting        -0.009052\n",
       "accessories      -0.008420\n",
       "accident          0.006509\n",
       "accolades         0.006865\n",
       "accommodate       0.005950\n",
       "accommodation    -0.003165\n",
       "accommodations   -0.005316\n",
       "accomodate        0.000325\n",
       "accomodating      0.003375\n",
       "accompany         0.002749\n",
       "accomplish       -0.008923\n",
       "accomplishment   -0.002624\n",
       "according        -0.002554\n",
       "accross           0.007689\n",
       "acidic            0.008782\n",
       "acknowledging    -0.003545\n",
       "acoustic         -0.004884\n",
       "acquired         -0.009575\n",
       "acting           -0.007352\n",
       "adams             0.003236\n",
       "added            -0.009853\n",
       "additions         0.005932\n",
       "addressed         0.002424\n",
       "                    ...   \n",
       "wooden            0.001094\n",
       "worn             -0.001251\n",
       "worrying          0.001493\n",
       "wouldve           0.008979\n",
       "wowza            -0.003401\n",
       "wrap             -0.000752\n",
       "wreck             0.005967\n",
       "wtih              0.003272\n",
       "www               0.000448\n",
       "yard             -0.009988\n",
       "yds              -0.004205\n",
       "yearning          0.005139\n",
       "yelled           -0.006570\n",
       "yelped            0.003646\n",
       "yelping          -0.001737\n",
       "yogi              0.001903\n",
       "yours             0.006421\n",
       "yrs               0.003927\n",
       "yukon            -0.007270\n",
       "zen              -0.009837\n",
       "zest              0.008810\n",
       "zesty             0.004169\n",
       "zillion           0.001170\n",
       "zinc             -0.006893\n",
       "zinfandel        -0.003935\n",
       "zipps            -0.006089\n",
       "ziti              0.001765\n",
       "zoyo              0.008490\n",
       "zuchinni          0.004231\n",
       "zumba            -0.008593\n",
       "Length: 2901, dtype: float64"
      ]
     },
     "execution_count": 105,
     "metadata": {},
     "output_type": "execute_result"
    }
   ],
   "source": [
    "happy_words[happy_words.abs() < 0.01]"
   ]
  },
  {
   "cell_type": "code",
   "execution_count": 106,
   "metadata": {},
   "outputs": [
    {
     "data": {
      "text/plain": [
       "array([[0.75696614, 0.21762062, 0.02541323],\n",
       "       [0.94726608, 0.03950975, 0.01322417],\n",
       "       [0.71989965, 0.20040839, 0.07969196],\n",
       "       ...,\n",
       "       [0.65669623, 0.25166117, 0.0916426 ],\n",
       "       [0.03998995, 0.01371128, 0.94629877],\n",
       "       [0.90494903, 0.08536901, 0.00968195]])"
      ]
     },
     "execution_count": 106,
     "metadata": {},
     "output_type": "execute_result"
    }
   ],
   "source": [
    "prediction_proba"
   ]
  },
  {
   "cell_type": "markdown",
   "metadata": {},
   "source": [
    "Let's take a look next at other ways of preprocessing text!\n",
    "\n",
    "- **Objective:** Demonstrate common text preprocessing techniques.\n",
    "\n",
    "<a id='ngrams'></a>\n",
    "### N-Grams"
   ]
  },
  {
   "cell_type": "markdown",
   "metadata": {},
   "source": [
    "N-grams are features which consist of N consecutive words. This is useful because using the bag-of-words model, treating `data scientist` as a single feature has more meaning than having two independent features `data` and `scientist`!\n",
    "\n",
    "Example:\n",
    "```\n",
    "my cat is awesome\n",
    "Unigrams (1-grams): 'my', 'cat', 'is', 'awesome'\n",
    "Bigrams (2-grams): 'my cat', 'cat is', 'is awesome'\n",
    "Trigrams (3-grams): 'my cat is', 'cat is awesome'\n",
    "4-grams: 'my cat is awesome'\n",
    "```\n",
    "\n",
    "- **ngram_range:** tuple (min_n, max_n)\n",
    "- The lower and upper boundary of the range of n-values for different n-grams to be extracted. All values of n such that min_n <= n <= max_n will be used."
   ]
  },
  {
   "cell_type": "code",
   "execution_count": 107,
   "metadata": {},
   "outputs": [
    {
     "data": {
      "text/plain": [
       "not    0.22005\n",
       "dtype: float64"
      ]
     },
     "execution_count": 107,
     "metadata": {},
     "output_type": "execute_result"
    }
   ],
   "source": [
    "sad_words[sad_words.index == 'not']"
   ]
  },
  {
   "cell_type": "code",
   "execution_count": 108,
   "metadata": {},
   "outputs": [
    {
     "data": {
      "text/plain": [
       "not   -0.273479\n",
       "dtype: float64"
      ]
     },
     "execution_count": 108,
     "metadata": {},
     "output_type": "execute_result"
    }
   ],
   "source": [
    "happy_words[happy_words.index == 'not']"
   ]
  },
  {
   "cell_type": "code",
   "execution_count": 116,
   "metadata": {},
   "outputs": [],
   "source": [
    "ngram_vectorizer = sklearn.feature_extraction.text.CountVectorizer(min_df=2, \n",
    "                                                                   ngram_range=(2,3),\n",
    "                                                                   token_pattern='(?u)\\\\b[a-z]{2,}\\\\b')\n",
    "ngramTrainVecs = ngram_vectorizer.fit_transform(Xtrain)"
   ]
  },
  {
   "cell_type": "code",
   "execution_count": 117,
   "metadata": {},
   "outputs": [
    {
     "data": {
      "text/plain": [
       "(7500, 154450)"
      ]
     },
     "execution_count": 117,
     "metadata": {},
     "output_type": "execute_result"
    }
   ],
   "source": [
    "ngramTrainVecs.shape"
   ]
  },
  {
   "cell_type": "code",
   "execution_count": 118,
   "metadata": {},
   "outputs": [
    {
     "data": {
      "text/plain": [
       "['abandoned it',\n",
       " 'ability to',\n",
       " 'ability to read',\n",
       " 'able to',\n",
       " 'able to accommodate',\n",
       " 'able to bring',\n",
       " 'able to clear',\n",
       " 'able to continue',\n",
       " 'able to do',\n",
       " 'able to eat',\n",
       " 'able to enjoy',\n",
       " 'able to find',\n",
       " 'able to finish',\n",
       " 'able to fit',\n",
       " 'able to get',\n",
       " 'able to give',\n",
       " 'able to go',\n",
       " 'able to grab',\n",
       " 'able to handle',\n",
       " 'able to have',\n",
       " 'able to hear',\n",
       " 'able to help',\n",
       " 'able to keep',\n",
       " 'able to make',\n",
       " 'able to order',\n",
       " 'able to purchase',\n",
       " 'able to read',\n",
       " 'able to say',\n",
       " 'able to seat',\n",
       " 'able to see',\n",
       " 'able to sit',\n",
       " 'able to speak',\n",
       " 'able to stay',\n",
       " 'able to stomach',\n",
       " 'able to take',\n",
       " 'able to taste',\n",
       " 'able to tell',\n",
       " 'able to try',\n",
       " 'able to update',\n",
       " 'able to visit',\n",
       " 'able to walk',\n",
       " 'able to watch',\n",
       " 'about all',\n",
       " 'about all can',\n",
       " 'about all of',\n",
       " 'about all the',\n",
       " 'about all there',\n",
       " 'about am',\n",
       " 'about an',\n",
       " 'about an hour',\n",
       " 'about an ice',\n",
       " 'about and',\n",
       " 'about and it',\n",
       " 'about and the',\n",
       " 'about and we',\n",
       " 'about another',\n",
       " 'about any',\n",
       " 'about any dish',\n",
       " 'about any of',\n",
       " 'about anything',\n",
       " 'about anywhere',\n",
       " 'about as',\n",
       " 'about as good',\n",
       " 'about at',\n",
       " 'about average',\n",
       " 'about because',\n",
       " 'about beer',\n",
       " 'about before',\n",
       " 'about being',\n",
       " 'about being the',\n",
       " 'about bites',\n",
       " 'about block',\n",
       " 'about boba',\n",
       " 'about bringing',\n",
       " 'about bucks',\n",
       " 'about business',\n",
       " 'about business and',\n",
       " 'about but',\n",
       " 'about but ended',\n",
       " 'about but it',\n",
       " 'about certain',\n",
       " 'about char',\n",
       " 'about coming',\n",
       " 'about cup',\n",
       " 'about customer',\n",
       " 'about customer service',\n",
       " 'about customers',\n",
       " 'about decent',\n",
       " 'about degrees',\n",
       " 'about delux',\n",
       " 'about different',\n",
       " 'about don',\n",
       " 'about double',\n",
       " 'about dozen',\n",
       " 'about dozen times',\n",
       " 'about drinking',\n",
       " 'about each',\n",
       " 'about each and',\n",
       " 'about eating',\n",
       " 'about especially',\n",
       " 'about every',\n",
       " 'about every other',\n",
       " 'about every single',\n",
       " 'about everyone',\n",
       " 'about everything',\n",
       " 'about fashion',\n",
       " 'about fast',\n",
       " 'about few',\n",
       " 'about first',\n",
       " 'about five',\n",
       " 'about five minutes',\n",
       " 'about food',\n",
       " 'about for',\n",
       " 'about for dinner',\n",
       " 'about four',\n",
       " 'about free',\n",
       " 'about fried',\n",
       " 'about from',\n",
       " 'about from the',\n",
       " 'about full',\n",
       " 'about getting',\n",
       " 'about going',\n",
       " 'about going back',\n",
       " 'about good',\n",
       " 'about great',\n",
       " 'about green',\n",
       " 'about green is',\n",
       " 'about half',\n",
       " 'about half full',\n",
       " 'about half of',\n",
       " 'about half the',\n",
       " 'about halfway',\n",
       " 'about hanging',\n",
       " 'about having',\n",
       " 'about having to',\n",
       " 'about her',\n",
       " 'about her customers',\n",
       " 'about here',\n",
       " 'about him',\n",
       " 'about his',\n",
       " 'about his customers',\n",
       " 'about hour',\n",
       " 'about hours',\n",
       " 'about how',\n",
       " 'about how amazing',\n",
       " 'about how bad',\n",
       " 'about how good',\n",
       " 'about how great',\n",
       " 'about how he',\n",
       " 'about how much',\n",
       " 'about how the',\n",
       " 'about however',\n",
       " 'about if',\n",
       " 'about in',\n",
       " 'about in my',\n",
       " 'about in the',\n",
       " 'about indian',\n",
       " 'about indian food',\n",
       " 'about individual',\n",
       " 'about is',\n",
       " 'about it',\n",
       " 'about it and',\n",
       " 'about it as',\n",
       " 'about it at',\n",
       " 'about it because',\n",
       " 'about it before',\n",
       " 'about it being',\n",
       " 'about it but',\n",
       " 'about it can',\n",
       " 'about it every',\n",
       " 'about it from',\n",
       " 'about it got',\n",
       " 'about it he',\n",
       " 'about it if',\n",
       " 'about it is',\n",
       " 'about it it',\n",
       " 'about it love',\n",
       " 'about it now',\n",
       " 'about it on',\n",
       " 'about it pretty',\n",
       " 'about it since',\n",
       " 'about it so',\n",
       " 'about it that',\n",
       " 'about it the',\n",
       " 'about it their',\n",
       " 'about it to',\n",
       " 'about it too',\n",
       " 'about it was',\n",
       " 'about it we',\n",
       " 'about items',\n",
       " 'about its',\n",
       " 'about just',\n",
       " 'about keeping',\n",
       " 'about keeping the',\n",
       " 'about last',\n",
       " 'about last night',\n",
       " 'about less',\n",
       " 'about like',\n",
       " 'about lolo',\n",
       " 'about making',\n",
       " 'about me',\n",
       " 'about me would',\n",
       " 'about mile',\n",
       " 'about mile and',\n",
       " 'about mile from',\n",
       " 'about miles',\n",
       " 'about min',\n",
       " 'about min and',\n",
       " 'about mins',\n",
       " 'about mins to',\n",
       " 'about minute',\n",
       " 'about minute wait',\n",
       " 'about minutes',\n",
       " 'about minutes after',\n",
       " 'about minutes and',\n",
       " 'about minutes away',\n",
       " 'about minutes before',\n",
       " 'about minutes for',\n",
       " 'about minutes in',\n",
       " 'about minutes later',\n",
       " 'about minutes of',\n",
       " 'about minutes our',\n",
       " 'about minutes the',\n",
       " 'about minutes there',\n",
       " 'about minutes to',\n",
       " 'about minutes we',\n",
       " 'about month',\n",
       " 'about month ago',\n",
       " 'about months',\n",
       " 'about months ago',\n",
       " 'about months and',\n",
       " 'about more',\n",
       " 'about moving',\n",
       " 'about my',\n",
       " 'about no',\n",
       " 'about not',\n",
       " 'about of',\n",
       " 'about of the',\n",
       " 'about of them',\n",
       " 'about of us',\n",
       " 'about off',\n",
       " 'about on',\n",
       " 'about on par',\n",
       " 'about once',\n",
       " 'about once month',\n",
       " 'about once week',\n",
       " 'about one',\n",
       " 'about one hour',\n",
       " 'about one of',\n",
       " 'about only',\n",
       " 'about or',\n",
       " 'about or minutes',\n",
       " 'about or so',\n",
       " 'about ordering',\n",
       " 'about other',\n",
       " 'about our',\n",
       " 'about our experience',\n",
       " 'about our order',\n",
       " 'about parking',\n",
       " 'about pei',\n",
       " 'about pei wei',\n",
       " 'about people',\n",
       " 'about people ahead',\n",
       " 'about per',\n",
       " 'about per person',\n",
       " 'about person',\n",
       " 'about phoenix',\n",
       " 'about piece',\n",
       " 'about pizzeria',\n",
       " 'about pizzeria bianco',\n",
       " 'about place',\n",
       " 'about plate',\n",
       " 'about pm',\n",
       " 'about pm and',\n",
       " 'about pool',\n",
       " 'about pool tables',\n",
       " 'about press',\n",
       " 'about pricing',\n",
       " 'about providing',\n",
       " 'about really',\n",
       " 'about restaurant',\n",
       " 'about right',\n",
       " 'about right the',\n",
       " 'about rula',\n",
       " 'about running',\n",
       " 'about salad',\n",
       " 'about seconds',\n",
       " 'about service',\n",
       " 'about shit',\n",
       " 'about show',\n",
       " 'about six',\n",
       " 'about small',\n",
       " 'about so',\n",
       " 'about some',\n",
       " 'about some of',\n",
       " 'about something',\n",
       " 'about special',\n",
       " 'about specials',\n",
       " 'about sums',\n",
       " 'about tables',\n",
       " 'about tablespoon',\n",
       " 'about tablespoon of',\n",
       " 'about taking',\n",
       " 'about ten',\n",
       " 'about ten minutes',\n",
       " 'about that',\n",
       " 'about that and',\n",
       " 'about that but',\n",
       " 'about that so',\n",
       " 'about that the',\n",
       " 'about that they',\n",
       " 'about that when',\n",
       " 'about the',\n",
       " 'about the area',\n",
       " 'about the atmosphere',\n",
       " 'about the beers',\n",
       " 'about the best',\n",
       " 'about the big',\n",
       " 'about the cheese',\n",
       " 'about the chicken',\n",
       " 'about the cost',\n",
       " 'about the experience',\n",
       " 'about the fact',\n",
       " 'about the flavor',\n",
       " 'about the food',\n",
       " 'about the fried',\n",
       " 'about the fries',\n",
       " 'about the grind',\n",
       " 'about the kids',\n",
       " 'about the marquee',\n",
       " 'about the menu',\n",
       " 'about the money',\n",
       " 'about the most',\n",
       " 'about the new',\n",
       " 'about the noise',\n",
       " 'about the old',\n",
       " 'about the only',\n",
       " 'about the other',\n",
       " 'about the outside',\n",
       " 'about the owner',\n",
       " 'about the place',\n",
       " 'about the potatoes',\n",
       " 'about the price',\n",
       " 'about the prices',\n",
       " 'about the quality',\n",
       " 'about the restaurant',\n",
       " 'about the salad',\n",
       " 'about the same',\n",
       " 'about the sandwich',\n",
       " 'about the sauce',\n",
       " 'about the scottsdale',\n",
       " 'about the service',\n",
       " 'about the size',\n",
       " 'about the slow',\n",
       " 'about the smell',\n",
       " 'about the stadium',\n",
       " 'about the staff',\n",
       " 'about the star',\n",
       " 'about the store',\n",
       " 'about the sushi',\n",
       " 'about the time',\n",
       " 'about the venue',\n",
       " 'about the wait',\n",
       " 'about the whole',\n",
       " 'about the wine',\n",
       " 'about the worst',\n",
       " 'about their',\n",
       " 'about their customers',\n",
       " 'about their food',\n",
       " 'about their job',\n",
       " 'about their menu',\n",
       " 'about their patrons',\n",
       " 'about them',\n",
       " 'about them is',\n",
       " 'about them the',\n",
       " 'about them they',\n",
       " 'about there',\n",
       " 'about these',\n",
       " 'about they',\n",
       " 'about things',\n",
       " 'about things like',\n",
       " 'about this',\n",
       " 'about this but',\n",
       " 'about this company',\n",
       " 'about this is',\n",
       " 'about this little',\n",
       " 'about this one',\n",
       " 'about this place',\n",
       " 'about this restaurant',\n",
       " 'about this store',\n",
       " 'about this theater',\n",
       " 'about though',\n",
       " 'about three',\n",
       " 'about time',\n",
       " 'about time that',\n",
       " 'about time write',\n",
       " 'about time wrote',\n",
       " 'about times',\n",
       " 'about to',\n",
       " 'about to do',\n",
       " 'about to explode',\n",
       " 'about to give',\n",
       " 'about to jump',\n",
       " 'about to say',\n",
       " 'about trying',\n",
       " 'about trying something',\n",
       " 'about trying to',\n",
       " 'about twice',\n",
       " 'about twice month',\n",
       " 'about twice the',\n",
       " 'about two',\n",
       " 'about two hours',\n",
       " 'about two months',\n",
       " 'about two thirds',\n",
       " 'about two years',\n",
       " 'about us',\n",
       " 'about ve',\n",
       " 'about very',\n",
       " 'about vietnamese',\n",
       " 'about vietnamese food',\n",
       " 'about wanting',\n",
       " 'about was',\n",
       " 'about we',\n",
       " 'about we were',\n",
       " 'about week',\n",
       " 'about week ago',\n",
       " 'about week and',\n",
       " 'about weeks',\n",
       " 'about weeks ago',\n",
       " 'about well',\n",
       " 'about west',\n",
       " 'about what',\n",
       " 'about what happened',\n",
       " 'about what they',\n",
       " 'about what to',\n",
       " 'about what you',\n",
       " 'about when',\n",
       " 'about when we',\n",
       " 'about where',\n",
       " 'about whether',\n",
       " 'about which',\n",
       " 'about who',\n",
       " 'about why',\n",
       " 'about wine',\n",
       " 'about would',\n",
       " 'about writing',\n",
       " 'about writing this',\n",
       " 'about year',\n",
       " 'about year ago',\n",
       " 'about years',\n",
       " 'about years ago',\n",
       " 'about years now',\n",
       " 'about you',\n",
       " 'about you but',\n",
       " 'about your',\n",
       " 'about yourself',\n",
       " 'about yrs',\n",
       " 'above and',\n",
       " 'above and beyond',\n",
       " 'above and get',\n",
       " 'above average',\n",
       " 'above average and',\n",
       " 'above average the',\n",
       " 'above is',\n",
       " 'above it',\n",
       " 'above me',\n",
       " 'above my',\n",
       " 'above par',\n",
       " 'above plus',\n",
       " 'above the',\n",
       " 'above the bar',\n",
       " 'above you',\n",
       " 'above your',\n",
       " 'above your head',\n",
       " 'absence of',\n",
       " 'absolute best',\n",
       " 'absolute favorite',\n",
       " 'absolute perfect',\n",
       " 'absolute pleasure',\n",
       " 'absolute winner',\n",
       " 'absolute winner my',\n",
       " 'absolute worst',\n",
       " 'absolutely abysmal',\n",
       " 'absolutely adore',\n",
       " 'absolutely amazing',\n",
       " 'absolutely awesome',\n",
       " 'absolutely awful',\n",
       " 'absolutely be',\n",
       " 'absolutely be back',\n",
       " 'absolutely beautiful',\n",
       " 'absolutely delicious',\n",
       " 'absolutely delicious and',\n",
       " 'absolutely delicious by',\n",
       " 'absolutely delicious the',\n",
       " 'absolutely delish',\n",
       " 'absolutely disgusting',\n",
       " 'absolutely fantastic',\n",
       " 'absolutely go',\n",
       " 'absolutely go back',\n",
       " 'absolutely great',\n",
       " 'absolutely horrible',\n",
       " 'absolutely in',\n",
       " 'absolutely in love',\n",
       " 'absolutely love',\n",
       " 'absolutely love the',\n",
       " 'absolutely love their',\n",
       " 'absolutely love this',\n",
       " 'absolutely loved',\n",
       " 'absolutely loved the',\n",
       " 'absolutely loved them',\n",
       " 'absolutely loved this',\n",
       " 'absolutely made',\n",
       " 'absolutely made the',\n",
       " 'absolutely must',\n",
       " 'absolutely no',\n",
       " 'absolutely no flavor',\n",
       " 'absolutely no idea',\n",
       " 'absolutely no reason',\n",
       " 'absolutely not',\n",
       " 'absolutely nothing',\n",
       " 'absolutely perfect',\n",
       " 'absolutely recommend',\n",
       " 'absolutely recommend the',\n",
       " 'absolutely scrumptious',\n",
       " 'absolutely scrumptious my',\n",
       " 'absolutely stunning',\n",
       " 'absolutely sublime',\n",
       " 'absolutely the',\n",
       " 'absolutely the best',\n",
       " 'absolutely wonderful',\n",
       " 'absolutely worth',\n",
       " 'absolutely worth it',\n",
       " 'absorbed into',\n",
       " 'absorbed into the',\n",
       " 'absurd amount',\n",
       " 'absurd amount of',\n",
       " 'abundance of',\n",
       " 'ac and',\n",
       " 'ac was',\n",
       " 'accent the',\n",
       " 'accept amex',\n",
       " 'accept cash',\n",
       " 'accept credit',\n",
       " 'accept credit cards',\n",
       " 'accept it',\n",
       " 'accept the',\n",
       " 'acceptable but',\n",
       " 'acceptable the',\n",
       " 'acceptable to',\n",
       " 'accepted the',\n",
       " 'access the',\n",
       " 'access to',\n",
       " 'access to the',\n",
       " 'accessible for',\n",
       " 'accessible for people',\n",
       " 'accessible location',\n",
       " 'accessories and',\n",
       " 'accessories for',\n",
       " 'accessories the',\n",
       " 'accident on',\n",
       " 'accommodate large',\n",
       " 'accommodate large groups',\n",
       " 'accommodate lot',\n",
       " 'accommodate lot of',\n",
       " 'accommodate my',\n",
       " 'accommodate the',\n",
       " 'accommodate us',\n",
       " 'accommodated our',\n",
       " 'accommodating and',\n",
       " 'accommodating and it',\n",
       " 'accommodating and the',\n",
       " 'accommodating even',\n",
       " 'accommodating for',\n",
       " 'accommodating look',\n",
       " 'accommodating look forward',\n",
       " 'accommodating the',\n",
       " 'accommodating they',\n",
       " 'accommodations and',\n",
       " 'accommodations but',\n",
       " 'accomodate our',\n",
       " 'accomodating and',\n",
       " 'accomodating to',\n",
       " 'accompanied by',\n",
       " 'accompanied it',\n",
       " 'accompanied the',\n",
       " 'accompanied with',\n",
       " 'accompaniment to',\n",
       " 'accompaniment to the',\n",
       " 'accompany the',\n",
       " 'accompanying vegetables',\n",
       " 'accompanying vegetables were',\n",
       " 'according to',\n",
       " 'according to my',\n",
       " 'according to the',\n",
       " 'according to their',\n",
       " 'accordingly and',\n",
       " 'account and',\n",
       " 'account for',\n",
       " 'account my',\n",
       " 'account people',\n",
       " 'account the',\n",
       " 'accused us',\n",
       " 'accused us of',\n",
       " 'accustomed to',\n",
       " 'accustomed to the',\n",
       " 'acidic side',\n",
       " 'acknowledge me',\n",
       " 'acknowledge our',\n",
       " 'acknowledge our existence',\n",
       " 'acknowledge our presence',\n",
       " 'acknowledge the',\n",
       " 'acknowledge us',\n",
       " 'acknowledged that',\n",
       " 'acoustics are',\n",
       " 'acoustics are pretty',\n",
       " 'acoustics in',\n",
       " 'acoustics in this',\n",
       " 'acoustics of',\n",
       " 'acoustics of the',\n",
       " 'across as',\n",
       " 'across from',\n",
       " 'across from pizzeria',\n",
       " 'across from the',\n",
       " 'across from us',\n",
       " 'across the',\n",
       " 'across the board',\n",
       " 'across the country',\n",
       " 'across the nation',\n",
       " 'across the parking',\n",
       " 'across the road',\n",
       " 'across the street',\n",
       " 'across the table',\n",
       " 'across the way',\n",
       " 'across this',\n",
       " 'across this place',\n",
       " 'across town',\n",
       " 'across town for',\n",
       " 'act and',\n",
       " 'act like',\n",
       " 'act together',\n",
       " 'act together but',\n",
       " 'act you',\n",
       " 'acted like',\n",
       " 'acted like they',\n",
       " 'action if',\n",
       " 'action if you',\n",
       " 'action that',\n",
       " 'action the',\n",
       " 'active in',\n",
       " 'active in the',\n",
       " 'activities is',\n",
       " 'activity for',\n",
       " 'acts in',\n",
       " 'actual grocery',\n",
       " 'actual menu',\n",
       " 'actual restaurant',\n",
       " 'actually accused',\n",
       " 'actually accused us',\n",
       " 'actually an',\n",
       " 'actually as',\n",
       " 'actually asked',\n",
       " 'actually ate',\n",
       " 'actually be',\n",
       " 'actually been',\n",
       " 'actually been to',\n",
       " 'actually better',\n",
       " 'actually better than',\n",
       " 'actually bit',\n",
       " 'actually can',\n",
       " 'actually care',\n",
       " 'actually care about',\n",
       " 'actually clean',\n",
       " 'actually come',\n",
       " 'actually come to',\n",
       " 'actually didn',\n",
       " 'actually enjoy',\n",
       " 'actually enjoyed',\n",
       " 'actually enjoyed our',\n",
       " 'actually feel',\n",
       " 'actually felt',\n",
       " 'actually felt like',\n",
       " 'actually find',\n",
       " 'actually for',\n",
       " 'actually friendly',\n",
       " 'actually get',\n",
       " 'actually gets',\n",
       " 'actually give',\n",
       " 'actually give you',\n",
       " 'actually giving',\n",
       " 'actually go',\n",
       " 'actually going',\n",
       " 'actually going to',\n",
       " 'actually good',\n",
       " 'actually got',\n",
       " 'actually got into',\n",
       " 'actually had',\n",
       " 'actually had to',\n",
       " 'actually has',\n",
       " 'actually have',\n",
       " 'actually helped',\n",
       " 'actually it',\n",
       " 'actually it was',\n",
       " 'actually just',\n",
       " 'actually knew',\n",
       " 'actually knew what',\n",
       " 'actually know',\n",
       " 'actually knows',\n",
       " 'actually like',\n",
       " 'actually like it',\n",
       " 'actually like the',\n",
       " 'actually like this',\n",
       " 'actually little',\n",
       " 'actually looks',\n",
       " 'actually love',\n",
       " 'actually made',\n",
       " 'actually more',\n",
       " 'actually my',\n",
       " 'actually not',\n",
       " 'actually not too',\n",
       " 'actually on',\n",
       " 'actually only',\n",
       " 'actually open',\n",
       " 'actually order',\n",
       " 'actually played',\n",
       " 'actually potato',\n",
       " 'actually prefer',\n",
       " 'actually pretty',\n",
       " 'actually pretty good',\n",
       " 'actually quite',\n",
       " 'actually really',\n",
       " 'actually really good',\n",
       " 'actually really liked',\n",
       " 'actually review',\n",
       " 'actually saw',\n",
       " 'actually see',\n",
       " 'actually see the',\n",
       " 'actually seemed',\n",
       " 'actually seemed to',\n",
       " 'actually shocked',\n",
       " 'actually smiled',\n",
       " 'actually taken',\n",
       " 'actually taste',\n",
       " 'actually tasted',\n",
       " 'actually tastes',\n",
       " 'actually tastes like',\n",
       " 'actually that',\n",
       " 'actually the',\n",
       " 'actually the best',\n",
       " 'actually there',\n",
       " 'actually think',\n",
       " 'actually think the',\n",
       " 'actually thought',\n",
       " 'actually told',\n",
       " 'actually told me',\n",
       " 'actually understand',\n",
       " 'actually use',\n",
       " 'actually very',\n",
       " 'actually waited',\n",
       " 'actually walked',\n",
       " 'actually want',\n",
       " 'actually want to',\n",
       " 'actually was',\n",
       " 'actually watering',\n",
       " 'actually watering just',\n",
       " 'actually we',\n",
       " 'actually went',\n",
       " 'actually what',\n",
       " 'actually worked',\n",
       " 'ad in',\n",
       " 'adam richman',\n",
       " 'add an',\n",
       " 'add an egg',\n",
       " 'add another',\n",
       " 'add any',\n",
       " 'add any other',\n",
       " 'add anything',\n",
       " 'add bacon',\n",
       " 'add boba',\n",
       " 'add boba to',\n",
       " 'add chicken',\n",
       " 'add don',\n",
       " 'add in',\n",
       " 'add in the',\n",
       " 'add insult',\n",
       " 'add insult to',\n",
       " 'add is',\n",
       " 'add little',\n",
       " 'add lot',\n",
       " 'add more',\n",
       " 'add my',\n",
       " 'add on',\n",
       " 'add one',\n",
       " 'add shot',\n",
       " 'add shot to',\n",
       " 'add some',\n",
       " 'add some flavor',\n",
       " 'add some of',\n",
       " 'add some spice',\n",
       " 'add star',\n",
       " 'add that',\n",
       " 'add the',\n",
       " 'add this',\n",
       " 'add to',\n",
       " 'add to my',\n",
       " 'add to that',\n",
       " 'add to the',\n",
       " 'add to your',\n",
       " 'add up',\n",
       " 'add up to',\n",
       " 'added anything',\n",
       " 'added anything to',\n",
       " 'added bacon',\n",
       " 'added bonus',\n",
       " 'added bonus of',\n",
       " 'added for',\n",
       " 'added in',\n",
       " 'added new',\n",
       " 'added nice',\n",
       " 'added on',\n",
       " 'added so',\n",
       " 'added some',\n",
       " 'added that',\n",
       " 'added the',\n",
       " 'added the perfect',\n",
       " 'added to',\n",
       " 'added to it',\n",
       " 'added to my',\n",
       " 'added to the',\n",
       " 'addicted to',\n",
       " 'addicted to the',\n",
       " 'addicted to this',\n",
       " 'addicting and',\n",
       " 'addiction to',\n",
       " 'addictive the',\n",
       " 'adding it',\n",
       " 'adding it to',\n",
       " 'adding the',\n",
       " 'adding to',\n",
       " 'addition it',\n",
       " 'addition it has',\n",
       " 'addition of',\n",
       " 'addition the',\n",
       " 'addition they',\n",
       " 'addition they have',\n",
       " 'addition they make',\n",
       " 'addition to',\n",
       " 'addition to an',\n",
       " 'addition to mill',\n",
       " 'addition to that',\n",
       " 'addition to the',\n",
       " 'addition to their',\n",
       " 'additional charge',\n",
       " 'additional items',\n",
       " 'additional minutes',\n",
       " 'additional notes',\n",
       " 'additionally they',\n",
       " 'additionally they have',\n",
       " 'address and',\n",
       " 'address is',\n",
       " 'address the',\n",
       " 'address was',\n",
       " 'adds an',\n",
       " 'adds even',\n",
       " 'adds even more',\n",
       " 'adds to',\n",
       " 'adds to the',\n",
       " 'adds up',\n",
       " 'adequate but',\n",
       " 'adequate the',\n",
       " 'adjacent to',\n",
       " 'adjust the',\n",
       " 'admission was',\n",
       " 'admission was reasonable',\n",
       " 'admission you',\n",
       " 'admit it',\n",
       " 'admit love',\n",
       " 'admit my',\n",
       " 'admit not',\n",
       " 'admit that',\n",
       " 'admit that the',\n",
       " 'admit that they',\n",
       " 'admit that this',\n",
       " 'admit the',\n",
       " 'admit this',\n",
       " 'admit this place',\n",
       " 'admit though',\n",
       " 'admit to',\n",
       " 'adobo and',\n",
       " 'adobo pork',\n",
       " 'adorable and',\n",
       " 'adorable it',\n",
       " 'adorable little',\n",
       " 'adorable place',\n",
       " 'adore the',\n",
       " 'adore their',\n",
       " 'adore this',\n",
       " 'adore this place',\n",
       " 'adovada it',\n",
       " 'adult beverage',\n",
       " 'adult beverages',\n",
       " 'adults and',\n",
       " 'adults and kids',\n",
       " 'adults kids',\n",
       " 'advance for',\n",
       " 'advance it',\n",
       " 'advantage of',\n",
       " 'advantage of him',\n",
       " 'advantage of it',\n",
       " 'advantage of some',\n",
       " 'advantage of the',\n",
       " 'advantage of their',\n",
       " 'advantage of this',\n",
       " 'adventure and',\n",
       " 'adventure for',\n",
       " 'adventure to',\n",
       " 'adventurous and',\n",
       " 'advertise on',\n",
       " 'advice and',\n",
       " 'advice for',\n",
       " 'advice if',\n",
       " 'advice if you',\n",
       " 'advice is',\n",
       " 'advice is to',\n",
       " 'advice it',\n",
       " 'advice on',\n",
       " 'advice to',\n",
       " 'advice we',\n",
       " 'advice when',\n",
       " 'advise you',\n",
       " 'advised us',\n",
       " 'aerobics room',\n",
       " 'aesthetics of',\n",
       " 'affair with',\n",
       " 'affair you',\n",
       " 'affair you would',\n",
       " 'affect the',\n",
       " 'affected by',\n",
       " 'affliction shirts',\n",
       " 'afford it',\n",
       " 'afford it the',\n",
       " 'afford that',\n",
       " 'afford the',\n",
       " 'afford those',\n",
       " 'afford to',\n",
       " 'afford to get',\n",
       " 'affordable and',\n",
       " 'affordable for',\n",
       " 'affordable price',\n",
       " 'affordable prices',\n",
       " 'affordable the',\n",
       " 'affordable very',\n",
       " 'affordable when',\n",
       " 'affordable you',\n",
       " 'afraid it',\n",
       " 'afraid of',\n",
       " 'afraid that',\n",
       " 'afraid to',\n",
       " 'afraid to ask',\n",
       " 'afraid to go',\n",
       " 'afraid to try',\n",
       " 'after about',\n",
       " 'after about minutes',\n",
       " 'after all',\n",
       " 'after all but',\n",
       " 'after all our',\n",
       " 'after all that',\n",
       " 'after all the',\n",
       " 'after all this',\n",
       " 'after all was',\n",
       " 'after all we',\n",
       " 'after all what',\n",
       " 'after all you',\n",
       " 'after am',\n",
       " 'after an',\n",
       " 'after an hour',\n",
       " 'after and',\n",
       " 'after as',\n",
       " 'after asking',\n",
       " 'after being',\n",
       " 'after being ignored',\n",
       " 'after being seated',\n",
       " 'after being there',\n",
       " 'after being totally',\n",
       " 'after being turned',\n",
       " 'after breakfast',\n",
       " 'after browsing',\n",
       " 'after business',\n",
       " 'after buying',\n",
       " 'after chatting',\n",
       " 'after chatting with',\n",
       " 'after checking',\n",
       " 'after church',\n",
       " 'after class',\n",
       " 'after coming',\n",
       " 'after couple',\n",
       " 'after couple of',\n",
       " 'after coworker',\n",
       " 'after day',\n",
       " 'after dealing',\n",
       " 'after dealing with',\n",
       " ...]"
      ]
     },
     "execution_count": 118,
     "metadata": {},
     "output_type": "execute_result"
    }
   ],
   "source": [
    "ngram_vectorizer.get_feature_names()"
   ]
  },
  {
   "cell_type": "code",
   "execution_count": 122,
   "metadata": {},
   "outputs": [
    {
     "ename": "KeyboardInterrupt",
     "evalue": "",
     "output_type": "error",
     "traceback": [
      "\u001b[1;31m---------------------------------------------------------------------------\u001b[0m",
      "\u001b[1;31mKeyboardInterrupt\u001b[0m                         Traceback (most recent call last)",
      "\u001b[1;32m<ipython-input-122-2bb303a7e5ba>\u001b[0m in \u001b[0;36m<module>\u001b[1;34m\u001b[0m\n\u001b[0;32m      1\u001b[0m \u001b[0mngram_lr\u001b[0m \u001b[1;33m=\u001b[0m \u001b[0msklearn\u001b[0m\u001b[1;33m.\u001b[0m\u001b[0mlinear_model\u001b[0m\u001b[1;33m.\u001b[0m\u001b[0mLogisticRegressionCV\u001b[0m\u001b[1;33m(\u001b[0m\u001b[0mmulti_class\u001b[0m\u001b[1;33m=\u001b[0m\u001b[1;34m'auto'\u001b[0m\u001b[1;33m,\u001b[0m \u001b[0msolver\u001b[0m\u001b[1;33m=\u001b[0m\u001b[1;34m'lbfgs'\u001b[0m\u001b[1;33m,\u001b[0m \u001b[0mcv\u001b[0m\u001b[1;33m=\u001b[0m\u001b[1;36m5\u001b[0m\u001b[1;33m)\u001b[0m\u001b[1;33m\u001b[0m\u001b[1;33m\u001b[0m\u001b[0m\n\u001b[1;32m----> 2\u001b[1;33m \u001b[0mngram_lr\u001b[0m\u001b[1;33m.\u001b[0m\u001b[0mfit\u001b[0m\u001b[1;33m(\u001b[0m\u001b[0mngramTrainVecs\u001b[0m\u001b[1;33m,\u001b[0m \u001b[0mYtrain\u001b[0m\u001b[1;33m)\u001b[0m\u001b[1;33m\u001b[0m\u001b[1;33m\u001b[0m\u001b[0m\n\u001b[0m",
      "\u001b[1;32m~\\AppData\\Local\\Continuum\\anaconda3\\lib\\site-packages\\sklearn\\linear_model\\logistic.py\u001b[0m in \u001b[0;36mfit\u001b[1;34m(self, X, y, sample_weight)\u001b[0m\n\u001b[0;32m   2083\u001b[0m                       \u001b[0ml1_ratio\u001b[0m\u001b[1;33m=\u001b[0m\u001b[0ml1_ratio\u001b[0m\u001b[1;33m\u001b[0m\u001b[1;33m\u001b[0m\u001b[0m\n\u001b[0;32m   2084\u001b[0m                       )\n\u001b[1;32m-> 2085\u001b[1;33m             \u001b[1;32mfor\u001b[0m \u001b[0mlabel\u001b[0m \u001b[1;32min\u001b[0m \u001b[0miter_encoded_labels\u001b[0m\u001b[1;33m\u001b[0m\u001b[1;33m\u001b[0m\u001b[0m\n\u001b[0m\u001b[0;32m   2086\u001b[0m             \u001b[1;32mfor\u001b[0m \u001b[0mtrain\u001b[0m\u001b[1;33m,\u001b[0m \u001b[0mtest\u001b[0m \u001b[1;32min\u001b[0m \u001b[0mfolds\u001b[0m\u001b[1;33m\u001b[0m\u001b[1;33m\u001b[0m\u001b[0m\n\u001b[0;32m   2087\u001b[0m             for l1_ratio in l1_ratios_)\n",
      "\u001b[1;32m~\\AppData\\Local\\Continuum\\anaconda3\\lib\\site-packages\\joblib\\parallel.py\u001b[0m in \u001b[0;36m__call__\u001b[1;34m(self, iterable)\u001b[0m\n\u001b[0;32m    922\u001b[0m                 \u001b[0mself\u001b[0m\u001b[1;33m.\u001b[0m\u001b[0m_iterating\u001b[0m \u001b[1;33m=\u001b[0m \u001b[0mself\u001b[0m\u001b[1;33m.\u001b[0m\u001b[0m_original_iterator\u001b[0m \u001b[1;32mis\u001b[0m \u001b[1;32mnot\u001b[0m \u001b[1;32mNone\u001b[0m\u001b[1;33m\u001b[0m\u001b[1;33m\u001b[0m\u001b[0m\n\u001b[0;32m    923\u001b[0m \u001b[1;33m\u001b[0m\u001b[0m\n\u001b[1;32m--> 924\u001b[1;33m             \u001b[1;32mwhile\u001b[0m \u001b[0mself\u001b[0m\u001b[1;33m.\u001b[0m\u001b[0mdispatch_one_batch\u001b[0m\u001b[1;33m(\u001b[0m\u001b[0miterator\u001b[0m\u001b[1;33m)\u001b[0m\u001b[1;33m:\u001b[0m\u001b[1;33m\u001b[0m\u001b[1;33m\u001b[0m\u001b[0m\n\u001b[0m\u001b[0;32m    925\u001b[0m                 \u001b[1;32mpass\u001b[0m\u001b[1;33m\u001b[0m\u001b[1;33m\u001b[0m\u001b[0m\n\u001b[0;32m    926\u001b[0m \u001b[1;33m\u001b[0m\u001b[0m\n",
      "\u001b[1;32m~\\AppData\\Local\\Continuum\\anaconda3\\lib\\site-packages\\joblib\\parallel.py\u001b[0m in \u001b[0;36mdispatch_one_batch\u001b[1;34m(self, iterator)\u001b[0m\n\u001b[0;32m    757\u001b[0m                 \u001b[1;32mreturn\u001b[0m \u001b[1;32mFalse\u001b[0m\u001b[1;33m\u001b[0m\u001b[1;33m\u001b[0m\u001b[0m\n\u001b[0;32m    758\u001b[0m             \u001b[1;32melse\u001b[0m\u001b[1;33m:\u001b[0m\u001b[1;33m\u001b[0m\u001b[1;33m\u001b[0m\u001b[0m\n\u001b[1;32m--> 759\u001b[1;33m                 \u001b[0mself\u001b[0m\u001b[1;33m.\u001b[0m\u001b[0m_dispatch\u001b[0m\u001b[1;33m(\u001b[0m\u001b[0mtasks\u001b[0m\u001b[1;33m)\u001b[0m\u001b[1;33m\u001b[0m\u001b[1;33m\u001b[0m\u001b[0m\n\u001b[0m\u001b[0;32m    760\u001b[0m                 \u001b[1;32mreturn\u001b[0m \u001b[1;32mTrue\u001b[0m\u001b[1;33m\u001b[0m\u001b[1;33m\u001b[0m\u001b[0m\n\u001b[0;32m    761\u001b[0m \u001b[1;33m\u001b[0m\u001b[0m\n",
      "\u001b[1;32m~\\AppData\\Local\\Continuum\\anaconda3\\lib\\site-packages\\joblib\\parallel.py\u001b[0m in \u001b[0;36m_dispatch\u001b[1;34m(self, batch)\u001b[0m\n\u001b[0;32m    714\u001b[0m         \u001b[1;32mwith\u001b[0m \u001b[0mself\u001b[0m\u001b[1;33m.\u001b[0m\u001b[0m_lock\u001b[0m\u001b[1;33m:\u001b[0m\u001b[1;33m\u001b[0m\u001b[1;33m\u001b[0m\u001b[0m\n\u001b[0;32m    715\u001b[0m             \u001b[0mjob_idx\u001b[0m \u001b[1;33m=\u001b[0m \u001b[0mlen\u001b[0m\u001b[1;33m(\u001b[0m\u001b[0mself\u001b[0m\u001b[1;33m.\u001b[0m\u001b[0m_jobs\u001b[0m\u001b[1;33m)\u001b[0m\u001b[1;33m\u001b[0m\u001b[1;33m\u001b[0m\u001b[0m\n\u001b[1;32m--> 716\u001b[1;33m             \u001b[0mjob\u001b[0m \u001b[1;33m=\u001b[0m \u001b[0mself\u001b[0m\u001b[1;33m.\u001b[0m\u001b[0m_backend\u001b[0m\u001b[1;33m.\u001b[0m\u001b[0mapply_async\u001b[0m\u001b[1;33m(\u001b[0m\u001b[0mbatch\u001b[0m\u001b[1;33m,\u001b[0m \u001b[0mcallback\u001b[0m\u001b[1;33m=\u001b[0m\u001b[0mcb\u001b[0m\u001b[1;33m)\u001b[0m\u001b[1;33m\u001b[0m\u001b[1;33m\u001b[0m\u001b[0m\n\u001b[0m\u001b[0;32m    717\u001b[0m             \u001b[1;31m# A job can complete so quickly than its callback is\u001b[0m\u001b[1;33m\u001b[0m\u001b[1;33m\u001b[0m\u001b[1;33m\u001b[0m\u001b[0m\n\u001b[0;32m    718\u001b[0m             \u001b[1;31m# called before we get here, causing self._jobs to\u001b[0m\u001b[1;33m\u001b[0m\u001b[1;33m\u001b[0m\u001b[1;33m\u001b[0m\u001b[0m\n",
      "\u001b[1;32m~\\AppData\\Local\\Continuum\\anaconda3\\lib\\site-packages\\joblib\\_parallel_backends.py\u001b[0m in \u001b[0;36mapply_async\u001b[1;34m(self, func, callback)\u001b[0m\n\u001b[0;32m    180\u001b[0m     \u001b[1;32mdef\u001b[0m \u001b[0mapply_async\u001b[0m\u001b[1;33m(\u001b[0m\u001b[0mself\u001b[0m\u001b[1;33m,\u001b[0m \u001b[0mfunc\u001b[0m\u001b[1;33m,\u001b[0m \u001b[0mcallback\u001b[0m\u001b[1;33m=\u001b[0m\u001b[1;32mNone\u001b[0m\u001b[1;33m)\u001b[0m\u001b[1;33m:\u001b[0m\u001b[1;33m\u001b[0m\u001b[1;33m\u001b[0m\u001b[0m\n\u001b[0;32m    181\u001b[0m         \u001b[1;34m\"\"\"Schedule a func to be run\"\"\"\u001b[0m\u001b[1;33m\u001b[0m\u001b[1;33m\u001b[0m\u001b[0m\n\u001b[1;32m--> 182\u001b[1;33m         \u001b[0mresult\u001b[0m \u001b[1;33m=\u001b[0m \u001b[0mImmediateResult\u001b[0m\u001b[1;33m(\u001b[0m\u001b[0mfunc\u001b[0m\u001b[1;33m)\u001b[0m\u001b[1;33m\u001b[0m\u001b[1;33m\u001b[0m\u001b[0m\n\u001b[0m\u001b[0;32m    183\u001b[0m         \u001b[1;32mif\u001b[0m \u001b[0mcallback\u001b[0m\u001b[1;33m:\u001b[0m\u001b[1;33m\u001b[0m\u001b[1;33m\u001b[0m\u001b[0m\n\u001b[0;32m    184\u001b[0m             \u001b[0mcallback\u001b[0m\u001b[1;33m(\u001b[0m\u001b[0mresult\u001b[0m\u001b[1;33m)\u001b[0m\u001b[1;33m\u001b[0m\u001b[1;33m\u001b[0m\u001b[0m\n",
      "\u001b[1;32m~\\AppData\\Local\\Continuum\\anaconda3\\lib\\site-packages\\joblib\\_parallel_backends.py\u001b[0m in \u001b[0;36m__init__\u001b[1;34m(self, batch)\u001b[0m\n\u001b[0;32m    547\u001b[0m         \u001b[1;31m# Don't delay the application, to avoid keeping the input\u001b[0m\u001b[1;33m\u001b[0m\u001b[1;33m\u001b[0m\u001b[1;33m\u001b[0m\u001b[0m\n\u001b[0;32m    548\u001b[0m         \u001b[1;31m# arguments in memory\u001b[0m\u001b[1;33m\u001b[0m\u001b[1;33m\u001b[0m\u001b[1;33m\u001b[0m\u001b[0m\n\u001b[1;32m--> 549\u001b[1;33m         \u001b[0mself\u001b[0m\u001b[1;33m.\u001b[0m\u001b[0mresults\u001b[0m \u001b[1;33m=\u001b[0m \u001b[0mbatch\u001b[0m\u001b[1;33m(\u001b[0m\u001b[1;33m)\u001b[0m\u001b[1;33m\u001b[0m\u001b[1;33m\u001b[0m\u001b[0m\n\u001b[0m\u001b[0;32m    550\u001b[0m \u001b[1;33m\u001b[0m\u001b[0m\n\u001b[0;32m    551\u001b[0m     \u001b[1;32mdef\u001b[0m \u001b[0mget\u001b[0m\u001b[1;33m(\u001b[0m\u001b[0mself\u001b[0m\u001b[1;33m)\u001b[0m\u001b[1;33m:\u001b[0m\u001b[1;33m\u001b[0m\u001b[1;33m\u001b[0m\u001b[0m\n",
      "\u001b[1;32m~\\AppData\\Local\\Continuum\\anaconda3\\lib\\site-packages\\joblib\\parallel.py\u001b[0m in \u001b[0;36m__call__\u001b[1;34m(self)\u001b[0m\n\u001b[0;32m    223\u001b[0m         \u001b[1;32mwith\u001b[0m \u001b[0mparallel_backend\u001b[0m\u001b[1;33m(\u001b[0m\u001b[0mself\u001b[0m\u001b[1;33m.\u001b[0m\u001b[0m_backend\u001b[0m\u001b[1;33m,\u001b[0m \u001b[0mn_jobs\u001b[0m\u001b[1;33m=\u001b[0m\u001b[0mself\u001b[0m\u001b[1;33m.\u001b[0m\u001b[0m_n_jobs\u001b[0m\u001b[1;33m)\u001b[0m\u001b[1;33m:\u001b[0m\u001b[1;33m\u001b[0m\u001b[1;33m\u001b[0m\u001b[0m\n\u001b[0;32m    224\u001b[0m             return [func(*args, **kwargs)\n\u001b[1;32m--> 225\u001b[1;33m                     for func, args, kwargs in self.items]\n\u001b[0m\u001b[0;32m    226\u001b[0m \u001b[1;33m\u001b[0m\u001b[0m\n\u001b[0;32m    227\u001b[0m     \u001b[1;32mdef\u001b[0m \u001b[0m__len__\u001b[0m\u001b[1;33m(\u001b[0m\u001b[0mself\u001b[0m\u001b[1;33m)\u001b[0m\u001b[1;33m:\u001b[0m\u001b[1;33m\u001b[0m\u001b[1;33m\u001b[0m\u001b[0m\n",
      "\u001b[1;32m~\\AppData\\Local\\Continuum\\anaconda3\\lib\\site-packages\\joblib\\parallel.py\u001b[0m in \u001b[0;36m<listcomp>\u001b[1;34m(.0)\u001b[0m\n\u001b[0;32m    223\u001b[0m         \u001b[1;32mwith\u001b[0m \u001b[0mparallel_backend\u001b[0m\u001b[1;33m(\u001b[0m\u001b[0mself\u001b[0m\u001b[1;33m.\u001b[0m\u001b[0m_backend\u001b[0m\u001b[1;33m,\u001b[0m \u001b[0mn_jobs\u001b[0m\u001b[1;33m=\u001b[0m\u001b[0mself\u001b[0m\u001b[1;33m.\u001b[0m\u001b[0m_n_jobs\u001b[0m\u001b[1;33m)\u001b[0m\u001b[1;33m:\u001b[0m\u001b[1;33m\u001b[0m\u001b[1;33m\u001b[0m\u001b[0m\n\u001b[0;32m    224\u001b[0m             return [func(*args, **kwargs)\n\u001b[1;32m--> 225\u001b[1;33m                     for func, args, kwargs in self.items]\n\u001b[0m\u001b[0;32m    226\u001b[0m \u001b[1;33m\u001b[0m\u001b[0m\n\u001b[0;32m    227\u001b[0m     \u001b[1;32mdef\u001b[0m \u001b[0m__len__\u001b[0m\u001b[1;33m(\u001b[0m\u001b[0mself\u001b[0m\u001b[1;33m)\u001b[0m\u001b[1;33m:\u001b[0m\u001b[1;33m\u001b[0m\u001b[1;33m\u001b[0m\u001b[0m\n",
      "\u001b[1;32m~\\AppData\\Local\\Continuum\\anaconda3\\lib\\site-packages\\sklearn\\linear_model\\logistic.py\u001b[0m in \u001b[0;36m_log_reg_scoring_path\u001b[1;34m(X, y, train, test, pos_class, Cs, scoring, fit_intercept, max_iter, tol, class_weight, verbose, solver, penalty, dual, intercept_scaling, multi_class, random_state, max_squared_sum, sample_weight, l1_ratio)\u001b[0m\n\u001b[0;32m   1160\u001b[0m         \u001b[0mpenalty\u001b[0m\u001b[1;33m=\u001b[0m\u001b[0mpenalty\u001b[0m\u001b[1;33m,\u001b[0m \u001b[0mintercept_scaling\u001b[0m\u001b[1;33m=\u001b[0m\u001b[0mintercept_scaling\u001b[0m\u001b[1;33m,\u001b[0m\u001b[1;33m\u001b[0m\u001b[1;33m\u001b[0m\u001b[0m\n\u001b[0;32m   1161\u001b[0m         \u001b[0mrandom_state\u001b[0m\u001b[1;33m=\u001b[0m\u001b[0mrandom_state\u001b[0m\u001b[1;33m,\u001b[0m \u001b[0mcheck_input\u001b[0m\u001b[1;33m=\u001b[0m\u001b[1;32mFalse\u001b[0m\u001b[1;33m,\u001b[0m\u001b[1;33m\u001b[0m\u001b[1;33m\u001b[0m\u001b[0m\n\u001b[1;32m-> 1162\u001b[1;33m         max_squared_sum=max_squared_sum, sample_weight=sample_weight)\n\u001b[0m\u001b[0;32m   1163\u001b[0m \u001b[1;33m\u001b[0m\u001b[0m\n\u001b[0;32m   1164\u001b[0m     \u001b[0mlog_reg\u001b[0m \u001b[1;33m=\u001b[0m \u001b[0mLogisticRegression\u001b[0m\u001b[1;33m(\u001b[0m\u001b[0msolver\u001b[0m\u001b[1;33m=\u001b[0m\u001b[0msolver\u001b[0m\u001b[1;33m,\u001b[0m \u001b[0mmulti_class\u001b[0m\u001b[1;33m=\u001b[0m\u001b[0mmulti_class\u001b[0m\u001b[1;33m)\u001b[0m\u001b[1;33m\u001b[0m\u001b[1;33m\u001b[0m\u001b[0m\n",
      "\u001b[1;32m~\\AppData\\Local\\Continuum\\anaconda3\\lib\\site-packages\\sklearn\\linear_model\\logistic.py\u001b[0m in \u001b[0;36m_logistic_regression_path\u001b[1;34m(X, y, pos_class, Cs, fit_intercept, max_iter, tol, verbose, solver, coef, class_weight, dual, penalty, intercept_scaling, multi_class, random_state, check_input, max_squared_sum, sample_weight, l1_ratio)\u001b[0m\n\u001b[0;32m    942\u001b[0m                 \u001b[0mfunc\u001b[0m\u001b[1;33m,\u001b[0m \u001b[0mw0\u001b[0m\u001b[1;33m,\u001b[0m \u001b[0mfprime\u001b[0m\u001b[1;33m=\u001b[0m\u001b[1;32mNone\u001b[0m\u001b[1;33m,\u001b[0m\u001b[1;33m\u001b[0m\u001b[1;33m\u001b[0m\u001b[0m\n\u001b[0;32m    943\u001b[0m                 \u001b[0margs\u001b[0m\u001b[1;33m=\u001b[0m\u001b[1;33m(\u001b[0m\u001b[0mX\u001b[0m\u001b[1;33m,\u001b[0m \u001b[0mtarget\u001b[0m\u001b[1;33m,\u001b[0m \u001b[1;36m1.\u001b[0m \u001b[1;33m/\u001b[0m \u001b[0mC\u001b[0m\u001b[1;33m,\u001b[0m \u001b[0msample_weight\u001b[0m\u001b[1;33m)\u001b[0m\u001b[1;33m,\u001b[0m\u001b[1;33m\u001b[0m\u001b[1;33m\u001b[0m\u001b[0m\n\u001b[1;32m--> 944\u001b[1;33m                 iprint=iprint, pgtol=tol, maxiter=max_iter)\n\u001b[0m\u001b[0;32m    945\u001b[0m             \u001b[1;32mif\u001b[0m \u001b[0minfo\u001b[0m\u001b[1;33m[\u001b[0m\u001b[1;34m\"warnflag\"\u001b[0m\u001b[1;33m]\u001b[0m \u001b[1;33m==\u001b[0m \u001b[1;36m1\u001b[0m\u001b[1;33m:\u001b[0m\u001b[1;33m\u001b[0m\u001b[1;33m\u001b[0m\u001b[0m\n\u001b[0;32m    946\u001b[0m                 warnings.warn(\"lbfgs failed to converge. Increase the number \"\n",
      "\u001b[1;32m~\\AppData\\Local\\Continuum\\anaconda3\\lib\\site-packages\\scipy\\optimize\\lbfgsb.py\u001b[0m in \u001b[0;36mfmin_l_bfgs_b\u001b[1;34m(func, x0, fprime, args, approx_grad, bounds, m, factr, pgtol, epsilon, iprint, maxfun, maxiter, disp, callback, maxls)\u001b[0m\n\u001b[0;32m    197\u001b[0m \u001b[1;33m\u001b[0m\u001b[0m\n\u001b[0;32m    198\u001b[0m     res = _minimize_lbfgsb(fun, x0, args=args, jac=jac, bounds=bounds,\n\u001b[1;32m--> 199\u001b[1;33m                            **opts)\n\u001b[0m\u001b[0;32m    200\u001b[0m     d = {'grad': res['jac'],\n\u001b[0;32m    201\u001b[0m          \u001b[1;34m'task'\u001b[0m\u001b[1;33m:\u001b[0m \u001b[0mres\u001b[0m\u001b[1;33m[\u001b[0m\u001b[1;34m'message'\u001b[0m\u001b[1;33m]\u001b[0m\u001b[1;33m,\u001b[0m\u001b[1;33m\u001b[0m\u001b[1;33m\u001b[0m\u001b[0m\n",
      "\u001b[1;32m~\\AppData\\Local\\Continuum\\anaconda3\\lib\\site-packages\\scipy\\optimize\\lbfgsb.py\u001b[0m in \u001b[0;36m_minimize_lbfgsb\u001b[1;34m(fun, x0, args, jac, bounds, disp, maxcor, ftol, gtol, eps, maxfun, maxiter, iprint, callback, maxls, **unknown_options)\u001b[0m\n\u001b[0;32m    327\u001b[0m                        \u001b[0mpgtol\u001b[0m\u001b[1;33m,\u001b[0m \u001b[0mwa\u001b[0m\u001b[1;33m,\u001b[0m \u001b[0miwa\u001b[0m\u001b[1;33m,\u001b[0m \u001b[0mtask\u001b[0m\u001b[1;33m,\u001b[0m \u001b[0miprint\u001b[0m\u001b[1;33m,\u001b[0m \u001b[0mcsave\u001b[0m\u001b[1;33m,\u001b[0m \u001b[0mlsave\u001b[0m\u001b[1;33m,\u001b[0m\u001b[1;33m\u001b[0m\u001b[1;33m\u001b[0m\u001b[0m\n\u001b[0;32m    328\u001b[0m                        isave, dsave, maxls)\n\u001b[1;32m--> 329\u001b[1;33m         \u001b[0mtask_str\u001b[0m \u001b[1;33m=\u001b[0m \u001b[0mtask\u001b[0m\u001b[1;33m.\u001b[0m\u001b[0mtostring\u001b[0m\u001b[1;33m(\u001b[0m\u001b[1;33m)\u001b[0m\u001b[1;33m\u001b[0m\u001b[1;33m\u001b[0m\u001b[0m\n\u001b[0m\u001b[0;32m    330\u001b[0m         \u001b[1;32mif\u001b[0m \u001b[0mtask_str\u001b[0m\u001b[1;33m.\u001b[0m\u001b[0mstartswith\u001b[0m\u001b[1;33m(\u001b[0m\u001b[1;34mb'FG'\u001b[0m\u001b[1;33m)\u001b[0m\u001b[1;33m:\u001b[0m\u001b[1;33m\u001b[0m\u001b[1;33m\u001b[0m\u001b[0m\n\u001b[0;32m    331\u001b[0m             \u001b[1;31m# The minimization routine wants f and g at the current x.\u001b[0m\u001b[1;33m\u001b[0m\u001b[1;33m\u001b[0m\u001b[1;33m\u001b[0m\u001b[0m\n",
      "\u001b[1;31mKeyboardInterrupt\u001b[0m: "
     ]
    }
   ],
   "source": [
    "ngram_lr = sklearn.linear_model.LogisticRegressionCV(multi_class='auto', solver='lbfgs', cv=5)\n",
    "ngram_lr.fit(ngramTrainVecs, Ytrain)"
   ]
  },
  {
   "cell_type": "code",
   "execution_count": null,
   "metadata": {},
   "outputs": [],
   "source": [
    "ngram_predictions = ngram_lr.predict(ngram_vectorizer.transform(Xtest))\n",
    "sklearn.metrics.accuracy_score(Ytest, ngram_predictions)"
   ]
  },
  {
   "cell_type": "code",
   "execution_count": null,
   "metadata": {},
   "outputs": [],
   "source": [
    "print(sklearn.metrics.classification_report(Ytest, predictions))"
   ]
  },
  {
   "cell_type": "code",
   "execution_count": 123,
   "metadata": {},
   "outputs": [
    {
     "name": "stderr",
     "output_type": "stream",
     "text": [
      "D:\\Users\\gregb\\AppData\\Local\\Continuum\\anaconda3\\lib\\site-packages\\sklearn\\svm\\base.py:193: FutureWarning: The default value of gamma will change from 'auto' to 'scale' in version 0.22 to account better for unscaled features. Set gamma explicitly to 'auto' or 'scale' to avoid this warning.\n",
      "  \"avoid this warning.\", FutureWarning)\n"
     ]
    },
    {
     "data": {
      "text/plain": [
       "SVC(C=1.0, cache_size=200, class_weight=None, coef0=0.0,\n",
       "    decision_function_shape='ovr', degree=3, gamma='auto_deprecated',\n",
       "    kernel='rbf', max_iter=-1, probability=False, random_state=None,\n",
       "    shrinking=True, tol=0.001, verbose=False)"
      ]
     },
     "execution_count": 123,
     "metadata": {},
     "output_type": "execute_result"
    }
   ],
   "source": [
    "import sklearn.svm\n",
    "svc = sklearn.svm.SVC()\n",
    "svc.fit(ngramTrainVecs, Ytrain)"
   ]
  },
  {
   "cell_type": "code",
   "execution_count": 124,
   "metadata": {},
   "outputs": [
    {
     "data": {
      "text/plain": [
       "0.6788"
      ]
     },
     "execution_count": 124,
     "metadata": {},
     "output_type": "execute_result"
    }
   ],
   "source": [
    "svc_predictions = svc.predict(ngram_vectorizer.transform(Xtest))\n",
    "sklearn.metrics.accuracy_score(Ytest, svc_predictions)"
   ]
  },
  {
   "cell_type": "markdown",
   "metadata": {},
   "source": [
    "<a id='tfidf'></a>\n",
    "## Term Frequency–Inverse Document Frequency (TF–IDF)\n",
    "\n",
    "While a Count Vectorizer simply totals up the number of times a \"word\" appears in a document, the more complex TF-IDF Vectorizer analyzes the uniqueness of words between documents to find distinguishing characteristics. \n",
    "     \n",
    "- **What:** Term frequency–inverse document frequency (TF–IDF) computes the \"relative frequency\" with which a word appears in a document, compared to its frequency across all documents.\n",
    "- **Why:** It's more useful than \"term frequency\" for identifying \"important\" words in each document (high frequency in that document, low frequency in other documents).\n",
    "- **Notes:** It's used for search-engine scoring, text summarization, and document clustering."
   ]
  },
  {
   "cell_type": "code",
   "execution_count": 126,
   "metadata": {},
   "outputs": [
    {
     "data": {
      "text/plain": [
       "place   -0.025766\n",
       "dtype: float64"
      ]
     },
     "execution_count": 126,
     "metadata": {},
     "output_type": "execute_result"
    }
   ],
   "source": [
    "happy_words[happy_words.index=='place']"
   ]
  },
  {
   "cell_type": "code",
   "execution_count": 127,
   "metadata": {},
   "outputs": [
    {
     "data": {
      "text/plain": [
       "food   -0.081679\n",
       "dtype: float64"
      ]
     },
     "execution_count": 127,
     "metadata": {},
     "output_type": "execute_result"
    }
   ],
   "source": [
    "happy_words[happy_words.index=='food']"
   ]
  },
  {
   "cell_type": "code",
   "execution_count": 128,
   "metadata": {},
   "outputs": [
    {
     "data": {
      "text/plain": [
       "0.4068"
      ]
     },
     "execution_count": 128,
     "metadata": {},
     "output_type": "execute_result"
    }
   ],
   "source": [
    "yelp.text.str.lower().str.contains('food').mean()"
   ]
  },
  {
   "cell_type": "code",
   "execution_count": 129,
   "metadata": {},
   "outputs": [],
   "source": [
    "tfidf = sklearn.feature_extraction.text.TfidfVectorizer(min_df=3, token_pattern='(?u)\\\\b[a-z]{3,}\\\\b')"
   ]
  },
  {
   "cell_type": "code",
   "execution_count": 130,
   "metadata": {},
   "outputs": [],
   "source": [
    "tfidf_train_vec = tfidf.fit_transform(Xtrain)"
   ]
  },
  {
   "cell_type": "code",
   "execution_count": 131,
   "metadata": {},
   "outputs": [
    {
     "name": "stderr",
     "output_type": "stream",
     "text": [
      "D:\\Users\\gregb\\AppData\\Local\\Continuum\\anaconda3\\lib\\site-packages\\sklearn\\linear_model\\logistic.py:947: ConvergenceWarning: lbfgs failed to converge. Increase the number of iterations.\n",
      "  \"of iterations.\", ConvergenceWarning)\n"
     ]
    },
    {
     "data": {
      "text/plain": [
       "LogisticRegression(C=1.0, class_weight=None, dual=False, fit_intercept=True,\n",
       "                   intercept_scaling=1, l1_ratio=None, max_iter=100,\n",
       "                   multi_class='auto', n_jobs=None, penalty='l2',\n",
       "                   random_state=None, solver='lbfgs', tol=0.0001, verbose=0,\n",
       "                   warm_start=False)"
      ]
     },
     "execution_count": 131,
     "metadata": {},
     "output_type": "execute_result"
    }
   ],
   "source": [
    "tfidf_lr = sklearn.linear_model.LogisticRegression(solver='lbfgs', multi_class='auto')\n",
    "tfidf_lr.fit(tfidf_train_vec, Ytrain)"
   ]
  },
  {
   "cell_type": "code",
   "execution_count": 132,
   "metadata": {},
   "outputs": [
    {
     "data": {
      "text/plain": [
       "great         4.377721\n",
       "delicious     3.548630\n",
       "best          3.454495\n",
       "love          3.118825\n",
       "amazing       3.100291\n",
       "awesome       2.559706\n",
       "excellent     2.526321\n",
       "fantastic     2.323257\n",
       "and           2.229671\n",
       "perfect       2.198800\n",
       "definitely    2.030422\n",
       "favorite      2.013245\n",
       "recommend     1.916566\n",
       "very          1.902763\n",
       "fresh         1.886651\n",
       "friendly      1.690858\n",
       "loved         1.624733\n",
       "good          1.609616\n",
       "highly        1.605200\n",
       "perfectly     1.539008\n",
       "always        1.503894\n",
       "can           1.501974\n",
       "wonderful     1.488039\n",
       "yummy         1.408069\n",
       "every         1.317587\n",
       "super         1.288501\n",
       "tasty         1.266203\n",
       "phoenix       1.250437\n",
       "well          1.244254\n",
       "day           1.237587\n",
       "                ...   \n",
       "chinese      -1.270263\n",
       "give         -1.280881\n",
       "rather       -1.327353\n",
       "tasted       -1.356691\n",
       "seem         -1.372320\n",
       "rude         -1.387553\n",
       "elsewhere    -1.401985\n",
       "wouldn       -1.477554\n",
       "dry          -1.479903\n",
       "don          -1.525956\n",
       "horrible     -1.538794\n",
       "worst        -1.539132\n",
       "mediocre     -1.557776\n",
       "stars        -1.577875\n",
       "then         -1.597597\n",
       "maybe        -1.623557\n",
       "awful        -1.650580\n",
       "slow         -1.694682\n",
       "was          -1.716788\n",
       "bland        -1.801375\n",
       "better       -1.804357\n",
       "bad          -1.879117\n",
       "average      -2.072474\n",
       "however      -2.095852\n",
       "but          -2.150955\n",
       "wasn         -2.220429\n",
       "okay         -2.334291\n",
       "overpriced   -2.438623\n",
       "nothing      -2.556648\n",
       "not          -3.630835\n",
       "Length: 10216, dtype: float64"
      ]
     },
     "execution_count": 132,
     "metadata": {},
     "output_type": "execute_result"
    }
   ],
   "source": [
    "tfidf_happy_words = pd.Series(index=tfidf.get_feature_names(), data=tfidf_lr.coef_[0])\n",
    "tfidf_happy_words.sort_values(ascending=False)"
   ]
  },
  {
   "cell_type": "code",
   "execution_count": 134,
   "metadata": {},
   "outputs": [
    {
     "data": {
      "text/plain": [
       "delicious     0.602230\n",
       "amazing       0.569015\n",
       "best          0.467168\n",
       "excellent     0.466536\n",
       "great         0.444274\n",
       "awesome       0.442240\n",
       "fantastic     0.439503\n",
       "love          0.433888\n",
       "recommend     0.413743\n",
       "perfect       0.403618\n",
       "fresh         0.354893\n",
       "favorite      0.342294\n",
       "definitely    0.313583\n",
       "highly        0.306969\n",
       "yummy         0.301409\n",
       "man           0.296871\n",
       "perfectly     0.292773\n",
       "loved         0.281307\n",
       "friendly      0.261716\n",
       "mouth         0.257870\n",
       "valley        0.250707\n",
       "wonderful     0.245004\n",
       "happy         0.232986\n",
       "tasty         0.227626\n",
       "super         0.226272\n",
       "packed        0.221455\n",
       "good          0.216034\n",
       "perfection    0.209262\n",
       "crispy        0.208714\n",
       "crazy         0.208223\n",
       "                ...   \n",
       "waitress     -0.232964\n",
       "terrible     -0.234682\n",
       "somewhere    -0.235894\n",
       "floor        -0.237171\n",
       "mess         -0.240482\n",
       "rather       -0.244025\n",
       "sorry        -0.250956\n",
       "maybe        -0.251130\n",
       "tasted       -0.254607\n",
       "rude         -0.261098\n",
       "chinese      -0.264360\n",
       "awful        -0.267726\n",
       "worst        -0.271451\n",
       "elsewhere    -0.272264\n",
       "not          -0.273479\n",
       "bad          -0.283873\n",
       "lacking      -0.287419\n",
       "seem         -0.300460\n",
       "wouldn       -0.308971\n",
       "horrible     -0.313341\n",
       "mediocre     -0.329894\n",
       "dry          -0.332351\n",
       "slow         -0.337985\n",
       "wasn         -0.361447\n",
       "bland        -0.371373\n",
       "however      -0.382977\n",
       "average      -0.405091\n",
       "okay         -0.407676\n",
       "nothing      -0.416536\n",
       "overpriced   -0.549119\n",
       "Length: 10216, dtype: float64"
      ]
     },
     "execution_count": 134,
     "metadata": {},
     "output_type": "execute_result"
    }
   ],
   "source": [
    "happy_words.sort_values(ascending=False)"
   ]
  },
  {
   "cell_type": "code",
   "execution_count": null,
   "metadata": {},
   "outputs": [],
   "source": []
  },
  {
   "cell_type": "code",
   "execution_count": null,
   "metadata": {},
   "outputs": [],
   "source": []
  },
  {
   "cell_type": "markdown",
   "metadata": {},
   "source": [
    "# An introduction to Spacy\n",
    "\n",
    "spaCy is a free, open-source library for advanced Natural Language Processing (NLP) in Python, and one of the\n",
    "best available.\n",
    "\n",
    "It is a bit slow though. For something faster that is less comprehensive, Facebook have \"fasttext\""
   ]
  },
  {
   "cell_type": "code",
   "execution_count": 135,
   "metadata": {},
   "outputs": [],
   "source": [
    "import spacy"
   ]
  },
  {
   "cell_type": "code",
   "execution_count": 136,
   "metadata": {},
   "outputs": [
    {
     "ename": "OSError",
     "evalue": "[E050] Can't find model 'en_core_web_sm'. It doesn't seem to be a shortcut link, a Python package or a valid path to a data directory.",
     "output_type": "error",
     "traceback": [
      "\u001b[1;31m---------------------------------------------------------------------------\u001b[0m",
      "\u001b[1;31mOSError\u001b[0m                                   Traceback (most recent call last)",
      "\u001b[1;32m<ipython-input-136-8d092272a28e>\u001b[0m in \u001b[0;36m<module>\u001b[1;34m\u001b[0m\n\u001b[1;32m----> 1\u001b[1;33m \u001b[0mnlp\u001b[0m \u001b[1;33m=\u001b[0m \u001b[0mspacy\u001b[0m\u001b[1;33m.\u001b[0m\u001b[0mload\u001b[0m\u001b[1;33m(\u001b[0m\u001b[1;34m\"en_core_web_sm\"\u001b[0m\u001b[1;33m)\u001b[0m\u001b[1;33m\u001b[0m\u001b[1;33m\u001b[0m\u001b[0m\n\u001b[0m",
      "\u001b[1;32m~\\AppData\\Local\\Continuum\\anaconda3\\lib\\site-packages\\spacy\\__init__.py\u001b[0m in \u001b[0;36mload\u001b[1;34m(name, **overrides)\u001b[0m\n\u001b[0;32m     25\u001b[0m     \u001b[1;32mif\u001b[0m \u001b[0mdepr_path\u001b[0m \u001b[1;32mnot\u001b[0m \u001b[1;32min\u001b[0m \u001b[1;33m(\u001b[0m\u001b[1;32mTrue\u001b[0m\u001b[1;33m,\u001b[0m \u001b[1;32mFalse\u001b[0m\u001b[1;33m,\u001b[0m \u001b[1;32mNone\u001b[0m\u001b[1;33m)\u001b[0m\u001b[1;33m:\u001b[0m\u001b[1;33m\u001b[0m\u001b[1;33m\u001b[0m\u001b[0m\n\u001b[0;32m     26\u001b[0m         \u001b[0mdeprecation_warning\u001b[0m\u001b[1;33m(\u001b[0m\u001b[0mWarnings\u001b[0m\u001b[1;33m.\u001b[0m\u001b[0mW001\u001b[0m\u001b[1;33m.\u001b[0m\u001b[0mformat\u001b[0m\u001b[1;33m(\u001b[0m\u001b[0mpath\u001b[0m\u001b[1;33m=\u001b[0m\u001b[0mdepr_path\u001b[0m\u001b[1;33m)\u001b[0m\u001b[1;33m)\u001b[0m\u001b[1;33m\u001b[0m\u001b[1;33m\u001b[0m\u001b[0m\n\u001b[1;32m---> 27\u001b[1;33m     \u001b[1;32mreturn\u001b[0m \u001b[0mutil\u001b[0m\u001b[1;33m.\u001b[0m\u001b[0mload_model\u001b[0m\u001b[1;33m(\u001b[0m\u001b[0mname\u001b[0m\u001b[1;33m,\u001b[0m \u001b[1;33m**\u001b[0m\u001b[0moverrides\u001b[0m\u001b[1;33m)\u001b[0m\u001b[1;33m\u001b[0m\u001b[1;33m\u001b[0m\u001b[0m\n\u001b[0m\u001b[0;32m     28\u001b[0m \u001b[1;33m\u001b[0m\u001b[0m\n\u001b[0;32m     29\u001b[0m \u001b[1;33m\u001b[0m\u001b[0m\n",
      "\u001b[1;32m~\\AppData\\Local\\Continuum\\anaconda3\\lib\\site-packages\\spacy\\util.py\u001b[0m in \u001b[0;36mload_model\u001b[1;34m(name, **overrides)\u001b[0m\n\u001b[0;32m    169\u001b[0m     \u001b[1;32melif\u001b[0m \u001b[0mhasattr\u001b[0m\u001b[1;33m(\u001b[0m\u001b[0mname\u001b[0m\u001b[1;33m,\u001b[0m \u001b[1;34m\"exists\"\u001b[0m\u001b[1;33m)\u001b[0m\u001b[1;33m:\u001b[0m  \u001b[1;31m# Path or Path-like to model data\u001b[0m\u001b[1;33m\u001b[0m\u001b[1;33m\u001b[0m\u001b[0m\n\u001b[0;32m    170\u001b[0m         \u001b[1;32mreturn\u001b[0m \u001b[0mload_model_from_path\u001b[0m\u001b[1;33m(\u001b[0m\u001b[0mname\u001b[0m\u001b[1;33m,\u001b[0m \u001b[1;33m**\u001b[0m\u001b[0moverrides\u001b[0m\u001b[1;33m)\u001b[0m\u001b[1;33m\u001b[0m\u001b[1;33m\u001b[0m\u001b[0m\n\u001b[1;32m--> 171\u001b[1;33m     \u001b[1;32mraise\u001b[0m \u001b[0mIOError\u001b[0m\u001b[1;33m(\u001b[0m\u001b[0mErrors\u001b[0m\u001b[1;33m.\u001b[0m\u001b[0mE050\u001b[0m\u001b[1;33m.\u001b[0m\u001b[0mformat\u001b[0m\u001b[1;33m(\u001b[0m\u001b[0mname\u001b[0m\u001b[1;33m=\u001b[0m\u001b[0mname\u001b[0m\u001b[1;33m)\u001b[0m\u001b[1;33m)\u001b[0m\u001b[1;33m\u001b[0m\u001b[1;33m\u001b[0m\u001b[0m\n\u001b[0m\u001b[0;32m    172\u001b[0m \u001b[1;33m\u001b[0m\u001b[0m\n\u001b[0;32m    173\u001b[0m \u001b[1;33m\u001b[0m\u001b[0m\n",
      "\u001b[1;31mOSError\u001b[0m: [E050] Can't find model 'en_core_web_sm'. It doesn't seem to be a shortcut link, a Python package or a valid path to a data directory."
     ]
    }
   ],
   "source": [
    "nlp = spacy.load(\"en_core_web_sm\")"
   ]
  },
  {
   "cell_type": "code",
   "execution_count": null,
   "metadata": {},
   "outputs": [],
   "source": [
    "# call nlp() on a string to turn it into a document"
   ]
  },
  {
   "cell_type": "code",
   "execution_count": null,
   "metadata": {},
   "outputs": [],
   "source": []
  },
  {
   "cell_type": "code",
   "execution_count": null,
   "metadata": {},
   "outputs": [],
   "source": []
  },
  {
   "cell_type": "code",
   "execution_count": 3,
   "metadata": {},
   "outputs": [],
   "source": [
    "# look at each word in each sentence and see \n",
    "# - orth_\n",
    "# - pos_\n",
    "# - tag_\n",
    "# - dep_\n",
    "# - lemma_\n",
    "# - head.lemma_"
   ]
  },
  {
   "cell_type": "code",
   "execution_count": null,
   "metadata": {},
   "outputs": [],
   "source": []
  },
  {
   "cell_type": "code",
   "execution_count": null,
   "metadata": {},
   "outputs": [],
   "source": [
    "# Look for past tense verbs only?"
   ]
  },
  {
   "cell_type": "code",
   "execution_count": 162,
   "metadata": {},
   "outputs": [],
   "source": [
    "def past_verbs(doc):\n",
    "    answer = []\n",
    "    for sentence in doc.sents:\n",
    "        for word in sentence:\n",
    "            if word.tag_ == 'VBD':\n",
    "                #answer.append(word.lemma_)\n",
    "                answer.append(word.orth_)\n",
    "    return \" \".join(answer)"
   ]
  },
  {
   "cell_type": "code",
   "execution_count": null,
   "metadata": {},
   "outputs": [],
   "source": []
  },
  {
   "cell_type": "code",
   "execution_count": null,
   "metadata": {},
   "outputs": [],
   "source": []
  },
  {
   "cell_type": "code",
   "execution_count": null,
   "metadata": {},
   "outputs": [],
   "source": [
    "# How does the model perform only on verbs? What sort of coefficients do you see?"
   ]
  },
  {
   "cell_type": "code",
   "execution_count": null,
   "metadata": {},
   "outputs": [],
   "source": []
  },
  {
   "cell_type": "code",
   "execution_count": null,
   "metadata": {},
   "outputs": [],
   "source": []
  },
  {
   "cell_type": "code",
   "execution_count": null,
   "metadata": {},
   "outputs": [],
   "source": [
    "# What about adjectives only? What do you notice about these adjectives?"
   ]
  },
  {
   "cell_type": "code",
   "execution_count": null,
   "metadata": {},
   "outputs": [],
   "source": []
  },
  {
   "cell_type": "markdown",
   "metadata": {},
   "source": [
    "<a id='sentiment'></a>\n",
    "## Sentiment Analysis\n",
    "\n",
    "Understanding how positive or negative a review is. There are many ways in practice to compute a sentiment value. For example:\n",
    "\n",
    "- Have a list of \"positive\" words and a list of \"negative\" words and count how many occur in a document. \n",
    "- Train a classifier given many examples of \"positive\" documents and \"negative\" documents. \n",
    "    - Note that this technique is often just an automated way to derive the first (e.g., using bag-of-words with logistic regression, a coefficient is assigned to each word!).\n",
    "\n",
    "For the most accurate sentiment analysis, you will want to train a custom sentiment model based on documents that are particular to your application. Generic models (such as the one we are about to use!) often do not work as well as hoped.\n",
    "\n",
    "As we will do below, always make sure you double-check that the algorithm is working by manually verifying that scores correctly correspond to positive/negative reviews! Otherwise, you may be using numbers that are not accurate."
   ]
  },
  {
   "cell_type": "code",
   "execution_count": null,
   "metadata": {},
   "outputs": [],
   "source": []
  },
  {
   "cell_type": "code",
   "execution_count": 138,
   "metadata": {},
   "outputs": [
    {
     "name": "stderr",
     "output_type": "stream",
     "text": [
      "[nltk_data] Downloading package sentiwordnet to\n",
      "[nltk_data]     D:\\Users\\gregb\\AppData\\Roaming\\nltk_data...\n",
      "[nltk_data]   Unzipping corpora\\sentiwordnet.zip.\n"
     ]
    },
    {
     "data": {
      "text/plain": [
       "True"
      ]
     },
     "execution_count": 138,
     "metadata": {},
     "output_type": "execute_result"
    }
   ],
   "source": [
    "nltk.download('sentiwordnet')"
   ]
  },
  {
   "cell_type": "code",
   "execution_count": 140,
   "metadata": {},
   "outputs": [
    {
     "name": "stderr",
     "output_type": "stream",
     "text": [
      "[nltk_data] Downloading package wordnet to\n",
      "[nltk_data]     D:\\Users\\gregb\\AppData\\Roaming\\nltk_data...\n",
      "[nltk_data]   Unzipping corpora\\wordnet.zip.\n"
     ]
    },
    {
     "data": {
      "text/plain": [
       "True"
      ]
     },
     "execution_count": 140,
     "metadata": {},
     "output_type": "execute_result"
    }
   ],
   "source": [
    "nltk.download('wordnet')"
   ]
  },
  {
   "cell_type": "code",
   "execution_count": 141,
   "metadata": {},
   "outputs": [],
   "source": [
    "from nltk.corpus import sentiwordnet as swn"
   ]
  },
  {
   "cell_type": "code",
   "execution_count": 143,
   "metadata": {},
   "outputs": [
    {
     "data": {
      "text/plain": [
       "[SentiSynset('dog.n.01'),\n",
       " SentiSynset('frump.n.01'),\n",
       " SentiSynset('dog.n.03'),\n",
       " SentiSynset('cad.n.01'),\n",
       " SentiSynset('frank.n.02'),\n",
       " SentiSynset('pawl.n.01'),\n",
       " SentiSynset('andiron.n.01'),\n",
       " SentiSynset('chase.v.01')]"
      ]
     },
     "execution_count": 143,
     "metadata": {},
     "output_type": "execute_result"
    }
   ],
   "source": [
    "list(swn.senti_synsets('dog'))"
   ]
  },
  {
   "cell_type": "code",
   "execution_count": 144,
   "metadata": {},
   "outputs": [
    {
     "data": {
      "text/plain": [
       "[SentiSynset('great.n.01'),\n",
       " SentiSynset('great.s.01'),\n",
       " SentiSynset('great.s.02'),\n",
       " SentiSynset('great.s.03'),\n",
       " SentiSynset('bang-up.s.01'),\n",
       " SentiSynset('capital.s.03'),\n",
       " SentiSynset('big.s.13')]"
      ]
     },
     "execution_count": 144,
     "metadata": {},
     "output_type": "execute_result"
    }
   ],
   "source": [
    "list(swn.senti_synsets('great'))"
   ]
  },
  {
   "cell_type": "code",
   "execution_count": 152,
   "metadata": {},
   "outputs": [
    {
     "data": {
      "text/plain": [
       "0.0"
      ]
     },
     "execution_count": 152,
     "metadata": {},
     "output_type": "execute_result"
    }
   ],
   "source": [
    "great_adj = list(swn.senti_synsets('great'))[1]\n",
    "great_adj.pos_score()"
   ]
  },
  {
   "cell_type": "code",
   "execution_count": 155,
   "metadata": {},
   "outputs": [
    {
     "data": {
      "text/plain": [
       "0.875"
      ]
     },
     "execution_count": 155,
     "metadata": {},
     "output_type": "execute_result"
    }
   ],
   "source": [
    "list(swn.senti_synsets('awesome'))[0].pos_score()"
   ]
  },
  {
   "cell_type": "code",
   "execution_count": 157,
   "metadata": {},
   "outputs": [
    {
     "data": {
      "text/plain": [
       "0.125"
      ]
     },
     "execution_count": 157,
     "metadata": {},
     "output_type": "execute_result"
    }
   ],
   "source": [
    "list(swn.senti_synsets('awesome'))[0].neg_score()"
   ]
  },
  {
   "cell_type": "code",
   "execution_count": 158,
   "metadata": {},
   "outputs": [
    {
     "data": {
      "text/plain": [
       "0.625"
      ]
     },
     "execution_count": 158,
     "metadata": {},
     "output_type": "execute_result"
    }
   ],
   "source": [
    "list(swn.senti_synsets('terrible'))[0].neg_score()"
   ]
  },
  {
   "cell_type": "code",
   "execution_count": 159,
   "metadata": {},
   "outputs": [
    {
     "data": {
      "text/plain": [
       "0.0"
      ]
     },
     "execution_count": 159,
     "metadata": {},
     "output_type": "execute_result"
    }
   ],
   "source": [
    "list(swn.senti_synsets('terrible'))[0].pos_score()"
   ]
  },
  {
   "cell_type": "code",
   "execution_count": null,
   "metadata": {},
   "outputs": [],
   "source": [
    "# swn.senti_synsets(...)"
   ]
  },
  {
   "cell_type": "code",
   "execution_count": null,
   "metadata": {},
   "outputs": [],
   "source": [
    "# list(swn.senti_synsets(...))[0].pos_score()"
   ]
  },
  {
   "cell_type": "markdown",
   "metadata": {},
   "source": [
    "<a id='add_feat'></a>\n",
    "## Bonus: Adding Features to a Document-Term Matrix"
   ]
  },
  {
   "cell_type": "markdown",
   "metadata": {},
   "source": [
    "Here, we will add additional features to our `CountVectorizer()`-generated feature set to hopefully improve our model.\n",
    "\n",
    "To make the best models, you will want to supplement the auto-generated features with new features you think might be important. After all, `CountVectorizer()` typically lowercases text and removes all associations between words. Or, you may have metadata to add in addition to just the text.\n",
    "\n",
    "> Remember: Although you may have hundreds of thousands of features, each data point is extremely sparse. So, if you add in a new feature, e.g., one that detects if the text is all capital letters, this new feature can still have a huge effect on the model outcome!"
   ]
  },
  {
   "cell_type": "code",
   "execution_count": null,
   "metadata": {},
   "outputs": [],
   "source": []
  },
  {
   "cell_type": "code",
   "execution_count": null,
   "metadata": {},
   "outputs": [],
   "source": [
    "X_train_dtm_extra = sp.sparse.hstack((X_train_dtm, extra))\n",
    "X_train_dtm_extra.shape"
   ]
  },
  {
   "cell_type": "code",
   "execution_count": null,
   "metadata": {},
   "outputs": [],
   "source": []
  },
  {
   "cell_type": "code",
   "execution_count": null,
   "metadata": {},
   "outputs": [],
   "source": []
  },
  {
   "cell_type": "markdown",
   "metadata": {},
   "source": [
    "<a id='conclusion'></a>\n",
    "## Conclusion\n",
    "\n",
    "- NLP is a gigantic field.\n",
    "- Understanding the basics broadens the types of data you can work with.\n",
    "- Simple techniques go a long way.\n",
    "- Use scikit-learn for NLP whenever possible.\n",
    "\n",
    "While we used SKLearn and TextBlob today, another popular python NLP library is [Spacy](https://spacy.io)."
   ]
  },
  {
   "cell_type": "code",
   "execution_count": null,
   "metadata": {},
   "outputs": [],
   "source": []
  }
 ],
 "metadata": {
  "kernelspec": {
   "display_name": "Python 3",
   "language": "python",
   "name": "python3"
  },
  "language_info": {
   "codemirror_mode": {
    "name": "ipython",
    "version": 3
   },
   "file_extension": ".py",
   "mimetype": "text/x-python",
   "name": "python",
   "nbconvert_exporter": "python",
   "pygments_lexer": "ipython3",
   "version": "3.7.3"
  }
 },
 "nbformat": 4,
 "nbformat_minor": 2
}

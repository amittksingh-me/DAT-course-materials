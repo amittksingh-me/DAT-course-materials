{
 "cells": [
  {
   "cell_type": "markdown",
   "metadata": {
    "slideshow": {
     "slide_type": "notes"
    }
   },
   "source": [
    "> **Jupyter slideshow:** This notebook can be displayed as slides. To view it as a slideshow in your browser type in the console:\n",
    "\n",
    "\n",
    "> `> jupyter nbconvert [this_notebook.ipynb] --to slides --post serve`\n",
    "\n",
    "\n",
    "> To toggle off the slideshow cell formatting, click the `CellToolbar` button, then `View --> Cell Toolbar --> None`"
   ]
  },
  {
   "cell_type": "markdown",
   "metadata": {
    "slideshow": {
     "slide_type": "slide"
    }
   },
   "source": [
    "<img src=\"http://imgur.com/1ZcRyrc.png\" style=\"float: left; margin: 20px; height: 55px\">\n",
    "\n",
    "# Introduction to Web Services and APIs\n",
    "\n",
    "_Author: Dave Yerrington (SF)_\n",
    "\n",
    "---\n",
    "![](assets/opening.png)"
   ]
  },
  {
   "cell_type": "markdown",
   "metadata": {
    "slideshow": {
     "slide_type": "slide"
    }
   },
   "source": [
    "### Learning Objectives\n",
    "*After this lesson, you will be able to:*\n",
    "- Identify relevant HTTP Verbs & their uses.\n",
    "- Describe Application Programming Interfaces (APIs) and know how to make calls and consume API data.\n",
    "- Access public APIs and get information back.\n",
    "- Read and write data in JSON format.\n",
    "- Use the `requests` library."
   ]
  },
  {
   "cell_type": "markdown",
   "metadata": {
    "slideshow": {
     "slide_type": "slide"
    }
   },
   "source": [
    "### Lesson Guide\n",
    "- [Introduction to APIs](#intro)\n",
    "- [What is an API?](#what-is-api)\n",
    "- [Famous APIs](#famous)\n",
    "    - [Facebook](#facebook)\n",
    "    - [Yelp](#yelp)\n",
    "    - [Echonest](#echonest)\n",
    "- [Web APIs](#web-apis)\n",
    "- [Making API calls](#api-calls)\n",
    "- [HTTP](#http)\n",
    "- [Web applications](#web-app)\n",
    "- [Demo: HTTP](#demo-http)\n",
    "- [Independent practice: HTTP](#ind-http)\n",
    "- [HTTP Request](#http-request)\n",
    "    - [HTTP Request methods](#request-methods)\n",
    "    - [HTTP Request structure](#request-structure)\n",
    "- [HTTP Response](#http-response)\n",
    "    - [Response types overview](#response-types)\n",
    "- [JSON](#json)\n",
    "- [Independent practice: validating JSON](#ind-practice)\n",
    "- [Guided practice: pulling data from APIs](#guided-practice)\n",
    "    - [Example 1: Star Wars](#ex1-star-wars)\n",
    "    - [Submit queries to the API](#submit)\n",
    "    - [Example 2: Google Geocode](#ex2-geocode)\n",
    "- [OAuth](#oauth)\n",
    "- [Independent practice: python APIs](#ind-practice2)\n",
    "- [Closing questions](#closing-questions)"
   ]
  },
  {
   "cell_type": "markdown",
   "metadata": {
    "slideshow": {
     "slide_type": "slide"
    }
   },
   "source": [
    "<a name=\"intro\"></a>\n",
    "## Introduction to APIs\n",
    "\n",
    "---\n",
    "\n",
    "In this lesson, we will be diving into the world of APIs. We will take a tour of one of the most accessible sources of data on the Internet.\n",
    "\n",
    "You will learn:\n",
    "- **What is meant by an \"API\"**\n",
    "- **Common API use cases**\n",
    "- **How to read API documentation**\n",
    "- **General development workflow with APIs**\n",
    "\n",
    "*Does anyone in the class have any experience using APIs?*\n"
   ]
  },
  {
   "cell_type": "markdown",
   "metadata": {
    "slideshow": {
     "slide_type": "slide"
    }
   },
   "source": [
    "<a id='what-is-api'></a>\n",
    "## What is an API?\n",
    "\n",
    "---\n",
    "\n",
    "An **API (Application Programming Interface)** is a set of routines, protocols, and tools for building software applications. It specifies how software components should interact.\n",
    "\n",
    "We are used to many **interfaces** in real life. For example:\n",
    "\n",
    "- **A door handle.** We don't care how a door works. All that we expect is that pushing or pulling the handle will open the door. In fact, the way the door opens (theoretically) could be entirely different each time we use the door. \n",
    "\n",
    "- **File->Print.** We don't care how the computer prints the document. All that we expect is that using the Print option in the File menu will print the document. In fact, the way the computer prints it could change every time the program is updated. \n",
    "\n",
    "In programming, we also use many interfaces. The interface we use to a programming library is its function calls. For example:\n",
    "\n",
    "- **Matplotlib `plot()`**: We don't care how the `plot()` function works. All that we expect is that calling this function (with appropriate parameters) will plot the data and return a graphic. In fact, how the function works can completely change from version to version. \n",
    "\n",
    "**These are APIs -- Application Programming Interfaces.** The functions that you call and the parameters you call them with make up the interface to a programming library.\n",
    "\n",
    "#### Web APIs\n",
    "\n",
    "- **How does this extend to the web?** A Web API is a list of function calls that are made to remote servers. The function call is sent by encoding it as a URL (technically, as an HTTP request -- we'll discuss these later!). The function call typically returns a string of text (e.g. JSON)."
   ]
  },
  {
   "cell_type": "markdown",
   "metadata": {
    "slideshow": {
     "slide_type": "slide"
    }
   },
   "source": [
    "APIs are a way developers connect functionality to data, devices, and other resources they provide. \n",
    "\n",
    "Some examples that APIs can assist with are:\n",
    "\n",
    "- Connectivity to a variety of databases\n",
    "- Python modules that can turn LED lights on and off\n",
    "- Application that runs on native Windows, OSX, or Linux\n",
    "- Libraries that post content on Twitter, Facebook, Yelp, or LinkedIn\n",
    "- Web services for accessing currency or stock prices\n",
    "\n",
    "More abstract examples:\n",
    "- Adding your own functions to Numpy itself\n",
    "- Extending Python with C code\n",
    "- Testing Frameworks\n",
    "\n",
    "In the context of data science, APIs are a very common method to interact with data hosted by third parties and most commonly provided by **Web Service APIs**, or just **Web APIs**."
   ]
  },
  {
   "cell_type": "markdown",
   "metadata": {
    "slideshow": {
     "slide_type": "skip"
    }
   },
   "source": [
    "### Why did APIs become popular?\n",
    "\n",
    "APIs became popular for many reasons:\n",
    "\n",
    "- Easy to use for JavaScript programmers\n",
    "- Prevent website scraping\n",
    "- Allow a website's brand to be incorporated into other websites \n",
    "\n",
    "More importantly, in the modern web, nearly every website uses **internal APIs** for shuttling dynamic data between the browser and the website. It is often possible to discover and hijack these internal APIs to gather data. (This is beyond the scope of this lesson.)"
   ]
  },
  {
   "cell_type": "markdown",
   "metadata": {
    "slideshow": {
     "slide_type": "slide"
    }
   },
   "source": [
    "<a id='famous'></a>\n",
    "<a id='facebook'></a>\n",
    "\n",
    "### Famous APIs:  Facebook Graph API\n",
    "\n",
    "Facebook provides an API for interacting with their service.  At a glance:\n",
    "\n",
    "- View your posts\n",
    "- View websites, people, posts, pages that you've liked\n",
    "- View activity on apps from you and your friends\n",
    "  - Movies watched\n",
    "  - Music listened\n",
    "  - Games played\n",
    "- View places traveled / check-ins\n",
    "- Relationships\n"
   ]
  },
  {
   "cell_type": "markdown",
   "metadata": {
    "slideshow": {
     "slide_type": "slide"
    }
   },
   "source": [
    "<a id='yelp'></a>\n",
    "### Famous APIs:  Yelp API\n",
    "\n",
    "Yelp provides a way for developers to access:\n",
    "\n",
    "- Reviews\n",
    " - Services\n",
    " - Restaraunts / Bars / Cafes\n",
    " - Businesses\n",
    "- Business meta-data\n",
    "\n",
    "#### Potential Project Ideas\n",
    "\n",
    "|   |   |   |   |\n",
    "|---|---|---|---|\n",
    "| Topic Modeling | Text Mining | Sentiment Analysis | Funny / Cool / Interesting Classification | \n",
    "| Music Genre Classification | Parking Index Classification | Characteristics Profiling | Hipster Index |\n",
    "| Ideal Activities | Friend Recommender | Venue Recommender | Sports Bar Classifcation |\n",
    "| Where is the best [whatever] in [neighborhood] | | |"
   ]
  },
  {
   "cell_type": "markdown",
   "metadata": {
    "slideshow": {
     "slide_type": "slide"
    }
   },
   "source": [
    "<a id='web-apis'></a>\n",
    "## Web APIs\n",
    "\n",
    "---\n",
    "\n",
    "<img src = \"assets/notify.png\" width=150>\n",
    "\n",
    "Many languages have started co-opting standards to communicate data to and from web servers for two big reasons:\n",
    "- Ease of integration\n",
    "- Consistent standards\n",
    "\n",
    "Modern Javascript allows for **asynchronous requests**, or **AJAX** (Asynchronous JavaScript And XML). This allows websites to send/receive data in the background, e.g. to/from APIs. "
   ]
  },
  {
   "cell_type": "markdown",
   "metadata": {
    "slideshow": {
     "slide_type": "slide"
    }
   },
   "source": [
    "<a name=\"api-calls\"></a>\n",
    "## Making API calls\n",
    "\n",
    "---\n",
    "\n",
    "API calls are really a fancy term for making _HTTP requests_ (in the context of web APIs) to a server and sending/receiving structured data from that endpoint (URL). We are still communicating with URLs, however instead of receiving a string of HTML, we receive data.\n",
    "\n",
    "[Representational state transfer (REST)](https://spring.io/understanding/REST) is the most common architecture style for passing information to and from these API endpoints.\n",
    "\n",
    "### API Tokens\n",
    "\n",
    "Many APIs are free to access. You first need to register as a developer and obtain an authorization key. In most cases, this is also accompanied by a temporary token that needs to be renewed after some time. This is a way to prevent abuse on the server's resources. \n",
    "\n",
    "- For example, the Twitter API requires a token that is used to track how many requests each user makes. Each user can retrieve a limited number of tweets, unless they pay for premium services.\n",
    "\n",
    "Before we start consuming API services, it is important to understand the fundamentals of the underlying communication layer: **HTTP**."
   ]
  },
  {
   "cell_type": "markdown",
   "metadata": {
    "slideshow": {
     "slide_type": "slide"
    }
   },
   "source": [
    "<a id='http'></a>\n",
    "## HTTP\n",
    "\n",
    "---\n",
    "\n",
    "**HTTP (HyperText Transfer Protocol)** is a protocol - a system of rules - that determines how web pages (see:'hypertext') get sent (see:'transferred') from one place to another. Among other things, it defines the format of the messages passed between HTTP clients and HTTP servers.\n",
    "\n",
    "Since the web is a service, it works through a combination of **clients** (that _make_ requests) and **servers** (that _receive_ requests).\n"
   ]
  },
  {
   "cell_type": "markdown",
   "metadata": {
    "slideshow": {
     "slide_type": "slide"
    }
   },
   "source": [
    "### The HTTP client\n",
    "\n",
    "**HTTP clients** make or generate **HTTP requests**. Some types of clients are:\n",
    "\n",
    "* Browsers - Chrome, Firefox and Safari.\n",
    "* Command Line programs - [curl](http://curl.haxx.se/docs/) and [wget](http://www.gnu.org/software/wget/manual/wget.html).\n",
    "* Application code -  Python Requsts, Scrapy, Mechanize\n",
    "\n",
    "HTTP clients respond to HTTP responses from a **web server**/**HTTP server**. A web server is just a computer that listens for and responds to HTTP requests."
   ]
  },
  {
   "cell_type": "markdown",
   "metadata": {
    "slideshow": {
     "slide_type": "slide"
    }
   },
   "source": [
    "### HTTP and web servers\n",
    "\n",
    "All _web servers_ receive _HTTP requests_ and generate _HTTP responses_. Often web servers are just the middleman, passing HTTP requests and responses between the client and web application. Two of the most popular _HTTP or Web servers_ are [Apache](http://httpd.apache.org/) and [Nginx](http://nginx.com/), But there are many different [web servers](https://www.tutorialspoint.com/internet_technologies/web_servers.htm) out there."
   ]
  },
  {
   "cell_type": "markdown",
   "metadata": {
    "slideshow": {
     "slide_type": "slide"
    }
   },
   "source": [
    "### Check: Where do you think a web application lives?\n",
    "\n",
    "- Client\n",
    "- Server\n",
    "- The cloud\n",
    "- Mobile devices\n",
    "- In your car\n",
    "- In your bluetooth connected toaster with LCD display"
   ]
  },
  {
   "cell_type": "markdown",
   "metadata": {
    "slideshow": {
     "slide_type": "slide"
    }
   },
   "source": [
    "<a id='web-app'></a>\n",
    "## Web applications\n",
    "\n",
    "---\n",
    "\n",
    "Web applications are programs that run on a web server. They process the HTTP requests that the server receives and generate HTTP responses.\n",
    "\n",
    "![HTTP Request and Response](assets/request-response.png)\n",
    "\n",
    "Lost? Here's the play-by-play.\n",
    "\n",
    "1. A client sends a HTTP request to a HTTP server running on a remote machine.  \n",
    "  * The _hostname_, given in the URL, indicates which server will receive the request.  \n",
    "2. The HTTP server processes the HTTP request. This may entail passing the request to some web application, which creates a HTTP response. \n",
    "3. The response gets sent back to the client.\n",
    "4. The client processes the response.\n",
    "\n",
    "How does the server know what the request is asking for? This is specified by the URL, a special kind of path that specifies where a resource can be found on the web.\n",
    "\n",
    "![URL](./assets/http1-url-structure.png)\n",
    "\n",
    "> **Check:** can anyone explain what a client and a server are?"
   ]
  },
  {
   "cell_type": "markdown",
   "metadata": {
    "slideshow": {
     "slide_type": "slide"
    }
   },
   "source": [
    "<a name=\"demo-http\"></a>\n",
    "## Demo: HTTP\n",
    "\n",
    "---\n",
    "\n",
    "Let's explore HTTP resources. We'll start by looking at HTTP requests and responses using the Chrome Inspector.\n",
    "\n",
    "![HTTP Request and Response](./assets/http_request_response.jpeg \"HTTP Request and Response\")\n",
    "\n",
    "* In Chrome, open up Chrome Inspector (*command + option + 'i', or ctrl + click and select 'inspect element'*).\n",
    "* Select the Network tab. It should look something like this:\n",
    "\n",
    "![Chrome Inspector](./assets/chrome_inspector.png)\n",
    "\n",
    "* Next, go to the URL https://generalassemb.ly/\n",
    "\n",
    "You should be able to see a few HTTP requests and responses in the Network tab. For each request, you'll see a **Name**, **Status**, **Type**, and **Size**, along with info about how long it took to get each of these resources.\n",
    "  * Most of this information comes from the HTTP Request and Response.\n",
    "  * Some HTTP requests are for CSS, JavaScript and images that are referenced by the HTML.\n",
    "  * Select `generalassemb.ly` in the Path column on the far left.\n",
    "  * Select the Headers tab. **Headers** are meta-data properties of an HTTP request or response, separate from the body of the message."
   ]
  },
  {
   "cell_type": "markdown",
   "metadata": {
    "slideshow": {
     "slide_type": "skip"
    }
   },
   "source": [
    "<a id='ind-http'></a>\n",
    "\n",
    "## Independent practice: HTTP\n",
    "\n",
    "---\n",
    "\n",
    "\n",
    "### With a partner, go to your favorite website(s) (safe for work), inspect the protocol from the Chrome network inspection tool (cmd-opt-i), and identify:\n",
    "\n",
    "- Requests sent by your client\n",
    "- Requests sent by the server\n",
    "- URI (Uniform Resource Identifier), a generalized URL\n",
    "\n",
    "#### Research and Explain:\n",
    "- cache-control\n",
    "- age\n",
    "- content-encoding\n",
    "- expires\n",
    "- \"GET\" and \"POST\" requests\n",
    "- query string parameters\n",
    "\n",
    "#### Bonus:\n",
    "What are cookies?\n",
    "<img src=\"assets/cookies.png\" style=\"width: 100px\">"
   ]
  },
  {
   "cell_type": "markdown",
   "metadata": {
    "slideshow": {
     "slide_type": "slide"
    }
   },
   "source": [
    "<a id='http-request'></a>\n",
    "## HTTP Request\n",
    "\n",
    "---\n",
    "\n",
    "First, notice that every HTTP request is ultimately plain text -- it is human-readable! This is convenient, but it makes requests larger.\n",
    "\n",
    "The first word in the request line, _GET_, is the **HTTP method**.\n",
    "\n",
    "![HTTP Request](./assets/http_request.jpeg \"HTTP Request\")\n",
    "\n",
    "<a id='request-methods'></a>\n",
    "### HTTP Request methods:\n",
    "\n",
    "* **`GET`** => Retrieve a resource.  \n",
    "* **`POST`** => Create a resource.  \n",
    "* **`PATCH`** (_or **`PUT`**, but **`PATCH`** is recommended_) => Update an existing resource.  \n",
    "* **`DELETE`** => Delete a resource.  \n",
    "* **`HEAD`** => Retrieve the headers for a resource.\n",
    "\n",
    "Of these, **`GET`** and **`POST`** are the most widely used."
   ]
  },
  {
   "cell_type": "markdown",
   "metadata": {
    "slideshow": {
     "slide_type": "slide"
    }
   },
   "source": [
    "<a id='request-structure'></a>\n",
    "### HTTP Request structure:\n",
    "\n",
    "```\n",
    "[http request method] [URL] [http version]  \n",
    "[list of headers]\n",
    "\n",
    "[request body]\n",
    "```\n",
    "\n",
    "*Notice that the request header is separated from the request body by a new line.*"
   ]
  },
  {
   "cell_type": "markdown",
   "metadata": {
    "slideshow": {
     "slide_type": "slide"
    }
   },
   "source": [
    "**HTTP Request Method Example: (No Body)**\n",
    "\n",
    "    GET http://vermonster.com HTTP/1.1  \n",
    "    Accept:text/html,application/xhtml+xml,application/xml;q=0.9,image/webp,*/*;q=0.8  \n",
    "    Accept-Encoding:gzip,deflate,sdch\n",
    "    Accept-Language:en-US,en;q=0.8  \n",
    "    Connection:keep-alive  \n",
    "    Host:vermonster.com  \n",
    "    User-Agent:Mozilla/5.0 (Macintosh; Intel Mac OS X 10_8_5)  \n",
    "    AppleWebKit/537.36 (KHTML, like Gecko) Chrome/32.0.1659.2 Safari/537.36  "
   ]
  },
  {
   "cell_type": "markdown",
   "metadata": {
    "slideshow": {
     "slide_type": "slide"
    }
   },
   "source": [
    "<a id='http-response'></a>\n",
    "## HTTP Response\n",
    "\n",
    "---\n",
    "\n",
    "![HTTP Response](./assets/http_response.jpeg \"HTTP Response\")\n",
    "\n",
    "When a client sends a request, the server sends back a response; the standard format for this response is:\n",
    "\n",
    "```\n",
    "[http version] [status] [reason]  \n",
    "[list of headers]\n",
    "\n",
    "[response body] # typically HTML, JSON, ...  \n",
    "```"
   ]
  },
  {
   "cell_type": "markdown",
   "metadata": {
    "slideshow": {
     "slide_type": "slide"
    }
   },
   "source": [
    "<a id='response-types'></a>\n",
    "### Response types overview\n",
    "\n",
    "> Check these out when you have time -- at least be aware that there is an expected pattern to these codes:\n",
    "\n",
    "**[Status codes](http://en.wikipedia.org/wiki/List_of_HTTP_status_codes)** have standard meanings; here are a few.\n",
    "\n",
    "|Code|Reason|\n",
    "|:---|:-----|\n",
    "|200| OK\n",
    "|301| Moved Permanently\n",
    "|302| Moved Temporarily\n",
    "|307| Temporary Redirect\n",
    "|400| Bad Request\n",
    "|403| Forbidden\n",
    "|404| Not Found\n",
    "|500| Internal Server Error"
   ]
  },
  {
   "cell_type": "markdown",
   "metadata": {
    "slideshow": {
     "slide_type": "slide"
    }
   },
   "source": [
    "<a name=\"json\"></a>\n",
    "## JSON\n",
    "\n",
    "---\n",
    "\n",
    "JSON is short for _JavaScript Object Notation_, and is a way to store information in an organized, easy-to-access manner. In a nutshell, it gives us a human-readable collection of data that we can access in a really logical manner.\n",
    "\n",
    "It is very important to realize that JSON is just plain text that you can edit in a text editor. It is called JSON because a JSON string is valid JavaScript code. Because of this, JSON has become very popular with JavaScript programmers for talking with APIs.\n",
    "\n",
    "**JSON is built on two structures:**\n",
    "* A collection of name/value pairs. In various languages, this is realized as an object, record, structure, dictionary, hash table, keyed list, or associative array.\n",
    "* An ordered list of values. In most languages, this is realized as an array, vector, list, or sequence.\n",
    "\n",
    "These are universal data structures. Virtually all modern programming languages support them in one form or another. It makes sense that a data format that is interchangeable with programming languages also be based on these structures."
   ]
  },
  {
   "cell_type": "markdown",
   "metadata": {
    "slideshow": {
     "slide_type": "slide"
    }
   },
   "source": [
    "### JSON objects\n",
    "\n",
    "An object is an unordered set of name/value pairs, like python dictionaries. An object begins with `{` (left brace) and ends with `}` (right brace). Each name is followed by `:` (colon) and the name/value pairs are separated by `,` (comma).\n",
    "\n",
    "The syntax is as follows:\n",
    "\n",
    "```\n",
    "{ string : value, .......}\n",
    "```\n",
    "like:\n",
    "```\n",
    "{\"count\": 1, ...}\n",
    "```\n",
    "_Seems an awful lot like a Python dictionary._"
   ]
  },
  {
   "cell_type": "markdown",
   "metadata": {
    "slideshow": {
     "slide_type": "slide"
    }
   },
   "source": [
    "<a name=\"ind-practice\"></a>\n",
    "## Independent practice: validating JSON \n",
    "\n",
    "---\n",
    "\n",
    "JSON is very simple to use if correctly structured. One of the resources to validate JSON and check if the syntax is correct is [JSON Viewer](http://codebeautify.org/jsonviewer).\n",
    "\n",
    "For this exercise, copy the [JSON data from the code folder](./code/test.json) and insert it in the web app above. Then, click \"Validate\".\n",
    "\n",
    "If you see \"Valid JSON\", click \"Beautify\" and you will see a more readable way of JSON. If you do not see the message \"Valid JSON\", it means that there is a syntax error.\n",
    "\n",
    "* First, correct errors if there are any\n",
    "* Then, work in pairs to identify the structure of the JSON:\n",
    "\n",
    "    - What is a root element?\n",
    "    - Are there any arrays?\n",
    "    - How many objects are there?\n",
    "    - What are the attributes of an object?"
   ]
  },
  {
   "cell_type": "markdown",
   "metadata": {
    "slideshow": {
     "slide_type": "slide"
    }
   },
   "source": [
    "<a name=\"guided-practice\"></a>\n",
    "## Guided practice: Pulling data from APIs\n",
    "\n",
    "---\n",
    "\n",
    "Recall that APIs are methods and data formats to tell people how to \"talk\" to a system. We will walk through a couple of examples."
   ]
  },
  {
   "cell_type": "markdown",
   "metadata": {
    "slideshow": {
     "slide_type": "slide"
    }
   },
   "source": [
    "<a id='ex1-star-wars'></a>\n",
    "### Example 1: Pokemon\n",
    "\n",
    "The Pokemon API is a large collection of data about Pokemon. It can be browsed at the address: http://pokeapi.co/.\n",
    "\n",
    "What if we wanted to programatically access the data in the Pokemon API? Unless we are employees of the site, we probably don't have direct access to their internal database. So, we cannot perform SQL queries on their data.\n",
    "\n",
    "We could use scraping to retrieve data from the web page. In some cases (particularly if they do not have a public API), we will have to do exactly that.\n",
    "\n",
    "> *Note: check the \"Terms of Service\" before you scrape a website. Scraping could infringe their terms of service.*\n",
    "\n",
    "In other cases, the website offers a way to programatically access data from their database -- often, as an API.\n",
    "\n",
    "**Let's try for example to retrieve the data about the \"Groudon\".**\n",
    "\n"
   ]
  },
  {
   "cell_type": "markdown",
   "metadata": {},
   "source": [
    "https://pokeapi.co/api/v2/pokemon/groudon\n"
   ]
  },
  {
   "cell_type": "code",
   "execution_count": 4,
   "metadata": {
    "slideshow": {
     "slide_type": "slide"
    }
   },
   "outputs": [
    {
     "data": {
      "text/plain": [
       "200"
      ]
     },
     "execution_count": 4,
     "metadata": {},
     "output_type": "execute_result"
    }
   ],
   "source": [
    "import requests\n",
    "\n",
    "groudon_request = requests.get('https://pokeapi.co/api/v2/pokemon/groudon')\n",
    "groudon_request.status_code"
   ]
  },
  {
   "cell_type": "code",
   "execution_count": 5,
   "metadata": {},
   "outputs": [
    {
     "data": {
      "text/plain": [
       "404"
      ]
     },
     "execution_count": 5,
     "metadata": {},
     "output_type": "execute_result"
    }
   ],
   "source": [
    "s = requests.get('https://pokeapi.co/api/v2/pokemon/superman')\n",
    "s.status_code"
   ]
  },
  {
   "cell_type": "code",
   "execution_count": 6,
   "metadata": {},
   "outputs": [
    {
     "data": {
      "text/plain": [
       "'{\"abilities\":[{\"ability\":{\"name\":\"drought\",\"url\":\"https://pokeapi.co/api/v2/ability/70/\"},\"is_hidden\":false,\"slot\":1}],\"base_experience\":302,\"forms\":[{\"name\":\"groudon\",\"url\":\"https://pokeapi.co/api/v2/pokemon-form/383/\"}],\"game_indices\":[{\"game_index\":383,\"version\":{\"name\":\"white-2\",\"url\":\"https://pokeapi.co/api/v2/version/22/\"}},{\"game_index\":383,\"version\":{\"name\":\"black-2\",\"url\":\"https://pokeapi.co/api/v2/version/21/\"}},{\"game_index\":383,\"version\":{\"name\":\"white\",\"url\":\"https://pokeapi.co/api/v2/version/18/\"}},{\"game_index\":383,\"version\":{\"name\":\"black\",\"url\":\"https://pokeapi.co/api/v2/version/17/\"}},{\"game_index\":383,\"version\":{\"name\":\"soulsilver\",\"url\":\"https://pokeapi.co/api/v2/version/16/\"}},{\"game_index\":383,\"version\":{\"name\":\"heartgold\",\"url\":\"https://pokeapi.co/api/v2/version/15/\"}},{\"game_index\":383,\"version\":{\"name\":\"platinum\",\"url\":\"https://pokeapi.co/api/v2/version/14/\"}},{\"game_index\":383,\"version\":{\"name\":\"pearl\",\"url\":\"https://pokeapi.co/api/v2/version/13/\"}},{\"game_index\":383,\"version\":{\"name\":\"diamond\",\"url\":\"https://pokeapi.co/api/v2/version/12/\"}},{\"game_index\":405,\"version\":{\"name\":\"leafgreen\",\"url\":\"https://pokeapi.co/api/v2/version/11/\"}},{\"game_index\":405,\"version\":{\"name\":\"firered\",\"url\":\"https://pokeapi.co/api/v2/version/10/\"}},{\"game_index\":405,\"version\":{\"name\":\"emerald\",\"url\":\"https://pokeapi.co/api/v2/version/9/\"}},{\"game_index\":405,\"version\":{\"name\":\"sapphire\",\"url\":\"https://pokeapi.co/api/v2/version/8/\"}},{\"game_index\":405,\"version\":{\"name\":\"ruby\",\"url\":\"https://pokeapi.co/api/v2/version/7/\"}}],\"height\":35,\"held_items\":[],\"id\":383,\"is_default\":true,\"location_area_encounters\":\"https://pokeapi.co/api/v2/pokemon/383/encounters\",\"moves\":[{\"move\":{\"name\":\"mega-punch\",\"url\":\"https://pokeapi.co/api/v2/move/5/\"},\"version_group_details\":[{\"level_learned_at\":0,\"move_learn_method\":{\"name\":\"tutor\",\"url\":\"https://pokeapi.co/api/v2/move-learn-method/3/\"},\"version_group\":{\"name\":\"emerald\",\"url\":\"https://pokeapi.co/api/v2/version-group/6/\"}},{\"level_learned_at\":0,\"move_learn_method\":{\"name\":\"tutor\",\"url\":\"https://pokeapi.co/api/v2/move-learn-method/3/\"},\"version_group\":{\"name\":\"firered-leafgreen\",\"url\":\"https://pokeapi.co/api/v2/version-group/7/\"}}]},{\"move\":{\"name\":\"fire-punch\",\"url\":\"https://pokeapi.co/api/v2/move/7/\"},\"version_group_details\":[{\"level_learned_at\":0,\"move_learn_method\":{\"name\":\"tutor\",\"url\":\"https://pokeapi.co/api/v2/move-learn-method/3/\"},\"version_group\":{\"name\":\"emerald\",\"url\":\"https://pokeapi.co/api/v2/version-group/6/\"}},{\"level_learned_at\":0,\"move_learn_method\":{\"name\":\"tutor\",\"url\":\"https://pokeapi.co/api/v2/move-learn-method/3/\"},\"version_group\":{\"name\":\"platinum\",\"url\":\"https://pokeapi.co/api/v2/version-group/9/\"}},{\"level_learned_at\":0,\"move_learn_method\":{\"name\":\"tutor\",\"url\":\"https://pokeapi.co/api/v2/move-learn-method/3/\"},\"version_group\":{\"name\":\"heartgold-soulsilver\",\"url\":\"https://pokeapi.co/api/v2/version-group/10/\"}},{\"level_learned_at\":0,\"move_learn_method\":{\"name\":\"tutor\",\"url\":\"https://pokeapi.co/api/v2/move-learn-method/3/\"},\"version_group\":{\"name\":\"black-2-white-2\",\"url\":\"https://pokeapi.co/api/v2/version-group/14/\"}},{\"level_learned_at\":0,\"move_learn_method\":{\"name\":\"tutor\",\"url\":\"https://pokeapi.co/api/v2/move-learn-method/3/\"},\"version_group\":{\"name\":\"omega-ruby-alpha-sapphire\",\"url\":\"https://pokeapi.co/api/v2/version-group/16/\"}}]},{\"move\":{\"name\":\"thunder-punch\",\"url\":\"https://pokeapi.co/api/v2/move/9/\"},\"version_group_details\":[{\"level_learned_at\":0,\"move_learn_method\":{\"name\":\"tutor\",\"url\":\"https://pokeapi.co/api/v2/move-learn-method/3/\"},\"version_group\":{\"name\":\"emerald\",\"url\":\"https://pokeapi.co/api/v2/version-group/6/\"}},{\"level_learned_at\":0,\"move_learn_method\":{\"name\":\"tutor\",\"url\":\"https://pokeapi.co/api/v2/move-learn-method/3/\"},\"version_group\":{\"name\":\"platinum\",\"url\":\"https://pokeapi.co/api/v2/version-group/9/\"}},{\"level_learned_at\":0,\"move_learn_method\":{\"name\":\"tutor\",\"url\":\"https://pokeapi.co/api/v2/move-learn-method/3/\"},\"version_group\":{\"name\":\"heartgold-soulsilver\",\"url\":\"https://pokeapi.co/api/v2/version-group/10/\"}},{\"level_learned_at\":0,\"move_learn_method\":{\"name\":\"tutor\",\"url\":\"https://pokeapi.co/api/v2/move-learn-method/3/\"},\"version_group\":{\"name\":\"black-2-white-2\",\"url\":\"https://pokeapi.co/api/v2/version-group/14/\"}},{\"level_learned_at\":0,\"move_learn_method\":{\"name\":\"tutor\",\"url\":\"https://pokeapi.co/api/v2/move-learn-method/3/\"},\"version_group\":{\"name\":\"omega-ruby-alpha-sapphire\",\"url\":\"https://pokeapi.co/api/v2/version-group/16/\"}}]},{\"move\":{\"name\":\"swords-dance\",\"url\":\"https://pokeapi.co/api/v2/move/14/\"},\"version_group_details\":[{\"level_learned_at\":0,\"move_learn_method\":{\"name\":\"machine\",\"url\":\"https://pokeapi.co/api/v2/move-learn-method/4/\"},\"version_group\":{\"name\":\"ultra-sun-ultra-moon\",\"url\":\"https://pokeapi.co/api/v2/version-group/18/\"}},{\"level_learned_at\":0,\"move_learn_method\":{\"name\":\"machine\",\"url\":\"https://pokeapi.co/api/v2/move-learn-method/4/\"},\"version_group\":{\"name\":\"sun-moon\",\"url\":\"https://pokeapi.co/api/v2/version-group/17/\"}},{\"level_learned_at\":0,\"move_learn_method\":{\"name\":\"machine\",\"url\":\"https://pokeapi.co/api/v2/move-learn-method/4/\"},\"version_group\":{\"name\":\"omega-ruby-alpha-sapphire\",\"url\":\"https://pokeapi.co/api/v2/version-group/16/\"}},{\"level_learned_at\":0,\"move_learn_method\":{\"name\":\"machine\",\"url\":\"https://pokeapi.co/api/v2/move-learn-method/4/\"},\"version_group\":{\"name\":\"x-y\",\"url\":\"https://pokeapi.co/api/v2/version-group/15/\"}},{\"level_learned_at\":0,\"move_learn_method\":{\"name\":\"machine\",\"url\":\"https://pokeapi.co/api/v2/move-learn-method/4/\"},\"version_group\":{\"name\":\"black-2-white-2\",\"url\":\"https://pokeapi.co/api/v2/version-group/14/\"}},{\"level_learned_at\":0,\"move_learn_method\":{\"name\":\"machine\",\"url\":\"https://pokeapi.co/api/v2/move-learn-method/4/\"},\"version_group\":{\"name\":\"heartgold-soulsilver\",\"url\":\"https://pokeapi.co/api/v2/version-group/10/\"}},{\"level_learned_at\":0,\"move_learn_method\":{\"name\":\"machine\",\"url\":\"https://pokeapi.co/api/v2/move-learn-method/4/\"},\"version_group\":{\"name\":\"platinum\",\"url\":\"https://pokeapi.co/api/v2/version-group/9/\"}},{\"level_learned_at\":0,\"move_learn_method\":{\"name\":\"machine\",\"url\":\"https://pokeapi.co/api/v2/move-learn-method/4/\"},\"version_group\":{\"name\":\"diamond-pearl\",\"url\":\"https://pokeapi.co/api/v2/version-group/8/\"}},{\"level_learned_at\":0,\"move_learn_method\":{\"name\":\"tutor\",\"url\":\"https://pokeapi.co/api/v2/move-learn-method/3/\"},\"version_group\":{\"name\":\"firered-leafgreen\",\"url\":\"https://pokeapi.co/api/v2/version-group/7/\"}},{\"level_learned_at\":0,\"move_learn_method\":{\"name\":\"tutor\",\"url\":\"https://pokeapi.co/api/v2/move-learn-method/3/\"},\"version_group\":{\"name\":\"emerald\",\"url\":\"https://pokeapi.co/api/v2/version-group/6/\"}},{\"level_learned_at\":0,\"move_learn_method\":{\"name\":\"machine\",\"url\":\"https://pokeapi.co/api/v2/move-learn-method/4/\"},\"version_group\":{\"name\":\"black-white\",\"url\":\"https://pokeapi.co/api/v2/version-group/11/\"}}]},{\"move\":{\"name\":\"cut\",\"url\":\"https://pokeapi.co/api/v2/move/15/\"},\"version_group_details\":[{\"level_learned_at\":0,\"move_learn_method\":{\"name\":\"machine\",\"url\":\"https://pokeapi.co/api/v2/move-learn-method/4/\"},\"version_group\":{\"name\":\"omega-ruby-alpha-sapphire\",\"url\":\"https://pokeapi.co/api/v2/version-group/16/\"}},{\"level_learned_at\":0,\"move_learn_method\":{\"name\":\"machine\",\"url\":\"https://pokeapi.co/api/v2/move-learn-method/4/\"},\"version_group\":{\"name\":\"x-y\",\"url\":\"https://pokeapi.co/api/v2/version-group/15/\"}},{\"level_learned_at\":0,\"move_learn_method\":{\"name\":\"machine\",\"url\":\"https://pokeapi.co/api/v2/move-learn-method/4/\"},\"version_group\":{\"name\":\"black-2-white-2\",\"url\":\"https://pokeapi.co/api/v2/version-group/14/\"}},{\"level_learned_at\":0,\"move_learn_method\":{\"name\":\"machine\",\"url\":\"https://pokeapi.co/api/v2/move-learn-method/4/\"},\"version_group\":{\"name\":\"xd\",\"url\":\"https://pokeapi.co/api/v2/version-group/13/\"}},{\"level_learned_at\":0,\"move_learn_method\":{\"name\":\"machine\",\"url\":\"https://pokeapi.co/api/v2/move-learn-method/4/\"},\"version_group\":{\"name\":\"colosseum\",\"url\":\"https://pokeapi.co/api/v2/version-group/12/\"}},{\"level_learned_at\":0,\"move_learn_method\":{\"name\":\"machine\",\"url\":\"https://pokeapi.co/api/v2/move-learn-method/4/\"},\"version_group\":{\"name\":\"heartgold-soulsilver\",\"url\":\"https://pokeapi.co/api/v2/version-group/10/\"}},{\"level_learned_at\":0,\"move_learn_method\":{\"name\":\"machine\",\"url\":\"https://pokeapi.co/api/v2/move-learn-method/4/\"},\"version_group\":{\"name\":\"platinum\",\"url\":\"https://pokeapi.co/api/v2/version-group/9/\"}},{\"level_learned_at\":0,\"move_learn_method\":{\"name\":\"machine\",\"url\":\"https://pokeapi.co/api/v2/move-learn-method/4/\"},\"version_group\":{\"name\":\"diamond-pearl\",\"url\":\"https://pokeapi.co/api/v2/version-group/8/\"}},{\"level_learned_at\":0,\"move_learn_method\":{\"name\":\"machine\",\"url\":\"https://pokeapi.co/api/v2/move-learn-method/4/\"},\"version_group\":{\"name\":\"firered-leafgreen\",\"url\":\"https://pokeapi.co/api/v2/version-group/7/\"}},{\"level_learned_at\":0,\"move_learn_method\":{\"name\":\"machine\",\"url\":\"https://pokeapi.co/api/v2/move-learn-method/4/\"},\"version_group\":{\"name\":\"emerald\",\"url\":\"https://pokeapi.co/api/v2/version-group/6/\"}},{\"level_learned_at\":0,\"move_learn_method\":{\"name\":\"machine\",\"url\":\"https://pokeapi.co/api/v2/move-learn-method/4/\"},\"version_group\":{\"name\":\"black-white\",\"url\":\"https://pokeapi.co/api/v2/version-group/11/\"}},{\"level_learned_at\":0,\"move_learn_method\":{\"name\":\"machine\",\"url\":\"https://pokeapi.co/api/v2/move-learn-method/4/\"},\"version_group\":{\"name\":\"ruby-sapphire\",\"url\":\"https://pokeapi.co/api/v2/version-group/5/\"}}]},{\"move\":{\"name\":\"mega-kick\",\"url\":\"https://pokeapi.co/api/v2/move/25/\"},\"version_group_details\":[{\"level_learned_at\":0,\"move_learn_method\":{\"name\":\"tutor\",\"url\":\"https://pokeapi.co/api/v2/move-learn-method/3/\"},\"version_group\":{\"name\":\"emerald\",\"url\":\"https://pokeapi.co/api/v2/version-group/6/\"}},{\"level_learned_at\":0,\"move_learn_method\":{\"name\":\"tutor\",\"url\":\"https://pokeapi.co/api/v2/move-learn-method/3/\"},\"version_group\":{\"name\":\"firered-leafgreen\",\"url\":\"https://pokeapi.co/api/v2/version-group/7/\"}}]},{\"move\":{\"name\":\"headbutt\",\"url\":\"https://pokeapi.co/api/v2/move/29/\"},\"version_group_details\":[{\"level_learned_at\":0,\"move_learn_method\":{\"name\":\"tutor\",\"url\":\"https://pokeapi.co/api/v2/move-learn-method/3/\"},\"version_group\":{\"name\":\"heartgold-soulsilver\",\"url\":\"https://pokeapi.co/api/v2/version-group/10/\"}}]},{\"move\":{\"name\":\"body-slam\",\"url\":\"https://pokeapi.co/api/v2/move/34/\"},\"version_group_details\":[{\"level_learned_at\":0,\"move_learn_method\":{\"name\":\"tutor\",\"url\":\"https://pokeapi.co/api/v2/move-learn-method/3/\"},\"version_group\":{\"name\":\"xd\",\"url\":\"https://pokeapi.co/api/v2/version-group/13/\"}},{\"level_learned_at\":0,\"move_learn_method\":{\"name\":\"tutor\",\"url\":\"https://pokeapi.co/api/v2/move-learn-method/3/\"},\"version_group\":{\"name\":\"firered-leafgreen\",\"url\":\"https://pokeapi.co/api/v2/version-group/7/\"}},{\"level_learned_at\":0,\"move_learn_method\":{\"name\":\"tutor\",\"url\":\"https://pokeapi.co/api/v2/move-learn-method/3/\"},\"version_group\":{\"name\":\"emerald\",\"url\":\"https://pokeapi.co/api/v2/version-group/6/\"}}]},{\"move\":{\"name\":\"double-edge\",\"url\":\"https://pokeapi.co/api/v2/move/38/\"},\"version_group_details\":[{\"level_learned_at\":0,\"move_learn_method\":{\"name\":\"tutor\",\"url\":\"https://pokeapi.co/api/v2/move-learn-method/3/\"},\"version_group\":{\"name\":\"xd\",\"url\":\"https://pokeapi.co/api/v2/version-group/13/\"}},{\"level_learned_at\":0,\"move_learn_method\":{\"name\":\"tutor\",\"url\":\"https://pokeapi.co/api/v2/move-learn-method/3/\"},\"version_group\":{\"name\":\"firered-leafgreen\",\"url\":\"https://pokeapi.co/api/v2/version-group/7/\"}},{\"level_learned_at\":0,\"move_learn_method\":{\"name\":\"tutor\",\"url\":\"https://pokeapi.co/api/v2/move-learn-method/3/\"},\"version_group\":{\"name\":\"emerald\",\"url\":\"https://pokeapi.co/api/v2/version-group/6/\"}}]},{\"move\":{\"name\":\"roar\",\"url\":\"https://pokeapi.co/api/v2/move/46/\"},\"version_group_details\":[{\"level_learned_at\":0,\"move_learn_method\":{\"name\":\"machine\",\"url\":\"https://pokeapi.co/api/v2/move-learn-method/4/\"},\"version_group\":{\"name\":\"ultra-sun-ultra-moon\",\"url\":\"https://pokeapi.co/api/v2/version-group/18/\"}},{\"level_learned_at\":0,\"move_learn_method\":{\"name\":\"machine\",\"url\":\"https://pokeapi.co/api/v2/move-learn-method/4/\"},\"version_group\":{\"name\":\"sun-moon\",\"url\":\"https://pokeapi.co/api/v2/version-group/17/\"}},{\"level_learned_at\":0,\"move_learn_method\":{\"name\":\"machine\",\"url\":\"https://pokeapi.co/api/v2/move-learn-method/4/\"},\"version_group\":{\"name\":\"omega-ruby-alpha-sapphire\",\"url\":\"https://pokeapi.co/api/v2/version-group/16/\"}},{\"level_learned_at\":0,\"move_learn_method\":{\"name\":\"machine\",\"url\":\"https://pokeapi.co/api/v2/move-learn-method/4/\"},\"version_group\":{\"name\":\"x-y\",\"url\":\"https://pokeapi.co/api/v2/version-group/15/\"}},{\"level_learned_at\":0,\"move_learn_method\":{\"name\":\"machine\",\"url\":\"https://pokeapi.co/api/v2/move-learn-method/4/\"},\"version_group\":{\"name\":\"black-2-white-2\",\"url\":\"https://pokeapi.co/api/v2/version-group/14/\"}},{\"level_learned_at\":0,\"move_learn_method\":{\"name\":\"machine\",\"url\":\"https://pokeapi.co/api/v2/move-learn-method/4/\"},\"version_group\":{\"name\":\"xd\",\"url\":\"https://pokeapi.co/api/v2/version-group/13/\"}},{\"level_learned_at\":0,\"move_learn_method\":{\"name\":\"machine\",\"url\":\"https://pokeapi.co/api/v2/move-learn-method/4/\"},\"version_group\":{\"name\":\"colosseum\",\"url\":\"https://pokeapi.co/api/v2/version-group/12/\"}},{\"level_learned_at\":0,\"move_learn_method\":{\"name\":\"machine\",\"url\":\"https://pokeapi.co/api/v2/move-learn-method/4/\"},\"version_group\":{\"name\":\"heartgold-soulsilver\",\"url\":\"https://pokeapi.co/api/v2/version-group/10/\"}},{\"level_learned_at\":0,\"move_learn_method\":{\"name\":\"machine\",\"url\":\"https://pokeapi.co/api/v2/move-learn-method/4/\"},\"version_group\":{\"name\":\"platinum\",\"url\":\"https://pokeapi.co/api/v2/version-group/9/\"}},{\"level_learned_at\":0,\"move_learn_method\":{\"name\":\"machine\",\"url\":\"https://pokeapi.co/api/v2/move-learn-method/4/\"},\"version_group\":{\"name\":\"diamond-pearl\",\"url\":\"https://pokeapi.co/api/v2/version-group/8/\"}},{\"level_learned_at\":0,\"move_learn_method\":{\"name\":\"machine\",\"url\":\"https://pokeapi.co/api/v2/move-learn-method/4/\"},\"version_group\":{\"name\":\"firered-leafgreen\",\"url\":\"https://pokeapi.co/api/v2/version-group/7/\"}},{\"level_learned_at\":0,\"move_learn_method\":{\"name\":\"machine\",\"url\":\"https://pokeapi.co/api/v2/move-learn-method/4/\"},\"version_group\":{\"name\":\"emerald\",\"url\":\"https://pokeapi.co/api/v2/version-group/6/\"}},{\"level_learned_at\":0,\"move_learn_method\":{\"name\":\"machine\",\"url\":\"https://pokeapi.co/api/v2/move-learn-method/4/\"},\"version_group\":{\"name\":\"black-white\",\"url\":\"https://pokeapi.co/api/v2/version-group/11/\"}},{\"level_learned_at\":0,\"move_learn_method\":{\"name\":\"machine\",\"url\":\"https://pokeapi.co/api/v2/move-learn-method/4/\"},\"version_group\":{\"name\":\"ruby-sapphire\",\"url\":\"https://pokeapi.co/api/v2/version-group/5/\"}}]},{\"move\":{\"name\":\"flamethrower\",\"url\":\"https://pokeapi.co/api/v2/move/53/\"},\"version_group_details\":[{\"level_learned_at\":0,\"move_learn_method\":{\"name\":\"machine\",\"url\":\"https://pokeapi.co/api/v2/move-learn-method/4/\"},\"version_group\":{\"name\":\"ultra-sun-ultra-moon\",\"url\":\"https://pokeapi.co/api/v2/version-group/18/\"}},{\"level_learned_at\":0,\"move_learn_method\":{\"name\":\"machine\",\"url\":\"https://pokeapi.co/api/v2/move-learn-method/4/\"},\"version_group\":{\"name\":\"sun-moon\",\"url\":\"https://pokeapi.co/api/v2/version-group/17/\"}},{\"level_learned_at\":0,\"move_learn_method\":{\"name\":\"machine\",\"url\":\"https://pokeapi.co/api/v2/move-learn-method/4/\"},\"version_group\":{\"name\":\"omega-ruby-alpha-sapphire\",\"url\":\"https://pokeapi.co/api/v2/version-group/16/\"}},{\"level_learned_at\":0,\"move_learn_method\":{\"name\":\"machine\",\"url\":\"https://pokeapi.co/api/v2/move-learn-method/4/\"},\"version_group\":{\"name\":\"x-y\",\"url\":\"https://pokeapi.co/api/v2/version-group/15/\"}},{\"level_learned_at\":0,\"move_learn_method\":{\"name\":\"machine\",\"url\":\"https://pokeapi.co/api/v2/move-learn-method/4/\"},\"version_group\":{\"name\":\"black-2-white-2\",\"url\":\"https://pokeapi.co/api/v2/version-group/14/\"}},{\"level_learned_at\":0,\"move_learn_method\":{\"name\":\"machine\",\"url\":\"https://pokeapi.co/api/v2/move-learn-method/4/\"},\"version_group\":{\"name\":\"xd\",\"url\":\"https://pokeapi.co/api/v2/version-group/13/\"}},{\"level_learned_at\":0,\"move_learn_method\":{\"name\":\"machine\",\"url\":\"https://pokeapi.co/api/v2/move-learn-method/4/\"},\"version_group\":{\"name\":\"colosseum\",\"url\":\"https://pokeapi.co/api/v2/version-group/12/\"}},{\"level_learned_at\":0,\"move_learn_method\":{\"name\":\"machine\",\"url\":\"https://pokeapi.co/api/v2/move-learn-method/4/\"},\"version_group\":{\"name\":\"heartgold-soulsilver\",\"url\":\"https://pokeapi.co/api/v2/version-group/10/\"}},{\"level_learned_at\":0,\"move_learn_method\":{\"name\":\"machine\",\"url\":\"https://pokeapi.co/api/v2/move-learn-method/4/\"},\"version_group\":{\"name\":\"platinum\",\"url\":\"https://pokeapi.co/api/v2/version-group/9/\"}},{\"level_learned_at\":0,\"move_learn_method\":{\"name\":\"machine\",\"url\":\"https://pokeapi.co/api/v2/move-learn-method/4/\"},\"version_group\":{\"name\":\"diamond-pearl\",\"url\":\"https://pokeapi.co/api/v2/version-group/8/\"}},{\"level_learned_at\":0,\"move_learn_method\":{\"name\":\"machine\",\"url\":\"https://pokeapi.co/api/v2/move-learn-method/4/\"},\"version_group\":{\"name\":\"firered-leafgreen\",\"url\":\"https://pokeapi.co/api/v2/version-group/7/\"}},{\"level_learned_at\":0,\"move_learn_method\":{\"name\":\"machine\",\"url\":\"https://pokeapi.co/api/v2/move-learn-method/4/\"},\"version_group\":{\"name\":\"emerald\",\"url\":\"https://pokeapi.co/api/v2/version-group/6/\"}},{\"level_learned_at\":0,\"move_learn_method\":{\"name\":\"machine\",\"url\":\"https://pokeapi.co/api/v2/move-learn-method/4/\"},\"version_group\":{\"name\":\"black-white\",\"url\":\"https://pokeapi.co/api/v2/version-group/11/\"}},{\"level_learned_at\":0,\"move_learn_method\":{\"name\":\"machine\",\"url\":\"https://pokeapi.co/api/v2/move-learn-method/4/\"},\"version_group\":{\"name\":\"ruby-sapphire\",\"url\":\"https://pokeapi.co/api/v2/version-group/5/\"}}]},{\"move\":{\"name\":\"hyper-beam\",\"url\":\"https://pokeapi.co/api/v2/move/63/\"},\"version_group_details\":[{\"level_learned_at\":0,\"move_learn_method\":{\"name\":\"machine\",\"url\":\"https://pokeapi.co/api/v2/move-learn-method/4/\"},\"version_group\":{\"name\":\"ultra-sun-ultra-moon\",\"url\":\"https://pokeapi.co/api/v2/version-group/18/\"}},{\"level_learned_at\":0,\"move_learn_method\":{\"name\":\"machine\",\"url\":\"https://pokeapi.co/api/v2/move-learn-method/4/\"},\"version_group\":{\"name\":\"sun-moon\",\"url\":\"https://pokeapi.co/api/v2/version-group/17/\"}},{\"level_learned_at\":0,\"move_learn_method\":{\"name\":\"machine\",\"url\":\"https://pokeapi.co/api/v2/move-learn-method/4/\"},\"version_group\":{\"name\":\"omega-ruby-alpha-sapphire\",\"url\":\"https://pokeapi.co/api/v2/version-group/16/\"}},{\"level_learned_at\":0,\"move_learn_method\":{\"name\":\"machine\",\"url\":\"https://pokeapi.co/api/v2/move-learn-method/4/\"},\"version_group\":{\"name\":\"x-y\",\"url\":\"https://pokeapi.co/api/v2/version-group/15/\"}},{\"level_learned_at\":0,\"move_learn_method\":{\"name\":\"machine\",\"url\":\"https://pokeapi.co/api/v2/move-learn-method/4/\"},\"version_group\":{\"name\":\"black-2-white-2\",\"url\":\"https://pokeapi.co/api/v2/version-group/14/\"}},{\"level_learned_at\":0,\"move_learn_method\":{\"name\":\"machine\",\"url\":\"https://pokeapi.co/api/v2/move-learn-method/4/\"},\"version_group\":{\"name\":\"xd\",\"url\":\"https://pokeapi.co/api/v2/version-group/13/\"}},{\"level_learned_at\":0,\"move_learn_method\":{\"name\":\"machine\",\"url\":\"https://pokeapi.co/api/v2/move-learn-method/4/\"},\"version_group\":{\"name\":\"colosseum\",\"url\":\"https://pokeapi.co/api/v2/version-group/12/\"}},{\"level_learned_at\":0,\"move_learn_method\":{\"name\":\"machine\",\"url\":\"https://pokeapi.co/api/v2/move-learn-method/4/\"},\"version_group\":{\"name\":\"heartgold-soulsilver\",\"url\":\"https://pokeapi.co/api/v2/version-group/10/\"}},{\"level_learned_at\":0,\"move_learn_method\":{\"name\":\"machine\",\"url\":\"https://pokeapi.co/api/v2/move-learn-method/4/\"},\"version_group\":{\"name\":\"platinum\",\"url\":\"https://pokeapi.co/api/v2/version-group/9/\"}},{\"level_learned_at\":0,\"move_learn_method\":{\"name\":\"machine\",\"url\":\"https://pokeapi.co/api/v2/move-learn-method/4/\"},\"version_group\":{\"name\":\"diamond-pearl\",\"url\":\"https://pokeapi.co/api/v2/version-group/8/\"}},{\"level_learned_at\":0,\"move_learn_method\":{\"name\":\"machine\",\"url\":\"https://pokeapi.co/api/v2/move-learn-method/4/\"},\"version_group\":{\"name\":\"firered-leafgreen\",\"url\":\"https://pokeapi.co/api/v2/version-group/7/\"}},{\"level_learned_at\":0,\"move_learn_method\":{\"name\":\"machine\",\"url\":\"https://pokeapi.co/api/v2/move-learn-method/4/\"},\"version_group\":{\"name\":\"emerald\",\"url\":\"https://pokeapi.co/api/v2/version-group/6/\"}},{\"level_learned_at\":0,\"move_learn_method\":{\"name\":\"machine\",\"url\":\"https://pokeapi.co/api/v2/move-learn-method/4/\"},\"version_group\":{\"name\":\"black-white\",\"url\":\"https://pokeapi.co/api/v2/version-group/11/\"}},{\"level_learned_at\":0,\"move_learn_method\":{\"name\":\"machine\",\"url\":\"https://pokeapi.co/api/v2/move-learn-method/4/\"},\"version_group\":{\"name\":\"ruby-sapphire\",\"url\":\"https://pokeapi.co/api/v2/version-group/5/\"}}]},{\"move\":{\"name\":\"counter\",\"url\":\"https://pokeapi.co/api/v2/move/68/\"},\"version_group_details\":[{\"level_learned_at\":0,\"move_learn_method\":{\"name\":\"tutor\",\"url\":\"https://pokeapi.co/api/v2/move-learn-method/3/\"},\"version_group\":{\"name\":\"emerald\",\"url\":\"https://pokeapi.co/api/v2/version-group/6/\"}},{\"level_learned_at\":0,\"move_learn_method\":{\"name\":\"tutor\",\"url\":\"https://pokeapi.co/api/v2/move-learn-method/3/\"},\"version_group\":{\"name\":\"firered-leafgreen\",\"url\":\"https://pokeapi.co/api/v2/version-group/7/\"}}]},{\"move\":{\"name\":\"seismic-toss\",\"url\":\"https://pokeapi.co/api/v2/move/69/\"},\"version_group_details\":[{\"level_learned_at\":0,\"move_learn_method\":{\"name\":\"tutor\",\"url\":\"https://pokeapi.co/api/v2/move-learn-method/3/\"},\"version_group\":{\"name\":\"emerald\",\"url\":\"https://pokeapi.co/api/v2/version-group/6/\"}},{\"level_learned_at\":0,\"move_learn_method\":{\"name\":\"tutor\",\"url\":\"https://pokeapi.co/api/v2/move-learn-method/3/\"},\"version_group\":{\"name\":\"firered-leafgreen\",\"url\":\"https://pokeapi.co/api/v2/version-group/7/\"}},{\"level_learned_at\":0,\"move_learn_method\":{\"name\":\"tutor\",\"url\":\"https://pokeapi.co/api/v2/move-learn-method/3/\"},\"version_group\":{\"name\":\"xd\",\"url\":\"https://pokeapi.co/api/v2/version-group/13/\"}}]},{\"move\":{\"name\":\"strength\",\"url\":\"https://pokeapi.co/api/v2/move/70/\"},\"version_group_details\":[{\"level_learned_at\":0,\"move_learn_method\":{\"name\":\"machine\",\"url\":\"https://pokeapi.co/api/v2/move-learn-method/4/\"},\"version_group\":{\"name\":\"omega-ruby-alpha-sapphire\",\"url\":\"https://pokeapi.co/api/v2/version-group/16/\"}},{\"level_learned_at\":0,\"move_learn_method\":{\"name\":\"machine\",\"url\":\"https://pokeapi.co/api/v2/move-learn-method/4/\"},\"version_group\":{\"name\":\"x-y\",\"url\":\"https://pokeapi.co/api/v2/version-group/15/\"}},{\"level_learned_at\":0,\"move_learn_method\":{\"name\":\"machine\",\"url\":\"https://pokeapi.co/api/v2/move-learn-method/4/\"},\"version_group\":{\"name\":\"black-2-white-2\",\"url\":\"https://pokeapi.co/api/v2/version-group/14/\"}},{\"level_learned_at\":0,\"move_learn_method\":{\"name\":\"machine\",\"url\":\"https://pokeapi.co/api/v2/move-learn-method/4/\"},\"version_group\":{\"name\":\"xd\",\"url\":\"https://pokeapi.co/api/v2/version-group/13/\"}},{\"level_learned_at\":0,\"move_learn_method\":{\"name\":\"machine\",\"url\":\"https://pokeapi.co/api/v2/move-learn-method/4/\"},\"version_group\":{\"name\":\"colosseum\",\"url\":\"https://pokeapi.co/api/v2/version-group/12/\"}},{\"level_learned_at\":0,\"move_learn_method\":{\"name\":\"machine\",\"url\":\"https://pokeapi.co/api/v2/move-learn-method/4/\"},\"version_group\":{\"name\":\"heartgold-soulsilver\",\"url\":\"https://pokeapi.co/api/v2/version-group/10/\"}},{\"level_learned_at\":0,\"move_learn_method\":{\"name\":\"machine\",\"url\":\"https://pokeapi.co/api/v2/move-learn-method/4/\"},\"version_group\":{\"name\":\"platinum\",\"url\":\"https://pokeapi.co/api/v2/version-group/9/\"}},{\"level_learned_at\":0,\"move_learn_method\":{\"name\":\"machine\",\"url\":\"https://pokeapi.co/api/v2/move-learn-method/4/\"},\"version_group\":{\"name\":\"diamond-pearl\",\"url\":\"https://pokeapi.co/api/v2/version-group/8/\"}},{\"level_learned_at\":0,\"move_learn_method\":{\"name\":\"machine\",\"url\":\"https://pokeapi.co/api/v2/move-learn-method/4/\"},\"version_group\":{\"name\":\"firered-leafgreen\",\"url\":\"https://pokeapi.co/api/v2/version-group/7/\"}},{\"level_learned_at\":0,\"move_learn_method\":{\"name\":\"machine\",\"url\":\"https://pokeapi.co/api/v2/move-learn-method/4/\"},\"version_group\":{\"name\":\"emerald\",\"url\":\"https://pokeapi.co/api/v2/version-group/6/\"}},{\"level_learned_at\":0,\"move_learn_method\":{\"name\":\"machine\",\"url\":\"https://pokeapi.co/api/v2/move-learn-method/4/\"},\"version_group\":{\"name\":\"black-white\",\"url\":\"https://pokeapi.co/api/v2/version-group/11/\"}},{\"level_learned_at\":0,\"move_learn_method\":{\"name\":\"machine\",\"url\":\"https://pokeapi.co/api/v2/move-learn-method/4/\"},\"version_group\":{\"name\":\"ruby-sapphire\",\"url\":\"https://pokeapi.co/api/v2/version-group/5/\"}}]},{\"move\":{\"name\":\"solar-beam\",\"url\":\"https://pokeapi.co/api/v2/move/76/\"},\"version_group_details\":[{\"level_learned_at\":0,\"move_learn_method\":{\"name\":\"machine\",\"url\":\"https://pokeapi.co/api/v2/move-learn-method/4/\"},\"version_group\":{\"name\":\"ultra-sun-ultra-moon\",\"url\":\"https://pokeapi.co/api/v2/version-group/18/\"}},{\"level_learned_at\":60,\"move_learn_method\":{\"name\":\"level-up\",\"url\":\"https://pokeapi.co/api/v2/move-learn-method/1/\"},\"version_group\":{\"name\":\"ultra-sun-ultra-moon\",\"url\":\"https://pokeapi.co/api/v2/version-group/18/\"}},{\"level_learned_at\":0,\"move_learn_method\":{\"name\":\"machine\",\"url\":\"https://pokeapi.co/api/v2/move-learn-method/4/\"},\"version_group\":{\"name\":\"sun-moon\",\"url\":\"https://pokeapi.co/api/v2/version-group/17/\"}},{\"level_learned_at\":60,\"move_learn_method\":{\"name\":\"level-up\",\"url\":\"https://pokeapi.co/api/v2/move-learn-method/1/\"},\"version_group\":{\"name\":\"sun-moon\",\"url\":\"https://pokeapi.co/api/v2/version-group/17/\"}},{\"level_learned_at\":0,\"move_learn_method\":{\"name\":\"machine\",\"url\":\"https://pokeapi.co/api/v2/move-learn-method/4/\"},\"version_group\":{\"name\":\"omega-ruby-alpha-sapphire\",\"url\":\"https://pokeapi.co/api/v2/version-group/16/\"}},{\"level_learned_at\":60,\"move_learn_method\":{\"name\":\"level-up\",\"url\":\"https://pokeapi.co/api/v2/move-learn-method/1/\"},\"version_group\":{\"name\":\"omega-ruby-alpha-sapphire\",\"url\":\"https://pokeapi.co/api/v2/version-group/16/\"}},{\"level_learned_at\":0,\"move_learn_method\":{\"name\":\"machine\",\"url\":\"https://pokeapi.co/api/v2/move-learn-method/4/\"},\"version_group\":{\"name\":\"x-y\",\"url\":\"https://pokeapi.co/api/v2/version-group/15/\"}},{\"level_learned_at\":80,\"move_learn_method\":{\"name\":\"level-up\",\"url\":\"https://pokeapi.co/api/v2/move-learn-method/1/\"},\"version_group\":{\"name\":\"x-y\",\"url\":\"https://pokeapi.co/api/v2/version-group/15/\"}},{\"level_learned_at\":0,\"move_learn_method\":{\"name\":\"machine\",\"url\":\"https://pokeapi.co/api/v2/move-learn-method/4/\"},\"version_group\":{\"name\":\"black-2-white-2\",\"url\":\"https://pokeapi.co/api/v2/version-group/14/\"}},{\"level_learned_at\":80,\"move_learn_method\":{\"name\":\"level-up\",\"url\":\"https://pokeapi.co/api/v2/move-learn-method/1/\"},\"version_group\":{\"name\":\"black-2-white-2\",\"url\":\"https://pokeapi.co/api/v2/version-group/14/\"}},{\"level_learned_at\":0,\"move_learn_method\":{\"name\":\"machine\",\"url\":\"https://pokeapi.co/api/v2/move-learn-method/4/\"},\"version_group\":{\"name\":\"xd\",\"url\":\"https://pokeapi.co/api/v2/version-group/13/\"}},{\"level_learned_at\":65,\"move_learn_method\":{\"name\":\"level-up\",\"url\":\"https://pokeapi.co/api/v2/move-learn-method/1/\"},\"version_group\":{\"name\":\"xd\",\"url\":\"https://pokeapi.co/api/v2/version-group/13/\"}},{\"level_learned_at\":0,\"move_learn_method\":{\"name\":\"machine\",\"url\":\"https://pokeapi.co/api/v2/move-learn-method/4/\"},\"version_group\":{\"name\":\"colosseum\",\"url\":\"https://pokeapi.co/api/v2/version-group/12/\"}},{\"level_learned_at\":65,\"move_learn_method\":{\"name\":\"level-up\",\"url\":\"https://pokeapi.co/api/v2/move-learn-method/1/\"},\"version_group\":{\"name\":\"colosseum\",\"url\":\"https://pokeapi.co/api/v2/version-group/12/\"}},{\"level_learned_at\":0,\"move_learn_method\":{\"name\":\"machine\",\"url\":\"https://pokeapi.co/api/v2/move-learn-method/4/\"},\"version_group\":{\"name\":\"heartgold-soulsilver\",\"url\":\"https://pokeapi.co/api/v2/version-group/10/\"}},{\"level_learned_at\":80,\"move_learn_method\":{\"name\":\"level-up\",\"url\":\"https://pokeapi.co/api/v2/move-learn-method/1/\"},\"version_group\":{\"name\":\"heartgold-soulsilver\",\"url\":\"https://pokeapi.co/api/v2/version-group/10/\"}},{\"level_learned_at\":0,\"move_learn_method\":{\"name\":\"machine\",\"url\":\"https://pokeapi.co/api/v2/move-learn-method/4/\"},\"version_group\":{\"name\":\"platinum\",\"url\":\"https://pokeapi.co/api/v2/version-group/9/\"}},{\"level_learned_at\":65,\"move_learn_method\":{\"name\":\"level-up\",\"url\":\"https://pokeapi.co/api/v2/move-learn-method/1/\"},\"version_group\":{\"name\":\"platinum\",\"url\":\"https://pokeapi.co/api/v2/version-group/9/\"}},{\"level_learned_at\":0,\"move_learn_method\":{\"name\":\"machine\",\"url\":\"https://pokeapi.co/api/v2/move-learn-method/4/\"},\"version_group\":{\"name\":\"diamond-pearl\",\"url\":\"https://pokeapi.co/api/v2/version-group/8/\"}},{\"level_learned_at\":65,\"move_learn_method\":{\"name\":\"level-up\",\"url\":\"https://pokeapi.co/api/v2/move-learn-method/1/\"},\"version_group\":{\"name\":\"diamond-pearl\",\"url\":\"https://pokeapi.co/api/v2/version-group/8/\"}},{\"level_learned_at\":0,\"move_learn_method\":{\"name\":\"machine\",\"url\":\"https://pokeapi.co/api/v2/move-learn-method/4/\"},\"version_group\":{\"name\":\"firered-leafgreen\",\"url\":\"https://pokeapi.co/api/v2/version-group/7/\"}},{\"level_learned_at\":65,\"move_learn_method\":{\"name\":\"level-up\",\"url\":\"https://pokeapi.co/api/v2/move-learn-method/1/\"},\"version_group\":{\"name\":\"firered-leafgreen\",\"url\":\"https://pokeapi.co/api/v2/version-group/7/\"}},{\"level_learned_at\":0,\"move_learn_method\":{\"name\":\"machine\",\"url\":\"https://pokeapi.co/api/v2/move-learn-method/4/\"},\"version_group\":{\"name\":\"emerald\",\"url\":\"https://pokeapi.co/api/v2/version-group/6/\"}},{\"level_learned_at\":65,\"move_learn_method\":{\"name\":\"level-up\",\"url\":\"https://pokeapi.co/api/v2/move-learn-method/1/\"},\"version_group\":{\"name\":\"emerald\",\"url\":\"https://pokeapi.co/api/v2/version-group/6/\"}},{\"level_learned_at\":0,\"move_learn_method\":{\"name\":\"machine\",\"url\":\"https://pokeapi.co/api/v2/move-learn-method/4/\"},\"version_group\":{\"name\":\"black-white\",\"url\":\"https://pokeapi.co/api/v2/version-group/11/\"}},{\"level_learned_at\":80,\"move_learn_method\":{\"name\":\"level-up\",\"url\":\"https://pokeapi.co/api/v2/move-learn-method/1/\"},\"version_group\":{\"name\":\"black-white\",\"url\":\"https://pokeapi.co/api/v2/version-group/11/\"}},{\"level_learned_at\":0,\"move_learn_method\":{\"name\":\"machine\",\"url\":\"https://pokeapi.co/api/v2/move-learn-method/4/\"},\"version_group\":{\"name\":\"ruby-sapphire\",\"url\":\"https://pokeapi.co/api/v2/version-group/5/\"}},{\"level_learned_at\":65,\"move_learn_method\":{\"name\":\"level-up\",\"url\":\"https://pokeapi.co/api/v2/move-learn-method/1/\"},\"version_group\":{\"name\":\"ruby-sapphire\",\"url\":\"https://pokeapi.co/api/v2/version-group/5/\"}}]},{\"move\":{\"name\":\"thunderbolt\",\"url\":\"https://pokeapi.co/api/v2/move/85/\"},\"version_group_details\":[{\"level_learned_at\":0,\"move_learn_method\":{\"name\":\"machine\",\"url\":\"https://pokeapi.co/api/v2/move-learn-method/4/\"},\"version_group\":{\"name\":\"ultra-sun-ultra-moon\",\"url\":\"https://pokeapi.co/api/v2/version-group/18/\"}},{\"level_learned_at\":0,\"move_learn_method\":{\"name\":\"machine\",\"url\":\"https://pokeapi.co/api/v2/move-learn-method/4/\"},\"version_group\":{\"name\":\"sun-moon\",\"url\":\"https://pokeapi.co/api/v2/version-group/17/\"}},{\"level_learned_at\":0,\"move_learn_method\":{\"name\":\"machine\",\"url\":\"https://pokeapi.co/api/v2/move-learn-method/4/\"},\"version_group\":{\"name\":\"omega-ruby-alpha-sapphire\",\"url\":\"https://pokeapi.co/api/v2/version-group/16/\"}},{\"level_learned_at\":0,\"move_learn_method\":{\"name\":\"machine\",\"url\":\"https://pokeapi.co/api/v2/move-learn-method/4/\"},\"version_group\":{\"name\":\"x-y\",\"url\":\"https://pokeapi.co/api/v2/version-group/15/\"}},{\"level_learned_at\":0,\"move_learn_method\":{\"name\":\"machine\",\"url\":\"https://pokeapi.co/api/v2/move-learn-method/4/\"},\"version_group\":{\"name\":\"black-2-white-2\",\"url\":\"https://pokeapi.co/api/v2/version-group/14/\"}},{\"level_learned_at\":0,\"move_learn_method\":{\"name\":\"machine\",\"url\":\"https://pokeapi.co/api/v2/move-learn-method/4/\"},\"version_group\":{\"name\":\"xd\",\"url\":\"https://pokeapi.co/api/v2/version-group/13/\"}},{\"level_learned_at\":0,\"move_learn_method\":{\"name\":\"machine\",\"url\":\"https://pokeapi.co/api/v2/move-learn-method/4/\"},\"version_group\":{\"name\":\"colosseum\",\"url\":\"https://pokeapi.co/api/v2/version-group/12/\"}},{\"level_learned_at\":0,\"move_learn_method\":{\"name\":\"machine\",\"url\":\"https://pokeapi.co/api/v2/move-learn-method/4/\"},\"version_group\":{\"name\":\"heartgold-soulsilver\",\"url\":\"https://pokeapi.co/api/v2/version-group/10/\"}},{\"level_learned_at\":0,\"move_learn_method\":{\"name\":\"machine\",\"url\":\"https://pokeapi.co/api/v2/move-learn-method/4/\"},\"version_group\":{\"name\":\"platinum\",\"url\":\"https://pokeapi.co/api/v2/version-group/9/\"}},{\"level_learned_at\":0,\"move_learn_method\":{\"name\":\"machine\",\"url\":\"https://pokeapi.co/api/v2/move-learn-method/4/\"},\"version_group\":{\"name\":\"diamond-pearl\",\"url\":\"https://pokeapi.co/api/v2/version-group/8/\"}},{\"level_learned_at\":0,\"move_learn_method\":{\"name\":\"machine\",\"url\":\"https://pokeapi.co/api/v2/move-learn-method/4/\"},\"version_group\":{\"name\":\"firered-leafgreen\",\"url\":\"https://pokeapi.co/api/v2/version-group/7/\"}},{\"level_learned_at\":0,\"move_learn_method\":{\"name\":\"machine\",\"url\":\"https://pokeapi.co/api/v2/move-learn-method/4/\"},\"version_group\":{\"name\":\"emerald\",\"url\":\"https://pokeapi.co/api/v2/version-group/6/\"}},{\"level_learned_at\":0,\"move_learn_method\":{\"name\":\"machine\",\"url\":\"https://pokeapi.co/api/v2/move-learn-method/4/\"},\"version_group\":{\"name\":\"black-white\",\"url\":\"https://pokeapi.co/api/v2/version-group/11/\"}},{\"level_learned_at\":0,\"move_learn_method\":{\"name\":\"machine\",\"url\":\"https://pokeapi.co/api/v2/move-learn-method/4/\"},\"version_group\":{\"name\":\"ruby-sapphire\",\"url\":\"https://pokeapi.co/api/v2/version-group/5/\"}}]},{\"move\":{\"name\":\"thunder-wave\",\"url\":\"https://pokeapi.co/api/v2/move/86/\"},\"version_group_details\":[{\"level_learned_at\":0,\"move_learn_method\":{\"name\":\"machine\",\"url\":\"https://pokeapi.co/api/v2/move-learn-method/4/\"},\"version_group\":{\"name\":\"ultra-sun-ultra-moon\",\"url\":\"https://pokeapi.co/api/v2/version-group/18/\"}},{\"level_learned_at\":0,\"move_learn_method\":{\"name\":\"machine\",\"url\":\"https://pokeapi.co/api/v2/move-learn-method/4/\"},\"version_group\":{\"name\":\"sun-moon\",\"url\":\"https://pokeapi.co/api/v2/version-group/17/\"}},{\"level_learned_at\":0,\"move_learn_method\":{\"name\":\"machine\",\"url\":\"https://pokeapi.co/api/v2/move-learn-method/4/\"},\"version_group\":{\"name\":\"omega-ruby-alpha-sapphire\",\"url\":\"https://pokeapi.co/api/v2/version-group/16/\"}},{\"level_learned_at\":0,\"move_learn_method\":{\"name\":\"machine\",\"url\":\"https://pokeapi.co/api/v2/move-learn-method/4/\"},\"version_group\":{\"name\":\"x-y\",\"url\":\"https://pokeapi.co/api/v2/version-group/15/\"}},{\"level_learned_at\":0,\"move_learn_method\":{\"name\":\"machine\",\"url\":\"https://pokeapi.co/api/v2/move-learn-method/4/\"},\"version_group\":{\"name\":\"black-2-white-2\",\"url\":\"https://pokeapi.co/api/v2/version-group/14/\"}},{\"level_learned_at\":0,\"move_learn_method\":{\"name\":\"tutor\",\"url\":\"https://pokeapi.co/api/v2/move-learn-method/3/\"},\"version_group\":{\"name\":\"xd\",\"url\":\"https://pokeapi.co/api/v2/version-group/13/\"}},{\"level_learned_at\":0,\"move_learn_method\":{\"name\":\"machine\",\"url\":\"https://pokeapi.co/api/v2/move-learn-method/4/\"},\"version_group\":{\"name\":\"heartgold-soulsilver\",\"url\":\"https://pokeapi.co/api/v2/version-group/10/\"}},{\"level_learned_at\":0,\"move_learn_method\":{\"name\":\"machine\",\"url\":\"https://pokeapi.co/api/v2/move-learn-method/4/\"},\"version_group\":{\"name\":\"platinum\",\"url\":\"https://pokeapi.co/api/v2/version-group/9/\"}},{\"level_learned_at\":0,\"move_learn_method\":{\"name\":\"machine\",\"url\":\"https://pokeapi.co/api/v2/move-learn-method/4/\"},\"version_group\":{\"name\":\"diamond-pearl\",\"url\":\"https://pokeapi.co/api/v2/version-group/8/\"}},{\"level_learned_at\":0,\"move_learn_method\":{\"name\":\"tutor\",\"url\":\"https://pokeapi.co/api/v2/move-learn-method/3/\"},\"version_group\":{\"name\":\"firered-leafgreen\",\"url\":\"https://pokeapi.co/api/v2/version-group/7/\"}},{\"level_learned_at\":0,\"move_learn_method\":{\"name\":\"tutor\",\"url\":\"https://pokeapi.co/api/v2/move-learn-method/3/\"},\"version_group\":{\"name\":\"emerald\",\"url\":\"https://pokeapi.co/api/v2/version-group/6/\"}},{\"level_learned_at\":0,\"move_learn_method\":{\"name\":\"machine\",\"url\":\"https://pokeapi.co/api/v2/move-learn-method/4/\"},\"version_group\":{\"name\":\"black-white\",\"url\":\"https://pokeapi.co/api/v2/version-group/11/\"}}]},{\"move\":{\"name\":\"thunder\",\"url\":\"https://pokeapi.co/api/v2/move/87/\"},\"version_group_details\":[{\"level_learned_at\":0,\"move_learn_method\":{\"name\":\"machine\",\"url\":\"https://pokeapi.co/api/v2/move-learn-method/4/\"},\"version_group\":{\"name\":\"ultra-sun-ultra-moon\",\"url\":\"https://pokeapi.co/api/v2/version-group/18/\"}},{\"level_learned_at\":0,\"move_learn_method\":{\"name\":\"machine\",\"url\":\"https://pokeapi.co/api/v2/move-learn-method/4/\"},\"version_group\":{\"name\":\"sun-moon\",\"url\":\"https://pokeapi.co/api/v2/version-group/17/\"}},{\"level_learned_at\":0,\"move_learn_method\":{\"name\":\"machine\",\"url\":\"https://pokeapi.co/api/v2/move-learn-method/4/\"},\"version_group\":{\"name\":\"omega-ruby-alpha-sapphire\",\"url\":\"https://pokeapi.co/api/v2/version-group/16/\"}},{\"level_learned_at\":0,\"move_learn_method\":{\"name\":\"machine\",\"url\":\"https://pokeapi.co/api/v2/move-learn-method/4/\"},\"version_group\":{\"name\":\"x-y\",\"url\":\"https://pokeapi.co/api/v2/version-group/15/\"}},{\"level_learned_at\":0,\"move_learn_method\":{\"name\":\"machine\",\"url\":\"https://pokeapi.co/api/v2/move-learn-method/4/\"},\"version_group\":{\"name\":\"black-2-white-2\",\"url\":\"https://pokeapi.co/api/v2/version-group/14/\"}},{\"level_learned_at\":0,\"move_learn_method\":{\"name\":\"machine\",\"url\":\"https://pokeapi.co/api/v2/move-learn-method/4/\"},\"version_group\":{\"name\":\"xd\",\"url\":\"https://pokeapi.co/api/v2/version-group/13/\"}},{\"level_learned_at\":0,\"move_learn_method\":{\"name\":\"machine\",\"url\":\"https://pokeapi.co/api/v2/move-learn-method/4/\"},\"version_group\":{\"name\":\"colosseum\",\"url\":\"https://pokeapi.co/api/v2/version-group/12/\"}},{\"level_learned_at\":0,\"move_learn_method\":{\"name\":\"machine\",\"url\":\"https://pokeapi.co/api/v2/move-learn-method/4/\"},\"version_group\":{\"name\":\"heartgold-soulsilver\",\"url\":\"https://pokeapi.co/api/v2/version-group/10/\"}},{\"level_learned_at\":0,\"move_learn_method\":{\"name\":\"machine\",\"url\":\"https://pokeapi.co/api/v2/move-learn-method/4/\"},\"version_group\":{\"name\":\"platinum\",\"url\":\"https://pokeapi.co/api/v2/version-group/9/\"}},{\"level_learned_at\":0,\"move_learn_method\":{\"name\":\"machine\",\"url\":\"https://pokeapi.co/api/v2/move-learn-method/4/\"},\"version_group\":{\"name\":\"diamond-pearl\",\"url\":\"https://pokeapi.co/api/v2/version-group/8/\"}},{\"level_learned_at\":0,\"move_learn_method\":{\"name\":\"machine\",\"url\":\"https://pokeapi.co/api/v2/move-learn-method/4/\"},\"version_group\":{\"name\":\"firered-leafgreen\",\"url\":\"https://pokeapi.co/api/v2/version-group/7/\"}},{\"level_learned_at\":0,\"move_learn_method\":{\"name\":\"machine\",\"url\":\"https://pokeapi.co/api/v2/move-learn-method/4/\"},\"version_group\":{\"name\":\"emerald\",\"url\":\"https://pokeapi.co/api/v2/version-group/6/\"}},{\"level_learned_at\":0,\"move_learn_method\":{\"name\":\"machine\",\"url\":\"https://pokeapi.co/api/v2/move-learn-method/4/\"},\"version_group\":{\"name\":\"black-white\",\"url\":\"https://pokeapi.co/api/v2/version-group/11/\"}},{\"level_learned_at\":0,\"move_learn_method\":{\"name\":\"machine\",\"url\":\"https://pokeapi.co/api/v2/move-learn-method/4/\"},\"version_group\":{\"name\":\"ruby-sapphire\",\"url\":\"https://pokeapi.co/api/v2/version-group/5/\"}}]},{\"move\":{\"name\":\"earthquake\",\"url\":\"https://pokeapi.co/api/v2/move/89/\"},\"version_group_details\":[{\"level_learned_at\":0,\"move_learn_method\":{\"name\":\"machine\",\"url\":\"https://pokeapi.co/api/v2/move-learn-method/4/\"},\"version_group\":{\"name\":\"ultra-sun-ultra-moon\",\"url\":\"https://pokeapi.co/api/v2/version-group/18/\"}},{\"level_learned_at\":35,\"move_learn_method\":{\"name\":\"level-up\",\"url\":\"https://pokeapi.co/api/v2/move-learn-method/1/\"},\"version_group\":{\"name\":\"ultra-sun-ultra-moon\",\"url\":\"https://pokeapi.co/api/v2/version-group/18/\"}},{\"level_learned_at\":0,\"move_learn_method\":{\"name\":\"machine\",\"url\":\"https://pokeapi.co/api/v2/move-learn-method/4/\"},\"version_group\":{\"name\":\"sun-moon\",\"url\":\"https://pokeapi.co/api/v2/version-group/17/\"}},{\"level_learned_at\":35,\"move_learn_method\":{\"name\":\"level-up\",\"url\":\"https://pokeapi.co/api/v2/move-learn-method/1/\"},\"version_group\":{\"name\":\"sun-moon\",\"url\":\"https://pokeapi.co/api/v2/version-group/17/\"}},{\"level_learned_at\":0,\"move_learn_method\":{\"name\":\"machine\",\"url\":\"https://pokeapi.co/api/v2/move-learn-method/4/\"},\"version_group\":{\"name\":\"omega-ruby-alpha-sapphire\",\"url\":\"https://pokeapi.co/api/v2/version-group/16/\"}},{\"level_learned_at\":35,\"move_learn_method\":{\"name\":\"level-up\",\"url\":\"https://pokeapi.co/api/v2/move-learn-method/1/\"},\"version_group\":{\"name\":\"omega-ruby-alpha-sapphire\",\"url\":\"https://pokeapi.co/api/v2/version-group/16/\"}},{\"level_learned_at\":0,\"move_learn_method\":{\"name\":\"machine\",\"url\":\"https://pokeapi.co/api/v2/move-learn-method/4/\"},\"version_group\":{\"name\":\"x-y\",\"url\":\"https://pokeapi.co/api/v2/version-group/15/\"}},{\"level_learned_at\":35,\"move_learn_method\":{\"name\":\"level-up\",\"url\":\"https://pokeapi.co/api/v2/move-learn-method/1/\"},\"version_group\":{\"name\":\"x-y\",\"url\":\"https://pokeapi.co/api/v2/version-group/15/\"}},{\"level_learned_at\":0,\"move_learn_method\":{\"name\":\"machine\",\"url\":\"https://pokeapi.co/api/v2/move-learn-method/4/\"},\"version_group\":{\"name\":\"black-2-white-2\",\"url\":\"https://pokeapi.co/api/v2/version-group/14/\"}},{\"level_learned_at\":35,\"move_learn_method\":{\"name\":\"level-up\",\"url\":\"https://pokeapi.co/api/v2/move-learn-method/1/\"},\"version_group\":{\"name\":\"black-2-white-2\",\"url\":\"https://pokeapi.co/api/v2/version-group/14/\"}},{\"level_learned_at\":0,\"move_learn_method\":{\"name\":\"machine\",\"url\":\"https://pokeapi.co/api/v2/move-learn-method/4/\"},\"version_group\":{\"name\":\"xd\",\"url\":\"https://pokeapi.co/api/v2/version-group/13/\"}},{\"level_learned_at\":35,\"move_learn_method\":{\"name\":\"level-up\",\"url\":\"https://pokeapi.co/api/v2/move-learn-method/1/\"},\"version_group\":{\"name\":\"xd\",\"url\":\"https://pokeapi.co/api/v2/version-group/13/\"}},{\"level_learned_at\":0,\"move_learn_method\":{\"name\":\"machine\",\"url\":\"https://pokeapi.co/api/v2/move-learn-method/4/\"},\"version_group\":{\"name\":\"colosseum\",\"url\":\"https://pokeapi.co/api/v2/version-group/12/\"}},{\"level_learned_at\":35,\"move_learn_method\":{\"name\":\"level-up\",\"url\":\"https://pokeapi.co/api/v2/move-learn-method/1/\"},\"version_group\":{\"name\":\"colosseum\",\"url\":\"https://pokeapi.co/api/v2/version-group/12/\"}},{\"level_learned_at\":0,\"move_learn_method\":{\"name\":\"machine\",\"url\":\"https://pokeapi.co/api/v2/move-learn-method/4/\"},\"version_group\":{\"name\":\"heartgold-soulsilver\",\"url\":\"https://pokeapi.co/api/v2/version-group/10/\"}},{\"level_learned_at\":35,\"move_learn_method\":{\"name\":\"level-up\",\"url\":\"https://pokeapi.co/api/v2/move-learn-method/1/\"},\"version_group\":{\"name\":\"heartgold-soulsilver\",\"url\":\"https://pokeapi.co/api/v2/version-group/10/\"}},{\"level_learned_at\":0,\"move_learn_method\":{\"name\":\"machine\",\"url\":\"https://pokeapi.co/api/v2/move-learn-method/4/\"},\"version_group\":{\"name\":\"platinum\",\"url\":\"https://pokeapi.co/api/v2/version-group/9/\"}},{\"level_learned_at\":35,\"move_learn_method\":{\"name\":\"level-up\",\"url\":\"https://pokeapi.co/api/v2/move-learn-method/1/\"},\"version_group\":{\"name\":\"platinum\",\"url\":\"https://pokeapi.co/api/v2/version-group/9/\"}},{\"level_learned_at\":0,\"move_learn_method\":{\"name\":\"machine\",\"url\":\"https://pokeapi.co/api/v2/move-learn-method/4/\"},\"version_group\":{\"name\":\"diamond-pearl\",\"url\":\"https://pokeapi.co/api/v2/version-group/8/\"}},{\"level_learned_at\":35,\"move_learn_method\":{\"name\":\"level-up\",\"url\":\"https://pokeapi.co/api/v2/move-learn-method/1/\"},\"version_group\":{\"name\":\"diamond-pearl\",\"url\":\"https://pokeapi.co/api/v2/version-group/8/\"}},{\"level_learned_at\":0,\"move_learn_method\":{\"name\":\"machine\",\"url\":\"https://pokeapi.co/api/v2/move-learn-method/4/\"},\"version_group\":{\"name\":\"firered-leafgreen\",\"url\":\"https://pokeapi.co/api/v2/version-group/7/\"}},{\"level_learned_at\":35,\"move_learn_method\":{\"name\":\"level-up\",\"url\":\"https://pokeapi.co/api/v2/move-learn-method/1/\"},\"version_group\":{\"name\":\"firered-leafgreen\",\"url\":\"https://pokeapi.co/api/v2/version-group/7/\"}},{\"level_learned_at\":0,\"move_learn_method\":{\"name\":\"machine\",\"url\":\"https://pokeapi.co/api/v2/move-learn-method/4/\"},\"version_group\":{\"name\":\"emerald\",\"url\":\"https://pokeapi.co/api/v2/version-group/6/\"}},{\"level_learned_at\":35,\"move_learn_method\":{\"name\":\"level-up\",\"url\":\"https://pokeapi.co/api/v2/move-learn-method/1/\"},\"version_group\":{\"name\":\"emerald\",\"url\":\"https://pokeapi.co/api/v2/version-group/6/\"}},{\"level_learned_at\":0,\"move_learn_method\":{\"name\":\"machine\",\"url\":\"https://pokeapi.co/api/v2/move-learn-method/4/\"},\"version_group\":{\"name\":\"black-white\",\"url\":\"https://pokeapi.co/api/v2/version-group/11/\"}},{\"level_learned_at\":35,\"move_learn_method\":{\"name\":\"level-up\",\"url\":\"https://pokeapi.co/api/v2/move-learn-method/1/\"},\"version_group\":{\"name\":\"black-white\",\"url\":\"https://pokeapi.co/api/v2/version-group/11/\"}},{\"level_learned_at\":0,\"move_learn_method\":{\"name\":\"machine\",\"url\":\"https://pokeapi.co/api/v2/move-learn-method/4/\"},\"version_group\":{\"name\":\"ruby-sapphire\",\"url\":\"https://pokeapi.co/api/v2/version-group/5/\"}},{\"level_learned_at\":35,\"move_learn_method\":{\"name\":\"level-up\",\"url\":\"https://pokeapi.co/api/v2/move-learn-method/1/\"},\"version_group\":{\"name\":\"ruby-sapphire\",\"url\":\"https://pokeapi.co/api/v2/version-group/5/\"}}]},{\"move\":{\"name\":\"fissure\",\"url\":\"https://pokeapi.co/api/v2/move/90/\"},\"version_group_details\":[{\"level_learned_at\":60,\"move_learn_method\":{\"name\":\"level-up\",\"url\":\"https://pokeapi.co/api/v2/move-learn-method/1/\"},\"version_group\":{\"name\":\"ruby-sapphire\",\"url\":\"https://pokeapi.co/api/v2/version-group/5/\"}},{\"level_learned_at\":60,\"move_learn_method\":{\"name\":\"level-up\",\"url\":\"https://pokeapi.co/api/v2/move-learn-method/1/\"},\"version_group\":{\"name\":\"emerald\",\"url\":\"https://pokeapi.co/api/v2/version-group/6/\"}},{\"level_learned_at\":60,\"move_learn_method\":{\"name\":\"level-up\",\"url\":\"https://pokeapi.co/api/v2/move-learn-method/1/\"},\"version_group\":{\"name\":\"firered-leafgreen\",\"url\":\"https://pokeapi.co/api/v2/version-group/7/\"}},{\"level_learned_at\":60,\"move_learn_method\":{\"name\":\"level-up\",\"url\":\"https://pokeapi.co/api/v2/move-learn-method/1/\"},\"version_group\":{\"name\":\"diamond-pearl\",\"url\":\"https://pokeapi.co/api/v2/version-group/8/\"}},{\"level_learned_at\":60,\"move_learn_method\":{\"name\":\"level-up\",\"url\":\"https://pokeapi.co/api/v2/move-learn-method/1/\"},\"version_group\":{\"name\":\"platinum\",\"url\":\"https://pokeapi.co/api/v2/version-group/9/\"}},{\"level_learned_at\":75,\"move_learn_method\":{\"name\":\"level-up\",\"url\":\"https://pokeapi.co/api/v2/move-learn-method/1/\"},\"version_group\":{\"name\":\"heartgold-soulsilver\",\"url\":\"https://pokeapi.co/api/v2/version-group/10/\"}},{\"level_learned_at\":75,\"move_learn_method\":{\"name\":\"level-up\",\"url\":\"https://pokeapi.co/api/v2/move-learn-method/1/\"},\"version_group\":{\"name\":\"black-white\",\"url\":\"https://pokeapi.co/api/v2/version-group/11/\"}},{\"level_learned_at\":60,\"move_learn_method\":{\"name\":\"level-up\",\"url\":\"https://pokeapi.co/api/v2/move-learn-method/1/\"},\"version_group\":{\"name\":\"colosseum\",\"url\":\"https://pokeapi.co/api/v2/version-group/12/\"}},{\"level_learned_at\":60,\"move_learn_method\":{\"name\":\"level-up\",\"url\":\"https://pokeapi.co/api/v2/move-learn-method/1/\"},\"version_group\":{\"name\":\"xd\",\"url\":\"https://pokeapi.co/api/v2/version-group/13/\"}},{\"level_learned_at\":75,\"move_learn_method\":{\"name\":\"level-up\",\"url\":\"https://pokeapi.co/api/v2/move-learn-method/1/\"},\"version_group\":{\"name\":\"black-2-white-2\",\"url\":\"https://pokeapi.co/api/v2/version-group/14/\"}},{\"level_learned_at\":75,\"move_learn_method\":{\"name\":\"level-up\",\"url\":\"https://pokeapi.co/api/v2/move-learn-method/1/\"},\"version_group\":{\"name\":\"x-y\",\"url\":\"https://pokeapi.co/api/v2/version-group/15/\"}},{\"level_learned_at\":65,\"move_learn_method\":{\"name\":\"level-up\",\"url\":\"https://pokeapi.co/api/v2/move-learn-method/1/\"},\"version_group\":{\"name\":\"omega-ruby-alpha-sapphire\",\"url\":\"https://pokeapi.co/api/v2/version-group/16/\"}},{\"level_learned_at\":65,\"move_learn_method\":{\"name\":\"level-up\",\"url\":\"https://pokeapi.co/api/v2/move-learn-method/1/\"},\"version_group\":{\"name\":\"sun-moon\",\"url\":\"https://pokeapi.co/api/v2/version-group/17/\"}},{\"level_learned_at\":65,\"move_learn_method\":{\"name\":\"level-up\",\"url\":\"https://pokeapi.co/api/v2/move-learn-method/1/\"},\"version_group\":{\"name\":\"ultra-sun-ultra-moon\",\"url\":\"https://pokeapi.co/api/v2/version-group/18/\"}}]},{\"move\":{\"name\":\"dig\",\"url\":\"https://pokeapi.co/api/v2/move/91/\"},\"version_group_details\":[{\"level_learned_at\":0,\"move_learn_method\":{\"name\":\"machine\",\"url\":\"https://pokeapi.co/api/v2/move-learn-method/4/\"},\"version_group\":{\"name\":\"omega-ruby-alpha-sapphire\",\"url\":\"https://pokeapi.co/api/v2/version-group/16/\"}},{\"level_learned_at\":0,\"move_learn_method\":{\"name\":\"machine\",\"url\":\"https://pokeapi.co/api/v2/move-learn-method/4/\"},\"version_group\":{\"name\":\"x-y\",\"url\":\"https://pokeapi.co/api/v2/version-group/15/\"}},{\"level_learned_at\":0,\"move_learn_method\":{\"name\":\"machine\",\"url\":\"https://pokeapi.co/api/v2/move-learn-method/4/\"},\"version_group\":{\"name\":\"black-2-white-2\",\"url\":\"https://pokeapi.co/api/v2/version-group/14/\"}},{\"level_learned_at\":0,\"move_learn_method\":{\"name\":\"machine\",\"url\":\"https://pokeapi.co/api/v2/move-learn-method/4/\"},\"version_group\":{\"name\":\"xd\",\"url\":\"https://pokeapi.co/api/v2/version-group/13/\"}},{\"level_learned_at\":0,\"move_learn_method\":{\"name\":\"machine\",\"url\":\"https://pokeapi.co/api/v2/move-learn-method/4/\"},\"version_group\":{\"name\":\"colosseum\",\"url\":\"https://pokeapi.co/api/v2/version-group/12/\"}},{\"level_learned_at\":0,\"move_learn_method\":{\"name\":\"machine\",\"url\":\"https://pokeapi.co/api/v2/move-learn-method/4/\"},\"version_group\":{\"name\":\"heartgold-soulsilver\",\"url\":\"https://pokeapi.co/api/v2/version-group/10/\"}},{\"level_learned_at\":0,\"move_learn_method\":{\"name\":\"machine\",\"url\":\"https://pokeapi.co/api/v2/move-learn-method/4/\"},\"version_group\":{\"name\":\"platinum\",\"url\":\"https://pokeapi.co/api/v2/version-group/9/\"}},{\"level_learned_at\":0,\"move_learn_method\":{\"name\":\"machine\",\"url\":\"https://pokeapi.co/api/v2/move-learn-method/4/\"},\"version_group\":{\"name\":\"diamond-pearl\",\"url\":\"https://pokeapi.co/api/v2/version-group/8/\"}},{\"level_learned_at\":0,\"move_learn_method\":{\"name\":\"machine\",\"url\":\"https://pokeapi.co/api/v2/move-learn-method/4/\"},\"version_group\":{\"name\":\"firered-leafgreen\",\"url\":\"https://pokeapi.co/api/v2/version-group/7/\"}},{\"level_learned_at\":0,\"move_learn_method\":{\"name\":\"machine\",\"url\":\"https://pokeapi.co/api/v2/move-learn-method/4/\"},\"version_group\":{\"name\":\"emerald\",\"url\":\"https://pokeapi.co/api/v2/version-group/6/\"}},{\"level_learned_at\":0,\"move_learn_method\":{\"name\":\"machine\",\"url\":\"https://pokeapi.co/api/v2/move-learn-method/4/\"},\"version_group\":{\"name\":\"black-white\",\"url\":\"https://pokeapi.co/api/v2/version-group/11/\"}},{\"level_learned_at\":0,\"move_learn_method\":{\"name\":\"machine\",\"url\":\"https://pokeapi.co/api/v2/move-learn-method/4/\"},\"version_group\":{\"name\":\"ruby-sapphire\",\"url\":\"https://pokeapi.co/api/v2/version-group/5/\"}}]},{\"move\":{\"name\":\"toxic\",\"url\":\"https://pokeapi.co/api/v2/move/92/\"},\"version_group_details\":[{\"level_learned_at\":0,\"move_learn_method\":{\"name\":\"machine\",\"url\":\"https://pokeapi.co/api/v2/move-learn-method/4/\"},\"version_group\":{\"name\":\"ultra-sun-ultra-moon\",\"url\":\"https://pokeapi.co/api/v2/version-group/18/\"}},{\"level_learned_at\":0,\"move_learn_method\":{\"name\":\"machine\",\"url\":\"https://pokeapi.co/api/v2/move-learn-method/4/\"},\"version_group\":{\"name\":\"sun-moon\",\"url\":\"https://pokeapi.co/api/v2/version-group/17/\"}},{\"level_learned_at\":0,\"move_learn_method\":{\"name\":\"machine\",\"url\":\"https://pokeapi.co/api/v2/move-learn-method/4/\"},\"version_group\":{\"name\":\"omega-ruby-alpha-sapphire\",\"url\":\"https://pokeapi.co/api/v2/version-group/16/\"}},{\"level_learned_at\":0,\"move_learn_method\":{\"name\":\"machine\",\"url\":\"https://pokeapi.co/api/v2/move-learn-method/4/\"},\"version_group\":{\"name\":\"x-y\",\"url\":\"https://pokeapi.co/api/v2/version-group/15/\"}},{\"level_learned_at\":0,\"move_learn_method\":{\"name\":\"machine\",\"url\":\"https://pokeapi.co/api/v2/move-learn-method/4/\"},\"version_group\":{\"name\":\"black-2-white-2\",\"url\":\"https://pokeapi.co/api/v2/version-group/14/\"}},{\"level_learned_at\":0,\"move_learn_method\":{\"name\":\"machine\",\"url\":\"https://pokeapi.co/api/v2/move-learn-method/4/\"},\"version_group\":{\"name\":\"xd\",\"url\":\"https://pokeapi.co/api/v2/version-group/13/\"}},{\"level_learned_at\":0,\"move_learn_method\":{\"name\":\"machine\",\"url\":\"https://pokeapi.co/api/v2/move-learn-method/4/\"},\"version_group\":{\"name\":\"colosseum\",\"url\":\"https://pokeapi.co/api/v2/version-group/12/\"}},{\"level_learned_at\":0,\"move_learn_method\":{\"name\":\"machine\",\"url\":\"https://pokeapi.co/api/v2/move-learn-method/4/\"},\"version_group\":{\"name\":\"heartgold-soulsilver\",\"url\":\"https://pokeapi.co/api/v2/version-group/10/\"}},{\"level_learned_at\":0,\"move_learn_method\":{\"name\":\"machine\",\"url\":\"https://pokeapi.co/api/v2/move-learn-method/4/\"},\"version_group\":{\"name\":\"platinum\",\"url\":\"https://pokeapi.co/api/v2/version-group/9/\"}},{\"level_learned_at\":0,\"move_learn_method\":{\"name\":\"machine\",\"url\":\"https://pokeapi.co/api/v2/move-learn-method/4/\"},\"version_group\":{\"name\":\"diamond-pearl\",\"url\":\"https://pokeapi.co/api/v2/version-group/8/\"}},{\"level_learned_at\":0,\"move_learn_method\":{\"name\":\"machine\",\"url\":\"https://pokeapi.co/api/v2/move-learn-method/4/\"},\"version_group\":{\"name\":\"firered-leafgreen\",\"url\":\"https://pokeapi.co/api/v2/version-group/7/\"}},{\"level_learned_at\":0,\"move_learn_method\":{\"name\":\"machine\",\"url\":\"https://pokeapi.co/api/v2/move-learn-method/4/\"},\"version_group\":{\"name\":\"emerald\",\"url\":\"https://pokeapi.co/api/v2/version-group/6/\"}},{\"level_learned_at\":0,\"move_learn_method\":{\"name\":\"machine\",\"url\":\"https://pokeapi.co/api/v2/move-learn-method/4/\"},\"version_group\":{\"name\":\"black-white\",\"url\":\"https://pokeapi.co/api/v2/version-group/11/\"}},{\"level_learned_at\":0,\"move_learn_method\":{\"name\":\"machine\",\"url\":\"https://pokeapi.co/api/v2/move-learn-method/4/\"},\"version_group\":{\"name\":\"ruby-sapphire\",\"url\":\"https://pokeapi.co/api/v2/version-group/5/\"}}]},{\"move\":{\"name\":\"mimic\",\"url\":\"https://pokeapi.co/api/v2/move/102/\"},\"version_group_details\":[{\"level_learned_at\":0,\"move_learn_method\":{\"name\":\"tutor\",\"url\":\"https://pokeapi.co/api/v2/move-learn-method/3/\"},\"version_group\":{\"name\":\"xd\",\"url\":\"https://pokeapi.co/api/v2/version-group/13/\"}},{\"level_learned_at\":0,\"move_learn_method\":{\"name\":\"tutor\",\"url\":\"https://pokeapi.co/api/v2/move-learn-method/3/\"},\"version_group\":{\"name\":\"firered-leafgreen\",\"url\":\"https://pokeapi.co/api/v2/version-group/7/\"}},{\"level_learned_at\":0,\"move_learn_method\":{\"name\":\"tutor\",\"url\":\"https://pokeapi.co/api/v2/move-learn-method/3/\"},\"version_group\":{\"name\":\"emerald\",\"url\":\"https://pokeapi.co/api/v2/version-group/6/\"}}]},{\"move\":{\"name\":\"double-team\",\"url\":\"https://pokeapi.co/api/v2/move/104/\"},\"version_group_details\":[{\"level_learned_at\":0,\"move_learn_method\":{\"name\":\"machine\",\"url\":\"https://pokeapi.co/api/v2/move-learn-method/4/\"},\"version_group\":{\"name\":\"ultra-sun-ultra-moon\",\"url\":\"https://pokeapi.co/api/v2/version-group/18/\"}},{\"level_learned_at\":0,\"move_learn_method\":{\"name\":\"machine\",\"url\":\"https://pokeapi.co/api/v2/move-learn-method/4/\"},\"version_group\":{\"name\":\"sun-moon\",\"url\":\"https://pokeapi.co/api/v2/version-group/17/\"}},{\"level_learned_at\":0,\"move_learn_method\":{\"name\":\"machine\",\"url\":\"https://pokeapi.co/api/v2/move-learn-method/4/\"},\"version_group\":{\"name\":\"omega-ruby-alpha-sapphire\",\"url\":\"https://pokeapi.co/api/v2/version-group/16/\"}},{\"level_learned_at\":0,\"move_learn_method\":{\"name\":\"machine\",\"url\":\"https://pokeapi.co/api/v2/move-learn-method/4/\"},\"version_group\":{\"name\":\"x-y\",\"url\":\"https://pokeapi.co/api/v2/version-group/15/\"}},{\"level_learned_at\":0,\"move_learn_method\":{\"name\":\"machine\",\"url\":\"https://pokeapi.co/api/v2/move-learn-method/4/\"},\"version_group\":{\"name\":\"black-2-white-2\",\"url\":\"https://pokeapi.co/api/v2/version-group/14/\"}},{\"level_learned_at\":0,\"move_learn_method\":{\"name\":\"machine\",\"url\":\"https://pokeapi.co/api/v2/move-learn-method/4/\"},\"version_group\":{\"name\":\"xd\",\"url\":\"https://pokeapi.co/api/v2/version-group/13/\"}},{\"level_learned_at\":0,\"move_learn_method\":{\"name\":\"machine\",\"url\":\"https://pokeapi.co/api/v2/move-learn-method/4/\"},\"version_group\":{\"name\":\"colosseum\",\"url\":\"https://pokeapi.co/api/v2/version-group/12/\"}},{\"level_learned_at\":0,\"move_learn_method\":{\"name\":\"machine\",\"url\":\"https://pokeapi.co/api/v2/move-learn-method/4/\"},\"version_group\":{\"name\":\"heartgold-soulsilver\",\"url\":\"https://pokeapi.co/api/v2/version-group/10/\"}},{\"level_learned_at\":0,\"move_learn_method\":{\"name\":\"machine\",\"url\":\"https://pokeapi.co/api/v2/move-learn-method/4/\"},\"version_group\":{\"name\":\"platinum\",\"url\":\"https://pokeapi.co/api/v2/version-group/9/\"}},{\"level_learned_at\":0,\"move_learn_method\":{\"name\":\"machine\",\"url\":\"https://pokeapi.co/api/v2/move-learn-method/4/\"},\"version_group\":{\"name\":\"diamond-pearl\",\"url\":\"https://pokeapi.co/api/v2/version-group/8/\"}},{\"level_learned_at\":0,\"move_learn_method\":{\"name\":\"machine\",\"url\":\"https://pokeapi.co/api/v2/move-learn-method/4/\"},\"version_group\":{\"name\":\"firered-leafgreen\",\"url\":\"https://pokeapi.co/api/v2/version-group/7/\"}},{\"level_learned_at\":0,\"move_learn_method\":{\"name\":\"machine\",\"url\":\"https://pokeapi.co/api/v2/move-learn-method/4/\"},\"version_group\":{\"name\":\"emerald\",\"url\":\"https://pokeapi.co/api/v2/version-group/6/\"}},{\"level_learned_at\":0,\"move_learn_method\":{\"name\":\"machine\",\"url\":\"https://pokeapi.co/api/v2/move-learn-method/4/\"},\"version_group\":{\"name\":\"black-white\",\"url\":\"https://pokeapi.co/api/v2/version-group/11/\"}},{\"level_learned_at\":0,\"move_learn_method\":{\"name\":\"machine\",\"url\":\"https://pokeapi.co/api/v2/move-learn-method/4/\"},\"version_group\":{\"name\":\"ruby-sapphire\",\"url\":\"https://pokeapi.co/api/v2/version-group/5/\"}}]},{\"move\":{\"name\":\"defense-curl\",\"url\":\"https://pokeapi.co/api/v2/move/111/\"},\"version_group_details\":[{\"level_learned_at\":0,\"move_learn_method\":{\"name\":\"tutor\",\"url\":\"https://pokeapi.co/api/v2/move-learn-method/3/\"},\"version_group\":{\"name\":\"emerald\",\"url\":\"https://pokeapi.co/api/v2/version-group/6/\"}}]},{\"move\":{\"name\":\"fire-blast\",\"url\":\"https://pokeapi.co/api/v2/move/126/\"},\"version_group_details\":[{\"level_learned_at\":0,\"move_learn_method\":{\"name\":\"machine\",\"url\":\"https://pokeapi.co/api/v2/move-learn-method/4/\"},\"version_group\":{\"name\":\"ultra-sun-ultra-moon\",\"url\":\"https://pokeapi.co/api/v2/version-group/18/\"}},{\"level_learned_at\":75,\"move_learn_method\":{\"name\":\"level-up\",\"url\":\"https://pokeapi.co/api/v2/move-learn-method/1/\"},\"version_group\":{\"name\":\"ultra-sun-ultra-moon\",\"url\":\"https://pokeapi.co/api/v2/version-group/18/\"}},{\"level_learned_at\":0,\"move_learn_method\":{\"name\":\"machine\",\"url\":\"https://pokeapi.co/api/v2/move-learn-method/4/\"},\"version_group\":{\"name\":\"sun-moon\",\"url\":\"https://pokeapi.co/api/v2/version-group/17/\"}},{\"level_learned_at\":75,\"move_learn_method\":{\"name\":\"level-up\",\"url\":\"https://pokeapi.co/api/v2/move-learn-method/1/\"},\"version_group\":{\"name\":\"sun-moon\",\"url\":\"https://pokeapi.co/api/v2/version-group/17/\"}},{\"level_learned_at\":0,\"move_learn_method\":{\"name\":\"machine\",\"url\":\"https://pokeapi.co/api/v2/move-learn-method/4/\"},\"version_group\":{\"name\":\"omega-ruby-alpha-sapphire\",\"url\":\"https://pokeapi.co/api/v2/version-group/16/\"}},{\"level_learned_at\":75,\"move_learn_method\":{\"name\":\"level-up\",\"url\":\"https://pokeapi.co/api/v2/move-learn-method/1/\"},\"version_group\":{\"name\":\"omega-ruby-alpha-sapphire\",\"url\":\"https://pokeapi.co/api/v2/version-group/16/\"}},{\"level_learned_at\":0,\"move_learn_method\":{\"name\":\"machine\",\"url\":\"https://pokeapi.co/api/v2/move-learn-method/4/\"},\"version_group\":{\"name\":\"x-y\",\"url\":\"https://pokeapi.co/api/v2/version-group/15/\"}},{\"level_learned_at\":90,\"move_learn_method\":{\"name\":\"level-up\",\"url\":\"https://pokeapi.co/api/v2/move-learn-method/1/\"},\"version_group\":{\"name\":\"x-y\",\"url\":\"https://pokeapi.co/api/v2/version-group/15/\"}},{\"level_learned_at\":0,\"move_learn_method\":{\"name\":\"machine\",\"url\":\"https://pokeapi.co/api/v2/move-learn-method/4/\"},\"version_group\":{\"name\":\"black-2-white-2\",\"url\":\"https://pokeapi.co/api/v2/version-group/14/\"}},{\"level_learned_at\":90,\"move_learn_method\":{\"name\":\"level-up\",\"url\":\"https://pokeapi.co/api/v2/move-learn-method/1/\"},\"version_group\":{\"name\":\"black-2-white-2\",\"url\":\"https://pokeapi.co/api/v2/version-group/14/\"}},{\"level_learned_at\":0,\"move_learn_method\":{\"name\":\"machine\",\"url\":\"https://pokeapi.co/api/v2/move-learn-method/4/\"},\"version_group\":{\"name\":\"xd\",\"url\":\"https://pokeapi.co/api/v2/version-group/13/\"}},{\"level_learned_at\":45,\"move_learn_method\":{\"name\":\"level-up\",\"url\":\"https://pokeapi.co/api/v2/move-learn-method/1/\"},\"version_group\":{\"name\":\"xd\",\"url\":\"https://pokeapi.co/api/v2/version-group/13/\"}},{\"level_learned_at\":0,\"move_learn_method\":{\"name\":\"machine\",\"url\":\"https://pokeapi.co/api/v2/move-learn-method/4/\"},\"version_group\":{\"name\":\"colosseum\",\"url\":\"https://pokeapi.co/api/v2/version-group/12/\"}},{\"level_learned_at\":45,\"move_learn_method\":{\"name\":\"level-up\",\"url\":\"https://pokeapi.co/api/v2/move-learn-method/1/\"},\"version_group\":{\"name\":\"colosseum\",\"url\":\"https://pokeapi.co/api/v2/version-group/12/\"}},{\"level_learned_at\":0,\"move_learn_method\":{\"name\":\"machine\",\"url\":\"https://pokeapi.co/api/v2/move-learn-method/4/\"},\"version_group\":{\"name\":\"heartgold-soulsilver\",\"url\":\"https://pokeapi.co/api/v2/version-group/10/\"}},{\"level_learned_at\":90,\"move_learn_method\":{\"name\":\"level-up\",\"url\":\"https://pokeapi.co/api/v2/move-learn-method/1/\"},\"version_group\":{\"name\":\"heartgold-soulsilver\",\"url\":\"https://pokeapi.co/api/v2/version-group/10/\"}},{\"level_learned_at\":0,\"move_learn_method\":{\"name\":\"machine\",\"url\":\"https://pokeapi.co/api/v2/move-learn-method/4/\"},\"version_group\":{\"name\":\"platinum\",\"url\":\"https://pokeapi.co/api/v2/version-group/9/\"}},{\"level_learned_at\":45,\"move_learn_method\":{\"name\":\"level-up\",\"url\":\"https://pokeapi.co/api/v2/move-learn-method/1/\"},\"version_group\":{\"name\":\"platinum\",\"url\":\"https://pokeapi.co/api/v2/version-group/9/\"}},{\"level_learned_at\":0,\"move_learn_method\":{\"name\":\"machine\",\"url\":\"https://pokeapi.co/api/v2/move-learn-method/4/\"},\"version_group\":{\"name\":\"diamond-pearl\",\"url\":\"https://pokeapi.co/api/v2/version-group/8/\"}},{\"level_learned_at\":45,\"move_learn_method\":{\"name\":\"level-up\",\"url\":\"https://pokeapi.co/api/v2/move-learn-method/1/\"},\"version_group\":{\"name\":\"diamond-pearl\",\"url\":\"https://pokeapi.co/api/v2/version-group/8/\"}},{\"level_learned_at\":0,\"move_learn_method\":{\"name\":\"machine\",\"url\":\"https://pokeapi.co/api/v2/move-learn-method/4/\"},\"version_group\":{\"name\":\"firered-leafgreen\",\"url\":\"https://pokeapi.co/api/v2/version-group/7/\"}},{\"level_learned_at\":45,\"move_learn_method\":{\"name\":\"level-up\",\"url\":\"https://pokeapi.co/api/v2/move-learn-method/1/\"},\"version_group\":{\"name\":\"firered-leafgreen\",\"url\":\"https://pokeapi.co/api/v2/version-group/7/\"}},{\"level_learned_at\":0,\"move_learn_method\":{\"name\":\"machine\",\"url\":\"https://pokeapi.co/api/v2/move-learn-method/4/\"},\"version_group\":{\"name\":\"emerald\",\"url\":\"https://pokeapi.co/api/v2/version-group/6/\"}},{\"level_learned_at\":45,\"move_learn_method\":{\"name\":\"level-up\",\"url\":\"https://pokeapi.co/api/v2/move-learn-method/1/\"},\"version_group\":{\"name\":\"emerald\",\"url\":\"https://pokeapi.co/api/v2/version-group/6/\"}},{\"level_learned_at\":0,\"move_learn_method\":{\"name\":\"machine\",\"url\":\"https://pokeapi.co/api/v2/move-learn-method/4/\"},\"version_group\":{\"name\":\"black-white\",\"url\":\"https://pokeapi.co/api/v2/version-group/11/\"}},{\"level_learned_at\":90,\"move_learn_method\":{\"name\":\"level-up\",\"url\":\"https://pokeapi.co/api/v2/move-learn-method/1/\"},\"version_group\":{\"name\":\"black-white\",\"url\":\"https://pokeapi.co/api/v2/version-group/11/\"}},{\"level_learned_at\":0,\"move_learn_method\":{\"name\":\"machine\",\"url\":\"https://pokeapi.co/api/v2/move-learn-method/4/\"},\"version_group\":{\"name\":\"ruby-sapphire\",\"url\":\"https://pokeapi.co/api/v2/version-group/5/\"}},{\"level_learned_at\":45,\"move_learn_method\":{\"name\":\"level-up\",\"url\":\"https://pokeapi.co/api/v2/move-learn-method/1/\"},\"version_group\":{\"name\":\"ruby-sapphire\",\"url\":\"https://pokeapi.co/api/v2/version-group/5/\"}}]},{\"move\":{\"name\":\"swift\",\"url\":\"https://pokeapi.co/api/v2/move/129/\"},\"version_group_details\":[{\"level_learned_at\":0,\"move_learn_method\":{\"name\":\"tutor\",\"url\":\"https://pokeapi.co/api/v2/move-learn-method/3/\"},\"version_group\":{\"name\":\"heartgold-soulsilver\",\"url\":\"https://pokeapi.co/api/v2/version-group/10/\"}},{\"level_learned_at\":0,\"move_learn_method\":{\"name\":\"tutor\",\"url\":\"https://pokeapi.co/api/v2/move-learn-method/3/\"},\"version_group\":{\"name\":\"platinum\",\"url\":\"https://pokeapi.co/api/v2/version-group/9/\"}},{\"level_learned_at\":0,\"move_learn_method\":{\"name\":\"tutor\",\"url\":\"https://pokeapi.co/api/v2/move-learn-method/3/\"},\"version_group\":{\"name\":\"emerald\",\"url\":\"https://pokeapi.co/api/v2/version-group/6/\"}}]},{\"move\":{\"name\":\"rest\",\"url\":\"https://pokeapi.co/api/v2/move/156/\"},\"version_group_details\":[{\"level_learned_at\":0,\"move_learn_method\":{\"name\":\"machine\",\"url\":\"https://pokeapi.co/api/v2/move-learn-method/4/\"},\"version_group\":{\"name\":\"ultra-sun-ultra-moon\",\"url\":\"https://pokeapi.co/api/v2/version-group/18/\"}},{\"level_learned_at\":30,\"move_learn_method\":{\"name\":\"level-up\",\"url\":\"https://pokeapi.co/api/v2/move-learn-method/1/\"},\"version_group\":{\"name\":\"ultra-sun-ultra-moon\",\"url\":\"https://pokeapi.co/api/v2/version-group/18/\"}},{\"level_learned_at\":0,\"move_learn_method\":{\"name\":\"machine\",\"url\":\"https://pokeapi.co/api/v2/move-learn-method/4/\"},\"version_group\":{\"name\":\"sun-moon\",\"url\":\"https://pokeapi.co/api/v2/version-group/17/\"}},{\"level_learned_at\":30,\"move_learn_method\":{\"name\":\"level-up\",\"url\":\"https://pokeapi.co/api/v2/move-learn-method/1/\"},\"version_group\":{\"name\":\"sun-moon\",\"url\":\"https://pokeapi.co/api/v2/version-group/17/\"}},{\"level_learned_at\":0,\"move_learn_method\":{\"name\":\"machine\",\"url\":\"https://pokeapi.co/api/v2/move-learn-method/4/\"},\"version_group\":{\"name\":\"omega-ruby-alpha-sapphire\",\"url\":\"https://pokeapi.co/api/v2/version-group/16/\"}},{\"level_learned_at\":30,\"move_learn_method\":{\"name\":\"level-up\",\"url\":\"https://pokeapi.co/api/v2/move-learn-method/1/\"},\"version_group\":{\"name\":\"omega-ruby-alpha-sapphire\",\"url\":\"https://pokeapi.co/api/v2/version-group/16/\"}},{\"level_learned_at\":0,\"move_learn_method\":{\"name\":\"machine\",\"url\":\"https://pokeapi.co/api/v2/move-learn-method/4/\"},\"version_group\":{\"name\":\"x-y\",\"url\":\"https://pokeapi.co/api/v2/version-group/15/\"}},{\"level_learned_at\":30,\"move_learn_method\":{\"name\":\"level-up\",\"url\":\"https://pokeapi.co/api/v2/move-learn-method/1/\"},\"version_group\":{\"name\":\"x-y\",\"url\":\"https://pokeapi.co/api/v2/version-group/15/\"}},{\"level_learned_at\":0,\"move_learn_method\":{\"name\":\"machine\",\"url\":\"https://pokeapi.co/api/v2/move-learn-method/4/\"},\"version_group\":{\"name\":\"black-2-white-2\",\"url\":\"https://pokeapi.co/api/v2/version-group/14/\"}},{\"level_learned_at\":30,\"move_learn_method\":{\"name\":\"level-up\",\"url\":\"https://pokeapi.co/api/v2/move-learn-method/1/\"},\"version_group\":{\"name\":\"black-2-white-2\",\"url\":\"https://pokeapi.co/api/v2/version-group/14/\"}},{\"level_learned_at\":0,\"move_learn_method\":{\"name\":\"machine\",\"url\":\"https://pokeapi.co/api/v2/move-learn-method/4/\"},\"version_group\":{\"name\":\"xd\",\"url\":\"https://pokeapi.co/api/v2/version-group/13/\"}},{\"level_learned_at\":50,\"move_learn_method\":{\"name\":\"level-up\",\"url\":\"https://pokeapi.co/api/v2/move-learn-method/1/\"},\"version_group\":{\"name\":\"xd\",\"url\":\"https://pokeapi.co/api/v2/version-group/13/\"}},{\"level_learned_at\":0,\"move_learn_method\":{\"name\":\"machine\",\"url\":\"https://pokeapi.co/api/v2/move-learn-method/4/\"},\"version_group\":{\"name\":\"colosseum\",\"url\":\"https://pokeapi.co/api/v2/version-group/12/\"}},{\"level_learned_at\":50,\"move_learn_method\":{\"name\":\"level-up\",\"url\":\"https://pokeapi.co/api/v2/move-learn-method/1/\"},\"version_group\":{\"name\":\"colosseum\",\"url\":\"https://pokeapi.co/api/v2/version-group/12/\"}},{\"level_learned_at\":0,\"move_learn_method\":{\"name\":\"machine\",\"url\":\"https://pokeapi.co/api/v2/move-learn-method/4/\"},\"version_group\":{\"name\":\"heartgold-soulsilver\",\"url\":\"https://pokeapi.co/api/v2/version-group/10/\"}},{\"level_learned_at\":30,\"move_learn_method\":{\"name\":\"level-up\",\"url\":\"https://pokeapi.co/api/v2/move-learn-method/1/\"},\"version_group\":{\"name\":\"heartgold-soulsilver\",\"url\":\"https://pokeapi.co/api/v2/version-group/10/\"}},{\"level_learned_at\":0,\"move_learn_method\":{\"name\":\"machine\",\"url\":\"https://pokeapi.co/api/v2/move-learn-method/4/\"},\"version_group\":{\"name\":\"platinum\",\"url\":\"https://pokeapi.co/api/v2/version-group/9/\"}},{\"level_learned_at\":50,\"move_learn_method\":{\"name\":\"level-up\",\"url\":\"https://pokeapi.co/api/v2/move-learn-method/1/\"},\"version_group\":{\"name\":\"platinum\",\"url\":\"https://pokeapi.co/api/v2/version-group/9/\"}},{\"level_learned_at\":0,\"move_learn_method\":{\"name\":\"machine\",\"url\":\"https://pokeapi.co/api/v2/move-learn-method/4/\"},\"version_group\":{\"name\":\"diamond-pearl\",\"url\":\"https://pokeapi.co/api/v2/version-group/8/\"}},{\"level_learned_at\":50,\"move_learn_method\":{\"name\":\"level-up\",\"url\":\"https://pokeapi.co/api/v2/move-learn-method/1/\"},\"version_group\":{\"name\":\"diamond-pearl\",\"url\":\"https://pokeapi.co/api/v2/version-group/8/\"}},{\"level_learned_at\":0,\"move_learn_method\":{\"name\":\"machine\",\"url\":\"https://pokeapi.co/api/v2/move-learn-method/4/\"},\"version_group\":{\"name\":\"firered-leafgreen\",\"url\":\"https://pokeapi.co/api/v2/version-group/7/\"}},{\"level_learned_at\":50,\"move_learn_method\":{\"name\":\"level-up\",\"url\":\"https://pokeapi.co/api/v2/move-learn-method/1/\"},\"version_group\":{\"name\":\"firered-leafgreen\",\"url\":\"https://pokeapi.co/api/v2/version-group/7/\"}},{\"level_learned_at\":0,\"move_learn_method\":{\"name\":\"machine\",\"url\":\"https://pokeapi.co/api/v2/move-learn-method/4/\"},\"version_group\":{\"name\":\"emerald\",\"url\":\"https://pokeapi.co/api/v2/version-group/6/\"}},{\"level_learned_at\":50,\"move_learn_method\":{\"name\":\"level-up\",\"url\":\"https://pokeapi.co/api/v2/move-learn-method/1/\"},\"version_group\":{\"name\":\"emerald\",\"url\":\"https://pokeapi.co/api/v2/version-group/6/\"}},{\"level_learned_at\":0,\"move_learn_method\":{\"name\":\"machine\",\"url\":\"https://pokeapi.co/api/v2/move-learn-method/4/\"},\"version_group\":{\"name\":\"black-white\",\"url\":\"https://pokeapi.co/api/v2/version-group/11/\"}},{\"level_learned_at\":30,\"move_learn_method\":{\"name\":\"level-up\",\"url\":\"https://pokeapi.co/api/v2/move-learn-method/1/\"},\"version_group\":{\"name\":\"black-white\",\"url\":\"https://pokeapi.co/api/v2/version-group/11/\"}},{\"level_learned_at\":0,\"move_learn_method\":{\"name\":\"machine\",\"url\":\"https://pokeapi.co/api/v2/move-learn-method/4/\"},\"version_group\":{\"name\":\"ruby-sapphire\",\"url\":\"https://pokeapi.co/api/v2/version-group/5/\"}},{\"level_learned_at\":50,\"move_learn_method\":{\"name\":\"level-up\",\"url\":\"https://pokeapi.co/api/v2/move-learn-method/1/\"},\"version_group\":{\"name\":\"ruby-sapphire\",\"url\":\"https://pokeapi.co/api/v2/version-group/5/\"}}]},{\"move\":{\"name\":\"rock-slide\",\"url\":\"https://pokeapi.co/api/v2/move/157/\"},\"version_group_details\":[{\"level_learned_at\":0,\"move_learn_method\":{\"name\":\"machine\",\"url\":\"https://pokeapi.co/api/v2/move-learn-method/4/\"},\"version_group\":{\"name\":\"ultra-sun-ultra-moon\",\"url\":\"https://pokeapi.co/api/v2/version-group/18/\"}},{\"level_learned_at\":0,\"move_learn_method\":{\"name\":\"machine\",\"url\":\"https://pokeapi.co/api/v2/move-learn-method/4/\"},\"version_group\":{\"name\":\"sun-moon\",\"url\":\"https://pokeapi.co/api/v2/version-group/17/\"}},{\"level_learned_at\":0,\"move_learn_method\":{\"name\":\"machine\",\"url\":\"https://pokeapi.co/api/v2/move-learn-method/4/\"},\"version_group\":{\"name\":\"omega-ruby-alpha-sapphire\",\"url\":\"https://pokeapi.co/api/v2/version-group/16/\"}},{\"level_learned_at\":0,\"move_learn_method\":{\"name\":\"machine\",\"url\":\"https://pokeapi.co/api/v2/move-learn-method/4/\"},\"version_group\":{\"name\":\"x-y\",\"url\":\"https://pokeapi.co/api/v2/version-group/15/\"}},{\"level_learned_at\":0,\"move_learn_method\":{\"name\":\"machine\",\"url\":\"https://pokeapi.co/api/v2/move-learn-method/4/\"},\"version_group\":{\"name\":\"black-2-white-2\",\"url\":\"https://pokeapi.co/api/v2/version-group/14/\"}},{\"level_learned_at\":0,\"move_learn_method\":{\"name\":\"machine\",\"url\":\"https://pokeapi.co/api/v2/move-learn-method/4/\"},\"version_group\":{\"name\":\"heartgold-soulsilver\",\"url\":\"https://pokeapi.co/api/v2/version-group/10/\"}},{\"level_learned_at\":0,\"move_learn_method\":{\"name\":\"machine\",\"url\":\"https://pokeapi.co/api/v2/move-learn-method/4/\"},\"version_group\":{\"name\":\"platinum\",\"url\":\"https://pokeapi.co/api/v2/version-group/9/\"}},{\"level_learned_at\":0,\"move_learn_method\":{\"name\":\"machine\",\"url\":\"https://pokeapi.co/api/v2/move-learn-method/4/\"},\"version_group\":{\"name\":\"diamond-pearl\",\"url\":\"https://pokeapi.co/api/v2/version-group/8/\"}},{\"level_learned_at\":0,\"move_learn_method\":{\"name\":\"tutor\",\"url\":\"https://pokeapi.co/api/v2/move-learn-method/3/\"},\"version_group\":{\"name\":\"firered-leafgreen\",\"url\":\"https://pokeapi.co/api/v2/version-group/7/\"}},{\"level_learned_at\":0,\"move_learn_method\":{\"name\":\"tutor\",\"url\":\"https://pokeapi.co/api/v2/move-learn-method/3/\"},\"version_group\":{\"name\":\"emerald\",\"url\":\"https://pokeapi.co/api/v2/version-group/6/\"}},{\"level_learned_at\":0,\"move_learn_method\":{\"name\":\"machine\",\"url\":\"https://pokeapi.co/api/v2/move-learn-method/4/\"},\"version_group\":{\"name\":\"black-white\",\"url\":\"https://pokeapi.co/api/v2/version-group/11/\"}}]},{\"move\":{\"name\":\"slash\",\"url\":\"https://pokeapi.co/api/v2/move/163/\"},\"version_group_details\":[{\"level_learned_at\":20,\"move_learn_method\":{\"name\":\"level-up\",\"url\":\"https://pokeapi.co/api/v2/move-learn-method/1/\"},\"version_group\":{\"name\":\"ruby-sapphire\",\"url\":\"https://pokeapi.co/api/v2/version-group/5/\"}},{\"level_learned_at\":20,\"move_learn_method\":{\"name\":\"level-up\",\"url\":\"https://pokeapi.co/api/v2/move-learn-method/1/\"},\"version_group\":{\"name\":\"emerald\",\"url\":\"https://pokeapi.co/api/v2/version-group/6/\"}},{\"level_learned_at\":20,\"move_learn_method\":{\"name\":\"level-up\",\"url\":\"https://pokeapi.co/api/v2/move-learn-method/1/\"},\"version_group\":{\"name\":\"firered-leafgreen\",\"url\":\"https://pokeapi.co/api/v2/version-group/7/\"}},{\"level_learned_at\":20,\"move_learn_method\":{\"name\":\"level-up\",\"url\":\"https://pokeapi.co/api/v2/move-learn-method/1/\"},\"version_group\":{\"name\":\"diamond-pearl\",\"url\":\"https://pokeapi.co/api/v2/version-group/8/\"}},{\"level_learned_at\":20,\"move_learn_method\":{\"name\":\"level-up\",\"url\":\"https://pokeapi.co/api/v2/move-learn-method/1/\"},\"version_group\":{\"name\":\"platinum\",\"url\":\"https://pokeapi.co/api/v2/version-group/9/\"}},{\"level_learned_at\":20,\"move_learn_method\":{\"name\":\"level-up\",\"url\":\"https://pokeapi.co/api/v2/move-learn-method/1/\"},\"version_group\":{\"name\":\"colosseum\",\"url\":\"https://pokeapi.co/api/v2/version-group/12/\"}},{\"level_learned_at\":20,\"move_learn_method\":{\"name\":\"level-up\",\"url\":\"https://pokeapi.co/api/v2/move-learn-method/1/\"},\"version_group\":{\"name\":\"xd\",\"url\":\"https://pokeapi.co/api/v2/version-group/13/\"}}]},{\"move\":{\"name\":\"substitute\",\"url\":\"https://pokeapi.co/api/v2/move/164/\"},\"version_group_details\":[{\"level_learned_at\":0,\"move_learn_method\":{\"name\":\"machine\",\"url\":\"https://pokeapi.co/api/v2/move-learn-method/4/\"},\"version_group\":{\"name\":\"ultra-sun-ultra-moon\",\"url\":\"https://pokeapi.co/api/v2/version-group/18/\"}},{\"level_learned_at\":0,\"move_learn_method\":{\"name\":\"machine\",\"url\":\"https://pokeapi.co/api/v2/move-learn-method/4/\"},\"version_group\":{\"name\":\"sun-moon\",\"url\":\"https://pokeapi.co/api/v2/version-group/17/\"}},{\"level_learned_at\":0,\"move_learn_method\":{\"name\":\"machine\",\"url\":\"https://pokeapi.co/api/v2/move-learn-method/4/\"},\"version_group\":{\"name\":\"omega-ruby-alpha-sapphire\",\"url\":\"https://pokeapi.co/api/v2/version-group/16/\"}},{\"level_learned_at\":0,\"move_learn_method\":{\"name\":\"machine\",\"url\":\"https://pokeapi.co/api/v2/move-learn-method/4/\"},\"version_group\":{\"name\":\"black-2-white-2\",\"url\":\"https://pokeapi.co/api/v2/version-group/14/\"}},{\"level_learned_at\":0,\"move_learn_method\":{\"name\":\"tutor\",\"url\":\"https://pokeapi.co/api/v2/move-learn-method/3/\"},\"version_group\":{\"name\":\"xd\",\"url\":\"https://pokeapi.co/api/v2/version-group/13/\"}},{\"level_learned_at\":0,\"move_learn_method\":{\"name\":\"machine\",\"url\":\"https://pokeapi.co/api/v2/move-learn-method/4/\"},\"version_group\":{\"name\":\"heartgold-soulsilver\",\"url\":\"https://pokeapi.co/api/v2/version-group/10/\"}},{\"level_learned_at\":0,\"move_learn_method\":{\"name\":\"machine\",\"url\":\"https://pokeapi.co/api/v2/move-learn-method/4/\"},\"version_group\":{\"name\":\"x-y\",\"url\":\"https://pokeapi.co/api/v2/version-group/15/\"}},{\"level_learned_at\":0,\"move_learn_method\":{\"name\":\"machine\",\"url\":\"https://pokeapi.co/api/v2/move-learn-method/4/\"},\"version_group\":{\"name\":\"platinum\",\"url\":\"https://pokeapi.co/api/v2/version-group/9/\"}},{\"level_learned_at\":0,\"move_learn_method\":{\"name\":\"machine\",\"url\":\"https://pokeapi.co/api/v2/move-learn-method/4/\"},\"version_group\":{\"name\":\"diamond-pearl\",\"url\":\"https://pokeapi.co/api/v2/version-group/8/\"}},{\"level_learned_at\":0,\"move_learn_method\":{\"name\":\"tutor\",\"url\":\"https://pokeapi.co/api/v2/move-learn-method/3/\"},\"version_group\":{\"name\":\"firered-leafgreen\",\"url\":\"https://pokeapi.co/api/v2/version-group/7/\"}},{\"level_learned_at\":0,\"move_learn_method\":{\"name\":\"tutor\",\"url\":\"https://pokeapi.co/api/v2/move-learn-method/3/\"},\"version_group\":{\"name\":\"emerald\",\"url\":\"https://pokeapi.co/api/v2/version-group/6/\"}},{\"level_learned_at\":0,\"move_learn_method\":{\"name\":\"machine\",\"url\":\"https://pokeapi.co/api/v2/move-learn-method/4/\"},\"version_group\":{\"name\":\"black-white\",\"url\":\"https://pokeapi.co/api/v2/version-group/11/\"}}]},{\"move\":{\"name\":\"snore\",\"url\":\"https://pokeapi.co/api/v2/move/173/\"},\"version_group_details\":[{\"level_learned_at\":0,\"move_learn_method\":{\"name\":\"tutor\",\"url\":\"https://pokeapi.co/api/v2/move-learn-method/3/\"},\"version_group\":{\"name\":\"omega-ruby-alpha-sapphire\",\"url\":\"https://pokeapi.co/api/v2/version-group/16/\"}},{\"level_learned_at\":0,\"move_learn_method\":{\"name\":\"tutor\",\"url\":\"https://pokeapi.co/api/v2/move-learn-method/3/\"},\"version_group\":{\"name\":\"black-2-white-2\",\"url\":\"https://pokeapi.co/api/v2/version-group/14/\"}},{\"level_learned_at\":0,\"move_learn_method\":{\"name\":\"tutor\",\"url\":\"https://pokeapi.co/api/v2/move-learn-method/3/\"},\"version_group\":{\"name\":\"heartgold-soulsilver\",\"url\":\"https://pokeapi.co/api/v2/version-group/10/\"}},{\"level_learned_at\":0,\"move_learn_method\":{\"name\":\"tutor\",\"url\":\"https://pokeapi.co/api/v2/move-learn-method/3/\"},\"version_group\":{\"name\":\"platinum\",\"url\":\"https://pokeapi.co/api/v2/version-group/9/\"}},{\"level_learned_at\":0,\"move_learn_method\":{\"name\":\"tutor\",\"url\":\"https://pokeapi.co/api/v2/move-learn-method/3/\"},\"version_group\":{\"name\":\"emerald\",\"url\":\"https://pokeapi.co/api/v2/version-group/6/\"}}]},{\"move\":{\"name\":\"protect\",\"url\":\"https://pokeapi.co/api/v2/move/182/\"},\"version_group_details\":[{\"level_learned_at\":0,\"move_learn_method\":{\"name\":\"machine\",\"url\":\"https://pokeapi.co/api/v2/move-learn-method/4/\"},\"version_group\":{\"name\":\"ultra-sun-ultra-moon\",\"url\":\"https://pokeapi.co/api/v2/version-group/18/\"}},{\"level_learned_at\":0,\"move_learn_method\":{\"name\":\"machine\",\"url\":\"https://pokeapi.co/api/v2/move-learn-method/4/\"},\"version_group\":{\"name\":\"sun-moon\",\"url\":\"https://pokeapi.co/api/v2/version-group/17/\"}},{\"level_learned_at\":0,\"move_learn_method\":{\"name\":\"machine\",\"url\":\"https://pokeapi.co/api/v2/move-learn-method/4/\"},\"version_group\":{\"name\":\"omega-ruby-alpha-sapphire\",\"url\":\"https://pokeapi.co/api/v2/version-group/16/\"}},{\"level_learned_at\":0,\"move_learn_method\":{\"name\":\"machine\",\"url\":\"https://pokeapi.co/api/v2/move-learn-method/4/\"},\"version_group\":{\"name\":\"black-2-white-2\",\"url\":\"https://pokeapi.co/api/v2/version-group/14/\"}},{\"level_learned_at\":0,\"move_learn_method\":{\"name\":\"machine\",\"url\":\"https://pokeapi.co/api/v2/move-learn-method/4/\"},\"version_group\":{\"name\":\"xd\",\"url\":\"https://pokeapi.co/api/v2/version-group/13/\"}},{\"level_learned_at\":0,\"move_learn_method\":{\"name\":\"machine\",\"url\":\"https://pokeapi.co/api/v2/move-learn-method/4/\"},\"version_group\":{\"name\":\"colosseum\",\"url\":\"https://pokeapi.co/api/v2/version-group/12/\"}},{\"level_learned_at\":0,\"move_learn_method\":{\"name\":\"machine\",\"url\":\"https://pokeapi.co/api/v2/move-learn-method/4/\"},\"version_group\":{\"name\":\"heartgold-soulsilver\",\"url\":\"https://pokeapi.co/api/v2/version-group/10/\"}},{\"level_learned_at\":0,\"move_learn_method\":{\"name\":\"machine\",\"url\":\"https://pokeapi.co/api/v2/move-learn-method/4/\"},\"version_group\":{\"name\":\"x-y\",\"url\":\"https://pokeapi.co/api/v2/version-group/15/\"}},{\"level_learned_at\":0,\"move_learn_method\":{\"name\":\"machine\",\"url\":\"https://pokeapi.co/api/v2/move-learn-method/4/\"},\"version_group\":{\"name\":\"platinum\",\"url\":\"https://pokeapi.co/api/v2/version-group/9/\"}},{\"level_learned_at\":0,\"move_learn_method\":{\"name\":\"machine\",\"url\":\"https://pokeapi.co/api/v2/move-learn-method/4/\"},\"version_group\":{\"name\":\"diamond-pearl\",\"url\":\"https://pokeapi.co/api/v2/version-group/8/\"}},{\"level_learned_at\":0,\"move_learn_method\":{\"name\":\"machine\",\"url\":\"https://pokeapi.co/api/v2/move-learn-method/4/\"},\"version_group\":{\"name\":\"firered-leafgreen\",\"url\":\"https://pokeapi.co/api/v2/version-group/7/\"}},{\"level_learned_at\":0,\"move_learn_method\":{\"name\":\"machine\",\"url\":\"https://pokeapi.co/api/v2/move-learn-method/4/\"},\"version_group\":{\"name\":\"emerald\",\"url\":\"https://pokeapi.co/api/v2/version-group/6/\"}},{\"level_learned_at\":0,\"move_learn_method\":{\"name\":\"machine\",\"url\":\"https://pokeapi.co/api/v2/move-learn-method/4/\"},\"version_group\":{\"name\":\"black-white\",\"url\":\"https://pokeapi.co/api/v2/version-group/11/\"}},{\"level_learned_at\":0,\"move_learn_method\":{\"name\":\"machine\",\"url\":\"https://pokeapi.co/api/v2/move-learn-method/4/\"},\"version_group\":{\"name\":\"ruby-sapphire\",\"url\":\"https://pokeapi.co/api/v2/version-group/5/\"}}]},{\"move\":{\"name\":\"scary-face\",\"url\":\"https://pokeapi.co/api/v2/move/184/\"},\"version_group_details\":[{\"level_learned_at\":5,\"move_learn_method\":{\"name\":\"level-up\",\"url\":\"https://pokeapi.co/api/v2/move-learn-method/1/\"},\"version_group\":{\"name\":\"ultra-sun-ultra-moon\",\"url\":\"https://pokeapi.co/api/v2/version-group/18/\"}},{\"level_learned_at\":5,\"move_learn_method\":{\"name\":\"level-up\",\"url\":\"https://pokeapi.co/api/v2/move-learn-method/1/\"},\"version_group\":{\"name\":\"sun-moon\",\"url\":\"https://pokeapi.co/api/v2/version-group/17/\"}},{\"level_learned_at\":5,\"move_learn_method\":{\"name\":\"level-up\",\"url\":\"https://pokeapi.co/api/v2/move-learn-method/1/\"},\"version_group\":{\"name\":\"omega-ruby-alpha-sapphire\",\"url\":\"https://pokeapi.co/api/v2/version-group/16/\"}},{\"level_learned_at\":5,\"move_learn_method\":{\"name\":\"level-up\",\"url\":\"https://pokeapi.co/api/v2/move-learn-method/1/\"},\"version_group\":{\"name\":\"black-2-white-2\",\"url\":\"https://pokeapi.co/api/v2/version-group/14/\"}},{\"level_learned_at\":5,\"move_learn_method\":{\"name\":\"level-up\",\"url\":\"https://pokeapi.co/api/v2/move-learn-method/1/\"},\"version_group\":{\"name\":\"xd\",\"url\":\"https://pokeapi.co/api/v2/version-group/13/\"}},{\"level_learned_at\":5,\"move_learn_method\":{\"name\":\"level-up\",\"url\":\"https://pokeapi.co/api/v2/move-learn-method/1/\"},\"version_group\":{\"name\":\"colosseum\",\"url\":\"https://pokeapi.co/api/v2/version-group/12/\"}},{\"level_learned_at\":5,\"move_learn_method\":{\"name\":\"level-up\",\"url\":\"https://pokeapi.co/api/v2/move-learn-method/1/\"},\"version_group\":{\"name\":\"heartgold-soulsilver\",\"url\":\"https://pokeapi.co/api/v2/version-group/10/\"}},{\"level_learned_at\":5,\"move_learn_method\":{\"name\":\"level-up\",\"url\":\"https://pokeapi.co/api/v2/move-learn-method/1/\"},\"version_group\":{\"name\":\"x-y\",\"url\":\"https://pokeapi.co/api/v2/version-group/15/\"}},{\"level_learned_at\":5,\"move_learn_method\":{\"name\":\"level-up\",\"url\":\"https://pokeapi.co/api/v2/move-learn-method/1/\"},\"version_group\":{\"name\":\"platinum\",\"url\":\"https://pokeapi.co/api/v2/version-group/9/\"}},{\"level_learned_at\":5,\"move_learn_method\":{\"name\":\"level-up\",\"url\":\"https://pokeapi.co/api/v2/move-learn-method/1/\"},\"version_group\":{\"name\":\"diamond-pearl\",\"url\":\"https://pokeapi.co/api/v2/version-group/8/\"}},{\"level_learned_at\":5,\"move_learn_method\":{\"name\":\"level-up\",\"url\":\"https://pokeapi.co/api/v2/move-learn-method/1/\"},\"version_group\":{\"name\":\"firered-leafgreen\",\"url\":\"https://pokeapi.co/api/v2/version-group/7/\"}},{\"level_learned_at\":5,\"move_learn_method\":{\"name\":\"level-up\",\"url\":\"https://pokeapi.co/api/v2/move-learn-method/1/\"},\"version_group\":{\"name\":\"emerald\",\"url\":\"https://pokeapi.co/api/v2/version-group/6/\"}},{\"level_learned_at\":5,\"move_learn_method\":{\"name\":\"level-up\",\"url\":\"https://pokeapi.co/api/v2/move-learn-method/1/\"},\"version_group\":{\"name\":\"black-white\",\"url\":\"https://pokeapi.co/api/v2/version-group/11/\"}},{\"level_learned_at\":5,\"move_learn_method\":{\"name\":\"level-up\",\"url\":\"https://pokeapi.co/api/v2/move-learn-method/1/\"},\"version_group\":{\"name\":\"ruby-sapphire\",\"url\":\"https://pokeapi.co/api/v2/version-group/5/\"}}]},{\"move\":{\"name\":\"mud-slap\",\"url\":\"https://pokeapi.co/api/v2/move/189/\"},\"version_group_details\":[{\"level_learned_at\":0,\"move_learn_method\":{\"name\":\"tutor\",\"url\":\"https://pokeapi.co/api/v2/move-learn-method/3/\"},\"version_group\":{\"name\":\"heartgold-soulsilver\",\"url\":\"https://pokeapi.co/api/v2/version-group/10/\"}},{\"level_learned_at\":0,\"move_learn_method\":{\"name\":\"tutor\",\"url\":\"https://pokeapi.co/api/v2/move-learn-method/3/\"},\"version_group\":{\"name\":\"platinum\",\"url\":\"https://pokeapi.co/api/v2/version-group/9/\"}},{\"level_learned_at\":0,\"move_learn_method\":{\"name\":\"tutor\",\"url\":\"https://pokeapi.co/api/v2/move-learn-method/3/\"},\"version_group\":{\"name\":\"emerald\",\"url\":\"https://pokeapi.co/api/v2/version-group/6/\"}}]},{\"move\":{\"name\":\"sandstorm\",\"url\":\"https://pokeapi.co/api/v2/move/201/\"},\"version_group_details\":[{\"level_learned_at\":0,\"move_learn_method\":{\"name\":\"machine\",\"url\":\"https://pokeapi.co/api/v2/move-learn-method/4/\"},\"version_group\":{\"name\":\"ultra-sun-ultra-moon\",\"url\":\"https://pokeapi.co/api/v2/version-group/18/\"}},{\"level_learned_at\":0,\"move_learn_method\":{\"name\":\"machine\",\"url\":\"https://pokeapi.co/api/v2/move-learn-method/4/\"},\"version_group\":{\"name\":\"sun-moon\",\"url\":\"https://pokeapi.co/api/v2/version-group/17/\"}},{\"level_learned_at\":0,\"move_learn_method\":{\"name\":\"machine\",\"url\":\"https://pokeapi.co/api/v2/move-learn-method/4/\"},\"version_group\":{\"name\":\"omega-ruby-alpha-sapphire\",\"url\":\"https://pokeapi.co/api/v2/version-group/16/\"}},{\"level_learned_at\":0,\"move_learn_method\":{\"name\":\"machine\",\"url\":\"https://pokeapi.co/api/v2/move-learn-method/4/\"},\"version_group\":{\"name\":\"black-2-white-2\",\"url\":\"https://pokeapi.co/api/v2/version-group/14/\"}},{\"level_learned_at\":0,\"move_learn_method\":{\"name\":\"machine\",\"url\":\"https://pokeapi.co/api/v2/move-learn-method/4/\"},\"version_group\":{\"name\":\"xd\",\"url\":\"https://pokeapi.co/api/v2/version-group/13/\"}},{\"level_learned_at\":0,\"move_learn_method\":{\"name\":\"machine\",\"url\":\"https://pokeapi.co/api/v2/move-learn-method/4/\"},\"version_group\":{\"name\":\"colosseum\",\"url\":\"https://pokeapi.co/api/v2/version-group/12/\"}},{\"level_learned_at\":0,\"move_learn_method\":{\"name\":\"machine\",\"url\":\"https://pokeapi.co/api/v2/move-learn-method/4/\"},\"version_group\":{\"name\":\"heartgold-soulsilver\",\"url\":\"https://pokeapi.co/api/v2/version-group/10/\"}},{\"level_learned_at\":0,\"move_learn_method\":{\"name\":\"machine\",\"url\":\"https://pokeapi.co/api/v2/move-learn-method/4/\"},\"version_group\":{\"name\":\"x-y\",\"url\":\"https://pokeapi.co/api/v2/version-group/15/\"}},{\"level_learned_at\":0,\"move_learn_method\":{\"name\":\"machine\",\"url\":\"https://pokeapi.co/api/v2/move-learn-method/4/\"},\"version_group\":{\"name\":\"platinum\",\"url\":\"https://pokeapi.co/api/v2/version-group/9/\"}},{\"level_learned_at\":0,\"move_learn_method\":{\"name\":\"machine\",\"url\":\"https://pokeapi.co/api/v2/move-learn-method/4/\"},\"version_group\":{\"name\":\"diamond-pearl\",\"url\":\"https://pokeapi.co/api/v2/version-group/8/\"}},{\"level_learned_at\":0,\"move_learn_method\":{\"name\":\"machine\",\"url\":\"https://pokeapi.co/api/v2/move-learn-method/4/\"},\"version_group\":{\"name\":\"firered-leafgreen\",\"url\":\"https://pokeapi.co/api/v2/version-group/7/\"}},{\"level_learned_at\":0,\"move_learn_method\":{\"name\":\"machine\",\"url\":\"https://pokeapi.co/api/v2/move-learn-method/4/\"},\"version_group\":{\"name\":\"emerald\",\"url\":\"https://pokeapi.co/api/v2/version-group/6/\"}},{\"level_learned_at\":0,\"move_learn_method\":{\"name\":\"machine\",\"url\":\"https://pokeapi.co/api/v2/move-learn-method/4/\"},\"version_group\":{\"name\":\"black-white\",\"url\":\"https://pokeapi.co/api/v2/version-group/11/\"}},{\"level_learned_at\":0,\"move_learn_method\":{\"name\":\"machine\",\"url\":\"https://pokeapi.co/api/v2/move-learn-method/4/\"},\"version_group\":{\"name\":\"ruby-sapphire\",\"url\":\"https://pokeapi.co/api/v2/version-group/5/\"}}]},{\"move\":{\"name\":\"endure\",\"url\":\"https://pokeapi.co/api/v2/move/203/\"},\"version_group_details\":[{\"level_learned_at\":0,\"move_learn_method\":{\"name\":\"machine\",\"url\":\"https://pokeapi.co/api/v2/move-learn-method/4/\"},\"version_group\":{\"name\":\"heartgold-soulsilver\",\"url\":\"https://pokeapi.co/api/v2/version-group/10/\"}},{\"level_learned_at\":0,\"move_learn_method\":{\"name\":\"machine\",\"url\":\"https://pokeapi.co/api/v2/move-learn-method/4/\"},\"version_group\":{\"name\":\"platinum\",\"url\":\"https://pokeapi.co/api/v2/version-group/9/\"}},{\"level_learned_at\":0,\"move_learn_method\":{\"name\":\"machine\",\"url\":\"https://pokeapi.co/api/v2/move-learn-method/4/\"},\"version_group\":{\"name\":\"diamond-pearl\",\"url\":\"https://pokeapi.co/api/v2/version-group/8/\"}},{\"level_learned_at\":0,\"move_learn_method\":{\"name\":\"tutor\",\"url\":\"https://pokeapi.co/api/v2/move-learn-method/3/\"},\"version_group\":{\"name\":\"emerald\",\"url\":\"https://pokeapi.co/api/v2/version-group/6/\"}}]},{\"move\":{\"name\":\"rollout\",\"url\":\"https://pokeapi.co/api/v2/move/205/\"},\"version_group_details\":[{\"level_learned_at\":0,\"move_learn_method\":{\"name\":\"tutor\",\"url\":\"https://pokeapi.co/api/v2/move-learn-method/3/\"},\"version_group\":{\"name\":\"heartgold-soulsilver\",\"url\":\"https://pokeapi.co/api/v2/version-group/10/\"}},{\"level_learned_at\":0,\"move_learn_method\":{\"name\":\"tutor\",\"url\":\"https://pokeapi.co/api/v2/move-learn-method/3/\"},\"version_group\":{\"name\":\"platinum\",\"url\":\"https://pokeapi.co/api/v2/version-group/9/\"}},{\"level_learned_at\":0,\"move_learn_method\":{\"name\":\"tutor\",\"url\":\"https://pokeapi.co/api/v2/move-learn-method/3/\"},\"version_group\":{\"name\":\"emerald\",\"url\":\"https://pokeapi.co/api/v2/version-group/6/\"}}]},{\"move\":{\"name\":\"swagger\",\"url\":\"https://pokeapi.co/api/v2/move/207/\"},\"version_group_details\":[{\"level_learned_at\":0,\"move_learn_method\":{\"name\":\"machine\",\"url\":\"https://pokeapi.co/api/v2/move-learn-method/4/\"},\"version_group\":{\"name\":\"ultra-sun-ultra-moon\",\"url\":\"https://pokeapi.co/api/v2/version-group/18/\"}},{\"level_learned_at\":0,\"move_learn_method\":{\"name\":\"machine\",\"url\":\"https://pokeapi.co/api/v2/move-learn-method/4/\"},\"version_group\":{\"name\":\"sun-moon\",\"url\":\"https://pokeapi.co/api/v2/version-group/17/\"}},{\"level_learned_at\":0,\"move_learn_method\":{\"name\":\"machine\",\"url\":\"https://pokeapi.co/api/v2/move-learn-method/4/\"},\"version_group\":{\"name\":\"omega-ruby-alpha-sapphire\",\"url\":\"https://pokeapi.co/api/v2/version-group/16/\"}},{\"level_learned_at\":0,\"move_learn_method\":{\"name\":\"machine\",\"url\":\"https://pokeapi.co/api/v2/move-learn-method/4/\"},\"version_group\":{\"name\":\"black-2-white-2\",\"url\":\"https://pokeapi.co/api/v2/version-group/14/\"}},{\"level_learned_at\":0,\"move_learn_method\":{\"name\":\"tutor\",\"url\":\"https://pokeapi.co/api/v2/move-learn-method/3/\"},\"version_group\":{\"name\":\"xd\",\"url\":\"https://pokeapi.co/api/v2/version-group/13/\"}},{\"level_learned_at\":0,\"move_learn_method\":{\"name\":\"machine\",\"url\":\"https://pokeapi.co/api/v2/move-learn-method/4/\"},\"version_group\":{\"name\":\"heartgold-soulsilver\",\"url\":\"https://pokeapi.co/api/v2/version-group/10/\"}},{\"level_learned_at\":0,\"move_learn_method\":{\"name\":\"machine\",\"url\":\"https://pokeapi.co/api/v2/move-learn-method/4/\"},\"version_group\":{\"name\":\"platinum\",\"url\":\"https://pokeapi.co/api/v2/version-group/9/\"}},{\"level_learned_at\":0,\"move_learn_method\":{\"name\":\"machine\",\"url\":\"https://pokeapi.co/api/v2/move-learn-method/4/\"},\"version_group\":{\"name\":\"x-y\",\"url\":\"https://pokeapi.co/api/v2/version-group/15/\"}},{\"level_learned_at\":0,\"move_learn_method\":{\"name\":\"machine\",\"url\":\"https://pokeapi.co/api/v2/move-learn-method/4/\"},\"version_group\":{\"name\":\"diamond-pearl\",\"url\":\"https://pokeapi.co/api/v2/version-group/8/\"}},{\"level_learned_at\":0,\"move_learn_method\":{\"name\":\"tutor\",\"url\":\"https://pokeapi.co/api/v2/move-learn-method/3/\"},\"version_group\":{\"name\":\"emerald\",\"url\":\"https://pokeapi.co/api/v2/version-group/6/\"}},{\"level_learned_at\":0,\"move_learn_method\":{\"name\":\"machine\",\"url\":\"https://pokeapi.co/api/v2/move-learn-method/4/\"},\"version_group\":{\"name\":\"black-white\",\"url\":\"https://pokeapi.co/api/v2/version-group/11/\"}}]},{\"move\":{\"name\":\"fury-cutter\",\"url\":\"https://pokeapi.co/api/v2/move/210/\"},\"version_group_details\":[{\"level_learned_at\":0,\"move_learn_method\":{\"name\":\"tutor\",\"url\":\"https://pokeapi.co/api/v2/move-learn-method/3/\"},\"version_group\":{\"name\":\"emerald\",\"url\":\"https://pokeapi.co/api/v2/version-group/6/\"}},{\"level_learned_at\":0,\"move_learn_method\":{\"name\":\"tutor\",\"url\":\"https://pokeapi.co/api/v2/move-learn-method/3/\"},\"version_group\":{\"name\":\"platinum\",\"url\":\"https://pokeapi.co/api/v2/version-group/9/\"}},{\"level_learned_at\":0,\"move_learn_method\":{\"name\":\"tutor\",\"url\":\"https://pokeapi.co/api/v2/move-learn-method/3/\"},\"version_group\":{\"name\":\"heartgold-soulsilver\",\"url\":\"https://pokeapi.co/api/v2/version-group/10/\"}}]},{\"move\":{\"name\":\"sleep-talk\",\"url\":\"https://pokeapi.co/api/v2/move/214/\"},\"version_group_details\":[{\"level_learned_at\":0,\"move_learn_method\":{\"name\":\"machine\",\"url\":\"https://pokeapi.co/api/v2/move-learn-method/4/\"},\"version_group\":{\"name\":\"ultra-sun-ultra-moon\",\"url\":\"https://pokeapi.co/api/v2/version-group/18/\"}},{\"level_learned_at\":0,\"move_learn_method\":{\"name\":\"machine\",\"url\":\"https://pokeapi.co/api/v2/move-learn-method/4/\"},\"version_group\":{\"name\":\"sun-moon\",\"url\":\"https://pokeapi.co/api/v2/version-group/17/\"}},{\"level_learned_at\":0,\"move_learn_method\":{\"name\":\"machine\",\"url\":\"https://pokeapi.co/api/v2/move-learn-method/4/\"},\"version_group\":{\"name\":\"omega-ruby-alpha-sapphire\",\"url\":\"https://pokeapi.co/api/v2/version-group/16/\"}},{\"level_learned_at\":0,\"move_learn_method\":{\"name\":\"tutor\",\"url\":\"https://pokeapi.co/api/v2/move-learn-method/3/\"},\"version_group\":{\"name\":\"black-2-white-2\",\"url\":\"https://pokeapi.co/api/v2/version-group/14/\"}},{\"level_learned_at\":0,\"move_learn_method\":{\"name\":\"machine\",\"url\":\"https://pokeapi.co/api/v2/move-learn-method/4/\"},\"version_group\":{\"name\":\"heartgold-soulsilver\",\"url\":\"https://pokeapi.co/api/v2/version-group/10/\"}},{\"level_learned_at\":0,\"move_learn_method\":{\"name\":\"machine\",\"url\":\"https://pokeapi.co/api/v2/move-learn-method/4/\"},\"version_group\":{\"name\":\"platinum\",\"url\":\"https://pokeapi.co/api/v2/version-group/9/\"}},{\"level_learned_at\":0,\"move_learn_method\":{\"name\":\"machine\",\"url\":\"https://pokeapi.co/api/v2/move-learn-method/4/\"},\"version_group\":{\"name\":\"x-y\",\"url\":\"https://pokeapi.co/api/v2/version-group/15/\"}},{\"level_learned_at\":0,\"move_learn_method\":{\"name\":\"machine\",\"url\":\"https://pokeapi.co/api/v2/move-learn-method/4/\"},\"version_group\":{\"name\":\"diamond-pearl\",\"url\":\"https://pokeapi.co/api/v2/version-group/8/\"}},{\"level_learned_at\":0,\"move_learn_method\":{\"name\":\"tutor\",\"url\":\"https://pokeapi.co/api/v2/move-learn-method/3/\"},\"version_group\":{\"name\":\"emerald\",\"url\":\"https://pokeapi.co/api/v2/version-group/6/\"}}]},{\"move\":{\"name\":\"return\",\"url\":\"https://pokeapi.co/api/v2/move/216/\"},\"version_group_details\":[{\"level_learned_at\":0,\"move_learn_method\":{\"name\":\"machine\",\"url\":\"https://pokeapi.co/api/v2/move-learn-method/4/\"},\"version_group\":{\"name\":\"ultra-sun-ultra-moon\",\"url\":\"https://pokeapi.co/api/v2/version-group/18/\"}},{\"level_learned_at\":0,\"move_learn_method\":{\"name\":\"machine\",\"url\":\"https://pokeapi.co/api/v2/move-learn-method/4/\"},\"version_group\":{\"name\":\"sun-moon\",\"url\":\"https://pokeapi.co/api/v2/version-group/17/\"}},{\"level_learned_at\":0,\"move_learn_method\":{\"name\":\"machine\",\"url\":\"https://pokeapi.co/api/v2/move-learn-method/4/\"},\"version_group\":{\"name\":\"omega-ruby-alpha-sapphire\",\"url\":\"https://pokeapi.co/api/v2/version-group/16/\"}},{\"level_learned_at\":0,\"move_learn_method\":{\"name\":\"machine\",\"url\":\"https://pokeapi.co/api/v2/move-learn-method/4/\"},\"version_group\":{\"name\":\"black-2-white-2\",\"url\":\"https://pokeapi.co/api/v2/version-group/14/\"}},{\"level_learned_at\":0,\"move_learn_method\":{\"name\":\"machine\",\"url\":\"https://pokeapi.co/api/v2/move-learn-method/4/\"},\"version_group\":{\"name\":\"xd\",\"url\":\"https://pokeapi.co/api/v2/version-group/13/\"}},{\"level_learned_at\":0,\"move_learn_method\":{\"name\":\"machine\",\"url\":\"https://pokeapi.co/api/v2/move-learn-method/4/\"},\"version_group\":{\"name\":\"colosseum\",\"url\":\"https://pokeapi.co/api/v2/version-group/12/\"}},{\"level_learned_at\":0,\"move_learn_method\":{\"name\":\"machine\",\"url\":\"https://pokeapi.co/api/v2/move-learn-method/4/\"},\"version_group\":{\"name\":\"heartgold-soulsilver\",\"url\":\"https://pokeapi.co/api/v2/version-group/10/\"}},{\"level_learned_at\":0,\"move_learn_method\":{\"name\":\"machine\",\"url\":\"https://pokeapi.co/api/v2/move-learn-method/4/\"},\"version_group\":{\"name\":\"platinum\",\"url\":\"https://pokeapi.co/api/v2/version-group/9/\"}},{\"level_learned_at\":0,\"move_learn_method\":{\"name\":\"machine\",\"url\":\"https://pokeapi.co/api/v2/move-learn-method/4/\"},\"version_group\":{\"name\":\"x-y\",\"url\":\"https://pokeapi.co/api/v2/version-group/15/\"}},{\"level_learned_at\":0,\"move_learn_method\":{\"name\":\"machine\",\"url\":\"https://pokeapi.co/api/v2/move-learn-method/4/\"},\"version_group\":{\"name\":\"diamond-pearl\",\"url\":\"https://pokeapi.co/api/v2/version-group/8/\"}},{\"level_learned_at\":0,\"move_learn_method\":{\"name\":\"machine\",\"url\":\"https://pokeapi.co/api/v2/move-learn-method/4/\"},\"version_group\":{\"name\":\"firered-leafgreen\",\"url\":\"https://pokeapi.co/api/v2/version-group/7/\"}},{\"level_learned_at\":0,\"move_learn_method\":{\"name\":\"machine\",\"url\":\"https://pokeapi.co/api/v2/move-learn-method/4/\"},\"version_group\":{\"name\":\"emerald\",\"url\":\"https://pokeapi.co/api/v2/version-group/6/\"}},{\"level_learned_at\":0,\"move_learn_method\":{\"name\":\"machine\",\"url\":\"https://pokeapi.co/api/v2/move-learn-method/4/\"},\"version_group\":{\"name\":\"black-white\",\"url\":\"https://pokeapi.co/api/v2/version-group/11/\"}},{\"level_learned_at\":0,\"move_learn_method\":{\"name\":\"machine\",\"url\":\"https://pokeapi.co/api/v2/move-learn-method/4/\"},\"version_group\":{\"name\":\"ruby-sapphire\",\"url\":\"https://pokeapi.co/api/v2/version-group/5/\"}}]},{\"move\":{\"name\":\"frustration\",\"url\":\"https://pokeapi.co/api/v2/move/218/\"},\"version_group_details\":[{\"level_learned_at\":0,\"move_learn_method\":{\"name\":\"machine\",\"url\":\"https://pokeapi.co/api/v2/move-learn-method/4/\"},\"version_group\":{\"name\":\"ultra-sun-ultra-moon\",\"url\":\"https://pokeapi.co/api/v2/version-group/18/\"}},{\"level_learned_at\":0,\"move_learn_method\":{\"name\":\"machine\",\"url\":\"https://pokeapi.co/api/v2/move-learn-method/4/\"},\"version_group\":{\"name\":\"sun-moon\",\"url\":\"https://pokeapi.co/api/v2/version-group/17/\"}},{\"level_learned_at\":0,\"move_learn_method\":{\"name\":\"machine\",\"url\":\"https://pokeapi.co/api/v2/move-learn-method/4/\"},\"version_group\":{\"name\":\"omega-ruby-alpha-sapphire\",\"url\":\"https://pokeapi.co/api/v2/version-group/16/\"}},{\"level_learned_at\":0,\"move_learn_method\":{\"name\":\"machine\",\"url\":\"https://pokeapi.co/api/v2/move-learn-method/4/\"},\"version_group\":{\"name\":\"black-2-white-2\",\"url\":\"https://pokeapi.co/api/v2/version-group/14/\"}},{\"level_learned_at\":0,\"move_learn_method\":{\"name\":\"machine\",\"url\":\"https://pokeapi.co/api/v2/move-learn-method/4/\"},\"version_group\":{\"name\":\"xd\",\"url\":\"https://pokeapi.co/api/v2/version-group/13/\"}},{\"level_learned_at\":0,\"move_learn_method\":{\"name\":\"machine\",\"url\":\"https://pokeapi.co/api/v2/move-learn-method/4/\"},\"version_group\":{\"name\":\"colosseum\",\"url\":\"https://pokeapi.co/api/v2/version-group/12/\"}},{\"level_learned_at\":0,\"move_learn_method\":{\"name\":\"machine\",\"url\":\"https://pokeapi.co/api/v2/move-learn-method/4/\"},\"version_group\":{\"name\":\"heartgold-soulsilver\",\"url\":\"https://pokeapi.co/api/v2/version-group/10/\"}},{\"level_learned_at\":0,\"move_learn_method\":{\"name\":\"machine\",\"url\":\"https://pokeapi.co/api/v2/move-learn-method/4/\"},\"version_group\":{\"name\":\"platinum\",\"url\":\"https://pokeapi.co/api/v2/version-group/9/\"}},{\"level_learned_at\":0,\"move_learn_method\":{\"name\":\"machine\",\"url\":\"https://pokeapi.co/api/v2/move-learn-method/4/\"},\"version_group\":{\"name\":\"x-y\",\"url\":\"https://pokeapi.co/api/v2/version-group/15/\"}},{\"level_learned_at\":0,\"move_learn_method\":{\"name\":\"machine\",\"url\":\"https://pokeapi.co/api/v2/move-learn-method/4/\"},\"version_group\":{\"name\":\"diamond-pearl\",\"url\":\"https://pokeapi.co/api/v2/version-group/8/\"}},{\"level_learned_at\":0,\"move_learn_method\":{\"name\":\"machine\",\"url\":\"https://pokeapi.co/api/v2/move-learn-method/4/\"},\"version_group\":{\"name\":\"firered-leafgreen\",\"url\":\"https://pokeapi.co/api/v2/version-group/7/\"}},{\"level_learned_at\":0,\"move_learn_method\":{\"name\":\"machine\",\"url\":\"https://pokeapi.co/api/v2/move-learn-method/4/\"},\"version_group\":{\"name\":\"emerald\",\"url\":\"https://pokeapi.co/api/v2/version-group/6/\"}},{\"level_learned_at\":0,\"move_learn_method\":{\"name\":\"machine\",\"url\":\"https://pokeapi.co/api/v2/move-learn-method/4/\"},\"version_group\":{\"name\":\"black-white\",\"url\":\"https://pokeapi.co/api/v2/version-group/11/\"}},{\"level_learned_at\":0,\"move_learn_method\":{\"name\":\"machine\",\"url\":\"https://pokeapi.co/api/v2/move-learn-method/4/\"},\"version_group\":{\"name\":\"ruby-sapphire\",\"url\":\"https://pokeapi.co/api/v2/version-group/5/\"}}]},{\"move\":{\"name\":\"safeguard\",\"url\":\"https://pokeapi.co/api/v2/move/219/\"},\"version_group_details\":[{\"level_learned_at\":0,\"move_learn_method\":{\"name\":\"machine\",\"url\":\"https://pokeapi.co/api/v2/move-learn-method/4/\"},\"version_group\":{\"name\":\"ultra-sun-ultra-moon\",\"url\":\"https://pokeapi.co/api/v2/version-group/18/\"}},{\"level_learned_at\":0,\"move_learn_method\":{\"name\":\"machine\",\"url\":\"https://pokeapi.co/api/v2/move-learn-method/4/\"},\"version_group\":{\"name\":\"sun-moon\",\"url\":\"https://pokeapi.co/api/v2/version-group/17/\"}},{\"level_learned_at\":0,\"move_learn_method\":{\"name\":\"machine\",\"url\":\"https://pokeapi.co/api/v2/move-learn-method/4/\"},\"version_group\":{\"name\":\"omega-ruby-alpha-sapphire\",\"url\":\"https://pokeapi.co/api/v2/version-group/16/\"}},{\"level_learned_at\":0,\"move_learn_method\":{\"name\":\"machine\",\"url\":\"https://pokeapi.co/api/v2/move-learn-method/4/\"},\"version_group\":{\"name\":\"black-2-white-2\",\"url\":\"https://pokeapi.co/api/v2/version-group/14/\"}},{\"level_learned_at\":0,\"move_learn_method\":{\"name\":\"machine\",\"url\":\"https://pokeapi.co/api/v2/move-learn-method/4/\"},\"version_group\":{\"name\":\"xd\",\"url\":\"https://pokeapi.co/api/v2/version-group/13/\"}},{\"level_learned_at\":0,\"move_learn_method\":{\"name\":\"machine\",\"url\":\"https://pokeapi.co/api/v2/move-learn-method/4/\"},\"version_group\":{\"name\":\"colosseum\",\"url\":\"https://pokeapi.co/api/v2/version-group/12/\"}},{\"level_learned_at\":0,\"move_learn_method\":{\"name\":\"machine\",\"url\":\"https://pokeapi.co/api/v2/move-learn-method/4/\"},\"version_group\":{\"name\":\"heartgold-soulsilver\",\"url\":\"https://pokeapi.co/api/v2/version-group/10/\"}},{\"level_learned_at\":0,\"move_learn_method\":{\"name\":\"machine\",\"url\":\"https://pokeapi.co/api/v2/move-learn-method/4/\"},\"version_group\":{\"name\":\"platinum\",\"url\":\"https://pokeapi.co/api/v2/version-group/9/\"}},{\"level_learned_at\":0,\"move_learn_method\":{\"name\":\"machine\",\"url\":\"https://pokeapi.co/api/v2/move-learn-method/4/\"},\"version_group\":{\"name\":\"x-y\",\"url\":\"https://pokeapi.co/api/v2/version-group/15/\"}},{\"level_learned_at\":0,\"move_learn_method\":{\"name\":\"machine\",\"url\":\"https://pokeapi.co/api/v2/move-learn-method/4/\"},\"version_group\":{\"name\":\"diamond-pearl\",\"url\":\"https://pokeapi.co/api/v2/version-group/8/\"}},{\"level_learned_at\":0,\"move_learn_method\":{\"name\":\"machine\",\"url\":\"https://pokeapi.co/api/v2/move-learn-method/4/\"},\"version_group\":{\"name\":\"firered-leafgreen\",\"url\":\"https://pokeapi.co/api/v2/version-group/7/\"}},{\"level_learned_at\":0,\"move_learn_method\":{\"name\":\"machine\",\"url\":\"https://pokeapi.co/api/v2/move-learn-method/4/\"},\"version_group\":{\"name\":\"emerald\",\"url\":\"https://pokeapi.co/api/v2/version-group/6/\"}},{\"level_learned_at\":0,\"move_learn_method\":{\"name\":\"machine\",\"url\":\"https://pokeapi.co/api/v2/move-learn-method/4/\"},\"version_group\":{\"name\":\"black-white\",\"url\":\"https://pokeapi.co/api/v2/version-group/11/\"}},{\"level_learned_at\":0,\"move_learn_method\":{\"name\":\"machine\",\"url\":\"https://pokeapi.co/api/v2/move-learn-method/4/\"},\"version_group\":{\"name\":\"ruby-sapphire\",\"url\":\"https://pokeapi.co/api/v2/version-group/5/\"}}]},{\"move\":{\"name\":\"dynamic-punch\",\"url\":\"https://pokeapi.co/api/v2/move/223/\"},\"version_group_details\":[{\"level_learned_at\":0,\"move_learn_method\":{\"name\":\"tutor\",\"url\":\"https://pokeapi.co/api/v2/move-learn-method/3/\"},\"version_group\":{\"name\":\"emerald\",\"url\":\"https://pokeapi.co/api/v2/version-group/6/\"}}]},{\"move\":{\"name\":\"iron-tail\",\"url\":\"https://pokeapi.co/api/v2/move/231/\"},\"version_group_details\":[{\"level_learned_at\":0,\"move_learn_method\":{\"name\":\"tutor\",\"url\":\"https://pokeapi.co/api/v2/move-learn-method/3/\"},\"version_group\":{\"name\":\"omega-ruby-alpha-sapphire\",\"url\":\"https://pokeapi.co/api/v2/version-group/16/\"}},{\"level_learned_at\":0,\"move_learn_method\":{\"name\":\"tutor\",\"url\":\"https://pokeapi.co/api/v2/move-learn-method/3/\"},\"version_group\":{\"name\":\"black-2-white-2\",\"url\":\"https://pokeapi.co/api/v2/version-group/14/\"}},{\"level_learned_at\":0,\"move_learn_method\":{\"name\":\"machine\",\"url\":\"https://pokeapi.co/api/v2/move-learn-method/4/\"},\"version_group\":{\"name\":\"xd\",\"url\":\"https://pokeapi.co/api/v2/version-group/13/\"}},{\"level_learned_at\":0,\"move_learn_method\":{\"name\":\"machine\",\"url\":\"https://pokeapi.co/api/v2/move-learn-method/4/\"},\"version_group\":{\"name\":\"colosseum\",\"url\":\"https://pokeapi.co/api/v2/version-group/12/\"}},{\"level_learned_at\":0,\"move_learn_method\":{\"name\":\"machine\",\"url\":\"https://pokeapi.co/api/v2/move-learn-method/4/\"},\"version_group\":{\"name\":\"heartgold-soulsilver\",\"url\":\"https://pokeapi.co/api/v2/version-group/10/\"}},{\"level_learned_at\":0,\"move_learn_method\":{\"name\":\"machine\",\"url\":\"https://pokeapi.co/api/v2/move-learn-method/4/\"},\"version_group\":{\"name\":\"platinum\",\"url\":\"https://pokeapi.co/api/v2/version-group/9/\"}},{\"level_learned_at\":0,\"move_learn_method\":{\"name\":\"machine\",\"url\":\"https://pokeapi.co/api/v2/move-learn-method/4/\"},\"version_group\":{\"name\":\"diamond-pearl\",\"url\":\"https://pokeapi.co/api/v2/version-group/8/\"}},{\"level_learned_at\":0,\"move_learn_method\":{\"name\":\"machine\",\"url\":\"https://pokeapi.co/api/v2/move-learn-method/4/\"},\"version_group\":{\"name\":\"firered-leafgreen\",\"url\":\"https://pokeapi.co/api/v2/version-group/7/\"}},{\"level_learned_at\":0,\"move_learn_method\":{\"name\":\"machine\",\"url\":\"https://pokeapi.co/api/v2/move-learn-method/4/\"},\"version_group\":{\"name\":\"emerald\",\"url\":\"https://pokeapi.co/api/v2/version-group/6/\"}},{\"level_learned_at\":0,\"move_learn_method\":{\"name\":\"machine\",\"url\":\"https://pokeapi.co/api/v2/move-learn-method/4/\"},\"version_group\":{\"name\":\"ruby-sapphire\",\"url\":\"https://pokeapi.co/api/v2/version-group/5/\"}}]},{\"move\":{\"name\":\"hidden-power\",\"url\":\"https://pokeapi.co/api/v2/move/237/\"},\"version_group_details\":[{\"level_learned_at\":0,\"move_learn_method\":{\"name\":\"machine\",\"url\":\"https://pokeapi.co/api/v2/move-learn-method/4/\"},\"version_group\":{\"name\":\"ultra-sun-ultra-moon\",\"url\":\"https://pokeapi.co/api/v2/version-group/18/\"}},{\"level_learned_at\":0,\"move_learn_method\":{\"name\":\"machine\",\"url\":\"https://pokeapi.co/api/v2/move-learn-method/4/\"},\"version_group\":{\"name\":\"sun-moon\",\"url\":\"https://pokeapi.co/api/v2/version-group/17/\"}},{\"level_learned_at\":0,\"move_learn_method\":{\"name\":\"machine\",\"url\":\"https://pokeapi.co/api/v2/move-learn-method/4/\"},\"version_group\":{\"name\":\"omega-ruby-alpha-sapphire\",\"url\":\"https://pokeapi.co/api/v2/version-group/16/\"}},{\"level_learned_at\":0,\"move_learn_method\":{\"name\":\"machine\",\"url\":\"https://pokeapi.co/api/v2/move-learn-method/4/\"},\"version_group\":{\"name\":\"black-2-white-2\",\"url\":\"https://pokeapi.co/api/v2/version-group/14/\"}},{\"level_learned_at\":0,\"move_learn_method\":{\"name\":\"machine\",\"url\":\"https://pokeapi.co/api/v2/move-learn-method/4/\"},\"version_group\":{\"name\":\"xd\",\"url\":\"https://pokeapi.co/api/v2/version-group/13/\"}},{\"level_learned_at\":0,\"move_learn_method\":{\"name\":\"machine\",\"url\":\"https://pokeapi.co/api/v2/move-learn-method/4/\"},\"version_group\":{\"name\":\"colosseum\",\"url\":\"https://pokeapi.co/api/v2/version-group/12/\"}},{\"level_learned_at\":0,\"move_learn_method\":{\"name\":\"machine\",\"url\":\"https://pokeapi.co/api/v2/move-learn-method/4/\"},\"version_group\":{\"name\":\"black-white\",\"url\":\"https://pokeapi.co/api/v2/version-group/11/\"}},{\"level_learned_at\":0,\"move_learn_method\":{\"name\":\"machine\",\"url\":\"https://pokeapi.co/api/v2/move-learn-method/4/\"},\"version_group\":{\"name\":\"heartgold-soulsilver\",\"url\":\"https://pokeapi.co/api/v2/version-group/10/\"}},{\"level_learned_at\":0,\"move_learn_method\":{\"name\":\"machine\",\"url\":\"https://pokeapi.co/api/v2/move-learn-method/4/\"},\"version_group\":{\"name\":\"platinum\",\"url\":\"https://pokeapi.co/api/v2/version-group/9/\"}},{\"level_learned_at\":0,\"move_learn_method\":{\"name\":\"machine\",\"url\":\"https://pokeapi.co/api/v2/move-learn-method/4/\"},\"version_group\":{\"name\":\"x-y\",\"url\":\"https://pokeapi.co/api/v2/version-group/15/\"}},{\"level_learned_at\":0,\"move_learn_method\":{\"name\":\"machine\",\"url\":\"https://pokeapi.co/api/v2/move-learn-method/4/\"},\"version_group\":{\"name\":\"diamond-pearl\",\"url\":\"https://pokeapi.co/api/v2/version-group/8/\"}},{\"level_learned_at\":0,\"move_learn_method\":{\"name\":\"machine\",\"url\":\"https://pokeapi.co/api/v2/move-learn-method/4/\"},\"version_group\":{\"name\":\"firered-leafgreen\",\"url\":\"https://pokeapi.co/api/v2/version-group/7/\"}},{\"level_learned_at\":0,\"move_learn_method\":{\"name\":\"machine\",\"url\":\"https://pokeapi.co/api/v2/move-learn-method/4/\"},\"version_group\":{\"name\":\"emerald\",\"url\":\"https://pokeapi.co/api/v2/version-group/6/\"}},{\"level_learned_at\":0,\"move_learn_method\":{\"name\":\"machine\",\"url\":\"https://pokeapi.co/api/v2/move-learn-method/4/\"},\"version_group\":{\"name\":\"ruby-sapphire\",\"url\":\"https://pokeapi.co/api/v2/version-group/5/\"}}]},{\"move\":{\"name\":\"sunny-day\",\"url\":\"https://pokeapi.co/api/v2/move/241/\"},\"version_group_details\":[{\"level_learned_at\":0,\"move_learn_method\":{\"name\":\"machine\",\"url\":\"https://pokeapi.co/api/v2/move-learn-method/4/\"},\"version_group\":{\"name\":\"ultra-sun-ultra-moon\",\"url\":\"https://pokeapi.co/api/v2/version-group/18/\"}},{\"level_learned_at\":0,\"move_learn_method\":{\"name\":\"machine\",\"url\":\"https://pokeapi.co/api/v2/move-learn-method/4/\"},\"version_group\":{\"name\":\"sun-moon\",\"url\":\"https://pokeapi.co/api/v2/version-group/17/\"}},{\"level_learned_at\":0,\"move_learn_method\":{\"name\":\"machine\",\"url\":\"https://pokeapi.co/api/v2/move-learn-method/4/\"},\"version_group\":{\"name\":\"omega-ruby-alpha-sapphire\",\"url\":\"https://pokeapi.co/api/v2/version-group/16/\"}},{\"level_learned_at\":0,\"move_learn_method\":{\"name\":\"machine\",\"url\":\"https://pokeapi.co/api/v2/move-learn-method/4/\"},\"version_group\":{\"name\":\"black-2-white-2\",\"url\":\"https://pokeapi.co/api/v2/version-group/14/\"}},{\"level_learned_at\":0,\"move_learn_method\":{\"name\":\"machine\",\"url\":\"https://pokeapi.co/api/v2/move-learn-method/4/\"},\"version_group\":{\"name\":\"xd\",\"url\":\"https://pokeapi.co/api/v2/version-group/13/\"}},{\"level_learned_at\":0,\"move_learn_method\":{\"name\":\"machine\",\"url\":\"https://pokeapi.co/api/v2/move-learn-method/4/\"},\"version_group\":{\"name\":\"colosseum\",\"url\":\"https://pokeapi.co/api/v2/version-group/12/\"}},{\"level_learned_at\":0,\"move_learn_method\":{\"name\":\"machine\",\"url\":\"https://pokeapi.co/api/v2/move-learn-method/4/\"},\"version_group\":{\"name\":\"black-white\",\"url\":\"https://pokeapi.co/api/v2/version-group/11/\"}},{\"level_learned_at\":0,\"move_learn_method\":{\"name\":\"machine\",\"url\":\"https://pokeapi.co/api/v2/move-learn-method/4/\"},\"version_group\":{\"name\":\"heartgold-soulsilver\",\"url\":\"https://pokeapi.co/api/v2/version-group/10/\"}},{\"level_learned_at\":0,\"move_learn_method\":{\"name\":\"machine\",\"url\":\"https://pokeapi.co/api/v2/move-learn-method/4/\"},\"version_group\":{\"name\":\"platinum\",\"url\":\"https://pokeapi.co/api/v2/version-group/9/\"}},{\"level_learned_at\":0,\"move_learn_method\":{\"name\":\"machine\",\"url\":\"https://pokeapi.co/api/v2/move-learn-method/4/\"},\"version_group\":{\"name\":\"x-y\",\"url\":\"https://pokeapi.co/api/v2/version-group/15/\"}},{\"level_learned_at\":0,\"move_learn_method\":{\"name\":\"machine\",\"url\":\"https://pokeapi.co/api/v2/move-learn-method/4/\"},\"version_group\":{\"name\":\"diamond-pearl\",\"url\":\"https://pokeapi.co/api/v2/version-group/8/\"}},{\"level_learned_at\":0,\"move_learn_method\":{\"name\":\"machine\",\"url\":\"https://pokeapi.co/api/v2/move-learn-method/4/\"},\"version_group\":{\"name\":\"firered-leafgreen\",\"url\":\"https://pokeapi.co/api/v2/version-group/7/\"}},{\"level_learned_at\":0,\"move_learn_method\":{\"name\":\"machine\",\"url\":\"https://pokeapi.co/api/v2/move-learn-method/4/\"},\"version_group\":{\"name\":\"emerald\",\"url\":\"https://pokeapi.co/api/v2/version-group/6/\"}},{\"level_learned_at\":0,\"move_learn_method\":{\"name\":\"machine\",\"url\":\"https://pokeapi.co/api/v2/move-learn-method/4/\"},\"version_group\":{\"name\":\"ruby-sapphire\",\"url\":\"https://pokeapi.co/api/v2/version-group/5/\"}}]},{\"move\":{\"name\":\"psych-up\",\"url\":\"https://pokeapi.co/api/v2/move/244/\"},\"version_group_details\":[{\"level_learned_at\":0,\"move_learn_method\":{\"name\":\"machine\",\"url\":\"https://pokeapi.co/api/v2/move-learn-method/4/\"},\"version_group\":{\"name\":\"ultra-sun-ultra-moon\",\"url\":\"https://pokeapi.co/api/v2/version-group/18/\"}},{\"level_learned_at\":0,\"move_learn_method\":{\"name\":\"machine\",\"url\":\"https://pokeapi.co/api/v2/move-learn-method/4/\"},\"version_group\":{\"name\":\"sun-moon\",\"url\":\"https://pokeapi.co/api/v2/version-group/17/\"}},{\"level_learned_at\":0,\"move_learn_method\":{\"name\":\"machine\",\"url\":\"https://pokeapi.co/api/v2/move-learn-method/4/\"},\"version_group\":{\"name\":\"omega-ruby-alpha-sapphire\",\"url\":\"https://pokeapi.co/api/v2/version-group/16/\"}},{\"level_learned_at\":0,\"move_learn_method\":{\"name\":\"machine\",\"url\":\"https://pokeapi.co/api/v2/move-learn-method/4/\"},\"version_group\":{\"name\":\"black-2-white-2\",\"url\":\"https://pokeapi.co/api/v2/version-group/14/\"}},{\"level_learned_at\":0,\"move_learn_method\":{\"name\":\"machine\",\"url\":\"https://pokeapi.co/api/v2/move-learn-method/4/\"},\"version_group\":{\"name\":\"black-white\",\"url\":\"https://pokeapi.co/api/v2/version-group/11/\"}},{\"level_learned_at\":0,\"move_learn_method\":{\"name\":\"machine\",\"url\":\"https://pokeapi.co/api/v2/move-learn-method/4/\"},\"version_group\":{\"name\":\"heartgold-soulsilver\",\"url\":\"https://pokeapi.co/api/v2/version-group/10/\"}},{\"level_learned_at\":0,\"move_learn_method\":{\"name\":\"machine\",\"url\":\"https://pokeapi.co/api/v2/move-learn-method/4/\"},\"version_group\":{\"name\":\"platinum\",\"url\":\"https://pokeapi.co/api/v2/version-group/9/\"}},{\"level_learned_at\":0,\"move_learn_method\":{\"name\":\"machine\",\"url\":\"https://pokeapi.co/api/v2/move-learn-method/4/\"},\"version_group\":{\"name\":\"x-y\",\"url\":\"https://pokeapi.co/api/v2/version-group/15/\"}},{\"level_learned_at\":0,\"move_learn_method\":{\"name\":\"machine\",\"url\":\"https://pokeapi.co/api/v2/move-learn-method/4/\"},\"version_group\":{\"name\":\"diamond-pearl\",\"url\":\"https://pokeapi.co/api/v2/version-group/8/\"}},{\"level_learned_at\":0,\"move_learn_method\":{\"name\":\"tutor\",\"url\":\"https://pokeapi.co/api/v2/move-learn-method/3/\"},\"version_group\":{\"name\":\"emerald\",\"url\":\"https://pokeapi.co/api/v2/version-group/6/\"}}]},{\"move\":{\"name\":\"ancient-power\",\"url\":\"https://pokeapi.co/api/v2/move/246/\"},\"version_group_details\":[{\"level_learned_at\":15,\"move_learn_method\":{\"name\":\"level-up\",\"url\":\"https://pokeapi.co/api/v2/move-learn-method/1/\"},\"version_group\":{\"name\":\"ruby-sapphire\",\"url\":\"https://pokeapi.co/api/v2/version-group/5/\"}},{\"level_learned_at\":15,\"move_learn_method\":{\"name\":\"level-up\",\"url\":\"https://pokeapi.co/api/v2/move-learn-method/1/\"},\"version_group\":{\"name\":\"emerald\",\"url\":\"https://pokeapi.co/api/v2/version-group/6/\"}},{\"level_learned_at\":15,\"move_learn_method\":{\"name\":\"level-up\",\"url\":\"https://pokeapi.co/api/v2/move-learn-method/1/\"},\"version_group\":{\"name\":\"firered-leafgreen\",\"url\":\"https://pokeapi.co/api/v2/version-group/7/\"}},{\"level_learned_at\":15,\"move_learn_method\":{\"name\":\"level-up\",\"url\":\"https://pokeapi.co/api/v2/move-learn-method/1/\"},\"version_group\":{\"name\":\"diamond-pearl\",\"url\":\"https://pokeapi.co/api/v2/version-group/8/\"}},{\"level_learned_at\":15,\"move_learn_method\":{\"name\":\"level-up\",\"url\":\"https://pokeapi.co/api/v2/move-learn-method/1/\"},\"version_group\":{\"name\":\"platinum\",\"url\":\"https://pokeapi.co/api/v2/version-group/9/\"}},{\"level_learned_at\":0,\"move_learn_method\":{\"name\":\"tutor\",\"url\":\"https://pokeapi.co/api/v2/move-learn-method/3/\"},\"version_group\":{\"name\":\"platinum\",\"url\":\"https://pokeapi.co/api/v2/version-group/9/\"}},{\"level_learned_at\":45,\"move_learn_method\":{\"name\":\"level-up\",\"url\":\"https://pokeapi.co/api/v2/move-learn-method/1/\"},\"version_group\":{\"name\":\"heartgold-soulsilver\",\"url\":\"https://pokeapi.co/api/v2/version-group/10/\"}},{\"level_learned_at\":0,\"move_learn_method\":{\"name\":\"tutor\",\"url\":\"https://pokeapi.co/api/v2/move-learn-method/3/\"},\"version_group\":{\"name\":\"heartgold-soulsilver\",\"url\":\"https://pokeapi.co/api/v2/version-group/10/\"}},{\"level_learned_at\":45,\"move_learn_method\":{\"name\":\"level-up\",\"url\":\"https://pokeapi.co/api/v2/move-learn-method/1/\"},\"version_group\":{\"name\":\"black-white\",\"url\":\"https://pokeapi.co/api/v2/version-group/11/\"}},{\"level_learned_at\":15,\"move_learn_method\":{\"name\":\"level-up\",\"url\":\"https://pokeapi.co/api/v2/move-learn-method/1/\"},\"version_group\":{\"name\":\"colosseum\",\"url\":\"https://pokeapi.co/api/v2/version-group/12/\"}},{\"level_learned_at\":15,\"move_learn_method\":{\"name\":\"level-up\",\"url\":\"https://pokeapi.co/api/v2/move-learn-method/1/\"},\"version_group\":{\"name\":\"xd\",\"url\":\"https://pokeapi.co/api/v2/version-group/13/\"}},{\"level_learned_at\":45,\"move_learn_method\":{\"name\":\"level-up\",\"url\":\"https://pokeapi.co/api/v2/move-learn-method/1/\"},\"version_group\":{\"name\":\"black-2-white-2\",\"url\":\"https://pokeapi.co/api/v2/version-group/14/\"}},{\"level_learned_at\":45,\"move_learn_method\":{\"name\":\"level-up\",\"url\":\"https://pokeapi.co/api/v2/move-learn-method/1/\"},\"version_group\":{\"name\":\"x-y\",\"url\":\"https://pokeapi.co/api/v2/version-group/15/\"}},{\"level_learned_at\":1,\"move_learn_method\":{\"name\":\"level-up\",\"url\":\"https://pokeapi.co/api/v2/move-learn-method/1/\"},\"version_group\":{\"name\":\"omega-ruby-alpha-sapphire\",\"url\":\"https://pokeapi.co/api/v2/version-group/16/\"}},{\"level_learned_at\":1,\"move_learn_method\":{\"name\":\"level-up\",\"url\":\"https://pokeapi.co/api/v2/move-learn-method/1/\"},\"version_group\":{\"name\":\"sun-moon\",\"url\":\"https://pokeapi.co/api/v2/version-group/17/\"}},{\"level_learned_at\":1,\"move_learn_method\":{\"name\":\"level-up\",\"url\":\"https://pokeapi.co/api/v2/move-learn-method/1/\"},\"version_group\":{\"name\":\"ultra-sun-ultra-moon\",\"url\":\"https://pokeapi.co/api/v2/version-group/18/\"}}]},{\"move\":{\"name\":\"rock-smash\",\"url\":\"https://pokeapi.co/api/v2/move/249/\"},\"version_group_details\":[{\"level_learned_at\":0,\"move_learn_method\":{\"name\":\"machine\",\"url\":\"https://pokeapi.co/api/v2/move-learn-method/4/\"},\"version_group\":{\"name\":\"omega-ruby-alpha-sapphire\",\"url\":\"https://pokeapi.co/api/v2/version-group/16/\"}},{\"level_learned_at\":0,\"move_learn_method\":{\"name\":\"machine\",\"url\":\"https://pokeapi.co/api/v2/move-learn-method/4/\"},\"version_group\":{\"name\":\"black-2-white-2\",\"url\":\"https://pokeapi.co/api/v2/version-group/14/\"}},{\"level_learned_at\":0,\"move_learn_method\":{\"name\":\"machine\",\"url\":\"https://pokeapi.co/api/v2/move-learn-method/4/\"},\"version_group\":{\"name\":\"xd\",\"url\":\"https://pokeapi.co/api/v2/version-group/13/\"}},{\"level_learned_at\":0,\"move_learn_method\":{\"name\":\"machine\",\"url\":\"https://pokeapi.co/api/v2/move-learn-method/4/\"},\"version_group\":{\"name\":\"colosseum\",\"url\":\"https://pokeapi.co/api/v2/version-group/12/\"}},{\"level_learned_at\":0,\"move_learn_method\":{\"name\":\"machine\",\"url\":\"https://pokeapi.co/api/v2/move-learn-method/4/\"},\"version_group\":{\"name\":\"black-white\",\"url\":\"https://pokeapi.co/api/v2/version-group/11/\"}},{\"level_learned_at\":0,\"move_learn_method\":{\"name\":\"machine\",\"url\":\"https://pokeapi.co/api/v2/move-learn-method/4/\"},\"version_group\":{\"name\":\"heartgold-soulsilver\",\"url\":\"https://pokeapi.co/api/v2/version-group/10/\"}},{\"level_learned_at\":0,\"move_learn_method\":{\"name\":\"machine\",\"url\":\"https://pokeapi.co/api/v2/move-learn-method/4/\"},\"version_group\":{\"name\":\"platinum\",\"url\":\"https://pokeapi.co/api/v2/version-group/9/\"}},{\"level_learned_at\":0,\"move_learn_method\":{\"name\":\"machine\",\"url\":\"https://pokeapi.co/api/v2/move-learn-method/4/\"},\"version_group\":{\"name\":\"x-y\",\"url\":\"https://pokeapi.co/api/v2/version-group/15/\"}},{\"level_learned_at\":0,\"move_learn_method\":{\"name\":\"machine\",\"url\":\"https://pokeapi.co/api/v2/move-learn-method/4/\"},\"version_group\":{\"name\":\"diamond-pearl\",\"url\":\"https://pokeapi.co/api/v2/version-group/8/\"}},{\"level_learned_at\":0,\"move_learn_method\":{\"name\":\"machine\",\"url\":\"https://pokeapi.co/api/v2/move-learn-method/4/\"},\"version_group\":{\"name\":\"firered-leafgreen\",\"url\":\"https://pokeapi.co/api/v2/version-group/7/\"}},{\"level_learned_at\":0,\"move_learn_method\":{\"name\":\"machine\",\"url\":\"https://pokeapi.co/api/v2/move-learn-method/4/\"},\"version_group\":{\"name\":\"emerald\",\"url\":\"https://pokeapi.co/api/v2/version-group/6/\"}},{\"level_learned_at\":0,\"move_learn_method\":{\"name\":\"machine\",\"url\":\"https://pokeapi.co/api/v2/move-learn-method/4/\"},\"version_group\":{\"name\":\"ruby-sapphire\",\"url\":\"https://pokeapi.co/api/v2/version-group/5/\"}}]},{\"move\":{\"name\":\"uproar\",\"url\":\"https://pokeapi.co/api/v2/move/253/\"},\"version_group_details\":[{\"level_learned_at\":0,\"move_learn_method\":{\"name\":\"tutor\",\"url\":\"https://pokeapi.co/api/v2/move-learn-method/3/\"},\"version_group\":{\"name\":\"platinum\",\"url\":\"https://pokeapi.co/api/v2/version-group/9/\"}},{\"level_learned_at\":0,\"move_learn_method\":{\"name\":\"tutor\",\"url\":\"https://pokeapi.co/api/v2/move-learn-method/3/\"},\"version_group\":{\"name\":\"heartgold-soulsilver\",\"url\":\"https://pokeapi.co/api/v2/version-group/10/\"}},{\"level_learned_at\":0,\"move_learn_method\":{\"name\":\"tutor\",\"url\":\"https://pokeapi.co/api/v2/move-learn-method/3/\"},\"version_group\":{\"name\":\"black-2-white-2\",\"url\":\"https://pokeapi.co/api/v2/version-group/14/\"}},{\"level_learned_at\":0,\"move_learn_method\":{\"name\":\"tutor\",\"url\":\"https://pokeapi.co/api/v2/move-learn-method/3/\"},\"version_group\":{\"name\":\"omega-ruby-alpha-sapphire\",\"url\":\"https://pokeapi.co/api/v2/version-group/16/\"}}]},{\"move\":{\"name\":\"facade\",\"url\":\"https://pokeapi.co/api/v2/move/263/\"},\"version_group_details\":[{\"level_learned_at\":0,\"move_learn_method\":{\"name\":\"machine\",\"url\":\"https://pokeapi.co/api/v2/move-learn-method/4/\"},\"version_group\":{\"name\":\"ultra-sun-ultra-moon\",\"url\":\"https://pokeapi.co/api/v2/version-group/18/\"}},{\"level_learned_at\":0,\"move_learn_method\":{\"name\":\"machine\",\"url\":\"https://pokeapi.co/api/v2/move-learn-method/4/\"},\"version_group\":{\"name\":\"sun-moon\",\"url\":\"https://pokeapi.co/api/v2/version-group/17/\"}},{\"level_learned_at\":0,\"move_learn_method\":{\"name\":\"machine\",\"url\":\"https://pokeapi.co/api/v2/move-learn-method/4/\"},\"version_group\":{\"name\":\"omega-ruby-alpha-sapphire\",\"url\":\"https://pokeapi.co/api/v2/version-group/16/\"}},{\"level_learned_at\":0,\"move_learn_method\":{\"name\":\"machine\",\"url\":\"https://pokeapi.co/api/v2/move-learn-method/4/\"},\"version_group\":{\"name\":\"black-2-white-2\",\"url\":\"https://pokeapi.co/api/v2/version-group/14/\"}},{\"level_learned_at\":0,\"move_learn_method\":{\"name\":\"machine\",\"url\":\"https://pokeapi.co/api/v2/move-learn-method/4/\"},\"version_group\":{\"name\":\"xd\",\"url\":\"https://pokeapi.co/api/v2/version-group/13/\"}},{\"level_learned_at\":0,\"move_learn_method\":{\"name\":\"machine\",\"url\":\"https://pokeapi.co/api/v2/move-learn-method/4/\"},\"version_group\":{\"name\":\"colosseum\",\"url\":\"https://pokeapi.co/api/v2/version-group/12/\"}},{\"level_learned_at\":0,\"move_learn_method\":{\"name\":\"machine\",\"url\":\"https://pokeapi.co/api/v2/move-learn-method/4/\"},\"version_group\":{\"name\":\"black-white\",\"url\":\"https://pokeapi.co/api/v2/version-group/11/\"}},{\"level_learned_at\":0,\"move_learn_method\":{\"name\":\"machine\",\"url\":\"https://pokeapi.co/api/v2/move-learn-method/4/\"},\"version_group\":{\"name\":\"heartgold-soulsilver\",\"url\":\"https://pokeapi.co/api/v2/version-group/10/\"}},{\"level_learned_at\":0,\"move_learn_method\":{\"name\":\"machine\",\"url\":\"https://pokeapi.co/api/v2/move-learn-method/4/\"},\"version_group\":{\"name\":\"platinum\",\"url\":\"https://pokeapi.co/api/v2/version-group/9/\"}},{\"level_learned_at\":0,\"move_learn_method\":{\"name\":\"machine\",\"url\":\"https://pokeapi.co/api/v2/move-learn-method/4/\"},\"version_group\":{\"name\":\"x-y\",\"url\":\"https://pokeapi.co/api/v2/version-group/15/\"}},{\"level_learned_at\":0,\"move_learn_method\":{\"name\":\"machine\",\"url\":\"https://pokeapi.co/api/v2/move-learn-method/4/\"},\"version_group\":{\"name\":\"diamond-pearl\",\"url\":\"https://pokeapi.co/api/v2/version-group/8/\"}},{\"level_learned_at\":0,\"move_learn_method\":{\"name\":\"machine\",\"url\":\"https://pokeapi.co/api/v2/move-learn-method/4/\"},\"version_group\":{\"name\":\"firered-leafgreen\",\"url\":\"https://pokeapi.co/api/v2/version-group/7/\"}},{\"level_learned_at\":0,\"move_learn_method\":{\"name\":\"machine\",\"url\":\"https://pokeapi.co/api/v2/move-learn-method/4/\"},\"version_group\":{\"name\":\"emerald\",\"url\":\"https://pokeapi.co/api/v2/version-group/6/\"}},{\"level_learned_at\":0,\"move_learn_method\":{\"name\":\"machine\",\"url\":\"https://pokeapi.co/api/v2/move-learn-method/4/\"},\"version_group\":{\"name\":\"ruby-sapphire\",\"url\":\"https://pokeapi.co/api/v2/version-group/5/\"}}]},{\"move\":{\"name\":\"brick-break\",\"url\":\"https://pokeapi.co/api/v2/move/280/\"},\"version_group_details\":[{\"level_learned_at\":0,\"move_learn_method\":{\"name\":\"machine\",\"url\":\"https://pokeapi.co/api/v2/move-learn-method/4/\"},\"version_group\":{\"name\":\"ultra-sun-ultra-moon\",\"url\":\"https://pokeapi.co/api/v2/version-group/18/\"}},{\"level_learned_at\":0,\"move_learn_method\":{\"name\":\"machine\",\"url\":\"https://pokeapi.co/api/v2/move-learn-method/4/\"},\"version_group\":{\"name\":\"sun-moon\",\"url\":\"https://pokeapi.co/api/v2/version-group/17/\"}},{\"level_learned_at\":0,\"move_learn_method\":{\"name\":\"machine\",\"url\":\"https://pokeapi.co/api/v2/move-learn-method/4/\"},\"version_group\":{\"name\":\"omega-ruby-alpha-sapphire\",\"url\":\"https://pokeapi.co/api/v2/version-group/16/\"}},{\"level_learned_at\":0,\"move_learn_method\":{\"name\":\"machine\",\"url\":\"https://pokeapi.co/api/v2/move-learn-method/4/\"},\"version_group\":{\"name\":\"black-2-white-2\",\"url\":\"https://pokeapi.co/api/v2/version-group/14/\"}},{\"level_learned_at\":0,\"move_learn_method\":{\"name\":\"machine\",\"url\":\"https://pokeapi.co/api/v2/move-learn-method/4/\"},\"version_group\":{\"name\":\"xd\",\"url\":\"https://pokeapi.co/api/v2/version-group/13/\"}},{\"level_learned_at\":0,\"move_learn_method\":{\"name\":\"machine\",\"url\":\"https://pokeapi.co/api/v2/move-learn-method/4/\"},\"version_group\":{\"name\":\"colosseum\",\"url\":\"https://pokeapi.co/api/v2/version-group/12/\"}},{\"level_learned_at\":0,\"move_learn_method\":{\"name\":\"machine\",\"url\":\"https://pokeapi.co/api/v2/move-learn-method/4/\"},\"version_group\":{\"name\":\"black-white\",\"url\":\"https://pokeapi.co/api/v2/version-group/11/\"}},{\"level_learned_at\":0,\"move_learn_method\":{\"name\":\"machine\",\"url\":\"https://pokeapi.co/api/v2/move-learn-method/4/\"},\"version_group\":{\"name\":\"heartgold-soulsilver\",\"url\":\"https://pokeapi.co/api/v2/version-group/10/\"}},{\"level_learned_at\":0,\"move_learn_method\":{\"name\":\"machine\",\"url\":\"https://pokeapi.co/api/v2/move-learn-method/4/\"},\"version_group\":{\"name\":\"platinum\",\"url\":\"https://pokeapi.co/api/v2/version-group/9/\"}},{\"level_learned_at\":0,\"move_learn_method\":{\"name\":\"machine\",\"url\":\"https://pokeapi.co/api/v2/move-learn-method/4/\"},\"version_group\":{\"name\":\"x-y\",\"url\":\"https://pokeapi.co/api/v2/version-group/15/\"}},{\"level_learned_at\":0,\"move_learn_method\":{\"name\":\"machine\",\"url\":\"https://pokeapi.co/api/v2/move-learn-method/4/\"},\"version_group\":{\"name\":\"diamond-pearl\",\"url\":\"https://pokeapi.co/api/v2/version-group/8/\"}},{\"level_learned_at\":0,\"move_learn_method\":{\"name\":\"machine\",\"url\":\"https://pokeapi.co/api/v2/move-learn-method/4/\"},\"version_group\":{\"name\":\"firered-leafgreen\",\"url\":\"https://pokeapi.co/api/v2/version-group/7/\"}},{\"level_learned_at\":0,\"move_learn_method\":{\"name\":\"machine\",\"url\":\"https://pokeapi.co/api/v2/move-learn-method/4/\"},\"version_group\":{\"name\":\"emerald\",\"url\":\"https://pokeapi.co/api/v2/version-group/6/\"}},{\"level_learned_at\":0,\"move_learn_method\":{\"name\":\"machine\",\"url\":\"https://pokeapi.co/api/v2/move-learn-method/4/\"},\"version_group\":{\"name\":\"ruby-sapphire\",\"url\":\"https://pokeapi.co/api/v2/version-group/5/\"}}]},{\"move\":{\"name\":\"eruption\",\"url\":\"https://pokeapi.co/api/v2/move/284/\"},\"version_group_details\":[{\"level_learned_at\":75,\"move_learn_method\":{\"name\":\"level-up\",\"url\":\"https://pokeapi.co/api/v2/move-learn-method/1/\"},\"version_group\":{\"name\":\"ruby-sapphire\",\"url\":\"https://pokeapi.co/api/v2/version-group/5/\"}},{\"level_learned_at\":75,\"move_learn_method\":{\"name\":\"level-up\",\"url\":\"https://pokeapi.co/api/v2/move-learn-method/1/\"},\"version_group\":{\"name\":\"emerald\",\"url\":\"https://pokeapi.co/api/v2/version-group/6/\"}},{\"level_learned_at\":75,\"move_learn_method\":{\"name\":\"level-up\",\"url\":\"https://pokeapi.co/api/v2/move-learn-method/1/\"},\"version_group\":{\"name\":\"firered-leafgreen\",\"url\":\"https://pokeapi.co/api/v2/version-group/7/\"}},{\"level_learned_at\":80,\"move_learn_method\":{\"name\":\"level-up\",\"url\":\"https://pokeapi.co/api/v2/move-learn-method/1/\"},\"version_group\":{\"name\":\"diamond-pearl\",\"url\":\"https://pokeapi.co/api/v2/version-group/8/\"}},{\"level_learned_at\":80,\"move_learn_method\":{\"name\":\"level-up\",\"url\":\"https://pokeapi.co/api/v2/move-learn-method/1/\"},\"version_group\":{\"name\":\"platinum\",\"url\":\"https://pokeapi.co/api/v2/version-group/9/\"}},{\"level_learned_at\":50,\"move_learn_method\":{\"name\":\"level-up\",\"url\":\"https://pokeapi.co/api/v2/move-learn-method/1/\"},\"version_group\":{\"name\":\"heartgold-soulsilver\",\"url\":\"https://pokeapi.co/api/v2/version-group/10/\"}},{\"level_learned_at\":50,\"move_learn_method\":{\"name\":\"level-up\",\"url\":\"https://pokeapi.co/api/v2/move-learn-method/1/\"},\"version_group\":{\"name\":\"black-white\",\"url\":\"https://pokeapi.co/api/v2/version-group/11/\"}},{\"level_learned_at\":75,\"move_learn_method\":{\"name\":\"level-up\",\"url\":\"https://pokeapi.co/api/v2/move-learn-method/1/\"},\"version_group\":{\"name\":\"colosseum\",\"url\":\"https://pokeapi.co/api/v2/version-group/12/\"}},{\"level_learned_at\":75,\"move_learn_method\":{\"name\":\"level-up\",\"url\":\"https://pokeapi.co/api/v2/move-learn-method/1/\"},\"version_group\":{\"name\":\"xd\",\"url\":\"https://pokeapi.co/api/v2/version-group/13/\"}},{\"level_learned_at\":50,\"move_learn_method\":{\"name\":\"level-up\",\"url\":\"https://pokeapi.co/api/v2/move-learn-method/1/\"},\"version_group\":{\"name\":\"black-2-white-2\",\"url\":\"https://pokeapi.co/api/v2/version-group/14/\"}},{\"level_learned_at\":50,\"move_learn_method\":{\"name\":\"level-up\",\"url\":\"https://pokeapi.co/api/v2/move-learn-method/1/\"},\"version_group\":{\"name\":\"x-y\",\"url\":\"https://pokeapi.co/api/v2/version-group/15/\"}},{\"level_learned_at\":90,\"move_learn_method\":{\"name\":\"level-up\",\"url\":\"https://pokeapi.co/api/v2/move-learn-method/1/\"},\"version_group\":{\"name\":\"omega-ruby-alpha-sapphire\",\"url\":\"https://pokeapi.co/api/v2/version-group/16/\"}},{\"level_learned_at\":90,\"move_learn_method\":{\"name\":\"level-up\",\"url\":\"https://pokeapi.co/api/v2/move-learn-method/1/\"},\"version_group\":{\"name\":\"sun-moon\",\"url\":\"https://pokeapi.co/api/v2/version-group/17/\"}},{\"level_learned_at\":90,\"move_learn_method\":{\"name\":\"level-up\",\"url\":\"https://pokeapi.co/api/v2/move-learn-method/1/\"},\"version_group\":{\"name\":\"ultra-sun-ultra-moon\",\"url\":\"https://pokeapi.co/api/v2/version-group/18/\"}}]},{\"move\":{\"name\":\"secret-power\",\"url\":\"https://pokeapi.co/api/v2/move/290/\"},\"version_group_details\":[{\"level_learned_at\":0,\"move_learn_method\":{\"name\":\"machine\",\"url\":\"https://pokeapi.co/api/v2/move-learn-method/4/\"},\"version_group\":{\"name\":\"omega-ruby-alpha-sapphire\",\"url\":\"https://pokeapi.co/api/v2/version-group/16/\"}},{\"level_learned_at\":0,\"move_learn_method\":{\"name\":\"machine\",\"url\":\"https://pokeapi.co/api/v2/move-learn-method/4/\"},\"version_group\":{\"name\":\"xd\",\"url\":\"https://pokeapi.co/api/v2/version-group/13/\"}},{\"level_learned_at\":0,\"move_learn_method\":{\"name\":\"machine\",\"url\":\"https://pokeapi.co/api/v2/move-learn-method/4/\"},\"version_group\":{\"name\":\"colosseum\",\"url\":\"https://pokeapi.co/api/v2/version-group/12/\"}},{\"level_learned_at\":0,\"move_learn_method\":{\"name\":\"machine\",\"url\":\"https://pokeapi.co/api/v2/move-learn-method/4/\"},\"version_group\":{\"name\":\"heartgold-soulsilver\",\"url\":\"https://pokeapi.co/api/v2/version-group/10/\"}},{\"level_learned_at\":0,\"move_learn_method\":{\"name\":\"machine\",\"url\":\"https://pokeapi.co/api/v2/move-learn-method/4/\"},\"version_group\":{\"name\":\"platinum\",\"url\":\"https://pokeapi.co/api/v2/version-group/9/\"}},{\"level_learned_at\":0,\"move_learn_method\":{\"name\":\"machine\",\"url\":\"https://pokeapi.co/api/v2/move-learn-method/4/\"},\"version_group\":{\"name\":\"diamond-pearl\",\"url\":\"https://pokeapi.co/api/v2/version-group/8/\"}},{\"level_learned_at\":0,\"move_learn_method\":{\"name\":\"machine\",\"url\":\"https://pokeapi.co/api/v2/move-learn-method/4/\"},\"version_group\":{\"name\":\"firered-leafgreen\",\"url\":\"https://pokeapi.co/api/v2/version-group/7/\"}},{\"level_learned_at\":0,\"move_learn_method\":{\"name\":\"machine\",\"url\":\"https://pokeapi.co/api/v2/move-learn-method/4/\"},\"version_group\":{\"name\":\"emerald\",\"url\":\"https://pokeapi.co/api/v2/version-group/6/\"}},{\"level_learned_at\":0,\"move_learn_method\":{\"name\":\"machine\",\"url\":\"https://pokeapi.co/api/v2/move-learn-method/4/\"},\"version_group\":{\"name\":\"ruby-sapphire\",\"url\":\"https://pokeapi.co/api/v2/version-group/5/\"}}]},{\"move\":{\"name\":\"overheat\",\"url\":\"https://pokeapi.co/api/v2/move/315/\"},\"version_group_details\":[{\"level_learned_at\":0,\"move_learn_method\":{\"name\":\"machine\",\"url\":\"https://pokeapi.co/api/v2/move-learn-method/4/\"},\"version_group\":{\"name\":\"ruby-sapphire\",\"url\":\"https://pokeapi.co/api/v2/version-group/5/\"}},{\"level_learned_at\":0,\"move_learn_method\":{\"name\":\"machine\",\"url\":\"https://pokeapi.co/api/v2/move-learn-method/4/\"},\"version_group\":{\"name\":\"emerald\",\"url\":\"https://pokeapi.co/api/v2/version-group/6/\"}},{\"level_learned_at\":0,\"move_learn_method\":{\"name\":\"machine\",\"url\":\"https://pokeapi.co/api/v2/move-learn-method/4/\"},\"version_group\":{\"name\":\"firered-leafgreen\",\"url\":\"https://pokeapi.co/api/v2/version-group/7/\"}},{\"level_learned_at\":0,\"move_learn_method\":{\"name\":\"machine\",\"url\":\"https://pokeapi.co/api/v2/move-learn-method/4/\"},\"version_group\":{\"name\":\"diamond-pearl\",\"url\":\"https://pokeapi.co/api/v2/version-group/8/\"}},{\"level_learned_at\":0,\"move_learn_method\":{\"name\":\"machine\",\"url\":\"https://pokeapi.co/api/v2/move-learn-method/4/\"},\"version_group\":{\"name\":\"platinum\",\"url\":\"https://pokeapi.co/api/v2/version-group/9/\"}},{\"level_learned_at\":0,\"move_learn_method\":{\"name\":\"machine\",\"url\":\"https://pokeapi.co/api/v2/move-learn-method/4/\"},\"version_group\":{\"name\":\"heartgold-soulsilver\",\"url\":\"https://pokeapi.co/api/v2/version-group/10/\"}},{\"level_learned_at\":0,\"move_learn_method\":{\"name\":\"machine\",\"url\":\"https://pokeapi.co/api/v2/move-learn-method/4/\"},\"version_group\":{\"name\":\"black-white\",\"url\":\"https://pokeapi.co/api/v2/version-group/11/\"}},{\"level_learned_at\":0,\"move_learn_method\":{\"name\":\"machine\",\"url\":\"https://pokeapi.co/api/v2/move-learn-method/4/\"},\"version_group\":{\"name\":\"colosseum\",\"url\":\"https://pokeapi.co/api/v2/version-group/12/\"}},{\"level_learned_at\":0,\"move_learn_method\":{\"name\":\"machine\",\"url\":\"https://pokeapi.co/api/v2/move-learn-method/4/\"},\"version_group\":{\"name\":\"xd\",\"url\":\"https://pokeapi.co/api/v2/version-group/13/\"}},{\"level_learned_at\":0,\"move_learn_method\":{\"name\":\"machine\",\"url\":\"https://pokeapi.co/api/v2/move-learn-method/4/\"},\"version_group\":{\"name\":\"black-2-white-2\",\"url\":\"https://pokeapi.co/api/v2/version-group/14/\"}},{\"level_learned_at\":0,\"move_learn_method\":{\"name\":\"machine\",\"url\":\"https://pokeapi.co/api/v2/move-learn-method/4/\"},\"version_group\":{\"name\":\"x-y\",\"url\":\"https://pokeapi.co/api/v2/version-group/15/\"}},{\"level_learned_at\":0,\"move_learn_method\":{\"name\":\"machine\",\"url\":\"https://pokeapi.co/api/v2/move-learn-method/4/\"},\"version_group\":{\"name\":\"omega-ruby-alpha-sapphire\",\"url\":\"https://pokeapi.co/api/v2/version-group/16/\"}},{\"level_learned_at\":0,\"move_learn_method\":{\"name\":\"machine\",\"url\":\"https://pokeapi.co/api/v2/move-learn-method/4/\"},\"version_group\":{\"name\":\"sun-moon\",\"url\":\"https://pokeapi.co/api/v2/version-group/17/\"}},{\"level_learned_at\":0,\"move_learn_method\":{\"name\":\"machine\",\"url\":\"https://pokeapi.co/api/v2/move-learn-method/4/\"},\"version_group\":{\"name\":\"ultra-sun-ultra-moon\",\"url\":\"https://pokeapi.co/api/v2/version-group/18/\"}}]},{\"move\":{\"name\":\"rock-tomb\",\"url\":\"https://pokeapi.co/api/v2/move/317/\"},\"version_group_details\":[{\"level_learned_at\":0,\"move_learn_method\":{\"name\":\"machine\",\"url\":\"https://pokeapi.co/api/v2/move-learn-method/4/\"},\"version_group\":{\"name\":\"ultra-sun-ultra-moon\",\"url\":\"https://pokeapi.co/api/v2/version-group/18/\"}},{\"level_learned_at\":0,\"move_learn_method\":{\"name\":\"machine\",\"url\":\"https://pokeapi.co/api/v2/move-learn-method/4/\"},\"version_group\":{\"name\":\"sun-moon\",\"url\":\"https://pokeapi.co/api/v2/version-group/17/\"}},{\"level_learned_at\":0,\"move_learn_method\":{\"name\":\"machine\",\"url\":\"https://pokeapi.co/api/v2/move-learn-method/4/\"},\"version_group\":{\"name\":\"omega-ruby-alpha-sapphire\",\"url\":\"https://pokeapi.co/api/v2/version-group/16/\"}},{\"level_learned_at\":0,\"move_learn_method\":{\"name\":\"machine\",\"url\":\"https://pokeapi.co/api/v2/move-learn-method/4/\"},\"version_group\":{\"name\":\"black-2-white-2\",\"url\":\"https://pokeapi.co/api/v2/version-group/14/\"}},{\"level_learned_at\":0,\"move_learn_method\":{\"name\":\"machine\",\"url\":\"https://pokeapi.co/api/v2/move-learn-method/4/\"},\"version_group\":{\"name\":\"xd\",\"url\":\"https://pokeapi.co/api/v2/version-group/13/\"}},{\"level_learned_at\":0,\"move_learn_method\":{\"name\":\"machine\",\"url\":\"https://pokeapi.co/api/v2/move-learn-method/4/\"},\"version_group\":{\"name\":\"colosseum\",\"url\":\"https://pokeapi.co/api/v2/version-group/12/\"}},{\"level_learned_at\":0,\"move_learn_method\":{\"name\":\"machine\",\"url\":\"https://pokeapi.co/api/v2/move-learn-method/4/\"},\"version_group\":{\"name\":\"black-white\",\"url\":\"https://pokeapi.co/api/v2/version-group/11/\"}},{\"level_learned_at\":0,\"move_learn_method\":{\"name\":\"machine\",\"url\":\"https://pokeapi.co/api/v2/move-learn-method/4/\"},\"version_group\":{\"name\":\"heartgold-soulsilver\",\"url\":\"https://pokeapi.co/api/v2/version-group/10/\"}},{\"level_learned_at\":0,\"move_learn_method\":{\"name\":\"machine\",\"url\":\"https://pokeapi.co/api/v2/move-learn-method/4/\"},\"version_group\":{\"name\":\"platinum\",\"url\":\"https://pokeapi.co/api/v2/version-group/9/\"}},{\"level_learned_at\":0,\"move_learn_method\":{\"name\":\"machine\",\"url\":\"https://pokeapi.co/api/v2/move-learn-method/4/\"},\"version_group\":{\"name\":\"x-y\",\"url\":\"https://pokeapi.co/api/v2/version-group/15/\"}},{\"level_learned_at\":0,\"move_learn_method\":{\"name\":\"machine\",\"url\":\"https://pokeapi.co/api/v2/move-learn-method/4/\"},\"version_group\":{\"name\":\"diamond-pearl\",\"url\":\"https://pokeapi.co/api/v2/version-group/8/\"}},{\"level_learned_at\":0,\"move_learn_method\":{\"name\":\"machine\",\"url\":\"https://pokeapi.co/api/v2/move-learn-method/4/\"},\"version_group\":{\"name\":\"firered-leafgreen\",\"url\":\"https://pokeapi.co/api/v2/version-group/7/\"}},{\"level_learned_at\":0,\"move_learn_method\":{\"name\":\"machine\",\"url\":\"https://pokeapi.co/api/v2/move-learn-method/4/\"},\"version_group\":{\"name\":\"emerald\",\"url\":\"https://pokeapi.co/api/v2/version-group/6/\"}},{\"level_learned_at\":0,\"move_learn_method\":{\"name\":\"machine\",\"url\":\"https://pokeapi.co/api/v2/move-learn-method/4/\"},\"version_group\":{\"name\":\"ruby-sapphire\",\"url\":\"https://pokeapi.co/api/v2/version-group/5/\"}}]},{\"move\":{\"name\":\"aerial-ace\",\"url\":\"https://pokeapi.co/api/v2/move/332/\"},\"version_group_details\":[{\"level_learned_at\":0,\"move_learn_method\":{\"name\":\"machine\",\"url\":\"https://pokeapi.co/api/v2/move-learn-method/4/\"},\"version_group\":{\"name\":\"ultra-sun-ultra-moon\",\"url\":\"https://pokeapi.co/api/v2/version-group/18/\"}},{\"level_learned_at\":0,\"move_learn_method\":{\"name\":\"machine\",\"url\":\"https://pokeapi.co/api/v2/move-learn-method/4/\"},\"version_group\":{\"name\":\"sun-moon\",\"url\":\"https://pokeapi.co/api/v2/version-group/17/\"}},{\"level_learned_at\":0,\"move_learn_method\":{\"name\":\"machine\",\"url\":\"https://pokeapi.co/api/v2/move-learn-method/4/\"},\"version_group\":{\"name\":\"omega-ruby-alpha-sapphire\",\"url\":\"https://pokeapi.co/api/v2/version-group/16/\"}},{\"level_learned_at\":0,\"move_learn_method\":{\"name\":\"machine\",\"url\":\"https://pokeapi.co/api/v2/move-learn-method/4/\"},\"version_group\":{\"name\":\"black-2-white-2\",\"url\":\"https://pokeapi.co/api/v2/version-group/14/\"}},{\"level_learned_at\":0,\"move_learn_method\":{\"name\":\"machine\",\"url\":\"https://pokeapi.co/api/v2/move-learn-method/4/\"},\"version_group\":{\"name\":\"xd\",\"url\":\"https://pokeapi.co/api/v2/version-group/13/\"}},{\"level_learned_at\":0,\"move_learn_method\":{\"name\":\"machine\",\"url\":\"https://pokeapi.co/api/v2/move-learn-method/4/\"},\"version_group\":{\"name\":\"colosseum\",\"url\":\"https://pokeapi.co/api/v2/version-group/12/\"}},{\"level_learned_at\":0,\"move_learn_method\":{\"name\":\"machine\",\"url\":\"https://pokeapi.co/api/v2/move-learn-method/4/\"},\"version_group\":{\"name\":\"black-white\",\"url\":\"https://pokeapi.co/api/v2/version-group/11/\"}},{\"level_learned_at\":0,\"move_learn_method\":{\"name\":\"machine\",\"url\":\"https://pokeapi.co/api/v2/move-learn-method/4/\"},\"version_group\":{\"name\":\"heartgold-soulsilver\",\"url\":\"https://pokeapi.co/api/v2/version-group/10/\"}},{\"level_learned_at\":0,\"move_learn_method\":{\"name\":\"machine\",\"url\":\"https://pokeapi.co/api/v2/move-learn-method/4/\"},\"version_group\":{\"name\":\"platinum\",\"url\":\"https://pokeapi.co/api/v2/version-group/9/\"}},{\"level_learned_at\":0,\"move_learn_method\":{\"name\":\"machine\",\"url\":\"https://pokeapi.co/api/v2/move-learn-method/4/\"},\"version_group\":{\"name\":\"x-y\",\"url\":\"https://pokeapi.co/api/v2/version-group/15/\"}},{\"level_learned_at\":0,\"move_learn_method\":{\"name\":\"machine\",\"url\":\"https://pokeapi.co/api/v2/move-learn-method/4/\"},\"version_group\":{\"name\":\"diamond-pearl\",\"url\":\"https://pokeapi.co/api/v2/version-group/8/\"}},{\"level_learned_at\":0,\"move_learn_method\":{\"name\":\"machine\",\"url\":\"https://pokeapi.co/api/v2/move-learn-method/4/\"},\"version_group\":{\"name\":\"firered-leafgreen\",\"url\":\"https://pokeapi.co/api/v2/version-group/7/\"}},{\"level_learned_at\":0,\"move_learn_method\":{\"name\":\"machine\",\"url\":\"https://pokeapi.co/api/v2/move-learn-method/4/\"},\"version_group\":{\"name\":\"emerald\",\"url\":\"https://pokeapi.co/api/v2/version-group/6/\"}},{\"level_learned_at\":0,\"move_learn_method\":{\"name\":\"machine\",\"url\":\"https://pokeapi.co/api/v2/move-learn-method/4/\"},\"version_group\":{\"name\":\"ruby-sapphire\",\"url\":\"https://pokeapi.co/api/v2/version-group/5/\"}}]},{\"move\":{\"name\":\"block\",\"url\":\"https://pokeapi.co/api/v2/move/335/\"},\"version_group_details\":[{\"level_learned_at\":0,\"move_learn_method\":{\"name\":\"tutor\",\"url\":\"https://pokeapi.co/api/v2/move-learn-method/3/\"},\"version_group\":{\"name\":\"heartgold-soulsilver\",\"url\":\"https://pokeapi.co/api/v2/version-group/10/\"}},{\"level_learned_at\":0,\"move_learn_method\":{\"name\":\"tutor\",\"url\":\"https://pokeapi.co/api/v2/move-learn-method/3/\"},\"version_group\":{\"name\":\"black-2-white-2\",\"url\":\"https://pokeapi.co/api/v2/version-group/14/\"}},{\"level_learned_at\":0,\"move_learn_method\":{\"name\":\"tutor\",\"url\":\"https://pokeapi.co/api/v2/move-learn-method/3/\"},\"version_group\":{\"name\":\"omega-ruby-alpha-sapphire\",\"url\":\"https://pokeapi.co/api/v2/version-group/16/\"}}]},{\"move\":{\"name\":\"dragon-claw\",\"url\":\"https://pokeapi.co/api/v2/move/337/\"},\"version_group_details\":[{\"level_learned_at\":0,\"move_learn_method\":{\"name\":\"machine\",\"url\":\"https://pokeapi.co/api/v2/move-learn-method/4/\"},\"version_group\":{\"name\":\"ruby-sapphire\",\"url\":\"https://pokeapi.co/api/v2/version-group/5/\"}},{\"level_learned_at\":0,\"move_learn_method\":{\"name\":\"machine\",\"url\":\"https://pokeapi.co/api/v2/move-learn-method/4/\"},\"version_group\":{\"name\":\"emerald\",\"url\":\"https://pokeapi.co/api/v2/version-group/6/\"}},{\"level_learned_at\":0,\"move_learn_method\":{\"name\":\"machine\",\"url\":\"https://pokeapi.co/api/v2/move-learn-method/4/\"},\"version_group\":{\"name\":\"firered-leafgreen\",\"url\":\"https://pokeapi.co/api/v2/version-group/7/\"}},{\"level_learned_at\":0,\"move_learn_method\":{\"name\":\"machine\",\"url\":\"https://pokeapi.co/api/v2/move-learn-method/4/\"},\"version_group\":{\"name\":\"diamond-pearl\",\"url\":\"https://pokeapi.co/api/v2/version-group/8/\"}},{\"level_learned_at\":0,\"move_learn_method\":{\"name\":\"machine\",\"url\":\"https://pokeapi.co/api/v2/move-learn-method/4/\"},\"version_group\":{\"name\":\"platinum\",\"url\":\"https://pokeapi.co/api/v2/version-group/9/\"}},{\"level_learned_at\":0,\"move_learn_method\":{\"name\":\"machine\",\"url\":\"https://pokeapi.co/api/v2/move-learn-method/4/\"},\"version_group\":{\"name\":\"heartgold-soulsilver\",\"url\":\"https://pokeapi.co/api/v2/version-group/10/\"}},{\"level_learned_at\":0,\"move_learn_method\":{\"name\":\"machine\",\"url\":\"https://pokeapi.co/api/v2/move-learn-method/4/\"},\"version_group\":{\"name\":\"black-white\",\"url\":\"https://pokeapi.co/api/v2/version-group/11/\"}},{\"level_learned_at\":0,\"move_learn_method\":{\"name\":\"machine\",\"url\":\"https://pokeapi.co/api/v2/move-learn-method/4/\"},\"version_group\":{\"name\":\"colosseum\",\"url\":\"https://pokeapi.co/api/v2/version-group/12/\"}},{\"level_learned_at\":0,\"move_learn_method\":{\"name\":\"machine\",\"url\":\"https://pokeapi.co/api/v2/move-learn-method/4/\"},\"version_group\":{\"name\":\"xd\",\"url\":\"https://pokeapi.co/api/v2/version-group/13/\"}},{\"level_learned_at\":0,\"move_learn_method\":{\"name\":\"machine\",\"url\":\"https://pokeapi.co/api/v2/move-learn-method/4/\"},\"version_group\":{\"name\":\"black-2-white-2\",\"url\":\"https://pokeapi.co/api/v2/version-group/14/\"}},{\"level_learned_at\":0,\"move_learn_method\":{\"name\":\"machine\",\"url\":\"https://pokeapi.co/api/v2/move-learn-method/4/\"},\"version_group\":{\"name\":\"x-y\",\"url\":\"https://pokeapi.co/api/v2/version-group/15/\"}},{\"level_learned_at\":0,\"move_learn_method\":{\"name\":\"machine\",\"url\":\"https://pokeapi.co/api/v2/move-learn-method/4/\"},\"version_group\":{\"name\":\"omega-ruby-alpha-sapphire\",\"url\":\"https://pokeapi.co/api/v2/version-group/16/\"}},{\"level_learned_at\":0,\"move_learn_method\":{\"name\":\"machine\",\"url\":\"https://pokeapi.co/api/v2/move-learn-method/4/\"},\"version_group\":{\"name\":\"sun-moon\",\"url\":\"https://pokeapi.co/api/v2/version-group/17/\"}},{\"level_learned_at\":0,\"move_learn_method\":{\"name\":\"machine\",\"url\":\"https://pokeapi.co/api/v2/move-learn-method/4/\"},\"version_group\":{\"name\":\"ultra-sun-ultra-moon\",\"url\":\"https://pokeapi.co/api/v2/version-group/18/\"}}]},{\"move\":{\"name\":\"bulk-up\",\"url\":\"https://pokeapi.co/api/v2/move/339/\"},\"version_group_details\":[{\"level_learned_at\":30,\"move_learn_method\":{\"name\":\"level-up\",\"url\":\"https://pokeapi.co/api/v2/move-learn-method/1/\"},\"version_group\":{\"name\":\"ruby-sapphire\",\"url\":\"https://pokeapi.co/api/v2/version-group/5/\"}},{\"level_learned_at\":0,\"move_learn_method\":{\"name\":\"machine\",\"url\":\"https://pokeapi.co/api/v2/move-learn-method/4/\"},\"version_group\":{\"name\":\"ruby-sapphire\",\"url\":\"https://pokeapi.co/api/v2/version-group/5/\"}},{\"level_learned_at\":30,\"move_learn_method\":{\"name\":\"level-up\",\"url\":\"https://pokeapi.co/api/v2/move-learn-method/1/\"},\"version_group\":{\"name\":\"emerald\",\"url\":\"https://pokeapi.co/api/v2/version-group/6/\"}},{\"level_learned_at\":0,\"move_learn_method\":{\"name\":\"machine\",\"url\":\"https://pokeapi.co/api/v2/move-learn-method/4/\"},\"version_group\":{\"name\":\"emerald\",\"url\":\"https://pokeapi.co/api/v2/version-group/6/\"}},{\"level_learned_at\":30,\"move_learn_method\":{\"name\":\"level-up\",\"url\":\"https://pokeapi.co/api/v2/move-learn-method/1/\"},\"version_group\":{\"name\":\"firered-leafgreen\",\"url\":\"https://pokeapi.co/api/v2/version-group/7/\"}},{\"level_learned_at\":0,\"move_learn_method\":{\"name\":\"machine\",\"url\":\"https://pokeapi.co/api/v2/move-learn-method/4/\"},\"version_group\":{\"name\":\"firered-leafgreen\",\"url\":\"https://pokeapi.co/api/v2/version-group/7/\"}},{\"level_learned_at\":30,\"move_learn_method\":{\"name\":\"level-up\",\"url\":\"https://pokeapi.co/api/v2/move-learn-method/1/\"},\"version_group\":{\"name\":\"diamond-pearl\",\"url\":\"https://pokeapi.co/api/v2/version-group/8/\"}},{\"level_learned_at\":0,\"move_learn_method\":{\"name\":\"machine\",\"url\":\"https://pokeapi.co/api/v2/move-learn-method/4/\"},\"version_group\":{\"name\":\"diamond-pearl\",\"url\":\"https://pokeapi.co/api/v2/version-group/8/\"}},{\"level_learned_at\":30,\"move_learn_method\":{\"name\":\"level-up\",\"url\":\"https://pokeapi.co/api/v2/move-learn-method/1/\"},\"version_group\":{\"name\":\"platinum\",\"url\":\"https://pokeapi.co/api/v2/version-group/9/\"}},{\"level_learned_at\":0,\"move_learn_method\":{\"name\":\"machine\",\"url\":\"https://pokeapi.co/api/v2/move-learn-method/4/\"},\"version_group\":{\"name\":\"platinum\",\"url\":\"https://pokeapi.co/api/v2/version-group/9/\"}},{\"level_learned_at\":60,\"move_learn_method\":{\"name\":\"level-up\",\"url\":\"https://pokeapi.co/api/v2/move-learn-method/1/\"},\"version_group\":{\"name\":\"heartgold-soulsilver\",\"url\":\"https://pokeapi.co/api/v2/version-group/10/\"}},{\"level_learned_at\":0,\"move_learn_method\":{\"name\":\"machine\",\"url\":\"https://pokeapi.co/api/v2/move-learn-method/4/\"},\"version_group\":{\"name\":\"heartgold-soulsilver\",\"url\":\"https://pokeapi.co/api/v2/version-group/10/\"}},{\"level_learned_at\":60,\"move_learn_method\":{\"name\":\"level-up\",\"url\":\"https://pokeapi.co/api/v2/move-learn-method/1/\"},\"version_group\":{\"name\":\"black-white\",\"url\":\"https://pokeapi.co/api/v2/version-group/11/\"}},{\"level_learned_at\":0,\"move_learn_method\":{\"name\":\"machine\",\"url\":\"https://pokeapi.co/api/v2/move-learn-method/4/\"},\"version_group\":{\"name\":\"black-white\",\"url\":\"https://pokeapi.co/api/v2/version-group/11/\"}},{\"level_learned_at\":30,\"move_learn_method\":{\"name\":\"level-up\",\"url\":\"https://pokeapi.co/api/v2/move-learn-method/1/\"},\"version_group\":{\"name\":\"colosseum\",\"url\":\"https://pokeapi.co/api/v2/version-group/12/\"}},{\"level_learned_at\":0,\"move_learn_method\":{\"name\":\"machine\",\"url\":\"https://pokeapi.co/api/v2/move-learn-method/4/\"},\"version_group\":{\"name\":\"colosseum\",\"url\":\"https://pokeapi.co/api/v2/version-group/12/\"}},{\"level_learned_at\":30,\"move_learn_method\":{\"name\":\"level-up\",\"url\":\"https://pokeapi.co/api/v2/move-learn-method/1/\"},\"version_group\":{\"name\":\"xd\",\"url\":\"https://pokeapi.co/api/v2/version-group/13/\"}},{\"level_learned_at\":0,\"move_learn_method\":{\"name\":\"machine\",\"url\":\"https://pokeapi.co/api/v2/move-learn-method/4/\"},\"version_group\":{\"name\":\"xd\",\"url\":\"https://pokeapi.co/api/v2/version-group/13/\"}},{\"level_learned_at\":60,\"move_learn_method\":{\"name\":\"level-up\",\"url\":\"https://pokeapi.co/api/v2/move-learn-method/1/\"},\"version_group\":{\"name\":\"black-2-white-2\",\"url\":\"https://pokeapi.co/api/v2/version-group/14/\"}},{\"level_learned_at\":0,\"move_learn_method\":{\"name\":\"machine\",\"url\":\"https://pokeapi.co/api/v2/move-learn-method/4/\"},\"version_group\":{\"name\":\"black-2-white-2\",\"url\":\"https://pokeapi.co/api/v2/version-group/14/\"}},{\"level_learned_at\":60,\"move_learn_method\":{\"name\":\"level-up\",\"url\":\"https://pokeapi.co/api/v2/move-learn-method/1/\"},\"version_group\":{\"name\":\"x-y\",\"url\":\"https://pokeapi.co/api/v2/version-group/15/\"}},{\"level_learned_at\":0,\"move_learn_method\":{\"name\":\"machine\",\"url\":\"https://pokeapi.co/api/v2/move-learn-method/4/\"},\"version_group\":{\"name\":\"x-y\",\"url\":\"https://pokeapi.co/api/v2/version-group/15/\"}},{\"level_learned_at\":50,\"move_learn_method\":{\"name\":\"level-up\",\"url\":\"https://pokeapi.co/api/v2/move-learn-method/1/\"},\"version_group\":{\"name\":\"omega-ruby-alpha-sapphire\",\"url\":\"https://pokeapi.co/api/v2/version-group/16/\"}},{\"level_learned_at\":0,\"move_learn_method\":{\"name\":\"machine\",\"url\":\"https://pokeapi.co/api/v2/move-learn-method/4/\"},\"version_group\":{\"name\":\"omega-ruby-alpha-sapphire\",\"url\":\"https://pokeapi.co/api/v2/version-group/16/\"}},{\"level_learned_at\":50,\"move_learn_method\":{\"name\":\"level-up\",\"url\":\"https://pokeapi.co/api/v2/move-learn-method/1/\"},\"version_group\":{\"name\":\"sun-moon\",\"url\":\"https://pokeapi.co/api/v2/version-group/17/\"}},{\"level_learned_at\":0,\"move_learn_method\":{\"name\":\"machine\",\"url\":\"https://pokeapi.co/api/v2/move-learn-method/4/\"},\"version_group\":{\"name\":\"sun-moon\",\"url\":\"https://pokeapi.co/api/v2/version-group/17/\"}},{\"level_learned_at\":50,\"move_learn_method\":{\"name\":\"level-up\",\"url\":\"https://pokeapi.co/api/v2/move-learn-method/1/\"},\"version_group\":{\"name\":\"ultra-sun-ultra-moon\",\"url\":\"https://pokeapi.co/api/v2/version-group/18/\"}},{\"level_learned_at\":0,\"move_learn_method\":{\"name\":\"machine\",\"url\":\"https://pokeapi.co/api/v2/move-learn-method/4/\"},\"version_group\":{\"name\":\"ultra-sun-ultra-moon\",\"url\":\"https://pokeapi.co/api/v2/version-group/18/\"}}]},{\"move\":{\"name\":\"mud-shot\",\"url\":\"https://pokeapi.co/api/v2/move/341/\"},\"version_group_details\":[{\"level_learned_at\":1,\"move_learn_method\":{\"name\":\"level-up\",\"url\":\"https://pokeapi.co/api/v2/move-learn-method/1/\"},\"version_group\":{\"name\":\"ruby-sapphire\",\"url\":\"https://pokeapi.co/api/v2/version-group/5/\"}},{\"level_learned_at\":1,\"move_learn_method\":{\"name\":\"level-up\",\"url\":\"https://pokeapi.co/api/v2/move-learn-method/1/\"},\"version_group\":{\"name\":\"emerald\",\"url\":\"https://pokeapi.co/api/v2/version-group/6/\"}},{\"level_learned_at\":1,\"move_learn_method\":{\"name\":\"level-up\",\"url\":\"https://pokeapi.co/api/v2/move-learn-method/1/\"},\"version_group\":{\"name\":\"firered-leafgreen\",\"url\":\"https://pokeapi.co/api/v2/version-group/7/\"}},{\"level_learned_at\":1,\"move_learn_method\":{\"name\":\"level-up\",\"url\":\"https://pokeapi.co/api/v2/move-learn-method/1/\"},\"version_group\":{\"name\":\"diamond-pearl\",\"url\":\"https://pokeapi.co/api/v2/version-group/8/\"}},{\"level_learned_at\":1,\"move_learn_method\":{\"name\":\"level-up\",\"url\":\"https://pokeapi.co/api/v2/move-learn-method/1/\"},\"version_group\":{\"name\":\"platinum\",\"url\":\"https://pokeapi.co/api/v2/version-group/9/\"}},{\"level_learned_at\":1,\"move_learn_method\":{\"name\":\"level-up\",\"url\":\"https://pokeapi.co/api/v2/move-learn-method/1/\"},\"version_group\":{\"name\":\"heartgold-soulsilver\",\"url\":\"https://pokeapi.co/api/v2/version-group/10/\"}},{\"level_learned_at\":1,\"move_learn_method\":{\"name\":\"level-up\",\"url\":\"https://pokeapi.co/api/v2/move-learn-method/1/\"},\"version_group\":{\"name\":\"black-white\",\"url\":\"https://pokeapi.co/api/v2/version-group/11/\"}},{\"level_learned_at\":1,\"move_learn_method\":{\"name\":\"level-up\",\"url\":\"https://pokeapi.co/api/v2/move-learn-method/1/\"},\"version_group\":{\"name\":\"colosseum\",\"url\":\"https://pokeapi.co/api/v2/version-group/12/\"}},{\"level_learned_at\":1,\"move_learn_method\":{\"name\":\"level-up\",\"url\":\"https://pokeapi.co/api/v2/move-learn-method/1/\"},\"version_group\":{\"name\":\"xd\",\"url\":\"https://pokeapi.co/api/v2/version-group/13/\"}},{\"level_learned_at\":1,\"move_learn_method\":{\"name\":\"level-up\",\"url\":\"https://pokeapi.co/api/v2/move-learn-method/1/\"},\"version_group\":{\"name\":\"black-2-white-2\",\"url\":\"https://pokeapi.co/api/v2/version-group/14/\"}},{\"level_learned_at\":1,\"move_learn_method\":{\"name\":\"level-up\",\"url\":\"https://pokeapi.co/api/v2/move-learn-method/1/\"},\"version_group\":{\"name\":\"x-y\",\"url\":\"https://pokeapi.co/api/v2/version-group/15/\"}},{\"level_learned_at\":1,\"move_learn_method\":{\"name\":\"level-up\",\"url\":\"https://pokeapi.co/api/v2/move-learn-method/1/\"},\"version_group\":{\"name\":\"omega-ruby-alpha-sapphire\",\"url\":\"https://pokeapi.co/api/v2/version-group/16/\"}},{\"level_learned_at\":1,\"move_learn_method\":{\"name\":\"level-up\",\"url\":\"https://pokeapi.co/api/v2/move-learn-method/1/\"},\"version_group\":{\"name\":\"sun-moon\",\"url\":\"https://pokeapi.co/api/v2/version-group/17/\"}},{\"level_learned_at\":1,\"move_learn_method\":{\"name\":\"level-up\",\"url\":\"https://pokeapi.co/api/v2/move-learn-method/1/\"},\"version_group\":{\"name\":\"ultra-sun-ultra-moon\",\"url\":\"https://pokeapi.co/api/v2/version-group/18/\"}}]},{\"move\":{\"name\":\"shock-wave\",\"url\":\"https://pokeapi.co/api/v2/move/351/\"},\"version_group_details\":[{\"level_learned_at\":0,\"move_learn_method\":{\"name\":\"tutor\",\"url\":\"https://pokeapi.co/api/v2/move-learn-method/3/\"},\"version_group\":{\"name\":\"omega-ruby-alpha-sapphire\",\"url\":\"https://pokeapi.co/api/v2/version-group/16/\"}},{\"level_learned_at\":0,\"move_learn_method\":{\"name\":\"machine\",\"url\":\"https://pokeapi.co/api/v2/move-learn-method/4/\"},\"version_group\":{\"name\":\"xd\",\"url\":\"https://pokeapi.co/api/v2/version-group/13/\"}},{\"level_learned_at\":0,\"move_learn_method\":{\"name\":\"machine\",\"url\":\"https://pokeapi.co/api/v2/move-learn-method/4/\"},\"version_group\":{\"name\":\"colosseum\",\"url\":\"https://pokeapi.co/api/v2/version-group/12/\"}},{\"level_learned_at\":0,\"move_learn_method\":{\"name\":\"machine\",\"url\":\"https://pokeapi.co/api/v2/move-learn-method/4/\"},\"version_group\":{\"name\":\"heartgold-soulsilver\",\"url\":\"https://pokeapi.co/api/v2/version-group/10/\"}},{\"level_learned_at\":0,\"move_learn_method\":{\"name\":\"machine\",\"url\":\"https://pokeapi.co/api/v2/move-learn-method/4/\"},\"version_group\":{\"name\":\"platinum\",\"url\":\"https://pokeapi.co/api/v2/version-group/9/\"}},{\"level_learned_at\":0,\"move_learn_method\":{\"name\":\"machine\",\"url\":\"https://pokeapi.co/api/v2/move-learn-method/4/\"},\"version_group\":{\"name\":\"diamond-pearl\",\"url\":\"https://pokeapi.co/api/v2/version-group/8/\"}},{\"level_learned_at\":0,\"move_learn_method\":{\"name\":\"machine\",\"url\":\"https://pokeapi.co/api/v2/move-learn-method/4/\"},\"version_group\":{\"name\":\"firered-leafgreen\",\"url\":\"https://pokeapi.co/api/v2/version-group/7/\"}},{\"level_learned_at\":0,\"move_learn_method\":{\"name\":\"machine\",\"url\":\"https://pokeapi.co/api/v2/move-learn-method/4/\"},\"version_group\":{\"name\":\"emerald\",\"url\":\"https://pokeapi.co/api/v2/version-group/6/\"}},{\"level_learned_at\":0,\"move_learn_method\":{\"name\":\"machine\",\"url\":\"https://pokeapi.co/api/v2/move-learn-method/4/\"},\"version_group\":{\"name\":\"ruby-sapphire\",\"url\":\"https://pokeapi.co/api/v2/version-group/5/\"}}]},{\"move\":{\"name\":\"hammer-arm\",\"url\":\"https://pokeapi.co/api/v2/move/359/\"},\"version_group_details\":[{\"level_learned_at\":20,\"move_learn_method\":{\"name\":\"level-up\",\"url\":\"https://pokeapi.co/api/v2/move-learn-method/1/\"},\"version_group\":{\"name\":\"heartgold-soulsilver\",\"url\":\"https://pokeapi.co/api/v2/version-group/10/\"}},{\"level_learned_at\":20,\"move_learn_method\":{\"name\":\"level-up\",\"url\":\"https://pokeapi.co/api/v2/move-learn-method/1/\"},\"version_group\":{\"name\":\"black-white\",\"url\":\"https://pokeapi.co/api/v2/version-group/11/\"}},{\"level_learned_at\":20,\"move_learn_method\":{\"name\":\"level-up\",\"url\":\"https://pokeapi.co/api/v2/move-learn-method/1/\"},\"version_group\":{\"name\":\"black-2-white-2\",\"url\":\"https://pokeapi.co/api/v2/version-group/14/\"}},{\"level_learned_at\":20,\"move_learn_method\":{\"name\":\"level-up\",\"url\":\"https://pokeapi.co/api/v2/move-learn-method/1/\"},\"version_group\":{\"name\":\"x-y\",\"url\":\"https://pokeapi.co/api/v2/version-group/15/\"}},{\"level_learned_at\":80,\"move_learn_method\":{\"name\":\"level-up\",\"url\":\"https://pokeapi.co/api/v2/move-learn-method/1/\"},\"version_group\":{\"name\":\"omega-ruby-alpha-sapphire\",\"url\":\"https://pokeapi.co/api/v2/version-group/16/\"}},{\"level_learned_at\":80,\"move_learn_method\":{\"name\":\"level-up\",\"url\":\"https://pokeapi.co/api/v2/move-learn-method/1/\"},\"version_group\":{\"name\":\"sun-moon\",\"url\":\"https://pokeapi.co/api/v2/version-group/17/\"}},{\"level_learned_at\":80,\"move_learn_method\":{\"name\":\"level-up\",\"url\":\"https://pokeapi.co/api/v2/move-learn-method/1/\"},\"version_group\":{\"name\":\"ultra-sun-ultra-moon\",\"url\":\"https://pokeapi.co/api/v2/version-group/18/\"}}]},{\"move\":{\"name\":\"natural-gift\",\"url\":\"https://pokeapi.co/api/v2/move/363/\"},\"version_group_details\":[{\"level_learned_at\":0,\"move_learn_method\":{\"name\":\"machine\",\"url\":\"https://pokeapi.co/api/v2/move-learn-method/4/\"},\"version_group\":{\"name\":\"heartgold-soulsilver\",\"url\":\"https://pokeapi.co/api/v2/version-group/10/\"}},{\"level_learned_at\":0,\"move_learn_method\":{\"name\":\"machine\",\"url\":\"https://pokeapi.co/api/v2/move-learn-method/4/\"},\"version_group\":{\"name\":\"platinum\",\"url\":\"https://pokeapi.co/api/v2/version-group/9/\"}},{\"level_learned_at\":0,\"move_learn_method\":{\"name\":\"machine\",\"url\":\"https://pokeapi.co/api/v2/move-learn-method/4/\"},\"version_group\":{\"name\":\"diamond-pearl\",\"url\":\"https://pokeapi.co/api/v2/version-group/8/\"}}]},{\"move\":{\"name\":\"fling\",\"url\":\"https://pokeapi.co/api/v2/move/374/\"},\"version_group_details\":[{\"level_learned_at\":0,\"move_learn_method\":{\"name\":\"machine\",\"url\":\"https://pokeapi.co/api/v2/move-learn-method/4/\"},\"version_group\":{\"name\":\"ultra-sun-ultra-moon\",\"url\":\"https://pokeapi.co/api/v2/version-group/18/\"}},{\"level_learned_at\":0,\"move_learn_method\":{\"name\":\"machine\",\"url\":\"https://pokeapi.co/api/v2/move-learn-method/4/\"},\"version_group\":{\"name\":\"sun-moon\",\"url\":\"https://pokeapi.co/api/v2/version-group/17/\"}},{\"level_learned_at\":0,\"move_learn_method\":{\"name\":\"machine\",\"url\":\"https://pokeapi.co/api/v2/move-learn-method/4/\"},\"version_group\":{\"name\":\"omega-ruby-alpha-sapphire\",\"url\":\"https://pokeapi.co/api/v2/version-group/16/\"}},{\"level_learned_at\":0,\"move_learn_method\":{\"name\":\"machine\",\"url\":\"https://pokeapi.co/api/v2/move-learn-method/4/\"},\"version_group\":{\"name\":\"black-2-white-2\",\"url\":\"https://pokeapi.co/api/v2/version-group/14/\"}},{\"level_learned_at\":0,\"move_learn_method\":{\"name\":\"machine\",\"url\":\"https://pokeapi.co/api/v2/move-learn-method/4/\"},\"version_group\":{\"name\":\"black-white\",\"url\":\"https://pokeapi.co/api/v2/version-group/11/\"}},{\"level_learned_at\":0,\"move_learn_method\":{\"name\":\"machine\",\"url\":\"https://pokeapi.co/api/v2/move-learn-method/4/\"},\"version_group\":{\"name\":\"heartgold-soulsilver\",\"url\":\"https://pokeapi.co/api/v2/version-group/10/\"}},{\"level_learned_at\":0,\"move_learn_method\":{\"name\":\"machine\",\"url\":\"https://pokeapi.co/api/v2/move-learn-method/4/\"},\"version_group\":{\"name\":\"platinum\",\"url\":\"https://pokeapi.co/api/v2/version-group/9/\"}},{\"level_learned_at\":0,\"move_learn_method\":{\"name\":\"machine\",\"url\":\"https://pokeapi.co/api/v2/move-learn-method/4/\"},\"version_group\":{\"name\":\"x-y\",\"url\":\"https://pokeapi.co/api/v2/version-group/15/\"}},{\"level_learned_at\":0,\"move_learn_method\":{\"name\":\"machine\",\"url\":\"https://pokeapi.co/api/v2/move-learn-method/4/\"},\"version_group\":{\"name\":\"diamond-pearl\",\"url\":\"https://pokeapi.co/api/v2/version-group/8/\"}}]},{\"move\":{\"name\":\"rock-polish\",\"url\":\"https://pokeapi.co/api/v2/move/397/\"},\"version_group_details\":[{\"level_learned_at\":0,\"move_learn_method\":{\"name\":\"machine\",\"url\":\"https://pokeapi.co/api/v2/move-learn-method/4/\"},\"version_group\":{\"name\":\"diamond-pearl\",\"url\":\"https://pokeapi.co/api/v2/version-group/8/\"}},{\"level_learned_at\":0,\"move_learn_method\":{\"name\":\"machine\",\"url\":\"https://pokeapi.co/api/v2/move-learn-method/4/\"},\"version_group\":{\"name\":\"platinum\",\"url\":\"https://pokeapi.co/api/v2/version-group/9/\"}},{\"level_learned_at\":0,\"move_learn_method\":{\"name\":\"machine\",\"url\":\"https://pokeapi.co/api/v2/move-learn-method/4/\"},\"version_group\":{\"name\":\"heartgold-soulsilver\",\"url\":\"https://pokeapi.co/api/v2/version-group/10/\"}},{\"level_learned_at\":0,\"move_learn_method\":{\"name\":\"machine\",\"url\":\"https://pokeapi.co/api/v2/move-learn-method/4/\"},\"version_group\":{\"name\":\"black-white\",\"url\":\"https://pokeapi.co/api/v2/version-group/11/\"}},{\"level_learned_at\":0,\"move_learn_method\":{\"name\":\"machine\",\"url\":\"https://pokeapi.co/api/v2/move-learn-method/4/\"},\"version_group\":{\"name\":\"black-2-white-2\",\"url\":\"https://pokeapi.co/api/v2/version-group/14/\"}},{\"level_learned_at\":0,\"move_learn_method\":{\"name\":\"machine\",\"url\":\"https://pokeapi.co/api/v2/move-learn-method/4/\"},\"version_group\":{\"name\":\"x-y\",\"url\":\"https://pokeapi.co/api/v2/version-group/15/\"}},{\"level_learned_at\":0,\"move_learn_method\":{\"name\":\"machine\",\"url\":\"https://pokeapi.co/api/v2/move-learn-method/4/\"},\"version_group\":{\"name\":\"omega-ruby-alpha-sapphire\",\"url\":\"https://pokeapi.co/api/v2/version-group/16/\"}},{\"level_learned_at\":0,\"move_learn_method\":{\"name\":\"machine\",\"url\":\"https://pokeapi.co/api/v2/move-learn-method/4/\"},\"version_group\":{\"name\":\"sun-moon\",\"url\":\"https://pokeapi.co/api/v2/version-group/17/\"}},{\"level_learned_at\":0,\"move_learn_method\":{\"name\":\"machine\",\"url\":\"https://pokeapi.co/api/v2/move-learn-method/4/\"},\"version_group\":{\"name\":\"ultra-sun-ultra-moon\",\"url\":\"https://pokeapi.co/api/v2/version-group/18/\"}}]},{\"move\":{\"name\":\"dragon-pulse\",\"url\":\"https://pokeapi.co/api/v2/move/406/\"},\"version_group_details\":[{\"level_learned_at\":0,\"move_learn_method\":{\"name\":\"machine\",\"url\":\"https://pokeapi.co/api/v2/move-learn-method/4/\"},\"version_group\":{\"name\":\"diamond-pearl\",\"url\":\"https://pokeapi.co/api/v2/version-group/8/\"}},{\"level_learned_at\":0,\"move_learn_method\":{\"name\":\"machine\",\"url\":\"https://pokeapi.co/api/v2/move-learn-method/4/\"},\"version_group\":{\"name\":\"platinum\",\"url\":\"https://pokeapi.co/api/v2/version-group/9/\"}},{\"level_learned_at\":0,\"move_learn_method\":{\"name\":\"machine\",\"url\":\"https://pokeapi.co/api/v2/move-learn-method/4/\"},\"version_group\":{\"name\":\"heartgold-soulsilver\",\"url\":\"https://pokeapi.co/api/v2/version-group/10/\"}},{\"level_learned_at\":0,\"move_learn_method\":{\"name\":\"tutor\",\"url\":\"https://pokeapi.co/api/v2/move-learn-method/3/\"},\"version_group\":{\"name\":\"black-2-white-2\",\"url\":\"https://pokeapi.co/api/v2/version-group/14/\"}},{\"level_learned_at\":0,\"move_learn_method\":{\"name\":\"tutor\",\"url\":\"https://pokeapi.co/api/v2/move-learn-method/3/\"},\"version_group\":{\"name\":\"omega-ruby-alpha-sapphire\",\"url\":\"https://pokeapi.co/api/v2/version-group/16/\"}}]},{\"move\":{\"name\":\"focus-blast\",\"url\":\"https://pokeapi.co/api/v2/move/411/\"},\"version_group_details\":[{\"level_learned_at\":0,\"move_learn_method\":{\"name\":\"machine\",\"url\":\"https://pokeapi.co/api/v2/move-learn-method/4/\"},\"version_group\":{\"name\":\"ultra-sun-ultra-moon\",\"url\":\"https://pokeapi.co/api/v2/version-group/18/\"}},{\"level_learned_at\":0,\"move_learn_method\":{\"name\":\"machine\",\"url\":\"https://pokeapi.co/api/v2/move-learn-method/4/\"},\"version_group\":{\"name\":\"sun-moon\",\"url\":\"https://pokeapi.co/api/v2/version-group/17/\"}},{\"level_learned_at\":0,\"move_learn_method\":{\"name\":\"machine\",\"url\":\"https://pokeapi.co/api/v2/move-learn-method/4/\"},\"version_group\":{\"name\":\"omega-ruby-alpha-sapphire\",\"url\":\"https://pokeapi.co/api/v2/version-group/16/\"}},{\"level_learned_at\":0,\"move_learn_method\":{\"name\":\"machine\",\"url\":\"https://pokeapi.co/api/v2/move-learn-method/4/\"},\"version_group\":{\"name\":\"black-2-white-2\",\"url\":\"https://pokeapi.co/api/v2/version-group/14/\"}},{\"level_learned_at\":0,\"move_learn_method\":{\"name\":\"machine\",\"url\":\"https://pokeapi.co/api/v2/move-learn-method/4/\"},\"version_group\":{\"name\":\"black-white\",\"url\":\"https://pokeapi.co/api/v2/version-group/11/\"}},{\"level_learned_at\":0,\"move_learn_method\":{\"name\":\"machine\",\"url\":\"https://pokeapi.co/api/v2/move-learn-method/4/\"},\"version_group\":{\"name\":\"heartgold-soulsilver\",\"url\":\"https://pokeapi.co/api/v2/version-group/10/\"}},{\"level_learned_at\":0,\"move_learn_method\":{\"name\":\"machine\",\"url\":\"https://pokeapi.co/api/v2/move-learn-method/4/\"},\"version_group\":{\"name\":\"platinum\",\"url\":\"https://pokeapi.co/api/v2/version-group/9/\"}},{\"level_learned_at\":0,\"move_learn_method\":{\"name\":\"machine\",\"url\":\"https://pokeapi.co/api/v2/move-learn-method/4/\"},\"version_group\":{\"name\":\"x-y\",\"url\":\"https://pokeapi.co/api/v2/version-group/15/\"}},{\"level_learned_at\":0,\"move_learn_method\":{\"name\":\"machine\",\"url\":\"https://pokeapi.co/api/v2/move-learn-method/4/\"},\"version_group\":{\"name\":\"diamond-pearl\",\"url\":\"https://pokeapi.co/api/v2/version-group/8/\"}}]},{\"move\":{\"name\":\"earth-power\",\"url\":\"https://pokeapi.co/api/v2/move/414/\"},\"version_group_details\":[{\"level_learned_at\":75,\"move_learn_method\":{\"name\":\"level-up\",\"url\":\"https://pokeapi.co/api/v2/move-learn-method/1/\"},\"version_group\":{\"name\":\"diamond-pearl\",\"url\":\"https://pokeapi.co/api/v2/version-group/8/\"}},{\"level_learned_at\":75,\"move_learn_method\":{\"name\":\"level-up\",\"url\":\"https://pokeapi.co/api/v2/move-learn-method/1/\"},\"version_group\":{\"name\":\"platinum\",\"url\":\"https://pokeapi.co/api/v2/version-group/9/\"}},{\"level_learned_at\":0,\"move_learn_method\":{\"name\":\"tutor\",\"url\":\"https://pokeapi.co/api/v2/move-learn-method/3/\"},\"version_group\":{\"name\":\"platinum\",\"url\":\"https://pokeapi.co/api/v2/version-group/9/\"}},{\"level_learned_at\":65,\"move_learn_method\":{\"name\":\"level-up\",\"url\":\"https://pokeapi.co/api/v2/move-learn-method/1/\"},\"version_group\":{\"name\":\"heartgold-soulsilver\",\"url\":\"https://pokeapi.co/api/v2/version-group/10/\"}},{\"level_learned_at\":0,\"move_learn_method\":{\"name\":\"tutor\",\"url\":\"https://pokeapi.co/api/v2/move-learn-method/3/\"},\"version_group\":{\"name\":\"heartgold-soulsilver\",\"url\":\"https://pokeapi.co/api/v2/version-group/10/\"}},{\"level_learned_at\":65,\"move_learn_method\":{\"name\":\"level-up\",\"url\":\"https://pokeapi.co/api/v2/move-learn-method/1/\"},\"version_group\":{\"name\":\"black-white\",\"url\":\"https://pokeapi.co/api/v2/version-group/11/\"}},{\"level_learned_at\":65,\"move_learn_method\":{\"name\":\"level-up\",\"url\":\"https://pokeapi.co/api/v2/move-learn-method/1/\"},\"version_group\":{\"name\":\"black-2-white-2\",\"url\":\"https://pokeapi.co/api/v2/version-group/14/\"}},{\"level_learned_at\":0,\"move_learn_method\":{\"name\":\"tutor\",\"url\":\"https://pokeapi.co/api/v2/move-learn-method/3/\"},\"version_group\":{\"name\":\"black-2-white-2\",\"url\":\"https://pokeapi.co/api/v2/version-group/14/\"}},{\"level_learned_at\":65,\"move_learn_method\":{\"name\":\"level-up\",\"url\":\"https://pokeapi.co/api/v2/move-learn-method/1/\"},\"version_group\":{\"name\":\"x-y\",\"url\":\"https://pokeapi.co/api/v2/version-group/15/\"}},{\"level_learned_at\":15,\"move_learn_method\":{\"name\":\"level-up\",\"url\":\"https://pokeapi.co/api/v2/move-learn-method/1/\"},\"version_group\":{\"name\":\"omega-ruby-alpha-sapphire\",\"url\":\"https://pokeapi.co/api/v2/version-group/16/\"}},{\"level_learned_at\":0,\"move_learn_method\":{\"name\":\"tutor\",\"url\":\"https://pokeapi.co/api/v2/move-learn-method/3/\"},\"version_group\":{\"name\":\"omega-ruby-alpha-sapphire\",\"url\":\"https://pokeapi.co/api/v2/version-group/16/\"}},{\"level_learned_at\":15,\"move_learn_method\":{\"name\":\"level-up\",\"url\":\"https://pokeapi.co/api/v2/move-learn-method/1/\"},\"version_group\":{\"name\":\"sun-moon\",\"url\":\"https://pokeapi.co/api/v2/version-group/17/\"}},{\"level_learned_at\":15,\"move_learn_method\":{\"name\":\"level-up\",\"url\":\"https://pokeapi.co/api/v2/move-learn-method/1/\"},\"version_group\":{\"name\":\"ultra-sun-ultra-moon\",\"url\":\"https://pokeapi.co/api/v2/version-group/18/\"}}]},{\"move\":{\"name\":\"giga-impact\",\"url\":\"https://pokeapi.co/api/v2/move/416/\"},\"version_group_details\":[{\"level_learned_at\":0,\"move_learn_method\":{\"name\":\"machine\",\"url\":\"https://pokeapi.co/api/v2/move-learn-method/4/\"},\"version_group\":{\"name\":\"ultra-sun-ultra-moon\",\"url\":\"https://pokeapi.co/api/v2/version-group/18/\"}},{\"level_learned_at\":0,\"move_learn_method\":{\"name\":\"machine\",\"url\":\"https://pokeapi.co/api/v2/move-learn-method/4/\"},\"version_group\":{\"name\":\"sun-moon\",\"url\":\"https://pokeapi.co/api/v2/version-group/17/\"}},{\"level_learned_at\":0,\"move_learn_method\":{\"name\":\"machine\",\"url\":\"https://pokeapi.co/api/v2/move-learn-method/4/\"},\"version_group\":{\"name\":\"omega-ruby-alpha-sapphire\",\"url\":\"https://pokeapi.co/api/v2/version-group/16/\"}},{\"level_learned_at\":0,\"move_learn_method\":{\"name\":\"machine\",\"url\":\"https://pokeapi.co/api/v2/move-learn-method/4/\"},\"version_group\":{\"name\":\"black-2-white-2\",\"url\":\"https://pokeapi.co/api/v2/version-group/14/\"}},{\"level_learned_at\":0,\"move_learn_method\":{\"name\":\"machine\",\"url\":\"https://pokeapi.co/api/v2/move-learn-method/4/\"},\"version_group\":{\"name\":\"black-white\",\"url\":\"https://pokeapi.co/api/v2/version-group/11/\"}},{\"level_learned_at\":0,\"move_learn_method\":{\"name\":\"machine\",\"url\":\"https://pokeapi.co/api/v2/move-learn-method/4/\"},\"version_group\":{\"name\":\"heartgold-soulsilver\",\"url\":\"https://pokeapi.co/api/v2/version-group/10/\"}},{\"level_learned_at\":0,\"move_learn_method\":{\"name\":\"machine\",\"url\":\"https://pokeapi.co/api/v2/move-learn-method/4/\"},\"version_group\":{\"name\":\"platinum\",\"url\":\"https://pokeapi.co/api/v2/version-group/9/\"}},{\"level_learned_at\":0,\"move_learn_method\":{\"name\":\"machine\",\"url\":\"https://pokeapi.co/api/v2/move-learn-method/4/\"},\"version_group\":{\"name\":\"x-y\",\"url\":\"https://pokeapi.co/api/v2/version-group/15/\"}},{\"level_learned_at\":0,\"move_learn_method\":{\"name\":\"machine\",\"url\":\"https://pokeapi.co/api/v2/move-learn-method/4/\"},\"version_group\":{\"name\":\"diamond-pearl\",\"url\":\"https://pokeapi.co/api/v2/version-group/8/\"}}]},{\"move\":{\"name\":\"shadow-claw\",\"url\":\"https://pokeapi.co/api/v2/move/421/\"},\"version_group_details\":[{\"level_learned_at\":0,\"move_learn_method\":{\"name\":\"machine\",\"url\":\"https://pokeapi.co/api/v2/move-learn-method/4/\"},\"version_group\":{\"name\":\"ultra-sun-ultra-moon\",\"url\":\"https://pokeapi.co/api/v2/version-group/18/\"}},{\"level_learned_at\":0,\"move_learn_method\":{\"name\":\"machine\",\"url\":\"https://pokeapi.co/api/v2/move-learn-method/4/\"},\"version_group\":{\"name\":\"sun-moon\",\"url\":\"https://pokeapi.co/api/v2/version-group/17/\"}},{\"level_learned_at\":0,\"move_learn_method\":{\"name\":\"machine\",\"url\":\"https://pokeapi.co/api/v2/move-learn-method/4/\"},\"version_group\":{\"name\":\"omega-ruby-alpha-sapphire\",\"url\":\"https://pokeapi.co/api/v2/version-group/16/\"}},{\"level_learned_at\":0,\"move_learn_method\":{\"name\":\"machine\",\"url\":\"https://pokeapi.co/api/v2/move-learn-method/4/\"},\"version_group\":{\"name\":\"black-2-white-2\",\"url\":\"https://pokeapi.co/api/v2/version-group/14/\"}},{\"level_learned_at\":0,\"move_learn_method\":{\"name\":\"machine\",\"url\":\"https://pokeapi.co/api/v2/move-learn-method/4/\"},\"version_group\":{\"name\":\"black-white\",\"url\":\"https://pokeapi.co/api/v2/version-group/11/\"}},{\"level_learned_at\":0,\"move_learn_method\":{\"name\":\"machine\",\"url\":\"https://pokeapi.co/api/v2/move-learn-method/4/\"},\"version_group\":{\"name\":\"heartgold-soulsilver\",\"url\":\"https://pokeapi.co/api/v2/version-group/10/\"}},{\"level_learned_at\":0,\"move_learn_method\":{\"name\":\"machine\",\"url\":\"https://pokeapi.co/api/v2/move-learn-method/4/\"},\"version_group\":{\"name\":\"platinum\",\"url\":\"https://pokeapi.co/api/v2/version-group/9/\"}},{\"level_learned_at\":0,\"move_learn_method\":{\"name\":\"machine\",\"url\":\"https://pokeapi.co/api/v2/move-learn-method/4/\"},\"version_group\":{\"name\":\"x-y\",\"url\":\"https://pokeapi.co/api/v2/version-group/15/\"}},{\"level_learned_at\":0,\"move_learn_method\":{\"name\":\"machine\",\"url\":\"https://pokeapi.co/api/v2/move-learn-method/4/\"},\"version_group\":{\"name\":\"diamond-pearl\",\"url\":\"https://pokeapi.co/api/v2/version-group/8/\"}}]},{\"move\":{\"name\":\"rock-climb\",\"url\":\"https://pokeapi.co/api/v2/move/431/\"},\"version_group_details\":[{\"level_learned_at\":0,\"move_learn_method\":{\"name\":\"machine\",\"url\":\"https://pokeapi.co/api/v2/move-learn-method/4/\"},\"version_group\":{\"name\":\"diamond-pearl\",\"url\":\"https://pokeapi.co/api/v2/version-group/8/\"}},{\"level_learned_at\":0,\"move_learn_method\":{\"name\":\"machine\",\"url\":\"https://pokeapi.co/api/v2/move-learn-method/4/\"},\"version_group\":{\"name\":\"platinum\",\"url\":\"https://pokeapi.co/api/v2/version-group/9/\"}},{\"level_learned_at\":0,\"move_learn_method\":{\"name\":\"machine\",\"url\":\"https://pokeapi.co/api/v2/move-learn-method/4/\"},\"version_group\":{\"name\":\"heartgold-soulsilver\",\"url\":\"https://pokeapi.co/api/v2/version-group/10/\"}}]},{\"move\":{\"name\":\"lava-plume\",\"url\":\"https://pokeapi.co/api/v2/move/436/\"},\"version_group_details\":[{\"level_learned_at\":15,\"move_learn_method\":{\"name\":\"level-up\",\"url\":\"https://pokeapi.co/api/v2/move-learn-method/1/\"},\"version_group\":{\"name\":\"heartgold-soulsilver\",\"url\":\"https://pokeapi.co/api/v2/version-group/10/\"}},{\"level_learned_at\":15,\"move_learn_method\":{\"name\":\"level-up\",\"url\":\"https://pokeapi.co/api/v2/move-learn-method/1/\"},\"version_group\":{\"name\":\"black-white\",\"url\":\"https://pokeapi.co/api/v2/version-group/11/\"}},{\"level_learned_at\":15,\"move_learn_method\":{\"name\":\"level-up\",\"url\":\"https://pokeapi.co/api/v2/move-learn-method/1/\"},\"version_group\":{\"name\":\"black-2-white-2\",\"url\":\"https://pokeapi.co/api/v2/version-group/14/\"}},{\"level_learned_at\":15,\"move_learn_method\":{\"name\":\"level-up\",\"url\":\"https://pokeapi.co/api/v2/move-learn-method/1/\"},\"version_group\":{\"name\":\"x-y\",\"url\":\"https://pokeapi.co/api/v2/version-group/15/\"}},{\"level_learned_at\":20,\"move_learn_method\":{\"name\":\"level-up\",\"url\":\"https://pokeapi.co/api/v2/move-learn-method/1/\"},\"version_group\":{\"name\":\"omega-ruby-alpha-sapphire\",\"url\":\"https://pokeapi.co/api/v2/version-group/16/\"}},{\"level_learned_at\":20,\"move_learn_method\":{\"name\":\"level-up\",\"url\":\"https://pokeapi.co/api/v2/move-learn-method/1/\"},\"version_group\":{\"name\":\"sun-moon\",\"url\":\"https://pokeapi.co/api/v2/version-group/17/\"}},{\"level_learned_at\":20,\"move_learn_method\":{\"name\":\"level-up\",\"url\":\"https://pokeapi.co/api/v2/move-learn-method/1/\"},\"version_group\":{\"name\":\"ultra-sun-ultra-moon\",\"url\":\"https://pokeapi.co/api/v2/version-group/18/\"}}]},{\"move\":{\"name\":\"iron-head\",\"url\":\"https://pokeapi.co/api/v2/move/442/\"},\"version_group_details\":[{\"level_learned_at\":0,\"move_learn_method\":{\"name\":\"tutor\",\"url\":\"https://pokeapi.co/api/v2/move-learn-method/3/\"},\"version_group\":{\"name\":\"platinum\",\"url\":\"https://pokeapi.co/api/v2/version-group/9/\"}},{\"level_learned_at\":0,\"move_learn_method\":{\"name\":\"tutor\",\"url\":\"https://pokeapi.co/api/v2/move-learn-method/3/\"},\"version_group\":{\"name\":\"heartgold-soulsilver\",\"url\":\"https://pokeapi.co/api/v2/version-group/10/\"}},{\"level_learned_at\":0,\"move_learn_method\":{\"name\":\"tutor\",\"url\":\"https://pokeapi.co/api/v2/move-learn-method/3/\"},\"version_group\":{\"name\":\"black-2-white-2\",\"url\":\"https://pokeapi.co/api/v2/version-group/14/\"}},{\"level_learned_at\":0,\"move_learn_method\":{\"name\":\"tutor\",\"url\":\"https://pokeapi.co/api/v2/move-learn-method/3/\"},\"version_group\":{\"name\":\"omega-ruby-alpha-sapphire\",\"url\":\"https://pokeapi.co/api/v2/version-group/16/\"}}]},{\"move\":{\"name\":\"stone-edge\",\"url\":\"https://pokeapi.co/api/v2/move/444/\"},\"version_group_details\":[{\"level_learned_at\":0,\"move_learn_method\":{\"name\":\"machine\",\"url\":\"https://pokeapi.co/api/v2/move-learn-method/4/\"},\"version_group\":{\"name\":\"ultra-sun-ultra-moon\",\"url\":\"https://pokeapi.co/api/v2/version-group/18/\"}},{\"level_learned_at\":0,\"move_learn_method\":{\"name\":\"machine\",\"url\":\"https://pokeapi.co/api/v2/move-learn-method/4/\"},\"version_group\":{\"name\":\"sun-moon\",\"url\":\"https://pokeapi.co/api/v2/version-group/17/\"}},{\"level_learned_at\":0,\"move_learn_method\":{\"name\":\"machine\",\"url\":\"https://pokeapi.co/api/v2/move-learn-method/4/\"},\"version_group\":{\"name\":\"omega-ruby-alpha-sapphire\",\"url\":\"https://pokeapi.co/api/v2/version-group/16/\"}},{\"level_learned_at\":0,\"move_learn_method\":{\"name\":\"machine\",\"url\":\"https://pokeapi.co/api/v2/move-learn-method/4/\"},\"version_group\":{\"name\":\"black-2-white-2\",\"url\":\"https://pokeapi.co/api/v2/version-group/14/\"}},{\"level_learned_at\":0,\"move_learn_method\":{\"name\":\"machine\",\"url\":\"https://pokeapi.co/api/v2/move-learn-method/4/\"},\"version_group\":{\"name\":\"black-white\",\"url\":\"https://pokeapi.co/api/v2/version-group/11/\"}},{\"level_learned_at\":0,\"move_learn_method\":{\"name\":\"machine\",\"url\":\"https://pokeapi.co/api/v2/move-learn-method/4/\"},\"version_group\":{\"name\":\"heartgold-soulsilver\",\"url\":\"https://pokeapi.co/api/v2/version-group/10/\"}},{\"level_learned_at\":0,\"move_learn_method\":{\"name\":\"machine\",\"url\":\"https://pokeapi.co/api/v2/move-learn-method/4/\"},\"version_group\":{\"name\":\"platinum\",\"url\":\"https://pokeapi.co/api/v2/version-group/9/\"}},{\"level_learned_at\":0,\"move_learn_method\":{\"name\":\"machine\",\"url\":\"https://pokeapi.co/api/v2/move-learn-method/4/\"},\"version_group\":{\"name\":\"x-y\",\"url\":\"https://pokeapi.co/api/v2/version-group/15/\"}},{\"level_learned_at\":0,\"move_learn_method\":{\"name\":\"machine\",\"url\":\"https://pokeapi.co/api/v2/move-learn-method/4/\"},\"version_group\":{\"name\":\"diamond-pearl\",\"url\":\"https://pokeapi.co/api/v2/version-group/8/\"}}]},{\"move\":{\"name\":\"stealth-rock\",\"url\":\"https://pokeapi.co/api/v2/move/446/\"},\"version_group_details\":[{\"level_learned_at\":0,\"move_learn_method\":{\"name\":\"machine\",\"url\":\"https://pokeapi.co/api/v2/move-learn-method/4/\"},\"version_group\":{\"name\":\"diamond-pearl\",\"url\":\"https://pokeapi.co/api/v2/version-group/8/\"}},{\"level_learned_at\":0,\"move_learn_method\":{\"name\":\"machine\",\"url\":\"https://pokeapi.co/api/v2/move-learn-method/4/\"},\"version_group\":{\"name\":\"platinum\",\"url\":\"https://pokeapi.co/api/v2/version-group/9/\"}},{\"level_learned_at\":0,\"move_learn_method\":{\"name\":\"machine\",\"url\":\"https://pokeapi.co/api/v2/move-learn-method/4/\"},\"version_group\":{\"name\":\"heartgold-soulsilver\",\"url\":\"https://pokeapi.co/api/v2/version-group/10/\"}},{\"level_learned_at\":0,\"move_learn_method\":{\"name\":\"tutor\",\"url\":\"https://pokeapi.co/api/v2/move-learn-method/3/\"},\"version_group\":{\"name\":\"black-2-white-2\",\"url\":\"https://pokeapi.co/api/v2/version-group/14/\"}},{\"level_learned_at\":0,\"move_learn_method\":{\"name\":\"tutor\",\"url\":\"https://pokeapi.co/api/v2/move-learn-method/3/\"},\"version_group\":{\"name\":\"omega-ruby-alpha-sapphire\",\"url\":\"https://pokeapi.co/api/v2/version-group/16/\"}}]},{\"move\":{\"name\":\"hone-claws\",\"url\":\"https://pokeapi.co/api/v2/move/468/\"},\"version_group_details\":[{\"level_learned_at\":0,\"move_learn_method\":{\"name\":\"machine\",\"url\":\"https://pokeapi.co/api/v2/move-learn-method/4/\"},\"version_group\":{\"name\":\"black-white\",\"url\":\"https://pokeapi.co/api/v2/version-group/11/\"}},{\"level_learned_at\":0,\"move_learn_method\":{\"name\":\"machine\",\"url\":\"https://pokeapi.co/api/v2/move-learn-method/4/\"},\"version_group\":{\"name\":\"black-2-white-2\",\"url\":\"https://pokeapi.co/api/v2/version-group/14/\"}},{\"level_learned_at\":0,\"move_learn_method\":{\"name\":\"machine\",\"url\":\"https://pokeapi.co/api/v2/move-learn-method/4/\"},\"version_group\":{\"name\":\"x-y\",\"url\":\"https://pokeapi.co/api/v2/version-group/15/\"}},{\"level_learned_at\":0,\"move_learn_method\":{\"name\":\"machine\",\"url\":\"https://pokeapi.co/api/v2/move-learn-method/4/\"},\"version_group\":{\"name\":\"omega-ruby-alpha-sapphire\",\"url\":\"https://pokeapi.co/api/v2/version-group/16/\"}}]},{\"move\":{\"name\":\"smack-down\",\"url\":\"https://pokeapi.co/api/v2/move/479/\"},\"version_group_details\":[{\"level_learned_at\":0,\"move_learn_method\":{\"name\":\"machine\",\"url\":\"https://pokeapi.co/api/v2/move-learn-method/4/\"},\"version_group\":{\"name\":\"black-white\",\"url\":\"https://pokeapi.co/api/v2/version-group/11/\"}},{\"level_learned_at\":0,\"move_learn_method\":{\"name\":\"machine\",\"url\":\"https://pokeapi.co/api/v2/move-learn-method/4/\"},\"version_group\":{\"name\":\"black-2-white-2\",\"url\":\"https://pokeapi.co/api/v2/version-group/14/\"}},{\"level_learned_at\":0,\"move_learn_method\":{\"name\":\"machine\",\"url\":\"https://pokeapi.co/api/v2/move-learn-method/4/\"},\"version_group\":{\"name\":\"x-y\",\"url\":\"https://pokeapi.co/api/v2/version-group/15/\"}},{\"level_learned_at\":0,\"move_learn_method\":{\"name\":\"machine\",\"url\":\"https://pokeapi.co/api/v2/move-learn-method/4/\"},\"version_group\":{\"name\":\"omega-ruby-alpha-sapphire\",\"url\":\"https://pokeapi.co/api/v2/version-group/16/\"}},{\"level_learned_at\":0,\"move_learn_method\":{\"name\":\"machine\",\"url\":\"https://pokeapi.co/api/v2/move-learn-method/4/\"},\"version_group\":{\"name\":\"sun-moon\",\"url\":\"https://pokeapi.co/api/v2/version-group/17/\"}},{\"level_learned_at\":0,\"move_learn_method\":{\"name\":\"machine\",\"url\":\"https://pokeapi.co/api/v2/move-learn-method/4/\"},\"version_group\":{\"name\":\"ultra-sun-ultra-moon\",\"url\":\"https://pokeapi.co/api/v2/version-group/18/\"}}]},{\"move\":{\"name\":\"round\",\"url\":\"https://pokeapi.co/api/v2/move/496/\"},\"version_group_details\":[{\"level_learned_at\":0,\"move_learn_method\":{\"name\":\"machine\",\"url\":\"https://pokeapi.co/api/v2/move-learn-method/4/\"},\"version_group\":{\"name\":\"ultra-sun-ultra-moon\",\"url\":\"https://pokeapi.co/api/v2/version-group/18/\"}},{\"level_learned_at\":0,\"move_learn_method\":{\"name\":\"machine\",\"url\":\"https://pokeapi.co/api/v2/move-learn-method/4/\"},\"version_group\":{\"name\":\"sun-moon\",\"url\":\"https://pokeapi.co/api/v2/version-group/17/\"}},{\"level_learned_at\":0,\"move_learn_method\":{\"name\":\"machine\",\"url\":\"https://pokeapi.co/api/v2/move-learn-method/4/\"},\"version_group\":{\"name\":\"omega-ruby-alpha-sapphire\",\"url\":\"https://pokeapi.co/api/v2/version-group/16/\"}},{\"level_learned_at\":0,\"move_learn_method\":{\"name\":\"machine\",\"url\":\"https://pokeapi.co/api/v2/move-learn-method/4/\"},\"version_group\":{\"name\":\"black-2-white-2\",\"url\":\"https://pokeapi.co/api/v2/version-group/14/\"}},{\"level_learned_at\":0,\"move_learn_method\":{\"name\":\"machine\",\"url\":\"https://pokeapi.co/api/v2/move-learn-method/4/\"},\"version_group\":{\"name\":\"black-white\",\"url\":\"https://pokeapi.co/api/v2/version-group/11/\"}},{\"level_learned_at\":0,\"move_learn_method\":{\"name\":\"machine\",\"url\":\"https://pokeapi.co/api/v2/move-learn-method/4/\"},\"version_group\":{\"name\":\"x-y\",\"url\":\"https://pokeapi.co/api/v2/version-group/15/\"}}]},{\"move\":{\"name\":\"incinerate\",\"url\":\"https://pokeapi.co/api/v2/move/510/\"},\"version_group_details\":[{\"level_learned_at\":0,\"move_learn_method\":{\"name\":\"machine\",\"url\":\"https://pokeapi.co/api/v2/move-learn-method/4/\"},\"version_group\":{\"name\":\"black-white\",\"url\":\"https://pokeapi.co/api/v2/version-group/11/\"}},{\"level_learned_at\":0,\"move_learn_method\":{\"name\":\"machine\",\"url\":\"https://pokeapi.co/api/v2/move-learn-method/4/\"},\"version_group\":{\"name\":\"black-2-white-2\",\"url\":\"https://pokeapi.co/api/v2/version-group/14/\"}},{\"level_learned_at\":0,\"move_learn_method\":{\"name\":\"machine\",\"url\":\"https://pokeapi.co/api/v2/move-learn-method/4/\"},\"version_group\":{\"name\":\"x-y\",\"url\":\"https://pokeapi.co/api/v2/version-group/15/\"}},{\"level_learned_at\":0,\"move_learn_method\":{\"name\":\"machine\",\"url\":\"https://pokeapi.co/api/v2/move-learn-method/4/\"},\"version_group\":{\"name\":\"omega-ruby-alpha-sapphire\",\"url\":\"https://pokeapi.co/api/v2/version-group/16/\"}}]},{\"move\":{\"name\":\"bulldoze\",\"url\":\"https://pokeapi.co/api/v2/move/523/\"},\"version_group_details\":[{\"level_learned_at\":0,\"move_learn_method\":{\"name\":\"machine\",\"url\":\"https://pokeapi.co/api/v2/move-learn-method/4/\"},\"version_group\":{\"name\":\"ultra-sun-ultra-moon\",\"url\":\"https://pokeapi.co/api/v2/version-group/18/\"}},{\"level_learned_at\":0,\"move_learn_method\":{\"name\":\"machine\",\"url\":\"https://pokeapi.co/api/v2/move-learn-method/4/\"},\"version_group\":{\"name\":\"sun-moon\",\"url\":\"https://pokeapi.co/api/v2/version-group/17/\"}},{\"level_learned_at\":0,\"move_learn_method\":{\"name\":\"machine\",\"url\":\"https://pokeapi.co/api/v2/move-learn-method/4/\"},\"version_group\":{\"name\":\"omega-ruby-alpha-sapphire\",\"url\":\"https://pokeapi.co/api/v2/version-group/16/\"}},{\"level_learned_at\":0,\"move_learn_method\":{\"name\":\"machine\",\"url\":\"https://pokeapi.co/api/v2/move-learn-method/4/\"},\"version_group\":{\"name\":\"black-2-white-2\",\"url\":\"https://pokeapi.co/api/v2/version-group/14/\"}},{\"level_learned_at\":0,\"move_learn_method\":{\"name\":\"machine\",\"url\":\"https://pokeapi.co/api/v2/move-learn-method/4/\"},\"version_group\":{\"name\":\"black-white\",\"url\":\"https://pokeapi.co/api/v2/version-group/11/\"}},{\"level_learned_at\":0,\"move_learn_method\":{\"name\":\"machine\",\"url\":\"https://pokeapi.co/api/v2/move-learn-method/4/\"},\"version_group\":{\"name\":\"x-y\",\"url\":\"https://pokeapi.co/api/v2/version-group/15/\"}}]},{\"move\":{\"name\":\"dragon-tail\",\"url\":\"https://pokeapi.co/api/v2/move/525/\"},\"version_group_details\":[{\"level_learned_at\":0,\"move_learn_method\":{\"name\":\"machine\",\"url\":\"https://pokeapi.co/api/v2/move-learn-method/4/\"},\"version_group\":{\"name\":\"black-white\",\"url\":\"https://pokeapi.co/api/v2/version-group/11/\"}},{\"level_learned_at\":0,\"move_learn_method\":{\"name\":\"machine\",\"url\":\"https://pokeapi.co/api/v2/move-learn-method/4/\"},\"version_group\":{\"name\":\"black-2-white-2\",\"url\":\"https://pokeapi.co/api/v2/version-group/14/\"}},{\"level_learned_at\":0,\"move_learn_method\":{\"name\":\"machine\",\"url\":\"https://pokeapi.co/api/v2/move-learn-method/4/\"},\"version_group\":{\"name\":\"x-y\",\"url\":\"https://pokeapi.co/api/v2/version-group/15/\"}},{\"level_learned_at\":0,\"move_learn_method\":{\"name\":\"machine\",\"url\":\"https://pokeapi.co/api/v2/move-learn-method/4/\"},\"version_group\":{\"name\":\"omega-ruby-alpha-sapphire\",\"url\":\"https://pokeapi.co/api/v2/version-group/16/\"}},{\"level_learned_at\":0,\"move_learn_method\":{\"name\":\"machine\",\"url\":\"https://pokeapi.co/api/v2/move-learn-method/4/\"},\"version_group\":{\"name\":\"sun-moon\",\"url\":\"https://pokeapi.co/api/v2/version-group/17/\"}},{\"level_learned_at\":0,\"move_learn_method\":{\"name\":\"machine\",\"url\":\"https://pokeapi.co/api/v2/move-learn-method/4/\"},\"version_group\":{\"name\":\"ultra-sun-ultra-moon\",\"url\":\"https://pokeapi.co/api/v2/version-group/18/\"}}]},{\"move\":{\"name\":\"confide\",\"url\":\"https://pokeapi.co/api/v2/move/590/\"},\"version_group_details\":[{\"level_learned_at\":0,\"move_learn_method\":{\"name\":\"machine\",\"url\":\"https://pokeapi.co/api/v2/move-learn-method/4/\"},\"version_group\":{\"name\":\"ultra-sun-ultra-moon\",\"url\":\"https://pokeapi.co/api/v2/version-group/18/\"}},{\"level_learned_at\":0,\"move_learn_method\":{\"name\":\"machine\",\"url\":\"https://pokeapi.co/api/v2/move-learn-method/4/\"},\"version_group\":{\"name\":\"sun-moon\",\"url\":\"https://pokeapi.co/api/v2/version-group/17/\"}},{\"level_learned_at\":0,\"move_learn_method\":{\"name\":\"machine\",\"url\":\"https://pokeapi.co/api/v2/move-learn-method/4/\"},\"version_group\":{\"name\":\"omega-ruby-alpha-sapphire\",\"url\":\"https://pokeapi.co/api/v2/version-group/16/\"}},{\"level_learned_at\":0,\"move_learn_method\":{\"name\":\"machine\",\"url\":\"https://pokeapi.co/api/v2/move-learn-method/4/\"},\"version_group\":{\"name\":\"x-y\",\"url\":\"https://pokeapi.co/api/v2/version-group/15/\"}}]},{\"move\":{\"name\":\"power-up-punch\",\"url\":\"https://pokeapi.co/api/v2/move/612/\"},\"version_group_details\":[{\"level_learned_at\":0,\"move_learn_method\":{\"name\":\"machine\",\"url\":\"https://pokeapi.co/api/v2/move-learn-method/4/\"},\"version_group\":{\"name\":\"x-y\",\"url\":\"https://pokeapi.co/api/v2/version-group/15/\"}},{\"level_learned_at\":0,\"move_learn_method\":{\"name\":\"machine\",\"url\":\"https://pokeapi.co/api/v2/move-learn-method/4/\"},\"version_group\":{\"name\":\"omega-ruby-alpha-sapphire\",\"url\":\"https://pokeapi.co/api/v2/version-group/16/\"}}]},{\"move\":{\"name\":\"precipice-blades\",\"url\":\"https://pokeapi.co/api/v2/move/619/\"},\"version_group_details\":[{\"level_learned_at\":45,\"move_learn_method\":{\"name\":\"level-up\",\"url\":\"https://pokeapi.co/api/v2/move-learn-method/1/\"},\"version_group\":{\"name\":\"omega-ruby-alpha-sapphire\",\"url\":\"https://pokeapi.co/api/v2/version-group/16/\"}},{\"level_learned_at\":45,\"move_learn_method\":{\"name\":\"level-up\",\"url\":\"https://pokeapi.co/api/v2/move-learn-method/1/\"},\"version_group\":{\"name\":\"sun-moon\",\"url\":\"https://pokeapi.co/api/v2/version-group/17/\"}},{\"level_learned_at\":45,\"move_learn_method\":{\"name\":\"level-up\",\"url\":\"https://pokeapi.co/api/v2/move-learn-method/1/\"},\"version_group\":{\"name\":\"ultra-sun-ultra-moon\",\"url\":\"https://pokeapi.co/api/v2/version-group/18/\"}}]},{\"move\":{\"name\":\"brutal-swing\",\"url\":\"https://pokeapi.co/api/v2/move/693/\"},\"version_group_details\":[{\"level_learned_at\":0,\"move_learn_method\":{\"name\":\"machine\",\"url\":\"https://pokeapi.co/api/v2/move-learn-method/4/\"},\"version_group\":{\"name\":\"sun-moon\",\"url\":\"https://pokeapi.co/api/v2/version-group/17/\"}},{\"level_learned_at\":0,\"move_learn_method\":{\"name\":\"machine\",\"url\":\"https://pokeapi.co/api/v2/move-learn-method/4/\"},\"version_group\":{\"name\":\"ultra-sun-ultra-moon\",\"url\":\"https://pokeapi.co/api/v2/version-group/18/\"}}]}],\"name\":\"groudon\",\"order\":485,\"species\":{\"name\":\"groudon\",\"url\":\"https://pokeapi.co/api/v2/pokemon-species/383/\"},\"sprites\":{\"back_default\":\"https://raw.githubusercontent.com/PokeAPI/sprites/master/sprites/pokemon/back/383.png\",\"back_female\":null,\"back_shiny\":\"https://raw.githubusercontent.com/PokeAPI/sprites/master/sprites/pokemon/back/shiny/383.png\",\"back_shiny_female\":null,\"front_default\":\"https://raw.githubusercontent.com/PokeAPI/sprites/master/sprites/pokemon/383.png\",\"front_female\":null,\"front_shiny\":\"https://raw.githubusercontent.com/PokeAPI/sprites/master/sprites/pokemon/shiny/383.png\",\"front_shiny_female\":null},\"stats\":[{\"base_stat\":90,\"effort\":0,\"stat\":{\"name\":\"speed\",\"url\":\"https://pokeapi.co/api/v2/stat/6/\"}},{\"base_stat\":90,\"effort\":0,\"stat\":{\"name\":\"special-defense\",\"url\":\"https://pokeapi.co/api/v2/stat/5/\"}},{\"base_stat\":100,\"effort\":0,\"stat\":{\"name\":\"special-attack\",\"url\":\"https://pokeapi.co/api/v2/stat/4/\"}},{\"base_stat\":140,\"effort\":0,\"stat\":{\"name\":\"defense\",\"url\":\"https://pokeapi.co/api/v2/stat/3/\"}},{\"base_stat\":150,\"effort\":3,\"stat\":{\"name\":\"attack\",\"url\":\"https://pokeapi.co/api/v2/stat/2/\"}},{\"base_stat\":100,\"effort\":0,\"stat\":{\"name\":\"hp\",\"url\":\"https://pokeapi.co/api/v2/stat/1/\"}}],\"types\":[{\"slot\":1,\"type\":{\"name\":\"ground\",\"url\":\"https://pokeapi.co/api/v2/type/5/\"}}],\"weight\":9500}'"
      ]
     },
     "execution_count": 6,
     "metadata": {},
     "output_type": "execute_result"
    }
   ],
   "source": [
    "groudon_request.text"
   ]
  },
  {
   "cell_type": "code",
   "execution_count": 9,
   "metadata": {},
   "outputs": [
    {
     "data": {
      "text/plain": [
       "dict_keys(['abilities', 'base_experience', 'forms', 'game_indices', 'height', 'held_items', 'id', 'is_default', 'location_area_encounters', 'moves', 'name', 'order', 'species', 'sprites', 'stats', 'types', 'weight'])"
      ]
     },
     "execution_count": 9,
     "metadata": {},
     "output_type": "execute_result"
    }
   ],
   "source": [
    "groudon_dict = groudon_request.json()\n",
    "groudon_dict.keys()"
   ]
  },
  {
   "cell_type": "code",
   "execution_count": 10,
   "metadata": {},
   "outputs": [
    {
     "data": {
      "text/plain": [
       "9500"
      ]
     },
     "execution_count": 10,
     "metadata": {},
     "output_type": "execute_result"
    }
   ],
   "source": [
    "groudon_dict['weight']"
   ]
  },
  {
   "cell_type": "code",
   "execution_count": 11,
   "metadata": {},
   "outputs": [
    {
     "data": {
      "text/plain": [
       "60"
      ]
     },
     "execution_count": 11,
     "metadata": {},
     "output_type": "execute_result"
    }
   ],
   "source": [
    "p = requests.get('https://pokeapi.co/api/v2/pokemon/pikachu')\n",
    "p.json()['weight']"
   ]
  },
  {
   "cell_type": "code",
   "execution_count": 15,
   "metadata": {},
   "outputs": [
    {
     "data": {
      "text/plain": [
       "'drought'"
      ]
     },
     "execution_count": 15,
     "metadata": {},
     "output_type": "execute_result"
    }
   ],
   "source": [
    "groudon_dict['abilities'][0]['ability']['name']"
   ]
  },
  {
   "cell_type": "code",
   "execution_count": 17,
   "metadata": {},
   "outputs": [
    {
     "ename": "IndexError",
     "evalue": "list index out of range",
     "output_type": "error",
     "traceback": [
      "\u001b[1;31m---------------------------------------------------------------------------\u001b[0m",
      "\u001b[1;31mIndexError\u001b[0m                                Traceback (most recent call last)",
      "\u001b[1;32m<ipython-input-17-d5ab6de420a8>\u001b[0m in \u001b[0;36m<module>\u001b[1;34m\u001b[0m\n\u001b[1;32m----> 1\u001b[1;33m \u001b[0mgroudon_dict\u001b[0m\u001b[1;33m[\u001b[0m\u001b[1;34m'abilities'\u001b[0m\u001b[1;33m]\u001b[0m\u001b[1;33m[\u001b[0m\u001b[1;36m1\u001b[0m\u001b[1;33m]\u001b[0m\u001b[1;33m[\u001b[0m\u001b[1;34m'ability'\u001b[0m\u001b[1;33m]\u001b[0m\u001b[1;33m[\u001b[0m\u001b[1;34m'name'\u001b[0m\u001b[1;33m]\u001b[0m\u001b[1;33m\u001b[0m\u001b[1;33m\u001b[0m\u001b[0m\n\u001b[0m",
      "\u001b[1;31mIndexError\u001b[0m: list index out of range"
     ]
    }
   ],
   "source": [
    "ability_pos = 1\n",
    "if ability_pos < len(groudon_dict['abilities']):\n",
    "    return groudon_dict['abilities'][1]['ability']['name']\n",
    "else:\n",
    "    return ''"
   ]
  },
  {
   "cell_type": "code",
   "execution_count": 18,
   "metadata": {},
   "outputs": [
    {
     "ename": "KeyError",
     "evalue": "'in-what-movies'",
     "output_type": "error",
     "traceback": [
      "\u001b[1;31m---------------------------------------------------------------------------\u001b[0m",
      "\u001b[1;31mKeyError\u001b[0m                                  Traceback (most recent call last)",
      "\u001b[1;32m<ipython-input-18-153e9cf092b4>\u001b[0m in \u001b[0;36m<module>\u001b[1;34m\u001b[0m\n\u001b[1;32m----> 1\u001b[1;33m \u001b[0mgroudon_dict\u001b[0m\u001b[1;33m[\u001b[0m\u001b[1;34m'in-what-movies'\u001b[0m\u001b[1;33m]\u001b[0m\u001b[1;33m\u001b[0m\u001b[1;33m\u001b[0m\u001b[0m\n\u001b[0m",
      "\u001b[1;31mKeyError\u001b[0m: 'in-what-movies'"
     ]
    }
   ],
   "source": [
    "groudon_dict.get('in-what-movies', None)"
   ]
  },
  {
   "cell_type": "code",
   "execution_count": 19,
   "metadata": {},
   "outputs": [
    {
     "data": {
      "text/plain": [
       "'groudon'"
      ]
     },
     "execution_count": 19,
     "metadata": {},
     "output_type": "execute_result"
    }
   ],
   "source": [
    "groudon_dict['name']"
   ]
  },
  {
   "cell_type": "code",
   "execution_count": 16,
   "metadata": {},
   "outputs": [
    {
     "data": {
      "text/plain": [
       "'lightning-rod'"
      ]
     },
     "execution_count": 16,
     "metadata": {},
     "output_type": "execute_result"
    }
   ],
   "source": [
    "p.json()['abilities'][0]['ability']['name']"
   ]
  },
  {
   "cell_type": "code",
   "execution_count": 22,
   "metadata": {},
   "outputs": [
    {
     "data": {
      "text/html": [
       "<div>\n",
       "<style scoped>\n",
       "    .dataframe tbody tr th:only-of-type {\n",
       "        vertical-align: middle;\n",
       "    }\n",
       "\n",
       "    .dataframe tbody tr th {\n",
       "        vertical-align: top;\n",
       "    }\n",
       "\n",
       "    .dataframe thead th {\n",
       "        text-align: right;\n",
       "    }\n",
       "</style>\n",
       "<table border=\"1\" class=\"dataframe\">\n",
       "  <thead>\n",
       "    <tr style=\"text-align: right;\">\n",
       "      <th></th>\n",
       "      <th>first_ability</th>\n",
       "      <th>name</th>\n",
       "      <th>weight</th>\n",
       "    </tr>\n",
       "  </thead>\n",
       "  <tbody>\n",
       "    <tr>\n",
       "      <th>0</th>\n",
       "      <td>chlorophyll</td>\n",
       "      <td>bulbasaur</td>\n",
       "      <td>69</td>\n",
       "    </tr>\n",
       "    <tr>\n",
       "      <th>1</th>\n",
       "      <td>chlorophyll</td>\n",
       "      <td>ivysaur</td>\n",
       "      <td>130</td>\n",
       "    </tr>\n",
       "    <tr>\n",
       "      <th>2</th>\n",
       "      <td>chlorophyll</td>\n",
       "      <td>venusaur</td>\n",
       "      <td>1000</td>\n",
       "    </tr>\n",
       "    <tr>\n",
       "      <th>3</th>\n",
       "      <td>solar-power</td>\n",
       "      <td>charmander</td>\n",
       "      <td>85</td>\n",
       "    </tr>\n",
       "    <tr>\n",
       "      <th>4</th>\n",
       "      <td>solar-power</td>\n",
       "      <td>charmeleon</td>\n",
       "      <td>190</td>\n",
       "    </tr>\n",
       "    <tr>\n",
       "      <th>5</th>\n",
       "      <td>solar-power</td>\n",
       "      <td>charizard</td>\n",
       "      <td>905</td>\n",
       "    </tr>\n",
       "    <tr>\n",
       "      <th>6</th>\n",
       "      <td>rain-dish</td>\n",
       "      <td>squirtle</td>\n",
       "      <td>90</td>\n",
       "    </tr>\n",
       "    <tr>\n",
       "      <th>7</th>\n",
       "      <td>rain-dish</td>\n",
       "      <td>wartortle</td>\n",
       "      <td>225</td>\n",
       "    </tr>\n",
       "    <tr>\n",
       "      <th>8</th>\n",
       "      <td>rain-dish</td>\n",
       "      <td>blastoise</td>\n",
       "      <td>855</td>\n",
       "    </tr>\n",
       "  </tbody>\n",
       "</table>\n",
       "</div>"
      ],
      "text/plain": [
       "  first_ability        name  weight\n",
       "0   chlorophyll   bulbasaur      69\n",
       "1   chlorophyll     ivysaur     130\n",
       "2   chlorophyll    venusaur    1000\n",
       "3   solar-power  charmander      85\n",
       "4   solar-power  charmeleon     190\n",
       "5   solar-power   charizard     905\n",
       "6     rain-dish    squirtle      90\n",
       "7     rain-dish   wartortle     225\n",
       "8     rain-dish   blastoise     855"
      ]
     },
     "execution_count": 22,
     "metadata": {},
     "output_type": "execute_result"
    }
   ],
   "source": [
    "import pandas as pd\n",
    "pokemon_list = []\n",
    "for i in range(1, 10):\n",
    "    this_pokemon = requests.get(f'https://pokeapi.co/api/v2/pokemon/{i}')\n",
    "    if this_pokemon.status_code != 200:\n",
    "        print(\"Can't get pokemon\",i)\n",
    "        continue\n",
    "    this_pokemon_obj = this_pokemon.json()\n",
    "    name = this_pokemon_obj['name']\n",
    "    weight = this_pokemon_obj['weight']\n",
    "    first_ability = this_pokemon_obj['abilities'][0]['ability']['name']\n",
    "    pokemon_list.append({'name': name, 'weight': weight, 'first_ability': first_ability})\n",
    "pokemon_df = pd.DataFrame.from_records(pokemon_list)\n",
    "pokemon_df"
   ]
  },
  {
   "cell_type": "markdown",
   "metadata": {
    "slideshow": {
     "slide_type": "slide"
    }
   },
   "source": [
    "###  What Just Happened?"
   ]
  },
  {
   "cell_type": "code",
   "execution_count": 23,
   "metadata": {},
   "outputs": [
    {
     "name": "stderr",
     "output_type": "stream",
     "text": [
      "100%|██████████| 99/99 [00:06<00:00, 14.81it/s]\n"
     ]
    },
    {
     "data": {
      "text/html": [
       "<div>\n",
       "<style scoped>\n",
       "    .dataframe tbody tr th:only-of-type {\n",
       "        vertical-align: middle;\n",
       "    }\n",
       "\n",
       "    .dataframe tbody tr th {\n",
       "        vertical-align: top;\n",
       "    }\n",
       "\n",
       "    .dataframe thead th {\n",
       "        text-align: right;\n",
       "    }\n",
       "</style>\n",
       "<table border=\"1\" class=\"dataframe\">\n",
       "  <thead>\n",
       "    <tr style=\"text-align: right;\">\n",
       "      <th></th>\n",
       "      <th>first_ability</th>\n",
       "      <th>name</th>\n",
       "      <th>weight</th>\n",
       "    </tr>\n",
       "  </thead>\n",
       "  <tbody>\n",
       "    <tr>\n",
       "      <th>0</th>\n",
       "      <td>chlorophyll</td>\n",
       "      <td>bulbasaur</td>\n",
       "      <td>69</td>\n",
       "    </tr>\n",
       "    <tr>\n",
       "      <th>1</th>\n",
       "      <td>chlorophyll</td>\n",
       "      <td>ivysaur</td>\n",
       "      <td>130</td>\n",
       "    </tr>\n",
       "    <tr>\n",
       "      <th>2</th>\n",
       "      <td>chlorophyll</td>\n",
       "      <td>venusaur</td>\n",
       "      <td>1000</td>\n",
       "    </tr>\n",
       "    <tr>\n",
       "      <th>3</th>\n",
       "      <td>solar-power</td>\n",
       "      <td>charmander</td>\n",
       "      <td>85</td>\n",
       "    </tr>\n",
       "    <tr>\n",
       "      <th>4</th>\n",
       "      <td>solar-power</td>\n",
       "      <td>charmeleon</td>\n",
       "      <td>190</td>\n",
       "    </tr>\n",
       "    <tr>\n",
       "      <th>5</th>\n",
       "      <td>solar-power</td>\n",
       "      <td>charizard</td>\n",
       "      <td>905</td>\n",
       "    </tr>\n",
       "    <tr>\n",
       "      <th>6</th>\n",
       "      <td>rain-dish</td>\n",
       "      <td>squirtle</td>\n",
       "      <td>90</td>\n",
       "    </tr>\n",
       "    <tr>\n",
       "      <th>7</th>\n",
       "      <td>rain-dish</td>\n",
       "      <td>wartortle</td>\n",
       "      <td>225</td>\n",
       "    </tr>\n",
       "    <tr>\n",
       "      <th>8</th>\n",
       "      <td>rain-dish</td>\n",
       "      <td>blastoise</td>\n",
       "      <td>855</td>\n",
       "    </tr>\n",
       "    <tr>\n",
       "      <th>9</th>\n",
       "      <td>run-away</td>\n",
       "      <td>caterpie</td>\n",
       "      <td>29</td>\n",
       "    </tr>\n",
       "    <tr>\n",
       "      <th>10</th>\n",
       "      <td>shed-skin</td>\n",
       "      <td>metapod</td>\n",
       "      <td>99</td>\n",
       "    </tr>\n",
       "    <tr>\n",
       "      <th>11</th>\n",
       "      <td>tinted-lens</td>\n",
       "      <td>butterfree</td>\n",
       "      <td>320</td>\n",
       "    </tr>\n",
       "    <tr>\n",
       "      <th>12</th>\n",
       "      <td>run-away</td>\n",
       "      <td>weedle</td>\n",
       "      <td>32</td>\n",
       "    </tr>\n",
       "    <tr>\n",
       "      <th>13</th>\n",
       "      <td>shed-skin</td>\n",
       "      <td>kakuna</td>\n",
       "      <td>100</td>\n",
       "    </tr>\n",
       "    <tr>\n",
       "      <th>14</th>\n",
       "      <td>sniper</td>\n",
       "      <td>beedrill</td>\n",
       "      <td>295</td>\n",
       "    </tr>\n",
       "    <tr>\n",
       "      <th>15</th>\n",
       "      <td>big-pecks</td>\n",
       "      <td>pidgey</td>\n",
       "      <td>18</td>\n",
       "    </tr>\n",
       "    <tr>\n",
       "      <th>16</th>\n",
       "      <td>big-pecks</td>\n",
       "      <td>pidgeotto</td>\n",
       "      <td>300</td>\n",
       "    </tr>\n",
       "    <tr>\n",
       "      <th>17</th>\n",
       "      <td>big-pecks</td>\n",
       "      <td>pidgeot</td>\n",
       "      <td>395</td>\n",
       "    </tr>\n",
       "    <tr>\n",
       "      <th>18</th>\n",
       "      <td>hustle</td>\n",
       "      <td>rattata</td>\n",
       "      <td>35</td>\n",
       "    </tr>\n",
       "    <tr>\n",
       "      <th>19</th>\n",
       "      <td>hustle</td>\n",
       "      <td>raticate</td>\n",
       "      <td>185</td>\n",
       "    </tr>\n",
       "    <tr>\n",
       "      <th>20</th>\n",
       "      <td>sniper</td>\n",
       "      <td>spearow</td>\n",
       "      <td>20</td>\n",
       "    </tr>\n",
       "    <tr>\n",
       "      <th>21</th>\n",
       "      <td>sniper</td>\n",
       "      <td>fearow</td>\n",
       "      <td>380</td>\n",
       "    </tr>\n",
       "    <tr>\n",
       "      <th>22</th>\n",
       "      <td>unnerve</td>\n",
       "      <td>ekans</td>\n",
       "      <td>69</td>\n",
       "    </tr>\n",
       "    <tr>\n",
       "      <th>23</th>\n",
       "      <td>unnerve</td>\n",
       "      <td>arbok</td>\n",
       "      <td>650</td>\n",
       "    </tr>\n",
       "    <tr>\n",
       "      <th>24</th>\n",
       "      <td>lightning-rod</td>\n",
       "      <td>pikachu</td>\n",
       "      <td>60</td>\n",
       "    </tr>\n",
       "    <tr>\n",
       "      <th>25</th>\n",
       "      <td>lightning-rod</td>\n",
       "      <td>raichu</td>\n",
       "      <td>300</td>\n",
       "    </tr>\n",
       "    <tr>\n",
       "      <th>26</th>\n",
       "      <td>sand-rush</td>\n",
       "      <td>sandshrew</td>\n",
       "      <td>120</td>\n",
       "    </tr>\n",
       "    <tr>\n",
       "      <th>27</th>\n",
       "      <td>sand-rush</td>\n",
       "      <td>sandslash</td>\n",
       "      <td>295</td>\n",
       "    </tr>\n",
       "    <tr>\n",
       "      <th>28</th>\n",
       "      <td>hustle</td>\n",
       "      <td>nidoran-f</td>\n",
       "      <td>70</td>\n",
       "    </tr>\n",
       "    <tr>\n",
       "      <th>29</th>\n",
       "      <td>hustle</td>\n",
       "      <td>nidorina</td>\n",
       "      <td>200</td>\n",
       "    </tr>\n",
       "    <tr>\n",
       "      <th>...</th>\n",
       "      <td>...</td>\n",
       "      <td>...</td>\n",
       "      <td>...</td>\n",
       "    </tr>\n",
       "    <tr>\n",
       "      <th>69</th>\n",
       "      <td>gluttony</td>\n",
       "      <td>weepinbell</td>\n",
       "      <td>64</td>\n",
       "    </tr>\n",
       "    <tr>\n",
       "      <th>70</th>\n",
       "      <td>gluttony</td>\n",
       "      <td>victreebel</td>\n",
       "      <td>155</td>\n",
       "    </tr>\n",
       "    <tr>\n",
       "      <th>71</th>\n",
       "      <td>rain-dish</td>\n",
       "      <td>tentacool</td>\n",
       "      <td>455</td>\n",
       "    </tr>\n",
       "    <tr>\n",
       "      <th>72</th>\n",
       "      <td>rain-dish</td>\n",
       "      <td>tentacruel</td>\n",
       "      <td>550</td>\n",
       "    </tr>\n",
       "    <tr>\n",
       "      <th>73</th>\n",
       "      <td>sand-veil</td>\n",
       "      <td>geodude</td>\n",
       "      <td>200</td>\n",
       "    </tr>\n",
       "    <tr>\n",
       "      <th>74</th>\n",
       "      <td>sand-veil</td>\n",
       "      <td>graveler</td>\n",
       "      <td>1050</td>\n",
       "    </tr>\n",
       "    <tr>\n",
       "      <th>75</th>\n",
       "      <td>sand-veil</td>\n",
       "      <td>golem</td>\n",
       "      <td>3000</td>\n",
       "    </tr>\n",
       "    <tr>\n",
       "      <th>76</th>\n",
       "      <td>flame-body</td>\n",
       "      <td>ponyta</td>\n",
       "      <td>300</td>\n",
       "    </tr>\n",
       "    <tr>\n",
       "      <th>77</th>\n",
       "      <td>flame-body</td>\n",
       "      <td>rapidash</td>\n",
       "      <td>950</td>\n",
       "    </tr>\n",
       "    <tr>\n",
       "      <th>78</th>\n",
       "      <td>regenerator</td>\n",
       "      <td>slowpoke</td>\n",
       "      <td>360</td>\n",
       "    </tr>\n",
       "    <tr>\n",
       "      <th>79</th>\n",
       "      <td>regenerator</td>\n",
       "      <td>slowbro</td>\n",
       "      <td>785</td>\n",
       "    </tr>\n",
       "    <tr>\n",
       "      <th>80</th>\n",
       "      <td>analytic</td>\n",
       "      <td>magnemite</td>\n",
       "      <td>60</td>\n",
       "    </tr>\n",
       "    <tr>\n",
       "      <th>81</th>\n",
       "      <td>analytic</td>\n",
       "      <td>magneton</td>\n",
       "      <td>600</td>\n",
       "    </tr>\n",
       "    <tr>\n",
       "      <th>82</th>\n",
       "      <td>defiant</td>\n",
       "      <td>farfetchd</td>\n",
       "      <td>150</td>\n",
       "    </tr>\n",
       "    <tr>\n",
       "      <th>83</th>\n",
       "      <td>tangled-feet</td>\n",
       "      <td>doduo</td>\n",
       "      <td>392</td>\n",
       "    </tr>\n",
       "    <tr>\n",
       "      <th>84</th>\n",
       "      <td>tangled-feet</td>\n",
       "      <td>dodrio</td>\n",
       "      <td>852</td>\n",
       "    </tr>\n",
       "    <tr>\n",
       "      <th>85</th>\n",
       "      <td>ice-body</td>\n",
       "      <td>seel</td>\n",
       "      <td>900</td>\n",
       "    </tr>\n",
       "    <tr>\n",
       "      <th>86</th>\n",
       "      <td>ice-body</td>\n",
       "      <td>dewgong</td>\n",
       "      <td>1200</td>\n",
       "    </tr>\n",
       "    <tr>\n",
       "      <th>87</th>\n",
       "      <td>poison-touch</td>\n",
       "      <td>grimer</td>\n",
       "      <td>300</td>\n",
       "    </tr>\n",
       "    <tr>\n",
       "      <th>88</th>\n",
       "      <td>poison-touch</td>\n",
       "      <td>muk</td>\n",
       "      <td>300</td>\n",
       "    </tr>\n",
       "    <tr>\n",
       "      <th>89</th>\n",
       "      <td>overcoat</td>\n",
       "      <td>shellder</td>\n",
       "      <td>40</td>\n",
       "    </tr>\n",
       "    <tr>\n",
       "      <th>90</th>\n",
       "      <td>overcoat</td>\n",
       "      <td>cloyster</td>\n",
       "      <td>1325</td>\n",
       "    </tr>\n",
       "    <tr>\n",
       "      <th>91</th>\n",
       "      <td>levitate</td>\n",
       "      <td>gastly</td>\n",
       "      <td>1</td>\n",
       "    </tr>\n",
       "    <tr>\n",
       "      <th>92</th>\n",
       "      <td>levitate</td>\n",
       "      <td>haunter</td>\n",
       "      <td>1</td>\n",
       "    </tr>\n",
       "    <tr>\n",
       "      <th>93</th>\n",
       "      <td>cursed-body</td>\n",
       "      <td>gengar</td>\n",
       "      <td>405</td>\n",
       "    </tr>\n",
       "    <tr>\n",
       "      <th>94</th>\n",
       "      <td>weak-armor</td>\n",
       "      <td>onix</td>\n",
       "      <td>2100</td>\n",
       "    </tr>\n",
       "    <tr>\n",
       "      <th>95</th>\n",
       "      <td>inner-focus</td>\n",
       "      <td>drowzee</td>\n",
       "      <td>324</td>\n",
       "    </tr>\n",
       "    <tr>\n",
       "      <th>96</th>\n",
       "      <td>inner-focus</td>\n",
       "      <td>hypno</td>\n",
       "      <td>756</td>\n",
       "    </tr>\n",
       "    <tr>\n",
       "      <th>97</th>\n",
       "      <td>sheer-force</td>\n",
       "      <td>krabby</td>\n",
       "      <td>65</td>\n",
       "    </tr>\n",
       "    <tr>\n",
       "      <th>98</th>\n",
       "      <td>sheer-force</td>\n",
       "      <td>kingler</td>\n",
       "      <td>600</td>\n",
       "    </tr>\n",
       "  </tbody>\n",
       "</table>\n",
       "<p>99 rows × 3 columns</p>\n",
       "</div>"
      ],
      "text/plain": [
       "    first_ability        name  weight\n",
       "0     chlorophyll   bulbasaur      69\n",
       "1     chlorophyll     ivysaur     130\n",
       "2     chlorophyll    venusaur    1000\n",
       "3     solar-power  charmander      85\n",
       "4     solar-power  charmeleon     190\n",
       "5     solar-power   charizard     905\n",
       "6       rain-dish    squirtle      90\n",
       "7       rain-dish   wartortle     225\n",
       "8       rain-dish   blastoise     855\n",
       "9        run-away    caterpie      29\n",
       "10      shed-skin     metapod      99\n",
       "11    tinted-lens  butterfree     320\n",
       "12       run-away      weedle      32\n",
       "13      shed-skin      kakuna     100\n",
       "14         sniper    beedrill     295\n",
       "15      big-pecks      pidgey      18\n",
       "16      big-pecks   pidgeotto     300\n",
       "17      big-pecks     pidgeot     395\n",
       "18         hustle     rattata      35\n",
       "19         hustle    raticate     185\n",
       "20         sniper     spearow      20\n",
       "21         sniper      fearow     380\n",
       "22        unnerve       ekans      69\n",
       "23        unnerve       arbok     650\n",
       "24  lightning-rod     pikachu      60\n",
       "25  lightning-rod      raichu     300\n",
       "26      sand-rush   sandshrew     120\n",
       "27      sand-rush   sandslash     295\n",
       "28         hustle   nidoran-f      70\n",
       "29         hustle    nidorina     200\n",
       "..            ...         ...     ...\n",
       "69       gluttony  weepinbell      64\n",
       "70       gluttony  victreebel     155\n",
       "71      rain-dish   tentacool     455\n",
       "72      rain-dish  tentacruel     550\n",
       "73      sand-veil     geodude     200\n",
       "74      sand-veil    graveler    1050\n",
       "75      sand-veil       golem    3000\n",
       "76     flame-body      ponyta     300\n",
       "77     flame-body    rapidash     950\n",
       "78    regenerator    slowpoke     360\n",
       "79    regenerator     slowbro     785\n",
       "80       analytic   magnemite      60\n",
       "81       analytic    magneton     600\n",
       "82        defiant   farfetchd     150\n",
       "83   tangled-feet       doduo     392\n",
       "84   tangled-feet      dodrio     852\n",
       "85       ice-body        seel     900\n",
       "86       ice-body     dewgong    1200\n",
       "87   poison-touch      grimer     300\n",
       "88   poison-touch         muk     300\n",
       "89       overcoat    shellder      40\n",
       "90       overcoat    cloyster    1325\n",
       "91       levitate      gastly       1\n",
       "92       levitate     haunter       1\n",
       "93    cursed-body      gengar     405\n",
       "94     weak-armor        onix    2100\n",
       "95    inner-focus     drowzee     324\n",
       "96    inner-focus       hypno     756\n",
       "97    sheer-force      krabby      65\n",
       "98    sheer-force     kingler     600\n",
       "\n",
       "[99 rows x 3 columns]"
      ]
     },
     "execution_count": 23,
     "metadata": {},
     "output_type": "execute_result"
    }
   ],
   "source": [
    "import tqdm\n",
    "import pandas as pd\n",
    "pokemon_list = []\n",
    "for i in tqdm.tqdm(range(1, 100)):\n",
    "    this_pokemon = requests.get(f'https://pokeapi.co/api/v2/pokemon/{i}')\n",
    "    if this_pokemon.status_code != 200:\n",
    "        print(\"Can't get pokemon\",i)\n",
    "        continue\n",
    "    this_pokemon_obj = this_pokemon.json()\n",
    "    name = this_pokemon_obj['name']\n",
    "    weight = this_pokemon_obj['weight']\n",
    "    first_ability = this_pokemon_obj['abilities'][0]['ability']['name']\n",
    "    pokemon_list.append({'name': name, 'weight': weight, 'first_ability': first_ability})\n",
    "pokemon_df = pd.DataFrame.from_records(pokemon_list)\n",
    "pokemon_df"
   ]
  },
  {
   "cell_type": "markdown",
   "metadata": {
    "slideshow": {
     "slide_type": "slide"
    }
   },
   "source": [
    "<a id='submit'></a>\n",
    "### Try submitting a couple more queries to familiarize with the API.\n",
    "\n",
    "- You can also query an API from the command line using the app `curl` which is available in OSX. Try typing:\n",
    "\n",
    "    `curl http://pokeapi.co/api/v2/pokemon/groudon`\n"
   ]
  },
  {
   "cell_type": "code",
   "execution_count": null,
   "metadata": {
    "scrolled": true,
    "slideshow": {
     "slide_type": "slide"
    }
   },
   "outputs": [],
   "source": [
    "# Request example for the Pokemon API\n",
    "import pandas as pd\n",
    "import requests\n",
    "\n",
    "result = requests.get(\"http://pokeapi.co/api/v2/pokemon/groudon\")\n",
    "df = pd.DataFrame([result.json()])\n",
    "df"
   ]
  },
  {
   "cell_type": "markdown",
   "metadata": {
    "slideshow": {
     "slide_type": "slide"
    }
   },
   "source": [
    "# Next... what if there is no API?\n",
    "\n",
    "What do you do if you only have a website to scrape from?"
   ]
  },
  {
   "cell_type": "code",
   "execution_count": null,
   "metadata": {},
   "outputs": [],
   "source": []
  }
 ],
 "metadata": {
  "anaconda-cloud": {},
  "celltoolbar": "Slideshow",
  "kernelspec": {
   "display_name": "Python 3",
   "language": "python",
   "name": "python3"
  },
  "language_info": {
   "codemirror_mode": {
    "name": "ipython",
    "version": 3
   },
   "file_extension": ".py",
   "mimetype": "text/x-python",
   "name": "python",
   "nbconvert_exporter": "python",
   "pygments_lexer": "ipython3",
   "version": "3.7.3"
  }
 },
 "nbformat": 4,
 "nbformat_minor": 1
}

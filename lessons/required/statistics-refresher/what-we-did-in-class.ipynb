{
 "cells": [
  {
   "cell_type": "markdown",
   "metadata": {},
   "source": [
    "<img src=\"http://imgur.com/1ZcRyrc.png\" style=\"float: left; margin: 20px; height: 55px\">\n",
    "\n",
    "# Statistics Fundamentals, Part 1\n",
    "\n",
    "_Authors: Alexander Egorenkov (DC), Amy Roberts (NYC)_\n",
    "\n",
    "---"
   ]
  },
  {
   "cell_type": "markdown",
   "metadata": {},
   "source": [
    "<a id=\"learning-objectives\"></a>\n",
    "## Learning Objectives\n",
    "- Compute dot products, matrix multiplications, and vector norms by hand and using NumPy.\n",
    "- Code summary statistics using NumPy and Pandas: mean, median, mode, max, min, quartile, inter-quartile range, variance, standard deviation, and correlation.\n",
    "- Create basic data visualizations, including scatterplots, box plots, and histograms.\n",
    "- Describe characteristics and trends in a data set using visualizations.\n",
    "- Describe the bias and variance of statistical estimators.\n",
    "- Identify a normal distribution within a data set using summary statistics and data visualizations."
   ]
  },
  {
   "cell_type": "markdown",
   "metadata": {},
   "source": [
    "### Lesson Guide\n",
    "- [Where Are We in the Data Science Workflow?](#where-are-we-in-the-data-science-workflow)\n",
    "- [Linear Algebra Review](#linear-algebra-review)\n",
    "    - [Scalars, Vectors, and Matrices](#scalars-vectors-and-matrices)\n",
    "\t- [Basic Matrix Algebra](#basic-matrix-algebra)\n",
    "\t- [Dot Product](#dot-product)\n",
    "\t- [Matrix Multiplication](#matrix-multiplication)\n",
    "\t- [N-Dimensional Space](#n-dimensional-space)\n",
    "\t- [Vector Norm](#vector-norm)\n",
    "- [Linear Algebra Applications to Machine Learning](#linear-algebra-applications-to-machine-learning)\n",
    "\t- [Distance Between Actual Values and Predicted Values](#distance-between-actual-values-and-predicted-values)\n",
    "\t- [Mean Squared Error](#mean-squared-error)\n",
    "\t- [Least Squares](#least-squares)\n",
    "- [Code-Along: Examining the Titanic Data Set](#codealong-examining-the-titanic-dataset)\n",
    "- [Descriptive Statistics Fundamentals](#descriptive-statistics-fundamentals)\n",
    "\t- [Measures of Central Tendency](#measures-of-central-tendency)\n",
    "\t- [Math Review](#math-review)\n",
    "\t- [Measures of Dispersion: Standard Deviation and Variance](#measures-of-dispersion-standard-deviation-and-variance)\n",
    "- [Our First Model](#our-first-model)\n",
    "- [A Short Introduction to Model Bias and Variance](#a-short-introduction-to-model-bias-and-variance)\n",
    "\t- [Bias-Variance Decomposition](#bias-variance-decomposition)\n",
    "\t- [Example Using Bessel's Correction](#example-using-bessels-correction)\n",
    "- [Correlation and Association](#correlation-and-association)\n",
    "\t- [Code-Along: Correlation in Pandas](#codealong-correlation-in-pandas)\n",
    "- [The Normal Distribution](#the-normal-distribution)\n",
    "\t- [What is the Normal Distribution?](#what-is-the-normal-distribution)\n",
    "\t- [Skewness](#skewness)\n",
    "\t- [Kurtosis](#kurtosis)\n",
    "- [Determining the Distribution of Your Data](#determining-the-distribution-of-your-data)\n",
    "\t- [Exercise](#exercise)\n",
    "- [Lesson Review](#topic-review)"
   ]
  },
  {
   "cell_type": "code",
   "execution_count": 1,
   "metadata": {},
   "outputs": [],
   "source": [
    "import pandas as pd\n",
    "import seaborn as sns\n",
    "import numpy as np\n",
    "import matplotlib.pyplot as plt\n",
    "from ipywidgets import interact\n",
    "plt.style.use('fivethirtyeight')\n",
    "\n",
    "# This makes sure that graphs render in your notebook.\n",
    "%matplotlib inline"
   ]
  },
  {
   "cell_type": "markdown",
   "metadata": {},
   "source": [
    "<a id=\"where-are-we-in-the-data-science-workflow\"></a>\n",
    "## Where Are We in the Data Science Workflow?"
   ]
  },
  {
   "cell_type": "markdown",
   "metadata": {},
   "source": [
    "![Data Science Workflow](./assets/images/data-science-workflow.png)"
   ]
  },
  {
   "cell_type": "markdown",
   "metadata": {},
   "source": [
    "<a id=\"linear-algebra-review\"></a>\n",
    "## numpy library\n",
    "---\n",
    "**Objective:** Compute dot products, matrix multiplications, and vector norms by hand and using NumPy."
   ]
  },
  {
   "cell_type": "markdown",
   "metadata": {},
   "source": [
    "From https://en.wikipedia.org/wiki/NumPy:\n",
    "\n",
    "> In early 2005, NumPy developer Travis Oliphant wanted to unify the community around a single array package and ported Numarray's features to Numeric, releasing the result as NumPy 1.0 in 2006. This new project was part of SciPy. To avoid installing the large SciPy package just to get an array object, this new package was separated and called NumPy.\n",
    "\n",
    "From https://en.wikipedia.org/wiki/Pandas_%28software%29\n",
    "\n",
    "Relationship to Pandas:\n",
    "> Developer Wes McKinney started working on pandas in 2008 while at AQR Capital Management out of the need for a high performance, flexible tool to perform quantitative analysis on financial data. Before leaving AQR he was able to convince management to allow him to open source the library.\n",
    "\n",
    "> Another AQR employee, Chang She, joined the effort in 2012 as the second major contributor to the library."
   ]
  },
  {
   "cell_type": "markdown",
   "metadata": {},
   "source": [
    "<a id=\"why-linear-algebra\"></a>\n",
    "### Why Use Linear Algebra in Data Science?\n",
    "\n",
    "Linear models are efficient and well understood. They can often closely approximate nonlinear solutions, and they scale to high dimensions without difficulty.\n",
    "\n",
    "Because of these desirable properties, linear algebra is a need-to-know subject for machine learning. In fact, it forms the basis of foundational models such as linear regression, logistic regression, and principal component analysis (PCA). \n",
    "\n",
    "Unsurprisingly, advanced models such as neural networks and support vector machines rely on linear algebra as their \"trick\" for impressive speedups. Modern-day GPUs are essentially linear algebra supercomputers. And, to utilize their power on a GPU, models must often be carefully formulated in terms of vectors and matrices.\n",
    "\n",
    "More than that, todya's advanced models build upon the simpler foundational models. Each neuron in a neural net is essentially a logistic regressor! Support vector machines utilize a kernel trick to craftily make problems linear that would not otherwise appear to be.\n",
    "\n",
    "Although we do not have time in this course to comprehensively discuss linear algebra, we highly recommend you become fluent!"
   ]
  },
  {
   "cell_type": "markdown",
   "metadata": {},
   "source": [
    "<a id=\"scalars-vectors-and-matrices\"></a>\n",
    "### Scalars, Vectors, and Matrices\n",
    "\n",
    "A **scalar** is a single number. Here, symbols that are lowercase single letters refer to scalars. For example, the symbols $a$ and $v$ are scalars that might refer to arbitrary numbers such as $5.328$ or $7$. An example scalar would be:\n",
    "\n",
    "$$a$$\n",
    "\n",
    "A **vector** is an ordered sequence of numbers. Here, symbols that are lowercase single letters with an arrow — such as $\\vec{u}$ — refer to vectors. An example vector would be:\n",
    "\n",
    "$$\\vec{u} = \\left[ \\begin{array}{c}\n",
    "1&3&7\n",
    "\\end{array} \\right]$$"
   ]
  },
  {
   "cell_type": "code",
   "execution_count": 3,
   "metadata": {},
   "outputs": [
    {
     "data": {
      "text/plain": [
       "array([1, 3, 7])"
      ]
     },
     "execution_count": 3,
     "metadata": {},
     "output_type": "execute_result"
    }
   ],
   "source": [
    "# Create a vector using np.array.\n",
    "np.array([1, 3, 7])"
   ]
  },
  {
   "cell_type": "markdown",
   "metadata": {},
   "source": [
    "An $m$ x $n$ **matrix** is a rectangular array of numbers with $m$ rows and $n$ columns. Each number in the matrix is an entry. Entries can be denoted $a_{ij}$, where $i$ denotes the row number and $j$ denotes the column number. Note that, because each entry $a_{ij}$ is a lowercase single letter, a matrix is an array of scalars:\n",
    "\n",
    "$$\\mathbf{A}= \\left[ \\begin{array}{c}\n",
    "a_{11} & a_{12} & ... & a_{1n}  \\\\\n",
    "a_{21} & a_{22} & ... & a_{2n}  \\\\\n",
    "... & ... & ... & ... \\\\\n",
    "a_{m1} & a_{m2} & ... & a_{mn}\n",
    "\\end{array} \\right]$$\n",
    "\n",
    "Matrices are referred to using bold uppercase letters, such as $\\mathbf{A}$. A bold font face is used to distinguish matrices from sets."
   ]
  },
  {
   "cell_type": "code",
   "execution_count": 5,
   "metadata": {},
   "outputs": [
    {
     "data": {
      "text/plain": [
       "array([[1, 3, 7],\n",
       "       [2, 3, 5]])"
      ]
     },
     "execution_count": 5,
     "metadata": {},
     "output_type": "execute_result"
    }
   ],
   "source": [
    "# Create a matrix using np.array.\n",
    "A = np.array([[1,3,7], [2,3,5]])\n",
    "A"
   ]
  },
  {
   "cell_type": "markdown",
   "metadata": {},
   "source": [
    "Note that in Python, a matrix is just a list of lists! The outermost list is a list of rows."
   ]
  },
  {
   "cell_type": "markdown",
   "metadata": {},
   "source": [
    "<a id=\"basic-matrix-algebra\"></a>\n",
    "### Basic Matrix Algebra\n"
   ]
  },
  {
   "cell_type": "markdown",
   "metadata": {},
   "source": [
    "#### Addition and Subtraction\n",
    "Vector **addition** is straightforward. If two vectors are of equal dimensions (The vectors are shown here as column vectors for convenience only):\n",
    "\n",
    "$\\vec{v} = \\left[ \\begin{array}{c}\n",
    "1 \\\\\n",
    "3 \\\\\n",
    "7\n",
    "\\end{array} \\right],  \\vec{w} = \\left[ \\begin{array}{c}\n",
    "1 \\\\\n",
    "0 \\\\\n",
    "1\n",
    "\\end{array} \\right]$"
   ]
  },
  {
   "cell_type": "code",
   "execution_count": 6,
   "metadata": {},
   "outputs": [],
   "source": [
    "v = np.array([1, 3, 7])\n",
    "w = np.array([1, 0, 1])"
   ]
  },
  {
   "cell_type": "markdown",
   "metadata": {},
   "source": [
    "$\\vec{v} + \\vec{w} =\n",
    "\\left[ \\begin{array}{c}\n",
    "1 \\\\\n",
    "3 \\\\\n",
    "7\n",
    "\\end{array} \\right] + \\left[ \\begin{array}{c}\n",
    "1 \\\\\n",
    "0 \\\\\n",
    "1\n",
    "\\end{array} \\right] = \n",
    "\\left[ \\begin{array}{c}\n",
    "1+1 \\\\\n",
    "3+0 \\\\\n",
    "7+1\n",
    "\\end{array} \\right] = \n",
    "\\left[ \\begin{array}{c}\n",
    "2 \\\\\n",
    "3 \\\\\n",
    "8\n",
    "\\end{array} \\right]\n",
    "$\n",
    "\n",
    "(Subtraction is similar.)"
   ]
  },
  {
   "cell_type": "code",
   "execution_count": 7,
   "metadata": {},
   "outputs": [
    {
     "data": {
      "text/plain": [
       "array([2, 3, 8])"
      ]
     },
     "execution_count": 7,
     "metadata": {},
     "output_type": "execute_result"
    }
   ],
   "source": [
    "# Add the vectors together with +.\n",
    "v + w"
   ]
  },
  {
   "cell_type": "markdown",
   "metadata": {},
   "source": [
    "#### Scalar Multiplication\n",
    "We scale a vector with **scalar multiplication**, multiplying a vector by a scalar (single quantity):\n",
    "\n",
    "$ 2 \\cdot \\vec{v} = 2\\left[ \\begin{array}{c}\n",
    "1 \\\\\n",
    "3 \\\\\n",
    "7\n",
    "\\end{array} \\right] = \n",
    " \\left[ \\begin{array}{c}\n",
    "2 \\cdot 1 \\\\\n",
    "2 \\cdot 3 \\\\\n",
    "2 \\cdot 7\n",
    "\\end{array} \\right] = \n",
    " \\left[ \\begin{array}{c}\n",
    "2 \\\\\n",
    "6 \\\\\n",
    "14\n",
    "\\end{array} \\right]$ "
   ]
  },
  {
   "cell_type": "code",
   "execution_count": 8,
   "metadata": {},
   "outputs": [
    {
     "data": {
      "text/plain": [
       "array([ 2,  6, 14])"
      ]
     },
     "execution_count": 8,
     "metadata": {},
     "output_type": "execute_result"
    }
   ],
   "source": [
    "# Multiply v by 2.\n",
    "2 * v"
   ]
  },
  {
   "cell_type": "markdown",
   "metadata": {},
   "source": [
    "<a id=\"dot-product\"></a>\n",
    "### Dot Product\n",
    "The **dot product** of two _n_-dimensional vectors is:\n",
    "\n",
    "$ \\vec{v} \\cdot \\vec{w} =\\sum _{i=1}^{n}v_{i}w_{i}=v_{1}w_{1}+v_{2}w_{2}+\\cdots +v_{n}w_{n} $\n",
    "\n",
    "So, if:\n",
    "\n",
    "$\\vec{v} = \\left[ \\begin{array}{c}\n",
    "1 \\\\\n",
    "3 \\\\\n",
    "7\n",
    "\\end{array} \\right], \\vec{w} = \\left[ \\begin{array}{c}\n",
    "1 \\\\\n",
    "0 \\\\\n",
    "1\n",
    "\\end{array} \\right]$\n",
    "\n",
    "$ \\vec{v} \\cdot \\vec{w} = 1 \\cdot 1 + 3 \\cdot 0 + 7 \\cdot 1 = 8 $"
   ]
  },
  {
   "cell_type": "code",
   "execution_count": 10,
   "metadata": {},
   "outputs": [
    {
     "data": {
      "text/plain": [
       "8"
      ]
     },
     "execution_count": 10,
     "metadata": {},
     "output_type": "execute_result"
    }
   ],
   "source": [
    "v = np.array([1, 3, 7])\n",
    "w = np.array([1, 0, 1])\n",
    "\n",
    "v * w\n",
    "v.dot(w)\n",
    "# Calculate the dot product of v and w using np.dot."
   ]
  },
  {
   "cell_type": "markdown",
   "metadata": {},
   "source": [
    "<a id=\"matrix-multiplication\"></a>\n",
    "### Matrix Multiplication\n",
    "**Matrix multiplication**, $\\mathbf{A}_{mn}$ x $\\mathbf{B}_{ij}$, is valid when the left matrix has the same number of columns as the right matrix has rows ($n = i$). Each entry is the dot product of corresponding row and column vectors.\n",
    "\n",
    "![](assets/images/matrix-multiply-a.gif)\n",
    "(Image: mathisfun.com!)"
   ]
  },
  {
   "cell_type": "markdown",
   "metadata": {},
   "source": [
    "The dot product illustrated above is: $1 \\cdot 7 + 2 \\cdot 9 + 3 \\cdot 11 = 58$. Can you compute the rest of the dot products by hand?\n",
    "\n",
    "If the product is the $2$ x $2$ matrix $\\mathbf{C}_{mj}$, then:\n",
    "\n",
    "+ Matrix entry $c_{12}$ (its FIRST row and SECOND column) is the dot product of the FIRST row of $\\mathbf{A}$ and the SECOND column of $\\mathbf{B}$.\n",
    "\n",
    "+ Matrix entry $c_{21}$ (its SECOND row and FIRST column) is the dot product of the SECOND row of $\\mathbf{A}$ and the FIRST column of $\\mathbf{B}$.\n",
    "\n",
    "Note that if the first matrix is $m$ x $n$ ($m$ rows and $n$ columns) and the second is  $i$ x $j$ (where $n = i$), then the final matrix will be $m$ x $j$. For example, below we have $2$ x $3$ multiplied by $3$ x $2$, which results in a $2$ x $2$ matrix. Can you see why?"
   ]
  },
  {
   "cell_type": "code",
   "execution_count": 11,
   "metadata": {},
   "outputs": [
    {
     "data": {
      "text/plain": [
       "array([[ 58,  64],\n",
       "       [139, 154]])"
      ]
     },
     "execution_count": 11,
     "metadata": {},
     "output_type": "execute_result"
    }
   ],
   "source": [
    "A = np.array([[1, 2, 3], [4, 5, 6]])\n",
    "B = np.array([[7, 8], [9, 10], [11, 12]])\n",
    "\n",
    "A.dot(B)"
   ]
  },
  {
   "cell_type": "markdown",
   "metadata": {},
   "source": [
    "Make sure you can compute this by hand!"
   ]
  },
  {
   "cell_type": "markdown",
   "metadata": {},
   "source": [
    "<a id=\"n-dimensional-space\"></a>\n",
    "### N-Dimensional Space\n",
    "\n",
    "We often refer to vectors as elements of an $n$-dimensional space. The symbol $\\mathbb{R}$ refers to the set of all real numbers (written in uppercase \"blackboard bold\" font). Because this contains all reals, $3$ and $\\pi$ are **contained in** $\\mathbb{R}$. We often write this symbolically as $3 \\in \\mathbb{R}$ and $\\pi \\in \\mathbb{R}$.\n",
    "\n",
    "To get the set of all pairs of real numbers, we would essentially take the product of this set with itself (called the Cartesian product) — $\\mathbb{R}$ x $\\mathbb{R}$, abbreviated as $\\mathbb{R}^2$. This set — $\\mathbb{R}^2$ — contains all pairs of real numbers, so $(1, 3)$ is **contained in** this set. We write this symbolically as $(1, 3) \\in \\mathbb{R}^2$.\n",
    "\n",
    "+ In 2-D space ($\\mathbb{R}^2$), a point is uniquely referred to using two coordinates: $(1, 3) \\in \\mathbb{R}^2$.\n",
    "+ In 3-D space ($\\mathbb{R}^3$), a point is uniquely referred to using three coordinates: $(8, 2, -3) \\in \\mathbb{R}^3$.\n",
    "+ In $n$-dimensional space ($\\mathbb{R}^n$), a point is uniquely referred to using $n$ coordinates.\n",
    "\n",
    "Note that these coordinates of course are isomorphic to our vectors! After all, coordinates are ordered sequences of numbers, just as we define vectors to be ordered sequences of numbers. So, especially in machine learning, we often visualize vectors of length $n$ as points in $n$-dimensional space."
   ]
  },
  {
   "cell_type": "markdown",
   "metadata": {},
   "source": [
    "<a id=\"vector-norm\"></a>\n",
    "### Vector Norm\n",
    "\n",
    "The **magnitude** of a vector, $\\vec{v} \\in \\mathbb{R}^{n}$, can be interpreted as its length in $n$-dimensional space. Therefore it is calculable via the Euclidean distance from the origin:\n",
    "\n",
    "$\\vec{v} = \\left[ \\begin{array}{c}\n",
    "v_{1} \\\\\n",
    "v_{2} \\\\\n",
    "\\vdots \\\\\n",
    "v_{n}\n",
    "\\end{array} \\right]$\n",
    "\n",
    "then $\\| \\vec{v} \\| = \\sqrt{v_{1}^{2} + v_{2}^{2} + ... + v_{n}^{2}} = \\sqrt{v^Tv}$\n",
    "\n",
    "E.g. if $\\vec{v} = \n",
    "\\left[ \\begin{array}{c}\n",
    "3 \\\\\n",
    "4\n",
    "\\end{array} \\right]$, then $\\| \\vec{v} \\| = \\sqrt{3^{2} + 4^{2}} = 5$\n",
    "\n",
    "This is also called the vector **norm**. You will often see this used in machine learning."
   ]
  },
  {
   "cell_type": "code",
   "execution_count": 12,
   "metadata": {},
   "outputs": [
    {
     "data": {
      "text/plain": [
       "5.0"
      ]
     },
     "execution_count": 12,
     "metadata": {},
     "output_type": "execute_result"
    }
   ],
   "source": [
    "x = np.array([3,4])\n",
    "\n",
    "np.linalg.norm(x)\n",
    "# Calculate the norm of the vector x with np.linalg.norm."
   ]
  },
  {
   "cell_type": "markdown",
   "metadata": {},
   "source": [
    "<a id=\"linear-algebra-applications-to-machine-learning\"></a>\n",
    "## Linear Algebra Applications to Machine Learning\n",
    "---\n",
    "\n",
    "<a id=\"distance-between-actual-values-and-predicted-values\"></a>\n",
    "### Distance Between Actual Values and Predicted Values\n",
    "We often need to know the difference between predicted values and actual values. In 2-D space, we compute this as:\n",
    "$$\\| \\vec{actual} - \\vec{predicted} \\| =\\sqrt{(actual_1 - predicted_1)^2 + (actual_2 - predicted_2)^2}$$\n",
    "\n",
    "Note that this is just the straight-line distance between the actual point and the predicted point.\n",
    "\n",
    "<a id=\"mean-squared-error\"></a>\n",
    "### Mean Squared Error\n",
    "Often, it's easier to look at the mean of the squared errors. Where $\\hat{y}(\\mathbf{X})$ is a vector of predicted values (a function of the data matrix $\\mathbf{X}$) and $\\vec{y}$ is the actual values:\n",
    "\n",
    "$$MSE = \\frac{1} {n} \\| \\hat{y}(\\mathbf{X}) - \\vec{y} \\|^2$$\n",
    "\n",
    "<a id=\"least-squares\"></a>\n",
    "### Least squares\n",
    "Many machine learning models are based on the following form:\n",
    "\n",
    "$$\\min \\| \\hat{y}(\\mathbf{X}) - \\vec{y} \\|$$\n",
    "\n",
    "The goal is to minimize the distance between model predictions and actual data."
   ]
  },
  {
   "cell_type": "code",
   "execution_count": null,
   "metadata": {},
   "outputs": [],
   "source": [
    "predictions = ols.predict(Xtest)\n",
    "sklearn.metrics.mean_square_error(ytest,predictions)\n",
    "np.linalg.norm(ytest - predictions) / len(predictions)"
   ]
  },
  {
   "cell_type": "markdown",
   "metadata": {},
   "source": [
    "Let's see this in [scikit-learn](http://scikit-learn.org/stable/modules/linear_model.html)."
   ]
  },
  {
   "cell_type": "markdown",
   "metadata": {},
   "source": [
    "<a id=\"codealong-examining-the-titanic-dataset\"></a>\n",
    "## Code-Along: Examining the Titanic Data Set\n",
    "\n",
    "---"
   ]
  },
  {
   "cell_type": "markdown",
   "metadata": {},
   "source": [
    "#### Objective: Read in the Titanic data and look at a few summary statistics."
   ]
  },
  {
   "cell_type": "code",
   "execution_count": 13,
   "metadata": {},
   "outputs": [],
   "source": [
    "# Import Pandas\n",
    "import pandas as pd"
   ]
  },
  {
   "cell_type": "code",
   "execution_count": 14,
   "metadata": {},
   "outputs": [],
   "source": [
    "titanic = pd.read_csv('data/titanic.csv')"
   ]
  },
  {
   "cell_type": "markdown",
   "metadata": {},
   "source": [
    "#### Print out the column names:"
   ]
  },
  {
   "cell_type": "code",
   "execution_count": 15,
   "metadata": {
    "scrolled": true
   },
   "outputs": [
    {
     "data": {
      "text/html": [
       "<div>\n",
       "<style scoped>\n",
       "    .dataframe tbody tr th:only-of-type {\n",
       "        vertical-align: middle;\n",
       "    }\n",
       "\n",
       "    .dataframe tbody tr th {\n",
       "        vertical-align: top;\n",
       "    }\n",
       "\n",
       "    .dataframe thead th {\n",
       "        text-align: right;\n",
       "    }\n",
       "</style>\n",
       "<table border=\"1\" class=\"dataframe\">\n",
       "  <thead>\n",
       "    <tr style=\"text-align: right;\">\n",
       "      <th></th>\n",
       "      <th>survived</th>\n",
       "      <th>pclass</th>\n",
       "      <th>name</th>\n",
       "      <th>sex</th>\n",
       "      <th>age</th>\n",
       "      <th>sibsp</th>\n",
       "      <th>parch</th>\n",
       "      <th>ticket</th>\n",
       "      <th>fare</th>\n",
       "      <th>cabin</th>\n",
       "      <th>embarked</th>\n",
       "    </tr>\n",
       "  </thead>\n",
       "  <tbody>\n",
       "    <tr>\n",
       "      <th>0</th>\n",
       "      <td>0</td>\n",
       "      <td>3</td>\n",
       "      <td>Braund, Mr. Owen Harris</td>\n",
       "      <td>male</td>\n",
       "      <td>22.0</td>\n",
       "      <td>1</td>\n",
       "      <td>0</td>\n",
       "      <td>A/5 21171</td>\n",
       "      <td>7.2500</td>\n",
       "      <td>NaN</td>\n",
       "      <td>S</td>\n",
       "    </tr>\n",
       "    <tr>\n",
       "      <th>1</th>\n",
       "      <td>1</td>\n",
       "      <td>1</td>\n",
       "      <td>Cumings, Mrs. John Bradley (Florence Briggs Th...</td>\n",
       "      <td>female</td>\n",
       "      <td>38.0</td>\n",
       "      <td>1</td>\n",
       "      <td>0</td>\n",
       "      <td>PC 17599</td>\n",
       "      <td>71.2833</td>\n",
       "      <td>C85</td>\n",
       "      <td>C</td>\n",
       "    </tr>\n",
       "    <tr>\n",
       "      <th>2</th>\n",
       "      <td>1</td>\n",
       "      <td>3</td>\n",
       "      <td>Heikkinen, Miss. Laina</td>\n",
       "      <td>female</td>\n",
       "      <td>26.0</td>\n",
       "      <td>0</td>\n",
       "      <td>0</td>\n",
       "      <td>STON/O2. 3101282</td>\n",
       "      <td>7.9250</td>\n",
       "      <td>NaN</td>\n",
       "      <td>S</td>\n",
       "    </tr>\n",
       "    <tr>\n",
       "      <th>3</th>\n",
       "      <td>1</td>\n",
       "      <td>1</td>\n",
       "      <td>Futrelle, Mrs. Jacques Heath (Lily May Peel)</td>\n",
       "      <td>female</td>\n",
       "      <td>35.0</td>\n",
       "      <td>1</td>\n",
       "      <td>0</td>\n",
       "      <td>113803</td>\n",
       "      <td>53.1000</td>\n",
       "      <td>C123</td>\n",
       "      <td>S</td>\n",
       "    </tr>\n",
       "    <tr>\n",
       "      <th>4</th>\n",
       "      <td>0</td>\n",
       "      <td>3</td>\n",
       "      <td>Allen, Mr. William Henry</td>\n",
       "      <td>male</td>\n",
       "      <td>35.0</td>\n",
       "      <td>0</td>\n",
       "      <td>0</td>\n",
       "      <td>373450</td>\n",
       "      <td>8.0500</td>\n",
       "      <td>NaN</td>\n",
       "      <td>S</td>\n",
       "    </tr>\n",
       "    <tr>\n",
       "      <th>5</th>\n",
       "      <td>0</td>\n",
       "      <td>3</td>\n",
       "      <td>Moran, Mr. James</td>\n",
       "      <td>male</td>\n",
       "      <td>NaN</td>\n",
       "      <td>0</td>\n",
       "      <td>0</td>\n",
       "      <td>330877</td>\n",
       "      <td>8.4583</td>\n",
       "      <td>NaN</td>\n",
       "      <td>Q</td>\n",
       "    </tr>\n",
       "    <tr>\n",
       "      <th>6</th>\n",
       "      <td>0</td>\n",
       "      <td>1</td>\n",
       "      <td>McCarthy, Mr. Timothy J</td>\n",
       "      <td>male</td>\n",
       "      <td>54.0</td>\n",
       "      <td>0</td>\n",
       "      <td>0</td>\n",
       "      <td>17463</td>\n",
       "      <td>51.8625</td>\n",
       "      <td>E46</td>\n",
       "      <td>S</td>\n",
       "    </tr>\n",
       "    <tr>\n",
       "      <th>7</th>\n",
       "      <td>0</td>\n",
       "      <td>3</td>\n",
       "      <td>Palsson, Master. Gosta Leonard</td>\n",
       "      <td>male</td>\n",
       "      <td>2.0</td>\n",
       "      <td>3</td>\n",
       "      <td>1</td>\n",
       "      <td>349909</td>\n",
       "      <td>21.0750</td>\n",
       "      <td>NaN</td>\n",
       "      <td>S</td>\n",
       "    </tr>\n",
       "    <tr>\n",
       "      <th>8</th>\n",
       "      <td>1</td>\n",
       "      <td>3</td>\n",
       "      <td>Johnson, Mrs. Oscar W (Elisabeth Vilhelmina Berg)</td>\n",
       "      <td>female</td>\n",
       "      <td>27.0</td>\n",
       "      <td>0</td>\n",
       "      <td>2</td>\n",
       "      <td>347742</td>\n",
       "      <td>11.1333</td>\n",
       "      <td>NaN</td>\n",
       "      <td>S</td>\n",
       "    </tr>\n",
       "    <tr>\n",
       "      <th>9</th>\n",
       "      <td>1</td>\n",
       "      <td>2</td>\n",
       "      <td>Nasser, Mrs. Nicholas (Adele Achem)</td>\n",
       "      <td>female</td>\n",
       "      <td>14.0</td>\n",
       "      <td>1</td>\n",
       "      <td>0</td>\n",
       "      <td>237736</td>\n",
       "      <td>30.0708</td>\n",
       "      <td>NaN</td>\n",
       "      <td>C</td>\n",
       "    </tr>\n",
       "    <tr>\n",
       "      <th>10</th>\n",
       "      <td>1</td>\n",
       "      <td>3</td>\n",
       "      <td>Sandstrom, Miss. Marguerite Rut</td>\n",
       "      <td>female</td>\n",
       "      <td>4.0</td>\n",
       "      <td>1</td>\n",
       "      <td>1</td>\n",
       "      <td>PP 9549</td>\n",
       "      <td>16.7000</td>\n",
       "      <td>G6</td>\n",
       "      <td>S</td>\n",
       "    </tr>\n",
       "    <tr>\n",
       "      <th>11</th>\n",
       "      <td>1</td>\n",
       "      <td>1</td>\n",
       "      <td>Bonnell, Miss. Elizabeth</td>\n",
       "      <td>female</td>\n",
       "      <td>58.0</td>\n",
       "      <td>0</td>\n",
       "      <td>0</td>\n",
       "      <td>113783</td>\n",
       "      <td>26.5500</td>\n",
       "      <td>C103</td>\n",
       "      <td>S</td>\n",
       "    </tr>\n",
       "    <tr>\n",
       "      <th>12</th>\n",
       "      <td>0</td>\n",
       "      <td>3</td>\n",
       "      <td>Saundercock, Mr. William Henry</td>\n",
       "      <td>male</td>\n",
       "      <td>20.0</td>\n",
       "      <td>0</td>\n",
       "      <td>0</td>\n",
       "      <td>A/5. 2151</td>\n",
       "      <td>8.0500</td>\n",
       "      <td>NaN</td>\n",
       "      <td>S</td>\n",
       "    </tr>\n",
       "    <tr>\n",
       "      <th>13</th>\n",
       "      <td>0</td>\n",
       "      <td>3</td>\n",
       "      <td>Andersson, Mr. Anders Johan</td>\n",
       "      <td>male</td>\n",
       "      <td>39.0</td>\n",
       "      <td>1</td>\n",
       "      <td>5</td>\n",
       "      <td>347082</td>\n",
       "      <td>31.2750</td>\n",
       "      <td>NaN</td>\n",
       "      <td>S</td>\n",
       "    </tr>\n",
       "    <tr>\n",
       "      <th>14</th>\n",
       "      <td>0</td>\n",
       "      <td>3</td>\n",
       "      <td>Vestrom, Miss. Hulda Amanda Adolfina</td>\n",
       "      <td>female</td>\n",
       "      <td>14.0</td>\n",
       "      <td>0</td>\n",
       "      <td>0</td>\n",
       "      <td>350406</td>\n",
       "      <td>7.8542</td>\n",
       "      <td>NaN</td>\n",
       "      <td>S</td>\n",
       "    </tr>\n",
       "    <tr>\n",
       "      <th>15</th>\n",
       "      <td>1</td>\n",
       "      <td>2</td>\n",
       "      <td>Hewlett, Mrs. (Mary D Kingcome)</td>\n",
       "      <td>female</td>\n",
       "      <td>55.0</td>\n",
       "      <td>0</td>\n",
       "      <td>0</td>\n",
       "      <td>248706</td>\n",
       "      <td>16.0000</td>\n",
       "      <td>NaN</td>\n",
       "      <td>S</td>\n",
       "    </tr>\n",
       "    <tr>\n",
       "      <th>16</th>\n",
       "      <td>0</td>\n",
       "      <td>3</td>\n",
       "      <td>Rice, Master. Eugene</td>\n",
       "      <td>male</td>\n",
       "      <td>2.0</td>\n",
       "      <td>4</td>\n",
       "      <td>1</td>\n",
       "      <td>382652</td>\n",
       "      <td>29.1250</td>\n",
       "      <td>NaN</td>\n",
       "      <td>Q</td>\n",
       "    </tr>\n",
       "    <tr>\n",
       "      <th>17</th>\n",
       "      <td>1</td>\n",
       "      <td>2</td>\n",
       "      <td>Williams, Mr. Charles Eugene</td>\n",
       "      <td>male</td>\n",
       "      <td>NaN</td>\n",
       "      <td>0</td>\n",
       "      <td>0</td>\n",
       "      <td>244373</td>\n",
       "      <td>13.0000</td>\n",
       "      <td>NaN</td>\n",
       "      <td>S</td>\n",
       "    </tr>\n",
       "    <tr>\n",
       "      <th>18</th>\n",
       "      <td>0</td>\n",
       "      <td>3</td>\n",
       "      <td>Vander Planke, Mrs. Julius (Emelia Maria Vande...</td>\n",
       "      <td>female</td>\n",
       "      <td>31.0</td>\n",
       "      <td>1</td>\n",
       "      <td>0</td>\n",
       "      <td>345763</td>\n",
       "      <td>18.0000</td>\n",
       "      <td>NaN</td>\n",
       "      <td>S</td>\n",
       "    </tr>\n",
       "    <tr>\n",
       "      <th>19</th>\n",
       "      <td>1</td>\n",
       "      <td>3</td>\n",
       "      <td>Masselmani, Mrs. Fatima</td>\n",
       "      <td>female</td>\n",
       "      <td>NaN</td>\n",
       "      <td>0</td>\n",
       "      <td>0</td>\n",
       "      <td>2649</td>\n",
       "      <td>7.2250</td>\n",
       "      <td>NaN</td>\n",
       "      <td>C</td>\n",
       "    </tr>\n",
       "    <tr>\n",
       "      <th>20</th>\n",
       "      <td>0</td>\n",
       "      <td>2</td>\n",
       "      <td>Fynney, Mr. Joseph J</td>\n",
       "      <td>male</td>\n",
       "      <td>35.0</td>\n",
       "      <td>0</td>\n",
       "      <td>0</td>\n",
       "      <td>239865</td>\n",
       "      <td>26.0000</td>\n",
       "      <td>NaN</td>\n",
       "      <td>S</td>\n",
       "    </tr>\n",
       "    <tr>\n",
       "      <th>21</th>\n",
       "      <td>1</td>\n",
       "      <td>2</td>\n",
       "      <td>Beesley, Mr. Lawrence</td>\n",
       "      <td>male</td>\n",
       "      <td>34.0</td>\n",
       "      <td>0</td>\n",
       "      <td>0</td>\n",
       "      <td>248698</td>\n",
       "      <td>13.0000</td>\n",
       "      <td>D56</td>\n",
       "      <td>S</td>\n",
       "    </tr>\n",
       "    <tr>\n",
       "      <th>22</th>\n",
       "      <td>1</td>\n",
       "      <td>3</td>\n",
       "      <td>McGowan, Miss. Anna \"Annie\"</td>\n",
       "      <td>female</td>\n",
       "      <td>15.0</td>\n",
       "      <td>0</td>\n",
       "      <td>0</td>\n",
       "      <td>330923</td>\n",
       "      <td>8.0292</td>\n",
       "      <td>NaN</td>\n",
       "      <td>Q</td>\n",
       "    </tr>\n",
       "    <tr>\n",
       "      <th>23</th>\n",
       "      <td>1</td>\n",
       "      <td>1</td>\n",
       "      <td>Sloper, Mr. William Thompson</td>\n",
       "      <td>male</td>\n",
       "      <td>28.0</td>\n",
       "      <td>0</td>\n",
       "      <td>0</td>\n",
       "      <td>113788</td>\n",
       "      <td>35.5000</td>\n",
       "      <td>A6</td>\n",
       "      <td>S</td>\n",
       "    </tr>\n",
       "    <tr>\n",
       "      <th>24</th>\n",
       "      <td>0</td>\n",
       "      <td>3</td>\n",
       "      <td>Palsson, Miss. Torborg Danira</td>\n",
       "      <td>female</td>\n",
       "      <td>8.0</td>\n",
       "      <td>3</td>\n",
       "      <td>1</td>\n",
       "      <td>349909</td>\n",
       "      <td>21.0750</td>\n",
       "      <td>NaN</td>\n",
       "      <td>S</td>\n",
       "    </tr>\n",
       "    <tr>\n",
       "      <th>25</th>\n",
       "      <td>1</td>\n",
       "      <td>3</td>\n",
       "      <td>Asplund, Mrs. Carl Oscar (Selma Augusta Emilia...</td>\n",
       "      <td>female</td>\n",
       "      <td>38.0</td>\n",
       "      <td>1</td>\n",
       "      <td>5</td>\n",
       "      <td>347077</td>\n",
       "      <td>31.3875</td>\n",
       "      <td>NaN</td>\n",
       "      <td>S</td>\n",
       "    </tr>\n",
       "    <tr>\n",
       "      <th>26</th>\n",
       "      <td>0</td>\n",
       "      <td>3</td>\n",
       "      <td>Emir, Mr. Farred Chehab</td>\n",
       "      <td>male</td>\n",
       "      <td>NaN</td>\n",
       "      <td>0</td>\n",
       "      <td>0</td>\n",
       "      <td>2631</td>\n",
       "      <td>7.2250</td>\n",
       "      <td>NaN</td>\n",
       "      <td>C</td>\n",
       "    </tr>\n",
       "    <tr>\n",
       "      <th>27</th>\n",
       "      <td>0</td>\n",
       "      <td>1</td>\n",
       "      <td>Fortune, Mr. Charles Alexander</td>\n",
       "      <td>male</td>\n",
       "      <td>19.0</td>\n",
       "      <td>3</td>\n",
       "      <td>2</td>\n",
       "      <td>19950</td>\n",
       "      <td>263.0000</td>\n",
       "      <td>C23 C25 C27</td>\n",
       "      <td>S</td>\n",
       "    </tr>\n",
       "    <tr>\n",
       "      <th>28</th>\n",
       "      <td>1</td>\n",
       "      <td>3</td>\n",
       "      <td>O'Dwyer, Miss. Ellen \"Nellie\"</td>\n",
       "      <td>female</td>\n",
       "      <td>NaN</td>\n",
       "      <td>0</td>\n",
       "      <td>0</td>\n",
       "      <td>330959</td>\n",
       "      <td>7.8792</td>\n",
       "      <td>NaN</td>\n",
       "      <td>Q</td>\n",
       "    </tr>\n",
       "    <tr>\n",
       "      <th>29</th>\n",
       "      <td>0</td>\n",
       "      <td>3</td>\n",
       "      <td>Todoroff, Mr. Lalio</td>\n",
       "      <td>male</td>\n",
       "      <td>NaN</td>\n",
       "      <td>0</td>\n",
       "      <td>0</td>\n",
       "      <td>349216</td>\n",
       "      <td>7.8958</td>\n",
       "      <td>NaN</td>\n",
       "      <td>S</td>\n",
       "    </tr>\n",
       "    <tr>\n",
       "      <th>...</th>\n",
       "      <td>...</td>\n",
       "      <td>...</td>\n",
       "      <td>...</td>\n",
       "      <td>...</td>\n",
       "      <td>...</td>\n",
       "      <td>...</td>\n",
       "      <td>...</td>\n",
       "      <td>...</td>\n",
       "      <td>...</td>\n",
       "      <td>...</td>\n",
       "      <td>...</td>\n",
       "    </tr>\n",
       "    <tr>\n",
       "      <th>861</th>\n",
       "      <td>0</td>\n",
       "      <td>2</td>\n",
       "      <td>Giles, Mr. Frederick Edward</td>\n",
       "      <td>male</td>\n",
       "      <td>21.0</td>\n",
       "      <td>1</td>\n",
       "      <td>0</td>\n",
       "      <td>28134</td>\n",
       "      <td>11.5000</td>\n",
       "      <td>NaN</td>\n",
       "      <td>S</td>\n",
       "    </tr>\n",
       "    <tr>\n",
       "      <th>862</th>\n",
       "      <td>1</td>\n",
       "      <td>1</td>\n",
       "      <td>Swift, Mrs. Frederick Joel (Margaret Welles Ba...</td>\n",
       "      <td>female</td>\n",
       "      <td>48.0</td>\n",
       "      <td>0</td>\n",
       "      <td>0</td>\n",
       "      <td>17466</td>\n",
       "      <td>25.9292</td>\n",
       "      <td>D17</td>\n",
       "      <td>S</td>\n",
       "    </tr>\n",
       "    <tr>\n",
       "      <th>863</th>\n",
       "      <td>0</td>\n",
       "      <td>3</td>\n",
       "      <td>Sage, Miss. Dorothy Edith \"Dolly\"</td>\n",
       "      <td>female</td>\n",
       "      <td>NaN</td>\n",
       "      <td>8</td>\n",
       "      <td>2</td>\n",
       "      <td>CA. 2343</td>\n",
       "      <td>69.5500</td>\n",
       "      <td>NaN</td>\n",
       "      <td>S</td>\n",
       "    </tr>\n",
       "    <tr>\n",
       "      <th>864</th>\n",
       "      <td>0</td>\n",
       "      <td>2</td>\n",
       "      <td>Gill, Mr. John William</td>\n",
       "      <td>male</td>\n",
       "      <td>24.0</td>\n",
       "      <td>0</td>\n",
       "      <td>0</td>\n",
       "      <td>233866</td>\n",
       "      <td>13.0000</td>\n",
       "      <td>NaN</td>\n",
       "      <td>S</td>\n",
       "    </tr>\n",
       "    <tr>\n",
       "      <th>865</th>\n",
       "      <td>1</td>\n",
       "      <td>2</td>\n",
       "      <td>Bystrom, Mrs. (Karolina)</td>\n",
       "      <td>female</td>\n",
       "      <td>42.0</td>\n",
       "      <td>0</td>\n",
       "      <td>0</td>\n",
       "      <td>236852</td>\n",
       "      <td>13.0000</td>\n",
       "      <td>NaN</td>\n",
       "      <td>S</td>\n",
       "    </tr>\n",
       "    <tr>\n",
       "      <th>866</th>\n",
       "      <td>1</td>\n",
       "      <td>2</td>\n",
       "      <td>Duran y More, Miss. Asuncion</td>\n",
       "      <td>female</td>\n",
       "      <td>27.0</td>\n",
       "      <td>1</td>\n",
       "      <td>0</td>\n",
       "      <td>SC/PARIS 2149</td>\n",
       "      <td>13.8583</td>\n",
       "      <td>NaN</td>\n",
       "      <td>C</td>\n",
       "    </tr>\n",
       "    <tr>\n",
       "      <th>867</th>\n",
       "      <td>0</td>\n",
       "      <td>1</td>\n",
       "      <td>Roebling, Mr. Washington Augustus II</td>\n",
       "      <td>male</td>\n",
       "      <td>31.0</td>\n",
       "      <td>0</td>\n",
       "      <td>0</td>\n",
       "      <td>PC 17590</td>\n",
       "      <td>50.4958</td>\n",
       "      <td>A24</td>\n",
       "      <td>S</td>\n",
       "    </tr>\n",
       "    <tr>\n",
       "      <th>868</th>\n",
       "      <td>0</td>\n",
       "      <td>3</td>\n",
       "      <td>van Melkebeke, Mr. Philemon</td>\n",
       "      <td>male</td>\n",
       "      <td>NaN</td>\n",
       "      <td>0</td>\n",
       "      <td>0</td>\n",
       "      <td>345777</td>\n",
       "      <td>9.5000</td>\n",
       "      <td>NaN</td>\n",
       "      <td>S</td>\n",
       "    </tr>\n",
       "    <tr>\n",
       "      <th>869</th>\n",
       "      <td>1</td>\n",
       "      <td>3</td>\n",
       "      <td>Johnson, Master. Harold Theodor</td>\n",
       "      <td>male</td>\n",
       "      <td>4.0</td>\n",
       "      <td>1</td>\n",
       "      <td>1</td>\n",
       "      <td>347742</td>\n",
       "      <td>11.1333</td>\n",
       "      <td>NaN</td>\n",
       "      <td>S</td>\n",
       "    </tr>\n",
       "    <tr>\n",
       "      <th>870</th>\n",
       "      <td>0</td>\n",
       "      <td>3</td>\n",
       "      <td>Balkic, Mr. Cerin</td>\n",
       "      <td>male</td>\n",
       "      <td>26.0</td>\n",
       "      <td>0</td>\n",
       "      <td>0</td>\n",
       "      <td>349248</td>\n",
       "      <td>7.8958</td>\n",
       "      <td>NaN</td>\n",
       "      <td>S</td>\n",
       "    </tr>\n",
       "    <tr>\n",
       "      <th>871</th>\n",
       "      <td>1</td>\n",
       "      <td>1</td>\n",
       "      <td>Beckwith, Mrs. Richard Leonard (Sallie Monypeny)</td>\n",
       "      <td>female</td>\n",
       "      <td>47.0</td>\n",
       "      <td>1</td>\n",
       "      <td>1</td>\n",
       "      <td>11751</td>\n",
       "      <td>52.5542</td>\n",
       "      <td>D35</td>\n",
       "      <td>S</td>\n",
       "    </tr>\n",
       "    <tr>\n",
       "      <th>872</th>\n",
       "      <td>0</td>\n",
       "      <td>1</td>\n",
       "      <td>Carlsson, Mr. Frans Olof</td>\n",
       "      <td>male</td>\n",
       "      <td>33.0</td>\n",
       "      <td>0</td>\n",
       "      <td>0</td>\n",
       "      <td>695</td>\n",
       "      <td>5.0000</td>\n",
       "      <td>B51 B53 B55</td>\n",
       "      <td>S</td>\n",
       "    </tr>\n",
       "    <tr>\n",
       "      <th>873</th>\n",
       "      <td>0</td>\n",
       "      <td>3</td>\n",
       "      <td>Vander Cruyssen, Mr. Victor</td>\n",
       "      <td>male</td>\n",
       "      <td>47.0</td>\n",
       "      <td>0</td>\n",
       "      <td>0</td>\n",
       "      <td>345765</td>\n",
       "      <td>9.0000</td>\n",
       "      <td>NaN</td>\n",
       "      <td>S</td>\n",
       "    </tr>\n",
       "    <tr>\n",
       "      <th>874</th>\n",
       "      <td>1</td>\n",
       "      <td>2</td>\n",
       "      <td>Abelson, Mrs. Samuel (Hannah Wizosky)</td>\n",
       "      <td>female</td>\n",
       "      <td>28.0</td>\n",
       "      <td>1</td>\n",
       "      <td>0</td>\n",
       "      <td>P/PP 3381</td>\n",
       "      <td>24.0000</td>\n",
       "      <td>NaN</td>\n",
       "      <td>C</td>\n",
       "    </tr>\n",
       "    <tr>\n",
       "      <th>875</th>\n",
       "      <td>1</td>\n",
       "      <td>3</td>\n",
       "      <td>Najib, Miss. Adele Kiamie \"Jane\"</td>\n",
       "      <td>female</td>\n",
       "      <td>15.0</td>\n",
       "      <td>0</td>\n",
       "      <td>0</td>\n",
       "      <td>2667</td>\n",
       "      <td>7.2250</td>\n",
       "      <td>NaN</td>\n",
       "      <td>C</td>\n",
       "    </tr>\n",
       "    <tr>\n",
       "      <th>876</th>\n",
       "      <td>0</td>\n",
       "      <td>3</td>\n",
       "      <td>Gustafsson, Mr. Alfred Ossian</td>\n",
       "      <td>male</td>\n",
       "      <td>20.0</td>\n",
       "      <td>0</td>\n",
       "      <td>0</td>\n",
       "      <td>7534</td>\n",
       "      <td>9.8458</td>\n",
       "      <td>NaN</td>\n",
       "      <td>S</td>\n",
       "    </tr>\n",
       "    <tr>\n",
       "      <th>877</th>\n",
       "      <td>0</td>\n",
       "      <td>3</td>\n",
       "      <td>Petroff, Mr. Nedelio</td>\n",
       "      <td>male</td>\n",
       "      <td>19.0</td>\n",
       "      <td>0</td>\n",
       "      <td>0</td>\n",
       "      <td>349212</td>\n",
       "      <td>7.8958</td>\n",
       "      <td>NaN</td>\n",
       "      <td>S</td>\n",
       "    </tr>\n",
       "    <tr>\n",
       "      <th>878</th>\n",
       "      <td>0</td>\n",
       "      <td>3</td>\n",
       "      <td>Laleff, Mr. Kristo</td>\n",
       "      <td>male</td>\n",
       "      <td>NaN</td>\n",
       "      <td>0</td>\n",
       "      <td>0</td>\n",
       "      <td>349217</td>\n",
       "      <td>7.8958</td>\n",
       "      <td>NaN</td>\n",
       "      <td>S</td>\n",
       "    </tr>\n",
       "    <tr>\n",
       "      <th>879</th>\n",
       "      <td>1</td>\n",
       "      <td>1</td>\n",
       "      <td>Potter, Mrs. Thomas Jr (Lily Alexenia Wilson)</td>\n",
       "      <td>female</td>\n",
       "      <td>56.0</td>\n",
       "      <td>0</td>\n",
       "      <td>1</td>\n",
       "      <td>11767</td>\n",
       "      <td>83.1583</td>\n",
       "      <td>C50</td>\n",
       "      <td>C</td>\n",
       "    </tr>\n",
       "    <tr>\n",
       "      <th>880</th>\n",
       "      <td>1</td>\n",
       "      <td>2</td>\n",
       "      <td>Shelley, Mrs. William (Imanita Parrish Hall)</td>\n",
       "      <td>female</td>\n",
       "      <td>25.0</td>\n",
       "      <td>0</td>\n",
       "      <td>1</td>\n",
       "      <td>230433</td>\n",
       "      <td>26.0000</td>\n",
       "      <td>NaN</td>\n",
       "      <td>S</td>\n",
       "    </tr>\n",
       "    <tr>\n",
       "      <th>881</th>\n",
       "      <td>0</td>\n",
       "      <td>3</td>\n",
       "      <td>Markun, Mr. Johann</td>\n",
       "      <td>male</td>\n",
       "      <td>33.0</td>\n",
       "      <td>0</td>\n",
       "      <td>0</td>\n",
       "      <td>349257</td>\n",
       "      <td>7.8958</td>\n",
       "      <td>NaN</td>\n",
       "      <td>S</td>\n",
       "    </tr>\n",
       "    <tr>\n",
       "      <th>882</th>\n",
       "      <td>0</td>\n",
       "      <td>3</td>\n",
       "      <td>Dahlberg, Miss. Gerda Ulrika</td>\n",
       "      <td>female</td>\n",
       "      <td>22.0</td>\n",
       "      <td>0</td>\n",
       "      <td>0</td>\n",
       "      <td>7552</td>\n",
       "      <td>10.5167</td>\n",
       "      <td>NaN</td>\n",
       "      <td>S</td>\n",
       "    </tr>\n",
       "    <tr>\n",
       "      <th>883</th>\n",
       "      <td>0</td>\n",
       "      <td>2</td>\n",
       "      <td>Banfield, Mr. Frederick James</td>\n",
       "      <td>male</td>\n",
       "      <td>28.0</td>\n",
       "      <td>0</td>\n",
       "      <td>0</td>\n",
       "      <td>C.A./SOTON 34068</td>\n",
       "      <td>10.5000</td>\n",
       "      <td>NaN</td>\n",
       "      <td>S</td>\n",
       "    </tr>\n",
       "    <tr>\n",
       "      <th>884</th>\n",
       "      <td>0</td>\n",
       "      <td>3</td>\n",
       "      <td>Sutehall, Mr. Henry Jr</td>\n",
       "      <td>male</td>\n",
       "      <td>25.0</td>\n",
       "      <td>0</td>\n",
       "      <td>0</td>\n",
       "      <td>SOTON/OQ 392076</td>\n",
       "      <td>7.0500</td>\n",
       "      <td>NaN</td>\n",
       "      <td>S</td>\n",
       "    </tr>\n",
       "    <tr>\n",
       "      <th>885</th>\n",
       "      <td>0</td>\n",
       "      <td>3</td>\n",
       "      <td>Rice, Mrs. William (Margaret Norton)</td>\n",
       "      <td>female</td>\n",
       "      <td>39.0</td>\n",
       "      <td>0</td>\n",
       "      <td>5</td>\n",
       "      <td>382652</td>\n",
       "      <td>29.1250</td>\n",
       "      <td>NaN</td>\n",
       "      <td>Q</td>\n",
       "    </tr>\n",
       "    <tr>\n",
       "      <th>886</th>\n",
       "      <td>0</td>\n",
       "      <td>2</td>\n",
       "      <td>Montvila, Rev. Juozas</td>\n",
       "      <td>male</td>\n",
       "      <td>27.0</td>\n",
       "      <td>0</td>\n",
       "      <td>0</td>\n",
       "      <td>211536</td>\n",
       "      <td>13.0000</td>\n",
       "      <td>NaN</td>\n",
       "      <td>S</td>\n",
       "    </tr>\n",
       "    <tr>\n",
       "      <th>887</th>\n",
       "      <td>1</td>\n",
       "      <td>1</td>\n",
       "      <td>Graham, Miss. Margaret Edith</td>\n",
       "      <td>female</td>\n",
       "      <td>19.0</td>\n",
       "      <td>0</td>\n",
       "      <td>0</td>\n",
       "      <td>112053</td>\n",
       "      <td>30.0000</td>\n",
       "      <td>B42</td>\n",
       "      <td>S</td>\n",
       "    </tr>\n",
       "    <tr>\n",
       "      <th>888</th>\n",
       "      <td>0</td>\n",
       "      <td>3</td>\n",
       "      <td>Johnston, Miss. Catherine Helen \"Carrie\"</td>\n",
       "      <td>female</td>\n",
       "      <td>NaN</td>\n",
       "      <td>1</td>\n",
       "      <td>2</td>\n",
       "      <td>W./C. 6607</td>\n",
       "      <td>23.4500</td>\n",
       "      <td>NaN</td>\n",
       "      <td>S</td>\n",
       "    </tr>\n",
       "    <tr>\n",
       "      <th>889</th>\n",
       "      <td>1</td>\n",
       "      <td>1</td>\n",
       "      <td>Behr, Mr. Karl Howell</td>\n",
       "      <td>male</td>\n",
       "      <td>26.0</td>\n",
       "      <td>0</td>\n",
       "      <td>0</td>\n",
       "      <td>111369</td>\n",
       "      <td>30.0000</td>\n",
       "      <td>C148</td>\n",
       "      <td>C</td>\n",
       "    </tr>\n",
       "    <tr>\n",
       "      <th>890</th>\n",
       "      <td>0</td>\n",
       "      <td>3</td>\n",
       "      <td>Dooley, Mr. Patrick</td>\n",
       "      <td>male</td>\n",
       "      <td>32.0</td>\n",
       "      <td>0</td>\n",
       "      <td>0</td>\n",
       "      <td>370376</td>\n",
       "      <td>7.7500</td>\n",
       "      <td>NaN</td>\n",
       "      <td>Q</td>\n",
       "    </tr>\n",
       "  </tbody>\n",
       "</table>\n",
       "<p>891 rows × 11 columns</p>\n",
       "</div>"
      ],
      "text/plain": [
       "     survived  pclass                                               name  \\\n",
       "0           0       3                            Braund, Mr. Owen Harris   \n",
       "1           1       1  Cumings, Mrs. John Bradley (Florence Briggs Th...   \n",
       "2           1       3                             Heikkinen, Miss. Laina   \n",
       "3           1       1       Futrelle, Mrs. Jacques Heath (Lily May Peel)   \n",
       "4           0       3                           Allen, Mr. William Henry   \n",
       "5           0       3                                   Moran, Mr. James   \n",
       "6           0       1                            McCarthy, Mr. Timothy J   \n",
       "7           0       3                     Palsson, Master. Gosta Leonard   \n",
       "8           1       3  Johnson, Mrs. Oscar W (Elisabeth Vilhelmina Berg)   \n",
       "9           1       2                Nasser, Mrs. Nicholas (Adele Achem)   \n",
       "10          1       3                    Sandstrom, Miss. Marguerite Rut   \n",
       "11          1       1                           Bonnell, Miss. Elizabeth   \n",
       "12          0       3                     Saundercock, Mr. William Henry   \n",
       "13          0       3                        Andersson, Mr. Anders Johan   \n",
       "14          0       3               Vestrom, Miss. Hulda Amanda Adolfina   \n",
       "15          1       2                   Hewlett, Mrs. (Mary D Kingcome)    \n",
       "16          0       3                               Rice, Master. Eugene   \n",
       "17          1       2                       Williams, Mr. Charles Eugene   \n",
       "18          0       3  Vander Planke, Mrs. Julius (Emelia Maria Vande...   \n",
       "19          1       3                            Masselmani, Mrs. Fatima   \n",
       "20          0       2                               Fynney, Mr. Joseph J   \n",
       "21          1       2                              Beesley, Mr. Lawrence   \n",
       "22          1       3                        McGowan, Miss. Anna \"Annie\"   \n",
       "23          1       1                       Sloper, Mr. William Thompson   \n",
       "24          0       3                      Palsson, Miss. Torborg Danira   \n",
       "25          1       3  Asplund, Mrs. Carl Oscar (Selma Augusta Emilia...   \n",
       "26          0       3                            Emir, Mr. Farred Chehab   \n",
       "27          0       1                     Fortune, Mr. Charles Alexander   \n",
       "28          1       3                      O'Dwyer, Miss. Ellen \"Nellie\"   \n",
       "29          0       3                                Todoroff, Mr. Lalio   \n",
       "..        ...     ...                                                ...   \n",
       "861         0       2                        Giles, Mr. Frederick Edward   \n",
       "862         1       1  Swift, Mrs. Frederick Joel (Margaret Welles Ba...   \n",
       "863         0       3                  Sage, Miss. Dorothy Edith \"Dolly\"   \n",
       "864         0       2                             Gill, Mr. John William   \n",
       "865         1       2                           Bystrom, Mrs. (Karolina)   \n",
       "866         1       2                       Duran y More, Miss. Asuncion   \n",
       "867         0       1               Roebling, Mr. Washington Augustus II   \n",
       "868         0       3                        van Melkebeke, Mr. Philemon   \n",
       "869         1       3                    Johnson, Master. Harold Theodor   \n",
       "870         0       3                                  Balkic, Mr. Cerin   \n",
       "871         1       1   Beckwith, Mrs. Richard Leonard (Sallie Monypeny)   \n",
       "872         0       1                           Carlsson, Mr. Frans Olof   \n",
       "873         0       3                        Vander Cruyssen, Mr. Victor   \n",
       "874         1       2              Abelson, Mrs. Samuel (Hannah Wizosky)   \n",
       "875         1       3                   Najib, Miss. Adele Kiamie \"Jane\"   \n",
       "876         0       3                      Gustafsson, Mr. Alfred Ossian   \n",
       "877         0       3                               Petroff, Mr. Nedelio   \n",
       "878         0       3                                 Laleff, Mr. Kristo   \n",
       "879         1       1      Potter, Mrs. Thomas Jr (Lily Alexenia Wilson)   \n",
       "880         1       2       Shelley, Mrs. William (Imanita Parrish Hall)   \n",
       "881         0       3                                 Markun, Mr. Johann   \n",
       "882         0       3                       Dahlberg, Miss. Gerda Ulrika   \n",
       "883         0       2                      Banfield, Mr. Frederick James   \n",
       "884         0       3                             Sutehall, Mr. Henry Jr   \n",
       "885         0       3               Rice, Mrs. William (Margaret Norton)   \n",
       "886         0       2                              Montvila, Rev. Juozas   \n",
       "887         1       1                       Graham, Miss. Margaret Edith   \n",
       "888         0       3           Johnston, Miss. Catherine Helen \"Carrie\"   \n",
       "889         1       1                              Behr, Mr. Karl Howell   \n",
       "890         0       3                                Dooley, Mr. Patrick   \n",
       "\n",
       "        sex   age  sibsp  parch            ticket      fare        cabin  \\\n",
       "0      male  22.0      1      0         A/5 21171    7.2500          NaN   \n",
       "1    female  38.0      1      0          PC 17599   71.2833          C85   \n",
       "2    female  26.0      0      0  STON/O2. 3101282    7.9250          NaN   \n",
       "3    female  35.0      1      0            113803   53.1000         C123   \n",
       "4      male  35.0      0      0            373450    8.0500          NaN   \n",
       "5      male   NaN      0      0            330877    8.4583          NaN   \n",
       "6      male  54.0      0      0             17463   51.8625          E46   \n",
       "7      male   2.0      3      1            349909   21.0750          NaN   \n",
       "8    female  27.0      0      2            347742   11.1333          NaN   \n",
       "9    female  14.0      1      0            237736   30.0708          NaN   \n",
       "10   female   4.0      1      1           PP 9549   16.7000           G6   \n",
       "11   female  58.0      0      0            113783   26.5500         C103   \n",
       "12     male  20.0      0      0         A/5. 2151    8.0500          NaN   \n",
       "13     male  39.0      1      5            347082   31.2750          NaN   \n",
       "14   female  14.0      0      0            350406    7.8542          NaN   \n",
       "15   female  55.0      0      0            248706   16.0000          NaN   \n",
       "16     male   2.0      4      1            382652   29.1250          NaN   \n",
       "17     male   NaN      0      0            244373   13.0000          NaN   \n",
       "18   female  31.0      1      0            345763   18.0000          NaN   \n",
       "19   female   NaN      0      0              2649    7.2250          NaN   \n",
       "20     male  35.0      0      0            239865   26.0000          NaN   \n",
       "21     male  34.0      0      0            248698   13.0000          D56   \n",
       "22   female  15.0      0      0            330923    8.0292          NaN   \n",
       "23     male  28.0      0      0            113788   35.5000           A6   \n",
       "24   female   8.0      3      1            349909   21.0750          NaN   \n",
       "25   female  38.0      1      5            347077   31.3875          NaN   \n",
       "26     male   NaN      0      0              2631    7.2250          NaN   \n",
       "27     male  19.0      3      2             19950  263.0000  C23 C25 C27   \n",
       "28   female   NaN      0      0            330959    7.8792          NaN   \n",
       "29     male   NaN      0      0            349216    7.8958          NaN   \n",
       "..      ...   ...    ...    ...               ...       ...          ...   \n",
       "861    male  21.0      1      0             28134   11.5000          NaN   \n",
       "862  female  48.0      0      0             17466   25.9292          D17   \n",
       "863  female   NaN      8      2          CA. 2343   69.5500          NaN   \n",
       "864    male  24.0      0      0            233866   13.0000          NaN   \n",
       "865  female  42.0      0      0            236852   13.0000          NaN   \n",
       "866  female  27.0      1      0     SC/PARIS 2149   13.8583          NaN   \n",
       "867    male  31.0      0      0          PC 17590   50.4958          A24   \n",
       "868    male   NaN      0      0            345777    9.5000          NaN   \n",
       "869    male   4.0      1      1            347742   11.1333          NaN   \n",
       "870    male  26.0      0      0            349248    7.8958          NaN   \n",
       "871  female  47.0      1      1             11751   52.5542          D35   \n",
       "872    male  33.0      0      0               695    5.0000  B51 B53 B55   \n",
       "873    male  47.0      0      0            345765    9.0000          NaN   \n",
       "874  female  28.0      1      0         P/PP 3381   24.0000          NaN   \n",
       "875  female  15.0      0      0              2667    7.2250          NaN   \n",
       "876    male  20.0      0      0              7534    9.8458          NaN   \n",
       "877    male  19.0      0      0            349212    7.8958          NaN   \n",
       "878    male   NaN      0      0            349217    7.8958          NaN   \n",
       "879  female  56.0      0      1             11767   83.1583          C50   \n",
       "880  female  25.0      0      1            230433   26.0000          NaN   \n",
       "881    male  33.0      0      0            349257    7.8958          NaN   \n",
       "882  female  22.0      0      0              7552   10.5167          NaN   \n",
       "883    male  28.0      0      0  C.A./SOTON 34068   10.5000          NaN   \n",
       "884    male  25.0      0      0   SOTON/OQ 392076    7.0500          NaN   \n",
       "885  female  39.0      0      5            382652   29.1250          NaN   \n",
       "886    male  27.0      0      0            211536   13.0000          NaN   \n",
       "887  female  19.0      0      0            112053   30.0000          B42   \n",
       "888  female   NaN      1      2        W./C. 6607   23.4500          NaN   \n",
       "889    male  26.0      0      0            111369   30.0000         C148   \n",
       "890    male  32.0      0      0            370376    7.7500          NaN   \n",
       "\n",
       "    embarked  \n",
       "0          S  \n",
       "1          C  \n",
       "2          S  \n",
       "3          S  \n",
       "4          S  \n",
       "5          Q  \n",
       "6          S  \n",
       "7          S  \n",
       "8          S  \n",
       "9          C  \n",
       "10         S  \n",
       "11         S  \n",
       "12         S  \n",
       "13         S  \n",
       "14         S  \n",
       "15         S  \n",
       "16         Q  \n",
       "17         S  \n",
       "18         S  \n",
       "19         C  \n",
       "20         S  \n",
       "21         S  \n",
       "22         Q  \n",
       "23         S  \n",
       "24         S  \n",
       "25         S  \n",
       "26         C  \n",
       "27         S  \n",
       "28         Q  \n",
       "29         S  \n",
       "..       ...  \n",
       "861        S  \n",
       "862        S  \n",
       "863        S  \n",
       "864        S  \n",
       "865        S  \n",
       "866        C  \n",
       "867        S  \n",
       "868        S  \n",
       "869        S  \n",
       "870        S  \n",
       "871        S  \n",
       "872        S  \n",
       "873        S  \n",
       "874        C  \n",
       "875        C  \n",
       "876        S  \n",
       "877        S  \n",
       "878        S  \n",
       "879        C  \n",
       "880        S  \n",
       "881        S  \n",
       "882        S  \n",
       "883        S  \n",
       "884        S  \n",
       "885        Q  \n",
       "886        S  \n",
       "887        S  \n",
       "888        S  \n",
       "889        C  \n",
       "890        Q  \n",
       "\n",
       "[891 rows x 11 columns]"
      ]
     },
     "execution_count": 15,
     "metadata": {},
     "output_type": "execute_result"
    }
   ],
   "source": [
    "# Answer:\n",
    "titanic"
   ]
  },
  {
   "cell_type": "markdown",
   "metadata": {},
   "source": [
    "#### Extract the underlying numpy array"
   ]
  },
  {
   "cell_type": "code",
   "execution_count": 17,
   "metadata": {},
   "outputs": [
    {
     "data": {
      "text/plain": [
       "array([[0, 3, 'Braund, Mr. Owen Harris', ..., 7.25, nan, 'S'],\n",
       "       [1, 1, 'Cumings, Mrs. John Bradley (Florence Briggs Thayer)', ...,\n",
       "        71.2833, 'C85', 'C'],\n",
       "       [1, 3, 'Heikkinen, Miss. Laina', ..., 7.925, nan, 'S'],\n",
       "       ...,\n",
       "       [0, 3, 'Johnston, Miss. Catherine Helen \"Carrie\"', ..., 23.45,\n",
       "        nan, 'S'],\n",
       "       [1, 1, 'Behr, Mr. Karl Howell', ..., 30.0, 'C148', 'C'],\n",
       "       [0, 3, 'Dooley, Mr. Patrick', ..., 7.75, nan, 'Q']], dtype=object)"
      ]
     },
     "execution_count": 17,
     "metadata": {},
     "output_type": "execute_result"
    }
   ],
   "source": [
    "titanic.to_numpy()"
   ]
  },
  {
   "cell_type": "markdown",
   "metadata": {},
   "source": [
    "#### Print out the dimensions of the DataFrame using the `.shape` attribute:"
   ]
  },
  {
   "cell_type": "code",
   "execution_count": 18,
   "metadata": {},
   "outputs": [
    {
     "data": {
      "text/plain": [
       "(891, 11)"
      ]
     },
     "execution_count": 18,
     "metadata": {},
     "output_type": "execute_result"
    }
   ],
   "source": [
    "# Preview data dimensions.\n",
    "titanic.shape"
   ]
  },
  {
   "cell_type": "code",
   "execution_count": 19,
   "metadata": {},
   "outputs": [
    {
     "data": {
      "text/plain": [
       "(891, 11)"
      ]
     },
     "execution_count": 19,
     "metadata": {},
     "output_type": "execute_result"
    }
   ],
   "source": [
    "titanic.to_numpy().shape"
   ]
  },
  {
   "cell_type": "markdown",
   "metadata": {},
   "source": [
    "### Diagnosing Data Problems\n",
    "\n",
    "- Whenever you get a new data set, the fastest way to find mistakes and inconsistencies is to look at the descriptive statistics.\n",
    "  - If anything looks too high or too low relative to your experience, there may be issues with the data collection.\n",
    "- Your data may contain a lot of missing values and may need to be cleaned meticulously before they can be combined with other data.\n",
    "  - You can take a quick average or moving average to smooth out the data and combine that to preview your results before you embark on your much longer data-cleaning journey.\n",
    "  - Sometimes filling in missing values with their means or medians will be the best solution for dealing with missing data. Other times, you may want to drop the offending rows or do real imputation."
   ]
  },
  {
   "cell_type": "markdown",
   "metadata": {},
   "source": [
    "<a id=\"descriptive-statistics-fundamentals\"></a>\n",
    "## Descriptive Statistics Fundamentals\n",
    "---\n",
    "\n",
    "- **Objective:** Code summary statistics using NumPy and Pandas: mean, median, mode, max, min, quartile, inter-quartile range, variance, standard deviation, and correlation."
   ]
  },
  {
   "cell_type": "markdown",
   "metadata": {},
   "source": [
    "### A Quick Review of Notation"
   ]
  },
  {
   "cell_type": "markdown",
   "metadata": {},
   "source": [
    "The sum of a constant, $k$, $n$ times:\n",
    "$$\\sum_{i=1}^nk$$"
   ]
  },
  {
   "cell_type": "code",
   "execution_count": 20,
   "metadata": {
    "collapsed": true
   },
   "outputs": [],
   "source": [
    "# k + k + k + k + ... + k"
   ]
  },
  {
   "cell_type": "markdown",
   "metadata": {},
   "source": [
    "> It is often helpful to think of these sums as `for` loops. For example, the equation can be compactly computed like so:\n",
    "\n",
    "```\n",
    "total = 0\n",
    "\n",
    "# For i from 1 up to and including n, add k to the sum.\n",
    "for i in range(1, n+1):\n",
    "    total += k\n",
    "```\n",
    "\n",
    "> Or, even more succinctly (using a generator comprehension):\n",
    "\n",
    "```\n",
    "total = sum(k for i in range(1, n+1))\n",
    "```"
   ]
  },
  {
   "cell_type": "markdown",
   "metadata": {},
   "source": [
    "The sum of all numbers from 1 up to and including $n$:\n",
    "$$\\sum_{i=1}^ni$$"
   ]
  },
  {
   "cell_type": "code",
   "execution_count": 21,
   "metadata": {
    "collapsed": true
   },
   "outputs": [],
   "source": [
    "# 1 + 2 + 3 + ... + n"
   ]
  },
  {
   "cell_type": "markdown",
   "metadata": {},
   "source": [
    "> ```\n",
    "total = sum(i for i in range(1, n+1))\n",
    "```"
   ]
  },
  {
   "cell_type": "markdown",
   "metadata": {},
   "source": [
    "The sum of all $x$ from the first $x$ entry to the $n$th $x$ entry:\n",
    "$$\\sum_{i=0}^nx_i$$"
   ]
  },
  {
   "cell_type": "code",
   "execution_count": 22,
   "metadata": {
    "collapsed": true
   },
   "outputs": [],
   "source": [
    "# x_1 + x_2 + x_3 + ... + x_n"
   ]
  },
  {
   "cell_type": "markdown",
   "metadata": {},
   "source": [
    "> ```\n",
    "total = sum(xi in x)      # or just sum(x)\n",
    "```"
   ]
  },
  {
   "cell_type": "markdown",
   "metadata": {},
   "source": [
    "#### Code-Along\n",
    "\n",
    "_Optional: Write down the mathematical notation for the following questions:_"
   ]
  },
  {
   "cell_type": "code",
   "execution_count": 20,
   "metadata": {},
   "outputs": [
    {
     "data": {
      "text/plain": [
       "28"
      ]
     },
     "execution_count": 20,
     "metadata": {},
     "output_type": "execute_result"
    }
   ],
   "source": [
    "# Compute the sum of seven 4s using base Python.\n",
    "sum([4] * 7)"
   ]
  },
  {
   "cell_type": "code",
   "execution_count": 22,
   "metadata": {},
   "outputs": [
    {
     "data": {
      "text/plain": [
       "28"
      ]
     },
     "execution_count": 22,
     "metadata": {},
     "output_type": "execute_result"
    }
   ],
   "source": [
    "# Compute the sum of seven 4s using NumPy.\n",
    "np.sum(np.array([4] * 7))"
   ]
  },
  {
   "cell_type": "code",
   "execution_count": 26,
   "metadata": {
    "collapsed": true
   },
   "outputs": [],
   "source": [
    "# Compute the sum of 1 through 10 using base Python.\n"
   ]
  },
  {
   "cell_type": "code",
   "execution_count": 23,
   "metadata": {},
   "outputs": [
    {
     "data": {
      "text/plain": [
       "28693.9493"
      ]
     },
     "execution_count": 23,
     "metadata": {},
     "output_type": "execute_result"
    }
   ],
   "source": [
    "# Using the titanic.fare column, compute the total fare paid by passengers.\n",
    "titanic.fare.sum()"
   ]
  },
  {
   "cell_type": "code",
   "execution_count": 26,
   "metadata": {},
   "outputs": [
    {
     "data": {
      "text/plain": [
       "28693.949299999967"
      ]
     },
     "execution_count": 26,
     "metadata": {},
     "output_type": "execute_result"
    }
   ],
   "source": [
    "np.sum(titanic.to_numpy()[:,8])"
   ]
  },
  {
   "cell_type": "markdown",
   "metadata": {},
   "source": [
    "<a id=\"measures-of-central-tendency\"></a>\n",
    "### Measures of Central Tendency"
   ]
  },
  {
   "cell_type": "markdown",
   "metadata": {},
   "source": [
    "- Mean\n",
    "- Median\n",
    "- Mode"
   ]
  },
  {
   "cell_type": "markdown",
   "metadata": {},
   "source": [
    "#### Mean\n",
    "The mean — also known as the average or expected value — is defined as:\n",
    "$$E[X] = \\bar{X} =\\frac 1n\\sum_{i=1}^nx_i$$\n",
    "\n",
    "It is determined by summing all data points in a population and then dividing the total by the number of points. The resulting number is known as the mean or the average.\n",
    "\n",
    "Be careful — the mean can be highly affected by outliers. For example, the mean of a very large number and some small numbers will be much larger than the \"typical\" small numbers. Earlier, we saw that the mean squared error (MSE) was used to optimize linear regression. Because this mean is highly affected by outliers, the resulting linear regression model is, too."
   ]
  },
  {
   "cell_type": "markdown",
   "metadata": {},
   "source": [
    "#### Median\n",
    "The median refers to the midpoint in a series of numbers. Notice that the median is not affected by outliers, so it more so represents the \"typical\" value in a set.\n",
    "\n",
    "$$ 0,1,2,[3],5,5,1004 $$\n",
    "\n",
    "$$ 1,3,4,[4,5],5,5,7 $$\n",
    "\n",
    "To find the median:\n",
    "\n",
    "- Arrange the numbers in order from smallest to largest.\n",
    "    - If there is an odd number of values, the middle value is the median.\n",
    "    - If there is an even number of values, the average of the middle two values is the median.\n",
    "\n",
    "Although the median has many useful properties, the mean is easier to use in optimization algorithms. The median is more often used in analysis than in machine learning algorithms."
   ]
  },
  {
   "cell_type": "markdown",
   "metadata": {},
   "source": [
    "#### Mode\n",
    "The mode of a set of values is the value that occurs most often.\n",
    "A set of values may have more than one mode, or no mode at all.\n",
    "\n",
    "$$1,0,1,5,7,8,9,3,4,1$$ \n",
    "\n",
    "$1$ is the mode, as it occurs the most often (three times)."
   ]
  },
  {
   "cell_type": "markdown",
   "metadata": {},
   "source": [
    "#### Code-Along"
   ]
  },
  {
   "cell_type": "code",
   "execution_count": 28,
   "metadata": {},
   "outputs": [
    {
     "data": {
      "text/plain": [
       "32.2042079685746"
      ]
     },
     "execution_count": 28,
     "metadata": {},
     "output_type": "execute_result"
    }
   ],
   "source": [
    "# Find the mean of the titanic.fare series using base Python:\n",
    "sum(titanic.fare) / len(titanic.fare)"
   ]
  },
  {
   "cell_type": "code",
   "execution_count": 31,
   "metadata": {},
   "outputs": [
    {
     "data": {
      "text/plain": [
       "32.2042079685746"
      ]
     },
     "execution_count": 31,
     "metadata": {},
     "output_type": "execute_result"
    }
   ],
   "source": [
    "# Find the mean of the titanic.fare series using NumPy:\n",
    "np.mean(titanic.to_numpy()[:,8])"
   ]
  },
  {
   "cell_type": "code",
   "execution_count": 32,
   "metadata": {},
   "outputs": [
    {
     "data": {
      "text/plain": [
       "32.2042079685746"
      ]
     },
     "execution_count": 32,
     "metadata": {},
     "output_type": "execute_result"
    }
   ],
   "source": [
    "np.mean(titanic.fare)"
   ]
  },
  {
   "cell_type": "code",
   "execution_count": 33,
   "metadata": {},
   "outputs": [
    {
     "data": {
      "text/plain": [
       "32.2042079685746"
      ]
     },
     "execution_count": 33,
     "metadata": {},
     "output_type": "execute_result"
    }
   ],
   "source": [
    "# Find the mean of the titanic.fare series using Pandas:\n",
    "titanic.fare.mean()"
   ]
  },
  {
   "cell_type": "code",
   "execution_count": 34,
   "metadata": {},
   "outputs": [
    {
     "data": {
      "text/plain": [
       "14.4542"
      ]
     },
     "execution_count": 34,
     "metadata": {},
     "output_type": "execute_result"
    }
   ],
   "source": [
    "# What was the median fare paid (using Pandas)?\n",
    "titanic.fare.median()"
   ]
  },
  {
   "cell_type": "code",
   "execution_count": null,
   "metadata": {},
   "outputs": [],
   "source": [
    "%%debug"
   ]
  },
  {
   "cell_type": "code",
   "execution_count": 40,
   "metadata": {},
   "outputs": [
    {
     "name": "stdout",
     "output_type": "stream",
     "text": [
      "Wall time: 503 µs\n"
     ]
    },
    {
     "data": {
      "text/plain": [
       "28693.9493"
      ]
     },
     "execution_count": 40,
     "metadata": {},
     "output_type": "execute_result"
    }
   ],
   "source": [
    "%%time\n",
    "titanic.fare.sum()"
   ]
  },
  {
   "cell_type": "code",
   "execution_count": 35,
   "metadata": {},
   "outputs": [
    {
     "data": {
      "text/plain": [
       "0    8.05\n",
       "dtype: float64"
      ]
     },
     "execution_count": 35,
     "metadata": {},
     "output_type": "execute_result"
    }
   ],
   "source": [
    "# Use Pandas to find the most common fare paid on the Titanic:\n",
    "titanic.fare.mode()"
   ]
  },
  {
   "cell_type": "code",
   "execution_count": 36,
   "metadata": {},
   "outputs": [
    {
     "data": {
      "text/plain": [
       "0    1\n",
       "1    2\n",
       "dtype: int64"
      ]
     },
     "execution_count": 36,
     "metadata": {},
     "output_type": "execute_result"
    }
   ],
   "source": [
    "pd.Series([1,1,2,2,3]).mode()"
   ]
  },
  {
   "cell_type": "markdown",
   "metadata": {},
   "source": [
    "<a id=\"math-review\"></a>\n",
    "### Math Review\n",
    "\n",
    "#### How Do We Measure Distance?\n",
    "\n",
    "One method is to take the difference between two points:\n",
    "\n",
    "$$X_2 - X_1$$\n",
    "\n",
    "However, this can be inconvenient because of negative numbers.\n",
    "\n",
    "We often use the following square root trick to deal with negative numbers. Note this is equivalent to the absolute value (if the points are 1-D):\n",
    "\n",
    "$$\\sqrt{(X_2-X_1)^2} = | X_2 - X_1 |$$\n",
    "\n",
    "#### What About Distance in Multiple Dimensions?\n",
    "\n",
    "We can turn to the Pythagorean theorem.\n",
    "\n",
    "$$a^2 + b^2 = c^2$$\n",
    "\n",
    "To find the distance along a diagonal, it is sufficient to measure one dimension at a time:\n",
    "\n",
    "$$\\sqrt{a^2 + b^2} = c$$\n",
    "\n",
    "More generally, we can write this as the norm (You'll see this in machine learning papers):\n",
    "\n",
    "$$\\|X\\|_2 = \\sqrt{\\sum{x_i^2}} = c$$\n",
    "\n",
    "What if we want to work with points rather than distances? For points $\\vec{x}: (x_1, x_1)$ and $\\vec{y}: (y_1, y_2)$ we can write:\n",
    "\n",
    "$$\\sqrt{(x_1 - y_1)^2 + (x_2 - y_2)^2} = c$$\n",
    "or\n",
    "$$\\sqrt{\\sum{(x_i - y_i)^2}} = c$$\n",
    "or\n",
    "$$\\| \\vec{x} - \\vec{y} \\| = c$$\n",
    "\n",
    "> You may be more familiar with defining points as $(x, y)$ rather than $(x_1, x_2)$. However, in machine learning it is much more convenient to define each coordinate using the same base letter with a different subscript. This allows us to easily represent a 100-dimensional point, e.g., $(x_1, x_2, ..., x_{100})$. If we use the grade school method, we would soon run out of letters!"
   ]
  },
  {
   "cell_type": "markdown",
   "metadata": {},
   "source": [
    "<a id=\"measures-of-dispersion-standard-deviation-and-variance\"></a>\n",
    "### Measures of Dispersion: Standard Deviation and Variance"
   ]
  },
  {
   "cell_type": "markdown",
   "metadata": {},
   "source": [
    "Standard deviation (SD, $σ$ for population standard deviation, or $s$ for sample standard deviation) is a measure that is used to quantify the amount of variation or dispersion from the mean of a set of data values. A low standard deviation means that most of the numbers are close to the average. A high standard deviation means that the numbers are spread out.\n",
    "\n",
    "Standard deviation is the square root of variance:\n",
    "\n",
    "$$variance = \\frac {\\sum{(x_i - \\bar{X})^2}} {n-1}$$\n",
    "\n",
    "$$s = \\sqrt{\\frac {\\sum{(x_i - \\bar{X})^2}} {n-1}}$$\n",
    "\n",
    "> **Standard deviation** is often used because it is in the same units as the original data! By glancing at the standard deviation, we can immediately estimate how \"typical\" a data point might be by how many standard deviations it is from the mean. Furthermore, standard deviation is the only value that makes sense to visually draw alongside the original data.\n",
    "\n",
    "> **Variance** is often used for efficiency in computations. The square root in the SD always increases with the function to which it is applied. So, removing it can simplify calculations (e.g., taking derivatives), particularly if we are using the variance for tasks such as optimization."
   ]
  },
  {
   "cell_type": "markdown",
   "metadata": {},
   "source": [
    "**That can be a lot to take in, so let's break it down in Python.**\n",
    "\n",
    "#### Assign the first 5 rows of titanic age data to a variable:"
   ]
  },
  {
   "cell_type": "code",
   "execution_count": 41,
   "metadata": {},
   "outputs": [
    {
     "data": {
      "text/plain": [
       "0    22.0\n",
       "1    38.0\n",
       "2    26.0\n",
       "3    35.0\n",
       "4    35.0\n",
       "Name: age, dtype: float64"
      ]
     },
     "execution_count": 41,
     "metadata": {},
     "output_type": "execute_result"
    }
   ],
   "source": [
    "# Take the first five rows of titanic age data.\n",
    "titanic.age.head(5)"
   ]
  },
  {
   "cell_type": "markdown",
   "metadata": {},
   "source": [
    "#### Calculate the mean by hand:"
   ]
  },
  {
   "cell_type": "code",
   "execution_count": 42,
   "metadata": {},
   "outputs": [
    {
     "data": {
      "text/plain": [
       "31.2"
      ]
     },
     "execution_count": 42,
     "metadata": {},
     "output_type": "execute_result"
    }
   ],
   "source": [
    "# Calculate mean by hand.\n",
    "(22.0 + 38.0 +   26.0 +  35.0 +   35.0) / 5"
   ]
  },
  {
   "cell_type": "markdown",
   "metadata": {},
   "source": [
    "#### Calculate the variance by hand:"
   ]
  },
  {
   "cell_type": "code",
   "execution_count": 44,
   "metadata": {},
   "outputs": [
    {
     "data": {
      "text/plain": [
       "46.699999999999996"
      ]
     },
     "execution_count": 44,
     "metadata": {},
     "output_type": "execute_result"
    }
   ],
   "source": [
    "# Calculate variance by hand\n",
    "((22.0-31.2)**2 + (38.0-31.2)**2 +   (26.0-31.2)**2 +  (35.0-31.2)**2 +   (35.0- 31.2)**2) /4 "
   ]
  },
  {
   "cell_type": "markdown",
   "metadata": {},
   "source": [
    "#### Calculate the variance and the standard deviation using Pandas:"
   ]
  },
  {
   "cell_type": "code",
   "execution_count": 46,
   "metadata": {},
   "outputs": [
    {
     "data": {
      "text/plain": [
       "46.699999999999996"
      ]
     },
     "execution_count": 46,
     "metadata": {},
     "output_type": "execute_result"
    }
   ],
   "source": [
    "# Verify with Pandas\n",
    "titanic.age.head(5).var()"
   ]
  },
  {
   "cell_type": "code",
   "execution_count": 48,
   "metadata": {},
   "outputs": [
    {
     "data": {
      "text/plain": [
       "6.833739825307955"
      ]
     },
     "execution_count": 48,
     "metadata": {},
     "output_type": "execute_result"
    }
   ],
   "source": [
    "titanic.age.head(5).std()"
   ]
  },
  {
   "cell_type": "markdown",
   "metadata": {},
   "source": [
    "<a id=\"bias-variance-decomposition\"></a>\n",
    "### Bias-Variance Decomposition"
   ]
  },
  {
   "cell_type": "markdown",
   "metadata": {},
   "source": [
    "In the following notation, $f$ refers to a perfect model, while $\\hat{f}$ refers to our model.\n",
    "\n",
    "**Bias**\n",
    "\n",
    "Error caused by bias is calculated as the difference between the expected prediction of our model and the correct value we are trying to predict:\n",
    "\n",
    "$$Bias = E[\\hat{f}(x)] - f(x)$$\n",
    "\n",
    "**Variance**\n",
    "\n",
    "Error caused by variance is taken as the variability of a model prediction for a given point:\n",
    "\n",
    "$$Variance = E[(\\hat{f}(x) - E[\\hat{f}(x)])^2]$$\n",
    "\n",
    "**Mean Squared Error**\n",
    "$$MSE(\\hat{f}(x)) = Var(\\hat{f}(x)) + Bias(\\hat{f}(x),f(x))^2$$"
   ]
  },
  {
   "cell_type": "markdown",
   "metadata": {},
   "source": [
    "> The MSE is actually composed of three sources of error: The **variance**, **bias**, and some **irreducible error** that the model can never render given the available features.\n",
    "\n",
    "This topic will come up again, but for now it's enough to know that we can decompose MSE into the bias of the estimator and the variance of the estimator."
   ]
  },
  {
   "cell_type": "markdown",
   "metadata": {},
   "source": [
    "<a id=\"example-using-bessels-correction\"></a>\n",
    "### Example Using Bessel's Correction"
   ]
  },
  {
   "cell_type": "markdown",
   "metadata": {},
   "source": [
    "It's rarely practical to measure every single item in a population to gather a statistic. We will usually sample a few items and use those to infer a population value.\n",
    "\n",
    "For example, we can take a class of 200 students and measure their height, but rather than measuring everyone, we select students at random to estimate the average height in the class and the variance of the height in the class.\n",
    "\n",
    "We know we can take the mean as follows:\n",
    "\n",
    "$$E[X] = \\bar{X} =\\frac 1n\\sum_{i=1}^nx_i$$\n",
    "\n",
    "What about the variance?\n",
    "\n",
    "Intuitively and by definition, population variance looks like this (the average distance from the mean):\n",
    "\n",
    "$$\\frac {\\sum{(x_i - \\bar{X})^2}} {n}$$\n",
    "\n",
    "It's actually better to use the following for a sample (why?):\n",
    "\n",
    "$$\\frac {\\sum{(x_i - \\bar{X})^2}} {n-1}$$\n",
    "\n",
    "In some cases, we may even use:\n",
    "\n",
    "$$\\frac {\\sum{(x_i - \\bar{X})^2}} {n+1}$$\n",
    "\n",
    "Detailed explanations can be found here:\n",
    "\n",
    "- [Bessel correction](https://en.wikipedia.org/wiki/Bessel%27s_correction).\n",
    "- [Mean Squared Error](https://en.wikipedia.org/wiki/Mean_squared_error)."
   ]
  },
  {
   "cell_type": "code",
   "execution_count": 50,
   "metadata": {},
   "outputs": [
    {
     "data": {
      "text/plain": [
       "29.69911764705882"
      ]
     },
     "execution_count": 50,
     "metadata": {},
     "output_type": "execute_result"
    }
   ],
   "source": [
    "titanic.age.mean()"
   ]
  },
  {
   "cell_type": "code",
   "execution_count": 55,
   "metadata": {},
   "outputs": [
    {
     "data": {
      "text/plain": [
       "22.25"
      ]
     },
     "execution_count": 55,
     "metadata": {},
     "output_type": "execute_result"
    }
   ],
   "source": [
    "titanic.sample(5).age.mean()"
   ]
  },
  {
   "cell_type": "markdown",
   "metadata": {},
   "source": [
    "Let's walk through an example of computing the variance by hand.\n",
    "\n",
    "Suppose we have the following data:\n",
    "\n",
    "$$X = [1, 2, 3, 4, 4, 10]$$\n",
    "\n",
    "First, we compute its mean: \n",
    "\n",
    "$$\\bar{X} = (1/6)(1 + 2 + 3 + 4 + 4 + 10) = 4$$\n",
    "\n",
    "Because this is a sample of data rather than the full population, we'll use the second formula. Let's first \"mean center\" the data:\n",
    "\n",
    "$$X_{centered} = X - \\bar{X} = [-3, -2, -1, 0, 0, 6]$$\n",
    "\n",
    "Now, we'll simply find the average squared distance of each point from the mean:\n",
    "\n",
    "$$variance = \\frac {\\sum{(x_i - \\bar{X})^2}} {n-1} = \\frac {(-3)^2 + (-2)^2 + (-1)^2 + 0^2 + 0^2 + 6^2}{6-1} = \\frac{14 + 36}{5} = 10$$\n",
    "\n",
    "So, the **variance of $X$** is $10$. However, we cannot compare this directly to the original units, because it is in the original units squared. So, we will use the **standard deviation of $X$**, $\\sqrt{10} \\approx 3.16$ to see that the value of $10$ is farther than one standard deviation from the mean of $4$. So, we can conclude it is somewhat far from most of the points (more on what it really might mean later).\n",
    "\n",
    "---\n",
    "\n",
    "A variance of $0$ means there is no spread. If we instead take $X = [1, 1, 1, 1]$, then clearly the mean $\\bar{X} = 1$. So, $X_{centered} = [0, 0, 0, 0]$, which directly leads to a variance of $0$. (Make sure you understand why! Remember that variance is the average squared distance of each point from the mean.)"
   ]
  },
  {
   "cell_type": "code",
   "execution_count": 56,
   "metadata": {},
   "outputs": [],
   "source": [
    "heights = np.random.rand(200) + 6.5"
   ]
  },
  {
   "cell_type": "code",
   "execution_count": 57,
   "metadata": {},
   "outputs": [],
   "source": [
    "def plot_means(sample_size):\n",
    "    true_mean = np.mean(heights)\n",
    "    \n",
    "    mean_heights = []\n",
    "    for n in range(5,sample_size):\n",
    "        for j in range(30):\n",
    "            mean_height = np.mean(np.random.choice(heights, n, replace=False))\n",
    "            mean_heights.append((n, mean_height))\n",
    "    \n",
    "    sample_height = pd.DataFrame(mean_heights, columns=['sample_size', 'height'])\n",
    "    sample_height.plot.scatter(x='sample_size', y='height', figsize=(14, 4), alpha=0.5)\n",
    "    \n",
    "    plt.axhline(y=true_mean, c='r')\n",
    "    plt.title(\"The Bias and Variance of the Mean Estimator\")\n",
    "    plt.show()"
   ]
  },
  {
   "cell_type": "code",
   "execution_count": 58,
   "metadata": {},
   "outputs": [],
   "source": [
    "def plot_variances(sample_size):\n",
    "    true_variance = np.var(heights)\n",
    "    \n",
    "    var_heights = []\n",
    "    for n in range(5,sample_size):\n",
    "        for j in range(30):\n",
    "            var_height1 = np.var(np.random.choice(heights, n, replace=False), ddof=0)\n",
    "            var_height2 = np.var(np.random.choice(heights, n, replace=False), ddof=1)\n",
    "            var_height3 = np.var(np.random.choice(heights, n, replace=False), ddof=-1)\n",
    "            var_heights.append((n, var_height1, var_height2, var_height3))\n",
    "    \n",
    "    sample_var = pd.DataFrame(var_heights, columns=['sample_size', 'variance1', 'variance2', 'variance3'])\n",
    "    sample_var.plot.scatter(x='sample_size', y='variance1', figsize=(14, 3), alpha=0.5)\n",
    "    plt.axhline(y=true_variance, c='r')\n",
    "    plt.title(\"The Bias and Variance of the Population Variance Estimator (n)\")\n",
    "    \n",
    "    sample_var.plot.scatter(x='sample_size', y='variance3', figsize=(14, 3), alpha=0.5)\n",
    "    plt.axhline(y=true_variance, c='r')\n",
    "    plt.title(\"The Bias and Variance of the Biased Sample Variance Estimator (n+1)\")\n",
    "    \n",
    "    sample_var.plot.scatter(x='sample_size', y='variance2', figsize=(14, 3), alpha=0.5)\n",
    "    plt.axhline(y=true_variance, c='r')\n",
    "    plt.title(\"The Bias and Variance of the Sample Variance Estimator (n-1)\")\n",
    "    plt.show()"
   ]
  },
  {
   "cell_type": "code",
   "execution_count": 60,
   "metadata": {},
   "outputs": [
    {
     "data": {
      "application/vnd.jupyter.widget-view+json": {
       "model_id": "073f6690d82743afb0ed3e9af6ec3419",
       "version_major": 2,
       "version_minor": 0
      },
      "text/plain": [
       "interactive(children=(IntSlider(value=102, description='sample_size', max=200, min=5), Output()), _dom_classes…"
      ]
     },
     "metadata": {},
     "output_type": "display_data"
    }
   ],
   "source": [
    "interact(plot_means, sample_size=(5,200));"
   ]
  },
  {
   "cell_type": "markdown",
   "metadata": {},
   "source": [
    "- The red line in the chart above is the true average height, but because we don't want to ask 200 people about their height, we take a samples.\n",
    "\n",
    "- The blue dots show the estimate of the average height after taking a sample. To give us an idea of how sampling works, we simulate taking multiple samples.\n",
    "\n",
    "- The $X$ axis shows the sample size we take, while the blue dots show the likely average heights we'll conclude for a given sample size.\n",
    "\n",
    "- Even though the true average height is around 7 feet, a small sample may lead us to think that it's actually 6.7 or 7.3 feet. \n",
    "\n",
    "- Notice that the red line is in the center of our estimates. On average, we are correct and have no bias.\n",
    "\n",
    "- If we take a larger sample size, we get a better estimate. This means that the variance of our estimate gets smaller with larger samples sizes."
   ]
  },
  {
   "cell_type": "code",
   "execution_count": 61,
   "metadata": {},
   "outputs": [
    {
     "data": {
      "application/vnd.jupyter.widget-view+json": {
       "model_id": "960b8c3dda164f62b5e4f23a5e5b5695",
       "version_major": 2,
       "version_minor": 0
      },
      "text/plain": [
       "interactive(children=(IntSlider(value=102, description='sample_size', max=200, min=5), Output()), _dom_classes…"
      ]
     },
     "metadata": {},
     "output_type": "display_data"
    }
   ],
   "source": [
    "interact(plot_variances, sample_size=(5,200));"
   ]
  },
  {
   "cell_type": "markdown",
   "metadata": {},
   "source": [
    "- Not all estimators are created equal.\n",
    "\n",
    "- The red lines in the charts above show the true variance of height.\n",
    "\n",
    "- The top graph is the population variance estimator, while the bottom graph is the sample variance estimator.\n",
    "\n",
    "- It's subtle, but notice that the population variance estimator is not centered on the red line. It's actually biased and consistently underestimates the true variance, especially at low sample sizes.\n",
    "\n",
    "- You may also notice that the scatter of the population variance estimator is smaller. That means the variance of the population variance estimator is smaller. Essentially, it's the variability of the estimator. \n",
    "\n",
    "- Play around with the sliders to get a good view of the graphs."
   ]
  },
  {
   "cell_type": "markdown",
   "metadata": {},
   "source": [
    "<a id=\"correlation-and-association\"></a>\n",
    "## Correlation and Association\n",
    "---\n",
    "\n",
    "- **Objective:** Describe characteristics and trends in a data set using visualizations.\n",
    "\n",
    "Correlation measures how variables related to each other.\n",
    "\n",
    "There are many different measures of correlation. Often we talk about the Pearson correlation coefficient — a measure of **linear** association.\n",
    "\n",
    "We refer to perfect correlation as **colinearity**.\n",
    "\n",
    "The following are a few correlation coefficients. Note that if both variables trend upward, the coefficient is positive. If one trends opposite the other, it is negative. \n",
    "\n",
    "It is important that you always look at your data visually — the coefficient by itself can be misleading:"
   ]
  },
  {
   "cell_type": "markdown",
   "metadata": {},
   "source": [
    "![Example correlation values](./assets/images/correlation_examples.png)"
   ]
  },
  {
   "cell_type": "markdown",
   "metadata": {},
   "source": [
    "<a id=\"codealong-correlation-in-pandas\"></a>\n",
    "### Code-Along: Correlation in Pandas\n",
    "\n",
    "**Objective:** Explore options for measuring and visualizing correlation in Pandas."
   ]
  },
  {
   "cell_type": "markdown",
   "metadata": {},
   "source": [
    "#### Display the correlation matrix for all Titanic variables:"
   ]
  },
  {
   "cell_type": "code",
   "execution_count": 62,
   "metadata": {},
   "outputs": [
    {
     "data": {
      "text/html": [
       "<div>\n",
       "<style scoped>\n",
       "    .dataframe tbody tr th:only-of-type {\n",
       "        vertical-align: middle;\n",
       "    }\n",
       "\n",
       "    .dataframe tbody tr th {\n",
       "        vertical-align: top;\n",
       "    }\n",
       "\n",
       "    .dataframe thead th {\n",
       "        text-align: right;\n",
       "    }\n",
       "</style>\n",
       "<table border=\"1\" class=\"dataframe\">\n",
       "  <thead>\n",
       "    <tr style=\"text-align: right;\">\n",
       "      <th></th>\n",
       "      <th>survived</th>\n",
       "      <th>pclass</th>\n",
       "      <th>age</th>\n",
       "      <th>sibsp</th>\n",
       "      <th>parch</th>\n",
       "      <th>fare</th>\n",
       "    </tr>\n",
       "  </thead>\n",
       "  <tbody>\n",
       "    <tr>\n",
       "      <th>survived</th>\n",
       "      <td>1.000000</td>\n",
       "      <td>-0.338481</td>\n",
       "      <td>-0.077221</td>\n",
       "      <td>-0.035322</td>\n",
       "      <td>0.081629</td>\n",
       "      <td>0.257307</td>\n",
       "    </tr>\n",
       "    <tr>\n",
       "      <th>pclass</th>\n",
       "      <td>-0.338481</td>\n",
       "      <td>1.000000</td>\n",
       "      <td>-0.369226</td>\n",
       "      <td>0.083081</td>\n",
       "      <td>0.018443</td>\n",
       "      <td>-0.549500</td>\n",
       "    </tr>\n",
       "    <tr>\n",
       "      <th>age</th>\n",
       "      <td>-0.077221</td>\n",
       "      <td>-0.369226</td>\n",
       "      <td>1.000000</td>\n",
       "      <td>-0.308247</td>\n",
       "      <td>-0.189119</td>\n",
       "      <td>0.096067</td>\n",
       "    </tr>\n",
       "    <tr>\n",
       "      <th>sibsp</th>\n",
       "      <td>-0.035322</td>\n",
       "      <td>0.083081</td>\n",
       "      <td>-0.308247</td>\n",
       "      <td>1.000000</td>\n",
       "      <td>0.414838</td>\n",
       "      <td>0.159651</td>\n",
       "    </tr>\n",
       "    <tr>\n",
       "      <th>parch</th>\n",
       "      <td>0.081629</td>\n",
       "      <td>0.018443</td>\n",
       "      <td>-0.189119</td>\n",
       "      <td>0.414838</td>\n",
       "      <td>1.000000</td>\n",
       "      <td>0.216225</td>\n",
       "    </tr>\n",
       "    <tr>\n",
       "      <th>fare</th>\n",
       "      <td>0.257307</td>\n",
       "      <td>-0.549500</td>\n",
       "      <td>0.096067</td>\n",
       "      <td>0.159651</td>\n",
       "      <td>0.216225</td>\n",
       "      <td>1.000000</td>\n",
       "    </tr>\n",
       "  </tbody>\n",
       "</table>\n",
       "</div>"
      ],
      "text/plain": [
       "          survived    pclass       age     sibsp     parch      fare\n",
       "survived  1.000000 -0.338481 -0.077221 -0.035322  0.081629  0.257307\n",
       "pclass   -0.338481  1.000000 -0.369226  0.083081  0.018443 -0.549500\n",
       "age      -0.077221 -0.369226  1.000000 -0.308247 -0.189119  0.096067\n",
       "sibsp    -0.035322  0.083081 -0.308247  1.000000  0.414838  0.159651\n",
       "parch     0.081629  0.018443 -0.189119  0.414838  1.000000  0.216225\n",
       "fare      0.257307 -0.549500  0.096067  0.159651  0.216225  1.000000"
      ]
     },
     "execution_count": 62,
     "metadata": {},
     "output_type": "execute_result"
    }
   ],
   "source": [
    "# A:\n",
    "titanic.corr()"
   ]
  },
  {
   "cell_type": "markdown",
   "metadata": {},
   "source": [
    "#### Use Seaborn to plot a heat map of the correlation matrix:\n",
    "\n",
    "The `sns.heatmap()` function will accomplish this.\n",
    "\n",
    "- Generate a correlation matrix from the Titanic data using the `.corr()` method.\n",
    "- Pass the correlation matrix into `sns.heatmap()` as its only parameter."
   ]
  },
  {
   "cell_type": "code",
   "execution_count": 65,
   "metadata": {},
   "outputs": [
    {
     "data": {
      "text/plain": [
       "<matplotlib.axes._subplots.AxesSubplot at 0x24b1e18fc18>"
      ]
     },
     "execution_count": 65,
     "metadata": {},
     "output_type": "execute_result"
    },
    {
     "data": {
      "image/png": "[encoded data removed]",
      "text/plain": [
       "<Figure size 432x288 with 2 Axes>"
      ]
     },
     "metadata": {
      "needs_background": "light"
     },
     "output_type": "display_data"
    }
   ],
   "source": [
    "# Use Seaborn to plot a correlation heat map\n",
    "sns.heatmap(titanic.corr(), annot=True, cmap=\"RdBu\")"
   ]
  },
  {
   "cell_type": "code",
   "execution_count": 70,
   "metadata": {},
   "outputs": [
    {
     "data": {
      "text/html": [
       "<div>\n",
       "<style scoped>\n",
       "    .dataframe tbody tr th:only-of-type {\n",
       "        vertical-align: middle;\n",
       "    }\n",
       "\n",
       "    .dataframe tbody tr th {\n",
       "        vertical-align: top;\n",
       "    }\n",
       "\n",
       "    .dataframe thead th {\n",
       "        text-align: right;\n",
       "    }\n",
       "</style>\n",
       "<table border=\"1\" class=\"dataframe\">\n",
       "  <thead>\n",
       "    <tr style=\"text-align: right;\">\n",
       "      <th></th>\n",
       "      <th>units</th>\n",
       "      <th>squares</th>\n",
       "      <th>doubles</th>\n",
       "      <th>noisy</th>\n",
       "    </tr>\n",
       "  </thead>\n",
       "  <tbody>\n",
       "    <tr>\n",
       "      <th>units</th>\n",
       "      <td>1.000000</td>\n",
       "      <td>0.966203</td>\n",
       "      <td>1.000000</td>\n",
       "      <td>-0.746652</td>\n",
       "    </tr>\n",
       "    <tr>\n",
       "      <th>squares</th>\n",
       "      <td>0.966203</td>\n",
       "      <td>1.000000</td>\n",
       "      <td>0.966203</td>\n",
       "      <td>-0.881068</td>\n",
       "    </tr>\n",
       "    <tr>\n",
       "      <th>doubles</th>\n",
       "      <td>1.000000</td>\n",
       "      <td>0.966203</td>\n",
       "      <td>1.000000</td>\n",
       "      <td>-0.746652</td>\n",
       "    </tr>\n",
       "    <tr>\n",
       "      <th>noisy</th>\n",
       "      <td>-0.746652</td>\n",
       "      <td>-0.881068</td>\n",
       "      <td>-0.746652</td>\n",
       "      <td>1.000000</td>\n",
       "    </tr>\n",
       "  </tbody>\n",
       "</table>\n",
       "</div>"
      ],
      "text/plain": [
       "            units   squares   doubles     noisy\n",
       "units    1.000000  0.966203  1.000000 -0.746652\n",
       "squares  0.966203  1.000000  0.966203 -0.881068\n",
       "doubles  1.000000  0.966203  1.000000 -0.746652\n",
       "noisy   -0.746652 -0.881068 -0.746652  1.000000"
      ]
     },
     "execution_count": 70,
     "metadata": {},
     "output_type": "execute_result"
    }
   ],
   "source": [
    "df = pd.DataFrame({\n",
    "    'units': pd.Series([1,2,3,4,5,6,10]),\n",
    "    'squares': pd.Series([1,4,9,16,25,36,100]),\n",
    "    'doubles': pd.Series([2,4,6,8,10,12,20]),\n",
    "    'noisy': pd.Series([0,1,0,1,5,7,-50])\n",
    "})\n",
    "df.corr()"
   ]
  },
  {
   "cell_type": "code",
   "execution_count": 72,
   "metadata": {},
   "outputs": [
    {
     "data": {
      "text/plain": [
       "0     0\n",
       "1     1\n",
       "2     0\n",
       "3     1\n",
       "4     5\n",
       "5     7\n",
       "6   -50\n",
       "Name: noisy, dtype: int64"
      ]
     },
     "execution_count": 72,
     "metadata": {},
     "output_type": "execute_result"
    }
   ],
   "source": [
    "df.noisy"
   ]
  },
  {
   "cell_type": "code",
   "execution_count": 73,
   "metadata": {},
   "outputs": [
    {
     "data": {
      "text/plain": [
       "0    2.5\n",
       "1    4.5\n",
       "2    2.5\n",
       "3    4.5\n",
       "4    6.0\n",
       "5    7.0\n",
       "6    1.0\n",
       "Name: noisy, dtype: float64"
      ]
     },
     "execution_count": 73,
     "metadata": {},
     "output_type": "execute_result"
    }
   ],
   "source": [
    "df.noisy.rank()"
   ]
  },
  {
   "cell_type": "code",
   "execution_count": 74,
   "metadata": {},
   "outputs": [
    {
     "data": {
      "text/plain": [
       "0    1.0\n",
       "1    2.0\n",
       "2    3.0\n",
       "3    4.0\n",
       "4    5.0\n",
       "5    6.0\n",
       "6    7.0\n",
       "Name: squares, dtype: float64"
      ]
     },
     "execution_count": 74,
     "metadata": {},
     "output_type": "execute_result"
    }
   ],
   "source": [
    "df.squares.rank()"
   ]
  },
  {
   "cell_type": "code",
   "execution_count": 71,
   "metadata": {},
   "outputs": [
    {
     "data": {
      "text/plain": [
       "<seaborn.axisgrid.PairGrid at 0x24b20e0cd30>"
      ]
     },
     "execution_count": 71,
     "metadata": {},
     "output_type": "execute_result"
    },
    {
     "data": {
      "image/png": "[encoded data removed]",
      "text/plain": [
       "<Figure size 720x720 with 20 Axes>"
      ]
     },
     "metadata": {
      "needs_background": "light"
     },
     "output_type": "display_data"
    }
   ],
   "source": [
    "sns.pairplot(df)"
   ]
  },
  {
   "cell_type": "code",
   "execution_count": 76,
   "metadata": {},
   "outputs": [
    {
     "data": {
      "text/plain": [
       "<matplotlib.axes._subplots.AxesSubplot at 0x24b216b9cf8>"
      ]
     },
     "execution_count": 76,
     "metadata": {},
     "output_type": "execute_result"
    },
    {
     "data": {
      "image/png": "[encoded data removed]",
      "text/plain": [
       "<Figure size 432x288 with 2 Axes>"
      ]
     },
     "metadata": {
      "needs_background": "light"
     },
     "output_type": "display_data"
    }
   ],
   "source": [
    "mask = np.triu(np.ones_like(df.corr('spearman'), dtype=np.bool))\n",
    "sns.heatmap(df.corr('spearman'), annot=True, linewidths=0.5, mask=mask)"
   ]
  },
  {
   "cell_type": "code",
   "execution_count": 77,
   "metadata": {},
   "outputs": [
    {
     "data": {
      "text/plain": [
       "<matplotlib.axes._subplots.AxesSubplot at 0x24b217a3cf8>"
      ]
     },
     "execution_count": 77,
     "metadata": {},
     "output_type": "execute_result"
    },
    {
     "data": {
      "image/png": "[encoded data removed]",
      "text/plain": [
       "<Figure size 432x288 with 2 Axes>"
      ]
     },
     "metadata": {
      "needs_background": "light"
     },
     "output_type": "display_data"
    }
   ],
   "source": [
    "sns.heatmap(df.corr('spearman'), annot=True)"
   ]
  },
  {
   "cell_type": "code",
   "execution_count": 78,
   "metadata": {},
   "outputs": [
    {
     "data": {
      "text/plain": [
       "<matplotlib.axes._subplots.AxesSubplot at 0x24b21b510f0>"
      ]
     },
     "execution_count": 78,
     "metadata": {},
     "output_type": "execute_result"
    },
    {
     "data": {
      "image/png": "[encoded data removed]",
      "text/plain": [
       "<Figure size 432x288 with 2 Axes>"
      ]
     },
     "metadata": {
      "needs_background": "light"
     },
     "output_type": "display_data"
    }
   ],
   "source": [
    "sns.heatmap(df.corr('pearson'), annot=True)"
   ]
  },
  {
   "cell_type": "code",
   "execution_count": 79,
   "metadata": {},
   "outputs": [
    {
     "data": {
      "text/plain": [
       "<matplotlib.axes._subplots.AxesSubplot at 0x24b21bf9d68>"
      ]
     },
     "execution_count": 79,
     "metadata": {},
     "output_type": "execute_result"
    },
    {
     "data": {
      "image/png": "[encoded data removed]",
      "text/plain": [
       "<Figure size 432x288 with 2 Axes>"
      ]
     },
     "metadata": {
      "needs_background": "light"
     },
     "output_type": "display_data"
    }
   ],
   "source": [
    "sns.heatmap(titanic.corr('pearson'), annot=True)"
   ]
  },
  {
   "cell_type": "code",
   "execution_count": 80,
   "metadata": {},
   "outputs": [
    {
     "data": {
      "text/plain": [
       "<matplotlib.axes._subplots.AxesSubplot at 0x24b21c1ac88>"
      ]
     },
     "execution_count": 80,
     "metadata": {},
     "output_type": "execute_result"
    },
    {
     "data": {
      "image/png": "[encoded data removed]",
      "text/plain": [
       "<Figure size 432x288 with 2 Axes>"
      ]
     },
     "metadata": {
      "needs_background": "light"
     },
     "output_type": "display_data"
    }
   ],
   "source": [
    "sns.heatmap(titanic.corr('spearman'), annot=True)"
   ]
  },
  {
   "cell_type": "code",
   "execution_count": 83,
   "metadata": {
    "scrolled": true
   },
   "outputs": [
    {
     "data": {
      "text/plain": [
       "<matplotlib.axes._subplots.AxesSubplot at 0x24b21e29278>"
      ]
     },
     "execution_count": 83,
     "metadata": {},
     "output_type": "execute_result"
    },
    {
     "data": {
      "image/png": "[encoded data removed]",
      "text/plain": [
       "<Figure size 432x288 with 2 Axes>"
      ]
     },
     "metadata": {
      "needs_background": "light"
     },
     "output_type": "display_data"
    }
   ],
   "source": [
    "sns.heatmap(titanic.corr('kendall'), annot=True)"
   ]
  },
  {
   "cell_type": "code",
   "execution_count": 81,
   "metadata": {},
   "outputs": [
    {
     "data": {
      "text/html": [
       "<div>\n",
       "<style scoped>\n",
       "    .dataframe tbody tr th:only-of-type {\n",
       "        vertical-align: middle;\n",
       "    }\n",
       "\n",
       "    .dataframe tbody tr th {\n",
       "        vertical-align: top;\n",
       "    }\n",
       "\n",
       "    .dataframe thead th {\n",
       "        text-align: right;\n",
       "    }\n",
       "</style>\n",
       "<table border=\"1\" class=\"dataframe\">\n",
       "  <thead>\n",
       "    <tr style=\"text-align: right;\">\n",
       "      <th></th>\n",
       "      <th>units</th>\n",
       "      <th>squares</th>\n",
       "      <th>doubles</th>\n",
       "      <th>noisy</th>\n",
       "    </tr>\n",
       "  </thead>\n",
       "  <tbody>\n",
       "    <tr>\n",
       "      <th>units</th>\n",
       "      <td>1.000000</td>\n",
       "      <td>1.000000</td>\n",
       "      <td>1.000000</td>\n",
       "      <td>0.250313</td>\n",
       "    </tr>\n",
       "    <tr>\n",
       "      <th>squares</th>\n",
       "      <td>1.000000</td>\n",
       "      <td>1.000000</td>\n",
       "      <td>1.000000</td>\n",
       "      <td>0.250313</td>\n",
       "    </tr>\n",
       "    <tr>\n",
       "      <th>doubles</th>\n",
       "      <td>1.000000</td>\n",
       "      <td>1.000000</td>\n",
       "      <td>1.000000</td>\n",
       "      <td>0.250313</td>\n",
       "    </tr>\n",
       "    <tr>\n",
       "      <th>noisy</th>\n",
       "      <td>0.250313</td>\n",
       "      <td>0.250313</td>\n",
       "      <td>0.250313</td>\n",
       "      <td>1.000000</td>\n",
       "    </tr>\n",
       "  </tbody>\n",
       "</table>\n",
       "</div>"
      ],
      "text/plain": [
       "            units   squares   doubles     noisy\n",
       "units    1.000000  1.000000  1.000000  0.250313\n",
       "squares  1.000000  1.000000  1.000000  0.250313\n",
       "doubles  1.000000  1.000000  1.000000  0.250313\n",
       "noisy    0.250313  0.250313  0.250313  1.000000"
      ]
     },
     "execution_count": 81,
     "metadata": {},
     "output_type": "execute_result"
    }
   ],
   "source": [
    "df.corr('kendall')"
   ]
  },
  {
   "cell_type": "code",
   "execution_count": 82,
   "metadata": {},
   "outputs": [
    {
     "data": {
      "text/plain": [
       "<matplotlib.axes._subplots.AxesSubplot at 0x24b21d67748>"
      ]
     },
     "execution_count": 82,
     "metadata": {},
     "output_type": "execute_result"
    },
    {
     "data": {
      "image/png": "[encoded data removed]",
      "text/plain": [
       "<Figure size 432x288 with 1 Axes>"
      ]
     },
     "metadata": {
      "needs_background": "light"
     },
     "output_type": "display_data"
    }
   ],
   "source": [
    "df.plot.scatter(x='units', y='noisy')"
   ]
  },
  {
   "cell_type": "code",
   "execution_count": null,
   "metadata": {},
   "outputs": [],
   "source": []
  },
  {
   "cell_type": "code",
   "execution_count": 49,
   "metadata": {
    "collapsed": true
   },
   "outputs": [],
   "source": [
    "# Take a closer look at the survived and fare variables using a scatter plot\n",
    "\n",
    "# Is correlation a good way to inspect the association of fare and survival?"
   ]
  },
  {
   "cell_type": "markdown",
   "metadata": {},
   "source": [
    "<a id=\"the-normal-distribution\"></a>\n",
    "## The Normal Distribution\n",
    "---\n",
    "\n",
    "- **Objective:** Identify a normal distribution within a data set using summary statistics and data visualizations."
   ]
  },
  {
   "cell_type": "markdown",
   "metadata": {},
   "source": [
    "###  Math Review\n",
    "- What is an event space?\n",
    "  - A listing of all possible occurrences.\n",
    "- What is a probability distribution?\n",
    "  - A function that describes how events occur in an event space.\n",
    "- What are general properties of probability distributions?\n",
    "  - All probabilities of an event are between 0 and 1.\n",
    "  - The probability that something occurs is almost certain, or 1.\n",
    "  "
   ]
  },
  {
   "cell_type": "markdown",
   "metadata": {},
   "source": [
    "<a id=\"what-is-the-normal-distribution\"></a>\n",
    "### What is the Normal Distribution?\n",
    "- A normal distribution is often a key assumption to many models.\n",
    "  - In practice, if the normal distribution assumption is not met, it's not the end of the world. Your model is just less efficient in most cases.\n",
    "\n",
    "- The normal distribution depends on the mean and the standard deviation.\n",
    "\n",
    "- The mean determines the center of the distribution. The standard deviation determines the height and width of the distribution.\n",
    "\n",
    "- Normal distributions are symmetric, bell-shaped curves.\n",
    "\n",
    "- When the standard deviation is large, the curve is short and wide.\n",
    "\n",
    "- When the standard deviation is small, the curve is tall and narrow.\n",
    "\n",
    "![normal distribution](assets/images/normal.png)\n"
   ]
  },
  {
   "cell_type": "markdown",
   "metadata": {},
   "source": [
    "#### Why do we care about normal distributions?\n",
    "\n",
    "- They often show up in nature.\n",
    "- Aggregated processes tend to distribute normally, regardless of their underlying distribution — provided that the processes are uncorrelated or weakly correlated (central limit theorem).\n",
    "- They offer effective simplification that makes it easy to make approximations."
   ]
  },
  {
   "cell_type": "markdown",
   "metadata": {},
   "source": [
    "#### Plot a histogram of 1,000 samples from a random normal distribution:\n",
    "\n",
    "The `np.random.randn(numsamples)` function will draw from a random normal distribution with a mean of 0 and a standard deviation of 1.\n",
    "\n",
    "- To plot a histogram, pass a NumPy array with 1000 samples as the only parameter to `plt.hist()`.\n",
    "- Change the number of bins using the keyword argument `bins`, e.g. `plt.hist(mydata, bins=50)`"
   ]
  },
  {
   "cell_type": "code",
   "execution_count": 85,
   "metadata": {},
   "outputs": [
    {
     "data": {
      "text/plain": [
       "<matplotlib.axes._subplots.AxesSubplot at 0x24b21f8f780>"
      ]
     },
     "execution_count": 85,
     "metadata": {},
     "output_type": "execute_result"
    },
    {
     "data": {
      "image/png": "[encoded data removed]",
      "text/plain": [
       "<Figure size 432x288 with 1 Axes>"
      ]
     },
     "metadata": {
      "needs_background": "light"
     },
     "output_type": "display_data"
    }
   ],
   "source": [
    "# Plot a histogram of several random normal samples from NumPy.\n",
    "thousand_samples = pd.Series(np.random.randn(1000))\n",
    "thousand_samples.plot.hist(bins=50)\n"
   ]
  },
  {
   "cell_type": "markdown",
   "metadata": {},
   "source": [
    "<a id=\"skewness\"></a>\n",
    "###  Skewness\n",
    "- Skewness is a measure of the asymmetry of the distribution of a random variable about its mean.\n",
    "- Skewness can be positive or negative, or even undefined.\n",
    "- Notice that the mean, median, and mode are the same when there is no skew.\n",
    "\n",
    "![skewness](assets/images/skewness---mean-median-mode.jpg)"
   ]
  },
  {
   "cell_type": "markdown",
   "metadata": {},
   "source": [
    "#### Plot a lognormal distribution generated with NumPy.\n",
    "\n",
    "Take 1,000 samples using `np.random.lognormal(size=numsamples)` and plot them on a histogram."
   ]
  },
  {
   "cell_type": "code",
   "execution_count": 86,
   "metadata": {},
   "outputs": [
    {
     "data": {
      "text/plain": [
       "-0.1611197498921821"
      ]
     },
     "execution_count": 86,
     "metadata": {},
     "output_type": "execute_result"
    }
   ],
   "source": [
    "thousand_samples.skew()"
   ]
  },
  {
   "cell_type": "code",
   "execution_count": 90,
   "metadata": {},
   "outputs": [
    {
     "data": {
      "text/plain": [
       "<matplotlib.axes._subplots.AxesSubplot at 0x24b22301828>"
      ]
     },
     "execution_count": 90,
     "metadata": {},
     "output_type": "execute_result"
    },
    {
     "data": {
      "image/png": "[encoded data removed]",
      "text/plain": [
       "<Figure size 432x288 with 1 Axes>"
      ]
     },
     "metadata": {
      "needs_background": "light"
     },
     "output_type": "display_data"
    }
   ],
   "source": [
    "# Plot a lognormal distribution generated with NumPy\n",
    "import math\n",
    "lognormal = pd.Series(np.random.randn(1000)).map(math.exp)\n",
    "lognormal.plot.hist(bins=50)"
   ]
  },
  {
   "cell_type": "code",
   "execution_count": 91,
   "metadata": {},
   "outputs": [
    {
     "data": {
      "text/plain": [
       "3.641995790920993"
      ]
     },
     "execution_count": 91,
     "metadata": {},
     "output_type": "execute_result"
    }
   ],
   "source": [
    "lognormal.skew()"
   ]
  },
  {
   "cell_type": "markdown",
   "metadata": {},
   "source": [
    "#####  Real World Application - When mindfullness beats complexity\n",
    "- Skewness is surprisingly important.\n",
    "- Most algorithms implicitly use the mean by default when making approximations.\n",
    "- If you know your data is heavily skewed, you may have to either transform your data or set your algorithms to work with the median."
   ]
  },
  {
   "cell_type": "markdown",
   "metadata": {},
   "source": [
    "<a id=\"kurtosis\"></a>\n",
    "### Kurtosis\n",
    "- Kurtosis is a measure of whether the data are peaked or flat, relative to a normal distribution.\n",
    "- Data sets with high kurtosis tend to have a distinct peak near the mean, decline rather rapidly, and have heavy tails. \n",
    "\n",
    "![kurtosis](assets/images/kurtosis.jpg)"
   ]
  },
  {
   "cell_type": "markdown",
   "metadata": {},
   "source": [
    "####  Real-World Application: Risk Analysis\n",
    "- Long-tailed distributions with high kurtosis elude intuition; we naturally think the event is too improbable to pay attention to.\n",
    "- It's often the case that there is a large cost associated with a low-probability event, as is the case with hurricane damage.\n",
    "- It's unlikely you will get hit by a Category 5 hurricane, but when you do, the damage will be catastrophic.\n",
    "- Pay attention to what happens at the tails and whether this influences the problem at hand.\n",
    "- In these cases, understanding the costs may be more important than understanding the risks."
   ]
  },
  {
   "cell_type": "markdown",
   "metadata": {},
   "source": [
    "<a id=\"determining-the-distribution-of-your-data\"></a>\n",
    "## Determining the Distribution of Your Data\n",
    "---\n",
    "\n",
    "**Objective:** Create basic data visualizations, including scatterplots, box plots, and histograms."
   ]
  },
  {
   "cell_type": "markdown",
   "metadata": {},
   "source": [
    "![](./assets/images/distributions.png)"
   ]
  },
  {
   "cell_type": "markdown",
   "metadata": {},
   "source": [
    "#### Use the `.hist()` function of your Titantic DataFrame to plot histograms of all the variables in your data.\n",
    "\n",
    "- The function `plt.hist(data)` calls the Matplotlib library directly.\n",
    "- However, each DataFrame has its own `hist()` method that by default plots one histogram per column. \n",
    "- Given a DataFrame `my_df`, it can be called like this: `my_df.hist()`. "
   ]
  },
  {
   "cell_type": "code",
   "execution_count": 52,
   "metadata": {
    "collapsed": true
   },
   "outputs": [],
   "source": [
    "# Plot all variables in the Titanic data set using histograms:"
   ]
  },
  {
   "cell_type": "markdown",
   "metadata": {},
   "source": [
    "#### Use the built-in `.plot.box()` function of your Titanic DataFrame to plot box plots of your variables.\n",
    "\n",
    "- Given a DataFrame, a box plot can be made where each column is one tick on the x axis.\n",
    "- To do this, it can be called like this: `my_df.plot.box()`.\n",
    "- Try using the keyword argument `showfliers`, e.g. `showfliers=False`."
   ]
  },
  {
   "cell_type": "code",
   "execution_count": 53,
   "metadata": {
    "collapsed": true
   },
   "outputs": [],
   "source": [
    "# Plotting all histograms can be unweildly; box plots can be more concise:"
   ]
  },
  {
   "cell_type": "markdown",
   "metadata": {},
   "source": [
    "#### Use the `fitter` library\n",
    "\n",
    "- install it if you have not used it before\n",
    "- initialize it with data\n",
    "- let it run\n",
    "- while it is running, think about what the distribution might look like\n",
    "- look at the top distributions and see if something seems to match\n",
    "\n",
    "Remember that the fitter library tells you what distribution fits your data well -- it \n",
    "doesn't tell you what the underlying distribution actually is."
   ]
  },
  {
   "cell_type": "code",
   "execution_count": 93,
   "metadata": {},
   "outputs": [
    {
     "name": "stdout",
     "output_type": "stream",
     "text": [
      "Collecting fitter\n",
      "  Downloading https://files.pythonhosted.org/packages/c3/9c/d4ffbc1e34a7bea4a8fcb66204060220fe33654c8722baaac0ff546d3c56/fitter-1.2.0.tar.gz\n",
      "Requirement already satisfied: numpy in d:\\users\\gregb\\appdata\\local\\continuum\\anaconda3\\lib\\site-packages (from fitter) (1.16.4)\n",
      "Requirement already satisfied: matplotlib in d:\\users\\gregb\\appdata\\local\\continuum\\anaconda3\\lib\\site-packages (from fitter) (3.1.0)\n",
      "Requirement already satisfied: scipy>=0.18 in d:\\users\\gregb\\appdata\\local\\continuum\\anaconda3\\lib\\site-packages (from fitter) (1.2.1)\n",
      "Requirement already satisfied: pandas in d:\\users\\gregb\\appdata\\local\\continuum\\anaconda3\\lib\\site-packages (from fitter) (0.24.2)\n",
      "Requirement already satisfied: cycler>=0.10 in d:\\users\\gregb\\appdata\\local\\continuum\\anaconda3\\lib\\site-packages (from matplotlib->fitter) (0.10.0)\n",
      "Requirement already satisfied: kiwisolver>=1.0.1 in d:\\users\\gregb\\appdata\\local\\continuum\\anaconda3\\lib\\site-packages (from matplotlib->fitter) (1.1.0)\n",
      "Requirement already satisfied: pyparsing!=2.0.4,!=2.1.2,!=2.1.6,>=2.0.1 in d:\\users\\gregb\\appdata\\local\\continuum\\anaconda3\\lib\\site-packages (from matplotlib->fitter) (2.4.0)\n",
      "Requirement already satisfied: python-dateutil>=2.1 in d:\\users\\gregb\\appdata\\local\\continuum\\anaconda3\\lib\\site-packages (from matplotlib->fitter) (2.8.0)\n",
      "Requirement already satisfied: pytz>=2011k in d:\\users\\gregb\\appdata\\local\\continuum\\anaconda3\\lib\\site-packages (from pandas->fitter) (2019.1)\n",
      "Requirement already satisfied: six in d:\\users\\gregb\\appdata\\local\\continuum\\anaconda3\\lib\\site-packages (from cycler>=0.10->matplotlib->fitter) (1.12.0)\n",
      "Requirement already satisfied: setuptools in d:\\users\\gregb\\appdata\\local\\continuum\\anaconda3\\lib\\site-packages (from kiwisolver>=1.0.1->matplotlib->fitter) (41.0.1)\n",
      "Building wheels for collected packages: fitter\n",
      "  Building wheel for fitter (setup.py): started\n",
      "  Building wheel for fitter (setup.py): finished with status 'done'\n",
      "  Stored in directory: D:\\Users\\gregb\\AppData\\Local\\pip\\Cache\\wheels\\c0\\79\\13\\e3ef2394bbbfb8a36f0867726cf9f60b153c2982d3fa9afcfb\n",
      "Successfully built fitter\n",
      "Installing collected packages: fitter\n",
      "Successfully installed fitter-1.2.0\n"
     ]
    }
   ],
   "source": [
    "!pip install fitter"
   ]
  },
  {
   "cell_type": "code",
   "execution_count": 94,
   "metadata": {},
   "outputs": [
    {
     "name": "stderr",
     "output_type": "stream",
     "text": [
      "D:\\Users\\gregb\\AppData\\Local\\Continuum\\anaconda3\\lib\\site-packages\\scipy\\stats\\_distn_infrastructure.py:2316: RuntimeWarning: invalid value encountered in double_scalars\n",
      "  Lhat = muhat - Shat*mu\n",
      "D:\\Users\\gregb\\AppData\\Local\\Continuum\\anaconda3\\lib\\site-packages\\scipy\\stats\\_continuous_distns.py:390: RuntimeWarning: divide by zero encountered in true_divide\n",
      "  return 1.0/np.pi/np.sqrt(x*(1-x))\n"
     ]
    },
    {
     "name": "stdout",
     "output_type": "stream",
     "text": [
      "Fitted alpha distribution with error=0.9512474824215099)\n",
      "Fitted anglit distribution with error=1.6326819701556152)\n",
      "Fitted arcsine distribution with error=1.57733443647143)\n"
     ]
    },
    {
     "name": "stderr",
     "output_type": "stream",
     "text": [
      "D:\\Users\\gregb\\AppData\\Local\\Continuum\\anaconda3\\lib\\site-packages\\scipy\\stats\\_continuous_distns.py:7115: RuntimeWarning: divide by zero encountered in double_scalars\n",
      "  return chi**3 / (_norm_pdf_C * _argus_phi(chi)) * x * np.sqrt(y) * np.exp(-chi**2 * y / 2)\n",
      "D:\\Users\\gregb\\AppData\\Local\\Continuum\\anaconda3\\lib\\site-packages\\scipy\\stats\\_continuous_distns.py:515: RuntimeWarning: invalid value encountered in sqrt\n",
      "  sk = 2*(b-a)*np.sqrt(a + b + 1) / (a + b + 2) / np.sqrt(a*b)\n",
      "D:\\Users\\gregb\\AppData\\Local\\Continuum\\anaconda3\\lib\\site-packages\\scipy\\optimize\\minpack.py:162: RuntimeWarning: The iteration is not making good progress, as measured by the \n",
      "  improvement from the last ten iterations.\n",
      "  warnings.warn(msg, RuntimeWarning)\n"
     ]
    },
    {
     "name": "stdout",
     "output_type": "stream",
     "text": [
      "Fitted argus distribution with error=2.0598344637109833)\n",
      "Fitted beta distribution with error=0.14601315014215335)\n"
     ]
    },
    {
     "name": "stderr",
     "output_type": "stream",
     "text": [
      "D:\\Users\\gregb\\AppData\\Local\\Continuum\\anaconda3\\lib\\site-packages\\scipy\\stats\\_continuous_distns.py:667: RuntimeWarning: divide by zero encountered in true_divide\n",
      "  a/(b-1.0),\n",
      "D:\\Users\\gregb\\AppData\\Local\\Continuum\\anaconda3\\lib\\site-packages\\scipy\\stats\\_continuous_distns.py:671: RuntimeWarning: divide by zero encountered in true_divide\n",
      "  a*(a+1.0)/((b-2.0)*(b-1.0)),\n",
      "D:\\Users\\gregb\\AppData\\Local\\Continuum\\anaconda3\\lib\\site-packages\\scipy\\stats\\_distn_infrastructure.py:1035: RuntimeWarning: invalid value encountered in subtract\n",
      "  mu2 = mu2p - mu * mu\n"
     ]
    },
    {
     "name": "stdout",
     "output_type": "stream",
     "text": [
      "Fitted betaprime distribution with error=0.02096711180121258)\n",
      "Fitted bradford distribution with error=0.6280325351885504)\n",
      "Fitted burr distribution with error=0.025587629984960045)\n",
      "Fitted burr12 distribution with error=0.02942032312288256)\n",
      "Fitted cauchy distribution with error=0.3147179783118582)\n",
      "Fitted chi distribution with error=0.3597687367919299)\n",
      "Fitted chi2 distribution with error=0.3027739340306533)\n",
      "Fitted cosine distribution with error=1.5351740883124063)\n",
      "Fitted crystalball distribution with error=1.0007097281155783)\n",
      "Fitted dgamma distribution with error=0.5141986447105154)\n",
      "Fitted dweibull distribution with error=0.48358261880172854)\n"
     ]
    },
    {
     "name": "stderr",
     "output_type": "stream",
     "text": [
      "D:\\Users\\gregb\\AppData\\Local\\Continuum\\anaconda3\\lib\\site-packages\\scipy\\stats\\_continuous_distns.py:2651: RuntimeWarning: The shape parameter of the erlang distribution has been given a non-integer value 0.00025.\n",
      "  RuntimeWarning)\n",
      "D:\\Users\\gregb\\AppData\\Local\\Continuum\\anaconda3\\lib\\site-packages\\scipy\\stats\\_continuous_distns.py:2651: RuntimeWarning: The shape parameter of the erlang distribution has been given a non-integer value 0.00016666666666666666.\n",
      "  RuntimeWarning)\n",
      "D:\\Users\\gregb\\AppData\\Local\\Continuum\\anaconda3\\lib\\site-packages\\scipy\\stats\\_continuous_distns.py:2651: RuntimeWarning: The shape parameter of the erlang distribution has been given a non-integer value 0.0002777777777777778.\n",
      "  RuntimeWarning)\n",
      "D:\\Users\\gregb\\AppData\\Local\\Continuum\\anaconda3\\lib\\site-packages\\scipy\\stats\\_continuous_distns.py:2651: RuntimeWarning: The shape parameter of the erlang distribution has been given a non-integer value 0.00041666666666666664.\n",
      "  RuntimeWarning)\n",
      "D:\\Users\\gregb\\AppData\\Local\\Continuum\\anaconda3\\lib\\site-packages\\scipy\\stats\\_continuous_distns.py:2651: RuntimeWarning: The shape parameter of the erlang distribution has been given a non-integer value 0.0005555555555555556.\n",
      "  RuntimeWarning)\n",
      "D:\\Users\\gregb\\AppData\\Local\\Continuum\\anaconda3\\lib\\site-packages\\scipy\\stats\\_continuous_distns.py:2651: RuntimeWarning: The shape parameter of the erlang distribution has been given a non-integer value 0.0008333333333333333.\n",
      "  RuntimeWarning)\n",
      "D:\\Users\\gregb\\AppData\\Local\\Continuum\\anaconda3\\lib\\site-packages\\scipy\\stats\\_continuous_distns.py:2651: RuntimeWarning: The shape parameter of the erlang distribution has been given a non-integer value 0.0008333333333333332.\n",
      "  RuntimeWarning)\n",
      "D:\\Users\\gregb\\AppData\\Local\\Continuum\\anaconda3\\lib\\site-packages\\scipy\\stats\\_continuous_distns.py:2651: RuntimeWarning: The shape parameter of the erlang distribution has been given a non-integer value 0.0011666666666666663.\n",
      "  RuntimeWarning)\n",
      "D:\\Users\\gregb\\AppData\\Local\\Continuum\\anaconda3\\lib\\site-packages\\scipy\\stats\\_continuous_distns.py:2651: RuntimeWarning: The shape parameter of the erlang distribution has been given a non-integer value 0.001361111111111111.\n",
      "  RuntimeWarning)\n",
      "D:\\Users\\gregb\\AppData\\Local\\Continuum\\anaconda3\\lib\\site-packages\\scipy\\stats\\_continuous_distns.py:2651: RuntimeWarning: The shape parameter of the erlang distribution has been given a non-integer value 0.0018240740740740739.\n",
      "  RuntimeWarning)\n",
      "D:\\Users\\gregb\\AppData\\Local\\Continuum\\anaconda3\\lib\\site-packages\\scipy\\stats\\_continuous_distns.py:2651: RuntimeWarning: The shape parameter of the erlang distribution has been given a non-integer value 0.0025277777777777772.\n",
      "  RuntimeWarning)\n",
      "D:\\Users\\gregb\\AppData\\Local\\Continuum\\anaconda3\\lib\\site-packages\\scipy\\stats\\_continuous_distns.py:2651: RuntimeWarning: The shape parameter of the erlang distribution has been given a non-integer value 0.0025370370370370364.\n",
      "  RuntimeWarning)\n",
      "D:\\Users\\gregb\\AppData\\Local\\Continuum\\anaconda3\\lib\\site-packages\\scipy\\stats\\_continuous_distns.py:2651: RuntimeWarning: The shape parameter of the erlang distribution has been given a non-integer value 0.003388888888888888.\n",
      "  RuntimeWarning)\n",
      "D:\\Users\\gregb\\AppData\\Local\\Continuum\\anaconda3\\lib\\site-packages\\scipy\\stats\\_continuous_distns.py:2651: RuntimeWarning: The shape parameter of the erlang distribution has been given a non-integer value 0.0033611111111111107.\n",
      "  RuntimeWarning)\n",
      "D:\\Users\\gregb\\AppData\\Local\\Continuum\\anaconda3\\lib\\site-packages\\scipy\\stats\\_continuous_distns.py:2651: RuntimeWarning: The shape parameter of the erlang distribution has been given a non-integer value 0.004361111111111111.\n",
      "  RuntimeWarning)\n",
      "D:\\Users\\gregb\\AppData\\Local\\Continuum\\anaconda3\\lib\\site-packages\\scipy\\stats\\_continuous_distns.py:2651: RuntimeWarning: The shape parameter of the erlang distribution has been given a non-integer value 0.005685185185185183.\n",
      "  RuntimeWarning)\n",
      "D:\\Users\\gregb\\AppData\\Local\\Continuum\\anaconda3\\lib\\site-packages\\scipy\\stats\\_continuous_distns.py:2651: RuntimeWarning: The shape parameter of the erlang distribution has been given a non-integer value 0.00642901234567901.\n",
      "  RuntimeWarning)\n",
      "D:\\Users\\gregb\\AppData\\Local\\Continuum\\anaconda3\\lib\\site-packages\\scipy\\stats\\_continuous_distns.py:2651: RuntimeWarning: The shape parameter of the erlang distribution has been given a non-integer value 0.008379629629629627.\n",
      "  RuntimeWarning)\n",
      "D:\\Users\\gregb\\AppData\\Local\\Continuum\\anaconda3\\lib\\site-packages\\scipy\\stats\\_continuous_distns.py:2651: RuntimeWarning: The shape parameter of the erlang distribution has been given a non-integer value 0.00889506172839506.\n",
      "  RuntimeWarning)\n",
      "D:\\Users\\gregb\\AppData\\Local\\Continuum\\anaconda3\\lib\\site-packages\\scipy\\stats\\_continuous_distns.py:2651: RuntimeWarning: The shape parameter of the erlang distribution has been given a non-integer value 0.008738683127572016.\n",
      "  RuntimeWarning)\n",
      "D:\\Users\\gregb\\AppData\\Local\\Continuum\\anaconda3\\lib\\site-packages\\scipy\\stats\\_continuous_distns.py:2651: RuntimeWarning: The shape parameter of the erlang distribution has been given a non-integer value 0.010265432098765433.\n",
      "  RuntimeWarning)\n",
      "D:\\Users\\gregb\\AppData\\Local\\Continuum\\anaconda3\\lib\\site-packages\\scipy\\stats\\_continuous_distns.py:2651: RuntimeWarning: The shape parameter of the erlang distribution has been given a non-integer value 0.013998971193415637.\n",
      "  RuntimeWarning)\n",
      "D:\\Users\\gregb\\AppData\\Local\\Continuum\\anaconda3\\lib\\site-packages\\scipy\\stats\\_continuous_distns.py:2651: RuntimeWarning: The shape parameter of the erlang distribution has been given a non-integer value 0.018817901234567898.\n",
      "  RuntimeWarning)\n",
      "D:\\Users\\gregb\\AppData\\Local\\Continuum\\anaconda3\\lib\\site-packages\\scipy\\stats\\_continuous_distns.py:2651: RuntimeWarning: The shape parameter of the erlang distribution has been given a non-integer value 0.016080246913580246.\n",
      "  RuntimeWarning)\n",
      "D:\\Users\\gregb\\AppData\\Local\\Continuum\\anaconda3\\lib\\site-packages\\scipy\\stats\\_continuous_distns.py:2651: RuntimeWarning: The shape parameter of the erlang distribution has been given a non-integer value 0.019672839506172834.\n",
      "  RuntimeWarning)\n",
      "D:\\Users\\gregb\\AppData\\Local\\Continuum\\anaconda3\\lib\\site-packages\\scipy\\stats\\_continuous_distns.py:2651: RuntimeWarning: The shape parameter of the erlang distribution has been given a non-integer value 0.024124485596707816.\n",
      "  RuntimeWarning)\n",
      "D:\\Users\\gregb\\AppData\\Local\\Continuum\\anaconda3\\lib\\site-packages\\scipy\\stats\\_continuous_distns.py:2651: RuntimeWarning: The shape parameter of the erlang distribution has been given a non-integer value 0.03199691358024691.\n",
      "  RuntimeWarning)\n",
      "D:\\Users\\gregb\\AppData\\Local\\Continuum\\anaconda3\\lib\\site-packages\\scipy\\stats\\_continuous_distns.py:2651: RuntimeWarning: The shape parameter of the erlang distribution has been given a non-integer value 0.03672633744855966.\n",
      "  RuntimeWarning)\n",
      "D:\\Users\\gregb\\AppData\\Local\\Continuum\\anaconda3\\lib\\site-packages\\scipy\\stats\\_continuous_distns.py:2651: RuntimeWarning: The shape parameter of the erlang distribution has been given a non-integer value 0.04011282578875171.\n",
      "  RuntimeWarning)\n",
      "D:\\Users\\gregb\\AppData\\Local\\Continuum\\anaconda3\\lib\\site-packages\\scipy\\stats\\_continuous_distns.py:2651: RuntimeWarning: The shape parameter of the erlang distribution has been given a non-integer value 0.05076028806584361.\n",
      "  RuntimeWarning)\n",
      "D:\\Users\\gregb\\AppData\\Local\\Continuum\\anaconda3\\lib\\site-packages\\scipy\\stats\\_continuous_distns.py:2651: RuntimeWarning: The shape parameter of the erlang distribution has been given a non-integer value 0.05998285322359395.\n",
      "  RuntimeWarning)\n",
      "D:\\Users\\gregb\\AppData\\Local\\Continuum\\anaconda3\\lib\\site-packages\\scipy\\stats\\_continuous_distns.py:2651: RuntimeWarning: The shape parameter of the erlang distribution has been given a non-integer value 0.0801378600823045.\n",
      "  RuntimeWarning)\n",
      "D:\\Users\\gregb\\AppData\\Local\\Continuum\\anaconda3\\lib\\site-packages\\scipy\\stats\\_continuous_distns.py:2651: RuntimeWarning: The shape parameter of the erlang distribution has been given a non-integer value 0.07187037037037035.\n",
      "  RuntimeWarning)\n",
      "D:\\Users\\gregb\\AppData\\Local\\Continuum\\anaconda3\\lib\\site-packages\\scipy\\stats\\_continuous_distns.py:2651: RuntimeWarning: The shape parameter of the erlang distribution has been given a non-integer value 0.0894423868312757.\n",
      "  RuntimeWarning)\n",
      "D:\\Users\\gregb\\AppData\\Local\\Continuum\\anaconda3\\lib\\site-packages\\scipy\\stats\\_continuous_distns.py:2651: RuntimeWarning: The shape parameter of the erlang distribution has been given a non-integer value 0.11489677640603561.\n",
      "  RuntimeWarning)\n",
      "D:\\Users\\gregb\\AppData\\Local\\Continuum\\anaconda3\\lib\\site-packages\\scipy\\stats\\_continuous_distns.py:2651: RuntimeWarning: The shape parameter of the erlang distribution has been given a non-integer value 0.15634670781892998.\n",
      "  RuntimeWarning)\n",
      "D:\\Users\\gregb\\AppData\\Local\\Continuum\\anaconda3\\lib\\site-packages\\scipy\\stats\\_continuous_distns.py:2651: RuntimeWarning: The shape parameter of the erlang distribution has been given a non-integer value 0.16652434842249653.\n",
      "  RuntimeWarning)\n",
      "D:\\Users\\gregb\\AppData\\Local\\Continuum\\anaconda3\\lib\\site-packages\\scipy\\stats\\_continuous_distns.py:2651: RuntimeWarning: The shape parameter of the erlang distribution has been given a non-integer value 0.224406378600823.\n",
      "  RuntimeWarning)\n",
      "D:\\Users\\gregb\\AppData\\Local\\Continuum\\anaconda3\\lib\\site-packages\\scipy\\stats\\_continuous_distns.py:2651: RuntimeWarning: The shape parameter of the erlang distribution has been given a non-integer value 0.2333257887517146.\n",
      "  RuntimeWarning)\n",
      "D:\\Users\\gregb\\AppData\\Local\\Continuum\\anaconda3\\lib\\site-packages\\scipy\\stats\\_continuous_distns.py:2651: RuntimeWarning: The shape parameter of the erlang distribution has been given a non-integer value 0.30991975308641967.\n",
      "  RuntimeWarning)\n",
      "D:\\Users\\gregb\\AppData\\Local\\Continuum\\anaconda3\\lib\\site-packages\\scipy\\stats\\_continuous_distns.py:2651: RuntimeWarning: The shape parameter of the erlang distribution has been given a non-integer value 0.37100617283950604.\n",
      "  RuntimeWarning)\n",
      "D:\\Users\\gregb\\AppData\\Local\\Continuum\\anaconda3\\lib\\site-packages\\scipy\\stats\\_continuous_distns.py:2651: RuntimeWarning: The shape parameter of the erlang distribution has been given a non-integer value 0.5117880658436212.\n",
      "  RuntimeWarning)\n",
      "D:\\Users\\gregb\\AppData\\Local\\Continuum\\anaconda3\\lib\\site-packages\\scipy\\stats\\_continuous_distns.py:2651: RuntimeWarning: The shape parameter of the erlang distribution has been given a non-integer value 0.4472081618655691.\n",
      "  RuntimeWarning)\n",
      "D:\\Users\\gregb\\AppData\\Local\\Continuum\\anaconda3\\lib\\site-packages\\scipy\\stats\\_continuous_distns.py:2651: RuntimeWarning: The shape parameter of the erlang distribution has been given a non-integer value 0.5276830132601734.\n",
      "  RuntimeWarning)\n",
      "D:\\Users\\gregb\\AppData\\Local\\Continuum\\anaconda3\\lib\\site-packages\\scipy\\stats\\_continuous_distns.py:2651: RuntimeWarning: The shape parameter of the erlang distribution has been given a non-integer value 0.45186385459533585.\n",
      "  RuntimeWarning)\n",
      "D:\\Users\\gregb\\AppData\\Local\\Continuum\\anaconda3\\lib\\site-packages\\scipy\\stats\\_continuous_distns.py:2651: RuntimeWarning: The shape parameter of the erlang distribution has been given a non-integer value 0.3002255372656606.\n",
      "  RuntimeWarning)\n",
      "D:\\Users\\gregb\\AppData\\Local\\Continuum\\anaconda3\\lib\\site-packages\\scipy\\stats\\_continuous_distns.py:2651: RuntimeWarning: The shape parameter of the erlang distribution has been given a non-integer value 0.2068928135954884.\n",
      "  RuntimeWarning)\n",
      "D:\\Users\\gregb\\AppData\\Local\\Continuum\\anaconda3\\lib\\site-packages\\scipy\\stats\\_continuous_distns.py:2651: RuntimeWarning: The shape parameter of the erlang distribution has been given a non-integer value 0.38712932479804896.\n",
      "  RuntimeWarning)\n",
      "D:\\Users\\gregb\\AppData\\Local\\Continuum\\anaconda3\\lib\\site-packages\\scipy\\stats\\_continuous_distns.py:2651: RuntimeWarning: The shape parameter of the erlang distribution has been given a non-integer value 0.41181129655032256.\n",
      "  RuntimeWarning)\n",
      "D:\\Users\\gregb\\AppData\\Local\\Continuum\\anaconda3\\lib\\site-packages\\scipy\\stats\\_continuous_distns.py:2651: RuntimeWarning: The shape parameter of the erlang distribution has been given a non-integer value 0.4700447763721654.\n",
      "  RuntimeWarning)\n",
      "D:\\Users\\gregb\\AppData\\Local\\Continuum\\anaconda3\\lib\\site-packages\\scipy\\stats\\_continuous_distns.py:2651: RuntimeWarning: The shape parameter of the erlang distribution has been given a non-integer value 0.34995100890785613.\n",
      "  RuntimeWarning)\n",
      "D:\\Users\\gregb\\AppData\\Local\\Continuum\\anaconda3\\lib\\site-packages\\scipy\\stats\\_continuous_distns.py:2651: RuntimeWarning: The shape parameter of the erlang distribution has been given a non-integer value 0.3269130411466181.\n",
      "  RuntimeWarning)\n",
      "D:\\Users\\gregb\\AppData\\Local\\Continuum\\anaconda3\\lib\\site-packages\\scipy\\stats\\_continuous_distns.py:2651: RuntimeWarning: The shape parameter of the erlang distribution has been given a non-integer value 0.3734146836149259.\n",
      "  RuntimeWarning)\n",
      "D:\\Users\\gregb\\AppData\\Local\\Continuum\\anaconda3\\lib\\site-packages\\scipy\\stats\\_continuous_distns.py:2651: RuntimeWarning: The shape parameter of the erlang distribution has been given a non-integer value 0.3851465209684608.\n",
      "  RuntimeWarning)\n",
      "D:\\Users\\gregb\\AppData\\Local\\Continuum\\anaconda3\\lib\\site-packages\\scipy\\stats\\_continuous_distns.py:2651: RuntimeWarning: The shape parameter of the erlang distribution has been given a non-integer value 0.43527497125739234.\n",
      "  RuntimeWarning)\n",
      "D:\\Users\\gregb\\AppData\\Local\\Continuum\\anaconda3\\lib\\site-packages\\scipy\\stats\\_continuous_distns.py:2651: RuntimeWarning: The shape parameter of the erlang distribution has been given a non-integer value 0.35400352367431165.\n",
      "  RuntimeWarning)\n",
      "D:\\Users\\gregb\\AppData\\Local\\Continuum\\anaconda3\\lib\\site-packages\\scipy\\stats\\_continuous_distns.py:2651: RuntimeWarning: The shape parameter of the erlang distribution has been given a non-integer value 0.3529748201901367.\n",
      "  RuntimeWarning)\n",
      "D:\\Users\\gregb\\AppData\\Local\\Continuum\\anaconda3\\lib\\site-packages\\scipy\\stats\\_continuous_distns.py:2651: RuntimeWarning: The shape parameter of the erlang distribution has been given a non-integer value 0.35707707038243336.\n",
      "  RuntimeWarning)\n",
      "D:\\Users\\gregb\\AppData\\Local\\Continuum\\anaconda3\\lib\\site-packages\\scipy\\stats\\_continuous_distns.py:2651: RuntimeWarning: The shape parameter of the erlang distribution has been given a non-integer value 0.3501125191538971.\n",
      "  RuntimeWarning)\n",
      "D:\\Users\\gregb\\AppData\\Local\\Continuum\\anaconda3\\lib\\site-packages\\scipy\\stats\\_continuous_distns.py:2651: RuntimeWarning: The shape parameter of the erlang distribution has been given a non-integer value 0.3714857165340181.\n",
      "  RuntimeWarning)\n",
      "D:\\Users\\gregb\\AppData\\Local\\Continuum\\anaconda3\\lib\\site-packages\\scipy\\stats\\_continuous_distns.py:2651: RuntimeWarning: The shape parameter of the erlang distribution has been given a non-integer value 0.3802268129638713.\n",
      "  RuntimeWarning)\n",
      "D:\\Users\\gregb\\AppData\\Local\\Continuum\\anaconda3\\lib\\site-packages\\scipy\\stats\\_continuous_distns.py:2651: RuntimeWarning: The shape parameter of the erlang distribution has been given a non-integer value 0.3906824152006828.\n",
      "  RuntimeWarning)\n",
      "D:\\Users\\gregb\\AppData\\Local\\Continuum\\anaconda3\\lib\\site-packages\\scipy\\stats\\_continuous_distns.py:2651: RuntimeWarning: The shape parameter of the erlang distribution has been given a non-integer value 0.40953621270595586.\n",
      "  RuntimeWarning)\n",
      "D:\\Users\\gregb\\AppData\\Local\\Continuum\\anaconda3\\lib\\site-packages\\scipy\\stats\\_continuous_distns.py:2651: RuntimeWarning: The shape parameter of the erlang distribution has been given a non-integer value 0.3747705089140221.\n",
      "  RuntimeWarning)\n",
      "D:\\Users\\gregb\\AppData\\Local\\Continuum\\anaconda3\\lib\\site-packages\\scipy\\stats\\_continuous_distns.py:2651: RuntimeWarning: The shape parameter of the erlang distribution has been given a non-integer value 0.3825525179548511.\n",
      "  RuntimeWarning)\n",
      "D:\\Users\\gregb\\AppData\\Local\\Continuum\\anaconda3\\lib\\site-packages\\scipy\\stats\\_continuous_distns.py:2651: RuntimeWarning: The shape parameter of the erlang distribution has been given a non-integer value 0.4314311765958885.\n",
      "  RuntimeWarning)\n",
      "D:\\Users\\gregb\\AppData\\Local\\Continuum\\anaconda3\\lib\\site-packages\\scipy\\stats\\_continuous_distns.py:2651: RuntimeWarning: The shape parameter of the erlang distribution has been given a non-integer value 0.47209050531688423.\n",
      "  RuntimeWarning)\n",
      "D:\\Users\\gregb\\AppData\\Local\\Continuum\\anaconda3\\lib\\site-packages\\scipy\\stats\\_continuous_distns.py:2651: RuntimeWarning: The shape parameter of the erlang distribution has been given a non-integer value 0.45868316936962317.\n",
      "  RuntimeWarning)\n",
      "D:\\Users\\gregb\\AppData\\Local\\Continuum\\anaconda3\\lib\\site-packages\\scipy\\stats\\_continuous_distns.py:2651: RuntimeWarning: The shape parameter of the erlang distribution has been given a non-integer value 0.5133131119644375.\n",
      "  RuntimeWarning)\n",
      "D:\\Users\\gregb\\AppData\\Local\\Continuum\\anaconda3\\lib\\site-packages\\scipy\\stats\\_continuous_distns.py:2651: RuntimeWarning: The shape parameter of the erlang distribution has been given a non-integer value 0.5798562614647207.\n",
      "  RuntimeWarning)\n",
      "D:\\Users\\gregb\\AppData\\Local\\Continuum\\anaconda3\\lib\\site-packages\\scipy\\stats\\_continuous_distns.py:2651: RuntimeWarning: The shape parameter of the erlang distribution has been given a non-integer value 0.5531883117280073.\n",
      "  RuntimeWarning)\n",
      "D:\\Users\\gregb\\AppData\\Local\\Continuum\\anaconda3\\lib\\site-packages\\scipy\\stats\\_continuous_distns.py:2651: RuntimeWarning: The shape parameter of the erlang distribution has been given a non-integer value 0.5670447833032628.\n",
      "  RuntimeWarning)\n",
      "D:\\Users\\gregb\\AppData\\Local\\Continuum\\anaconda3\\lib\\site-packages\\scipy\\stats\\_continuous_distns.py:2651: RuntimeWarning: The shape parameter of the erlang distribution has been given a non-integer value 0.6212255902700825.\n",
      "  RuntimeWarning)\n",
      "D:\\Users\\gregb\\AppData\\Local\\Continuum\\anaconda3\\lib\\site-packages\\scipy\\stats\\_continuous_distns.py:2651: RuntimeWarning: The shape parameter of the erlang distribution has been given a non-integer value 0.6530608373248006.\n",
      "  RuntimeWarning)\n",
      "D:\\Users\\gregb\\AppData\\Local\\Continuum\\anaconda3\\lib\\site-packages\\scipy\\stats\\_continuous_distns.py:2651: RuntimeWarning: The shape parameter of the erlang distribution has been given a non-integer value 0.638544714644873.\n",
      "  RuntimeWarning)\n",
      "D:\\Users\\gregb\\AppData\\Local\\Continuum\\anaconda3\\lib\\site-packages\\scipy\\stats\\_continuous_distns.py:2651: RuntimeWarning: The shape parameter of the erlang distribution has been given a non-integer value 0.6812229161033059.\n",
      "  RuntimeWarning)\n",
      "D:\\Users\\gregb\\AppData\\Local\\Continuum\\anaconda3\\lib\\site-packages\\scipy\\stats\\_continuous_distns.py:2651: RuntimeWarning: The shape parameter of the erlang distribution has been given a non-integer value 0.528994773928128.\n",
      "  RuntimeWarning)\n",
      "D:\\Users\\gregb\\AppData\\Local\\Continuum\\anaconda3\\lib\\site-packages\\scipy\\stats\\_continuous_distns.py:2651: RuntimeWarning: The shape parameter of the erlang distribution has been given a non-integer value 0.6220443214756324.\n",
      "  RuntimeWarning)\n",
      "D:\\Users\\gregb\\AppData\\Local\\Continuum\\anaconda3\\lib\\site-packages\\scipy\\stats\\_continuous_distns.py:2651: RuntimeWarning: The shape parameter of the erlang distribution has been given a non-integer value 0.7412299722959542.\n",
      "  RuntimeWarning)\n",
      "D:\\Users\\gregb\\AppData\\Local\\Continuum\\anaconda3\\lib\\site-packages\\scipy\\stats\\_continuous_distns.py:2651: RuntimeWarning: The shape parameter of the erlang distribution has been given a non-integer value 0.7133204153408903.\n",
      "  RuntimeWarning)\n",
      "D:\\Users\\gregb\\AppData\\Local\\Continuum\\anaconda3\\lib\\site-packages\\scipy\\stats\\_continuous_distns.py:2651: RuntimeWarning: The shape parameter of the erlang distribution has been given a non-integer value 0.7593678278762943.\n",
      "  RuntimeWarning)\n",
      "D:\\Users\\gregb\\AppData\\Local\\Continuum\\anaconda3\\lib\\site-packages\\scipy\\stats\\_continuous_distns.py:2651: RuntimeWarning: The shape parameter of the erlang distribution has been given a non-integer value 0.5747096620116429.\n",
      "  RuntimeWarning)\n",
      "D:\\Users\\gregb\\AppData\\Local\\Continuum\\anaconda3\\lib\\site-packages\\scipy\\stats\\_continuous_distns.py:2651: RuntimeWarning: The shape parameter of the erlang distribution has been given a non-integer value 0.6995998947248764.\n",
      "  RuntimeWarning)\n",
      "D:\\Users\\gregb\\AppData\\Local\\Continuum\\anaconda3\\lib\\site-packages\\scipy\\stats\\_continuous_distns.py:2651: RuntimeWarning: The shape parameter of the erlang distribution has been given a non-integer value 0.7180983730493932.\n",
      "  RuntimeWarning)\n",
      "D:\\Users\\gregb\\AppData\\Local\\Continuum\\anaconda3\\lib\\site-packages\\scipy\\stats\\_continuous_distns.py:2651: RuntimeWarning: The shape parameter of the erlang distribution has been given a non-integer value 0.798634800601141.\n",
      "  RuntimeWarning)\n",
      "D:\\Users\\gregb\\AppData\\Local\\Continuum\\anaconda3\\lib\\site-packages\\scipy\\stats\\_continuous_distns.py:2651: RuntimeWarning: The shape parameter of the erlang distribution has been given a non-integer value 0.8869300401638953.\n",
      "  RuntimeWarning)\n",
      "D:\\Users\\gregb\\AppData\\Local\\Continuum\\anaconda3\\lib\\site-packages\\scipy\\stats\\_continuous_distns.py:2651: RuntimeWarning: The shape parameter of the erlang distribution has been given a non-integer value 0.7871024979360731.\n",
      "  RuntimeWarning)\n",
      "D:\\Users\\gregb\\AppData\\Local\\Continuum\\anaconda3\\lib\\site-packages\\scipy\\stats\\_continuous_distns.py:2651: RuntimeWarning: The shape parameter of the erlang distribution has been given a non-integer value 0.7214755455276756.\n",
      "  RuntimeWarning)\n",
      "D:\\Users\\gregb\\AppData\\Local\\Continuum\\anaconda3\\lib\\site-packages\\scipy\\stats\\_continuous_distns.py:2651: RuntimeWarning: The shape parameter of the erlang distribution has been given a non-integer value 0.7708554679304115.\n",
      "  RuntimeWarning)\n",
      "D:\\Users\\gregb\\AppData\\Local\\Continuum\\anaconda3\\lib\\site-packages\\scipy\\stats\\_continuous_distns.py:2651: RuntimeWarning: The shape parameter of the erlang distribution has been given a non-integer value 0.7312876467696477.\n",
      "  RuntimeWarning)\n",
      "D:\\Users\\gregb\\AppData\\Local\\Continuum\\anaconda3\\lib\\site-packages\\scipy\\stats\\_continuous_distns.py:2651: RuntimeWarning: The shape parameter of the erlang distribution has been given a non-integer value 0.7740196962801107.\n",
      "  RuntimeWarning)\n",
      "D:\\Users\\gregb\\AppData\\Local\\Continuum\\anaconda3\\lib\\site-packages\\scipy\\stats\\_continuous_distns.py:2651: RuntimeWarning: The shape parameter of the erlang distribution has been given a non-integer value 0.8002917716563283.\n",
      "  RuntimeWarning)\n",
      "D:\\Users\\gregb\\AppData\\Local\\Continuum\\anaconda3\\lib\\site-packages\\scipy\\stats\\_continuous_distns.py:2651: RuntimeWarning: The shape parameter of the erlang distribution has been given a non-integer value 0.8226410137597093.\n",
      "  RuntimeWarning)\n",
      "D:\\Users\\gregb\\AppData\\Local\\Continuum\\anaconda3\\lib\\site-packages\\scipy\\stats\\_continuous_distns.py:2651: RuntimeWarning: The shape parameter of the erlang distribution has been given a non-integer value 0.8773013129691187.\n",
      "  RuntimeWarning)\n",
      "D:\\Users\\gregb\\AppData\\Local\\Continuum\\anaconda3\\lib\\site-packages\\scipy\\stats\\_continuous_distns.py:2651: RuntimeWarning: The shape parameter of the erlang distribution has been given a non-integer value 0.9020162264639325.\n",
      "  RuntimeWarning)\n",
      "D:\\Users\\gregb\\AppData\\Local\\Continuum\\anaconda3\\lib\\site-packages\\scipy\\stats\\_continuous_distns.py:2651: RuntimeWarning: The shape parameter of the erlang distribution has been given a non-integer value 0.9035900232076335.\n",
      "  RuntimeWarning)\n",
      "D:\\Users\\gregb\\AppData\\Local\\Continuum\\anaconda3\\lib\\site-packages\\scipy\\stats\\_continuous_distns.py:2651: RuntimeWarning: The shape parameter of the erlang distribution has been given a non-integer value 0.9560676345108798.\n",
      "  RuntimeWarning)\n",
      "D:\\Users\\gregb\\AppData\\Local\\Continuum\\anaconda3\\lib\\site-packages\\scipy\\stats\\_continuous_distns.py:2651: RuntimeWarning: The shape parameter of the erlang distribution has been given a non-integer value 1.014585345480346.\n",
      "  RuntimeWarning)\n",
      "D:\\Users\\gregb\\AppData\\Local\\Continuum\\anaconda3\\lib\\site-packages\\scipy\\stats\\_continuous_distns.py:2651: RuntimeWarning: The shape parameter of the erlang distribution has been given a non-integer value 1.1348681700804635.\n",
      "  RuntimeWarning)\n",
      "D:\\Users\\gregb\\AppData\\Local\\Continuum\\anaconda3\\lib\\site-packages\\scipy\\stats\\_continuous_distns.py:2651: RuntimeWarning: The shape parameter of the erlang distribution has been given a non-integer value 0.9616348946407997.\n",
      "  RuntimeWarning)\n",
      "D:\\Users\\gregb\\AppData\\Local\\Continuum\\anaconda3\\lib\\site-packages\\scipy\\stats\\_continuous_distns.py:2651: RuntimeWarning: The shape parameter of the erlang distribution has been given a non-integer value 1.042572195916734.\n",
      "  RuntimeWarning)\n",
      "D:\\Users\\gregb\\AppData\\Local\\Continuum\\anaconda3\\lib\\site-packages\\scipy\\stats\\_continuous_distns.py:2651: RuntimeWarning: The shape parameter of the erlang distribution has been given a non-integer value 1.1089382674842865.\n",
      "  RuntimeWarning)\n",
      "D:\\Users\\gregb\\AppData\\Local\\Continuum\\anaconda3\\lib\\site-packages\\scipy\\stats\\_continuous_distns.py:2651: RuntimeWarning: The shape parameter of the erlang distribution has been given a non-integer value 1.211612389622613.\n",
      "  RuntimeWarning)\n",
      "D:\\Users\\gregb\\AppData\\Local\\Continuum\\anaconda3\\lib\\site-packages\\scipy\\stats\\_continuous_distns.py:2651: RuntimeWarning: The shape parameter of the erlang distribution has been given a non-integer value 1.2175450593723292.\n",
      "  RuntimeWarning)\n",
      "D:\\Users\\gregb\\AppData\\Local\\Continuum\\anaconda3\\lib\\site-packages\\scipy\\stats\\_continuous_distns.py:2651: RuntimeWarning: The shape parameter of the erlang distribution has been given a non-integer value 1.253256333733458.\n",
      "  RuntimeWarning)\n",
      "D:\\Users\\gregb\\AppData\\Local\\Continuum\\anaconda3\\lib\\site-packages\\scipy\\stats\\_continuous_distns.py:2651: RuntimeWarning: The shape parameter of the erlang distribution has been given a non-integer value 1.095243230370915.\n",
      "  RuntimeWarning)\n",
      "D:\\Users\\gregb\\AppData\\Local\\Continuum\\anaconda3\\lib\\site-packages\\scipy\\stats\\_continuous_distns.py:2651: RuntimeWarning: The shape parameter of the erlang distribution has been given a non-integer value 1.3350151074302254.\n",
      "  RuntimeWarning)\n",
      "D:\\Users\\gregb\\AppData\\Local\\Continuum\\anaconda3\\lib\\site-packages\\scipy\\stats\\_continuous_distns.py:2651: RuntimeWarning: The shape parameter of the erlang distribution has been given a non-integer value 1.2103687589101733.\n",
      "  RuntimeWarning)\n",
      "D:\\Users\\gregb\\AppData\\Local\\Continuum\\anaconda3\\lib\\site-packages\\scipy\\stats\\_continuous_distns.py:2651: RuntimeWarning: The shape parameter of the erlang distribution has been given a non-integer value 1.2157509842567902.\n",
      "  RuntimeWarning)\n",
      "D:\\Users\\gregb\\AppData\\Local\\Continuum\\anaconda3\\lib\\site-packages\\scipy\\stats\\_continuous_distns.py:2651: RuntimeWarning: The shape parameter of the erlang distribution has been given a non-integer value 1.0133892954033197.\n",
      "  RuntimeWarning)\n",
      "D:\\Users\\gregb\\AppData\\Local\\Continuum\\anaconda3\\lib\\site-packages\\scipy\\stats\\_continuous_distns.py:2651: RuntimeWarning: The shape parameter of the erlang distribution has been given a non-integer value 1.2546086544234991.\n",
      "  RuntimeWarning)\n",
      "D:\\Users\\gregb\\AppData\\Local\\Continuum\\anaconda3\\lib\\site-packages\\scipy\\stats\\_continuous_distns.py:2651: RuntimeWarning: The shape parameter of the erlang distribution has been given a non-integer value 1.3594047884976865.\n",
      "  RuntimeWarning)\n",
      "D:\\Users\\gregb\\AppData\\Local\\Continuum\\anaconda3\\lib\\site-packages\\scipy\\stats\\_continuous_distns.py:2651: RuntimeWarning: The shape parameter of the erlang distribution has been given a non-integer value 1.161283619902608.\n",
      "  RuntimeWarning)\n",
      "D:\\Users\\gregb\\AppData\\Local\\Continuum\\anaconda3\\lib\\site-packages\\scipy\\stats\\_continuous_distns.py:2651: RuntimeWarning: The shape parameter of the erlang distribution has been given a non-integer value 1.2094831160993187.\n",
      "  RuntimeWarning)\n",
      "D:\\Users\\gregb\\AppData\\Local\\Continuum\\anaconda3\\lib\\site-packages\\scipy\\stats\\_continuous_distns.py:2651: RuntimeWarning: The shape parameter of the erlang distribution has been given a non-integer value 1.2084184793376718.\n",
      "  RuntimeWarning)\n",
      "D:\\Users\\gregb\\AppData\\Local\\Continuum\\anaconda3\\lib\\site-packages\\scipy\\stats\\_continuous_distns.py:2651: RuntimeWarning: The shape parameter of the erlang distribution has been given a non-integer value 1.2004561848523956.\n",
      "  RuntimeWarning)\n",
      "D:\\Users\\gregb\\AppData\\Local\\Continuum\\anaconda3\\lib\\site-packages\\scipy\\stats\\_continuous_distns.py:2651: RuntimeWarning: The shape parameter of the erlang distribution has been given a non-integer value 1.2119272844056916.\n",
      "  RuntimeWarning)\n",
      "D:\\Users\\gregb\\AppData\\Local\\Continuum\\anaconda3\\lib\\site-packages\\scipy\\stats\\_continuous_distns.py:2651: RuntimeWarning: The shape parameter of the erlang distribution has been given a non-integer value 1.2886859922086336.\n",
      "  RuntimeWarning)\n",
      "D:\\Users\\gregb\\AppData\\Local\\Continuum\\anaconda3\\lib\\site-packages\\scipy\\stats\\_continuous_distns.py:2651: RuntimeWarning: The shape parameter of the erlang distribution has been given a non-integer value 1.2180791828778323.\n",
      "  RuntimeWarning)\n",
      "D:\\Users\\gregb\\AppData\\Local\\Continuum\\anaconda3\\lib\\site-packages\\scipy\\stats\\_continuous_distns.py:2651: RuntimeWarning: The shape parameter of the erlang distribution has been given a non-integer value 1.1998144471049992.\n",
      "  RuntimeWarning)\n",
      "D:\\Users\\gregb\\AppData\\Local\\Continuum\\anaconda3\\lib\\site-packages\\scipy\\stats\\_continuous_distns.py:2651: RuntimeWarning: The shape parameter of the erlang distribution has been given a non-integer value 1.2526853280285115.\n",
      "  RuntimeWarning)\n",
      "D:\\Users\\gregb\\AppData\\Local\\Continuum\\anaconda3\\lib\\site-packages\\scipy\\stats\\_continuous_distns.py:2651: RuntimeWarning: The shape parameter of the erlang distribution has been given a non-integer value 1.1519261774388214.\n",
      "  RuntimeWarning)\n",
      "D:\\Users\\gregb\\AppData\\Local\\Continuum\\anaconda3\\lib\\site-packages\\scipy\\stats\\_continuous_distns.py:2651: RuntimeWarning: The shape parameter of the erlang distribution has been given a non-integer value 1.0835462700539154.\n",
      "  RuntimeWarning)\n",
      "D:\\Users\\gregb\\AppData\\Local\\Continuum\\anaconda3\\lib\\site-packages\\scipy\\stats\\_continuous_distns.py:2651: RuntimeWarning: The shape parameter of the erlang distribution has been given a non-integer value 1.1945321557105495.\n",
      "  RuntimeWarning)\n",
      "D:\\Users\\gregb\\AppData\\Local\\Continuum\\anaconda3\\lib\\site-packages\\scipy\\stats\\_continuous_distns.py:2651: RuntimeWarning: The shape parameter of the erlang distribution has been given a non-integer value 1.1875889938969886.\n",
      "  RuntimeWarning)\n",
      "D:\\Users\\gregb\\AppData\\Local\\Continuum\\anaconda3\\lib\\site-packages\\scipy\\stats\\_continuous_distns.py:2651: RuntimeWarning: The shape parameter of the erlang distribution has been given a non-integer value 1.106867750932028.\n",
      "  RuntimeWarning)\n",
      "D:\\Users\\gregb\\AppData\\Local\\Continuum\\anaconda3\\lib\\site-packages\\scipy\\stats\\_continuous_distns.py:2651: RuntimeWarning: The shape parameter of the erlang distribution has been given a non-integer value 1.097774167740226.\n",
      "  RuntimeWarning)\n",
      "D:\\Users\\gregb\\AppData\\Local\\Continuum\\anaconda3\\lib\\site-packages\\scipy\\stats\\_continuous_distns.py:2651: RuntimeWarning: The shape parameter of the erlang distribution has been given a non-integer value 1.0467540280578396.\n",
      "  RuntimeWarning)\n",
      "D:\\Users\\gregb\\AppData\\Local\\Continuum\\anaconda3\\lib\\site-packages\\scipy\\stats\\_continuous_distns.py:2651: RuntimeWarning: The shape parameter of the erlang distribution has been given a non-integer value 1.0755476711524161.\n",
      "  RuntimeWarning)\n",
      "D:\\Users\\gregb\\AppData\\Local\\Continuum\\anaconda3\\lib\\site-packages\\scipy\\stats\\_continuous_distns.py:2651: RuntimeWarning: The shape parameter of the erlang distribution has been given a non-integer value 1.0373584180092132.\n",
      "  RuntimeWarning)\n",
      "D:\\Users\\gregb\\AppData\\Local\\Continuum\\anaconda3\\lib\\site-packages\\scipy\\stats\\_continuous_distns.py:2651: RuntimeWarning: The shape parameter of the erlang distribution has been given a non-integer value 1.074266542377333.\n",
      "  RuntimeWarning)\n",
      "D:\\Users\\gregb\\AppData\\Local\\Continuum\\anaconda3\\lib\\site-packages\\scipy\\stats\\_continuous_distns.py:2651: RuntimeWarning: The shape parameter of the erlang distribution has been given a non-integer value 1.0579659380999855.\n",
      "  RuntimeWarning)\n",
      "D:\\Users\\gregb\\AppData\\Local\\Continuum\\anaconda3\\lib\\site-packages\\scipy\\stats\\_continuous_distns.py:2651: RuntimeWarning: The shape parameter of the erlang distribution has been given a non-integer value 0.9071299288810368.\n",
      "  RuntimeWarning)\n",
      "D:\\Users\\gregb\\AppData\\Local\\Continuum\\anaconda3\\lib\\site-packages\\scipy\\stats\\_continuous_distns.py:2651: RuntimeWarning: The shape parameter of the erlang distribution has been given a non-integer value 0.9548821619356507.\n",
      "  RuntimeWarning)\n",
      "D:\\Users\\gregb\\AppData\\Local\\Continuum\\anaconda3\\lib\\site-packages\\scipy\\stats\\_continuous_distns.py:2651: RuntimeWarning: The shape parameter of the erlang distribution has been given a non-integer value 0.908946228874556.\n",
      "  RuntimeWarning)\n",
      "D:\\Users\\gregb\\AppData\\Local\\Continuum\\anaconda3\\lib\\site-packages\\scipy\\stats\\_continuous_distns.py:2651: RuntimeWarning: The shape parameter of the erlang distribution has been given a non-integer value 0.8786696458945056.\n",
      "  RuntimeWarning)\n",
      "D:\\Users\\gregb\\AppData\\Local\\Continuum\\anaconda3\\lib\\site-packages\\scipy\\stats\\_continuous_distns.py:2651: RuntimeWarning: The shape parameter of the erlang distribution has been given a non-integer value 0.989924613031661.\n",
      "  RuntimeWarning)\n",
      "D:\\Users\\gregb\\AppData\\Local\\Continuum\\anaconda3\\lib\\site-packages\\scipy\\stats\\_continuous_distns.py:2651: RuntimeWarning: The shape parameter of the erlang distribution has been given a non-integer value 1.0313219551069732.\n",
      "  RuntimeWarning)\n",
      "D:\\Users\\gregb\\AppData\\Local\\Continuum\\anaconda3\\lib\\site-packages\\scipy\\stats\\_continuous_distns.py:2651: RuntimeWarning: The shape parameter of the erlang distribution has been given a non-integer value 0.8213259484840376.\n",
      "  RuntimeWarning)\n",
      "D:\\Users\\gregb\\AppData\\Local\\Continuum\\anaconda3\\lib\\site-packages\\scipy\\stats\\_continuous_distns.py:2651: RuntimeWarning: The shape parameter of the erlang distribution has been given a non-integer value 0.7030059536760636.\n",
      "  RuntimeWarning)\n",
      "D:\\Users\\gregb\\AppData\\Local\\Continuum\\anaconda3\\lib\\site-packages\\scipy\\stats\\_continuous_distns.py:2651: RuntimeWarning: The shape parameter of the erlang distribution has been given a non-integer value 0.8835131125438895.\n",
      "  RuntimeWarning)\n",
      "D:\\Users\\gregb\\AppData\\Local\\Continuum\\anaconda3\\lib\\site-packages\\scipy\\stats\\_continuous_distns.py:2651: RuntimeWarning: The shape parameter of the erlang distribution has been given a non-integer value 0.8362811186767283.\n",
      "  RuntimeWarning)\n",
      "D:\\Users\\gregb\\AppData\\Local\\Continuum\\anaconda3\\lib\\site-packages\\scipy\\stats\\_continuous_distns.py:2651: RuntimeWarning: The shape parameter of the erlang distribution has been given a non-integer value 0.7999485635778143.\n",
      "  RuntimeWarning)\n",
      "D:\\Users\\gregb\\AppData\\Local\\Continuum\\anaconda3\\lib\\site-packages\\scipy\\stats\\_continuous_distns.py:2651: RuntimeWarning: The shape parameter of the erlang distribution has been given a non-integer value 0.559656464758205.\n",
      "  RuntimeWarning)\n",
      "D:\\Users\\gregb\\AppData\\Local\\Continuum\\anaconda3\\lib\\site-packages\\scipy\\stats\\_continuous_distns.py:2651: RuntimeWarning: The shape parameter of the erlang distribution has been given a non-integer value 0.32382371958382095.\n",
      "  RuntimeWarning)\n",
      "D:\\Users\\gregb\\AppData\\Local\\Continuum\\anaconda3\\lib\\site-packages\\scipy\\stats\\_continuous_distns.py:2651: RuntimeWarning: The shape parameter of the erlang distribution has been given a non-integer value 0.4915608754641656.\n",
      "  RuntimeWarning)\n",
      "D:\\Users\\gregb\\AppData\\Local\\Continuum\\anaconda3\\lib\\site-packages\\scipy\\stats\\_continuous_distns.py:2651: RuntimeWarning: The shape parameter of the erlang distribution has been given a non-integer value 0.2955847569243035.\n",
      "  RuntimeWarning)\n",
      "D:\\Users\\gregb\\AppData\\Local\\Continuum\\anaconda3\\lib\\site-packages\\scipy\\stats\\_continuous_distns.py:2651: RuntimeWarning: The shape parameter of the erlang distribution has been given a non-integer value 0.531104648857393.\n",
      "  RuntimeWarning)\n",
      "D:\\Users\\gregb\\AppData\\Local\\Continuum\\anaconda3\\lib\\site-packages\\scipy\\stats\\_continuous_distns.py:2651: RuntimeWarning: The shape parameter of the erlang distribution has been given a non-integer value 0.6600306274713958.\n",
      "  RuntimeWarning)\n",
      "D:\\Users\\gregb\\AppData\\Local\\Continuum\\anaconda3\\lib\\site-packages\\scipy\\stats\\_continuous_distns.py:2651: RuntimeWarning: The shape parameter of the erlang distribution has been given a non-integer value 0.5740799750620607.\n",
      "  RuntimeWarning)\n",
      "D:\\Users\\gregb\\AppData\\Local\\Continuum\\anaconda3\\lib\\site-packages\\scipy\\stats\\_continuous_distns.py:2651: RuntimeWarning: The shape parameter of the erlang distribution has been given a non-integer value 0.5311046488573932.\n",
      "  RuntimeWarning)\n",
      "D:\\Users\\gregb\\AppData\\Local\\Continuum\\anaconda3\\lib\\site-packages\\scipy\\stats\\_continuous_distns.py:2651: RuntimeWarning: The shape parameter of the erlang distribution has been given a non-integer value 0.2835829799451399.\n",
      "  RuntimeWarning)\n",
      "D:\\Users\\gregb\\AppData\\Local\\Continuum\\anaconda3\\lib\\site-packages\\scipy\\stats\\_continuous_distns.py:2651: RuntimeWarning: The shape parameter of the erlang distribution has been given a non-integer value 0.6708571676696458.\n",
      "  RuntimeWarning)\n",
      "D:\\Users\\gregb\\AppData\\Local\\Continuum\\anaconda3\\lib\\site-packages\\scipy\\stats\\_continuous_distns.py:2651: RuntimeWarning: The shape parameter of the erlang distribution has been given a non-integer value 0.5980088807057098.\n",
      "  RuntimeWarning)\n",
      "D:\\Users\\gregb\\AppData\\Local\\Continuum\\anaconda3\\lib\\site-packages\\scipy\\stats\\_continuous_distns.py:2651: RuntimeWarning: The shape parameter of the erlang distribution has been given a non-integer value 0.6171850886794621.\n",
      "  RuntimeWarning)\n",
      "D:\\Users\\gregb\\AppData\\Local\\Continuum\\anaconda3\\lib\\site-packages\\scipy\\stats\\_continuous_distns.py:2651: RuntimeWarning: The shape parameter of the erlang distribution has been given a non-integer value 0.45102679180081306.\n",
      "  RuntimeWarning)\n",
      "D:\\Users\\gregb\\AppData\\Local\\Continuum\\anaconda3\\lib\\site-packages\\scipy\\stats\\_continuous_distns.py:2651: RuntimeWarning: The shape parameter of the erlang distribution has been given a non-integer value 0.6158995737024375.\n",
      "  RuntimeWarning)\n",
      "D:\\Users\\gregb\\AppData\\Local\\Continuum\\anaconda3\\lib\\site-packages\\scipy\\stats\\_continuous_distns.py:2651: RuntimeWarning: The shape parameter of the erlang distribution has been given a non-integer value 0.5059843857680213.\n",
      "  RuntimeWarning)\n",
      "D:\\Users\\gregb\\AppData\\Local\\Continuum\\anaconda3\\lib\\site-packages\\scipy\\stats\\_continuous_distns.py:2651: RuntimeWarning: The shape parameter of the erlang distribution has been given a non-integer value 0.5884207767188334.\n",
      "  RuntimeWarning)\n",
      "D:\\Users\\gregb\\AppData\\Local\\Continuum\\anaconda3\\lib\\site-packages\\scipy\\stats\\_continuous_distns.py:2651: RuntimeWarning: The shape parameter of the erlang distribution has been given a non-integer value 0.6948963515094051.\n",
      "  RuntimeWarning)\n",
      "D:\\Users\\gregb\\AppData\\Local\\Continuum\\anaconda3\\lib\\site-packages\\scipy\\stats\\_continuous_distns.py:2651: RuntimeWarning: The shape parameter of the erlang distribution has been given a non-integer value 0.6690201667817852.\n",
      "  RuntimeWarning)\n",
      "D:\\Users\\gregb\\AppData\\Local\\Continuum\\anaconda3\\lib\\site-packages\\scipy\\stats\\_continuous_distns.py:2651: RuntimeWarning: The shape parameter of the erlang distribution has been given a non-integer value 0.709319861813261.\n",
      "  RuntimeWarning)\n",
      "D:\\Users\\gregb\\AppData\\Local\\Continuum\\anaconda3\\lib\\site-packages\\scipy\\stats\\_continuous_distns.py:2651: RuntimeWarning: The shape parameter of the erlang distribution has been given a non-integer value 0.7735208929393582.\n",
      "  RuntimeWarning)\n",
      "D:\\Users\\gregb\\AppData\\Local\\Continuum\\anaconda3\\lib\\site-packages\\scipy\\stats\\_continuous_distns.py:2651: RuntimeWarning: The shape parameter of the erlang distribution has been given a non-integer value 0.7051208774453157.\n",
      "  RuntimeWarning)\n",
      "D:\\Users\\gregb\\AppData\\Local\\Continuum\\anaconda3\\lib\\site-packages\\scipy\\stats\\_continuous_distns.py:2651: RuntimeWarning: The shape parameter of the erlang distribution has been given a non-integer value 0.6974524829933828.\n",
      "  RuntimeWarning)\n",
      "D:\\Users\\gregb\\AppData\\Local\\Continuum\\anaconda3\\lib\\site-packages\\scipy\\stats\\_continuous_distns.py:2651: RuntimeWarning: The shape parameter of the erlang distribution has been given a non-integer value 0.8363437364845394.\n",
      "  RuntimeWarning)\n",
      "D:\\Users\\gregb\\AppData\\Local\\Continuum\\anaconda3\\lib\\site-packages\\scipy\\stats\\_continuous_distns.py:2651: RuntimeWarning: The shape parameter of the erlang distribution has been given a non-integer value 0.7218898279214305.\n",
      "  RuntimeWarning)\n",
      "D:\\Users\\gregb\\AppData\\Local\\Continuum\\anaconda3\\lib\\site-packages\\scipy\\stats\\_continuous_distns.py:2651: RuntimeWarning: The shape parameter of the erlang distribution has been given a non-integer value 0.8142498011527712.\n",
      "  RuntimeWarning)\n",
      "D:\\Users\\gregb\\AppData\\Local\\Continuum\\anaconda3\\lib\\site-packages\\scipy\\stats\\_continuous_distns.py:2651: RuntimeWarning: The shape parameter of the erlang distribution has been given a non-integer value 0.8726484602324653.\n",
      "  RuntimeWarning)\n",
      "D:\\Users\\gregb\\AppData\\Local\\Continuum\\anaconda3\\lib\\site-packages\\scipy\\stats\\_continuous_distns.py:2651: RuntimeWarning: The shape parameter of the erlang distribution has been given a non-integer value 0.6606292574404355.\n",
      "  RuntimeWarning)\n",
      "D:\\Users\\gregb\\AppData\\Local\\Continuum\\anaconda3\\lib\\site-packages\\scipy\\stats\\_continuous_distns.py:2651: RuntimeWarning: The shape parameter of the erlang distribution has been given a non-integer value 0.7342427856828813.\n",
      "  RuntimeWarning)\n",
      "D:\\Users\\gregb\\AppData\\Local\\Continuum\\anaconda3\\lib\\site-packages\\scipy\\stats\\_continuous_distns.py:2651: RuntimeWarning: The shape parameter of the erlang distribution has been given a non-integer value 0.7249780673617932.\n",
      "  RuntimeWarning)\n",
      "D:\\Users\\gregb\\AppData\\Local\\Continuum\\anaconda3\\lib\\site-packages\\scipy\\stats\\_continuous_distns.py:2651: RuntimeWarning: The shape parameter of the erlang distribution has been given a non-integer value 0.7572515554900723.\n",
      "  RuntimeWarning)\n",
      "D:\\Users\\gregb\\AppData\\Local\\Continuum\\anaconda3\\lib\\site-packages\\scipy\\stats\\_continuous_distns.py:2651: RuntimeWarning: The shape parameter of the erlang distribution has been given a non-integer value 0.7812174023284779.\n",
      "  RuntimeWarning)\n",
      "D:\\Users\\gregb\\AppData\\Local\\Continuum\\anaconda3\\lib\\site-packages\\scipy\\stats\\_continuous_distns.py:2651: RuntimeWarning: The shape parameter of the erlang distribution has been given a non-integer value 0.7790862399193299.\n",
      "  RuntimeWarning)\n",
      "D:\\Users\\gregb\\AppData\\Local\\Continuum\\anaconda3\\lib\\site-packages\\scipy\\stats\\_continuous_distns.py:2651: RuntimeWarning: The shape parameter of the erlang distribution has been given a non-integer value 0.7385051105011773.\n",
      "  RuntimeWarning)\n",
      "D:\\Users\\gregb\\AppData\\Local\\Continuum\\anaconda3\\lib\\site-packages\\scipy\\stats\\_continuous_distns.py:2651: RuntimeWarning: The shape parameter of the erlang distribution has been given a non-integer value 0.8953522852145155.\n",
      "  RuntimeWarning)\n",
      "D:\\Users\\gregb\\AppData\\Local\\Continuum\\anaconda3\\lib\\site-packages\\scipy\\stats\\_continuous_distns.py:2651: RuntimeWarning: The shape parameter of the erlang distribution has been given a non-integer value 0.8366715282709954.\n",
      "  RuntimeWarning)\n",
      "D:\\Users\\gregb\\AppData\\Local\\Continuum\\anaconda3\\lib\\site-packages\\scipy\\stats\\_continuous_distns.py:2651: RuntimeWarning: The shape parameter of the erlang distribution has been given a non-integer value 0.7566795595809959.\n",
      "  RuntimeWarning)\n",
      "D:\\Users\\gregb\\AppData\\Local\\Continuum\\anaconda3\\lib\\site-packages\\scipy\\stats\\_continuous_distns.py:2651: RuntimeWarning: The shape parameter of the erlang distribution has been given a non-integer value 0.8445405496191354.\n",
      "  RuntimeWarning)\n",
      "D:\\Users\\gregb\\AppData\\Local\\Continuum\\anaconda3\\lib\\site-packages\\scipy\\stats\\_continuous_distns.py:2651: RuntimeWarning: The shape parameter of the erlang distribution has been given a non-integer value 0.8975582691781145.\n",
      "  RuntimeWarning)\n",
      "D:\\Users\\gregb\\AppData\\Local\\Continuum\\anaconda3\\lib\\site-packages\\scipy\\stats\\_continuous_distns.py:2651: RuntimeWarning: The shape parameter of the erlang distribution has been given a non-integer value 0.7869652924540634.\n",
      "  RuntimeWarning)\n",
      "D:\\Users\\gregb\\AppData\\Local\\Continuum\\anaconda3\\lib\\site-packages\\scipy\\stats\\_continuous_distns.py:2651: RuntimeWarning: The shape parameter of the erlang distribution has been given a non-integer value 0.8871477497261082.\n",
      "  RuntimeWarning)\n",
      "D:\\Users\\gregb\\AppData\\Local\\Continuum\\anaconda3\\lib\\site-packages\\scipy\\stats\\_continuous_distns.py:2651: RuntimeWarning: The shape parameter of the erlang distribution has been given a non-integer value 0.789296607117274.\n",
      "  RuntimeWarning)\n",
      "D:\\Users\\gregb\\AppData\\Local\\Continuum\\anaconda3\\lib\\site-packages\\scipy\\stats\\_continuous_distns.py:2651: RuntimeWarning: The shape parameter of the erlang distribution has been given a non-integer value 0.8679960435044902.\n",
      "  RuntimeWarning)\n",
      "D:\\Users\\gregb\\AppData\\Local\\Continuum\\anaconda3\\lib\\site-packages\\scipy\\stats\\_continuous_distns.py:2651: RuntimeWarning: The shape parameter of the erlang distribution has been given a non-integer value 0.9123831296405047.\n",
      "  RuntimeWarning)\n",
      "D:\\Users\\gregb\\AppData\\Local\\Continuum\\anaconda3\\lib\\site-packages\\scipy\\stats\\_continuous_distns.py:2651: RuntimeWarning: The shape parameter of the erlang distribution has been given a non-integer value 0.9739263909021201.\n",
      "  RuntimeWarning)\n",
      "D:\\Users\\gregb\\AppData\\Local\\Continuum\\anaconda3\\lib\\site-packages\\scipy\\stats\\_continuous_distns.py:2651: RuntimeWarning: The shape parameter of the erlang distribution has been given a non-integer value 0.9983263357613431.\n",
      "  RuntimeWarning)\n",
      "D:\\Users\\gregb\\AppData\\Local\\Continuum\\anaconda3\\lib\\site-packages\\scipy\\stats\\_continuous_distns.py:2651: RuntimeWarning: The shape parameter of the erlang distribution has been given a non-integer value 1.1040068574149828.\n",
      "  RuntimeWarning)\n",
      "D:\\Users\\gregb\\AppData\\Local\\Continuum\\anaconda3\\lib\\site-packages\\scipy\\stats\\_continuous_distns.py:2651: RuntimeWarning: The shape parameter of the erlang distribution has been given a non-integer value 1.0041824462154847.\n",
      "  RuntimeWarning)\n",
      "D:\\Users\\gregb\\AppData\\Local\\Continuum\\anaconda3\\lib\\site-packages\\scipy\\stats\\_continuous_distns.py:2651: RuntimeWarning: The shape parameter of the erlang distribution has been given a non-integer value 0.9020426441822389.\n",
      "  RuntimeWarning)\n",
      "D:\\Users\\gregb\\AppData\\Local\\Continuum\\anaconda3\\lib\\site-packages\\scipy\\stats\\_continuous_distns.py:2651: RuntimeWarning: The shape parameter of the erlang distribution has been given a non-integer value 0.9776098038779433.\n",
      "  RuntimeWarning)\n",
      "D:\\Users\\gregb\\AppData\\Local\\Continuum\\anaconda3\\lib\\site-packages\\scipy\\stats\\_continuous_distns.py:2651: RuntimeWarning: The shape parameter of the erlang distribution has been given a non-integer value 0.9175711528530717.\n",
      "  RuntimeWarning)\n",
      "D:\\Users\\gregb\\AppData\\Local\\Continuum\\anaconda3\\lib\\site-packages\\scipy\\stats\\_continuous_distns.py:2651: RuntimeWarning: The shape parameter of the erlang distribution has been given a non-integer value 0.9834777679877076.\n",
      "  RuntimeWarning)\n",
      "D:\\Users\\gregb\\AppData\\Local\\Continuum\\anaconda3\\lib\\site-packages\\scipy\\stats\\_continuous_distns.py:2651: RuntimeWarning: The shape parameter of the erlang distribution has been given a non-integer value 0.9224014251336061.\n",
      "  RuntimeWarning)\n",
      "D:\\Users\\gregb\\AppData\\Local\\Continuum\\anaconda3\\lib\\site-packages\\scipy\\stats\\_continuous_distns.py:2651: RuntimeWarning: The shape parameter of the erlang distribution has been given a non-integer value 0.9798161461915094.\n",
      "  RuntimeWarning)\n",
      "D:\\Users\\gregb\\AppData\\Local\\Continuum\\anaconda3\\lib\\site-packages\\scipy\\stats\\_continuous_distns.py:2651: RuntimeWarning: The shape parameter of the erlang distribution has been given a non-integer value 1.0080743314036766.\n",
      "  RuntimeWarning)\n",
      "D:\\Users\\gregb\\AppData\\Local\\Continuum\\anaconda3\\lib\\site-packages\\scipy\\stats\\_continuous_distns.py:2651: RuntimeWarning: The shape parameter of the erlang distribution has been given a non-integer value 1.0732400560512814.\n",
      "  RuntimeWarning)\n",
      "D:\\Users\\gregb\\AppData\\Local\\Continuum\\anaconda3\\lib\\site-packages\\scipy\\stats\\_continuous_distns.py:2651: RuntimeWarning: The shape parameter of the erlang distribution has been given a non-integer value 0.9564883786526241.\n",
      "  RuntimeWarning)\n",
      "D:\\Users\\gregb\\AppData\\Local\\Continuum\\anaconda3\\lib\\site-packages\\scipy\\stats\\_continuous_distns.py:2651: RuntimeWarning: The shape parameter of the erlang distribution has been given a non-integer value 0.9954432176869199.\n",
      "  RuntimeWarning)\n",
      "D:\\Users\\gregb\\AppData\\Local\\Continuum\\anaconda3\\lib\\site-packages\\scipy\\stats\\_continuous_distns.py:2651: RuntimeWarning: The shape parameter of the erlang distribution has been given a non-integer value 1.0032567534346253.\n",
      "  RuntimeWarning)\n",
      "D:\\Users\\gregb\\AppData\\Local\\Continuum\\anaconda3\\lib\\site-packages\\scipy\\stats\\_continuous_distns.py:2651: RuntimeWarning: The shape parameter of the erlang distribution has been given a non-integer value 0.9587642899969149.\n",
      "  RuntimeWarning)\n",
      "D:\\Users\\gregb\\AppData\\Local\\Continuum\\anaconda3\\lib\\site-packages\\scipy\\stats\\_continuous_distns.py:2651: RuntimeWarning: The shape parameter of the erlang distribution has been given a non-integer value 0.9710918003486053.\n",
      "  RuntimeWarning)\n",
      "D:\\Users\\gregb\\AppData\\Local\\Continuum\\anaconda3\\lib\\site-packages\\scipy\\stats\\_continuous_distns.py:2651: RuntimeWarning: The shape parameter of the erlang distribution has been given a non-integer value 1.0200858572119547.\n",
      "  RuntimeWarning)\n",
      "D:\\Users\\gregb\\AppData\\Local\\Continuum\\anaconda3\\lib\\site-packages\\scipy\\stats\\_continuous_distns.py:2651: RuntimeWarning: The shape parameter of the erlang distribution has been given a non-integer value 0.9723877482924568.\n",
      "  RuntimeWarning)\n",
      "D:\\Users\\gregb\\AppData\\Local\\Continuum\\anaconda3\\lib\\site-packages\\scipy\\stats\\_continuous_distns.py:2651: RuntimeWarning: The shape parameter of the erlang distribution has been given a non-integer value 1.0063464008118745.\n",
      "  RuntimeWarning)\n",
      "D:\\Users\\gregb\\AppData\\Local\\Continuum\\anaconda3\\lib\\site-packages\\scipy\\stats\\_continuous_distns.py:2651: RuntimeWarning: The shape parameter of the erlang distribution has been given a non-integer value 1.027689554547635.\n",
      "  RuntimeWarning)\n",
      "D:\\Users\\gregb\\AppData\\Local\\Continuum\\anaconda3\\lib\\site-packages\\scipy\\stats\\_continuous_distns.py:2651: RuntimeWarning: The shape parameter of the erlang distribution has been given a non-integer value 1.055340457675224.\n",
      "  RuntimeWarning)\n",
      "D:\\Users\\gregb\\AppData\\Local\\Continuum\\anaconda3\\lib\\site-packages\\scipy\\stats\\_continuous_distns.py:2651: RuntimeWarning: The shape parameter of the erlang distribution has been given a non-integer value 1.0079596711853909.\n",
      "  RuntimeWarning)\n",
      "D:\\Users\\gregb\\AppData\\Local\\Continuum\\anaconda3\\lib\\site-packages\\scipy\\stats\\_continuous_distns.py:2651: RuntimeWarning: The shape parameter of the erlang distribution has been given a non-integer value 1.0067497184052536.\n",
      "  RuntimeWarning)\n",
      "D:\\Users\\gregb\\AppData\\Local\\Continuum\\anaconda3\\lib\\site-packages\\scipy\\stats\\_continuous_distns.py:2651: RuntimeWarning: The shape parameter of the erlang distribution has been given a non-integer value 1.0215953246651956.\n",
      "  RuntimeWarning)\n",
      "D:\\Users\\gregb\\AppData\\Local\\Continuum\\anaconda3\\lib\\site-packages\\scipy\\stats\\_continuous_distns.py:2651: RuntimeWarning: The shape parameter of the erlang distribution has been given a non-integer value 1.0230690128612467.\n",
      "  RuntimeWarning)\n",
      "D:\\Users\\gregb\\AppData\\Local\\Continuum\\anaconda3\\lib\\site-packages\\scipy\\stats\\_continuous_distns.py:2651: RuntimeWarning: The shape parameter of the erlang distribution has been given a non-integer value 1.010829542019252.\n",
      "  RuntimeWarning)\n",
      "D:\\Users\\gregb\\AppData\\Local\\Continuum\\anaconda3\\lib\\site-packages\\scipy\\stats\\_continuous_distns.py:2651: RuntimeWarning: The shape parameter of the erlang distribution has been given a non-integer value 1.0446330631344685.\n",
      "  RuntimeWarning)\n",
      "D:\\Users\\gregb\\AppData\\Local\\Continuum\\anaconda3\\lib\\site-packages\\scipy\\stats\\_continuous_distns.py:2651: RuntimeWarning: The shape parameter of the erlang distribution has been given a non-integer value 1.007740679048807.\n",
      "  RuntimeWarning)\n",
      "D:\\Users\\gregb\\AppData\\Local\\Continuum\\anaconda3\\lib\\site-packages\\scipy\\stats\\_continuous_distns.py:2651: RuntimeWarning: The shape parameter of the erlang distribution has been given a non-integer value 1.0271874968218397.\n",
      "  RuntimeWarning)\n",
      "D:\\Users\\gregb\\AppData\\Local\\Continuum\\anaconda3\\lib\\site-packages\\scipy\\stats\\_continuous_distns.py:2651: RuntimeWarning: The shape parameter of the erlang distribution has been given a non-integer value 1.014919030719899.\n",
      "  RuntimeWarning)\n",
      "D:\\Users\\gregb\\AppData\\Local\\Continuum\\anaconda3\\lib\\site-packages\\scipy\\stats\\_continuous_distns.py:2651: RuntimeWarning: The shape parameter of the erlang distribution has been given a non-integer value 1.0350619275730129.\n",
      "  RuntimeWarning)\n",
      "D:\\Users\\gregb\\AppData\\Local\\Continuum\\anaconda3\\lib\\site-packages\\scipy\\stats\\_continuous_distns.py:2651: RuntimeWarning: The shape parameter of the erlang distribution has been given a non-integer value 1.0145709911798586.\n",
      "  RuntimeWarning)\n",
      "D:\\Users\\gregb\\AppData\\Local\\Continuum\\anaconda3\\lib\\site-packages\\scipy\\stats\\_continuous_distns.py:2651: RuntimeWarning: The shape parameter of the erlang distribution has been given a non-integer value 1.0276515495418939.\n",
      "  RuntimeWarning)\n",
      "D:\\Users\\gregb\\AppData\\Local\\Continuum\\anaconda3\\lib\\site-packages\\scipy\\stats\\_continuous_distns.py:2651: RuntimeWarning: The shape parameter of the erlang distribution has been given a non-integer value 1.0181021604253977.\n",
      "  RuntimeWarning)\n",
      "D:\\Users\\gregb\\AppData\\Local\\Continuum\\anaconda3\\lib\\site-packages\\scipy\\stats\\_continuous_distns.py:2651: RuntimeWarning: The shape parameter of the erlang distribution has been given a non-integer value 1.0303537019122935.\n",
      "  RuntimeWarning)\n",
      "D:\\Users\\gregb\\AppData\\Local\\Continuum\\anaconda3\\lib\\site-packages\\scipy\\stats\\_continuous_distns.py:2651: RuntimeWarning: The shape parameter of the erlang distribution has been given a non-integer value 1.0185166688629672.\n",
      "  RuntimeWarning)\n",
      "D:\\Users\\gregb\\AppData\\Local\\Continuum\\anaconda3\\lib\\site-packages\\scipy\\stats\\_continuous_distns.py:2651: RuntimeWarning: The shape parameter of the erlang distribution has been given a non-integer value 1.0270988716251344.\n",
      "  RuntimeWarning)\n",
      "D:\\Users\\gregb\\AppData\\Local\\Continuum\\anaconda3\\lib\\site-packages\\scipy\\stats\\_continuous_distns.py:2651: RuntimeWarning: The shape parameter of the erlang distribution has been given a non-integer value 1.020351338225332.\n",
      "  RuntimeWarning)\n",
      "D:\\Users\\gregb\\AppData\\Local\\Continuum\\anaconda3\\lib\\site-packages\\scipy\\stats\\_continuous_distns.py:2651: RuntimeWarning: The shape parameter of the erlang distribution has been given a non-integer value 1.027907476095808.\n",
      "  RuntimeWarning)\n",
      "D:\\Users\\gregb\\AppData\\Local\\Continuum\\anaconda3\\lib\\site-packages\\scipy\\stats\\_continuous_distns.py:2651: RuntimeWarning: The shape parameter of the erlang distribution has been given a non-integer value 1.0311102319804273.\n",
      "  RuntimeWarning)\n",
      "D:\\Users\\gregb\\AppData\\Local\\Continuum\\anaconda3\\lib\\site-packages\\scipy\\stats\\_continuous_distns.py:2651: RuntimeWarning: The shape parameter of the erlang distribution has been given a non-integer value 1.023041061664106.\n",
      "  RuntimeWarning)\n",
      "D:\\Users\\gregb\\AppData\\Local\\Continuum\\anaconda3\\lib\\site-packages\\scipy\\stats\\_continuous_distns.py:2651: RuntimeWarning: The shape parameter of the erlang distribution has been given a non-integer value 1.0308300702065036.\n",
      "  RuntimeWarning)\n",
      "D:\\Users\\gregb\\AppData\\Local\\Continuum\\anaconda3\\lib\\site-packages\\scipy\\stats\\_continuous_distns.py:2651: RuntimeWarning: The shape parameter of the erlang distribution has been given a non-integer value 1.0285213838211766.\n",
      "  RuntimeWarning)\n",
      "D:\\Users\\gregb\\AppData\\Local\\Continuum\\anaconda3\\lib\\site-packages\\scipy\\stats\\_continuous_distns.py:2651: RuntimeWarning: The shape parameter of the erlang distribution has been given a non-integer value 1.0249271905928037.\n",
      "  RuntimeWarning)\n",
      "D:\\Users\\gregb\\AppData\\Local\\Continuum\\anaconda3\\lib\\site-packages\\scipy\\stats\\_continuous_distns.py:2651: RuntimeWarning: The shape parameter of the erlang distribution has been given a non-integer value 1.027162404720057.\n",
      "  RuntimeWarning)\n",
      "D:\\Users\\gregb\\AppData\\Local\\Continuum\\anaconda3\\lib\\site-packages\\scipy\\stats\\_continuous_distns.py:2651: RuntimeWarning: The shape parameter of the erlang distribution has been given a non-integer value 1.0325411670618068.\n",
      "  RuntimeWarning)\n",
      "D:\\Users\\gregb\\AppData\\Local\\Continuum\\anaconda3\\lib\\site-packages\\scipy\\stats\\_continuous_distns.py:2651: RuntimeWarning: The shape parameter of the erlang distribution has been given a non-integer value 1.0301661407123817.\n",
      "  RuntimeWarning)\n",
      "D:\\Users\\gregb\\AppData\\Local\\Continuum\\anaconda3\\lib\\site-packages\\scipy\\stats\\_continuous_distns.py:2651: RuntimeWarning: The shape parameter of the erlang distribution has been given a non-integer value 1.0281573494988727.\n",
      "  RuntimeWarning)\n",
      "D:\\Users\\gregb\\AppData\\Local\\Continuum\\anaconda3\\lib\\site-packages\\scipy\\stats\\_continuous_distns.py:2651: RuntimeWarning: The shape parameter of the erlang distribution has been given a non-integer value 1.0279753323377205.\n",
      "  RuntimeWarning)\n",
      "D:\\Users\\gregb\\AppData\\Local\\Continuum\\anaconda3\\lib\\site-packages\\scipy\\stats\\_continuous_distns.py:2651: RuntimeWarning: The shape parameter of the erlang distribution has been given a non-integer value 1.029179697299138.\n",
      "  RuntimeWarning)\n",
      "D:\\Users\\gregb\\AppData\\Local\\Continuum\\anaconda3\\lib\\site-packages\\scipy\\stats\\_continuous_distns.py:2651: RuntimeWarning: The shape parameter of the erlang distribution has been given a non-integer value 1.0288071616112622.\n",
      "  RuntimeWarning)\n",
      "D:\\Users\\gregb\\AppData\\Local\\Continuum\\anaconda3\\lib\\site-packages\\scipy\\stats\\_continuous_distns.py:2651: RuntimeWarning: The shape parameter of the erlang distribution has been given a non-integer value 1.025797125066978.\n",
      "  RuntimeWarning)\n",
      "D:\\Users\\gregb\\AppData\\Local\\Continuum\\anaconda3\\lib\\site-packages\\scipy\\stats\\_continuous_distns.py:2651: RuntimeWarning: The shape parameter of the erlang distribution has been given a non-integer value 1.0290738868010307.\n",
      "  RuntimeWarning)\n",
      "D:\\Users\\gregb\\AppData\\Local\\Continuum\\anaconda3\\lib\\site-packages\\scipy\\stats\\_continuous_distns.py:2651: RuntimeWarning: The shape parameter of the erlang distribution has been given a non-integer value 1.0300751824466186.\n",
      "  RuntimeWarning)\n",
      "D:\\Users\\gregb\\AppData\\Local\\Continuum\\anaconda3\\lib\\site-packages\\scipy\\stats\\_continuous_distns.py:2651: RuntimeWarning: The shape parameter of the erlang distribution has been given a non-integer value 1.0288312307960368.\n",
      "  RuntimeWarning)\n",
      "D:\\Users\\gregb\\AppData\\Local\\Continuum\\anaconda3\\lib\\site-packages\\scipy\\stats\\_continuous_distns.py:2651: RuntimeWarning: The shape parameter of the erlang distribution has been given a non-integer value 1.0290132227997821.\n",
      "  RuntimeWarning)\n",
      "D:\\Users\\gregb\\AppData\\Local\\Continuum\\anaconda3\\lib\\site-packages\\scipy\\stats\\_continuous_distns.py:2651: RuntimeWarning: The shape parameter of the erlang distribution has been given a non-integer value 1.0292353301114856.\n",
      "  RuntimeWarning)\n",
      "D:\\Users\\gregb\\AppData\\Local\\Continuum\\anaconda3\\lib\\site-packages\\scipy\\stats\\_continuous_distns.py:2651: RuntimeWarning: The shape parameter of the erlang distribution has been given a non-integer value 1.029449414361597.\n",
      "  RuntimeWarning)\n",
      "D:\\Users\\gregb\\AppData\\Local\\Continuum\\anaconda3\\lib\\site-packages\\scipy\\stats\\_continuous_distns.py:2651: RuntimeWarning: The shape parameter of the erlang distribution has been given a non-integer value 1.0291773404641011.\n",
      "  RuntimeWarning)\n",
      "D:\\Users\\gregb\\AppData\\Local\\Continuum\\anaconda3\\lib\\site-packages\\scipy\\stats\\_continuous_distns.py:2651: RuntimeWarning: The shape parameter of the erlang distribution has been given a non-integer value 1.0292593992962606.\n",
      "  RuntimeWarning)\n",
      "D:\\Users\\gregb\\AppData\\Local\\Continuum\\anaconda3\\lib\\site-packages\\scipy\\stats\\_continuous_distns.py:2651: RuntimeWarning: The shape parameter of the erlang distribution has been given a non-integer value 1.0275715253836928.\n",
      "  RuntimeWarning)\n",
      "D:\\Users\\gregb\\AppData\\Local\\Continuum\\anaconda3\\lib\\site-packages\\scipy\\stats\\_continuous_distns.py:2651: RuntimeWarning: The shape parameter of the erlang distribution has been given a non-integer value 1.0263196968522297.\n",
      "  RuntimeWarning)\n",
      "D:\\Users\\gregb\\AppData\\Local\\Continuum\\anaconda3\\lib\\site-packages\\scipy\\stats\\_continuous_distns.py:2651: RuntimeWarning: The shape parameter of the erlang distribution has been given a non-integer value 1.0285676185022634.\n",
      "  RuntimeWarning)\n",
      "D:\\Users\\gregb\\AppData\\Local\\Continuum\\anaconda3\\lib\\site-packages\\scipy\\stats\\_continuous_distns.py:2651: RuntimeWarning: The shape parameter of the erlang distribution has been given a non-integer value 1.0268624796556836.\n",
      "  RuntimeWarning)\n",
      "D:\\Users\\gregb\\AppData\\Local\\Continuum\\anaconda3\\lib\\site-packages\\scipy\\stats\\_continuous_distns.py:2651: RuntimeWarning: The shape parameter of the erlang distribution has been given a non-integer value 1.0256760544277825.\n",
      "  RuntimeWarning)\n",
      "D:\\Users\\gregb\\AppData\\Local\\Continuum\\anaconda3\\lib\\site-packages\\scipy\\stats\\_continuous_distns.py:2651: RuntimeWarning: The shape parameter of the erlang distribution has been given a non-integer value 1.0252404640438573.\n",
      "  RuntimeWarning)\n",
      "D:\\Users\\gregb\\AppData\\Local\\Continuum\\anaconda3\\lib\\site-packages\\scipy\\stats\\_continuous_distns.py:2651: RuntimeWarning: The shape parameter of the erlang distribution has been given a non-integer value 1.0232309964176558.\n",
      "  RuntimeWarning)\n",
      "D:\\Users\\gregb\\AppData\\Local\\Continuum\\anaconda3\\lib\\site-packages\\scipy\\stats\\_continuous_distns.py:2651: RuntimeWarning: The shape parameter of the erlang distribution has been given a non-integer value 1.0223744967814494.\n",
      "  RuntimeWarning)\n",
      "D:\\Users\\gregb\\AppData\\Local\\Continuum\\anaconda3\\lib\\site-packages\\scipy\\stats\\_continuous_distns.py:2651: RuntimeWarning: The shape parameter of the erlang distribution has been given a non-integer value 1.0192779359210427.\n",
      "  RuntimeWarning)\n",
      "D:\\Users\\gregb\\AppData\\Local\\Continuum\\anaconda3\\lib\\site-packages\\scipy\\stats\\_continuous_distns.py:2651: RuntimeWarning: The shape parameter of the erlang distribution has been given a non-integer value 1.0219922850509628.\n",
      "  RuntimeWarning)\n",
      "D:\\Users\\gregb\\AppData\\Local\\Continuum\\anaconda3\\lib\\site-packages\\scipy\\stats\\_continuous_distns.py:2651: RuntimeWarning: The shape parameter of the erlang distribution has been given a non-integer value 1.0198285791503294.\n",
      "  RuntimeWarning)\n",
      "D:\\Users\\gregb\\AppData\\Local\\Continuum\\anaconda3\\lib\\site-packages\\scipy\\stats\\_continuous_distns.py:2651: RuntimeWarning: The shape parameter of the erlang distribution has been given a non-integer value 1.0167602352439395.\n",
      "  RuntimeWarning)\n",
      "D:\\Users\\gregb\\AppData\\Local\\Continuum\\anaconda3\\lib\\site-packages\\scipy\\stats\\_continuous_distns.py:2651: RuntimeWarning: The shape parameter of the erlang distribution has been given a non-integer value 1.0160778776994897.\n",
      "  RuntimeWarning)\n",
      "D:\\Users\\gregb\\AppData\\Local\\Continuum\\anaconda3\\lib\\site-packages\\scipy\\stats\\_continuous_distns.py:2651: RuntimeWarning: The shape parameter of the erlang distribution has been given a non-integer value 1.0127366312810562.\n",
      "  RuntimeWarning)\n",
      "D:\\Users\\gregb\\AppData\\Local\\Continuum\\anaconda3\\lib\\site-packages\\scipy\\stats\\_continuous_distns.py:2651: RuntimeWarning: The shape parameter of the erlang distribution has been given a non-integer value 1.015668490176644.\n",
      "  RuntimeWarning)\n",
      "D:\\Users\\gregb\\AppData\\Local\\Continuum\\anaconda3\\lib\\site-packages\\scipy\\stats\\_continuous_distns.py:2651: RuntimeWarning: The shape parameter of the erlang distribution has been given a non-integer value 1.0151226176429962.\n",
      "  RuntimeWarning)\n",
      "D:\\Users\\gregb\\AppData\\Local\\Continuum\\anaconda3\\lib\\site-packages\\scipy\\stats\\_continuous_distns.py:2651: RuntimeWarning: The shape parameter of the erlang distribution has been given a non-integer value 1.021646666736586.\n",
      "  RuntimeWarning)\n",
      "D:\\Users\\gregb\\AppData\\Local\\Continuum\\anaconda3\\lib\\site-packages\\scipy\\stats\\_continuous_distns.py:2651: RuntimeWarning: The shape parameter of the erlang distribution has been given a non-integer value 1.0194191578727034.\n",
      "  RuntimeWarning)\n",
      "D:\\Users\\gregb\\AppData\\Local\\Continuum\\anaconda3\\lib\\site-packages\\scipy\\stats\\_continuous_distns.py:2651: RuntimeWarning: The shape parameter of the erlang distribution has been given a non-integer value 1.020532940433628.\n",
      "  RuntimeWarning)\n",
      "D:\\Users\\gregb\\AppData\\Local\\Continuum\\anaconda3\\lib\\site-packages\\scipy\\stats\\_continuous_distns.py:2651: RuntimeWarning: The shape parameter of the erlang distribution has been given a non-integer value 1.0171916433830241.\n",
      "  RuntimeWarning)\n",
      "D:\\Users\\gregb\\AppData\\Local\\Continuum\\anaconda3\\lib\\site-packages\\scipy\\stats\\_continuous_distns.py:2651: RuntimeWarning: The shape parameter of the erlang distribution has been given a non-integer value 1.015024281804585.\n",
      "  RuntimeWarning)\n",
      "D:\\Users\\gregb\\AppData\\Local\\Continuum\\anaconda3\\lib\\site-packages\\scipy\\stats\\_continuous_distns.py:2651: RuntimeWarning: The shape parameter of the erlang distribution has been given a non-integer value 1.0162163098529309.\n",
      "  RuntimeWarning)\n",
      "D:\\Users\\gregb\\AppData\\Local\\Continuum\\anaconda3\\lib\\site-packages\\scipy\\stats\\_continuous_distns.py:2651: RuntimeWarning: The shape parameter of the erlang distribution has been given a non-integer value 1.016947810000501.\n",
      "  RuntimeWarning)\n",
      "D:\\Users\\gregb\\AppData\\Local\\Continuum\\anaconda3\\lib\\site-packages\\scipy\\stats\\_continuous_distns.py:2651: RuntimeWarning: The shape parameter of the erlang distribution has been given a non-integer value 1.0123412301151165.\n",
      "  RuntimeWarning)\n",
      "D:\\Users\\gregb\\AppData\\Local\\Continuum\\anaconda3\\lib\\site-packages\\scipy\\stats\\_continuous_distns.py:2651: RuntimeWarning: The shape parameter of the erlang distribution has been given a non-integer value 1.008802266236323.\n",
      "  RuntimeWarning)\n",
      "D:\\Users\\gregb\\AppData\\Local\\Continuum\\anaconda3\\lib\\site-packages\\scipy\\stats\\_continuous_distns.py:2651: RuntimeWarning: The shape parameter of the erlang distribution has been given a non-integer value 1.0117415247303958.\n",
      "  RuntimeWarning)\n",
      "D:\\Users\\gregb\\AppData\\Local\\Continuum\\anaconda3\\lib\\site-packages\\scipy\\stats\\_continuous_distns.py:2651: RuntimeWarning: The shape parameter of the erlang distribution has been given a non-integer value 1.009138382095343.\n",
      "  RuntimeWarning)\n",
      "D:\\Users\\gregb\\AppData\\Local\\Continuum\\anaconda3\\lib\\site-packages\\scipy\\stats\\_continuous_distns.py:2651: RuntimeWarning: The shape parameter of the erlang distribution has been given a non-integer value 1.0114765482101857.\n",
      "  RuntimeWarning)\n",
      "D:\\Users\\gregb\\AppData\\Local\\Continuum\\anaconda3\\lib\\site-packages\\scipy\\stats\\_continuous_distns.py:2651: RuntimeWarning: The shape parameter of the erlang distribution has been given a non-integer value 1.0080377118604882.\n",
      "  RuntimeWarning)\n",
      "D:\\Users\\gregb\\AppData\\Local\\Continuum\\anaconda3\\lib\\site-packages\\scipy\\stats\\_continuous_distns.py:2651: RuntimeWarning: The shape parameter of the erlang distribution has been given a non-integer value 1.0099370962604812.\n",
      "  RuntimeWarning)\n",
      "D:\\Users\\gregb\\AppData\\Local\\Continuum\\anaconda3\\lib\\site-packages\\scipy\\stats\\_continuous_distns.py:2651: RuntimeWarning: The shape parameter of the erlang distribution has been given a non-integer value 1.0074696584524605.\n",
      "  RuntimeWarning)\n",
      "D:\\Users\\gregb\\AppData\\Local\\Continuum\\anaconda3\\lib\\site-packages\\scipy\\stats\\_continuous_distns.py:2651: RuntimeWarning: The shape parameter of the erlang distribution has been given a non-integer value 1.0111233371994524.\n",
      "  RuntimeWarning)\n",
      "D:\\Users\\gregb\\AppData\\Local\\Continuum\\anaconda3\\lib\\site-packages\\scipy\\stats\\_continuous_distns.py:2651: RuntimeWarning: The shape parameter of the erlang distribution has been given a non-integer value 1.0106646195997429.\n",
      "  RuntimeWarning)\n",
      "D:\\Users\\gregb\\AppData\\Local\\Continuum\\anaconda3\\lib\\site-packages\\scipy\\stats\\_continuous_distns.py:2651: RuntimeWarning: The shape parameter of the erlang distribution has been given a non-integer value 1.0101189770952965.\n",
      "  RuntimeWarning)\n",
      "D:\\Users\\gregb\\AppData\\Local\\Continuum\\anaconda3\\lib\\site-packages\\scipy\\stats\\_continuous_distns.py:2651: RuntimeWarning: The shape parameter of the erlang distribution has been given a non-integer value 1.0088088052580013.\n",
      "  RuntimeWarning)\n",
      "D:\\Users\\gregb\\AppData\\Local\\Continuum\\anaconda3\\lib\\site-packages\\scipy\\stats\\_continuous_distns.py:2651: RuntimeWarning: The shape parameter of the erlang distribution has been given a non-integer value 1.0105447042140896.\n",
      "  RuntimeWarning)\n",
      "D:\\Users\\gregb\\AppData\\Local\\Continuum\\anaconda3\\lib\\site-packages\\scipy\\stats\\_continuous_distns.py:2651: RuntimeWarning: The shape parameter of the erlang distribution has been given a non-integer value 1.0135657588326996.\n",
      "  RuntimeWarning)\n",
      "D:\\Users\\gregb\\AppData\\Local\\Continuum\\anaconda3\\lib\\site-packages\\scipy\\stats\\_continuous_distns.py:2651: RuntimeWarning: The shape parameter of the erlang distribution has been given a non-integer value 1.009419723603541.\n",
      "  RuntimeWarning)\n",
      "D:\\Users\\gregb\\AppData\\Local\\Continuum\\anaconda3\\lib\\site-packages\\scipy\\stats\\_continuous_distns.py:2651: RuntimeWarning: The shape parameter of the erlang distribution has been given a non-integer value 1.0083140785448887.\n",
      "  RuntimeWarning)\n",
      "D:\\Users\\gregb\\AppData\\Local\\Continuum\\anaconda3\\lib\\site-packages\\scipy\\stats\\_continuous_distns.py:2651: RuntimeWarning: The shape parameter of the erlang distribution has been given a non-integer value 1.0108846631840191.\n",
      "  RuntimeWarning)\n",
      "D:\\Users\\gregb\\AppData\\Local\\Continuum\\anaconda3\\lib\\site-packages\\scipy\\stats\\_continuous_distns.py:2651: RuntimeWarning: The shape parameter of the erlang distribution has been given a non-integer value 1.0097375383744813.\n",
      "  RuntimeWarning)\n",
      "D:\\Users\\gregb\\AppData\\Local\\Continuum\\anaconda3\\lib\\site-packages\\scipy\\stats\\_continuous_distns.py:2651: RuntimeWarning: The shape parameter of the erlang distribution has been given a non-integer value 1.009333955454677.\n",
      "  RuntimeWarning)\n",
      "D:\\Users\\gregb\\AppData\\Local\\Continuum\\anaconda3\\lib\\site-packages\\scipy\\stats\\_continuous_distns.py:2651: RuntimeWarning: The shape parameter of the erlang distribution has been given a non-integer value 1.009908973012731.\n",
      "  RuntimeWarning)\n",
      "D:\\Users\\gregb\\AppData\\Local\\Continuum\\anaconda3\\lib\\site-packages\\scipy\\stats\\_continuous_distns.py:2651: RuntimeWarning: The shape parameter of the erlang distribution has been given a non-integer value 1.0099614740333724.\n",
      "  RuntimeWarning)\n",
      "D:\\Users\\gregb\\AppData\\Local\\Continuum\\anaconda3\\lib\\site-packages\\scipy\\stats\\_continuous_distns.py:2651: RuntimeWarning: The shape parameter of the erlang distribution has been given a non-integer value 1.0109693934577075.\n",
      "  RuntimeWarning)\n",
      "D:\\Users\\gregb\\AppData\\Local\\Continuum\\anaconda3\\lib\\site-packages\\scipy\\stats\\_continuous_distns.py:2651: RuntimeWarning: The shape parameter of the erlang distribution has been given a non-integer value 1.0098071410670826.\n",
      "  RuntimeWarning)\n",
      "D:\\Users\\gregb\\AppData\\Local\\Continuum\\anaconda3\\lib\\site-packages\\scipy\\stats\\_continuous_distns.py:2651: RuntimeWarning: The shape parameter of the erlang distribution has been given a non-integer value 1.0087861057992717.\n",
      "  RuntimeWarning)\n",
      "D:\\Users\\gregb\\AppData\\Local\\Continuum\\anaconda3\\lib\\site-packages\\scipy\\stats\\_continuous_distns.py:2651: RuntimeWarning: The shape parameter of the erlang distribution has been given a non-integer value 1.0103600238378323.\n",
      "  RuntimeWarning)\n",
      "D:\\Users\\gregb\\AppData\\Local\\Continuum\\anaconda3\\lib\\site-packages\\scipy\\stats\\_continuous_distns.py:2651: RuntimeWarning: The shape parameter of the erlang distribution has been given a non-integer value 1.0099749948195587.\n",
      "  RuntimeWarning)\n",
      "D:\\Users\\gregb\\AppData\\Local\\Continuum\\anaconda3\\lib\\site-packages\\scipy\\stats\\_continuous_distns.py:2651: RuntimeWarning: The shape parameter of the erlang distribution has been given a non-integer value 1.0099716146230122.\n",
      "  RuntimeWarning)\n",
      "D:\\Users\\gregb\\AppData\\Local\\Continuum\\anaconda3\\lib\\site-packages\\scipy\\stats\\_continuous_distns.py:2651: RuntimeWarning: The shape parameter of the erlang distribution has been given a non-integer value 1.0102389768231348.\n",
      "  RuntimeWarning)\n",
      "D:\\Users\\gregb\\AppData\\Local\\Continuum\\anaconda3\\lib\\site-packages\\scipy\\stats\\_continuous_distns.py:2651: RuntimeWarning: The shape parameter of the erlang distribution has been given a non-integer value 1.0099151000060957.\n",
      "  RuntimeWarning)\n",
      "D:\\Users\\gregb\\AppData\\Local\\Continuum\\anaconda3\\lib\\site-packages\\scipy\\stats\\_continuous_distns.py:2651: RuntimeWarning: The shape parameter of the erlang distribution has been given a non-integer value 1.010426953936812.\n",
      "  RuntimeWarning)\n",
      "D:\\Users\\gregb\\AppData\\Local\\Continuum\\anaconda3\\lib\\site-packages\\scipy\\stats\\_continuous_distns.py:2651: RuntimeWarning: The shape parameter of the erlang distribution has been given a non-integer value 1.009909892265064.\n",
      "  RuntimeWarning)\n",
      "D:\\Users\\gregb\\AppData\\Local\\Continuum\\anaconda3\\lib\\site-packages\\scipy\\stats\\_continuous_distns.py:2651: RuntimeWarning: The shape parameter of the erlang distribution has been given a non-integer value 1.0095043807582822.\n",
      "  RuntimeWarning)\n",
      "D:\\Users\\gregb\\AppData\\Local\\Continuum\\anaconda3\\lib\\site-packages\\scipy\\stats\\_continuous_distns.py:2651: RuntimeWarning: The shape parameter of the erlang distribution has been given a non-integer value 1.0101461130679448.\n",
      "  RuntimeWarning)\n",
      "D:\\Users\\gregb\\AppData\\Local\\Continuum\\anaconda3\\lib\\site-packages\\scipy\\stats\\_continuous_distns.py:2651: RuntimeWarning: The shape parameter of the erlang distribution has been given a non-integer value 1.0100091222697238.\n",
      "  RuntimeWarning)\n",
      "D:\\Users\\gregb\\AppData\\Local\\Continuum\\anaconda3\\lib\\site-packages\\scipy\\stats\\_continuous_distns.py:2651: RuntimeWarning: The shape parameter of the erlang distribution has been given a non-integer value 1.009999745358046.\n",
      "  RuntimeWarning)\n",
      "D:\\Users\\gregb\\AppData\\Local\\Continuum\\anaconda3\\lib\\site-packages\\scipy\\stats\\_continuous_distns.py:2651: RuntimeWarning: The shape parameter of the erlang distribution has been given a non-integer value 1.0097370453515258.\n",
      "  RuntimeWarning)\n",
      "D:\\Users\\gregb\\AppData\\Local\\Continuum\\anaconda3\\lib\\site-packages\\scipy\\stats\\_continuous_distns.py:2651: RuntimeWarning: The shape parameter of the erlang distribution has been given a non-integer value 1.009858034878714.\n",
      "  RuntimeWarning)\n",
      "D:\\Users\\gregb\\AppData\\Local\\Continuum\\anaconda3\\lib\\site-packages\\scipy\\stats\\_continuous_distns.py:2651: RuntimeWarning: The shape parameter of the erlang distribution has been given a non-integer value 1.0098969279184766.\n",
      "  RuntimeWarning)\n",
      "D:\\Users\\gregb\\AppData\\Local\\Continuum\\anaconda3\\lib\\site-packages\\scipy\\stats\\_continuous_distns.py:2651: RuntimeWarning: The shape parameter of the erlang distribution has been given a non-integer value 1.0098407124126032.\n",
      "  RuntimeWarning)\n",
      "D:\\Users\\gregb\\AppData\\Local\\Continuum\\anaconda3\\lib\\site-packages\\scipy\\stats\\_continuous_distns.py:2651: RuntimeWarning: The shape parameter of the erlang distribution has been given a non-integer value 1.0098965031077225.\n",
      "  RuntimeWarning)\n",
      "D:\\Users\\gregb\\AppData\\Local\\Continuum\\anaconda3\\lib\\site-packages\\scipy\\stats\\_continuous_distns.py:2651: RuntimeWarning: The shape parameter of the erlang distribution has been given a non-integer value 1.0101250722379709.\n",
      "  RuntimeWarning)\n",
      "D:\\Users\\gregb\\AppData\\Local\\Continuum\\anaconda3\\lib\\site-packages\\scipy\\stats\\_continuous_distns.py:2651: RuntimeWarning: The shape parameter of the erlang distribution has been given a non-integer value 1.009834052073137.\n",
      "  RuntimeWarning)\n",
      "D:\\Users\\gregb\\AppData\\Local\\Continuum\\anaconda3\\lib\\site-packages\\scipy\\stats\\_continuous_distns.py:2651: RuntimeWarning: The shape parameter of the erlang distribution has been given a non-integer value 1.0097519100415115.\n",
      "  RuntimeWarning)\n",
      "D:\\Users\\gregb\\AppData\\Local\\Continuum\\anaconda3\\lib\\site-packages\\scipy\\stats\\_continuous_distns.py:2651: RuntimeWarning: The shape parameter of the erlang distribution has been given a non-integer value 1.0099377865289125.\n",
      "  RuntimeWarning)\n",
      "D:\\Users\\gregb\\AppData\\Local\\Continuum\\anaconda3\\lib\\site-packages\\scipy\\stats\\_continuous_distns.py:2651: RuntimeWarning: The shape parameter of the erlang distribution has been given a non-integer value 1.0098826745726281.\n",
      "  RuntimeWarning)\n",
      "D:\\Users\\gregb\\AppData\\Local\\Continuum\\anaconda3\\lib\\site-packages\\scipy\\stats\\_continuous_distns.py:2651: RuntimeWarning: The shape parameter of the erlang distribution has been given a non-integer value 1.009893045973949.\n",
      "  RuntimeWarning)\n",
      "D:\\Users\\gregb\\AppData\\Local\\Continuum\\anaconda3\\lib\\site-packages\\scipy\\stats\\_continuous_distns.py:2651: RuntimeWarning: The shape parameter of the erlang distribution has been given a non-integer value array(1.00989305).\n",
      "  RuntimeWarning)\n"
     ]
    },
    {
     "name": "stdout",
     "output_type": "stream",
     "text": [
      "Fitted erlang distribution with error=0.13654884960808975)\n",
      "Fitted expon distribution with error=0.13938854828483033)\n",
      "Fitted exponnorm distribution with error=0.0760686746907398)\n",
      "Fitted exponpow distribution with error=0.38445891461172893)\n",
      "Fitted exponweib distribution with error=0.01690979702875738)\n",
      "Fitted f distribution with error=0.020967327096682874)\n",
      "Fitted fatiguelife distribution with error=0.029265580008463122)\n",
      "Fitted fisk distribution with error=0.019586005061965873)\n",
      "Fitted foldcauchy distribution with error=0.057105319014950084)\n",
      "Fitted foldnorm distribution with error=0.4976720685871802)\n",
      "Fitted frechet_l distribution with error=0.45663198043175013)\n",
      "Fitted frechet_r distribution with error=0.24226957472881983)\n",
      "Fitted gamma distribution with error=1.5838885996366985)\n"
     ]
    },
    {
     "name": "stderr",
     "output_type": "stream",
     "text": [
      "D:\\Users\\gregb\\AppData\\Local\\Continuum\\anaconda3\\lib\\site-packages\\scipy\\stats\\_continuous_distns.py:3175: RuntimeWarning: divide by zero encountered in power\n",
      "  return 1.0/Cinv * x**(a-1.0) * (1.0-x)**(b-1.0) / (1.0+z*x)**c\n"
     ]
    },
    {
     "name": "stdout",
     "output_type": "stream",
     "text": [
      "Fitted gausshyper distribution with error=0.6670460648305374)\n",
      "Fitted genexpon distribution with error=0.13938413739587124)\n",
      "Fitted genextreme distribution with error=0.031155887475355016)\n",
      "Fitted gengamma distribution with error=0.030624159266878268)\n",
      "Fitted genhalflogistic distribution with error=0.22536241396013995)\n"
     ]
    },
    {
     "name": "stderr",
     "output_type": "stream",
     "text": [
      "D:\\Users\\gregb\\AppData\\Local\\Continuum\\anaconda3\\lib\\site-packages\\scipy\\stats\\_distn_infrastructure.py:1625: RuntimeWarning: divide by zero encountered in log\n",
      "  return log(self._pdf(x, *args))\n"
     ]
    },
    {
     "name": "stdout",
     "output_type": "stream",
     "text": [
      "Fitted genlogistic distribution with error=0.4453133940042618)\n",
      "Fitted gennorm distribution with error=0.29715449624524043)\n",
      "Fitted genpareto distribution with error=0.15144085845879254)\n",
      "Fitted gilbrat distribution with error=0.016050267362750534)\n"
     ]
    },
    {
     "name": "stderr",
     "output_type": "stream",
     "text": [
      "D:\\Users\\gregb\\AppData\\Local\\Continuum\\anaconda3\\lib\\site-packages\\scipy\\stats\\_continuous_distns.py:2248: RuntimeWarning: divide by zero encountered in true_divide\n",
      "  val = val + cnk * (-1) ** ki / (1.0 - c * ki)\n"
     ]
    },
    {
     "name": "stdout",
     "output_type": "stream",
     "text": [
      "Fitted gompertz distribution with error=0.14747416126864804)\n",
      "Fitted gumbel_l distribution with error=1.5560141900380744)\n",
      "Fitted gumbel_r distribution with error=0.4467548047552377)\n",
      "Fitted halfcauchy distribution with error=0.11905197526642176)\n",
      "Fitted halfgennorm distribution with error=0.16909912769409255)\n",
      "Fitted halflogistic distribution with error=0.22399815424114133)\n",
      "Fitted halfnorm distribution with error=0.49768130458331)\n",
      "Fitted hypsecant distribution with error=0.5970425178729212)\n",
      "Fitted invgamma distribution with error=0.026942546756007896)\n",
      "Fitted invgauss distribution with error=0.016849806060198338)\n",
      "Fitted invweibull distribution with error=0.031133809149645312)\n",
      "Fitted johnsonsb distribution with error=0.3418642138093947)\n",
      "Fitted johnsonsu distribution with error=0.016028947272806425)\n",
      "Fitted kappa3 distribution with error=0.08153430979040406)\n",
      "Fitted kappa4 distribution with error=0.6547937532764813)\n"
     ]
    },
    {
     "name": "stderr",
     "output_type": "stream",
     "text": [
      "D:\\Users\\gregb\\AppData\\Local\\Continuum\\anaconda3\\lib\\site-packages\\scipy\\stats\\_continuous_distns.py:79: RuntimeWarning: floating point number truncated to an integer\n",
      "  return -scu._smirnovp(n, x)\n"
     ]
    },
    {
     "name": "stdout",
     "output_type": "stream",
     "text": [
      "Fitted ksone distribution with error=1.9650164107482302)\n",
      "Fitted kstwobign distribution with error=0.612685381208508)\n",
      "Fitted laplace distribution with error=0.4748024641061848)\n",
      "Fitted levy distribution with error=0.31743241768914676)\n",
      "Fitted levy_l distribution with error=2.1862928895334908)\n",
      "SKIPPED levy_stable distribution (taking more than 30 seconds)\n",
      "Fitted loggamma distribution with error=1.0438665467905837)\n",
      "Fitted logistic distribution with error=0.6849211450364247)\n"
     ]
    },
    {
     "name": "stderr",
     "output_type": "stream",
     "text": [
      "D:\\Users\\gregb\\AppData\\Local\\Continuum\\anaconda3\\lib\\site-packages\\scipy\\stats\\_continuous_distns.py:4299: RuntimeWarning: divide by zero encountered in true_divide\n",
      "  return c**2 / (c**2 - n**2)\n"
     ]
    },
    {
     "name": "stdout",
     "output_type": "stream",
     "text": [
      "Fitted loglaplace distribution with error=0.11954722188284116)\n",
      "Fitted lognorm distribution with error=0.016028569035855447)\n",
      "Fitted lomax distribution with error=0.1363539356471501)\n",
      "Fitted maxwell distribution with error=0.8332789668741005)\n"
     ]
    },
    {
     "name": "stderr",
     "output_type": "stream",
     "text": [
      "D:\\Users\\gregb\\AppData\\Local\\Continuum\\anaconda3\\lib\\site-packages\\scipy\\stats\\_distn_infrastructure.py:1618: IntegrationWarning: Extremely bad integrand behavior occurs at some points of the\n",
      "  integration interval.\n",
      "  return integrate.quad(self._mom_integ1, 0, 1, args=(m,)+args)[0]\n",
      "D:\\Users\\gregb\\AppData\\Local\\Continuum\\anaconda3\\lib\\site-packages\\scipy\\stats\\_distn_infrastructure.py:1618: IntegrationWarning: The integral is probably divergent, or slowly convergent.\n",
      "  return integrate.quad(self._mom_integ1, 0, 1, args=(m,)+args)[0]\n"
     ]
    },
    {
     "name": "stdout",
     "output_type": "stream",
     "text": [
      "Fitted mielke distribution with error=0.02558598266336739)\n",
      "Fitted moyal distribution with error=0.3126117403891492)\n"
     ]
    },
    {
     "name": "stderr",
     "output_type": "stream",
     "text": [
      "D:\\Users\\gregb\\AppData\\Local\\Continuum\\anaconda3\\lib\\site-packages\\scipy\\stats\\_continuous_distns.py:5014: RuntimeWarning: divide by zero encountered in power\n",
      "  return 2*nu**nu/sc.gamma(nu)*(x**(2*nu-1.0))*np.exp(-nu*x*x)\n"
     ]
    },
    {
     "name": "stdout",
     "output_type": "stream",
     "text": [
      "Fitted nakagami distribution with error=0.3549427298407529)\n",
      "Fitted ncf distribution with error=0.02057118301963786)\n",
      "Fitted nct distribution with error=0.033751228228895244)\n",
      "Fitted ncx2 distribution with error=0.14600228173129487)\n",
      "Fitted norm distribution with error=1.0007096971902407)\n",
      "Fitted norminvgauss distribution with error=0.016975741037750916)\n",
      "Fitted pareto distribution with error=0.44913051449273017)\n",
      "Fitted pearson3 distribution with error=0.13655729969082717)\n",
      "Fitted powerlaw distribution with error=0.909440544792238)\n"
     ]
    },
    {
     "name": "stderr",
     "output_type": "stream",
     "text": [
      "D:\\Users\\gregb\\AppData\\Local\\Continuum\\anaconda3\\lib\\site-packages\\scipy\\stats\\_continuous_distns.py:3858: IntegrationWarning: The integral is probably divergent, or slowly convergent.\n",
      "  intg = integrate.quad(f, -xi, np.pi/2, **intg_kwargs)[0]\n"
     ]
    },
    {
     "name": "stdout",
     "output_type": "stream",
     "text": [
      "Fitted powerlognorm distribution with error=0.017763358041157962)\n"
     ]
    },
    {
     "name": "stderr",
     "output_type": "stream",
     "text": [
      "D:\\Users\\gregb\\AppData\\Local\\Continuum\\anaconda3\\lib\\site-packages\\scipy\\stats\\_continuous_distns.py:5726: RuntimeWarning: divide by zero encountered in power\n",
      "  return c*_norm_pdf(x) * (_norm_cdf(-x)**(c-1.0))\n",
      "D:\\Users\\gregb\\AppData\\Local\\Continuum\\anaconda3\\lib\\site-packages\\scipy\\stats\\_continuous_distns.py:5726: RuntimeWarning: invalid value encountered in multiply\n",
      "  return c*_norm_pdf(x) * (_norm_cdf(-x)**(c-1.0))\n"
     ]
    },
    {
     "name": "stdout",
     "output_type": "stream",
     "text": [
      "Fitted powernorm distribution with error=nan)\n",
      "Fitted rayleigh distribution with error=0.7926688099995697)\n",
      "Fitted rdist distribution with error=1.0014471581742288)\n",
      "Fitted recipinvgauss distribution with error=0.05301813938424175)\n"
     ]
    },
    {
     "name": "stderr",
     "output_type": "stream",
     "text": [
      "D:\\Users\\gregb\\AppData\\Local\\Continuum\\anaconda3\\lib\\site-packages\\scipy\\stats\\_continuous_distns.py:5881: RuntimeWarning: invalid value encountered in log\n",
      "  self.d = np.log(b*1.0 / a)\n"
     ]
    },
    {
     "name": "stdout",
     "output_type": "stream",
     "text": [
      "Fitted reciprocal distribution with error=3.044607022238646)\n",
      "Fitted rice distribution with error=0.7926563955671241)\n",
      "SKIPPED rv_continuous distribution (taking more than 30 seconds)\n",
      "SKIPPED rv_histogram distribution (taking more than 30 seconds)\n",
      "Fitted semicircular distribution with error=1.6648995750201205)\n",
      "Fitted skewnorm distribution with error=0.4976386922313511)\n",
      "Fitted t distribution with error=0.34963388221184644)\n",
      "Fitted trapz distribution with error=2.4367609214411123)\n",
      "Fitted triang distribution with error=1.5096074958471712)\n",
      "Fitted truncexpon distribution with error=1.620766779473228)\n"
     ]
    },
    {
     "name": "stderr",
     "output_type": "stream",
     "text": [
      "D:\\Users\\gregb\\AppData\\Local\\Continuum\\anaconda3\\lib\\site-packages\\scipy\\stats\\_continuous_distns.py:6348: RuntimeWarning: divide by zero encountered in log\n",
      "  self._logdelta = np.log(self._delta)\n",
      "D:\\Users\\gregb\\AppData\\Local\\Continuum\\anaconda3\\lib\\site-packages\\scipy\\stats\\_continuous_distns.py:6348: RuntimeWarning: invalid value encountered in log\n",
      "  self._logdelta = np.log(self._delta)\n"
     ]
    },
    {
     "name": "stdout",
     "output_type": "stream",
     "text": [
      "Fitted truncnorm distribution with error=1.0007096841277154)\n"
     ]
    },
    {
     "name": "stderr",
     "output_type": "stream",
     "text": [
      "D:\\Users\\gregb\\AppData\\Local\\Continuum\\anaconda3\\lib\\site-packages\\scipy\\stats\\_continuous_distns.py:6408: RuntimeWarning: divide by zero encountered in power\n",
      "  Px = Fx**(lam-1.0) + (np.asarray(1-Fx))**(lam-1.0)\n"
     ]
    },
    {
     "name": "stdout",
     "output_type": "stream",
     "text": [
      "Fitted tukeylambda distribution with error=0.33812373473983914)\n",
      "Fitted uniform distribution with error=1.9650164107482297)\n",
      "Fitted vonmises distribution with error=2.542739258544445e+57)\n",
      "Fitted vonmises_line distribution with error=0.9057991604147669)\n",
      "Fitted wald distribution with error=0.021300447153152706)\n",
      "Fitted weibull_max distribution with error=0.45663198043175013)\n",
      "Fitted weibull_min distribution with error=0.24226957472881983)\n",
      "Fitted wrapcauchy distribution with error=nan)\n"
     ]
    },
    {
     "name": "stderr",
     "output_type": "stream",
     "text": [
      "D:\\Users\\gregb\\AppData\\Local\\Continuum\\anaconda3\\lib\\site-packages\\scipy\\optimize\\optimize.py:570: RuntimeWarning: invalid value encountered in subtract\n",
      "  numpy.max(numpy.abs(fsim[0] - fsim[1:])) <= fatol):\n"
     ]
    }
   ],
   "source": [
    "import fitter\n",
    "f = fitter.Fitter(lognormal)\n",
    "f.fit()"
   ]
  },
  {
   "cell_type": "code",
   "execution_count": 95,
   "metadata": {},
   "outputs": [
    {
     "data": {
      "text/html": [
       "<div>\n",
       "<style scoped>\n",
       "    .dataframe tbody tr th:only-of-type {\n",
       "        vertical-align: middle;\n",
       "    }\n",
       "\n",
       "    .dataframe tbody tr th {\n",
       "        vertical-align: top;\n",
       "    }\n",
       "\n",
       "    .dataframe thead th {\n",
       "        text-align: right;\n",
       "    }\n",
       "</style>\n",
       "<table border=\"1\" class=\"dataframe\">\n",
       "  <thead>\n",
       "    <tr style=\"text-align: right;\">\n",
       "      <th></th>\n",
       "      <th>sumsquare_error</th>\n",
       "      <th>aic</th>\n",
       "      <th>bic</th>\n",
       "      <th>kl_div</th>\n",
       "    </tr>\n",
       "  </thead>\n",
       "  <tbody>\n",
       "    <tr>\n",
       "      <th>lognorm</th>\n",
       "      <td>0.016029</td>\n",
       "      <td>1010.595327</td>\n",
       "      <td>-11020.414597</td>\n",
       "      <td>inf</td>\n",
       "    </tr>\n",
       "    <tr>\n",
       "      <th>johnsonsu</th>\n",
       "      <td>0.016029</td>\n",
       "      <td>1012.909795</td>\n",
       "      <td>-11013.483245</td>\n",
       "      <td>inf</td>\n",
       "    </tr>\n",
       "    <tr>\n",
       "      <th>gilbrat</th>\n",
       "      <td>0.016050</td>\n",
       "      <td>1013.547978</td>\n",
       "      <td>-11025.969540</td>\n",
       "      <td>inf</td>\n",
       "    </tr>\n",
       "    <tr>\n",
       "      <th>invgauss</th>\n",
       "      <td>0.016850</td>\n",
       "      <td>1026.598927</td>\n",
       "      <td>-10970.448145</td>\n",
       "      <td>inf</td>\n",
       "    </tr>\n",
       "    <tr>\n",
       "      <th>exponweib</th>\n",
       "      <td>0.016910</td>\n",
       "      <td>1018.411212</td>\n",
       "      <td>-10959.986377</td>\n",
       "      <td>inf</td>\n",
       "    </tr>\n",
       "  </tbody>\n",
       "</table>\n",
       "</div>"
      ],
      "text/plain": [
       "           sumsquare_error          aic           bic  kl_div\n",
       "lognorm           0.016029  1010.595327 -11020.414597     inf\n",
       "johnsonsu         0.016029  1012.909795 -11013.483245     inf\n",
       "gilbrat           0.016050  1013.547978 -11025.969540     inf\n",
       "invgauss          0.016850  1026.598927 -10970.448145     inf\n",
       "exponweib         0.016910  1018.411212 -10959.986377     inf"
      ]
     },
     "execution_count": 95,
     "metadata": {},
     "output_type": "execute_result"
    },
    {
     "data": {
      "image/png": "[encoded data removed]",
      "text/plain": [
       "<Figure size 432x288 with 1 Axes>"
      ]
     },
     "metadata": {
      "needs_background": "light"
     },
     "output_type": "display_data"
    },
    {
     "name": "stderr",
     "output_type": "stream",
     "text": [
      "D:\\Users\\gregb\\AppData\\Local\\Continuum\\anaconda3\\lib\\site-packages\\scipy\\stats\\_continuous_distns.py:3858: IntegrationWarning: The integral is probably divergent, or slowly convergent.\n",
      "  intg = integrate.quad(f, -xi, np.pi/2, **intg_kwargs)[0]\n",
      "D:\\Users\\gregb\\AppData\\Local\\Continuum\\anaconda3\\lib\\site-packages\\scipy\\stats\\_distn_infrastructure.py:1625: RuntimeWarning: invalid value encountered in log\n",
      "  return log(self._pdf(x, *args))\n",
      "D:\\Users\\gregb\\AppData\\Local\\Continuum\\anaconda3\\lib\\site-packages\\scipy\\stats\\_continuous_distns.py:3858: IntegrationWarning: The algorithm does not converge.  Roundoff error is detected\n",
      "  in the extrapolation table.  It is assumed that the requested tolerance\n",
      "  cannot be achieved, and that the returned result (if full_output = 1) is \n",
      "  the best which can be obtained.\n",
      "  intg = integrate.quad(f, -xi, np.pi/2, **intg_kwargs)[0]\n"
     ]
    }
   ],
   "source": [
    "f.summary()"
   ]
  },
  {
   "cell_type": "markdown",
   "metadata": {},
   "source": [
    "<a id=\"exercise\"></a>\n",
    "### Exercise\n",
    "\n",
    "1. Look at the Titanic data variables.\n",
    "- Are any of them normal?\n",
    "- Are any skewed?\n",
    "- How might this affect our modeling?"
   ]
  },
  {
   "cell_type": "markdown",
   "metadata": {},
   "source": [
    "![](./assets/images/visualization_flow_chart.jpg)"
   ]
  },
  {
   "cell_type": "markdown",
   "metadata": {},
   "source": [
    "<a id=\"topic-review\"></a>\n",
    "## Lesson Review\n",
    "---\n",
    "\n",
    "- We covered several different types of summary statistics, what are they?\n",
    "- We covered three different types of visualizations, which ones?\n",
    "- Describe bias and variance and why they are important.\n",
    "- What are some important characteristics of distributions?\n",
    "\n",
    "**Any further questions?**"
   ]
  },
  {
   "cell_type": "code",
   "execution_count": null,
   "metadata": {
    "collapsed": true
   },
   "outputs": [],
   "source": []
  }
 ],
 "metadata": {
  "kernelspec": {
   "display_name": "Python 3",
   "language": "python",
   "name": "python3"
  },
  "language_info": {
   "codemirror_mode": {
    "name": "ipython",
    "version": 3
   },
   "file_extension": ".py",
   "mimetype": "text/x-python",
   "name": "python",
   "nbconvert_exporter": "python",
   "pygments_lexer": "ipython3",
   "version": "3.7.3"
  }
 },
 "nbformat": 4,
 "nbformat_minor": 1
}

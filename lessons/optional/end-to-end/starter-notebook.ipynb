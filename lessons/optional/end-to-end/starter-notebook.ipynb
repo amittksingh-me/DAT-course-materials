{
 "cells": [
  {
   "cell_type": "markdown",
   "metadata": {},
   "source": [
    "# End-to-end example\n",
    "\n",
    "In most of the examples we've had, the data is clean and simple, and the objective was well-defined. We have\n",
    "often had a focus on just one step of the analysis or on one technique.\n",
    "\n",
    "In this lesson, we are just going to start with a plan and work it through from there.\n",
    "\n",
    "You have decided that the world would be better off if we had more bicycles and fewer cars, so you decide to investigate. You discover that the Divvy bike rental platform has recorded data on bicycle rentals in Chicago since 2013.\n",
    "\n",
    "It is government-owned public data, so it's available. https://catalog.data.gov/dataset/divvy-trips\n",
    "\n",
    "Here are some starting questions:\n",
    "\n",
    "- How is Divvy doing? Is it growing? Is it shrinking? \n",
    "\n",
    "- If it weren't for the coronavirus, how many trips would we have expected for 2020?\n",
    "  \n",
    "- What factors predict bicycle usage?"
   ]
  },
  {
   "cell_type": "code",
   "execution_count": null,
   "metadata": {},
   "outputs": [],
   "source": []
  }
 ],
 "metadata": {
  "kernelspec": {
   "display_name": "Python 3",
   "language": "python",
   "name": "python3"
  },
  "language_info": {
   "codemirror_mode": {
    "name": "ipython",
    "version": 3
   },
   "file_extension": ".py",
   "mimetype": "text/x-python",
   "name": "python",
   "nbconvert_exporter": "python",
   "pygments_lexer": "ipython3",
   "version": "3.7.5"
  }
 },
 "nbformat": 4,
 "nbformat_minor": 2
}

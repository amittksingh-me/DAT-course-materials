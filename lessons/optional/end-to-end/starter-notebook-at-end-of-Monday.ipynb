{
 "cells": [
  {
   "cell_type": "markdown",
   "metadata": {},
   "source": [
    "# End-to-end example\n",
    "\n",
    "In most of the examples we've had, the data is clean and simple, and the objective was well-defined. We have\n",
    "often had a focus on just one step of the analysis or on one technique.\n",
    "\n",
    "In this lesson, we are just going to start with a plan and work it through from there.\n",
    "\n",
    "You have decided that the world would be better off if we had more bicycles and fewer cars, so you decide to investigate. You discover that the Divvy bike rental platform has recorded data on bicycle rentals in Chicago since 2013.\n",
    "\n",
    "It is government-owned public data, so it's available. https://catalog.data.gov/dataset/divvy-trips\n",
    "\n",
    "Here are some starting questions:\n",
    "\n",
    "- How is Divvy doing? Is it growing? Is it shrinking? \n",
    "\n",
    "- If it weren't for the coronavirus, how many trips would we have expected for 2020?\n",
    "  \n",
    "- What factors predict bicycle usage?"
   ]
  },
  {
   "cell_type": "code",
   "execution_count": 2,
   "metadata": {},
   "outputs": [],
   "source": [
    "import pandas as pd"
   ]
  },
  {
   "cell_type": "code",
   "execution_count": null,
   "metadata": {},
   "outputs": [],
   "source": [
    "#divvy = pd.read_csv('\\\\Users\\\\gregb\\\\Downloads\\\\Divvy_Trips.csv')\n",
    "#  Not enough memory!"
   ]
  },
  {
   "cell_type": "code",
   "execution_count": 3,
   "metadata": {},
   "outputs": [],
   "source": [
    "import dask.dataframe"
   ]
  },
  {
   "cell_type": "code",
   "execution_count": 4,
   "metadata": {},
   "outputs": [],
   "source": [
    "divvy = dask.dataframe.read_csv('\\\\Users\\\\gregb\\\\Downloads\\\\Divvy_Trips.csv')"
   ]
  },
  {
   "cell_type": "code",
   "execution_count": 5,
   "metadata": {},
   "outputs": [
    {
     "data": {
      "text/plain": [
       "Index(['TRIP ID', 'START TIME', 'STOP TIME', 'BIKE ID', 'TRIP DURATION',\n",
       "       'FROM STATION ID', 'FROM STATION NAME', 'TO STATION ID',\n",
       "       'TO STATION NAME', 'USER TYPE', 'GENDER', 'BIRTH YEAR', 'FROM LATITUDE',\n",
       "       'FROM LONGITUDE', 'FROM LOCATION', 'TO LATITUDE', 'TO LONGITUDE',\n",
       "       'TO LOCATION'],\n",
       "      dtype='object')"
      ]
     },
     "execution_count": 5,
     "metadata": {},
     "output_type": "execute_result"
    }
   ],
   "source": [
    "divvy.columns"
   ]
  },
  {
   "cell_type": "code",
   "execution_count": 6,
   "metadata": {},
   "outputs": [
    {
     "data": {
      "text/html": [
       "<div>\n",
       "<style scoped>\n",
       "    .dataframe tbody tr th:only-of-type {\n",
       "        vertical-align: middle;\n",
       "    }\n",
       "\n",
       "    .dataframe tbody tr th {\n",
       "        vertical-align: top;\n",
       "    }\n",
       "\n",
       "    .dataframe thead th {\n",
       "        text-align: right;\n",
       "    }\n",
       "</style>\n",
       "<table border=\"1\" class=\"dataframe\">\n",
       "  <thead>\n",
       "    <tr style=\"text-align: right;\">\n",
       "      <th></th>\n",
       "      <th>TRIP ID</th>\n",
       "      <th>START TIME</th>\n",
       "      <th>STOP TIME</th>\n",
       "      <th>BIKE ID</th>\n",
       "      <th>TRIP DURATION</th>\n",
       "      <th>FROM STATION ID</th>\n",
       "      <th>FROM STATION NAME</th>\n",
       "      <th>TO STATION ID</th>\n",
       "      <th>TO STATION NAME</th>\n",
       "      <th>USER TYPE</th>\n",
       "      <th>GENDER</th>\n",
       "      <th>BIRTH YEAR</th>\n",
       "      <th>FROM LATITUDE</th>\n",
       "      <th>FROM LONGITUDE</th>\n",
       "      <th>FROM LOCATION</th>\n",
       "      <th>TO LATITUDE</th>\n",
       "      <th>TO LONGITUDE</th>\n",
       "      <th>TO LOCATION</th>\n",
       "    </tr>\n",
       "  </thead>\n",
       "  <tbody>\n",
       "    <tr>\n",
       "      <th>0</th>\n",
       "      <td>8546790</td>\n",
       "      <td>12/31/2015 05:35:00 PM</td>\n",
       "      <td>12/31/2015 05:44:00 PM</td>\n",
       "      <td>979</td>\n",
       "      <td>521</td>\n",
       "      <td>117</td>\n",
       "      <td>Wilton Ave &amp; Belmont Ave</td>\n",
       "      <td>229</td>\n",
       "      <td>Southport Ave &amp; Roscoe St</td>\n",
       "      <td>Subscriber</td>\n",
       "      <td>Female</td>\n",
       "      <td>1991.0</td>\n",
       "      <td>41.940180</td>\n",
       "      <td>-87.653040</td>\n",
       "      <td>POINT (-87.65304 41.94018)</td>\n",
       "      <td>41.943739</td>\n",
       "      <td>-87.664020</td>\n",
       "      <td>POINT (-87.66402 41.943739)</td>\n",
       "    </tr>\n",
       "    <tr>\n",
       "      <th>1</th>\n",
       "      <td>8546793</td>\n",
       "      <td>12/31/2015 05:37:00 PM</td>\n",
       "      <td>12/31/2015 05:41:00 PM</td>\n",
       "      <td>1932</td>\n",
       "      <td>256</td>\n",
       "      <td>301</td>\n",
       "      <td>Clark St &amp; Schiller St</td>\n",
       "      <td>138</td>\n",
       "      <td>Clybourn Ave &amp; Division St</td>\n",
       "      <td>Subscriber</td>\n",
       "      <td>Male</td>\n",
       "      <td>1992.0</td>\n",
       "      <td>41.907993</td>\n",
       "      <td>-87.631501</td>\n",
       "      <td>POINT (-87.631501 41.907993)</td>\n",
       "      <td>41.904613</td>\n",
       "      <td>-87.640552</td>\n",
       "      <td>POINT (-87.640552 41.904613)</td>\n",
       "    </tr>\n",
       "    <tr>\n",
       "      <th>2</th>\n",
       "      <td>8546795</td>\n",
       "      <td>12/31/2015 05:37:00 PM</td>\n",
       "      <td>12/31/2015 05:40:00 PM</td>\n",
       "      <td>1693</td>\n",
       "      <td>134</td>\n",
       "      <td>465</td>\n",
       "      <td>Marine Dr &amp; Ainslie St</td>\n",
       "      <td>251</td>\n",
       "      <td>Clarendon Ave &amp; Leland Ave</td>\n",
       "      <td>Subscriber</td>\n",
       "      <td>Female</td>\n",
       "      <td>1987.0</td>\n",
       "      <td>41.971600</td>\n",
       "      <td>-87.650154</td>\n",
       "      <td>POINT (-87.650154 41.9716)</td>\n",
       "      <td>41.967968</td>\n",
       "      <td>-87.650001</td>\n",
       "      <td>POINT (-87.650001 41.967968)</td>\n",
       "    </tr>\n",
       "    <tr>\n",
       "      <th>3</th>\n",
       "      <td>8546797</td>\n",
       "      <td>12/31/2015 05:38:00 PM</td>\n",
       "      <td>12/31/2015 05:55:00 PM</td>\n",
       "      <td>3370</td>\n",
       "      <td>995</td>\n",
       "      <td>333</td>\n",
       "      <td>Ashland Ave &amp; Blackhawk St</td>\n",
       "      <td>198</td>\n",
       "      <td>Green St (Halsted St) &amp; Madison St</td>\n",
       "      <td>Subscriber</td>\n",
       "      <td>Male</td>\n",
       "      <td>1975.0</td>\n",
       "      <td>41.907066</td>\n",
       "      <td>-87.667252</td>\n",
       "      <td>POINT (-87.667252 41.907066)</td>\n",
       "      <td>41.881892</td>\n",
       "      <td>-87.648789</td>\n",
       "      <td>POINT (-87.648789 41.881892)</td>\n",
       "    </tr>\n",
       "    <tr>\n",
       "      <th>4</th>\n",
       "      <td>8546798</td>\n",
       "      <td>12/31/2015 05:38:00 PM</td>\n",
       "      <td>12/31/2015 05:41:00 PM</td>\n",
       "      <td>2563</td>\n",
       "      <td>177</td>\n",
       "      <td>48</td>\n",
       "      <td>Larrabee St &amp; Kingsbury St</td>\n",
       "      <td>111</td>\n",
       "      <td>Sedgwick St &amp; Huron St</td>\n",
       "      <td>Subscriber</td>\n",
       "      <td>Male</td>\n",
       "      <td>1990.0</td>\n",
       "      <td>41.897764</td>\n",
       "      <td>-87.642884</td>\n",
       "      <td>POINT (-87.642884 41.897764)</td>\n",
       "      <td>41.894666</td>\n",
       "      <td>-87.638437</td>\n",
       "      <td>POINT (-87.638437 41.894666)</td>\n",
       "    </tr>\n",
       "  </tbody>\n",
       "</table>\n",
       "</div>"
      ],
      "text/plain": [
       "   TRIP ID              START TIME               STOP TIME  BIKE ID  \\\n",
       "0  8546790  12/31/2015 05:35:00 PM  12/31/2015 05:44:00 PM      979   \n",
       "1  8546793  12/31/2015 05:37:00 PM  12/31/2015 05:41:00 PM     1932   \n",
       "2  8546795  12/31/2015 05:37:00 PM  12/31/2015 05:40:00 PM     1693   \n",
       "3  8546797  12/31/2015 05:38:00 PM  12/31/2015 05:55:00 PM     3370   \n",
       "4  8546798  12/31/2015 05:38:00 PM  12/31/2015 05:41:00 PM     2563   \n",
       "\n",
       "   TRIP DURATION  FROM STATION ID           FROM STATION NAME  TO STATION ID  \\\n",
       "0            521              117    Wilton Ave & Belmont Ave            229   \n",
       "1            256              301      Clark St & Schiller St            138   \n",
       "2            134              465      Marine Dr & Ainslie St            251   \n",
       "3            995              333  Ashland Ave & Blackhawk St            198   \n",
       "4            177               48  Larrabee St & Kingsbury St            111   \n",
       "\n",
       "                      TO STATION NAME   USER TYPE  GENDER  BIRTH YEAR  \\\n",
       "0           Southport Ave & Roscoe St  Subscriber  Female      1991.0   \n",
       "1          Clybourn Ave & Division St  Subscriber    Male      1992.0   \n",
       "2          Clarendon Ave & Leland Ave  Subscriber  Female      1987.0   \n",
       "3  Green St (Halsted St) & Madison St  Subscriber    Male      1975.0   \n",
       "4              Sedgwick St & Huron St  Subscriber    Male      1990.0   \n",
       "\n",
       "   FROM LATITUDE  FROM LONGITUDE                 FROM LOCATION  TO LATITUDE  \\\n",
       "0      41.940180      -87.653040    POINT (-87.65304 41.94018)    41.943739   \n",
       "1      41.907993      -87.631501  POINT (-87.631501 41.907993)    41.904613   \n",
       "2      41.971600      -87.650154    POINT (-87.650154 41.9716)    41.967968   \n",
       "3      41.907066      -87.667252  POINT (-87.667252 41.907066)    41.881892   \n",
       "4      41.897764      -87.642884  POINT (-87.642884 41.897764)    41.894666   \n",
       "\n",
       "   TO LONGITUDE                   TO LOCATION  \n",
       "0    -87.664020   POINT (-87.66402 41.943739)  \n",
       "1    -87.640552  POINT (-87.640552 41.904613)  \n",
       "2    -87.650001  POINT (-87.650001 41.967968)  \n",
       "3    -87.648789  POINT (-87.648789 41.881892)  \n",
       "4    -87.638437  POINT (-87.638437 41.894666)  "
      ]
     },
     "execution_count": 6,
     "metadata": {},
     "output_type": "execute_result"
    }
   ],
   "source": [
    "divvy.head(5)"
   ]
  },
  {
   "cell_type": "code",
   "execution_count": 7,
   "metadata": {},
   "outputs": [],
   "source": [
    "divvy['start_date'] = divvy['START TIME'].str.split(' ').map(lambda x: x[0])"
   ]
  },
  {
   "cell_type": "code",
   "execution_count": 8,
   "metadata": {},
   "outputs": [
    {
     "data": {
      "text/plain": [
       "0    12/31/2015\n",
       "1    12/31/2015\n",
       "2    12/31/2015\n",
       "3    12/31/2015\n",
       "4    12/31/2015\n",
       "Name: start_date, dtype: object"
      ]
     },
     "execution_count": 8,
     "metadata": {},
     "output_type": "execute_result"
    }
   ],
   "source": [
    "divvy.start_date.head(5)"
   ]
  },
  {
   "cell_type": "code",
   "execution_count": 10,
   "metadata": {},
   "outputs": [],
   "source": [
    "trips_by_date = divvy.groupby('start_date')['TRIP ID'].count()"
   ]
  },
  {
   "cell_type": "code",
   "execution_count": 11,
   "metadata": {},
   "outputs": [
    {
     "data": {
      "text/plain": [
       "start_date\n",
       "01/01/2014    123\n",
       "Name: TRIP ID, dtype: int64"
      ]
     },
     "execution_count": 11,
     "metadata": {},
     "output_type": "execute_result"
    }
   ],
   "source": [
    "trips_by_date.head(1)"
   ]
  },
  {
   "cell_type": "code",
   "execution_count": null,
   "metadata": {},
   "outputs": [],
   "source": [
    "trips_by_date.compute()"
   ]
  },
  {
   "cell_type": "code",
   "execution_count": null,
   "metadata": {},
   "outputs": [],
   "source": [
    "trips_by_date.reset_index().to_csv('divvy_daily_trips.csv')"
   ]
  },
  {
   "cell_type": "code",
   "execution_count": 19,
   "metadata": {},
   "outputs": [],
   "source": [
    "divvy_daily_trips = pd.read_csv('divvy_daily_trips.csv', parse_dates=['start_day'], index_col='start_day')"
   ]
  },
  {
   "cell_type": "code",
   "execution_count": 20,
   "metadata": {},
   "outputs": [],
   "source": [
    "%matplotlib inline"
   ]
  },
  {
   "cell_type": "code",
   "execution_count": 21,
   "metadata": {},
   "outputs": [
    {
     "data": {
      "text/plain": [
       "Unnamed: 0    int64\n",
       "TRIP ID       int64\n",
       "dtype: object"
      ]
     },
     "execution_count": 21,
     "metadata": {},
     "output_type": "execute_result"
    }
   ],
   "source": [
    "divvy_daily_trips.dtypes"
   ]
  },
  {
   "cell_type": "code",
   "execution_count": 22,
   "metadata": {},
   "outputs": [
    {
     "data": {
      "text/plain": [
       "<matplotlib.axes._subplots.AxesSubplot at 0x2780770b470>"
      ]
     },
     "execution_count": 22,
     "metadata": {},
     "output_type": "execute_result"
    },
    {
     "data": {
      "image/png": "[encoded data removed]",
      "text/plain": [
       "<Figure size 432x288 with 1 Axes>"
      ]
     },
     "metadata": {
      "needs_background": "light"
     },
     "output_type": "display_data"
    }
   ],
   "source": [
    "divvy_daily_trips['TRIP ID'].plot()"
   ]
  },
  {
   "cell_type": "code",
   "execution_count": 28,
   "metadata": {},
   "outputs": [
    {
     "data": {
      "text/plain": [
       "((365, 2), (273, 2))"
      ]
     },
     "execution_count": 28,
     "metadata": {},
     "output_type": "execute_result"
    }
   ],
   "source": [
    "divvy2018 = divvy_daily_trips['2018']\n",
    "divvy2019 = divvy_daily_trips['2019']\n",
    "divvy2018.shape, divvy2019.shape"
   ]
  },
  {
   "cell_type": "code",
   "execution_count": 30,
   "metadata": {},
   "outputs": [],
   "source": [
    "import scipy.stats"
   ]
  },
  {
   "cell_type": "code",
   "execution_count": 31,
   "metadata": {},
   "outputs": [
    {
     "data": {
      "text/plain": [
       "MannwhitneyuResult(statistic=42801.5, pvalue=0.0011527763124675185)"
      ]
     },
     "execution_count": 31,
     "metadata": {},
     "output_type": "execute_result"
    }
   ],
   "source": [
    "scipy.stats.mannwhitneyu(divvy2018['TRIP ID'], divvy2019['TRIP ID'])"
   ]
  },
  {
   "cell_type": "code",
   "execution_count": 32,
   "metadata": {},
   "outputs": [
    {
     "data": {
      "text/plain": [
       "<matplotlib.axes._subplots.AxesSubplot at 0x27806c33b70>"
      ]
     },
     "execution_count": 32,
     "metadata": {},
     "output_type": "execute_result"
    },
    {
     "data": {
      "image/png": "[encoded data removed]",
      "text/plain": [
       "<Figure size 432x288 with 1 Axes>"
      ]
     },
     "metadata": {
      "needs_background": "light"
     },
     "output_type": "display_data"
    }
   ],
   "source": [
    "divvy2018['TRIP ID'].plot.hist()"
   ]
  },
  {
   "cell_type": "code",
   "execution_count": 33,
   "metadata": {},
   "outputs": [
    {
     "data": {
      "text/plain": [
       "<matplotlib.axes._subplots.AxesSubplot at 0x27804026240>"
      ]
     },
     "execution_count": 33,
     "metadata": {},
     "output_type": "execute_result"
    },
    {
     "data": {
      "image/png": "[encoded data removed]",
      "text/plain": [
       "<Figure size 432x288 with 1 Axes>"
      ]
     },
     "metadata": {
      "needs_background": "light"
     },
     "output_type": "display_data"
    }
   ],
   "source": [
    "divvy2019['TRIP ID'].plot.hist()"
   ]
  },
  {
   "cell_type": "code",
   "execution_count": null,
   "metadata": {},
   "outputs": [],
   "source": []
  }
 ],
 "metadata": {
  "kernelspec": {
   "display_name": "Python 3",
   "language": "python",
   "name": "python3"
  },
  "language_info": {
   "codemirror_mode": {
    "name": "ipython",
    "version": 3
   },
   "file_extension": ".py",
   "mimetype": "text/x-python",
   "name": "python",
   "nbconvert_exporter": "python",
   "pygments_lexer": "ipython3",
   "version": "3.7.3"
  }
 },
 "nbformat": 4,
 "nbformat_minor": 2
}

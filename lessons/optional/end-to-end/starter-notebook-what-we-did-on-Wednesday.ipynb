{
 "cells": [
  {
   "cell_type": "markdown",
   "metadata": {},
   "source": [
    "# End-to-end example\n",
    "\n",
    "In most of the examples we've had, the data is clean and simple, and the objective was well-defined. We have\n",
    "often had a focus on just one step of the analysis or on one technique.\n",
    "\n",
    "In this lesson, we are just going to start with a plan and work it through from there.\n",
    "\n",
    "You have decided that the world would be better off if we had more bicycles and fewer cars, so you decide to investigate. You discover that the Divvy bike rental platform has recorded data on bicycle rentals in Chicago since 2013.\n",
    "\n",
    "It is government-owned public data, so it's available. https://catalog.data.gov/dataset/divvy-trips\n",
    "\n",
    "Here are some starting questions:\n",
    "\n",
    "- How is Divvy doing? Is it growing? Is it shrinking? \n",
    "\n",
    "- If it weren't for the coronavirus, how many trips would we have expected for 2020?\n",
    "  \n",
    "- What factors predict bicycle usage?"
   ]
  },
  {
   "cell_type": "code",
   "execution_count": 4,
   "metadata": {},
   "outputs": [],
   "source": [
    "%matplotlib inline"
   ]
  },
  {
   "cell_type": "code",
   "execution_count": null,
   "metadata": {},
   "outputs": [],
   "source": [
    "import matplotlib.pyplot as plt"
   ]
  },
  {
   "cell_type": "code",
   "execution_count": 7,
   "metadata": {},
   "outputs": [],
   "source": [
    "import datetime"
   ]
  },
  {
   "cell_type": "code",
   "execution_count": 2,
   "metadata": {},
   "outputs": [],
   "source": [
    "import pandas as pd"
   ]
  },
  {
   "cell_type": "code",
   "execution_count": 9,
   "metadata": {},
   "outputs": [],
   "source": [
    "import scipy.stats"
   ]
  },
  {
   "cell_type": "markdown",
   "metadata": {},
   "source": [
    "Often we have to deal with datasets that are very large. Pandas loads everything into memory, so for a multi-gigabyte\n",
    "dataset such as the one from Divvy, this next cell will crash your computer."
   ]
  },
  {
   "cell_type": "code",
   "execution_count": null,
   "metadata": {},
   "outputs": [],
   "source": [
    "#divvy = pd.read_csv('\\\\Users\\\\gregb\\\\Downloads\\\\Divvy_Trips.csv')\n",
    "#  Not enough memory!"
   ]
  },
  {
   "cell_type": "markdown",
   "metadata": {},
   "source": [
    "Dask on the other hand, has a very similar interface to pandas, but can operate with on-disk data, and can also\n",
    "paralellise over multiple CPUs."
   ]
  },
  {
   "cell_type": "code",
   "execution_count": 3,
   "metadata": {},
   "outputs": [],
   "source": [
    "import dask.dataframe"
   ]
  },
  {
   "cell_type": "code",
   "execution_count": 4,
   "metadata": {},
   "outputs": [],
   "source": [
    "divvy = dask.dataframe.read_csv('\\\\Users\\\\gregb\\\\Downloads\\\\Divvy_Trips.csv')"
   ]
  },
  {
   "cell_type": "code",
   "execution_count": 5,
   "metadata": {},
   "outputs": [
    {
     "data": {
      "text/plain": [
       "Index(['TRIP ID', 'START TIME', 'STOP TIME', 'BIKE ID', 'TRIP DURATION',\n",
       "       'FROM STATION ID', 'FROM STATION NAME', 'TO STATION ID',\n",
       "       'TO STATION NAME', 'USER TYPE', 'GENDER', 'BIRTH YEAR', 'FROM LATITUDE',\n",
       "       'FROM LONGITUDE', 'FROM LOCATION', 'TO LATITUDE', 'TO LONGITUDE',\n",
       "       'TO LOCATION'],\n",
       "      dtype='object')"
      ]
     },
     "execution_count": 5,
     "metadata": {},
     "output_type": "execute_result"
    }
   ],
   "source": [
    "divvy.columns"
   ]
  },
  {
   "cell_type": "code",
   "execution_count": 6,
   "metadata": {},
   "outputs": [
    {
     "data": {
      "text/html": [
       "<div>\n",
       "<style scoped>\n",
       "    .dataframe tbody tr th:only-of-type {\n",
       "        vertical-align: middle;\n",
       "    }\n",
       "\n",
       "    .dataframe tbody tr th {\n",
       "        vertical-align: top;\n",
       "    }\n",
       "\n",
       "    .dataframe thead th {\n",
       "        text-align: right;\n",
       "    }\n",
       "</style>\n",
       "<table border=\"1\" class=\"dataframe\">\n",
       "  <thead>\n",
       "    <tr style=\"text-align: right;\">\n",
       "      <th></th>\n",
       "      <th>TRIP ID</th>\n",
       "      <th>START TIME</th>\n",
       "      <th>STOP TIME</th>\n",
       "      <th>BIKE ID</th>\n",
       "      <th>TRIP DURATION</th>\n",
       "      <th>FROM STATION ID</th>\n",
       "      <th>FROM STATION NAME</th>\n",
       "      <th>TO STATION ID</th>\n",
       "      <th>TO STATION NAME</th>\n",
       "      <th>USER TYPE</th>\n",
       "      <th>GENDER</th>\n",
       "      <th>BIRTH YEAR</th>\n",
       "      <th>FROM LATITUDE</th>\n",
       "      <th>FROM LONGITUDE</th>\n",
       "      <th>FROM LOCATION</th>\n",
       "      <th>TO LATITUDE</th>\n",
       "      <th>TO LONGITUDE</th>\n",
       "      <th>TO LOCATION</th>\n",
       "    </tr>\n",
       "  </thead>\n",
       "  <tbody>\n",
       "    <tr>\n",
       "      <th>0</th>\n",
       "      <td>8546790</td>\n",
       "      <td>12/31/2015 05:35:00 PM</td>\n",
       "      <td>12/31/2015 05:44:00 PM</td>\n",
       "      <td>979</td>\n",
       "      <td>521</td>\n",
       "      <td>117</td>\n",
       "      <td>Wilton Ave &amp; Belmont Ave</td>\n",
       "      <td>229</td>\n",
       "      <td>Southport Ave &amp; Roscoe St</td>\n",
       "      <td>Subscriber</td>\n",
       "      <td>Female</td>\n",
       "      <td>1991.0</td>\n",
       "      <td>41.940180</td>\n",
       "      <td>-87.653040</td>\n",
       "      <td>POINT (-87.65304 41.94018)</td>\n",
       "      <td>41.943739</td>\n",
       "      <td>-87.664020</td>\n",
       "      <td>POINT (-87.66402 41.943739)</td>\n",
       "    </tr>\n",
       "    <tr>\n",
       "      <th>1</th>\n",
       "      <td>8546793</td>\n",
       "      <td>12/31/2015 05:37:00 PM</td>\n",
       "      <td>12/31/2015 05:41:00 PM</td>\n",
       "      <td>1932</td>\n",
       "      <td>256</td>\n",
       "      <td>301</td>\n",
       "      <td>Clark St &amp; Schiller St</td>\n",
       "      <td>138</td>\n",
       "      <td>Clybourn Ave &amp; Division St</td>\n",
       "      <td>Subscriber</td>\n",
       "      <td>Male</td>\n",
       "      <td>1992.0</td>\n",
       "      <td>41.907993</td>\n",
       "      <td>-87.631501</td>\n",
       "      <td>POINT (-87.631501 41.907993)</td>\n",
       "      <td>41.904613</td>\n",
       "      <td>-87.640552</td>\n",
       "      <td>POINT (-87.640552 41.904613)</td>\n",
       "    </tr>\n",
       "    <tr>\n",
       "      <th>2</th>\n",
       "      <td>8546795</td>\n",
       "      <td>12/31/2015 05:37:00 PM</td>\n",
       "      <td>12/31/2015 05:40:00 PM</td>\n",
       "      <td>1693</td>\n",
       "      <td>134</td>\n",
       "      <td>465</td>\n",
       "      <td>Marine Dr &amp; Ainslie St</td>\n",
       "      <td>251</td>\n",
       "      <td>Clarendon Ave &amp; Leland Ave</td>\n",
       "      <td>Subscriber</td>\n",
       "      <td>Female</td>\n",
       "      <td>1987.0</td>\n",
       "      <td>41.971600</td>\n",
       "      <td>-87.650154</td>\n",
       "      <td>POINT (-87.650154 41.9716)</td>\n",
       "      <td>41.967968</td>\n",
       "      <td>-87.650001</td>\n",
       "      <td>POINT (-87.650001 41.967968)</td>\n",
       "    </tr>\n",
       "    <tr>\n",
       "      <th>3</th>\n",
       "      <td>8546797</td>\n",
       "      <td>12/31/2015 05:38:00 PM</td>\n",
       "      <td>12/31/2015 05:55:00 PM</td>\n",
       "      <td>3370</td>\n",
       "      <td>995</td>\n",
       "      <td>333</td>\n",
       "      <td>Ashland Ave &amp; Blackhawk St</td>\n",
       "      <td>198</td>\n",
       "      <td>Green St (Halsted St) &amp; Madison St</td>\n",
       "      <td>Subscriber</td>\n",
       "      <td>Male</td>\n",
       "      <td>1975.0</td>\n",
       "      <td>41.907066</td>\n",
       "      <td>-87.667252</td>\n",
       "      <td>POINT (-87.667252 41.907066)</td>\n",
       "      <td>41.881892</td>\n",
       "      <td>-87.648789</td>\n",
       "      <td>POINT (-87.648789 41.881892)</td>\n",
       "    </tr>\n",
       "    <tr>\n",
       "      <th>4</th>\n",
       "      <td>8546798</td>\n",
       "      <td>12/31/2015 05:38:00 PM</td>\n",
       "      <td>12/31/2015 05:41:00 PM</td>\n",
       "      <td>2563</td>\n",
       "      <td>177</td>\n",
       "      <td>48</td>\n",
       "      <td>Larrabee St &amp; Kingsbury St</td>\n",
       "      <td>111</td>\n",
       "      <td>Sedgwick St &amp; Huron St</td>\n",
       "      <td>Subscriber</td>\n",
       "      <td>Male</td>\n",
       "      <td>1990.0</td>\n",
       "      <td>41.897764</td>\n",
       "      <td>-87.642884</td>\n",
       "      <td>POINT (-87.642884 41.897764)</td>\n",
       "      <td>41.894666</td>\n",
       "      <td>-87.638437</td>\n",
       "      <td>POINT (-87.638437 41.894666)</td>\n",
       "    </tr>\n",
       "  </tbody>\n",
       "</table>\n",
       "</div>"
      ],
      "text/plain": [
       "   TRIP ID              START TIME               STOP TIME  BIKE ID  \\\n",
       "0  8546790  12/31/2015 05:35:00 PM  12/31/2015 05:44:00 PM      979   \n",
       "1  8546793  12/31/2015 05:37:00 PM  12/31/2015 05:41:00 PM     1932   \n",
       "2  8546795  12/31/2015 05:37:00 PM  12/31/2015 05:40:00 PM     1693   \n",
       "3  8546797  12/31/2015 05:38:00 PM  12/31/2015 05:55:00 PM     3370   \n",
       "4  8546798  12/31/2015 05:38:00 PM  12/31/2015 05:41:00 PM     2563   \n",
       "\n",
       "   TRIP DURATION  FROM STATION ID           FROM STATION NAME  TO STATION ID  \\\n",
       "0            521              117    Wilton Ave & Belmont Ave            229   \n",
       "1            256              301      Clark St & Schiller St            138   \n",
       "2            134              465      Marine Dr & Ainslie St            251   \n",
       "3            995              333  Ashland Ave & Blackhawk St            198   \n",
       "4            177               48  Larrabee St & Kingsbury St            111   \n",
       "\n",
       "                      TO STATION NAME   USER TYPE  GENDER  BIRTH YEAR  \\\n",
       "0           Southport Ave & Roscoe St  Subscriber  Female      1991.0   \n",
       "1          Clybourn Ave & Division St  Subscriber    Male      1992.0   \n",
       "2          Clarendon Ave & Leland Ave  Subscriber  Female      1987.0   \n",
       "3  Green St (Halsted St) & Madison St  Subscriber    Male      1975.0   \n",
       "4              Sedgwick St & Huron St  Subscriber    Male      1990.0   \n",
       "\n",
       "   FROM LATITUDE  FROM LONGITUDE                 FROM LOCATION  TO LATITUDE  \\\n",
       "0      41.940180      -87.653040    POINT (-87.65304 41.94018)    41.943739   \n",
       "1      41.907993      -87.631501  POINT (-87.631501 41.907993)    41.904613   \n",
       "2      41.971600      -87.650154    POINT (-87.650154 41.9716)    41.967968   \n",
       "3      41.907066      -87.667252  POINT (-87.667252 41.907066)    41.881892   \n",
       "4      41.897764      -87.642884  POINT (-87.642884 41.897764)    41.894666   \n",
       "\n",
       "   TO LONGITUDE                   TO LOCATION  \n",
       "0    -87.664020   POINT (-87.66402 41.943739)  \n",
       "1    -87.640552  POINT (-87.640552 41.904613)  \n",
       "2    -87.650001  POINT (-87.650001 41.967968)  \n",
       "3    -87.648789  POINT (-87.648789 41.881892)  \n",
       "4    -87.638437  POINT (-87.638437 41.894666)  "
      ]
     },
     "execution_count": 6,
     "metadata": {},
     "output_type": "execute_result"
    }
   ],
   "source": [
    "divvy.head(5)"
   ]
  },
  {
   "cell_type": "code",
   "execution_count": 7,
   "metadata": {},
   "outputs": [],
   "source": [
    "divvy['start_date'] = divvy['START TIME'].str.split(' ').map(lambda x: x[0])"
   ]
  },
  {
   "cell_type": "code",
   "execution_count": 8,
   "metadata": {},
   "outputs": [
    {
     "data": {
      "text/plain": [
       "0    12/31/2015\n",
       "1    12/31/2015\n",
       "2    12/31/2015\n",
       "3    12/31/2015\n",
       "4    12/31/2015\n",
       "Name: start_date, dtype: object"
      ]
     },
     "execution_count": 8,
     "metadata": {},
     "output_type": "execute_result"
    }
   ],
   "source": [
    "divvy.start_date.head(5)"
   ]
  },
  {
   "cell_type": "code",
   "execution_count": 10,
   "metadata": {},
   "outputs": [],
   "source": [
    "trips_by_date = divvy.groupby('start_date')['TRIP ID'].count()"
   ]
  },
  {
   "cell_type": "code",
   "execution_count": 11,
   "metadata": {},
   "outputs": [
    {
     "data": {
      "text/plain": [
       "start_date\n",
       "01/01/2014    123\n",
       "Name: TRIP ID, dtype: int64"
      ]
     },
     "execution_count": 11,
     "metadata": {},
     "output_type": "execute_result"
    }
   ],
   "source": [
    "trips_by_date.head(1)"
   ]
  },
  {
   "cell_type": "markdown",
   "metadata": {},
   "source": [
    "One small difference is that many dask computations (e.g. groupby) don't actually happen until you\n",
    "trigger the compute step."
   ]
  },
  {
   "cell_type": "code",
   "execution_count": null,
   "metadata": {},
   "outputs": [],
   "source": [
    "trips_by_date.compute()"
   ]
  },
  {
   "cell_type": "code",
   "execution_count": null,
   "metadata": {},
   "outputs": [],
   "source": [
    "trips_by_date.reset_index().to_csv('divvy_daily_trips.csv')"
   ]
  },
  {
   "cell_type": "markdown",
   "metadata": {},
   "source": [
    "# Alternate starting point\n",
    "\n",
    "Now that we have that summary calculated, we can work with pandas instead."
   ]
  },
  {
   "cell_type": "code",
   "execution_count": 3,
   "metadata": {},
   "outputs": [],
   "source": [
    "divvy_daily_trips = pd.read_csv('divvy_daily_trips.csv', parse_dates=['start_day'], index_col='start_day')"
   ]
  },
  {
   "cell_type": "code",
   "execution_count": 5,
   "metadata": {},
   "outputs": [
    {
     "data": {
      "text/plain": [
       "Unnamed: 0    int64\n",
       "TRIP ID       int64\n",
       "dtype: object"
      ]
     },
     "execution_count": 5,
     "metadata": {},
     "output_type": "execute_result"
    }
   ],
   "source": [
    "divvy_daily_trips.dtypes"
   ]
  },
  {
   "cell_type": "code",
   "execution_count": 6,
   "metadata": {},
   "outputs": [
    {
     "data": {
      "text/plain": [
       "<matplotlib.axes._subplots.AxesSubplot at 0x23507e0ee10>"
      ]
     },
     "execution_count": 6,
     "metadata": {},
     "output_type": "execute_result"
    },
    {
     "data": {
      "image/png": "[encoded data removed]",
      "text/plain": [
       "<Figure size 432x288 with 1 Axes>"
      ]
     },
     "metadata": {
      "needs_background": "light"
     },
     "output_type": "display_data"
    }
   ],
   "source": [
    "divvy_daily_trips['TRIP ID'].plot()"
   ]
  },
  {
   "cell_type": "markdown",
   "metadata": {},
   "source": [
    "Was 2019 different to 2018?"
   ]
  },
  {
   "cell_type": "code",
   "execution_count": 8,
   "metadata": {},
   "outputs": [
    {
     "data": {
      "text/plain": [
       "((273, 2), (273, 2))"
      ]
     },
     "execution_count": 8,
     "metadata": {},
     "output_type": "execute_result"
    }
   ],
   "source": [
    "divvy2018 = divvy_daily_trips[(divvy_daily_trips.index <= datetime.datetime(2018,9,30)) &\n",
    "                              (divvy_daily_trips.index >= datetime.datetime(2018,1,1))\n",
    "                             ]\n",
    "divvy2019 = divvy_daily_trips['2019']\n",
    "divvy2018.shape, divvy2019.shape"
   ]
  },
  {
   "cell_type": "code",
   "execution_count": 10,
   "metadata": {},
   "outputs": [
    {
     "data": {
      "text/plain": [
       "MannwhitneyuResult(statistic=34899.5, pvalue=0.09977345470694138)"
      ]
     },
     "execution_count": 10,
     "metadata": {},
     "output_type": "execute_result"
    }
   ],
   "source": [
    "scipy.stats.mannwhitneyu(divvy2018['TRIP ID'], divvy2019['TRIP ID'])"
   ]
  },
  {
   "cell_type": "markdown",
   "metadata": {},
   "source": [
    "The Mann-Whitney U-test -- https://en.wikipedia.org/wiki/Mann%E2%80%93Whitney_U_test -- is an easy way to ask\n",
    "whether two sets of numbers are equivalent. A p-value of 0.09977 (roughly 10%) means that even if they were\n",
    "drawn from the same underlying distribution you would see this happen 10% of the time."
   ]
  },
  {
   "cell_type": "code",
   "execution_count": 11,
   "metadata": {},
   "outputs": [
    {
     "data": {
      "text/plain": [
       "<matplotlib.axes._subplots.AxesSubplot at 0x23509bb74a8>"
      ]
     },
     "execution_count": 11,
     "metadata": {},
     "output_type": "execute_result"
    },
    {
     "data": {
      "image/png": "[encoded data removed]",
      "text/plain": [
       "<Figure size 432x288 with 1 Axes>"
      ]
     },
     "metadata": {
      "needs_background": "light"
     },
     "output_type": "display_data"
    }
   ],
   "source": [
    "divvy2018['TRIP ID'].plot.hist()"
   ]
  },
  {
   "cell_type": "code",
   "execution_count": 12,
   "metadata": {
    "scrolled": true
   },
   "outputs": [
    {
     "data": {
      "text/plain": [
       "<matplotlib.axes._subplots.AxesSubplot at 0x23509c52a90>"
      ]
     },
     "execution_count": 12,
     "metadata": {},
     "output_type": "execute_result"
    },
    {
     "data": {
      "image/png": "[encoded data removed]",
      "text/plain": [
       "<Figure size 432x288 with 1 Axes>"
      ]
     },
     "metadata": {
      "needs_background": "light"
     },
     "output_type": "display_data"
    }
   ],
   "source": [
    "divvy2019['TRIP ID'].plot.hist()"
   ]
  },
  {
   "cell_type": "markdown",
   "metadata": {},
   "source": [
    "What about comparing 2014 and 2018?"
   ]
  },
  {
   "cell_type": "code",
   "execution_count": 13,
   "metadata": {},
   "outputs": [
    {
     "data": {
      "text/plain": [
       "MannwhitneyuResult(statistic=45494.5, pvalue=1.2896167594466918e-13)"
      ]
     },
     "execution_count": 13,
     "metadata": {},
     "output_type": "execute_result"
    }
   ],
   "source": [
    "divvy2014 = divvy_daily_trips[\"2014\"]['TRIP ID']\n",
    "divvy2018 = divvy_daily_trips[\"2018\"]['TRIP ID']\n",
    "scipy.stats.mannwhitneyu(divvy2014, divvy2018)"
   ]
  },
  {
   "cell_type": "code",
   "execution_count": 14,
   "metadata": {},
   "outputs": [
    {
     "data": {
      "text/plain": [
       "<matplotlib.axes._subplots.AxesSubplot at 0x23509cf1e10>"
      ]
     },
     "execution_count": 14,
     "metadata": {},
     "output_type": "execute_result"
    },
    {
     "data": {
      "image/png": "[encoded data removed]",
      "text/plain": [
       "<Figure size 720x360 with 2 Axes>"
      ]
     },
     "metadata": {
      "needs_background": "light"
     },
     "output_type": "display_data"
    }
   ],
   "source": [
    "(fig, axes) = plt.subplots(ncols=2, sharey=True, figsize=(10,5))\n",
    "divvy2014.plot(ax=axes[0])\n",
    "divvy2018.plot(ax=axes[1])"
   ]
  },
  {
   "cell_type": "code",
   "execution_count": 15,
   "metadata": {},
   "outputs": [
    {
     "data": {
      "text/plain": [
       "6762.077134986226"
      ]
     },
     "execution_count": 15,
     "metadata": {},
     "output_type": "execute_result"
    }
   ],
   "source": [
    "divvy2014.mean()"
   ]
  },
  {
   "cell_type": "code",
   "execution_count": 16,
   "metadata": {},
   "outputs": [
    {
     "data": {
      "text/plain": [
       "9870.52602739726"
      ]
     },
     "execution_count": 16,
     "metadata": {},
     "output_type": "execute_result"
    }
   ],
   "source": [
    "divvy2018.mean()"
   ]
  },
  {
   "cell_type": "markdown",
   "metadata": {},
   "source": [
    "# Timeseries decomposition\n",
    "\n",
    "How much of this data is just random noise? How much can we explain?\n",
    "\n",
    "Note that we use the `period=` which requires statsmodels version 0.11 or later."
   ]
  },
  {
   "cell_type": "code",
   "execution_count": 17,
   "metadata": {},
   "outputs": [],
   "source": [
    "import statsmodels"
   ]
  },
  {
   "cell_type": "code",
   "execution_count": 18,
   "metadata": {},
   "outputs": [
    {
     "data": {
      "text/plain": [
       "'0.11.1'"
      ]
     },
     "execution_count": 18,
     "metadata": {},
     "output_type": "execute_result"
    }
   ],
   "source": [
    "statsmodels.__version__"
   ]
  },
  {
   "cell_type": "markdown",
   "metadata": {},
   "source": [
    "This is what to do if you are on an older version of statsmodels..."
   ]
  },
  {
   "cell_type": "code",
   "execution_count": 55,
   "metadata": {},
   "outputs": [
    {
     "name": "stdout",
     "output_type": "stream",
     "text": [
      "Collecting statsmodels\n",
      "  Downloading https://files.pythonhosted.org/packages/86/3c/d118973b8d85eeba14b3a306a5a06f920dd92878fa57c264dbe70b83a197/statsmodels-0.11.1-cp37-none-win_amd64.whl (8.2MB)\n",
      "Requirement already satisfied, skipping upgrade: patsy>=0.5 in d:\\users\\gregb\\appdata\\local\\continuum\\anaconda3\\lib\\site-packages (from statsmodels) (0.5.1)\n",
      "Requirement already satisfied, skipping upgrade: numpy>=1.14 in d:\\users\\gregb\\appdata\\local\\continuum\\anaconda3\\lib\\site-packages (from statsmodels) (1.16.4)\n",
      "Requirement already satisfied, skipping upgrade: pandas>=0.21 in d:\\users\\gregb\\appdata\\local\\continuum\\anaconda3\\lib\\site-packages (from statsmodels) (0.24.2)\n",
      "Requirement already satisfied, skipping upgrade: scipy>=1.0 in d:\\users\\gregb\\appdata\\local\\continuum\\anaconda3\\lib\\site-packages (from statsmodels) (1.2.1)\n",
      "Requirement already satisfied, skipping upgrade: six in d:\\users\\gregb\\appdata\\local\\continuum\\anaconda3\\lib\\site-packages (from patsy>=0.5->statsmodels) (1.12.0)\n",
      "Requirement already satisfied, skipping upgrade: pytz>=2011k in d:\\users\\gregb\\appdata\\local\\continuum\\anaconda3\\lib\\site-packages (from pandas>=0.21->statsmodels) (2019.1)\n",
      "Requirement already satisfied, skipping upgrade: python-dateutil>=2.5.0 in d:\\users\\gregb\\appdata\\local\\continuum\\anaconda3\\lib\\site-packages (from pandas>=0.21->statsmodels) (2.8.0)\n",
      "Installing collected packages: statsmodels\n",
      "  Found existing installation: statsmodels 0.10.0\n",
      "    Uninstalling statsmodels-0.10.0:\n",
      "      Successfully uninstalled statsmodels-0.10.0\n"
     ]
    },
    {
     "name": "stderr",
     "output_type": "stream",
     "text": [
      "ERROR: Could not install packages due to an EnvironmentError: [WinError 5] Access is denied: 'd:\\\\users\\\\gregb\\\\appdata\\\\local\\\\continuum\\\\anaconda3\\\\lib\\\\site-packages\\\\~tatsmodels\\\\nonparametric\\\\linbin.cp37-win_amd64.pyd'\n",
      "Consider using the `--user` option or check the permissions.\n",
      "\n"
     ]
    }
   ],
   "source": [
    "!pip install -U statsmodels"
   ]
  },
  {
   "cell_type": "markdown",
   "metadata": {},
   "source": [
    "The autocorrelation and partial autocorrelation plots suggest that there is not much autocorrelation; there\n",
    "is just a lot of correlation with external factors."
   ]
  },
  {
   "cell_type": "code",
   "execution_count": 23,
   "metadata": {},
   "outputs": [
    {
     "data": {
      "image/png": "[encoded data removed]",
      "text/plain": [
       "<Figure size 432x288 with 1 Axes>"
      ]
     },
     "metadata": {
      "needs_background": "light"
     },
     "output_type": "display_data"
    }
   ],
   "source": [
    "import statsmodels.graphics.tsaplots\n",
    "statsmodels.graphics.tsaplots.plot_acf(divvy_daily_trips['TRIP ID']);"
   ]
  },
  {
   "cell_type": "code",
   "execution_count": 25,
   "metadata": {},
   "outputs": [
    {
     "data": {
      "image/png": "[encoded data removed]",
      "text/plain": [
       "<Figure size 432x288 with 1 Axes>"
      ]
     },
     "metadata": {
      "needs_background": "light"
     },
     "output_type": "display_data"
    }
   ],
   "source": [
    "statsmodels.graphics.tsaplots.plot_pacf(divvy_daily_trips['TRIP ID'], lags=400);"
   ]
  },
  {
   "cell_type": "markdown",
   "metadata": {},
   "source": [
    "Note what happens in the next cell. When you have a pandas series or dataframe that has a datetime index,\n",
    "it also has a frequency (freq). It defaults to None."
   ]
  },
  {
   "cell_type": "code",
   "execution_count": 28,
   "metadata": {},
   "outputs": [
    {
     "ename": "ValueError",
     "evalue": "You must specify a period or x must be a pandas object with a DatetimeIndex with a freq not set to None",
     "output_type": "error",
     "traceback": [
      "\u001b[1;31m---------------------------------------------------------------------------\u001b[0m",
      "\u001b[1;31mValueError\u001b[0m                                Traceback (most recent call last)",
      "\u001b[1;32m<ipython-input-28-e3c75d7171ca>\u001b[0m in \u001b[0;36m<module>\u001b[1;34m\u001b[0m\n\u001b[0;32m      1\u001b[0m \u001b[1;32mimport\u001b[0m \u001b[0mstatsmodels\u001b[0m\u001b[1;33m.\u001b[0m\u001b[0mtsa\u001b[0m\u001b[1;33m.\u001b[0m\u001b[0mseasonal\u001b[0m\u001b[1;33m\u001b[0m\u001b[1;33m\u001b[0m\u001b[0m\n\u001b[1;32m----> 2\u001b[1;33m \u001b[0mstatsmodels\u001b[0m\u001b[1;33m.\u001b[0m\u001b[0mtsa\u001b[0m\u001b[1;33m.\u001b[0m\u001b[0mseasonal\u001b[0m\u001b[1;33m.\u001b[0m\u001b[0mseasonal_decompose\u001b[0m\u001b[1;33m(\u001b[0m\u001b[0mdivvy_daily_trips\u001b[0m\u001b[1;33m[\u001b[0m\u001b[1;34m'TRIP ID'\u001b[0m\u001b[1;33m]\u001b[0m\u001b[1;33m)\u001b[0m\u001b[1;33m\u001b[0m\u001b[1;33m\u001b[0m\u001b[0m\n\u001b[0m",
      "\u001b[1;32m~\\AppData\\Local\\Continuum\\anaconda3\\lib\\site-packages\\pandas\\util\\_decorators.py\u001b[0m in \u001b[0;36mwrapper\u001b[1;34m(*args, **kwargs)\u001b[0m\n\u001b[0;32m    186\u001b[0m                 \u001b[1;32melse\u001b[0m\u001b[1;33m:\u001b[0m\u001b[1;33m\u001b[0m\u001b[1;33m\u001b[0m\u001b[0m\n\u001b[0;32m    187\u001b[0m                     \u001b[0mkwargs\u001b[0m\u001b[1;33m[\u001b[0m\u001b[0mnew_arg_name\u001b[0m\u001b[1;33m]\u001b[0m \u001b[1;33m=\u001b[0m \u001b[0mnew_arg_value\u001b[0m\u001b[1;33m\u001b[0m\u001b[1;33m\u001b[0m\u001b[0m\n\u001b[1;32m--> 188\u001b[1;33m             \u001b[1;32mreturn\u001b[0m \u001b[0mfunc\u001b[0m\u001b[1;33m(\u001b[0m\u001b[1;33m*\u001b[0m\u001b[0margs\u001b[0m\u001b[1;33m,\u001b[0m \u001b[1;33m**\u001b[0m\u001b[0mkwargs\u001b[0m\u001b[1;33m)\u001b[0m\u001b[1;33m\u001b[0m\u001b[1;33m\u001b[0m\u001b[0m\n\u001b[0m\u001b[0;32m    189\u001b[0m         \u001b[1;32mreturn\u001b[0m \u001b[0mwrapper\u001b[0m\u001b[1;33m\u001b[0m\u001b[1;33m\u001b[0m\u001b[0m\n\u001b[0;32m    190\u001b[0m     \u001b[1;32mreturn\u001b[0m \u001b[0m_deprecate_kwarg\u001b[0m\u001b[1;33m\u001b[0m\u001b[1;33m\u001b[0m\u001b[0m\n",
      "\u001b[1;32m~\\AppData\\Local\\Continuum\\anaconda3\\lib\\site-packages\\statsmodels\\tsa\\seasonal.py\u001b[0m in \u001b[0;36mseasonal_decompose\u001b[1;34m(x, model, filt, period, two_sided, extrapolate_trend)\u001b[0m\n\u001b[0;32m    140\u001b[0m             \u001b[0mperiod\u001b[0m \u001b[1;33m=\u001b[0m \u001b[0mpfreq\u001b[0m\u001b[1;33m\u001b[0m\u001b[1;33m\u001b[0m\u001b[0m\n\u001b[0;32m    141\u001b[0m         \u001b[1;32melse\u001b[0m\u001b[1;33m:\u001b[0m\u001b[1;33m\u001b[0m\u001b[1;33m\u001b[0m\u001b[0m\n\u001b[1;32m--> 142\u001b[1;33m             raise ValueError(\"You must specify a period or x must be a \"\n\u001b[0m\u001b[0;32m    143\u001b[0m                              \u001b[1;34m\"pandas object with a DatetimeIndex with \"\u001b[0m\u001b[1;33m\u001b[0m\u001b[1;33m\u001b[0m\u001b[0m\n\u001b[0;32m    144\u001b[0m                              \"a freq not set to None\")\n",
      "\u001b[1;31mValueError\u001b[0m: You must specify a period or x must be a pandas object with a DatetimeIndex with a freq not set to None"
     ]
    }
   ],
   "source": [
    "import statsmodels.tsa.seasonal\n",
    "statsmodels.tsa.seasonal.seasonal_decompose(divvy_daily_trips['TRIP ID'])"
   ]
  },
  {
   "cell_type": "markdown",
   "metadata": {},
   "source": [
    "Notice that we are missing January 7th and 8th. Because there were no trips on these days, our\n",
    "group by calculation doesn't have a row in the dataframe for these."
   ]
  },
  {
   "cell_type": "code",
   "execution_count": 29,
   "metadata": {},
   "outputs": [
    {
     "data": {
      "text/plain": [
       "DatetimeIndex(['2014-01-01', '2014-01-02', '2014-01-03', '2014-01-04',\n",
       "               '2014-01-05', '2014-01-06', '2014-01-09', '2014-01-10',\n",
       "               '2014-01-11', '2014-01-12',\n",
       "               ...\n",
       "               '2019-09-21', '2019-09-22', '2019-09-23', '2019-09-24',\n",
       "               '2019-09-25', '2019-09-26', '2019-09-28', '2019-09-29',\n",
       "               '2019-09-30', '2019-09-27'],\n",
       "              dtype='datetime64[ns]', name='start_day', length=2285, freq=None)"
      ]
     },
     "execution_count": 29,
     "metadata": {},
     "output_type": "execute_result"
    }
   ],
   "source": [
    "divvy_daily_trips['TRIP ID'].index"
   ]
  },
  {
   "cell_type": "markdown",
   "metadata": {},
   "source": [
    "So we can't even force the frequency."
   ]
  },
  {
   "cell_type": "code",
   "execution_count": 30,
   "metadata": {},
   "outputs": [
    {
     "ename": "ValueError",
     "evalue": "Inferred frequency None from passed values does not conform to passed frequency D",
     "output_type": "error",
     "traceback": [
      "\u001b[1;31m---------------------------------------------------------------------------\u001b[0m",
      "\u001b[1;31mValueError\u001b[0m                                Traceback (most recent call last)",
      "\u001b[1;32m~\\AppData\\Local\\Continuum\\anaconda3\\lib\\site-packages\\pandas\\core\\arrays\\datetimelike.py\u001b[0m in \u001b[0;36m_validate_frequency\u001b[1;34m(cls, index, freq, **kwargs)\u001b[0m\n\u001b[0;32m    883\u001b[0m             \u001b[1;32mif\u001b[0m \u001b[1;32mnot\u001b[0m \u001b[0mnp\u001b[0m\u001b[1;33m.\u001b[0m\u001b[0marray_equal\u001b[0m\u001b[1;33m(\u001b[0m\u001b[0mindex\u001b[0m\u001b[1;33m.\u001b[0m\u001b[0masi8\u001b[0m\u001b[1;33m,\u001b[0m \u001b[0mon_freq\u001b[0m\u001b[1;33m.\u001b[0m\u001b[0masi8\u001b[0m\u001b[1;33m)\u001b[0m\u001b[1;33m:\u001b[0m\u001b[1;33m\u001b[0m\u001b[1;33m\u001b[0m\u001b[0m\n\u001b[1;32m--> 884\u001b[1;33m                 \u001b[1;32mraise\u001b[0m \u001b[0mValueError\u001b[0m\u001b[1;33m\u001b[0m\u001b[1;33m\u001b[0m\u001b[0m\n\u001b[0m\u001b[0;32m    885\u001b[0m         \u001b[1;32mexcept\u001b[0m \u001b[0mValueError\u001b[0m \u001b[1;32mas\u001b[0m \u001b[0me\u001b[0m\u001b[1;33m:\u001b[0m\u001b[1;33m\u001b[0m\u001b[1;33m\u001b[0m\u001b[0m\n",
      "\u001b[1;31mValueError\u001b[0m: ",
      "\nDuring handling of the above exception, another exception occurred:\n",
      "\u001b[1;31mValueError\u001b[0m                                Traceback (most recent call last)",
      "\u001b[1;32m<ipython-input-30-0b54ea53dce0>\u001b[0m in \u001b[0;36m<module>\u001b[1;34m\u001b[0m\n\u001b[1;32m----> 1\u001b[1;33m \u001b[0mdivvy_daily_trips\u001b[0m\u001b[1;33m[\u001b[0m\u001b[1;34m'TRIP ID'\u001b[0m\u001b[1;33m]\u001b[0m\u001b[1;33m.\u001b[0m\u001b[0mindex\u001b[0m\u001b[1;33m.\u001b[0m\u001b[0mfreq\u001b[0m \u001b[1;33m=\u001b[0m \u001b[1;34m'1D'\u001b[0m\u001b[1;33m\u001b[0m\u001b[1;33m\u001b[0m\u001b[0m\n\u001b[0m",
      "\u001b[1;32m~\\AppData\\Local\\Continuum\\anaconda3\\lib\\site-packages\\pandas\\core\\indexes\\datetimelike.py\u001b[0m in \u001b[0;36mfreq\u001b[1;34m(self, value)\u001b[0m\n\u001b[0;32m     84\u001b[0m     \u001b[1;32mdef\u001b[0m \u001b[0mfreq\u001b[0m\u001b[1;33m(\u001b[0m\u001b[0mself\u001b[0m\u001b[1;33m,\u001b[0m \u001b[0mvalue\u001b[0m\u001b[1;33m)\u001b[0m\u001b[1;33m:\u001b[0m\u001b[1;33m\u001b[0m\u001b[1;33m\u001b[0m\u001b[0m\n\u001b[0;32m     85\u001b[0m         \u001b[1;31m# validation is handled by _data setter\u001b[0m\u001b[1;33m\u001b[0m\u001b[1;33m\u001b[0m\u001b[1;33m\u001b[0m\u001b[0m\n\u001b[1;32m---> 86\u001b[1;33m         \u001b[0mself\u001b[0m\u001b[1;33m.\u001b[0m\u001b[0m_data\u001b[0m\u001b[1;33m.\u001b[0m\u001b[0mfreq\u001b[0m \u001b[1;33m=\u001b[0m \u001b[0mvalue\u001b[0m\u001b[1;33m\u001b[0m\u001b[1;33m\u001b[0m\u001b[0m\n\u001b[0m\u001b[0;32m     87\u001b[0m \u001b[1;33m\u001b[0m\u001b[0m\n\u001b[0;32m     88\u001b[0m     \u001b[1;33m@\u001b[0m\u001b[0mproperty\u001b[0m\u001b[1;33m\u001b[0m\u001b[1;33m\u001b[0m\u001b[0m\n",
      "\u001b[1;32m~\\AppData\\Local\\Continuum\\anaconda3\\lib\\site-packages\\pandas\\core\\arrays\\datetimelike.py\u001b[0m in \u001b[0;36mfreq\u001b[1;34m(self, value)\u001b[0m\n\u001b[0;32m    820\u001b[0m         \u001b[1;32mif\u001b[0m \u001b[0mvalue\u001b[0m \u001b[1;32mis\u001b[0m \u001b[1;32mnot\u001b[0m \u001b[1;32mNone\u001b[0m\u001b[1;33m:\u001b[0m\u001b[1;33m\u001b[0m\u001b[1;33m\u001b[0m\u001b[0m\n\u001b[0;32m    821\u001b[0m             \u001b[0mvalue\u001b[0m \u001b[1;33m=\u001b[0m \u001b[0mfrequencies\u001b[0m\u001b[1;33m.\u001b[0m\u001b[0mto_offset\u001b[0m\u001b[1;33m(\u001b[0m\u001b[0mvalue\u001b[0m\u001b[1;33m)\u001b[0m\u001b[1;33m\u001b[0m\u001b[1;33m\u001b[0m\u001b[0m\n\u001b[1;32m--> 822\u001b[1;33m             \u001b[0mself\u001b[0m\u001b[1;33m.\u001b[0m\u001b[0m_validate_frequency\u001b[0m\u001b[1;33m(\u001b[0m\u001b[0mself\u001b[0m\u001b[1;33m,\u001b[0m \u001b[0mvalue\u001b[0m\u001b[1;33m)\u001b[0m\u001b[1;33m\u001b[0m\u001b[1;33m\u001b[0m\u001b[0m\n\u001b[0m\u001b[0;32m    823\u001b[0m \u001b[1;33m\u001b[0m\u001b[0m\n\u001b[0;32m    824\u001b[0m         \u001b[0mself\u001b[0m\u001b[1;33m.\u001b[0m\u001b[0m_freq\u001b[0m \u001b[1;33m=\u001b[0m \u001b[0mvalue\u001b[0m\u001b[1;33m\u001b[0m\u001b[1;33m\u001b[0m\u001b[0m\n",
      "\u001b[1;32m~\\AppData\\Local\\Continuum\\anaconda3\\lib\\site-packages\\pandas\\core\\arrays\\datetimelike.py\u001b[0m in \u001b[0;36m_validate_frequency\u001b[1;34m(cls, index, freq, **kwargs)\u001b[0m\n\u001b[0;32m    895\u001b[0m             raise ValueError('Inferred frequency {infer} from passed values '\n\u001b[0;32m    896\u001b[0m                              \u001b[1;34m'does not conform to passed frequency {passed}'\u001b[0m\u001b[1;33m\u001b[0m\u001b[1;33m\u001b[0m\u001b[0m\n\u001b[1;32m--> 897\u001b[1;33m                              .format(infer=inferred, passed=freq.freqstr))\n\u001b[0m\u001b[0;32m    898\u001b[0m \u001b[1;33m\u001b[0m\u001b[0m\n\u001b[0;32m    899\u001b[0m     \u001b[1;31m# monotonicity/uniqueness properties are called via frequencies.infer_freq,\u001b[0m\u001b[1;33m\u001b[0m\u001b[1;33m\u001b[0m\u001b[1;33m\u001b[0m\u001b[0m\n",
      "\u001b[1;31mValueError\u001b[0m: Inferred frequency None from passed values does not conform to passed frequency D"
     ]
    }
   ],
   "source": [
    "divvy_daily_trips['TRIP ID'].index.freq = '1D'"
   ]
  },
  {
   "cell_type": "code",
   "execution_count": 32,
   "metadata": {},
   "outputs": [
    {
     "data": {
      "text/plain": [
       "DatetimeIndex(['2013-06-27', '2013-06-28', '2013-06-29', '2013-06-30',\n",
       "               '2013-07-01', '2013-07-02', '2013-07-03', '2013-07-04',\n",
       "               '2013-07-05', '2013-07-06',\n",
       "               ...\n",
       "               '2019-09-21', '2019-09-22', '2019-09-23', '2019-09-24',\n",
       "               '2019-09-25', '2019-09-26', '2019-09-27', '2019-09-28',\n",
       "               '2019-09-29', '2019-09-30'],\n",
       "              dtype='datetime64[ns]', name='start_day', length=2287, freq='D')"
      ]
     },
     "execution_count": 32,
     "metadata": {},
     "output_type": "execute_result"
    }
   ],
   "source": [
    "divvy_daily_trips['TRIP ID'].resample('1D').median().index"
   ]
  },
  {
   "cell_type": "markdown",
   "metadata": {},
   "source": [
    "Re-sampling partly solves the problem. It means that there is a NaN value for those dates, which we can fill with a zero."
   ]
  },
  {
   "cell_type": "code",
   "execution_count": 35,
   "metadata": {},
   "outputs": [],
   "source": [
    "trips = divvy_daily_trips['TRIP ID'].resample('1D').median().fillna(0)"
   ]
  },
  {
   "cell_type": "code",
   "execution_count": 40,
   "metadata": {},
   "outputs": [
    {
     "data": {
      "image/png": "[encoded data removed]",
      "text/plain": [
       "<Figure size 432x288 with 4 Axes>"
      ]
     },
     "metadata": {
      "needs_background": "light"
     },
     "output_type": "display_data"
    }
   ],
   "source": [
    "trips_season = statsmodels.tsa.seasonal.seasonal_decompose(trips, period=365)\n",
    "trips_season.plot();"
   ]
  },
  {
   "cell_type": "code",
   "execution_count": 47,
   "metadata": {},
   "outputs": [
    {
     "data": {
      "image/png": "[encoded data removed]",
      "text/plain": [
       "<Figure size 432x288 with 1 Axes>"
      ]
     },
     "execution_count": 47,
     "metadata": {},
     "output_type": "execute_result"
    },
    {
     "data": {
      "image/png": "[encoded data removed]",
      "text/plain": [
       "<Figure size 432x288 with 1 Axes>"
      ]
     },
     "metadata": {
      "needs_background": "light"
     },
     "output_type": "display_data"
    }
   ],
   "source": [
    "statsmodels.graphics.tsaplots.plot_acf(trips_season.trend[trips_season.trend.notnull()])"
   ]
  },
  {
   "cell_type": "code",
   "execution_count": 48,
   "metadata": {},
   "outputs": [
    {
     "data": {
      "image/png": "[encoded data removed]",
      "text/plain": [
       "<Figure size 432x288 with 1 Axes>"
      ]
     },
     "execution_count": 48,
     "metadata": {},
     "output_type": "execute_result"
    },
    {
     "data": {
      "image/png": "[encoded data removed]",
      "text/plain": [
       "<Figure size 432x288 with 1 Axes>"
      ]
     },
     "metadata": {
      "needs_background": "light"
     },
     "output_type": "display_data"
    }
   ],
   "source": [
    "statsmodels.graphics.tsaplots.plot_pacf(trips_season.trend[trips_season.trend.notnull()])"
   ]
  },
  {
   "cell_type": "code",
   "execution_count": 43,
   "metadata": {},
   "outputs": [
    {
     "data": {
      "text/plain": [
       "0.9999765590040852"
      ]
     },
     "execution_count": 43,
     "metadata": {},
     "output_type": "execute_result"
    }
   ],
   "source": [
    "trips_season.trend.autocorr()"
   ]
  },
  {
   "cell_type": "code",
   "execution_count": 44,
   "metadata": {},
   "outputs": [
    {
     "data": {
      "text/plain": [
       "<matplotlib.axes._subplots.AxesSubplot at 0x2351218c5c0>"
      ]
     },
     "execution_count": 44,
     "metadata": {},
     "output_type": "execute_result"
    },
    {
     "data": {
      "image/png": "[encoded data removed]",
      "text/plain": [
       "<Figure size 432x288 with 1 Axes>"
      ]
     },
     "metadata": {
      "needs_background": "light"
     },
     "output_type": "display_data"
    }
   ],
   "source": [
    "trips_season.seasonal.plot()"
   ]
  },
  {
   "cell_type": "code",
   "execution_count": 45,
   "metadata": {},
   "outputs": [
    {
     "data": {
      "text/plain": [
       "<matplotlib.axes._subplots.AxesSubplot at 0x235122264a8>"
      ]
     },
     "execution_count": 45,
     "metadata": {},
     "output_type": "execute_result"
    },
    {
     "data": {
      "image/png": "[encoded data removed]",
      "text/plain": [
       "<Figure size 432x288 with 1 Axes>"
      ]
     },
     "metadata": {
      "needs_background": "light"
     },
     "output_type": "display_data"
    }
   ],
   "source": [
    "trips_season.seasonal[\"2016\"].plot()"
   ]
  },
  {
   "cell_type": "code",
   "execution_count": 46,
   "metadata": {},
   "outputs": [
    {
     "data": {
      "text/plain": [
       "<matplotlib.axes._subplots.AxesSubplot at 0x235134edfd0>"
      ]
     },
     "execution_count": 46,
     "metadata": {},
     "output_type": "execute_result"
    },
    {
     "data": {
      "image/png": "[encoded data removed]",
      "text/plain": [
       "<Figure size 432x288 with 1 Axes>"
      ]
     },
     "metadata": {
      "needs_background": "light"
     },
     "output_type": "display_data"
    }
   ],
   "source": [
    "trips_season.seasonal[\"2015\"].plot()"
   ]
  },
  {
   "cell_type": "code",
   "execution_count": 49,
   "metadata": {},
   "outputs": [
    {
     "data": {
      "image/png": "[encoded data removed]",
      "text/plain": [
       "<Figure size 432x288 with 1 Axes>"
      ]
     },
     "execution_count": 49,
     "metadata": {},
     "output_type": "execute_result"
    },
    {
     "data": {
      "image/png": "[encoded data removed]",
      "text/plain": [
       "<Figure size 432x288 with 1 Axes>"
      ]
     },
     "metadata": {
      "needs_background": "light"
     },
     "output_type": "display_data"
    }
   ],
   "source": [
    "statsmodels.graphics.tsaplots.plot_acf(trips_season.seasonal[trips_season.seasonal.notnull()])"
   ]
  },
  {
   "cell_type": "code",
   "execution_count": 50,
   "metadata": {},
   "outputs": [
    {
     "data": {
      "image/png": "[encoded data removed]",
      "text/plain": [
       "<Figure size 432x288 with 1 Axes>"
      ]
     },
     "execution_count": 50,
     "metadata": {},
     "output_type": "execute_result"
    },
    {
     "data": {
      "image/png": "[encoded data removed]",
      "text/plain": [
       "<Figure size 432x288 with 1 Axes>"
      ]
     },
     "metadata": {
      "needs_background": "light"
     },
     "output_type": "display_data"
    }
   ],
   "source": [
    "statsmodels.graphics.tsaplots.plot_pacf(trips_season.seasonal[trips_season.seasonal.notnull()])"
   ]
  },
  {
   "cell_type": "code",
   "execution_count": 52,
   "metadata": {},
   "outputs": [
    {
     "data": {
      "image/png": "[encoded data removed]",
      "text/plain": [
       "<Figure size 432x288 with 1 Axes>"
      ]
     },
     "metadata": {
      "needs_background": "light"
     },
     "output_type": "display_data"
    }
   ],
   "source": [
    "statsmodels.graphics.tsaplots.plot_acf(trips_season.resid[trips_season.resid.notnull()]);"
   ]
  },
  {
   "cell_type": "code",
   "execution_count": 53,
   "metadata": {},
   "outputs": [
    {
     "data": {
      "image/png": "[encoded data removed]",
      "text/plain": [
       "<Figure size 432x288 with 1 Axes>"
      ]
     },
     "metadata": {
      "needs_background": "light"
     },
     "output_type": "display_data"
    }
   ],
   "source": [
    "statsmodels.graphics.tsaplots.plot_pacf(trips_season.resid[trips_season.resid.notnull()]);"
   ]
  },
  {
   "cell_type": "markdown",
   "metadata": {},
   "source": [
    "There is some autocorrelation -- it looks like about 40% of the number of trips each day is somehow related to the number of trips on the day before. But that's not particularly interesting on its own."
   ]
  },
  {
   "cell_type": "markdown",
   "metadata": {},
   "source": [
    "# Incorporating other data sources\n",
    "\n",
    "We came up with a list of possible other factors:\n",
    "\n",
    "- The weather\n",
    "- The number of cars\n",
    "- The number of cycling competitions and the prizes\n",
    "- How many people made new years resolutions\n",
    "\n",
    "Weather is easy to work with:"
   ]
  },
  {
   "cell_type": "code",
   "execution_count": 91,
   "metadata": {},
   "outputs": [
    {
     "data": {
      "text/html": [
       "<div>\n",
       "<style scoped>\n",
       "    .dataframe tbody tr th:only-of-type {\n",
       "        vertical-align: middle;\n",
       "    }\n",
       "\n",
       "    .dataframe tbody tr th {\n",
       "        vertical-align: top;\n",
       "    }\n",
       "\n",
       "    .dataframe thead th {\n",
       "        text-align: right;\n",
       "    }\n",
       "</style>\n",
       "<table border=\"1\" class=\"dataframe\">\n",
       "  <thead>\n",
       "    <tr style=\"text-align: right;\">\n",
       "      <th></th>\n",
       "      <th>AWND</th>\n",
       "      <th>PRCP</th>\n",
       "      <th>SNOW</th>\n",
       "      <th>SNWD</th>\n",
       "      <th>TAVG</th>\n",
       "      <th>TMAX</th>\n",
       "      <th>TMIN</th>\n",
       "    </tr>\n",
       "    <tr>\n",
       "      <th>DATE</th>\n",
       "      <th></th>\n",
       "      <th></th>\n",
       "      <th></th>\n",
       "      <th></th>\n",
       "      <th></th>\n",
       "      <th></th>\n",
       "      <th></th>\n",
       "    </tr>\n",
       "  </thead>\n",
       "  <tbody>\n",
       "    <tr>\n",
       "      <th>2015-08-28</th>\n",
       "      <td>2.3</td>\n",
       "      <td>0.0</td>\n",
       "      <td>0.0</td>\n",
       "      <td>0.0</td>\n",
       "      <td>18.6</td>\n",
       "      <td>22.2</td>\n",
       "      <td>13.3</td>\n",
       "    </tr>\n",
       "    <tr>\n",
       "      <th>2016-12-09</th>\n",
       "      <td>4.4</td>\n",
       "      <td>0.0</td>\n",
       "      <td>0.0</td>\n",
       "      <td>0.0</td>\n",
       "      <td>-5.1</td>\n",
       "      <td>-3.8</td>\n",
       "      <td>-7.7</td>\n",
       "    </tr>\n",
       "    <tr>\n",
       "      <th>2016-06-01</th>\n",
       "      <td>2.9</td>\n",
       "      <td>10.7</td>\n",
       "      <td>0.0</td>\n",
       "      <td>0.0</td>\n",
       "      <td>20.1</td>\n",
       "      <td>26.1</td>\n",
       "      <td>16.7</td>\n",
       "    </tr>\n",
       "    <tr>\n",
       "      <th>2016-01-05</th>\n",
       "      <td>4.5</td>\n",
       "      <td>0.0</td>\n",
       "      <td>0.0</td>\n",
       "      <td>30.0</td>\n",
       "      <td>-3.6</td>\n",
       "      <td>0.6</td>\n",
       "      <td>-8.2</td>\n",
       "    </tr>\n",
       "    <tr>\n",
       "      <th>2019-04-10</th>\n",
       "      <td>8.0</td>\n",
       "      <td>3.3</td>\n",
       "      <td>0.0</td>\n",
       "      <td>0.0</td>\n",
       "      <td>4.7</td>\n",
       "      <td>3.9</td>\n",
       "      <td>1.1</td>\n",
       "    </tr>\n",
       "  </tbody>\n",
       "</table>\n",
       "</div>"
      ],
      "text/plain": [
       "            AWND  PRCP  SNOW  SNWD  TAVG  TMAX  TMIN\n",
       "DATE                                                \n",
       "2015-08-28   2.3   0.0   0.0   0.0  18.6  22.2  13.3\n",
       "2016-12-09   4.4   0.0   0.0   0.0  -5.1  -3.8  -7.7\n",
       "2016-06-01   2.9  10.7   0.0   0.0  20.1  26.1  16.7\n",
       "2016-01-05   4.5   0.0   0.0  30.0  -3.6   0.6  -8.2\n",
       "2019-04-10   8.0   3.3   0.0   0.0   4.7   3.9   1.1"
      ]
     },
     "execution_count": 91,
     "metadata": {},
     "output_type": "execute_result"
    }
   ],
   "source": [
    "weather = pd.read_csv('2136141.csv', parse_dates=['DATE'], index_col='DATE')\n",
    "weather = weather[weather.index.isin(trips.index)]\n",
    "weather = weather[['AWND','PRCP' ,'SNOW' ,'SNWD' ,'TAVG' ,'TMAX' ,'TMIN']].copy()\n",
    "weather.sample(5)"
   ]
  },
  {
   "cell_type": "code",
   "execution_count": 92,
   "metadata": {},
   "outputs": [
    {
     "data": {
      "text/plain": [
       "Series([], Freq: D, Name: TRIP ID, dtype: float64)"
      ]
     },
     "execution_count": 92,
     "metadata": {},
     "output_type": "execute_result"
    }
   ],
   "source": [
    "trips[~trips.index.isin(weather.index)]"
   ]
  },
  {
   "cell_type": "markdown",
   "metadata": {},
   "source": [
    "There are no missing days, so we can force the frequency."
   ]
  },
  {
   "cell_type": "code",
   "execution_count": 93,
   "metadata": {},
   "outputs": [],
   "source": [
    "weather.index.freq = '1D'"
   ]
  },
  {
   "cell_type": "code",
   "execution_count": 94,
   "metadata": {},
   "outputs": [
    {
     "data": {
      "text/plain": [
       "DatetimeIndex(['2013-06-27', '2013-06-28', '2013-06-29', '2013-06-30',\n",
       "               '2013-07-01', '2013-07-02', '2013-07-03', '2013-07-04',\n",
       "               '2013-07-05', '2013-07-06',\n",
       "               ...\n",
       "               '2019-09-21', '2019-09-22', '2019-09-23', '2019-09-24',\n",
       "               '2019-09-25', '2019-09-26', '2019-09-27', '2019-09-28',\n",
       "               '2019-09-29', '2019-09-30'],\n",
       "              dtype='datetime64[ns]', name='DATE', length=2287, freq='D')"
      ]
     },
     "execution_count": 94,
     "metadata": {},
     "output_type": "execute_result"
    }
   ],
   "source": [
    "weather.index"
   ]
  },
  {
   "cell_type": "code",
   "execution_count": 95,
   "metadata": {},
   "outputs": [
    {
     "data": {
      "text/plain": [
       "<matplotlib.axes._subplots.AxesSubplot at 0x23515ea59b0>"
      ]
     },
     "execution_count": 95,
     "metadata": {},
     "output_type": "execute_result"
    },
    {
     "data": {
      "image/png": "[encoded data removed]",
      "text/plain": [
       "<Figure size 432x288 with 1 Axes>"
      ]
     },
     "metadata": {
      "needs_background": "light"
     },
     "output_type": "display_data"
    }
   ],
   "source": [
    "weather.TAVG.plot()"
   ]
  },
  {
   "cell_type": "markdown",
   "metadata": {},
   "source": [
    "The thing we are trying to predict has had any seasonality taken out of it; so we want\n",
    "to use seasonality-removed weather information to predict it. \n",
    "\n",
    "(In other words: how many of the extra bicycle hires were caused by unusually warms days for that time of year.)"
   ]
  },
  {
   "cell_type": "code",
   "execution_count": 98,
   "metadata": {},
   "outputs": [
    {
     "data": {
      "text/html": [
       "<div>\n",
       "<style scoped>\n",
       "    .dataframe tbody tr th:only-of-type {\n",
       "        vertical-align: middle;\n",
       "    }\n",
       "\n",
       "    .dataframe tbody tr th {\n",
       "        vertical-align: top;\n",
       "    }\n",
       "\n",
       "    .dataframe thead th {\n",
       "        text-align: right;\n",
       "    }\n",
       "</style>\n",
       "<table border=\"1\" class=\"dataframe\">\n",
       "  <thead>\n",
       "    <tr style=\"text-align: right;\">\n",
       "      <th></th>\n",
       "      <th>AWND</th>\n",
       "      <th>PRCP</th>\n",
       "      <th>SNOW</th>\n",
       "      <th>SNWD</th>\n",
       "      <th>TAVG</th>\n",
       "      <th>TMAX</th>\n",
       "      <th>TMIN</th>\n",
       "    </tr>\n",
       "    <tr>\n",
       "      <th>DATE</th>\n",
       "      <th></th>\n",
       "      <th></th>\n",
       "      <th></th>\n",
       "      <th></th>\n",
       "      <th></th>\n",
       "      <th></th>\n",
       "      <th></th>\n",
       "    </tr>\n",
       "  </thead>\n",
       "  <tbody>\n",
       "    <tr>\n",
       "      <th>2016-07-09</th>\n",
       "      <td>5.557537</td>\n",
       "      <td>2.879534</td>\n",
       "      <td>3.005271</td>\n",
       "      <td>14.749318</td>\n",
       "      <td>10.575110</td>\n",
       "      <td>12.688992</td>\n",
       "      <td>6.919674</td>\n",
       "    </tr>\n",
       "    <tr>\n",
       "      <th>2014-07-31</th>\n",
       "      <td>4.501263</td>\n",
       "      <td>2.878986</td>\n",
       "      <td>3.052395</td>\n",
       "      <td>14.705482</td>\n",
       "      <td>9.215494</td>\n",
       "      <td>15.786910</td>\n",
       "      <td>3.191400</td>\n",
       "    </tr>\n",
       "    <tr>\n",
       "      <th>2017-12-13</th>\n",
       "      <td>6.717098</td>\n",
       "      <td>0.225013</td>\n",
       "      <td>2.235956</td>\n",
       "      <td>9.894524</td>\n",
       "      <td>5.737960</td>\n",
       "      <td>12.210855</td>\n",
       "      <td>3.038962</td>\n",
       "    </tr>\n",
       "    <tr>\n",
       "      <th>2015-11-27</th>\n",
       "      <td>6.217866</td>\n",
       "      <td>18.026548</td>\n",
       "      <td>-23.164044</td>\n",
       "      <td>-24.105476</td>\n",
       "      <td>16.286179</td>\n",
       "      <td>22.782581</td>\n",
       "      <td>9.963400</td>\n",
       "    </tr>\n",
       "    <tr>\n",
       "      <th>2015-06-07</th>\n",
       "      <td>5.155181</td>\n",
       "      <td>9.268137</td>\n",
       "      <td>3.457326</td>\n",
       "      <td>16.243565</td>\n",
       "      <td>9.809741</td>\n",
       "      <td>15.422033</td>\n",
       "      <td>5.780112</td>\n",
       "    </tr>\n",
       "  </tbody>\n",
       "</table>\n",
       "</div>"
      ],
      "text/plain": [
       "                AWND       PRCP       SNOW       SNWD       TAVG       TMAX  \\\n",
       "DATE                                                                          \n",
       "2016-07-09  5.557537   2.879534   3.005271  14.749318  10.575110  12.688992   \n",
       "2014-07-31  4.501263   2.878986   3.052395  14.705482   9.215494  15.786910   \n",
       "2017-12-13  6.717098   0.225013   2.235956   9.894524   5.737960  12.210855   \n",
       "2015-11-27  6.217866  18.026548 -23.164044 -24.105476  16.286179  22.782581   \n",
       "2015-06-07  5.155181   9.268137   3.457326  16.243565   9.809741  15.422033   \n",
       "\n",
       "                TMIN  \n",
       "DATE                  \n",
       "2016-07-09  6.919674  \n",
       "2014-07-31  3.191400  \n",
       "2017-12-13  3.038962  \n",
       "2015-11-27  9.963400  \n",
       "2015-06-07  5.780112  "
      ]
     },
     "execution_count": 98,
     "metadata": {},
     "output_type": "execute_result"
    }
   ],
   "source": [
    "weather_seasonal = {}\n",
    "for col in ['AWND','PRCP' ,'SNOW' ,'SNWD' ,'TAVG' ,'TMAX' ,'TMIN']:\n",
    "    temp = statsmodels.tsa.seasonal.seasonal_decompose(weather[col], period=365)\n",
    "    #print(col)\n",
    "    weather_seasonal[col] = temp.trend + temp.resid\n",
    "    #print(temp.trend)\n",
    "weather_df = pd.DataFrame(weather_seasonal)\n",
    "weather_df = weather_df[weather_df['TAVG'].notnull()].copy()\n",
    "weather_df.sample(5)"
   ]
  },
  {
   "cell_type": "code",
   "execution_count": 99,
   "metadata": {},
   "outputs": [
    {
     "data": {
      "text/plain": [
       "<matplotlib.axes._subplots.AxesSubplot at 0x23515da96a0>"
      ]
     },
     "execution_count": 99,
     "metadata": {},
     "output_type": "execute_result"
    },
    {
     "data": {
      "image/png": "[encoded data removed]",
      "text/plain": [
       "<Figure size 432x288 with 1 Axes>"
      ]
     },
     "metadata": {
      "needs_background": "light"
     },
     "output_type": "display_data"
    }
   ],
   "source": [
    "weather_seasonal['TAVG'].plot()"
   ]
  },
  {
   "cell_type": "markdown",
   "metadata": {},
   "source": [
    "We can now create a data frame with the values we might want to try to predict and the weather information. We can use\n",
    "various kinds of correlation."
   ]
  },
  {
   "cell_type": "code",
   "execution_count": 101,
   "metadata": {},
   "outputs": [
    {
     "data": {
      "text/html": [
       "<div>\n",
       "<style scoped>\n",
       "    .dataframe tbody tr th:only-of-type {\n",
       "        vertical-align: middle;\n",
       "    }\n",
       "\n",
       "    .dataframe tbody tr th {\n",
       "        vertical-align: top;\n",
       "    }\n",
       "\n",
       "    .dataframe thead th {\n",
       "        text-align: right;\n",
       "    }\n",
       "</style>\n",
       "<table border=\"1\" class=\"dataframe\">\n",
       "  <thead>\n",
       "    <tr style=\"text-align: right;\">\n",
       "      <th></th>\n",
       "      <th>AWND</th>\n",
       "      <th>PRCP</th>\n",
       "      <th>SNOW</th>\n",
       "      <th>SNWD</th>\n",
       "      <th>TAVG</th>\n",
       "      <th>TMAX</th>\n",
       "      <th>TMIN</th>\n",
       "      <th>trips_delta</th>\n",
       "      <th>trips_resid</th>\n",
       "    </tr>\n",
       "    <tr>\n",
       "      <th>DATE</th>\n",
       "      <th></th>\n",
       "      <th></th>\n",
       "      <th></th>\n",
       "      <th></th>\n",
       "      <th></th>\n",
       "      <th></th>\n",
       "      <th></th>\n",
       "      <th></th>\n",
       "      <th></th>\n",
       "    </tr>\n",
       "  </thead>\n",
       "  <tbody>\n",
       "    <tr>\n",
       "      <th>2013-12-26</th>\n",
       "      <td>4.235062</td>\n",
       "      <td>1.538374</td>\n",
       "      <td>2.839335</td>\n",
       "      <td>23.512788</td>\n",
       "      <td>5.929129</td>\n",
       "      <td>12.459896</td>\n",
       "      <td>-0.537075</td>\n",
       "      <td>8398.741583</td>\n",
       "      <td>3982.067610</td>\n",
       "    </tr>\n",
       "    <tr>\n",
       "      <th>2013-12-27</th>\n",
       "      <td>3.018121</td>\n",
       "      <td>1.279424</td>\n",
       "      <td>3.339335</td>\n",
       "      <td>10.179455</td>\n",
       "      <td>10.246435</td>\n",
       "      <td>15.926335</td>\n",
       "      <td>4.330596</td>\n",
       "      <td>8514.105510</td>\n",
       "      <td>4057.524688</td>\n",
       "    </tr>\n",
       "    <tr>\n",
       "      <th>2013-12-28</th>\n",
       "      <td>4.567436</td>\n",
       "      <td>-6.170347</td>\n",
       "      <td>-4.660665</td>\n",
       "      <td>10.179455</td>\n",
       "      <td>16.530407</td>\n",
       "      <td>23.094554</td>\n",
       "      <td>10.780870</td>\n",
       "      <td>8860.936560</td>\n",
       "      <td>4366.985875</td>\n",
       "    </tr>\n",
       "    <tr>\n",
       "      <th>2013-12-29</th>\n",
       "      <td>4.533144</td>\n",
       "      <td>2.629790</td>\n",
       "      <td>0.006002</td>\n",
       "      <td>5.179455</td>\n",
       "      <td>13.899037</td>\n",
       "      <td>16.582454</td>\n",
       "      <td>1.515984</td>\n",
       "      <td>7033.068523</td>\n",
       "      <td>2501.923318</td>\n",
       "    </tr>\n",
       "    <tr>\n",
       "      <th>2013-12-30</th>\n",
       "      <td>3.331363</td>\n",
       "      <td>2.746456</td>\n",
       "      <td>2.339335</td>\n",
       "      <td>1.846122</td>\n",
       "      <td>3.618444</td>\n",
       "      <td>9.051677</td>\n",
       "      <td>-3.048901</td>\n",
       "      <td>7843.687702</td>\n",
       "      <td>3291.682222</td>\n",
       "    </tr>\n",
       "    <tr>\n",
       "      <th>2013-12-31</th>\n",
       "      <td>2.496706</td>\n",
       "      <td>9.182118</td>\n",
       "      <td>66.672669</td>\n",
       "      <td>27.679455</td>\n",
       "      <td>4.620818</td>\n",
       "      <td>8.105741</td>\n",
       "      <td>0.037217</td>\n",
       "      <td>7712.314642</td>\n",
       "      <td>3128.199574</td>\n",
       "    </tr>\n",
       "    <tr>\n",
       "      <th>2014-01-01</th>\n",
       "      <td>3.995701</td>\n",
       "      <td>4.548785</td>\n",
       "      <td>47.506002</td>\n",
       "      <td>69.346122</td>\n",
       "      <td>6.740681</td>\n",
       "      <td>10.877750</td>\n",
       "      <td>2.122834</td>\n",
       "      <td>7835.446149</td>\n",
       "      <td>3227.909163</td>\n",
       "    </tr>\n",
       "    <tr>\n",
       "      <th>2014-01-02</th>\n",
       "      <td>6.129948</td>\n",
       "      <td>7.465360</td>\n",
       "      <td>125.339335</td>\n",
       "      <td>130.179455</td>\n",
       "      <td>8.879037</td>\n",
       "      <td>11.766152</td>\n",
       "      <td>-1.390043</td>\n",
       "      <td>7553.992268</td>\n",
       "      <td>2913.400487</td>\n",
       "    </tr>\n",
       "    <tr>\n",
       "      <th>2014-01-03</th>\n",
       "      <td>6.713601</td>\n",
       "      <td>-0.079891</td>\n",
       "      <td>1.172669</td>\n",
       "      <td>171.846122</td>\n",
       "      <td>1.397850</td>\n",
       "      <td>11.233595</td>\n",
       "      <td>-8.670043</td>\n",
       "      <td>7047.591354</td>\n",
       "      <td>2373.226971</td>\n",
       "    </tr>\n",
       "    <tr>\n",
       "      <th>2014-01-04</th>\n",
       "      <td>5.230952</td>\n",
       "      <td>7.803442</td>\n",
       "      <td>56.839335</td>\n",
       "      <td>150.179455</td>\n",
       "      <td>8.815567</td>\n",
       "      <td>14.751540</td>\n",
       "      <td>7.499135</td>\n",
       "      <td>6050.975373</td>\n",
       "      <td>1344.178112</td>\n",
       "    </tr>\n",
       "    <tr>\n",
       "      <th>2014-01-05</th>\n",
       "      <td>6.314605</td>\n",
       "      <td>14.725543</td>\n",
       "      <td>179.839335</td>\n",
       "      <td>188.512788</td>\n",
       "      <td>11.633741</td>\n",
       "      <td>17.503595</td>\n",
       "      <td>-0.715477</td>\n",
       "      <td>5746.667610</td>\n",
       "      <td>1013.563501</td>\n",
       "    </tr>\n",
       "    <tr>\n",
       "      <th>2014-01-06</th>\n",
       "      <td>7.315792</td>\n",
       "      <td>2.808876</td>\n",
       "      <td>2.506002</td>\n",
       "      <td>221.846122</td>\n",
       "      <td>-1.299456</td>\n",
       "      <td>2.835650</td>\n",
       "      <td>-6.599586</td>\n",
       "      <td>5894.023775</td>\n",
       "      <td>1133.385418</td>\n",
       "    </tr>\n",
       "    <tr>\n",
       "      <th>2014-01-07</th>\n",
       "      <td>4.000222</td>\n",
       "      <td>2.803077</td>\n",
       "      <td>3.339335</td>\n",
       "      <td>200.179455</td>\n",
       "      <td>-1.084890</td>\n",
       "      <td>5.983367</td>\n",
       "      <td>-5.234427</td>\n",
       "      <td>6534.813729</td>\n",
       "      <td>1744.484962</td>\n",
       "    </tr>\n",
       "    <tr>\n",
       "      <th>2014-01-08</th>\n",
       "      <td>1.150085</td>\n",
       "      <td>-0.196923</td>\n",
       "      <td>-9.327331</td>\n",
       "      <td>206.012788</td>\n",
       "      <td>1.962873</td>\n",
       "      <td>7.766198</td>\n",
       "      <td>-4.321048</td>\n",
       "      <td>6854.857565</td>\n",
       "      <td>2031.789071</td>\n",
       "    </tr>\n",
       "    <tr>\n",
       "      <th>2014-01-09</th>\n",
       "      <td>1.799856</td>\n",
       "      <td>1.953077</td>\n",
       "      <td>2.839335</td>\n",
       "      <td>180.179455</td>\n",
       "      <td>1.977759</td>\n",
       "      <td>13.483641</td>\n",
       "      <td>-3.805659</td>\n",
       "      <td>6878.302770</td>\n",
       "      <td>2020.705510</td>\n",
       "    </tr>\n",
       "    <tr>\n",
       "      <th>2014-01-10</th>\n",
       "      <td>3.667162</td>\n",
       "      <td>19.686548</td>\n",
       "      <td>2.506002</td>\n",
       "      <td>185.179455</td>\n",
       "      <td>14.980453</td>\n",
       "      <td>20.470262</td>\n",
       "      <td>12.363793</td>\n",
       "      <td>6811.679939</td>\n",
       "      <td>1925.605966</td>\n",
       "    </tr>\n",
       "    <tr>\n",
       "      <th>2014-01-11</th>\n",
       "      <td>4.951135</td>\n",
       "      <td>1.936548</td>\n",
       "      <td>-20.827331</td>\n",
       "      <td>35.179455</td>\n",
       "      <td>16.015247</td>\n",
       "      <td>16.136700</td>\n",
       "      <td>11.432240</td>\n",
       "      <td>6649.897747</td>\n",
       "      <td>1749.160761</td>\n",
       "    </tr>\n",
       "    <tr>\n",
       "      <th>2014-01-12</th>\n",
       "      <td>5.717482</td>\n",
       "      <td>-0.113452</td>\n",
       "      <td>1.172669</td>\n",
       "      <td>1.846122</td>\n",
       "      <td>11.847941</td>\n",
       "      <td>18.704143</td>\n",
       "      <td>10.731464</td>\n",
       "      <td>6688.233364</td>\n",
       "      <td>1758.866240</td>\n",
       "    </tr>\n",
       "    <tr>\n",
       "      <th>2014-01-13</th>\n",
       "      <td>4.017893</td>\n",
       "      <td>2.136548</td>\n",
       "      <td>-8.160665</td>\n",
       "      <td>-23.153878</td>\n",
       "      <td>19.898855</td>\n",
       "      <td>24.005650</td>\n",
       "      <td>12.098131</td>\n",
       "      <td>8992.950259</td>\n",
       "      <td>4041.355738</td>\n",
       "    </tr>\n",
       "    <tr>\n",
       "      <th>2014-01-14</th>\n",
       "      <td>6.434834</td>\n",
       "      <td>3.052164</td>\n",
       "      <td>2.006002</td>\n",
       "      <td>-26.487212</td>\n",
       "      <td>14.515384</td>\n",
       "      <td>18.506152</td>\n",
       "      <td>8.914523</td>\n",
       "      <td>8357.485418</td>\n",
       "      <td>3378.789528</td>\n",
       "    </tr>\n",
       "    <tr>\n",
       "      <th>2014-01-15</th>\n",
       "      <td>5.369171</td>\n",
       "      <td>2.468831</td>\n",
       "      <td>2.506002</td>\n",
       "      <td>-14.820545</td>\n",
       "      <td>7.598718</td>\n",
       "      <td>10.406152</td>\n",
       "      <td>3.531418</td>\n",
       "      <td>7724.933364</td>\n",
       "      <td>2715.574459</td>\n",
       "    </tr>\n",
       "    <tr>\n",
       "      <th>2014-01-16</th>\n",
       "      <td>6.985747</td>\n",
       "      <td>2.502758</td>\n",
       "      <td>0.339335</td>\n",
       "      <td>-14.820545</td>\n",
       "      <td>10.163330</td>\n",
       "      <td>16.269805</td>\n",
       "      <td>6.296852</td>\n",
       "      <td>7917.800030</td>\n",
       "      <td>2875.863044</td>\n",
       "    </tr>\n",
       "    <tr>\n",
       "      <th>2014-01-17</th>\n",
       "      <td>4.585199</td>\n",
       "      <td>-0.175142</td>\n",
       "      <td>24.172669</td>\n",
       "      <td>-19.820545</td>\n",
       "      <td>7.328763</td>\n",
       "      <td>10.669029</td>\n",
       "      <td>2.479409</td>\n",
       "      <td>7878.547519</td>\n",
       "      <td>2800.196834</td>\n",
       "    </tr>\n",
       "    <tr>\n",
       "      <th>2014-01-18</th>\n",
       "      <td>2.901226</td>\n",
       "      <td>3.333899</td>\n",
       "      <td>54.172669</td>\n",
       "      <td>26.846122</td>\n",
       "      <td>6.309814</td>\n",
       "      <td>11.750079</td>\n",
       "      <td>0.362742</td>\n",
       "      <td>6353.187245</td>\n",
       "      <td>1231.425601</td>\n",
       "    </tr>\n",
       "    <tr>\n",
       "      <th>2014-01-19</th>\n",
       "      <td>6.168761</td>\n",
       "      <td>2.366548</td>\n",
       "      <td>-2.160665</td>\n",
       "      <td>73.512788</td>\n",
       "      <td>7.544517</td>\n",
       "      <td>17.601084</td>\n",
       "      <td>1.031920</td>\n",
       "      <td>5995.682679</td>\n",
       "      <td>843.715555</td>\n",
       "    </tr>\n",
       "    <tr>\n",
       "      <th>2014-01-20</th>\n",
       "      <td>4.636432</td>\n",
       "      <td>3.767324</td>\n",
       "      <td>55.506002</td>\n",
       "      <td>15.179455</td>\n",
       "      <td>12.046709</td>\n",
       "      <td>15.569531</td>\n",
       "      <td>1.249866</td>\n",
       "      <td>7152.520578</td>\n",
       "      <td>1973.446606</td>\n",
       "    </tr>\n",
       "    <tr>\n",
       "      <th>2014-01-21</th>\n",
       "      <td>6.770770</td>\n",
       "      <td>3.559470</td>\n",
       "      <td>56.172669</td>\n",
       "      <td>118.512788</td>\n",
       "      <td>2.146024</td>\n",
       "      <td>5.867476</td>\n",
       "      <td>-4.884518</td>\n",
       "      <td>6793.187245</td>\n",
       "      <td>1587.447519</td>\n",
       "    </tr>\n",
       "    <tr>\n",
       "      <th>2014-01-22</th>\n",
       "      <td>6.104468</td>\n",
       "      <td>2.792438</td>\n",
       "      <td>13.672669</td>\n",
       "      <td>101.846122</td>\n",
       "      <td>-0.905118</td>\n",
       "      <td>5.266700</td>\n",
       "      <td>-6.201413</td>\n",
       "      <td>6391.853912</td>\n",
       "      <td>1158.505966</td>\n",
       "    </tr>\n",
       "    <tr>\n",
       "      <th>2014-01-23</th>\n",
       "      <td>6.354377</td>\n",
       "      <td>-1.374229</td>\n",
       "      <td>1.172669</td>\n",
       "      <td>101.846122</td>\n",
       "      <td>-3.520871</td>\n",
       "      <td>1.485422</td>\n",
       "      <td>-9.617577</td>\n",
       "      <td>6827.473090</td>\n",
       "      <td>1563.133364</td>\n",
       "    </tr>\n",
       "    <tr>\n",
       "      <th>2014-01-24</th>\n",
       "      <td>8.254377</td>\n",
       "      <td>2.059105</td>\n",
       "      <td>5.339335</td>\n",
       "      <td>81.846122</td>\n",
       "      <td>-2.420095</td>\n",
       "      <td>10.302088</td>\n",
       "      <td>-9.899632</td>\n",
       "      <td>6656.995007</td>\n",
       "      <td>1364.586788</td>\n",
       "    </tr>\n",
       "    <tr>\n",
       "      <th>...</th>\n",
       "      <td>...</td>\n",
       "      <td>...</td>\n",
       "      <td>...</td>\n",
       "      <td>...</td>\n",
       "      <td>...</td>\n",
       "      <td>...</td>\n",
       "      <td>...</td>\n",
       "      <td>...</td>\n",
       "      <td>...</td>\n",
       "    </tr>\n",
       "    <tr>\n",
       "      <th>2019-03-03</th>\n",
       "      <td>5.423783</td>\n",
       "      <td>2.593488</td>\n",
       "      <td>-0.493998</td>\n",
       "      <td>-44.820545</td>\n",
       "      <td>8.073010</td>\n",
       "      <td>11.175285</td>\n",
       "      <td>-2.660591</td>\n",
       "      <td>7642.471720</td>\n",
       "      <td>-2520.900883</td>\n",
       "    </tr>\n",
       "    <tr>\n",
       "      <th>2019-03-04</th>\n",
       "      <td>5.807254</td>\n",
       "      <td>1.910155</td>\n",
       "      <td>-7.660665</td>\n",
       "      <td>-36.487212</td>\n",
       "      <td>0.290635</td>\n",
       "      <td>5.259896</td>\n",
       "      <td>-5.309586</td>\n",
       "      <td>8889.400030</td>\n",
       "      <td>-1280.380792</td>\n",
       "    </tr>\n",
       "    <tr>\n",
       "      <th>2019-03-05</th>\n",
       "      <td>5.675016</td>\n",
       "      <td>2.429379</td>\n",
       "      <td>5.839335</td>\n",
       "      <td>-44.820545</td>\n",
       "      <td>2.258033</td>\n",
       "      <td>6.392225</td>\n",
       "      <td>-0.940911</td>\n",
       "      <td>9329.472633</td>\n",
       "      <td>-852.138326</td>\n",
       "    </tr>\n",
       "    <tr>\n",
       "      <th>2019-03-06</th>\n",
       "      <td>4.158304</td>\n",
       "      <td>2.596045</td>\n",
       "      <td>3.339335</td>\n",
       "      <td>-36.487212</td>\n",
       "      <td>0.373741</td>\n",
       "      <td>5.957659</td>\n",
       "      <td>-4.507577</td>\n",
       "      <td>9122.647062</td>\n",
       "      <td>-1065.744719</td>\n",
       "    </tr>\n",
       "    <tr>\n",
       "      <th>2019-03-07</th>\n",
       "      <td>1.891409</td>\n",
       "      <td>1.662712</td>\n",
       "      <td>2.006002</td>\n",
       "      <td>-9.820545</td>\n",
       "      <td>1.805704</td>\n",
       "      <td>5.887933</td>\n",
       "      <td>-3.024518</td>\n",
       "      <td>9128.223775</td>\n",
       "      <td>-1074.847458</td>\n",
       "    </tr>\n",
       "    <tr>\n",
       "      <th>2019-03-08</th>\n",
       "      <td>1.258943</td>\n",
       "      <td>2.895908</td>\n",
       "      <td>5.839335</td>\n",
       "      <td>-9.820545</td>\n",
       "      <td>4.770088</td>\n",
       "      <td>10.017202</td>\n",
       "      <td>-0.125522</td>\n",
       "      <td>8616.432907</td>\n",
       "      <td>-1606.789011</td>\n",
       "    </tr>\n",
       "    <tr>\n",
       "      <th>2019-03-09</th>\n",
       "      <td>6.524879</td>\n",
       "      <td>13.962575</td>\n",
       "      <td>3.339335</td>\n",
       "      <td>10.179455</td>\n",
       "      <td>5.884608</td>\n",
       "      <td>11.750810</td>\n",
       "      <td>1.387309</td>\n",
       "      <td>5873.049802</td>\n",
       "      <td>-4366.051568</td>\n",
       "    </tr>\n",
       "    <tr>\n",
       "      <th>2019-03-10</th>\n",
       "      <td>8.524514</td>\n",
       "      <td>2.296274</td>\n",
       "      <td>1.672669</td>\n",
       "      <td>15.179455</td>\n",
       "      <td>8.847941</td>\n",
       "      <td>11.360399</td>\n",
       "      <td>5.285802</td>\n",
       "      <td>6900.413729</td>\n",
       "      <td>-3334.684901</td>\n",
       "    </tr>\n",
       "    <tr>\n",
       "      <th>2019-03-11</th>\n",
       "      <td>4.540176</td>\n",
       "      <td>0.863169</td>\n",
       "      <td>-10.160665</td>\n",
       "      <td>1.846122</td>\n",
       "      <td>9.042827</td>\n",
       "      <td>13.905559</td>\n",
       "      <td>6.665345</td>\n",
       "      <td>11021.959391</td>\n",
       "      <td>771.953912</td>\n",
       "    </tr>\n",
       "    <tr>\n",
       "      <th>2019-03-12</th>\n",
       "      <td>4.840541</td>\n",
       "      <td>2.679835</td>\n",
       "      <td>1.672669</td>\n",
       "      <td>1.846122</td>\n",
       "      <td>10.408307</td>\n",
       "      <td>14.971951</td>\n",
       "      <td>4.697674</td>\n",
       "      <td>11783.447062</td>\n",
       "      <td>1528.778569</td>\n",
       "    </tr>\n",
       "    <tr>\n",
       "      <th>2019-03-13</th>\n",
       "      <td>4.273829</td>\n",
       "      <td>9.565360</td>\n",
       "      <td>-22.493998</td>\n",
       "      <td>-1.487212</td>\n",
       "      <td>12.426343</td>\n",
       "      <td>20.773732</td>\n",
       "      <td>8.815847</td>\n",
       "      <td>11323.421491</td>\n",
       "      <td>1069.147519</td>\n",
       "    </tr>\n",
       "    <tr>\n",
       "      <th>2019-03-14</th>\n",
       "      <td>8.189811</td>\n",
       "      <td>10.551936</td>\n",
       "      <td>-11.827331</td>\n",
       "      <td>-14.820545</td>\n",
       "      <td>18.812234</td>\n",
       "      <td>22.143230</td>\n",
       "      <td>10.518633</td>\n",
       "      <td>10861.441126</td>\n",
       "      <td>609.063044</td>\n",
       "    </tr>\n",
       "    <tr>\n",
       "      <th>2019-03-15</th>\n",
       "      <td>5.207710</td>\n",
       "      <td>2.317598</td>\n",
       "      <td>3.339335</td>\n",
       "      <td>6.846122</td>\n",
       "      <td>9.832371</td>\n",
       "      <td>11.161175</td>\n",
       "      <td>6.239135</td>\n",
       "      <td>9210.529711</td>\n",
       "      <td>-1037.407276</td>\n",
       "    </tr>\n",
       "    <tr>\n",
       "      <th>2019-03-16</th>\n",
       "      <td>2.841500</td>\n",
       "      <td>2.744082</td>\n",
       "      <td>3.339335</td>\n",
       "      <td>10.179455</td>\n",
       "      <td>9.101001</td>\n",
       "      <td>13.549075</td>\n",
       "      <td>5.522468</td>\n",
       "      <td>8646.246606</td>\n",
       "      <td>-1607.509559</td>\n",
       "    </tr>\n",
       "    <tr>\n",
       "      <th>2019-03-17</th>\n",
       "      <td>3.340952</td>\n",
       "      <td>2.782392</td>\n",
       "      <td>3.339335</td>\n",
       "      <td>15.179455</td>\n",
       "      <td>8.220635</td>\n",
       "      <td>11.402636</td>\n",
       "      <td>3.592149</td>\n",
       "      <td>8746.405510</td>\n",
       "      <td>-1495.819148</td>\n",
       "    </tr>\n",
       "    <tr>\n",
       "      <th>2019-03-18</th>\n",
       "      <td>3.674331</td>\n",
       "      <td>2.115726</td>\n",
       "      <td>3.339335</td>\n",
       "      <td>15.179455</td>\n",
       "      <td>7.373786</td>\n",
       "      <td>12.420033</td>\n",
       "      <td>3.029318</td>\n",
       "      <td>11040.153912</td>\n",
       "      <td>790.534733</td>\n",
       "    </tr>\n",
       "    <tr>\n",
       "      <th>2019-03-19</th>\n",
       "      <td>3.640404</td>\n",
       "      <td>2.742666</td>\n",
       "      <td>0.339335</td>\n",
       "      <td>15.179455</td>\n",
       "      <td>9.757530</td>\n",
       "      <td>15.252636</td>\n",
       "      <td>4.147217</td>\n",
       "      <td>12266.689071</td>\n",
       "      <td>2015.064414</td>\n",
       "    </tr>\n",
       "    <tr>\n",
       "      <th>2019-03-20</th>\n",
       "      <td>3.439765</td>\n",
       "      <td>5.349607</td>\n",
       "      <td>3.339335</td>\n",
       "      <td>15.179455</td>\n",
       "      <td>10.907074</td>\n",
       "      <td>13.018801</td>\n",
       "      <td>8.362103</td>\n",
       "      <td>9218.231537</td>\n",
       "      <td>-1041.902709</td>\n",
       "    </tr>\n",
       "    <tr>\n",
       "      <th>2019-03-21</th>\n",
       "      <td>4.488669</td>\n",
       "      <td>2.816411</td>\n",
       "      <td>2.506002</td>\n",
       "      <td>15.179455</td>\n",
       "      <td>11.156937</td>\n",
       "      <td>15.570581</td>\n",
       "      <td>9.263382</td>\n",
       "      <td>10595.321491</td>\n",
       "      <td>323.935190</td>\n",
       "    </tr>\n",
       "    <tr>\n",
       "      <th>2019-03-22</th>\n",
       "      <td>4.654057</td>\n",
       "      <td>0.316411</td>\n",
       "      <td>-20.327331</td>\n",
       "      <td>6.846122</td>\n",
       "      <td>13.043741</td>\n",
       "      <td>16.608253</td>\n",
       "      <td>6.217446</td>\n",
       "      <td>11062.682222</td>\n",
       "      <td>783.446606</td>\n",
       "    </tr>\n",
       "    <tr>\n",
       "      <th>2019-03-23</th>\n",
       "      <td>1.921637</td>\n",
       "      <td>2.185041</td>\n",
       "      <td>3.339335</td>\n",
       "      <td>-6.487212</td>\n",
       "      <td>11.548352</td>\n",
       "      <td>20.327750</td>\n",
       "      <td>5.139729</td>\n",
       "      <td>11022.678112</td>\n",
       "      <td>749.787702</td>\n",
       "    </tr>\n",
       "    <tr>\n",
       "      <th>2019-03-24</th>\n",
       "      <td>2.222459</td>\n",
       "      <td>-1.897927</td>\n",
       "      <td>0.839335</td>\n",
       "      <td>1.846122</td>\n",
       "      <td>13.335384</td>\n",
       "      <td>16.596974</td>\n",
       "      <td>6.461464</td>\n",
       "      <td>8474.286332</td>\n",
       "      <td>-1777.719148</td>\n",
       "    </tr>\n",
       "    <tr>\n",
       "      <th>2019-03-25</th>\n",
       "      <td>6.839308</td>\n",
       "      <td>-0.081261</td>\n",
       "      <td>3.339335</td>\n",
       "      <td>15.179455</td>\n",
       "      <td>10.920407</td>\n",
       "      <td>14.414645</td>\n",
       "      <td>4.430688</td>\n",
       "      <td>11490.400030</td>\n",
       "      <td>1224.279482</td>\n",
       "    </tr>\n",
       "    <tr>\n",
       "      <th>2019-03-26</th>\n",
       "      <td>2.157254</td>\n",
       "      <td>-0.331261</td>\n",
       "      <td>0.839335</td>\n",
       "      <td>10.179455</td>\n",
       "      <td>8.105110</td>\n",
       "      <td>13.633595</td>\n",
       "      <td>1.015756</td>\n",
       "      <td>11747.001400</td>\n",
       "      <td>1468.184962</td>\n",
       "    </tr>\n",
       "    <tr>\n",
       "      <th>2019-03-27</th>\n",
       "      <td>5.492322</td>\n",
       "      <td>0.935406</td>\n",
       "      <td>3.339335</td>\n",
       "      <td>15.179455</td>\n",
       "      <td>9.590270</td>\n",
       "      <td>18.551266</td>\n",
       "      <td>3.135482</td>\n",
       "      <td>13247.778569</td>\n",
       "      <td>2953.860761</td>\n",
       "    </tr>\n",
       "    <tr>\n",
       "      <th>2019-03-28</th>\n",
       "      <td>5.109308</td>\n",
       "      <td>2.818739</td>\n",
       "      <td>3.339335</td>\n",
       "      <td>15.179455</td>\n",
       "      <td>16.356846</td>\n",
       "      <td>22.415650</td>\n",
       "      <td>10.853153</td>\n",
       "      <td>12866.642039</td>\n",
       "      <td>2565.209163</td>\n",
       "    </tr>\n",
       "    <tr>\n",
       "      <th>2019-03-29</th>\n",
       "      <td>4.242185</td>\n",
       "      <td>9.009516</td>\n",
       "      <td>3.339335</td>\n",
       "      <td>15.179455</td>\n",
       "      <td>12.205658</td>\n",
       "      <td>15.978527</td>\n",
       "      <td>7.803884</td>\n",
       "      <td>10513.465327</td>\n",
       "      <td>232.870807</td>\n",
       "    </tr>\n",
       "    <tr>\n",
       "      <th>2019-03-30</th>\n",
       "      <td>4.426751</td>\n",
       "      <td>-3.890393</td>\n",
       "      <td>3.339335</td>\n",
       "      <td>15.179455</td>\n",
       "      <td>7.237987</td>\n",
       "      <td>9.744691</td>\n",
       "      <td>1.004386</td>\n",
       "      <td>7747.336560</td>\n",
       "      <td>-2528.685358</td>\n",
       "    </tr>\n",
       "    <tr>\n",
       "      <th>2019-03-31</th>\n",
       "      <td>2.827025</td>\n",
       "      <td>0.832895</td>\n",
       "      <td>3.339335</td>\n",
       "      <td>15.179455</td>\n",
       "      <td>2.205019</td>\n",
       "      <td>5.926015</td>\n",
       "      <td>-0.342280</td>\n",
       "      <td>7339.538843</td>\n",
       "      <td>-2928.058417</td>\n",
       "    </tr>\n",
       "    <tr>\n",
       "      <th>2019-04-01</th>\n",
       "      <td>5.826295</td>\n",
       "      <td>1.099561</td>\n",
       "      <td>3.339335</td>\n",
       "      <td>15.179455</td>\n",
       "      <td>6.022782</td>\n",
       "      <td>14.260855</td>\n",
       "      <td>1.241281</td>\n",
       "      <td>11566.402313</td>\n",
       "      <td>1274.248889</td>\n",
       "    </tr>\n",
       "  </tbody>\n",
       "</table>\n",
       "<p>1923 rows × 9 columns</p>\n",
       "</div>"
      ],
      "text/plain": [
       "                AWND       PRCP        SNOW        SNWD       TAVG       TMAX  \\\n",
       "DATE                                                                            \n",
       "2013-12-26  4.235062   1.538374    2.839335   23.512788   5.929129  12.459896   \n",
       "2013-12-27  3.018121   1.279424    3.339335   10.179455  10.246435  15.926335   \n",
       "2013-12-28  4.567436  -6.170347   -4.660665   10.179455  16.530407  23.094554   \n",
       "2013-12-29  4.533144   2.629790    0.006002    5.179455  13.899037  16.582454   \n",
       "2013-12-30  3.331363   2.746456    2.339335    1.846122   3.618444   9.051677   \n",
       "2013-12-31  2.496706   9.182118   66.672669   27.679455   4.620818   8.105741   \n",
       "2014-01-01  3.995701   4.548785   47.506002   69.346122   6.740681  10.877750   \n",
       "2014-01-02  6.129948   7.465360  125.339335  130.179455   8.879037  11.766152   \n",
       "2014-01-03  6.713601  -0.079891    1.172669  171.846122   1.397850  11.233595   \n",
       "2014-01-04  5.230952   7.803442   56.839335  150.179455   8.815567  14.751540   \n",
       "2014-01-05  6.314605  14.725543  179.839335  188.512788  11.633741  17.503595   \n",
       "2014-01-06  7.315792   2.808876    2.506002  221.846122  -1.299456   2.835650   \n",
       "2014-01-07  4.000222   2.803077    3.339335  200.179455  -1.084890   5.983367   \n",
       "2014-01-08  1.150085  -0.196923   -9.327331  206.012788   1.962873   7.766198   \n",
       "2014-01-09  1.799856   1.953077    2.839335  180.179455   1.977759  13.483641   \n",
       "2014-01-10  3.667162  19.686548    2.506002  185.179455  14.980453  20.470262   \n",
       "2014-01-11  4.951135   1.936548  -20.827331   35.179455  16.015247  16.136700   \n",
       "2014-01-12  5.717482  -0.113452    1.172669    1.846122  11.847941  18.704143   \n",
       "2014-01-13  4.017893   2.136548   -8.160665  -23.153878  19.898855  24.005650   \n",
       "2014-01-14  6.434834   3.052164    2.006002  -26.487212  14.515384  18.506152   \n",
       "2014-01-15  5.369171   2.468831    2.506002  -14.820545   7.598718  10.406152   \n",
       "2014-01-16  6.985747   2.502758    0.339335  -14.820545  10.163330  16.269805   \n",
       "2014-01-17  4.585199  -0.175142   24.172669  -19.820545   7.328763  10.669029   \n",
       "2014-01-18  2.901226   3.333899   54.172669   26.846122   6.309814  11.750079   \n",
       "2014-01-19  6.168761   2.366548   -2.160665   73.512788   7.544517  17.601084   \n",
       "2014-01-20  4.636432   3.767324   55.506002   15.179455  12.046709  15.569531   \n",
       "2014-01-21  6.770770   3.559470   56.172669  118.512788   2.146024   5.867476   \n",
       "2014-01-22  6.104468   2.792438   13.672669  101.846122  -0.905118   5.266700   \n",
       "2014-01-23  6.354377  -1.374229    1.172669  101.846122  -3.520871   1.485422   \n",
       "2014-01-24  8.254377   2.059105    5.339335   81.846122  -2.420095  10.302088   \n",
       "...              ...        ...         ...         ...        ...        ...   \n",
       "2019-03-03  5.423783   2.593488   -0.493998  -44.820545   8.073010  11.175285   \n",
       "2019-03-04  5.807254   1.910155   -7.660665  -36.487212   0.290635   5.259896   \n",
       "2019-03-05  5.675016   2.429379    5.839335  -44.820545   2.258033   6.392225   \n",
       "2019-03-06  4.158304   2.596045    3.339335  -36.487212   0.373741   5.957659   \n",
       "2019-03-07  1.891409   1.662712    2.006002   -9.820545   1.805704   5.887933   \n",
       "2019-03-08  1.258943   2.895908    5.839335   -9.820545   4.770088  10.017202   \n",
       "2019-03-09  6.524879  13.962575    3.339335   10.179455   5.884608  11.750810   \n",
       "2019-03-10  8.524514   2.296274    1.672669   15.179455   8.847941  11.360399   \n",
       "2019-03-11  4.540176   0.863169  -10.160665    1.846122   9.042827  13.905559   \n",
       "2019-03-12  4.840541   2.679835    1.672669    1.846122  10.408307  14.971951   \n",
       "2019-03-13  4.273829   9.565360  -22.493998   -1.487212  12.426343  20.773732   \n",
       "2019-03-14  8.189811  10.551936  -11.827331  -14.820545  18.812234  22.143230   \n",
       "2019-03-15  5.207710   2.317598    3.339335    6.846122   9.832371  11.161175   \n",
       "2019-03-16  2.841500   2.744082    3.339335   10.179455   9.101001  13.549075   \n",
       "2019-03-17  3.340952   2.782392    3.339335   15.179455   8.220635  11.402636   \n",
       "2019-03-18  3.674331   2.115726    3.339335   15.179455   7.373786  12.420033   \n",
       "2019-03-19  3.640404   2.742666    0.339335   15.179455   9.757530  15.252636   \n",
       "2019-03-20  3.439765   5.349607    3.339335   15.179455  10.907074  13.018801   \n",
       "2019-03-21  4.488669   2.816411    2.506002   15.179455  11.156937  15.570581   \n",
       "2019-03-22  4.654057   0.316411  -20.327331    6.846122  13.043741  16.608253   \n",
       "2019-03-23  1.921637   2.185041    3.339335   -6.487212  11.548352  20.327750   \n",
       "2019-03-24  2.222459  -1.897927    0.839335    1.846122  13.335384  16.596974   \n",
       "2019-03-25  6.839308  -0.081261    3.339335   15.179455  10.920407  14.414645   \n",
       "2019-03-26  2.157254  -0.331261    0.839335   10.179455   8.105110  13.633595   \n",
       "2019-03-27  5.492322   0.935406    3.339335   15.179455   9.590270  18.551266   \n",
       "2019-03-28  5.109308   2.818739    3.339335   15.179455  16.356846  22.415650   \n",
       "2019-03-29  4.242185   9.009516    3.339335   15.179455  12.205658  15.978527   \n",
       "2019-03-30  4.426751  -3.890393    3.339335   15.179455   7.237987   9.744691   \n",
       "2019-03-31  2.827025   0.832895    3.339335   15.179455   2.205019   5.926015   \n",
       "2019-04-01  5.826295   1.099561    3.339335   15.179455   6.022782  14.260855   \n",
       "\n",
       "                 TMIN   trips_delta  trips_resid  \n",
       "DATE                                              \n",
       "2013-12-26  -0.537075   8398.741583  3982.067610  \n",
       "2013-12-27   4.330596   8514.105510  4057.524688  \n",
       "2013-12-28  10.780870   8860.936560  4366.985875  \n",
       "2013-12-29   1.515984   7033.068523  2501.923318  \n",
       "2013-12-30  -3.048901   7843.687702  3291.682222  \n",
       "2013-12-31   0.037217   7712.314642  3128.199574  \n",
       "2014-01-01   2.122834   7835.446149  3227.909163  \n",
       "2014-01-02  -1.390043   7553.992268  2913.400487  \n",
       "2014-01-03  -8.670043   7047.591354  2373.226971  \n",
       "2014-01-04   7.499135   6050.975373  1344.178112  \n",
       "2014-01-05  -0.715477   5746.667610  1013.563501  \n",
       "2014-01-06  -6.599586   5894.023775  1133.385418  \n",
       "2014-01-07  -5.234427   6534.813729  1744.484962  \n",
       "2014-01-08  -4.321048   6854.857565  2031.789071  \n",
       "2014-01-09  -3.805659   6878.302770  2020.705510  \n",
       "2014-01-10  12.363793   6811.679939  1925.605966  \n",
       "2014-01-11  11.432240   6649.897747  1749.160761  \n",
       "2014-01-12  10.731464   6688.233364  1758.866240  \n",
       "2014-01-13  12.098131   8992.950259  4041.355738  \n",
       "2014-01-14   8.914523   8357.485418  3378.789528  \n",
       "2014-01-15   3.531418   7724.933364  2715.574459  \n",
       "2014-01-16   6.296852   7917.800030  2875.863044  \n",
       "2014-01-17   2.479409   7878.547519  2800.196834  \n",
       "2014-01-18   0.362742   6353.187245  1231.425601  \n",
       "2014-01-19   1.031920   5995.682679   843.715555  \n",
       "2014-01-20   1.249866   7152.520578  1973.446606  \n",
       "2014-01-21  -4.884518   6793.187245  1587.447519  \n",
       "2014-01-22  -6.201413   6391.853912  1158.505966  \n",
       "2014-01-23  -9.617577   6827.473090  1563.133364  \n",
       "2014-01-24  -9.899632   6656.995007  1364.586788  \n",
       "...               ...           ...          ...  \n",
       "2019-03-03  -2.660591   7642.471720 -2520.900883  \n",
       "2019-03-04  -5.309586   8889.400030 -1280.380792  \n",
       "2019-03-05  -0.940911   9329.472633  -852.138326  \n",
       "2019-03-06  -4.507577   9122.647062 -1065.744719  \n",
       "2019-03-07  -3.024518   9128.223775 -1074.847458  \n",
       "2019-03-08  -0.125522   8616.432907 -1606.789011  \n",
       "2019-03-09   1.387309   5873.049802 -4366.051568  \n",
       "2019-03-10   5.285802   6900.413729 -3334.684901  \n",
       "2019-03-11   6.665345  11021.959391   771.953912  \n",
       "2019-03-12   4.697674  11783.447062  1528.778569  \n",
       "2019-03-13   8.815847  11323.421491  1069.147519  \n",
       "2019-03-14  10.518633  10861.441126   609.063044  \n",
       "2019-03-15   6.239135   9210.529711 -1037.407276  \n",
       "2019-03-16   5.522468   8646.246606 -1607.509559  \n",
       "2019-03-17   3.592149   8746.405510 -1495.819148  \n",
       "2019-03-18   3.029318  11040.153912   790.534733  \n",
       "2019-03-19   4.147217  12266.689071  2015.064414  \n",
       "2019-03-20   8.362103   9218.231537 -1041.902709  \n",
       "2019-03-21   9.263382  10595.321491   323.935190  \n",
       "2019-03-22   6.217446  11062.682222   783.446606  \n",
       "2019-03-23   5.139729  11022.678112   749.787702  \n",
       "2019-03-24   6.461464   8474.286332 -1777.719148  \n",
       "2019-03-25   4.430688  11490.400030  1224.279482  \n",
       "2019-03-26   1.015756  11747.001400  1468.184962  \n",
       "2019-03-27   3.135482  13247.778569  2953.860761  \n",
       "2019-03-28  10.853153  12866.642039  2565.209163  \n",
       "2019-03-29   7.803884  10513.465327   232.870807  \n",
       "2019-03-30   1.004386   7747.336560 -2528.685358  \n",
       "2019-03-31  -0.342280   7339.538843 -2928.058417  \n",
       "2019-04-01   1.241281  11566.402313  1274.248889  \n",
       "\n",
       "[1923 rows x 9 columns]"
      ]
     },
     "execution_count": 101,
     "metadata": {},
     "output_type": "execute_result"
    }
   ],
   "source": [
    "df = weather_df.copy()\n",
    "df['trips_delta'] = trips_season.resid + trips_season.trend\n",
    "df['trips_resid'] = trips_season.resid\n",
    "df"
   ]
  },
  {
   "cell_type": "code",
   "execution_count": 102,
   "metadata": {},
   "outputs": [
    {
     "data": {
      "text/html": [
       "<div>\n",
       "<style scoped>\n",
       "    .dataframe tbody tr th:only-of-type {\n",
       "        vertical-align: middle;\n",
       "    }\n",
       "\n",
       "    .dataframe tbody tr th {\n",
       "        vertical-align: top;\n",
       "    }\n",
       "\n",
       "    .dataframe thead th {\n",
       "        text-align: right;\n",
       "    }\n",
       "</style>\n",
       "<table border=\"1\" class=\"dataframe\">\n",
       "  <thead>\n",
       "    <tr style=\"text-align: right;\">\n",
       "      <th></th>\n",
       "      <th>AWND</th>\n",
       "      <th>PRCP</th>\n",
       "      <th>SNOW</th>\n",
       "      <th>SNWD</th>\n",
       "      <th>TAVG</th>\n",
       "      <th>TMAX</th>\n",
       "      <th>TMIN</th>\n",
       "      <th>trips_delta</th>\n",
       "      <th>trips_resid</th>\n",
       "    </tr>\n",
       "  </thead>\n",
       "  <tbody>\n",
       "    <tr>\n",
       "      <th>AWND</th>\n",
       "      <td>1.000000</td>\n",
       "      <td>0.093132</td>\n",
       "      <td>0.053525</td>\n",
       "      <td>-0.030926</td>\n",
       "      <td>0.112826</td>\n",
       "      <td>0.016513</td>\n",
       "      <td>0.088715</td>\n",
       "      <td>-0.119376</td>\n",
       "      <td>-0.119979</td>\n",
       "    </tr>\n",
       "    <tr>\n",
       "      <th>PRCP</th>\n",
       "      <td>0.093132</td>\n",
       "      <td>1.000000</td>\n",
       "      <td>0.160986</td>\n",
       "      <td>0.008273</td>\n",
       "      <td>0.116534</td>\n",
       "      <td>0.044593</td>\n",
       "      <td>0.161976</td>\n",
       "      <td>-0.337858</td>\n",
       "      <td>-0.404435</td>\n",
       "    </tr>\n",
       "    <tr>\n",
       "      <th>SNOW</th>\n",
       "      <td>0.053525</td>\n",
       "      <td>0.160986</td>\n",
       "      <td>1.000000</td>\n",
       "      <td>0.255726</td>\n",
       "      <td>-0.108365</td>\n",
       "      <td>-0.139583</td>\n",
       "      <td>-0.124785</td>\n",
       "      <td>-0.150219</td>\n",
       "      <td>-0.103585</td>\n",
       "    </tr>\n",
       "    <tr>\n",
       "      <th>SNWD</th>\n",
       "      <td>-0.030926</td>\n",
       "      <td>0.008273</td>\n",
       "      <td>0.255726</td>\n",
       "      <td>1.000000</td>\n",
       "      <td>-0.367872</td>\n",
       "      <td>-0.303138</td>\n",
       "      <td>-0.400056</td>\n",
       "      <td>-0.221433</td>\n",
       "      <td>-0.062772</td>\n",
       "    </tr>\n",
       "    <tr>\n",
       "      <th>TAVG</th>\n",
       "      <td>0.112826</td>\n",
       "      <td>0.116534</td>\n",
       "      <td>-0.108365</td>\n",
       "      <td>-0.367872</td>\n",
       "      <td>1.000000</td>\n",
       "      <td>0.910903</td>\n",
       "      <td>0.915176</td>\n",
       "      <td>0.428038</td>\n",
       "      <td>0.352852</td>\n",
       "    </tr>\n",
       "    <tr>\n",
       "      <th>TMAX</th>\n",
       "      <td>0.016513</td>\n",
       "      <td>0.044593</td>\n",
       "      <td>-0.139583</td>\n",
       "      <td>-0.303138</td>\n",
       "      <td>0.910903</td>\n",
       "      <td>1.000000</td>\n",
       "      <td>0.788222</td>\n",
       "      <td>0.504284</td>\n",
       "      <td>0.466689</td>\n",
       "    </tr>\n",
       "    <tr>\n",
       "      <th>TMIN</th>\n",
       "      <td>0.088715</td>\n",
       "      <td>0.161976</td>\n",
       "      <td>-0.124785</td>\n",
       "      <td>-0.400056</td>\n",
       "      <td>0.915176</td>\n",
       "      <td>0.788222</td>\n",
       "      <td>1.000000</td>\n",
       "      <td>0.346888</td>\n",
       "      <td>0.237791</td>\n",
       "    </tr>\n",
       "    <tr>\n",
       "      <th>trips_delta</th>\n",
       "      <td>-0.119376</td>\n",
       "      <td>-0.337858</td>\n",
       "      <td>-0.150219</td>\n",
       "      <td>-0.221433</td>\n",
       "      <td>0.428038</td>\n",
       "      <td>0.504284</td>\n",
       "      <td>0.346888</td>\n",
       "      <td>1.000000</td>\n",
       "      <td>0.822557</td>\n",
       "    </tr>\n",
       "    <tr>\n",
       "      <th>trips_resid</th>\n",
       "      <td>-0.119979</td>\n",
       "      <td>-0.404435</td>\n",
       "      <td>-0.103585</td>\n",
       "      <td>-0.062772</td>\n",
       "      <td>0.352852</td>\n",
       "      <td>0.466689</td>\n",
       "      <td>0.237791</td>\n",
       "      <td>0.822557</td>\n",
       "      <td>1.000000</td>\n",
       "    </tr>\n",
       "  </tbody>\n",
       "</table>\n",
       "</div>"
      ],
      "text/plain": [
       "                 AWND      PRCP      SNOW      SNWD      TAVG      TMAX  \\\n",
       "AWND         1.000000  0.093132  0.053525 -0.030926  0.112826  0.016513   \n",
       "PRCP         0.093132  1.000000  0.160986  0.008273  0.116534  0.044593   \n",
       "SNOW         0.053525  0.160986  1.000000  0.255726 -0.108365 -0.139583   \n",
       "SNWD        -0.030926  0.008273  0.255726  1.000000 -0.367872 -0.303138   \n",
       "TAVG         0.112826  0.116534 -0.108365 -0.367872  1.000000  0.910903   \n",
       "TMAX         0.016513  0.044593 -0.139583 -0.303138  0.910903  1.000000   \n",
       "TMIN         0.088715  0.161976 -0.124785 -0.400056  0.915176  0.788222   \n",
       "trips_delta -0.119376 -0.337858 -0.150219 -0.221433  0.428038  0.504284   \n",
       "trips_resid -0.119979 -0.404435 -0.103585 -0.062772  0.352852  0.466689   \n",
       "\n",
       "                 TMIN  trips_delta  trips_resid  \n",
       "AWND         0.088715    -0.119376    -0.119979  \n",
       "PRCP         0.161976    -0.337858    -0.404435  \n",
       "SNOW        -0.124785    -0.150219    -0.103585  \n",
       "SNWD        -0.400056    -0.221433    -0.062772  \n",
       "TAVG         0.915176     0.428038     0.352852  \n",
       "TMAX         0.788222     0.504284     0.466689  \n",
       "TMIN         1.000000     0.346888     0.237791  \n",
       "trips_delta  0.346888     1.000000     0.822557  \n",
       "trips_resid  0.237791     0.822557     1.000000  "
      ]
     },
     "execution_count": 102,
     "metadata": {},
     "output_type": "execute_result"
    }
   ],
   "source": [
    "df.corr()"
   ]
  },
  {
   "cell_type": "code",
   "execution_count": 103,
   "metadata": {},
   "outputs": [
    {
     "data": {
      "text/html": [
       "<div>\n",
       "<style scoped>\n",
       "    .dataframe tbody tr th:only-of-type {\n",
       "        vertical-align: middle;\n",
       "    }\n",
       "\n",
       "    .dataframe tbody tr th {\n",
       "        vertical-align: top;\n",
       "    }\n",
       "\n",
       "    .dataframe thead th {\n",
       "        text-align: right;\n",
       "    }\n",
       "</style>\n",
       "<table border=\"1\" class=\"dataframe\">\n",
       "  <thead>\n",
       "    <tr style=\"text-align: right;\">\n",
       "      <th></th>\n",
       "      <th>AWND</th>\n",
       "      <th>PRCP</th>\n",
       "      <th>SNOW</th>\n",
       "      <th>SNWD</th>\n",
       "      <th>TAVG</th>\n",
       "      <th>TMAX</th>\n",
       "      <th>TMIN</th>\n",
       "      <th>trips_delta</th>\n",
       "      <th>trips_resid</th>\n",
       "    </tr>\n",
       "  </thead>\n",
       "  <tbody>\n",
       "    <tr>\n",
       "      <th>AWND</th>\n",
       "      <td>1.000000</td>\n",
       "      <td>0.124301</td>\n",
       "      <td>0.036503</td>\n",
       "      <td>0.006167</td>\n",
       "      <td>0.098765</td>\n",
       "      <td>-0.009361</td>\n",
       "      <td>0.093280</td>\n",
       "      <td>-0.121622</td>\n",
       "      <td>-0.122571</td>\n",
       "    </tr>\n",
       "    <tr>\n",
       "      <th>PRCP</th>\n",
       "      <td>0.124301</td>\n",
       "      <td>1.000000</td>\n",
       "      <td>0.125287</td>\n",
       "      <td>-0.038384</td>\n",
       "      <td>0.124959</td>\n",
       "      <td>0.036500</td>\n",
       "      <td>0.191299</td>\n",
       "      <td>-0.307436</td>\n",
       "      <td>-0.376187</td>\n",
       "    </tr>\n",
       "    <tr>\n",
       "      <th>SNOW</th>\n",
       "      <td>0.036503</td>\n",
       "      <td>0.125287</td>\n",
       "      <td>1.000000</td>\n",
       "      <td>0.494099</td>\n",
       "      <td>-0.174280</td>\n",
       "      <td>-0.179839</td>\n",
       "      <td>-0.170446</td>\n",
       "      <td>-0.133918</td>\n",
       "      <td>-0.111982</td>\n",
       "    </tr>\n",
       "    <tr>\n",
       "      <th>SNWD</th>\n",
       "      <td>0.006167</td>\n",
       "      <td>-0.038384</td>\n",
       "      <td>0.494099</td>\n",
       "      <td>1.000000</td>\n",
       "      <td>-0.300609</td>\n",
       "      <td>-0.251093</td>\n",
       "      <td>-0.316424</td>\n",
       "      <td>-0.218185</td>\n",
       "      <td>-0.061711</td>\n",
       "    </tr>\n",
       "    <tr>\n",
       "      <th>TAVG</th>\n",
       "      <td>0.098765</td>\n",
       "      <td>0.124959</td>\n",
       "      <td>-0.174280</td>\n",
       "      <td>-0.300609</td>\n",
       "      <td>1.000000</td>\n",
       "      <td>0.901838</td>\n",
       "      <td>0.897381</td>\n",
       "      <td>0.423230</td>\n",
       "      <td>0.341257</td>\n",
       "    </tr>\n",
       "    <tr>\n",
       "      <th>TMAX</th>\n",
       "      <td>-0.009361</td>\n",
       "      <td>0.036500</td>\n",
       "      <td>-0.179839</td>\n",
       "      <td>-0.251093</td>\n",
       "      <td>0.901838</td>\n",
       "      <td>1.000000</td>\n",
       "      <td>0.754780</td>\n",
       "      <td>0.485285</td>\n",
       "      <td>0.442219</td>\n",
       "    </tr>\n",
       "    <tr>\n",
       "      <th>TMIN</th>\n",
       "      <td>0.093280</td>\n",
       "      <td>0.191299</td>\n",
       "      <td>-0.170446</td>\n",
       "      <td>-0.316424</td>\n",
       "      <td>0.897381</td>\n",
       "      <td>0.754780</td>\n",
       "      <td>1.000000</td>\n",
       "      <td>0.334915</td>\n",
       "      <td>0.221439</td>\n",
       "    </tr>\n",
       "    <tr>\n",
       "      <th>trips_delta</th>\n",
       "      <td>-0.121622</td>\n",
       "      <td>-0.307436</td>\n",
       "      <td>-0.133918</td>\n",
       "      <td>-0.218185</td>\n",
       "      <td>0.423230</td>\n",
       "      <td>0.485285</td>\n",
       "      <td>0.334915</td>\n",
       "      <td>1.000000</td>\n",
       "      <td>0.778446</td>\n",
       "    </tr>\n",
       "    <tr>\n",
       "      <th>trips_resid</th>\n",
       "      <td>-0.122571</td>\n",
       "      <td>-0.376187</td>\n",
       "      <td>-0.111982</td>\n",
       "      <td>-0.061711</td>\n",
       "      <td>0.341257</td>\n",
       "      <td>0.442219</td>\n",
       "      <td>0.221439</td>\n",
       "      <td>0.778446</td>\n",
       "      <td>1.000000</td>\n",
       "    </tr>\n",
       "  </tbody>\n",
       "</table>\n",
       "</div>"
      ],
      "text/plain": [
       "                 AWND      PRCP      SNOW      SNWD      TAVG      TMAX  \\\n",
       "AWND         1.000000  0.124301  0.036503  0.006167  0.098765 -0.009361   \n",
       "PRCP         0.124301  1.000000  0.125287 -0.038384  0.124959  0.036500   \n",
       "SNOW         0.036503  0.125287  1.000000  0.494099 -0.174280 -0.179839   \n",
       "SNWD         0.006167 -0.038384  0.494099  1.000000 -0.300609 -0.251093   \n",
       "TAVG         0.098765  0.124959 -0.174280 -0.300609  1.000000  0.901838   \n",
       "TMAX        -0.009361  0.036500 -0.179839 -0.251093  0.901838  1.000000   \n",
       "TMIN         0.093280  0.191299 -0.170446 -0.316424  0.897381  0.754780   \n",
       "trips_delta -0.121622 -0.307436 -0.133918 -0.218185  0.423230  0.485285   \n",
       "trips_resid -0.122571 -0.376187 -0.111982 -0.061711  0.341257  0.442219   \n",
       "\n",
       "                 TMIN  trips_delta  trips_resid  \n",
       "AWND         0.093280    -0.121622    -0.122571  \n",
       "PRCP         0.191299    -0.307436    -0.376187  \n",
       "SNOW        -0.170446    -0.133918    -0.111982  \n",
       "SNWD        -0.316424    -0.218185    -0.061711  \n",
       "TAVG         0.897381     0.423230     0.341257  \n",
       "TMAX         0.754780     0.485285     0.442219  \n",
       "TMIN         1.000000     0.334915     0.221439  \n",
       "trips_delta  0.334915     1.000000     0.778446  \n",
       "trips_resid  0.221439     0.778446     1.000000  "
      ]
     },
     "execution_count": 103,
     "metadata": {},
     "output_type": "execute_result"
    }
   ],
   "source": [
    "df.corr('spearman')"
   ]
  },
  {
   "cell_type": "code",
   "execution_count": 104,
   "metadata": {},
   "outputs": [
    {
     "data": {
      "text/html": [
       "<div>\n",
       "<style scoped>\n",
       "    .dataframe tbody tr th:only-of-type {\n",
       "        vertical-align: middle;\n",
       "    }\n",
       "\n",
       "    .dataframe tbody tr th {\n",
       "        vertical-align: top;\n",
       "    }\n",
       "\n",
       "    .dataframe thead th {\n",
       "        text-align: right;\n",
       "    }\n",
       "</style>\n",
       "<table border=\"1\" class=\"dataframe\">\n",
       "  <thead>\n",
       "    <tr style=\"text-align: right;\">\n",
       "      <th></th>\n",
       "      <th>AWND</th>\n",
       "      <th>PRCP</th>\n",
       "      <th>SNOW</th>\n",
       "      <th>SNWD</th>\n",
       "      <th>TAVG</th>\n",
       "      <th>TMAX</th>\n",
       "      <th>TMIN</th>\n",
       "      <th>trips_delta</th>\n",
       "      <th>trips_resid</th>\n",
       "    </tr>\n",
       "  </thead>\n",
       "  <tbody>\n",
       "    <tr>\n",
       "      <th>AWND</th>\n",
       "      <td>1.000000</td>\n",
       "      <td>0.083142</td>\n",
       "      <td>0.025301</td>\n",
       "      <td>0.005058</td>\n",
       "      <td>0.066560</td>\n",
       "      <td>-0.006973</td>\n",
       "      <td>0.063032</td>\n",
       "      <td>-0.081027</td>\n",
       "      <td>-0.081563</td>\n",
       "    </tr>\n",
       "    <tr>\n",
       "      <th>PRCP</th>\n",
       "      <td>0.083142</td>\n",
       "      <td>1.000000</td>\n",
       "      <td>0.090231</td>\n",
       "      <td>-0.025130</td>\n",
       "      <td>0.082645</td>\n",
       "      <td>0.024545</td>\n",
       "      <td>0.125642</td>\n",
       "      <td>-0.209589</td>\n",
       "      <td>-0.259500</td>\n",
       "    </tr>\n",
       "    <tr>\n",
       "      <th>SNOW</th>\n",
       "      <td>0.025301</td>\n",
       "      <td>0.090231</td>\n",
       "      <td>1.000000</td>\n",
       "      <td>0.447046</td>\n",
       "      <td>-0.121103</td>\n",
       "      <td>-0.123153</td>\n",
       "      <td>-0.120117</td>\n",
       "      <td>-0.087968</td>\n",
       "      <td>-0.075066</td>\n",
       "    </tr>\n",
       "    <tr>\n",
       "      <th>SNWD</th>\n",
       "      <td>0.005058</td>\n",
       "      <td>-0.025130</td>\n",
       "      <td>0.447046</td>\n",
       "      <td>1.000000</td>\n",
       "      <td>-0.208805</td>\n",
       "      <td>-0.172430</td>\n",
       "      <td>-0.221487</td>\n",
       "      <td>-0.142130</td>\n",
       "      <td>-0.040693</td>\n",
       "    </tr>\n",
       "    <tr>\n",
       "      <th>TAVG</th>\n",
       "      <td>0.066560</td>\n",
       "      <td>0.082645</td>\n",
       "      <td>-0.121103</td>\n",
       "      <td>-0.208805</td>\n",
       "      <td>1.000000</td>\n",
       "      <td>0.728432</td>\n",
       "      <td>0.730371</td>\n",
       "      <td>0.287029</td>\n",
       "      <td>0.232440</td>\n",
       "    </tr>\n",
       "    <tr>\n",
       "      <th>TMAX</th>\n",
       "      <td>-0.006973</td>\n",
       "      <td>0.024545</td>\n",
       "      <td>-0.123153</td>\n",
       "      <td>-0.172430</td>\n",
       "      <td>0.728432</td>\n",
       "      <td>1.000000</td>\n",
       "      <td>0.564089</td>\n",
       "      <td>0.334025</td>\n",
       "      <td>0.306449</td>\n",
       "    </tr>\n",
       "    <tr>\n",
       "      <th>TMIN</th>\n",
       "      <td>0.063032</td>\n",
       "      <td>0.125642</td>\n",
       "      <td>-0.120117</td>\n",
       "      <td>-0.221487</td>\n",
       "      <td>0.730371</td>\n",
       "      <td>0.564089</td>\n",
       "      <td>1.000000</td>\n",
       "      <td>0.224400</td>\n",
       "      <td>0.148695</td>\n",
       "    </tr>\n",
       "    <tr>\n",
       "      <th>trips_delta</th>\n",
       "      <td>-0.081027</td>\n",
       "      <td>-0.209589</td>\n",
       "      <td>-0.087968</td>\n",
       "      <td>-0.142130</td>\n",
       "      <td>0.287029</td>\n",
       "      <td>0.334025</td>\n",
       "      <td>0.224400</td>\n",
       "      <td>1.000000</td>\n",
       "      <td>0.631102</td>\n",
       "    </tr>\n",
       "    <tr>\n",
       "      <th>trips_resid</th>\n",
       "      <td>-0.081563</td>\n",
       "      <td>-0.259500</td>\n",
       "      <td>-0.075066</td>\n",
       "      <td>-0.040693</td>\n",
       "      <td>0.232440</td>\n",
       "      <td>0.306449</td>\n",
       "      <td>0.148695</td>\n",
       "      <td>0.631102</td>\n",
       "      <td>1.000000</td>\n",
       "    </tr>\n",
       "  </tbody>\n",
       "</table>\n",
       "</div>"
      ],
      "text/plain": [
       "                 AWND      PRCP      SNOW      SNWD      TAVG      TMAX  \\\n",
       "AWND         1.000000  0.083142  0.025301  0.005058  0.066560 -0.006973   \n",
       "PRCP         0.083142  1.000000  0.090231 -0.025130  0.082645  0.024545   \n",
       "SNOW         0.025301  0.090231  1.000000  0.447046 -0.121103 -0.123153   \n",
       "SNWD         0.005058 -0.025130  0.447046  1.000000 -0.208805 -0.172430   \n",
       "TAVG         0.066560  0.082645 -0.121103 -0.208805  1.000000  0.728432   \n",
       "TMAX        -0.006973  0.024545 -0.123153 -0.172430  0.728432  1.000000   \n",
       "TMIN         0.063032  0.125642 -0.120117 -0.221487  0.730371  0.564089   \n",
       "trips_delta -0.081027 -0.209589 -0.087968 -0.142130  0.287029  0.334025   \n",
       "trips_resid -0.081563 -0.259500 -0.075066 -0.040693  0.232440  0.306449   \n",
       "\n",
       "                 TMIN  trips_delta  trips_resid  \n",
       "AWND         0.063032    -0.081027    -0.081563  \n",
       "PRCP         0.125642    -0.209589    -0.259500  \n",
       "SNOW        -0.120117    -0.087968    -0.075066  \n",
       "SNWD        -0.221487    -0.142130    -0.040693  \n",
       "TAVG         0.730371     0.287029     0.232440  \n",
       "TMAX         0.564089     0.334025     0.306449  \n",
       "TMIN         1.000000     0.224400     0.148695  \n",
       "trips_delta  0.224400     1.000000     0.631102  \n",
       "trips_resid  0.148695     0.631102     1.000000  "
      ]
     },
     "execution_count": 104,
     "metadata": {},
     "output_type": "execute_result"
    }
   ],
   "source": [
    "df.corr('kendall')"
   ]
  },
  {
   "cell_type": "markdown",
   "metadata": {},
   "source": [
    "It's not often that you see Spearman and Pearson correlation numbers so similar. It's hard to express what \n",
    "this means: that most of these weather features are quite continuous and evenly spread out."
   ]
  },
  {
   "cell_type": "code",
   "execution_count": 109,
   "metadata": {},
   "outputs": [
    {
     "data": {
      "text/plain": [
       "<matplotlib.axes._subplots.AxesSubplot at 0x23518753748>"
      ]
     },
     "execution_count": 109,
     "metadata": {},
     "output_type": "execute_result"
    },
    {
     "data": {
      "image/png": "[encoded data removed]",
      "text/plain": [
       "<Figure size 432x288 with 1 Axes>"
      ]
     },
     "metadata": {
      "needs_background": "light"
     },
     "output_type": "display_data"
    }
   ],
   "source": [
    "df.plot.scatter(x='TMAX', y='trips_delta')"
   ]
  },
  {
   "cell_type": "code",
   "execution_count": 110,
   "metadata": {},
   "outputs": [
    {
     "data": {
      "text/plain": [
       "<matplotlib.axes._subplots.AxesSubplot at 0x2351871bc18>"
      ]
     },
     "execution_count": 110,
     "metadata": {},
     "output_type": "execute_result"
    },
    {
     "data": {
      "image/png": "[encoded data removed]",
      "text/plain": [
       "<Figure size 432x288 with 1 Axes>"
      ]
     },
     "metadata": {
      "needs_background": "light"
     },
     "output_type": "display_data"
    }
   ],
   "source": [
    "df.plot.scatter(x='TMIN', y='trips_delta')"
   ]
  },
  {
   "cell_type": "markdown",
   "metadata": {},
   "source": [
    "There are two very good machine learning algorithms that we haven't otherwise touched on. \n",
    "\n",
    "- XGBoost\n",
    "- Histogram Gradient Boosting\n",
    "\n",
    "They are both similar to random forests: they are large networks of decision trees trained in generations based\n",
    "on the outputs of the previous generation.\n",
    "\n",
    "Histogram Gradient Boosting is part of the sklearn library (even though it is still experimental and requires\n",
    "a special magic sequence to import it). The reason it is as fast as it is, is because it buckets each feature into\n",
    "bins and thus reduces the number of splits it has to calculate for each decision tree.\n",
    "\n",
    "XGBoost is a separate library which is a little difficult to install on OSX. You need to install Cmake first."
   ]
  },
  {
   "cell_type": "code",
   "execution_count": 106,
   "metadata": {},
   "outputs": [],
   "source": [
    "import xgboost"
   ]
  },
  {
   "cell_type": "code",
   "execution_count": 107,
   "metadata": {},
   "outputs": [],
   "source": [
    "from sklearn.experimental import enable_hist_gradient_boosting"
   ]
  },
  {
   "cell_type": "code",
   "execution_count": 108,
   "metadata": {},
   "outputs": [],
   "source": [
    "import sklearn.ensemble"
   ]
  },
  {
   "cell_type": "code",
   "execution_count": null,
   "metadata": {},
   "outputs": [],
   "source": [
    "sklearn.ensemble.HistGradientBoostingRegressor"
   ]
  },
  {
   "cell_type": "code",
   "execution_count": 115,
   "metadata": {},
   "outputs": [],
   "source": [
    "feature_columns = ['AWND' ,'PRCP' ,'SNOW' ,'SNWD' ,'TAVG' ,'TMAX' ,'TMIN']"
   ]
  },
  {
   "cell_type": "code",
   "execution_count": 120,
   "metadata": {},
   "outputs": [
    {
     "data": {
      "text/plain": [
       "-1675.5943544163813"
      ]
     },
     "execution_count": 120,
     "metadata": {},
     "output_type": "execute_result"
    }
   ],
   "source": [
    "sklearn.model_selection.cross_validate(\n",
    "    xgboost.XGBRegressor(),\n",
    "    df[feature_columns],\n",
    "    df.trips_delta,\n",
    "    cv=5,\n",
    "    scoring='neg_median_absolute_error'\n",
    ")['test_score'].mean()"
   ]
  },
  {
   "cell_type": "markdown",
   "metadata": {},
   "source": [
    "Let's create a function that does cross validation and gives us a useful number that expresses how good that regressor is."
   ]
  },
  {
   "cell_type": "code",
   "execution_count": 124,
   "metadata": {},
   "outputs": [],
   "source": [
    "def test_regressor(regressor, feature_columns):\n",
    "    return sklearn.model_selection.cross_validate(\n",
    "        regressor,\n",
    "        df[feature_columns],\n",
    "        df.trips_delta,\n",
    "        cv=5,\n",
    "        scoring='neg_median_absolute_error'\n",
    "    )['test_score'].mean()"
   ]
  },
  {
   "cell_type": "code",
   "execution_count": 125,
   "metadata": {},
   "outputs": [
    {
     "data": {
      "text/plain": [
       "-1675.5943544163813"
      ]
     },
     "execution_count": 125,
     "metadata": {},
     "output_type": "execute_result"
    }
   ],
   "source": [
    "test_regressor(xgboost.XGBRegressor(), feature_columns)"
   ]
  },
  {
   "cell_type": "code",
   "execution_count": 126,
   "metadata": {},
   "outputs": [
    {
     "data": {
      "text/plain": [
       "-1576.070447350247"
      ]
     },
     "execution_count": 126,
     "metadata": {},
     "output_type": "execute_result"
    }
   ],
   "source": [
    "test_regressor(sklearn.ensemble.HistGradientBoostingRegressor(), feature_columns)"
   ]
  },
  {
   "cell_type": "code",
   "execution_count": 127,
   "metadata": {},
   "outputs": [
    {
     "data": {
      "text/plain": [
       "-1920.422970494655"
      ]
     },
     "execution_count": 127,
     "metadata": {},
     "output_type": "execute_result"
    }
   ],
   "source": [
    "import sklearn.dummy\n",
    "test_regressor(sklearn.dummy.DummyRegressor(), feature_columns)"
   ]
  },
  {
   "cell_type": "code",
   "execution_count": 129,
   "metadata": {},
   "outputs": [
    {
     "data": {
      "text/plain": [
       "-1580.820046027397"
      ]
     },
     "execution_count": 129,
     "metadata": {},
     "output_type": "execute_result"
    }
   ],
   "source": [
    "test_regressor(sklearn.ensemble.RandomForestRegressor(n_estimators=50), feature_columns)"
   ]
  },
  {
   "cell_type": "markdown",
   "metadata": {},
   "source": [
    "If you have a lot of time, you can try to tune the hyperparameters of the Histogram Gradient Boosting regressor --\n",
    "it is already doing better than any other algorithm, but maybe it can do better."
   ]
  },
  {
   "cell_type": "code",
   "execution_count": 132,
   "metadata": {
    "collapsed": true
   },
   "outputs": [
    {
     "name": "stderr",
     "output_type": "stream",
     "text": [
      "D:\\Users\\gregb\\AppData\\Local\\Continuum\\anaconda3\\lib\\site-packages\\sklearn\\model_selection\\_split.py:1978: FutureWarning: The default value of cv will change from 3 to 5 in version 0.22. Specify it explicitly to silence this warning.\n",
      "  warnings.warn(CV_WARNING, FutureWarning)\n",
      "D:\\Users\\gregb\\AppData\\Local\\Continuum\\anaconda3\\lib\\site-packages\\sklearn\\model_selection\\_split.py:1978: FutureWarning: The default value of cv will change from 3 to 5 in version 0.22. Specify it explicitly to silence this warning.\n",
      "  warnings.warn(CV_WARNING, FutureWarning)\n",
      "D:\\Users\\gregb\\AppData\\Local\\Continuum\\anaconda3\\lib\\site-packages\\sklearn\\model_selection\\_search.py:813: DeprecationWarning: The default of the `iid` parameter will change from True to False in version 0.22 and will be removed in 0.24. This will change numeric results when test-set sizes are unequal.\n",
      "  DeprecationWarning)\n",
      "D:\\Users\\gregb\\AppData\\Local\\Continuum\\anaconda3\\lib\\site-packages\\sklearn\\model_selection\\_split.py:1978: FutureWarning: The default value of cv will change from 3 to 5 in version 0.22. Specify it explicitly to silence this warning.\n",
      "  warnings.warn(CV_WARNING, FutureWarning)\n"
     ]
    },
    {
     "ename": "KeyboardInterrupt",
     "evalue": "",
     "output_type": "error",
     "traceback": [
      "\u001b[1;31m---------------------------------------------------------------------------\u001b[0m",
      "\u001b[1;31mKeyboardInterrupt\u001b[0m                         Traceback (most recent call last)",
      "\u001b[1;32m<ipython-input-132-53db2964a16e>\u001b[0m in \u001b[0;36m<module>\u001b[1;34m\u001b[0m\n\u001b[0;32m      2\u001b[0m                                     param_grid={'learning_rate': [0.1, 0.2, 0.005],\n\u001b[0;32m      3\u001b[0m                                                \u001b[1;34m'max_depth'\u001b[0m\u001b[1;33m:\u001b[0m \u001b[1;33m[\u001b[0m\u001b[1;32mNone\u001b[0m\u001b[1;33m,\u001b[0m \u001b[1;36m2\u001b[0m\u001b[1;33m,\u001b[0m \u001b[1;36m3\u001b[0m\u001b[1;33m]\u001b[0m\u001b[1;33m,\u001b[0m\u001b[1;33m\u001b[0m\u001b[1;33m\u001b[0m\u001b[0m\n\u001b[1;32m----> 4\u001b[1;33m                                                'l2_regularization': [0.0, 0.1]}), feature_columns)\n\u001b[0m",
      "\u001b[1;32m<ipython-input-124-a516408372ad>\u001b[0m in \u001b[0;36mtest_regressor\u001b[1;34m(regressor, feature_columns)\u001b[0m\n\u001b[0;32m      5\u001b[0m         \u001b[0mdf\u001b[0m\u001b[1;33m.\u001b[0m\u001b[0mtrips_delta\u001b[0m\u001b[1;33m,\u001b[0m\u001b[1;33m\u001b[0m\u001b[1;33m\u001b[0m\u001b[0m\n\u001b[0;32m      6\u001b[0m         \u001b[0mcv\u001b[0m\u001b[1;33m=\u001b[0m\u001b[1;36m5\u001b[0m\u001b[1;33m,\u001b[0m\u001b[1;33m\u001b[0m\u001b[1;33m\u001b[0m\u001b[0m\n\u001b[1;32m----> 7\u001b[1;33m         \u001b[0mscoring\u001b[0m\u001b[1;33m=\u001b[0m\u001b[1;34m'neg_median_absolute_error'\u001b[0m\u001b[1;33m\u001b[0m\u001b[1;33m\u001b[0m\u001b[0m\n\u001b[0m\u001b[0;32m      8\u001b[0m     )['test_score'].mean()\n",
      "\u001b[1;32m~\\AppData\\Local\\Continuum\\anaconda3\\lib\\site-packages\\sklearn\\model_selection\\_validation.py\u001b[0m in \u001b[0;36mcross_validate\u001b[1;34m(estimator, X, y, groups, scoring, cv, n_jobs, verbose, fit_params, pre_dispatch, return_train_score, return_estimator, error_score)\u001b[0m\n\u001b[0;32m    229\u001b[0m             \u001b[0mreturn_times\u001b[0m\u001b[1;33m=\u001b[0m\u001b[1;32mTrue\u001b[0m\u001b[1;33m,\u001b[0m \u001b[0mreturn_estimator\u001b[0m\u001b[1;33m=\u001b[0m\u001b[0mreturn_estimator\u001b[0m\u001b[1;33m,\u001b[0m\u001b[1;33m\u001b[0m\u001b[1;33m\u001b[0m\u001b[0m\n\u001b[0;32m    230\u001b[0m             error_score=error_score)\n\u001b[1;32m--> 231\u001b[1;33m         for train, test in cv.split(X, y, groups))\n\u001b[0m\u001b[0;32m    232\u001b[0m \u001b[1;33m\u001b[0m\u001b[0m\n\u001b[0;32m    233\u001b[0m     \u001b[0mzipped_scores\u001b[0m \u001b[1;33m=\u001b[0m \u001b[0mlist\u001b[0m\u001b[1;33m(\u001b[0m\u001b[0mzip\u001b[0m\u001b[1;33m(\u001b[0m\u001b[1;33m*\u001b[0m\u001b[0mscores\u001b[0m\u001b[1;33m)\u001b[0m\u001b[1;33m)\u001b[0m\u001b[1;33m\u001b[0m\u001b[1;33m\u001b[0m\u001b[0m\n",
      "\u001b[1;32m~\\AppData\\Local\\Continuum\\anaconda3\\lib\\site-packages\\joblib\\parallel.py\u001b[0m in \u001b[0;36m__call__\u001b[1;34m(self, iterable)\u001b[0m\n\u001b[0;32m    922\u001b[0m                 \u001b[0mself\u001b[0m\u001b[1;33m.\u001b[0m\u001b[0m_iterating\u001b[0m \u001b[1;33m=\u001b[0m \u001b[0mself\u001b[0m\u001b[1;33m.\u001b[0m\u001b[0m_original_iterator\u001b[0m \u001b[1;32mis\u001b[0m \u001b[1;32mnot\u001b[0m \u001b[1;32mNone\u001b[0m\u001b[1;33m\u001b[0m\u001b[1;33m\u001b[0m\u001b[0m\n\u001b[0;32m    923\u001b[0m \u001b[1;33m\u001b[0m\u001b[0m\n\u001b[1;32m--> 924\u001b[1;33m             \u001b[1;32mwhile\u001b[0m \u001b[0mself\u001b[0m\u001b[1;33m.\u001b[0m\u001b[0mdispatch_one_batch\u001b[0m\u001b[1;33m(\u001b[0m\u001b[0miterator\u001b[0m\u001b[1;33m)\u001b[0m\u001b[1;33m:\u001b[0m\u001b[1;33m\u001b[0m\u001b[1;33m\u001b[0m\u001b[0m\n\u001b[0m\u001b[0;32m    925\u001b[0m                 \u001b[1;32mpass\u001b[0m\u001b[1;33m\u001b[0m\u001b[1;33m\u001b[0m\u001b[0m\n\u001b[0;32m    926\u001b[0m \u001b[1;33m\u001b[0m\u001b[0m\n",
      "\u001b[1;32m~\\AppData\\Local\\Continuum\\anaconda3\\lib\\site-packages\\joblib\\parallel.py\u001b[0m in \u001b[0;36mdispatch_one_batch\u001b[1;34m(self, iterator)\u001b[0m\n\u001b[0;32m    757\u001b[0m                 \u001b[1;32mreturn\u001b[0m \u001b[1;32mFalse\u001b[0m\u001b[1;33m\u001b[0m\u001b[1;33m\u001b[0m\u001b[0m\n\u001b[0;32m    758\u001b[0m             \u001b[1;32melse\u001b[0m\u001b[1;33m:\u001b[0m\u001b[1;33m\u001b[0m\u001b[1;33m\u001b[0m\u001b[0m\n\u001b[1;32m--> 759\u001b[1;33m                 \u001b[0mself\u001b[0m\u001b[1;33m.\u001b[0m\u001b[0m_dispatch\u001b[0m\u001b[1;33m(\u001b[0m\u001b[0mtasks\u001b[0m\u001b[1;33m)\u001b[0m\u001b[1;33m\u001b[0m\u001b[1;33m\u001b[0m\u001b[0m\n\u001b[0m\u001b[0;32m    760\u001b[0m                 \u001b[1;32mreturn\u001b[0m \u001b[1;32mTrue\u001b[0m\u001b[1;33m\u001b[0m\u001b[1;33m\u001b[0m\u001b[0m\n\u001b[0;32m    761\u001b[0m \u001b[1;33m\u001b[0m\u001b[0m\n",
      "\u001b[1;32m~\\AppData\\Local\\Continuum\\anaconda3\\lib\\site-packages\\joblib\\parallel.py\u001b[0m in \u001b[0;36m_dispatch\u001b[1;34m(self, batch)\u001b[0m\n\u001b[0;32m    714\u001b[0m         \u001b[1;32mwith\u001b[0m \u001b[0mself\u001b[0m\u001b[1;33m.\u001b[0m\u001b[0m_lock\u001b[0m\u001b[1;33m:\u001b[0m\u001b[1;33m\u001b[0m\u001b[1;33m\u001b[0m\u001b[0m\n\u001b[0;32m    715\u001b[0m             \u001b[0mjob_idx\u001b[0m \u001b[1;33m=\u001b[0m \u001b[0mlen\u001b[0m\u001b[1;33m(\u001b[0m\u001b[0mself\u001b[0m\u001b[1;33m.\u001b[0m\u001b[0m_jobs\u001b[0m\u001b[1;33m)\u001b[0m\u001b[1;33m\u001b[0m\u001b[1;33m\u001b[0m\u001b[0m\n\u001b[1;32m--> 716\u001b[1;33m             \u001b[0mjob\u001b[0m \u001b[1;33m=\u001b[0m \u001b[0mself\u001b[0m\u001b[1;33m.\u001b[0m\u001b[0m_backend\u001b[0m\u001b[1;33m.\u001b[0m\u001b[0mapply_async\u001b[0m\u001b[1;33m(\u001b[0m\u001b[0mbatch\u001b[0m\u001b[1;33m,\u001b[0m \u001b[0mcallback\u001b[0m\u001b[1;33m=\u001b[0m\u001b[0mcb\u001b[0m\u001b[1;33m)\u001b[0m\u001b[1;33m\u001b[0m\u001b[1;33m\u001b[0m\u001b[0m\n\u001b[0m\u001b[0;32m    717\u001b[0m             \u001b[1;31m# A job can complete so quickly than its callback is\u001b[0m\u001b[1;33m\u001b[0m\u001b[1;33m\u001b[0m\u001b[1;33m\u001b[0m\u001b[0m\n\u001b[0;32m    718\u001b[0m             \u001b[1;31m# called before we get here, causing self._jobs to\u001b[0m\u001b[1;33m\u001b[0m\u001b[1;33m\u001b[0m\u001b[1;33m\u001b[0m\u001b[0m\n",
      "\u001b[1;32m~\\AppData\\Local\\Continuum\\anaconda3\\lib\\site-packages\\joblib\\_parallel_backends.py\u001b[0m in \u001b[0;36mapply_async\u001b[1;34m(self, func, callback)\u001b[0m\n\u001b[0;32m    180\u001b[0m     \u001b[1;32mdef\u001b[0m \u001b[0mapply_async\u001b[0m\u001b[1;33m(\u001b[0m\u001b[0mself\u001b[0m\u001b[1;33m,\u001b[0m \u001b[0mfunc\u001b[0m\u001b[1;33m,\u001b[0m \u001b[0mcallback\u001b[0m\u001b[1;33m=\u001b[0m\u001b[1;32mNone\u001b[0m\u001b[1;33m)\u001b[0m\u001b[1;33m:\u001b[0m\u001b[1;33m\u001b[0m\u001b[1;33m\u001b[0m\u001b[0m\n\u001b[0;32m    181\u001b[0m         \u001b[1;34m\"\"\"Schedule a func to be run\"\"\"\u001b[0m\u001b[1;33m\u001b[0m\u001b[1;33m\u001b[0m\u001b[0m\n\u001b[1;32m--> 182\u001b[1;33m         \u001b[0mresult\u001b[0m \u001b[1;33m=\u001b[0m \u001b[0mImmediateResult\u001b[0m\u001b[1;33m(\u001b[0m\u001b[0mfunc\u001b[0m\u001b[1;33m)\u001b[0m\u001b[1;33m\u001b[0m\u001b[1;33m\u001b[0m\u001b[0m\n\u001b[0m\u001b[0;32m    183\u001b[0m         \u001b[1;32mif\u001b[0m \u001b[0mcallback\u001b[0m\u001b[1;33m:\u001b[0m\u001b[1;33m\u001b[0m\u001b[1;33m\u001b[0m\u001b[0m\n\u001b[0;32m    184\u001b[0m             \u001b[0mcallback\u001b[0m\u001b[1;33m(\u001b[0m\u001b[0mresult\u001b[0m\u001b[1;33m)\u001b[0m\u001b[1;33m\u001b[0m\u001b[1;33m\u001b[0m\u001b[0m\n",
      "\u001b[1;32m~\\AppData\\Local\\Continuum\\anaconda3\\lib\\site-packages\\joblib\\_parallel_backends.py\u001b[0m in \u001b[0;36m__init__\u001b[1;34m(self, batch)\u001b[0m\n\u001b[0;32m    547\u001b[0m         \u001b[1;31m# Don't delay the application, to avoid keeping the input\u001b[0m\u001b[1;33m\u001b[0m\u001b[1;33m\u001b[0m\u001b[1;33m\u001b[0m\u001b[0m\n\u001b[0;32m    548\u001b[0m         \u001b[1;31m# arguments in memory\u001b[0m\u001b[1;33m\u001b[0m\u001b[1;33m\u001b[0m\u001b[1;33m\u001b[0m\u001b[0m\n\u001b[1;32m--> 549\u001b[1;33m         \u001b[0mself\u001b[0m\u001b[1;33m.\u001b[0m\u001b[0mresults\u001b[0m \u001b[1;33m=\u001b[0m \u001b[0mbatch\u001b[0m\u001b[1;33m(\u001b[0m\u001b[1;33m)\u001b[0m\u001b[1;33m\u001b[0m\u001b[1;33m\u001b[0m\u001b[0m\n\u001b[0m\u001b[0;32m    550\u001b[0m \u001b[1;33m\u001b[0m\u001b[0m\n\u001b[0;32m    551\u001b[0m     \u001b[1;32mdef\u001b[0m \u001b[0mget\u001b[0m\u001b[1;33m(\u001b[0m\u001b[0mself\u001b[0m\u001b[1;33m)\u001b[0m\u001b[1;33m:\u001b[0m\u001b[1;33m\u001b[0m\u001b[1;33m\u001b[0m\u001b[0m\n",
      "\u001b[1;32m~\\AppData\\Local\\Continuum\\anaconda3\\lib\\site-packages\\joblib\\parallel.py\u001b[0m in \u001b[0;36m__call__\u001b[1;34m(self)\u001b[0m\n\u001b[0;32m    223\u001b[0m         \u001b[1;32mwith\u001b[0m \u001b[0mparallel_backend\u001b[0m\u001b[1;33m(\u001b[0m\u001b[0mself\u001b[0m\u001b[1;33m.\u001b[0m\u001b[0m_backend\u001b[0m\u001b[1;33m,\u001b[0m \u001b[0mn_jobs\u001b[0m\u001b[1;33m=\u001b[0m\u001b[0mself\u001b[0m\u001b[1;33m.\u001b[0m\u001b[0m_n_jobs\u001b[0m\u001b[1;33m)\u001b[0m\u001b[1;33m:\u001b[0m\u001b[1;33m\u001b[0m\u001b[1;33m\u001b[0m\u001b[0m\n\u001b[0;32m    224\u001b[0m             return [func(*args, **kwargs)\n\u001b[1;32m--> 225\u001b[1;33m                     for func, args, kwargs in self.items]\n\u001b[0m\u001b[0;32m    226\u001b[0m \u001b[1;33m\u001b[0m\u001b[0m\n\u001b[0;32m    227\u001b[0m     \u001b[1;32mdef\u001b[0m \u001b[0m__len__\u001b[0m\u001b[1;33m(\u001b[0m\u001b[0mself\u001b[0m\u001b[1;33m)\u001b[0m\u001b[1;33m:\u001b[0m\u001b[1;33m\u001b[0m\u001b[1;33m\u001b[0m\u001b[0m\n",
      "\u001b[1;32m~\\AppData\\Local\\Continuum\\anaconda3\\lib\\site-packages\\joblib\\parallel.py\u001b[0m in \u001b[0;36m<listcomp>\u001b[1;34m(.0)\u001b[0m\n\u001b[0;32m    223\u001b[0m         \u001b[1;32mwith\u001b[0m \u001b[0mparallel_backend\u001b[0m\u001b[1;33m(\u001b[0m\u001b[0mself\u001b[0m\u001b[1;33m.\u001b[0m\u001b[0m_backend\u001b[0m\u001b[1;33m,\u001b[0m \u001b[0mn_jobs\u001b[0m\u001b[1;33m=\u001b[0m\u001b[0mself\u001b[0m\u001b[1;33m.\u001b[0m\u001b[0m_n_jobs\u001b[0m\u001b[1;33m)\u001b[0m\u001b[1;33m:\u001b[0m\u001b[1;33m\u001b[0m\u001b[1;33m\u001b[0m\u001b[0m\n\u001b[0;32m    224\u001b[0m             return [func(*args, **kwargs)\n\u001b[1;32m--> 225\u001b[1;33m                     for func, args, kwargs in self.items]\n\u001b[0m\u001b[0;32m    226\u001b[0m \u001b[1;33m\u001b[0m\u001b[0m\n\u001b[0;32m    227\u001b[0m     \u001b[1;32mdef\u001b[0m \u001b[0m__len__\u001b[0m\u001b[1;33m(\u001b[0m\u001b[0mself\u001b[0m\u001b[1;33m)\u001b[0m\u001b[1;33m:\u001b[0m\u001b[1;33m\u001b[0m\u001b[1;33m\u001b[0m\u001b[0m\n",
      "\u001b[1;32m~\\AppData\\Local\\Continuum\\anaconda3\\lib\\site-packages\\sklearn\\model_selection\\_validation.py\u001b[0m in \u001b[0;36m_fit_and_score\u001b[1;34m(estimator, X, y, scorer, train, test, verbose, parameters, fit_params, return_train_score, return_parameters, return_n_test_samples, return_times, return_estimator, error_score)\u001b[0m\n\u001b[0;32m    512\u001b[0m             \u001b[0mestimator\u001b[0m\u001b[1;33m.\u001b[0m\u001b[0mfit\u001b[0m\u001b[1;33m(\u001b[0m\u001b[0mX_train\u001b[0m\u001b[1;33m,\u001b[0m \u001b[1;33m**\u001b[0m\u001b[0mfit_params\u001b[0m\u001b[1;33m)\u001b[0m\u001b[1;33m\u001b[0m\u001b[1;33m\u001b[0m\u001b[0m\n\u001b[0;32m    513\u001b[0m         \u001b[1;32melse\u001b[0m\u001b[1;33m:\u001b[0m\u001b[1;33m\u001b[0m\u001b[1;33m\u001b[0m\u001b[0m\n\u001b[1;32m--> 514\u001b[1;33m             \u001b[0mestimator\u001b[0m\u001b[1;33m.\u001b[0m\u001b[0mfit\u001b[0m\u001b[1;33m(\u001b[0m\u001b[0mX_train\u001b[0m\u001b[1;33m,\u001b[0m \u001b[0my_train\u001b[0m\u001b[1;33m,\u001b[0m \u001b[1;33m**\u001b[0m\u001b[0mfit_params\u001b[0m\u001b[1;33m)\u001b[0m\u001b[1;33m\u001b[0m\u001b[1;33m\u001b[0m\u001b[0m\n\u001b[0m\u001b[0;32m    515\u001b[0m \u001b[1;33m\u001b[0m\u001b[0m\n\u001b[0;32m    516\u001b[0m     \u001b[1;32mexcept\u001b[0m \u001b[0mException\u001b[0m \u001b[1;32mas\u001b[0m \u001b[0me\u001b[0m\u001b[1;33m:\u001b[0m\u001b[1;33m\u001b[0m\u001b[1;33m\u001b[0m\u001b[0m\n",
      "\u001b[1;32m~\\AppData\\Local\\Continuum\\anaconda3\\lib\\site-packages\\sklearn\\model_selection\\_search.py\u001b[0m in \u001b[0;36mfit\u001b[1;34m(self, X, y, groups, **fit_params)\u001b[0m\n\u001b[0;32m    685\u001b[0m                 \u001b[1;32mreturn\u001b[0m \u001b[0mresults\u001b[0m\u001b[1;33m\u001b[0m\u001b[1;33m\u001b[0m\u001b[0m\n\u001b[0;32m    686\u001b[0m \u001b[1;33m\u001b[0m\u001b[0m\n\u001b[1;32m--> 687\u001b[1;33m             \u001b[0mself\u001b[0m\u001b[1;33m.\u001b[0m\u001b[0m_run_search\u001b[0m\u001b[1;33m(\u001b[0m\u001b[0mevaluate_candidates\u001b[0m\u001b[1;33m)\u001b[0m\u001b[1;33m\u001b[0m\u001b[1;33m\u001b[0m\u001b[0m\n\u001b[0m\u001b[0;32m    688\u001b[0m \u001b[1;33m\u001b[0m\u001b[0m\n\u001b[0;32m    689\u001b[0m         \u001b[1;31m# For multi-metric evaluation, store the best_index_, best_params_ and\u001b[0m\u001b[1;33m\u001b[0m\u001b[1;33m\u001b[0m\u001b[1;33m\u001b[0m\u001b[0m\n",
      "\u001b[1;32m~\\AppData\\Local\\Continuum\\anaconda3\\lib\\site-packages\\sklearn\\model_selection\\_search.py\u001b[0m in \u001b[0;36m_run_search\u001b[1;34m(self, evaluate_candidates)\u001b[0m\n\u001b[0;32m   1146\u001b[0m     \u001b[1;32mdef\u001b[0m \u001b[0m_run_search\u001b[0m\u001b[1;33m(\u001b[0m\u001b[0mself\u001b[0m\u001b[1;33m,\u001b[0m \u001b[0mevaluate_candidates\u001b[0m\u001b[1;33m)\u001b[0m\u001b[1;33m:\u001b[0m\u001b[1;33m\u001b[0m\u001b[1;33m\u001b[0m\u001b[0m\n\u001b[0;32m   1147\u001b[0m         \u001b[1;34m\"\"\"Search all candidates in param_grid\"\"\"\u001b[0m\u001b[1;33m\u001b[0m\u001b[1;33m\u001b[0m\u001b[0m\n\u001b[1;32m-> 1148\u001b[1;33m         \u001b[0mevaluate_candidates\u001b[0m\u001b[1;33m(\u001b[0m\u001b[0mParameterGrid\u001b[0m\u001b[1;33m(\u001b[0m\u001b[0mself\u001b[0m\u001b[1;33m.\u001b[0m\u001b[0mparam_grid\u001b[0m\u001b[1;33m)\u001b[0m\u001b[1;33m)\u001b[0m\u001b[1;33m\u001b[0m\u001b[1;33m\u001b[0m\u001b[0m\n\u001b[0m\u001b[0;32m   1149\u001b[0m \u001b[1;33m\u001b[0m\u001b[0m\n\u001b[0;32m   1150\u001b[0m \u001b[1;33m\u001b[0m\u001b[0m\n",
      "\u001b[1;32m~\\AppData\\Local\\Continuum\\anaconda3\\lib\\site-packages\\sklearn\\model_selection\\_search.py\u001b[0m in \u001b[0;36mevaluate_candidates\u001b[1;34m(candidate_params)\u001b[0m\n\u001b[0;32m    664\u001b[0m                                \u001b[1;32mfor\u001b[0m \u001b[0mparameters\u001b[0m\u001b[1;33m,\u001b[0m \u001b[1;33m(\u001b[0m\u001b[0mtrain\u001b[0m\u001b[1;33m,\u001b[0m \u001b[0mtest\u001b[0m\u001b[1;33m)\u001b[0m\u001b[1;33m\u001b[0m\u001b[1;33m\u001b[0m\u001b[0m\n\u001b[0;32m    665\u001b[0m                                in product(candidate_params,\n\u001b[1;32m--> 666\u001b[1;33m                                           cv.split(X, y, groups)))\n\u001b[0m\u001b[0;32m    667\u001b[0m \u001b[1;33m\u001b[0m\u001b[0m\n\u001b[0;32m    668\u001b[0m                 \u001b[1;32mif\u001b[0m \u001b[0mlen\u001b[0m\u001b[1;33m(\u001b[0m\u001b[0mout\u001b[0m\u001b[1;33m)\u001b[0m \u001b[1;33m<\u001b[0m \u001b[1;36m1\u001b[0m\u001b[1;33m:\u001b[0m\u001b[1;33m\u001b[0m\u001b[1;33m\u001b[0m\u001b[0m\n",
      "\u001b[1;32m~\\AppData\\Local\\Continuum\\anaconda3\\lib\\site-packages\\joblib\\parallel.py\u001b[0m in \u001b[0;36m__call__\u001b[1;34m(self, iterable)\u001b[0m\n\u001b[0;32m    922\u001b[0m                 \u001b[0mself\u001b[0m\u001b[1;33m.\u001b[0m\u001b[0m_iterating\u001b[0m \u001b[1;33m=\u001b[0m \u001b[0mself\u001b[0m\u001b[1;33m.\u001b[0m\u001b[0m_original_iterator\u001b[0m \u001b[1;32mis\u001b[0m \u001b[1;32mnot\u001b[0m \u001b[1;32mNone\u001b[0m\u001b[1;33m\u001b[0m\u001b[1;33m\u001b[0m\u001b[0m\n\u001b[0;32m    923\u001b[0m \u001b[1;33m\u001b[0m\u001b[0m\n\u001b[1;32m--> 924\u001b[1;33m             \u001b[1;32mwhile\u001b[0m \u001b[0mself\u001b[0m\u001b[1;33m.\u001b[0m\u001b[0mdispatch_one_batch\u001b[0m\u001b[1;33m(\u001b[0m\u001b[0miterator\u001b[0m\u001b[1;33m)\u001b[0m\u001b[1;33m:\u001b[0m\u001b[1;33m\u001b[0m\u001b[1;33m\u001b[0m\u001b[0m\n\u001b[0m\u001b[0;32m    925\u001b[0m                 \u001b[1;32mpass\u001b[0m\u001b[1;33m\u001b[0m\u001b[1;33m\u001b[0m\u001b[0m\n\u001b[0;32m    926\u001b[0m \u001b[1;33m\u001b[0m\u001b[0m\n",
      "\u001b[1;32m~\\AppData\\Local\\Continuum\\anaconda3\\lib\\site-packages\\joblib\\parallel.py\u001b[0m in \u001b[0;36mdispatch_one_batch\u001b[1;34m(self, iterator)\u001b[0m\n\u001b[0;32m    757\u001b[0m                 \u001b[1;32mreturn\u001b[0m \u001b[1;32mFalse\u001b[0m\u001b[1;33m\u001b[0m\u001b[1;33m\u001b[0m\u001b[0m\n\u001b[0;32m    758\u001b[0m             \u001b[1;32melse\u001b[0m\u001b[1;33m:\u001b[0m\u001b[1;33m\u001b[0m\u001b[1;33m\u001b[0m\u001b[0m\n\u001b[1;32m--> 759\u001b[1;33m                 \u001b[0mself\u001b[0m\u001b[1;33m.\u001b[0m\u001b[0m_dispatch\u001b[0m\u001b[1;33m(\u001b[0m\u001b[0mtasks\u001b[0m\u001b[1;33m)\u001b[0m\u001b[1;33m\u001b[0m\u001b[1;33m\u001b[0m\u001b[0m\n\u001b[0m\u001b[0;32m    760\u001b[0m                 \u001b[1;32mreturn\u001b[0m \u001b[1;32mTrue\u001b[0m\u001b[1;33m\u001b[0m\u001b[1;33m\u001b[0m\u001b[0m\n\u001b[0;32m    761\u001b[0m \u001b[1;33m\u001b[0m\u001b[0m\n",
      "\u001b[1;32m~\\AppData\\Local\\Continuum\\anaconda3\\lib\\site-packages\\joblib\\parallel.py\u001b[0m in \u001b[0;36m_dispatch\u001b[1;34m(self, batch)\u001b[0m\n\u001b[0;32m    714\u001b[0m         \u001b[1;32mwith\u001b[0m \u001b[0mself\u001b[0m\u001b[1;33m.\u001b[0m\u001b[0m_lock\u001b[0m\u001b[1;33m:\u001b[0m\u001b[1;33m\u001b[0m\u001b[1;33m\u001b[0m\u001b[0m\n\u001b[0;32m    715\u001b[0m             \u001b[0mjob_idx\u001b[0m \u001b[1;33m=\u001b[0m \u001b[0mlen\u001b[0m\u001b[1;33m(\u001b[0m\u001b[0mself\u001b[0m\u001b[1;33m.\u001b[0m\u001b[0m_jobs\u001b[0m\u001b[1;33m)\u001b[0m\u001b[1;33m\u001b[0m\u001b[1;33m\u001b[0m\u001b[0m\n\u001b[1;32m--> 716\u001b[1;33m             \u001b[0mjob\u001b[0m \u001b[1;33m=\u001b[0m \u001b[0mself\u001b[0m\u001b[1;33m.\u001b[0m\u001b[0m_backend\u001b[0m\u001b[1;33m.\u001b[0m\u001b[0mapply_async\u001b[0m\u001b[1;33m(\u001b[0m\u001b[0mbatch\u001b[0m\u001b[1;33m,\u001b[0m \u001b[0mcallback\u001b[0m\u001b[1;33m=\u001b[0m\u001b[0mcb\u001b[0m\u001b[1;33m)\u001b[0m\u001b[1;33m\u001b[0m\u001b[1;33m\u001b[0m\u001b[0m\n\u001b[0m\u001b[0;32m    717\u001b[0m             \u001b[1;31m# A job can complete so quickly than its callback is\u001b[0m\u001b[1;33m\u001b[0m\u001b[1;33m\u001b[0m\u001b[1;33m\u001b[0m\u001b[0m\n\u001b[0;32m    718\u001b[0m             \u001b[1;31m# called before we get here, causing self._jobs to\u001b[0m\u001b[1;33m\u001b[0m\u001b[1;33m\u001b[0m\u001b[1;33m\u001b[0m\u001b[0m\n",
      "\u001b[1;32m~\\AppData\\Local\\Continuum\\anaconda3\\lib\\site-packages\\joblib\\_parallel_backends.py\u001b[0m in \u001b[0;36mapply_async\u001b[1;34m(self, func, callback)\u001b[0m\n\u001b[0;32m    180\u001b[0m     \u001b[1;32mdef\u001b[0m \u001b[0mapply_async\u001b[0m\u001b[1;33m(\u001b[0m\u001b[0mself\u001b[0m\u001b[1;33m,\u001b[0m \u001b[0mfunc\u001b[0m\u001b[1;33m,\u001b[0m \u001b[0mcallback\u001b[0m\u001b[1;33m=\u001b[0m\u001b[1;32mNone\u001b[0m\u001b[1;33m)\u001b[0m\u001b[1;33m:\u001b[0m\u001b[1;33m\u001b[0m\u001b[1;33m\u001b[0m\u001b[0m\n\u001b[0;32m    181\u001b[0m         \u001b[1;34m\"\"\"Schedule a func to be run\"\"\"\u001b[0m\u001b[1;33m\u001b[0m\u001b[1;33m\u001b[0m\u001b[0m\n\u001b[1;32m--> 182\u001b[1;33m         \u001b[0mresult\u001b[0m \u001b[1;33m=\u001b[0m \u001b[0mImmediateResult\u001b[0m\u001b[1;33m(\u001b[0m\u001b[0mfunc\u001b[0m\u001b[1;33m)\u001b[0m\u001b[1;33m\u001b[0m\u001b[1;33m\u001b[0m\u001b[0m\n\u001b[0m\u001b[0;32m    183\u001b[0m         \u001b[1;32mif\u001b[0m \u001b[0mcallback\u001b[0m\u001b[1;33m:\u001b[0m\u001b[1;33m\u001b[0m\u001b[1;33m\u001b[0m\u001b[0m\n\u001b[0;32m    184\u001b[0m             \u001b[0mcallback\u001b[0m\u001b[1;33m(\u001b[0m\u001b[0mresult\u001b[0m\u001b[1;33m)\u001b[0m\u001b[1;33m\u001b[0m\u001b[1;33m\u001b[0m\u001b[0m\n",
      "\u001b[1;32m~\\AppData\\Local\\Continuum\\anaconda3\\lib\\site-packages\\joblib\\_parallel_backends.py\u001b[0m in \u001b[0;36m__init__\u001b[1;34m(self, batch)\u001b[0m\n\u001b[0;32m    547\u001b[0m         \u001b[1;31m# Don't delay the application, to avoid keeping the input\u001b[0m\u001b[1;33m\u001b[0m\u001b[1;33m\u001b[0m\u001b[1;33m\u001b[0m\u001b[0m\n\u001b[0;32m    548\u001b[0m         \u001b[1;31m# arguments in memory\u001b[0m\u001b[1;33m\u001b[0m\u001b[1;33m\u001b[0m\u001b[1;33m\u001b[0m\u001b[0m\n\u001b[1;32m--> 549\u001b[1;33m         \u001b[0mself\u001b[0m\u001b[1;33m.\u001b[0m\u001b[0mresults\u001b[0m \u001b[1;33m=\u001b[0m \u001b[0mbatch\u001b[0m\u001b[1;33m(\u001b[0m\u001b[1;33m)\u001b[0m\u001b[1;33m\u001b[0m\u001b[1;33m\u001b[0m\u001b[0m\n\u001b[0m\u001b[0;32m    550\u001b[0m \u001b[1;33m\u001b[0m\u001b[0m\n\u001b[0;32m    551\u001b[0m     \u001b[1;32mdef\u001b[0m \u001b[0mget\u001b[0m\u001b[1;33m(\u001b[0m\u001b[0mself\u001b[0m\u001b[1;33m)\u001b[0m\u001b[1;33m:\u001b[0m\u001b[1;33m\u001b[0m\u001b[1;33m\u001b[0m\u001b[0m\n",
      "\u001b[1;32m~\\AppData\\Local\\Continuum\\anaconda3\\lib\\site-packages\\joblib\\parallel.py\u001b[0m in \u001b[0;36m__call__\u001b[1;34m(self)\u001b[0m\n\u001b[0;32m    223\u001b[0m         \u001b[1;32mwith\u001b[0m \u001b[0mparallel_backend\u001b[0m\u001b[1;33m(\u001b[0m\u001b[0mself\u001b[0m\u001b[1;33m.\u001b[0m\u001b[0m_backend\u001b[0m\u001b[1;33m,\u001b[0m \u001b[0mn_jobs\u001b[0m\u001b[1;33m=\u001b[0m\u001b[0mself\u001b[0m\u001b[1;33m.\u001b[0m\u001b[0m_n_jobs\u001b[0m\u001b[1;33m)\u001b[0m\u001b[1;33m:\u001b[0m\u001b[1;33m\u001b[0m\u001b[1;33m\u001b[0m\u001b[0m\n\u001b[0;32m    224\u001b[0m             return [func(*args, **kwargs)\n\u001b[1;32m--> 225\u001b[1;33m                     for func, args, kwargs in self.items]\n\u001b[0m\u001b[0;32m    226\u001b[0m \u001b[1;33m\u001b[0m\u001b[0m\n\u001b[0;32m    227\u001b[0m     \u001b[1;32mdef\u001b[0m \u001b[0m__len__\u001b[0m\u001b[1;33m(\u001b[0m\u001b[0mself\u001b[0m\u001b[1;33m)\u001b[0m\u001b[1;33m:\u001b[0m\u001b[1;33m\u001b[0m\u001b[1;33m\u001b[0m\u001b[0m\n",
      "\u001b[1;32m~\\AppData\\Local\\Continuum\\anaconda3\\lib\\site-packages\\joblib\\parallel.py\u001b[0m in \u001b[0;36m<listcomp>\u001b[1;34m(.0)\u001b[0m\n\u001b[0;32m    223\u001b[0m         \u001b[1;32mwith\u001b[0m \u001b[0mparallel_backend\u001b[0m\u001b[1;33m(\u001b[0m\u001b[0mself\u001b[0m\u001b[1;33m.\u001b[0m\u001b[0m_backend\u001b[0m\u001b[1;33m,\u001b[0m \u001b[0mn_jobs\u001b[0m\u001b[1;33m=\u001b[0m\u001b[0mself\u001b[0m\u001b[1;33m.\u001b[0m\u001b[0m_n_jobs\u001b[0m\u001b[1;33m)\u001b[0m\u001b[1;33m:\u001b[0m\u001b[1;33m\u001b[0m\u001b[1;33m\u001b[0m\u001b[0m\n\u001b[0;32m    224\u001b[0m             return [func(*args, **kwargs)\n\u001b[1;32m--> 225\u001b[1;33m                     for func, args, kwargs in self.items]\n\u001b[0m\u001b[0;32m    226\u001b[0m \u001b[1;33m\u001b[0m\u001b[0m\n\u001b[0;32m    227\u001b[0m     \u001b[1;32mdef\u001b[0m \u001b[0m__len__\u001b[0m\u001b[1;33m(\u001b[0m\u001b[0mself\u001b[0m\u001b[1;33m)\u001b[0m\u001b[1;33m:\u001b[0m\u001b[1;33m\u001b[0m\u001b[1;33m\u001b[0m\u001b[0m\n",
      "\u001b[1;32m~\\AppData\\Local\\Continuum\\anaconda3\\lib\\site-packages\\sklearn\\model_selection\\_validation.py\u001b[0m in \u001b[0;36m_fit_and_score\u001b[1;34m(estimator, X, y, scorer, train, test, verbose, parameters, fit_params, return_train_score, return_parameters, return_n_test_samples, return_times, return_estimator, error_score)\u001b[0m\n\u001b[0;32m    512\u001b[0m             \u001b[0mestimator\u001b[0m\u001b[1;33m.\u001b[0m\u001b[0mfit\u001b[0m\u001b[1;33m(\u001b[0m\u001b[0mX_train\u001b[0m\u001b[1;33m,\u001b[0m \u001b[1;33m**\u001b[0m\u001b[0mfit_params\u001b[0m\u001b[1;33m)\u001b[0m\u001b[1;33m\u001b[0m\u001b[1;33m\u001b[0m\u001b[0m\n\u001b[0;32m    513\u001b[0m         \u001b[1;32melse\u001b[0m\u001b[1;33m:\u001b[0m\u001b[1;33m\u001b[0m\u001b[1;33m\u001b[0m\u001b[0m\n\u001b[1;32m--> 514\u001b[1;33m             \u001b[0mestimator\u001b[0m\u001b[1;33m.\u001b[0m\u001b[0mfit\u001b[0m\u001b[1;33m(\u001b[0m\u001b[0mX_train\u001b[0m\u001b[1;33m,\u001b[0m \u001b[0my_train\u001b[0m\u001b[1;33m,\u001b[0m \u001b[1;33m**\u001b[0m\u001b[0mfit_params\u001b[0m\u001b[1;33m)\u001b[0m\u001b[1;33m\u001b[0m\u001b[1;33m\u001b[0m\u001b[0m\n\u001b[0m\u001b[0;32m    515\u001b[0m \u001b[1;33m\u001b[0m\u001b[0m\n\u001b[0;32m    516\u001b[0m     \u001b[1;32mexcept\u001b[0m \u001b[0mException\u001b[0m \u001b[1;32mas\u001b[0m \u001b[0me\u001b[0m\u001b[1;33m:\u001b[0m\u001b[1;33m\u001b[0m\u001b[1;33m\u001b[0m\u001b[0m\n",
      "\u001b[1;32m~\\AppData\\Local\\Continuum\\anaconda3\\lib\\site-packages\\sklearn\\ensemble\\_hist_gradient_boosting\\gradient_boosting.py\u001b[0m in \u001b[0;36mfit\u001b[1;34m(self, X, y)\u001b[0m\n\u001b[0;32m    256\u001b[0m                     \u001b[0ml2_regularization\u001b[0m\u001b[1;33m=\u001b[0m\u001b[0mself\u001b[0m\u001b[1;33m.\u001b[0m\u001b[0ml2_regularization\u001b[0m\u001b[1;33m,\u001b[0m\u001b[1;33m\u001b[0m\u001b[1;33m\u001b[0m\u001b[0m\n\u001b[0;32m    257\u001b[0m                     shrinkage=self.learning_rate)\n\u001b[1;32m--> 258\u001b[1;33m                 \u001b[0mgrower\u001b[0m\u001b[1;33m.\u001b[0m\u001b[0mgrow\u001b[0m\u001b[1;33m(\u001b[0m\u001b[1;33m)\u001b[0m\u001b[1;33m\u001b[0m\u001b[1;33m\u001b[0m\u001b[0m\n\u001b[0m\u001b[0;32m    259\u001b[0m \u001b[1;33m\u001b[0m\u001b[0m\n\u001b[0;32m    260\u001b[0m                 \u001b[0macc_apply_split_time\u001b[0m \u001b[1;33m+=\u001b[0m \u001b[0mgrower\u001b[0m\u001b[1;33m.\u001b[0m\u001b[0mtotal_apply_split_time\u001b[0m\u001b[1;33m\u001b[0m\u001b[1;33m\u001b[0m\u001b[0m\n",
      "\u001b[1;32m~\\AppData\\Local\\Continuum\\anaconda3\\lib\\site-packages\\sklearn\\ensemble\\_hist_gradient_boosting\\grower.py\u001b[0m in \u001b[0;36mgrow\u001b[1;34m(self)\u001b[0m\n\u001b[0;32m    233\u001b[0m         \u001b[1;34m\"\"\"Grow the tree, from root to leaves.\"\"\"\u001b[0m\u001b[1;33m\u001b[0m\u001b[1;33m\u001b[0m\u001b[0m\n\u001b[0;32m    234\u001b[0m         \u001b[1;32mwhile\u001b[0m \u001b[0mself\u001b[0m\u001b[1;33m.\u001b[0m\u001b[0msplittable_nodes\u001b[0m\u001b[1;33m:\u001b[0m\u001b[1;33m\u001b[0m\u001b[1;33m\u001b[0m\u001b[0m\n\u001b[1;32m--> 235\u001b[1;33m             \u001b[0mself\u001b[0m\u001b[1;33m.\u001b[0m\u001b[0msplit_next\u001b[0m\u001b[1;33m(\u001b[0m\u001b[1;33m)\u001b[0m\u001b[1;33m\u001b[0m\u001b[1;33m\u001b[0m\u001b[0m\n\u001b[0m\u001b[0;32m    236\u001b[0m \u001b[1;33m\u001b[0m\u001b[0m\n\u001b[0;32m    237\u001b[0m     \u001b[1;32mdef\u001b[0m \u001b[0m_intilialize_root\u001b[0m\u001b[1;33m(\u001b[0m\u001b[0mself\u001b[0m\u001b[1;33m,\u001b[0m \u001b[0mgradients\u001b[0m\u001b[1;33m,\u001b[0m \u001b[0mhessians\u001b[0m\u001b[1;33m,\u001b[0m \u001b[0mhessians_are_constant\u001b[0m\u001b[1;33m)\u001b[0m\u001b[1;33m:\u001b[0m\u001b[1;33m\u001b[0m\u001b[1;33m\u001b[0m\u001b[0m\n",
      "\u001b[1;32m~\\AppData\\Local\\Continuum\\anaconda3\\lib\\site-packages\\sklearn\\ensemble\\_hist_gradient_boosting\\grower.py\u001b[0m in \u001b[0;36msplit_next\u001b[1;34m(self)\u001b[0m\n\u001b[0;32m    375\u001b[0m             \u001b[0mlargest_child\u001b[0m\u001b[1;33m.\u001b[0m\u001b[0mhistograms\u001b[0m \u001b[1;33m=\u001b[0m\u001b[0;31m \u001b[0m\u001b[0;31m\\\u001b[0m\u001b[1;33m\u001b[0m\u001b[1;33m\u001b[0m\u001b[0m\n\u001b[0;32m    376\u001b[0m                 self.histogram_builder.compute_histograms_subtraction(\n\u001b[1;32m--> 377\u001b[1;33m                     node.histograms, smallest_child.histograms)\n\u001b[0m\u001b[0;32m    378\u001b[0m             \u001b[0mself\u001b[0m\u001b[1;33m.\u001b[0m\u001b[0mtotal_compute_hist_time\u001b[0m \u001b[1;33m+=\u001b[0m \u001b[0mtime\u001b[0m\u001b[1;33m(\u001b[0m\u001b[1;33m)\u001b[0m \u001b[1;33m-\u001b[0m \u001b[0mtic\u001b[0m\u001b[1;33m\u001b[0m\u001b[1;33m\u001b[0m\u001b[0m\n\u001b[0;32m    379\u001b[0m \u001b[1;33m\u001b[0m\u001b[0m\n",
      "\u001b[1;31mKeyboardInterrupt\u001b[0m: "
     ]
    }
   ],
   "source": [
    "test_regressor(sklearn.model_selection.GridSearchCV(sklearn.ensemble.HistGradientBoostingRegressor(),\n",
    "                                    param_grid={'learning_rate': [0.1, 0.2, 0.005],\n",
    "                                               'max_depth': [None, 2, 3],\n",
    "                                               'l2_regularization': [0.0, 0.1]}), feature_columns)"
   ]
  },
  {
   "cell_type": "code",
   "execution_count": 133,
   "metadata": {},
   "outputs": [],
   "source": [
    "import sklearn.linear_model"
   ]
  },
  {
   "cell_type": "code",
   "execution_count": 137,
   "metadata": {},
   "outputs": [
    {
     "data": {
      "text/plain": [
       "-1582.5438635780388"
      ]
     },
     "execution_count": 137,
     "metadata": {},
     "output_type": "execute_result"
    }
   ],
   "source": [
    "test_regressor(sklearn.linear_model.HuberRegressor(), feature_columns)"
   ]
  },
  {
   "cell_type": "code",
   "execution_count": 140,
   "metadata": {},
   "outputs": [
    {
     "data": {
      "text/plain": [
       "-1914.6270817388663"
      ]
     },
     "execution_count": 140,
     "metadata": {},
     "output_type": "execute_result"
    }
   ],
   "source": [
    "test_regressor(sklearn.linear_model.RANSACRegressor(), feature_columns)"
   ]
  },
  {
   "cell_type": "code",
   "execution_count": 141,
   "metadata": {},
   "outputs": [
    {
     "data": {
      "text/plain": [
       "-1711.6066757596186"
      ]
     },
     "execution_count": 141,
     "metadata": {},
     "output_type": "execute_result"
    }
   ],
   "source": [
    "test_regressor(sklearn.linear_model.TheilSenRegressor(), feature_columns)"
   ]
  },
  {
   "cell_type": "markdown",
   "metadata": {},
   "source": [
    "It's useful to create a dataframe of the results of different kinds of regressors. It makes it easier to compare."
   ]
  },
  {
   "cell_type": "code",
   "execution_count": 153,
   "metadata": {},
   "outputs": [
    {
     "name": "stdout",
     "output_type": "stream",
     "text": [
      "Wall time: 17.9 s\n"
     ]
    },
    {
     "data": {
      "text/html": [
       "<div>\n",
       "<style scoped>\n",
       "    .dataframe tbody tr th:only-of-type {\n",
       "        vertical-align: middle;\n",
       "    }\n",
       "\n",
       "    .dataframe tbody tr th {\n",
       "        vertical-align: top;\n",
       "    }\n",
       "\n",
       "    .dataframe thead th {\n",
       "        text-align: right;\n",
       "    }\n",
       "</style>\n",
       "<table border=\"1\" class=\"dataframe\">\n",
       "  <thead>\n",
       "    <tr style=\"text-align: right;\">\n",
       "      <th></th>\n",
       "      <th>regressor</th>\n",
       "      <th>score</th>\n",
       "    </tr>\n",
       "  </thead>\n",
       "  <tbody>\n",
       "    <tr>\n",
       "      <th>0</th>\n",
       "      <td>Huber</td>\n",
       "      <td>-1582.543864</td>\n",
       "    </tr>\n",
       "    <tr>\n",
       "      <th>1</th>\n",
       "      <td>HistGrad</td>\n",
       "      <td>-1576.070447</td>\n",
       "    </tr>\n",
       "    <tr>\n",
       "      <th>2</th>\n",
       "      <td>RandomForest</td>\n",
       "      <td>-1571.170423</td>\n",
       "    </tr>\n",
       "  </tbody>\n",
       "</table>\n",
       "</div>"
      ],
      "text/plain": [
       "      regressor        score\n",
       "0         Huber -1582.543864\n",
       "1      HistGrad -1576.070447\n",
       "2  RandomForest -1571.170423"
      ]
     },
     "execution_count": 153,
     "metadata": {},
     "output_type": "execute_result"
    }
   ],
   "source": [
    "%%time\n",
    "scoring_df = pd.DataFrame({\n",
    "    'regressor' : ['Huber', 'HistGrad', 'RandomForest'],\n",
    "    'score': [test_regressor(x, feature_columns) for x in \n",
    "              [sklearn.linear_model.HuberRegressor(),\n",
    "               sklearn.ensemble.HistGradientBoostingRegressor(),\n",
    "              sklearn.ensemble.RandomForestRegressor(n_estimators=100)]\n",
    "             ]\n",
    "})\n",
    "scoring_df"
   ]
  },
  {
   "cell_type": "markdown",
   "metadata": {},
   "source": [
    "Do we need all those features? There are many ways of reducing the number of features in a model, many of\n",
    "of which are available in `sklearn.feature_selection`\n",
    "\n",
    "Here we just look at every combination of three features and see how well they do."
   ]
  },
  {
   "cell_type": "code",
   "execution_count": 146,
   "metadata": {},
   "outputs": [],
   "source": [
    "import itertools"
   ]
  },
  {
   "cell_type": "code",
   "execution_count": 156,
   "metadata": {},
   "outputs": [
    {
     "name": "stdout",
     "output_type": "stream",
     "text": [
      "('AWND', 'PRCP', 'SNOW') -1850.7332311418947\n",
      "('AWND', 'PRCP', 'SNWD') -1726.0037282166795\n",
      "('AWND', 'PRCP', 'TAVG') -1637.114977149836\n",
      "('AWND', 'PRCP', 'TMAX') -1692.097070529787\n",
      "('AWND', 'PRCP', 'TMIN') -1674.1428243708083\n",
      "('AWND', 'SNOW', 'SNWD') -1836.3826396763866\n",
      "('AWND', 'SNOW', 'TAVG') -1710.923237953713\n",
      "('AWND', 'SNOW', 'TMAX') -1726.617810971357\n",
      "('AWND', 'SNOW', 'TMIN') -1714.391183582029\n",
      "('AWND', 'SNWD', 'TAVG') -1658.1794723422784\n",
      "('AWND', 'SNWD', 'TMAX') -1688.516743844916\n",
      "('AWND', 'SNWD', 'TMIN') -1737.6338436027859\n",
      "('AWND', 'TAVG', 'TMAX') -1727.185030660119\n",
      "('AWND', 'TAVG', 'TMIN') -1749.9321722679983\n",
      "('AWND', 'TMAX', 'TMIN') -1764.035118397201\n",
      "('PRCP', 'SNOW', 'SNWD') -1790.6530353017538\n",
      "('PRCP', 'SNOW', 'TAVG') -1595.987884950831\n",
      "('PRCP', 'SNOW', 'TMAX') -1669.3407975456753\n",
      "('PRCP', 'SNOW', 'TMIN') -1630.1472289299531\n",
      "('PRCP', 'SNWD', 'TAVG') -1580.6153954684053\n",
      "('PRCP', 'SNWD', 'TMAX') -1615.8776077586792\n",
      "('PRCP', 'SNWD', 'TMIN') -1651.832019757742\n",
      "('PRCP', 'TAVG', 'TMAX') -1668.4331376721973\n",
      "('PRCP', 'TAVG', 'TMIN') -1628.5862962121482\n",
      "('PRCP', 'TMAX', 'TMIN') -1693.8968695606004\n",
      "('SNOW', 'SNWD', 'TAVG') -1636.512597491045\n",
      "('SNOW', 'SNWD', 'TMAX') -1701.7483524787372\n",
      "('SNOW', 'SNWD', 'TMIN') -1668.0880913891815\n",
      "('SNOW', 'TAVG', 'TMAX') -1682.033178018246\n",
      "('SNOW', 'TAVG', 'TMIN') -1652.7048893599735\n",
      "('SNOW', 'TMAX', 'TMIN') -1706.250439324839\n",
      "('SNWD', 'TAVG', 'TMAX') -1643.1087069755526\n",
      "('SNWD', 'TAVG', 'TMIN') -1622.1808089562949\n",
      "('SNWD', 'TMAX', 'TMIN') -1673.503054423348\n",
      "('TAVG', 'TMAX', 'TMIN') -1766.2436358345744\n"
     ]
    }
   ],
   "source": [
    "for subset_of_columns in itertools.combinations(feature_columns, 3):\n",
    "    print(subset_of_columns, test_regressor(sklearn.ensemble.HistGradientBoostingRegressor(), list(subset_of_columns)))"
   ]
  },
  {
   "cell_type": "markdown",
   "metadata": {},
   "source": [
    "PRCP (precipitation), SNWD (snow depth) and TAGV (average temperature) are nearly as good as using all weather data.\n",
    "\n",
    "What else can we use? How about the previous day and the previous weeks cyclist counts?"
   ]
  },
  {
   "cell_type": "code",
   "execution_count": 163,
   "metadata": {},
   "outputs": [
    {
     "data": {
      "text/html": [
       "<div>\n",
       "<style scoped>\n",
       "    .dataframe tbody tr th:only-of-type {\n",
       "        vertical-align: middle;\n",
       "    }\n",
       "\n",
       "    .dataframe tbody tr th {\n",
       "        vertical-align: top;\n",
       "    }\n",
       "\n",
       "    .dataframe thead th {\n",
       "        text-align: right;\n",
       "    }\n",
       "</style>\n",
       "<table border=\"1\" class=\"dataframe\">\n",
       "  <thead>\n",
       "    <tr style=\"text-align: right;\">\n",
       "      <th></th>\n",
       "      <th>AWND</th>\n",
       "      <th>PRCP</th>\n",
       "      <th>SNOW</th>\n",
       "      <th>SNWD</th>\n",
       "      <th>TAVG</th>\n",
       "      <th>TMAX</th>\n",
       "      <th>TMIN</th>\n",
       "      <th>trips_delta</th>\n",
       "      <th>trips_resid</th>\n",
       "      <th>yesterday_trips</th>\n",
       "      <th>last_weeks_trips</th>\n",
       "    </tr>\n",
       "    <tr>\n",
       "      <th>DATE</th>\n",
       "      <th></th>\n",
       "      <th></th>\n",
       "      <th></th>\n",
       "      <th></th>\n",
       "      <th></th>\n",
       "      <th></th>\n",
       "      <th></th>\n",
       "      <th></th>\n",
       "      <th></th>\n",
       "      <th></th>\n",
       "      <th></th>\n",
       "    </tr>\n",
       "  </thead>\n",
       "  <tbody>\n",
       "    <tr>\n",
       "      <th>2014-01-02</th>\n",
       "      <td>6.129948</td>\n",
       "      <td>7.465360</td>\n",
       "      <td>125.339335</td>\n",
       "      <td>130.179455</td>\n",
       "      <td>8.879037</td>\n",
       "      <td>11.766152</td>\n",
       "      <td>-1.390043</td>\n",
       "      <td>7553.992268</td>\n",
       "      <td>2913.400487</td>\n",
       "      <td>7835.446149</td>\n",
       "      <td>8398.741583</td>\n",
       "    </tr>\n",
       "    <tr>\n",
       "      <th>2014-01-03</th>\n",
       "      <td>6.713601</td>\n",
       "      <td>-0.079891</td>\n",
       "      <td>1.172669</td>\n",
       "      <td>171.846122</td>\n",
       "      <td>1.397850</td>\n",
       "      <td>11.233595</td>\n",
       "      <td>-8.670043</td>\n",
       "      <td>7047.591354</td>\n",
       "      <td>2373.226971</td>\n",
       "      <td>7553.992268</td>\n",
       "      <td>8514.105510</td>\n",
       "    </tr>\n",
       "    <tr>\n",
       "      <th>2014-01-04</th>\n",
       "      <td>5.230952</td>\n",
       "      <td>7.803442</td>\n",
       "      <td>56.839335</td>\n",
       "      <td>150.179455</td>\n",
       "      <td>8.815567</td>\n",
       "      <td>14.751540</td>\n",
       "      <td>7.499135</td>\n",
       "      <td>6050.975373</td>\n",
       "      <td>1344.178112</td>\n",
       "      <td>7047.591354</td>\n",
       "      <td>8860.936560</td>\n",
       "    </tr>\n",
       "    <tr>\n",
       "      <th>2014-01-05</th>\n",
       "      <td>6.314605</td>\n",
       "      <td>14.725543</td>\n",
       "      <td>179.839335</td>\n",
       "      <td>188.512788</td>\n",
       "      <td>11.633741</td>\n",
       "      <td>17.503595</td>\n",
       "      <td>-0.715477</td>\n",
       "      <td>5746.667610</td>\n",
       "      <td>1013.563501</td>\n",
       "      <td>6050.975373</td>\n",
       "      <td>7033.068523</td>\n",
       "    </tr>\n",
       "    <tr>\n",
       "      <th>2014-01-06</th>\n",
       "      <td>7.315792</td>\n",
       "      <td>2.808876</td>\n",
       "      <td>2.506002</td>\n",
       "      <td>221.846122</td>\n",
       "      <td>-1.299456</td>\n",
       "      <td>2.835650</td>\n",
       "      <td>-6.599586</td>\n",
       "      <td>5894.023775</td>\n",
       "      <td>1133.385418</td>\n",
       "      <td>5746.667610</td>\n",
       "      <td>7843.687702</td>\n",
       "    </tr>\n",
       "    <tr>\n",
       "      <th>2014-01-07</th>\n",
       "      <td>4.000222</td>\n",
       "      <td>2.803077</td>\n",
       "      <td>3.339335</td>\n",
       "      <td>200.179455</td>\n",
       "      <td>-1.084890</td>\n",
       "      <td>5.983367</td>\n",
       "      <td>-5.234427</td>\n",
       "      <td>6534.813729</td>\n",
       "      <td>1744.484962</td>\n",
       "      <td>5894.023775</td>\n",
       "      <td>7712.314642</td>\n",
       "    </tr>\n",
       "    <tr>\n",
       "      <th>2014-01-08</th>\n",
       "      <td>1.150085</td>\n",
       "      <td>-0.196923</td>\n",
       "      <td>-9.327331</td>\n",
       "      <td>206.012788</td>\n",
       "      <td>1.962873</td>\n",
       "      <td>7.766198</td>\n",
       "      <td>-4.321048</td>\n",
       "      <td>6854.857565</td>\n",
       "      <td>2031.789071</td>\n",
       "      <td>6534.813729</td>\n",
       "      <td>7835.446149</td>\n",
       "    </tr>\n",
       "    <tr>\n",
       "      <th>2014-01-09</th>\n",
       "      <td>1.799856</td>\n",
       "      <td>1.953077</td>\n",
       "      <td>2.839335</td>\n",
       "      <td>180.179455</td>\n",
       "      <td>1.977759</td>\n",
       "      <td>13.483641</td>\n",
       "      <td>-3.805659</td>\n",
       "      <td>6878.302770</td>\n",
       "      <td>2020.705510</td>\n",
       "      <td>6854.857565</td>\n",
       "      <td>7553.992268</td>\n",
       "    </tr>\n",
       "    <tr>\n",
       "      <th>2014-01-10</th>\n",
       "      <td>3.667162</td>\n",
       "      <td>19.686548</td>\n",
       "      <td>2.506002</td>\n",
       "      <td>185.179455</td>\n",
       "      <td>14.980453</td>\n",
       "      <td>20.470262</td>\n",
       "      <td>12.363793</td>\n",
       "      <td>6811.679939</td>\n",
       "      <td>1925.605966</td>\n",
       "      <td>6878.302770</td>\n",
       "      <td>7047.591354</td>\n",
       "    </tr>\n",
       "    <tr>\n",
       "      <th>2014-01-11</th>\n",
       "      <td>4.951135</td>\n",
       "      <td>1.936548</td>\n",
       "      <td>-20.827331</td>\n",
       "      <td>35.179455</td>\n",
       "      <td>16.015247</td>\n",
       "      <td>16.136700</td>\n",
       "      <td>11.432240</td>\n",
       "      <td>6649.897747</td>\n",
       "      <td>1749.160761</td>\n",
       "      <td>6811.679939</td>\n",
       "      <td>6050.975373</td>\n",
       "    </tr>\n",
       "    <tr>\n",
       "      <th>2014-01-12</th>\n",
       "      <td>5.717482</td>\n",
       "      <td>-0.113452</td>\n",
       "      <td>1.172669</td>\n",
       "      <td>1.846122</td>\n",
       "      <td>11.847941</td>\n",
       "      <td>18.704143</td>\n",
       "      <td>10.731464</td>\n",
       "      <td>6688.233364</td>\n",
       "      <td>1758.866240</td>\n",
       "      <td>6649.897747</td>\n",
       "      <td>5746.667610</td>\n",
       "    </tr>\n",
       "    <tr>\n",
       "      <th>2014-01-13</th>\n",
       "      <td>4.017893</td>\n",
       "      <td>2.136548</td>\n",
       "      <td>-8.160665</td>\n",
       "      <td>-23.153878</td>\n",
       "      <td>19.898855</td>\n",
       "      <td>24.005650</td>\n",
       "      <td>12.098131</td>\n",
       "      <td>8992.950259</td>\n",
       "      <td>4041.355738</td>\n",
       "      <td>6688.233364</td>\n",
       "      <td>5894.023775</td>\n",
       "    </tr>\n",
       "    <tr>\n",
       "      <th>2014-01-14</th>\n",
       "      <td>6.434834</td>\n",
       "      <td>3.052164</td>\n",
       "      <td>2.006002</td>\n",
       "      <td>-26.487212</td>\n",
       "      <td>14.515384</td>\n",
       "      <td>18.506152</td>\n",
       "      <td>8.914523</td>\n",
       "      <td>8357.485418</td>\n",
       "      <td>3378.789528</td>\n",
       "      <td>8992.950259</td>\n",
       "      <td>6534.813729</td>\n",
       "    </tr>\n",
       "    <tr>\n",
       "      <th>2014-01-15</th>\n",
       "      <td>5.369171</td>\n",
       "      <td>2.468831</td>\n",
       "      <td>2.506002</td>\n",
       "      <td>-14.820545</td>\n",
       "      <td>7.598718</td>\n",
       "      <td>10.406152</td>\n",
       "      <td>3.531418</td>\n",
       "      <td>7724.933364</td>\n",
       "      <td>2715.574459</td>\n",
       "      <td>8357.485418</td>\n",
       "      <td>6854.857565</td>\n",
       "    </tr>\n",
       "    <tr>\n",
       "      <th>2014-01-16</th>\n",
       "      <td>6.985747</td>\n",
       "      <td>2.502758</td>\n",
       "      <td>0.339335</td>\n",
       "      <td>-14.820545</td>\n",
       "      <td>10.163330</td>\n",
       "      <td>16.269805</td>\n",
       "      <td>6.296852</td>\n",
       "      <td>7917.800030</td>\n",
       "      <td>2875.863044</td>\n",
       "      <td>7724.933364</td>\n",
       "      <td>6878.302770</td>\n",
       "    </tr>\n",
       "    <tr>\n",
       "      <th>2014-01-17</th>\n",
       "      <td>4.585199</td>\n",
       "      <td>-0.175142</td>\n",
       "      <td>24.172669</td>\n",
       "      <td>-19.820545</td>\n",
       "      <td>7.328763</td>\n",
       "      <td>10.669029</td>\n",
       "      <td>2.479409</td>\n",
       "      <td>7878.547519</td>\n",
       "      <td>2800.196834</td>\n",
       "      <td>7917.800030</td>\n",
       "      <td>6811.679939</td>\n",
       "    </tr>\n",
       "    <tr>\n",
       "      <th>2014-01-18</th>\n",
       "      <td>2.901226</td>\n",
       "      <td>3.333899</td>\n",
       "      <td>54.172669</td>\n",
       "      <td>26.846122</td>\n",
       "      <td>6.309814</td>\n",
       "      <td>11.750079</td>\n",
       "      <td>0.362742</td>\n",
       "      <td>6353.187245</td>\n",
       "      <td>1231.425601</td>\n",
       "      <td>7878.547519</td>\n",
       "      <td>6649.897747</td>\n",
       "    </tr>\n",
       "    <tr>\n",
       "      <th>2014-01-19</th>\n",
       "      <td>6.168761</td>\n",
       "      <td>2.366548</td>\n",
       "      <td>-2.160665</td>\n",
       "      <td>73.512788</td>\n",
       "      <td>7.544517</td>\n",
       "      <td>17.601084</td>\n",
       "      <td>1.031920</td>\n",
       "      <td>5995.682679</td>\n",
       "      <td>843.715555</td>\n",
       "      <td>6353.187245</td>\n",
       "      <td>6688.233364</td>\n",
       "    </tr>\n",
       "    <tr>\n",
       "      <th>2014-01-20</th>\n",
       "      <td>4.636432</td>\n",
       "      <td>3.767324</td>\n",
       "      <td>55.506002</td>\n",
       "      <td>15.179455</td>\n",
       "      <td>12.046709</td>\n",
       "      <td>15.569531</td>\n",
       "      <td>1.249866</td>\n",
       "      <td>7152.520578</td>\n",
       "      <td>1973.446606</td>\n",
       "      <td>5995.682679</td>\n",
       "      <td>8992.950259</td>\n",
       "    </tr>\n",
       "    <tr>\n",
       "      <th>2014-01-21</th>\n",
       "      <td>6.770770</td>\n",
       "      <td>3.559470</td>\n",
       "      <td>56.172669</td>\n",
       "      <td>118.512788</td>\n",
       "      <td>2.146024</td>\n",
       "      <td>5.867476</td>\n",
       "      <td>-4.884518</td>\n",
       "      <td>6793.187245</td>\n",
       "      <td>1587.447519</td>\n",
       "      <td>7152.520578</td>\n",
       "      <td>8357.485418</td>\n",
       "    </tr>\n",
       "    <tr>\n",
       "      <th>2014-01-22</th>\n",
       "      <td>6.104468</td>\n",
       "      <td>2.792438</td>\n",
       "      <td>13.672669</td>\n",
       "      <td>101.846122</td>\n",
       "      <td>-0.905118</td>\n",
       "      <td>5.266700</td>\n",
       "      <td>-6.201413</td>\n",
       "      <td>6391.853912</td>\n",
       "      <td>1158.505966</td>\n",
       "      <td>6793.187245</td>\n",
       "      <td>7724.933364</td>\n",
       "    </tr>\n",
       "    <tr>\n",
       "      <th>2014-01-23</th>\n",
       "      <td>6.354377</td>\n",
       "      <td>-1.374229</td>\n",
       "      <td>1.172669</td>\n",
       "      <td>101.846122</td>\n",
       "      <td>-3.520871</td>\n",
       "      <td>1.485422</td>\n",
       "      <td>-9.617577</td>\n",
       "      <td>6827.473090</td>\n",
       "      <td>1563.133364</td>\n",
       "      <td>6391.853912</td>\n",
       "      <td>7917.800030</td>\n",
       "    </tr>\n",
       "    <tr>\n",
       "      <th>2014-01-24</th>\n",
       "      <td>8.254377</td>\n",
       "      <td>2.059105</td>\n",
       "      <td>5.339335</td>\n",
       "      <td>81.846122</td>\n",
       "      <td>-2.420095</td>\n",
       "      <td>10.302088</td>\n",
       "      <td>-9.899632</td>\n",
       "      <td>6656.995007</td>\n",
       "      <td>1364.586788</td>\n",
       "      <td>6827.473090</td>\n",
       "      <td>7878.547519</td>\n",
       "    </tr>\n",
       "    <tr>\n",
       "      <th>2014-01-25</th>\n",
       "      <td>7.303646</td>\n",
       "      <td>1.904584</td>\n",
       "      <td>-2.160665</td>\n",
       "      <td>71.846122</td>\n",
       "      <td>7.664288</td>\n",
       "      <td>15.039212</td>\n",
       "      <td>-1.582737</td>\n",
       "      <td>6090.112359</td>\n",
       "      <td>763.002770</td>\n",
       "      <td>6656.995007</td>\n",
       "      <td>6353.187245</td>\n",
       "    </tr>\n",
       "    <tr>\n",
       "      <th>2014-01-26</th>\n",
       "      <td>6.453418</td>\n",
       "      <td>5.554584</td>\n",
       "      <td>47.006002</td>\n",
       "      <td>96.846122</td>\n",
       "      <td>5.484288</td>\n",
       "      <td>15.310947</td>\n",
       "      <td>-0.163057</td>\n",
       "      <td>5877.817382</td>\n",
       "      <td>521.814642</td>\n",
       "      <td>6090.112359</td>\n",
       "      <td>5995.682679</td>\n",
       "    </tr>\n",
       "    <tr>\n",
       "      <th>2014-01-27</th>\n",
       "      <td>6.120998</td>\n",
       "      <td>2.621251</td>\n",
       "      <td>-3.827331</td>\n",
       "      <td>63.512788</td>\n",
       "      <td>0.372690</td>\n",
       "      <td>2.816015</td>\n",
       "      <td>-6.958719</td>\n",
       "      <td>5945.914642</td>\n",
       "      <td>564.479026</td>\n",
       "      <td>5877.817382</td>\n",
       "      <td>7152.520578</td>\n",
       "    </tr>\n",
       "    <tr>\n",
       "      <th>2014-01-28</th>\n",
       "      <td>4.305245</td>\n",
       "      <td>2.821251</td>\n",
       "      <td>3.339335</td>\n",
       "      <td>46.846122</td>\n",
       "      <td>-4.973291</td>\n",
       "      <td>1.219349</td>\n",
       "      <td>-9.154655</td>\n",
       "      <td>6228.763501</td>\n",
       "      <td>821.018295</td>\n",
       "      <td>5945.914642</td>\n",
       "      <td>6793.187245</td>\n",
       "    </tr>\n",
       "    <tr>\n",
       "      <th>2014-01-29</th>\n",
       "      <td>4.922596</td>\n",
       "      <td>0.524493</td>\n",
       "      <td>-18.327331</td>\n",
       "      <td>38.512788</td>\n",
       "      <td>0.829494</td>\n",
       "      <td>9.738070</td>\n",
       "      <td>-4.068034</td>\n",
       "      <td>7436.711446</td>\n",
       "      <td>1998.489528</td>\n",
       "      <td>6228.763501</td>\n",
       "      <td>6391.853912</td>\n",
       "    </tr>\n",
       "    <tr>\n",
       "      <th>2014-01-30</th>\n",
       "      <td>7.173281</td>\n",
       "      <td>2.868694</td>\n",
       "      <td>9.839335</td>\n",
       "      <td>35.179455</td>\n",
       "      <td>9.864243</td>\n",
       "      <td>16.938846</td>\n",
       "      <td>7.199363</td>\n",
       "      <td>7642.460304</td>\n",
       "      <td>2171.350715</td>\n",
       "      <td>7436.711446</td>\n",
       "      <td>6827.473090</td>\n",
       "    </tr>\n",
       "    <tr>\n",
       "      <th>2014-01-31</th>\n",
       "      <td>2.640176</td>\n",
       "      <td>2.485360</td>\n",
       "      <td>1.506002</td>\n",
       "      <td>48.512788</td>\n",
       "      <td>12.413878</td>\n",
       "      <td>14.920901</td>\n",
       "      <td>7.898861</td>\n",
       "      <td>7906.859848</td>\n",
       "      <td>2408.816012</td>\n",
       "      <td>7642.460304</td>\n",
       "      <td>6656.995007</td>\n",
       "    </tr>\n",
       "    <tr>\n",
       "      <th>...</th>\n",
       "      <td>...</td>\n",
       "      <td>...</td>\n",
       "      <td>...</td>\n",
       "      <td>...</td>\n",
       "      <td>...</td>\n",
       "      <td>...</td>\n",
       "      <td>...</td>\n",
       "      <td>...</td>\n",
       "      <td>...</td>\n",
       "      <td>...</td>\n",
       "      <td>...</td>\n",
       "    </tr>\n",
       "    <tr>\n",
       "      <th>2019-03-03</th>\n",
       "      <td>5.423783</td>\n",
       "      <td>2.593488</td>\n",
       "      <td>-0.493998</td>\n",
       "      <td>-44.820545</td>\n",
       "      <td>8.073010</td>\n",
       "      <td>11.175285</td>\n",
       "      <td>-2.660591</td>\n",
       "      <td>7642.471720</td>\n",
       "      <td>-2520.900883</td>\n",
       "      <td>8063.645236</td>\n",
       "      <td>7614.113729</td>\n",
       "    </tr>\n",
       "    <tr>\n",
       "      <th>2019-03-04</th>\n",
       "      <td>5.807254</td>\n",
       "      <td>1.910155</td>\n",
       "      <td>-7.660665</td>\n",
       "      <td>-36.487212</td>\n",
       "      <td>0.290635</td>\n",
       "      <td>5.259896</td>\n",
       "      <td>-5.309586</td>\n",
       "      <td>8889.400030</td>\n",
       "      <td>-1280.380792</td>\n",
       "      <td>7642.471720</td>\n",
       "      <td>10310.973546</td>\n",
       "    </tr>\n",
       "    <tr>\n",
       "      <th>2019-03-05</th>\n",
       "      <td>5.675016</td>\n",
       "      <td>2.429379</td>\n",
       "      <td>5.839335</td>\n",
       "      <td>-44.820545</td>\n",
       "      <td>2.258033</td>\n",
       "      <td>6.392225</td>\n",
       "      <td>-0.940911</td>\n",
       "      <td>9329.472633</td>\n",
       "      <td>-852.138326</td>\n",
       "      <td>8889.400030</td>\n",
       "      <td>9305.818295</td>\n",
       "    </tr>\n",
       "    <tr>\n",
       "      <th>2019-03-06</th>\n",
       "      <td>4.158304</td>\n",
       "      <td>2.596045</td>\n",
       "      <td>3.339335</td>\n",
       "      <td>-36.487212</td>\n",
       "      <td>0.373741</td>\n",
       "      <td>5.957659</td>\n",
       "      <td>-4.507577</td>\n",
       "      <td>9122.647062</td>\n",
       "      <td>-1065.744719</td>\n",
       "      <td>9329.472633</td>\n",
       "      <td>8939.975373</td>\n",
       "    </tr>\n",
       "    <tr>\n",
       "      <th>2019-03-07</th>\n",
       "      <td>1.891409</td>\n",
       "      <td>1.662712</td>\n",
       "      <td>2.006002</td>\n",
       "      <td>-9.820545</td>\n",
       "      <td>1.805704</td>\n",
       "      <td>5.887933</td>\n",
       "      <td>-3.024518</td>\n",
       "      <td>9128.223775</td>\n",
       "      <td>-1074.847458</td>\n",
       "      <td>9122.647062</td>\n",
       "      <td>9583.597291</td>\n",
       "    </tr>\n",
       "    <tr>\n",
       "      <th>2019-03-08</th>\n",
       "      <td>1.258943</td>\n",
       "      <td>2.895908</td>\n",
       "      <td>5.839335</td>\n",
       "      <td>-9.820545</td>\n",
       "      <td>4.770088</td>\n",
       "      <td>10.017202</td>\n",
       "      <td>-0.125522</td>\n",
       "      <td>8616.432907</td>\n",
       "      <td>-1606.789011</td>\n",
       "      <td>9128.223775</td>\n",
       "      <td>10949.527884</td>\n",
       "    </tr>\n",
       "    <tr>\n",
       "      <th>2019-03-09</th>\n",
       "      <td>6.524879</td>\n",
       "      <td>13.962575</td>\n",
       "      <td>3.339335</td>\n",
       "      <td>10.179455</td>\n",
       "      <td>5.884608</td>\n",
       "      <td>11.750810</td>\n",
       "      <td>1.387309</td>\n",
       "      <td>5873.049802</td>\n",
       "      <td>-4366.051568</td>\n",
       "      <td>8616.432907</td>\n",
       "      <td>8063.645236</td>\n",
       "    </tr>\n",
       "    <tr>\n",
       "      <th>2019-03-10</th>\n",
       "      <td>8.524514</td>\n",
       "      <td>2.296274</td>\n",
       "      <td>1.672669</td>\n",
       "      <td>15.179455</td>\n",
       "      <td>8.847941</td>\n",
       "      <td>11.360399</td>\n",
       "      <td>5.285802</td>\n",
       "      <td>6900.413729</td>\n",
       "      <td>-3334.684901</td>\n",
       "      <td>5873.049802</td>\n",
       "      <td>7642.471720</td>\n",
       "    </tr>\n",
       "    <tr>\n",
       "      <th>2019-03-11</th>\n",
       "      <td>4.540176</td>\n",
       "      <td>0.863169</td>\n",
       "      <td>-10.160665</td>\n",
       "      <td>1.846122</td>\n",
       "      <td>9.042827</td>\n",
       "      <td>13.905559</td>\n",
       "      <td>6.665345</td>\n",
       "      <td>11021.959391</td>\n",
       "      <td>771.953912</td>\n",
       "      <td>6900.413729</td>\n",
       "      <td>8889.400030</td>\n",
       "    </tr>\n",
       "    <tr>\n",
       "      <th>2019-03-12</th>\n",
       "      <td>4.840541</td>\n",
       "      <td>2.679835</td>\n",
       "      <td>1.672669</td>\n",
       "      <td>1.846122</td>\n",
       "      <td>10.408307</td>\n",
       "      <td>14.971951</td>\n",
       "      <td>4.697674</td>\n",
       "      <td>11783.447062</td>\n",
       "      <td>1528.778569</td>\n",
       "      <td>11021.959391</td>\n",
       "      <td>9329.472633</td>\n",
       "    </tr>\n",
       "    <tr>\n",
       "      <th>2019-03-13</th>\n",
       "      <td>4.273829</td>\n",
       "      <td>9.565360</td>\n",
       "      <td>-22.493998</td>\n",
       "      <td>-1.487212</td>\n",
       "      <td>12.426343</td>\n",
       "      <td>20.773732</td>\n",
       "      <td>8.815847</td>\n",
       "      <td>11323.421491</td>\n",
       "      <td>1069.147519</td>\n",
       "      <td>11783.447062</td>\n",
       "      <td>9122.647062</td>\n",
       "    </tr>\n",
       "    <tr>\n",
       "      <th>2019-03-14</th>\n",
       "      <td>8.189811</td>\n",
       "      <td>10.551936</td>\n",
       "      <td>-11.827331</td>\n",
       "      <td>-14.820545</td>\n",
       "      <td>18.812234</td>\n",
       "      <td>22.143230</td>\n",
       "      <td>10.518633</td>\n",
       "      <td>10861.441126</td>\n",
       "      <td>609.063044</td>\n",
       "      <td>11323.421491</td>\n",
       "      <td>9128.223775</td>\n",
       "    </tr>\n",
       "    <tr>\n",
       "      <th>2019-03-15</th>\n",
       "      <td>5.207710</td>\n",
       "      <td>2.317598</td>\n",
       "      <td>3.339335</td>\n",
       "      <td>6.846122</td>\n",
       "      <td>9.832371</td>\n",
       "      <td>11.161175</td>\n",
       "      <td>6.239135</td>\n",
       "      <td>9210.529711</td>\n",
       "      <td>-1037.407276</td>\n",
       "      <td>10861.441126</td>\n",
       "      <td>8616.432907</td>\n",
       "    </tr>\n",
       "    <tr>\n",
       "      <th>2019-03-16</th>\n",
       "      <td>2.841500</td>\n",
       "      <td>2.744082</td>\n",
       "      <td>3.339335</td>\n",
       "      <td>10.179455</td>\n",
       "      <td>9.101001</td>\n",
       "      <td>13.549075</td>\n",
       "      <td>5.522468</td>\n",
       "      <td>8646.246606</td>\n",
       "      <td>-1607.509559</td>\n",
       "      <td>9210.529711</td>\n",
       "      <td>5873.049802</td>\n",
       "    </tr>\n",
       "    <tr>\n",
       "      <th>2019-03-17</th>\n",
       "      <td>3.340952</td>\n",
       "      <td>2.782392</td>\n",
       "      <td>3.339335</td>\n",
       "      <td>15.179455</td>\n",
       "      <td>8.220635</td>\n",
       "      <td>11.402636</td>\n",
       "      <td>3.592149</td>\n",
       "      <td>8746.405510</td>\n",
       "      <td>-1495.819148</td>\n",
       "      <td>8646.246606</td>\n",
       "      <td>6900.413729</td>\n",
       "    </tr>\n",
       "    <tr>\n",
       "      <th>2019-03-18</th>\n",
       "      <td>3.674331</td>\n",
       "      <td>2.115726</td>\n",
       "      <td>3.339335</td>\n",
       "      <td>15.179455</td>\n",
       "      <td>7.373786</td>\n",
       "      <td>12.420033</td>\n",
       "      <td>3.029318</td>\n",
       "      <td>11040.153912</td>\n",
       "      <td>790.534733</td>\n",
       "      <td>8746.405510</td>\n",
       "      <td>11021.959391</td>\n",
       "    </tr>\n",
       "    <tr>\n",
       "      <th>2019-03-19</th>\n",
       "      <td>3.640404</td>\n",
       "      <td>2.742666</td>\n",
       "      <td>0.339335</td>\n",
       "      <td>15.179455</td>\n",
       "      <td>9.757530</td>\n",
       "      <td>15.252636</td>\n",
       "      <td>4.147217</td>\n",
       "      <td>12266.689071</td>\n",
       "      <td>2015.064414</td>\n",
       "      <td>11040.153912</td>\n",
       "      <td>11783.447062</td>\n",
       "    </tr>\n",
       "    <tr>\n",
       "      <th>2019-03-20</th>\n",
       "      <td>3.439765</td>\n",
       "      <td>5.349607</td>\n",
       "      <td>3.339335</td>\n",
       "      <td>15.179455</td>\n",
       "      <td>10.907074</td>\n",
       "      <td>13.018801</td>\n",
       "      <td>8.362103</td>\n",
       "      <td>9218.231537</td>\n",
       "      <td>-1041.902709</td>\n",
       "      <td>12266.689071</td>\n",
       "      <td>11323.421491</td>\n",
       "    </tr>\n",
       "    <tr>\n",
       "      <th>2019-03-21</th>\n",
       "      <td>4.488669</td>\n",
       "      <td>2.816411</td>\n",
       "      <td>2.506002</td>\n",
       "      <td>15.179455</td>\n",
       "      <td>11.156937</td>\n",
       "      <td>15.570581</td>\n",
       "      <td>9.263382</td>\n",
       "      <td>10595.321491</td>\n",
       "      <td>323.935190</td>\n",
       "      <td>9218.231537</td>\n",
       "      <td>10861.441126</td>\n",
       "    </tr>\n",
       "    <tr>\n",
       "      <th>2019-03-22</th>\n",
       "      <td>4.654057</td>\n",
       "      <td>0.316411</td>\n",
       "      <td>-20.327331</td>\n",
       "      <td>6.846122</td>\n",
       "      <td>13.043741</td>\n",
       "      <td>16.608253</td>\n",
       "      <td>6.217446</td>\n",
       "      <td>11062.682222</td>\n",
       "      <td>783.446606</td>\n",
       "      <td>10595.321491</td>\n",
       "      <td>9210.529711</td>\n",
       "    </tr>\n",
       "    <tr>\n",
       "      <th>2019-03-23</th>\n",
       "      <td>1.921637</td>\n",
       "      <td>2.185041</td>\n",
       "      <td>3.339335</td>\n",
       "      <td>-6.487212</td>\n",
       "      <td>11.548352</td>\n",
       "      <td>20.327750</td>\n",
       "      <td>5.139729</td>\n",
       "      <td>11022.678112</td>\n",
       "      <td>749.787702</td>\n",
       "      <td>11062.682222</td>\n",
       "      <td>8646.246606</td>\n",
       "    </tr>\n",
       "    <tr>\n",
       "      <th>2019-03-24</th>\n",
       "      <td>2.222459</td>\n",
       "      <td>-1.897927</td>\n",
       "      <td>0.839335</td>\n",
       "      <td>1.846122</td>\n",
       "      <td>13.335384</td>\n",
       "      <td>16.596974</td>\n",
       "      <td>6.461464</td>\n",
       "      <td>8474.286332</td>\n",
       "      <td>-1777.719148</td>\n",
       "      <td>11022.678112</td>\n",
       "      <td>8746.405510</td>\n",
       "    </tr>\n",
       "    <tr>\n",
       "      <th>2019-03-25</th>\n",
       "      <td>6.839308</td>\n",
       "      <td>-0.081261</td>\n",
       "      <td>3.339335</td>\n",
       "      <td>15.179455</td>\n",
       "      <td>10.920407</td>\n",
       "      <td>14.414645</td>\n",
       "      <td>4.430688</td>\n",
       "      <td>11490.400030</td>\n",
       "      <td>1224.279482</td>\n",
       "      <td>8474.286332</td>\n",
       "      <td>11040.153912</td>\n",
       "    </tr>\n",
       "    <tr>\n",
       "      <th>2019-03-26</th>\n",
       "      <td>2.157254</td>\n",
       "      <td>-0.331261</td>\n",
       "      <td>0.839335</td>\n",
       "      <td>10.179455</td>\n",
       "      <td>8.105110</td>\n",
       "      <td>13.633595</td>\n",
       "      <td>1.015756</td>\n",
       "      <td>11747.001400</td>\n",
       "      <td>1468.184962</td>\n",
       "      <td>11490.400030</td>\n",
       "      <td>12266.689071</td>\n",
       "    </tr>\n",
       "    <tr>\n",
       "      <th>2019-03-27</th>\n",
       "      <td>5.492322</td>\n",
       "      <td>0.935406</td>\n",
       "      <td>3.339335</td>\n",
       "      <td>15.179455</td>\n",
       "      <td>9.590270</td>\n",
       "      <td>18.551266</td>\n",
       "      <td>3.135482</td>\n",
       "      <td>13247.778569</td>\n",
       "      <td>2953.860761</td>\n",
       "      <td>11747.001400</td>\n",
       "      <td>9218.231537</td>\n",
       "    </tr>\n",
       "    <tr>\n",
       "      <th>2019-03-28</th>\n",
       "      <td>5.109308</td>\n",
       "      <td>2.818739</td>\n",
       "      <td>3.339335</td>\n",
       "      <td>15.179455</td>\n",
       "      <td>16.356846</td>\n",
       "      <td>22.415650</td>\n",
       "      <td>10.853153</td>\n",
       "      <td>12866.642039</td>\n",
       "      <td>2565.209163</td>\n",
       "      <td>13247.778569</td>\n",
       "      <td>10595.321491</td>\n",
       "    </tr>\n",
       "    <tr>\n",
       "      <th>2019-03-29</th>\n",
       "      <td>4.242185</td>\n",
       "      <td>9.009516</td>\n",
       "      <td>3.339335</td>\n",
       "      <td>15.179455</td>\n",
       "      <td>12.205658</td>\n",
       "      <td>15.978527</td>\n",
       "      <td>7.803884</td>\n",
       "      <td>10513.465327</td>\n",
       "      <td>232.870807</td>\n",
       "      <td>12866.642039</td>\n",
       "      <td>11062.682222</td>\n",
       "    </tr>\n",
       "    <tr>\n",
       "      <th>2019-03-30</th>\n",
       "      <td>4.426751</td>\n",
       "      <td>-3.890393</td>\n",
       "      <td>3.339335</td>\n",
       "      <td>15.179455</td>\n",
       "      <td>7.237987</td>\n",
       "      <td>9.744691</td>\n",
       "      <td>1.004386</td>\n",
       "      <td>7747.336560</td>\n",
       "      <td>-2528.685358</td>\n",
       "      <td>10513.465327</td>\n",
       "      <td>11022.678112</td>\n",
       "    </tr>\n",
       "    <tr>\n",
       "      <th>2019-03-31</th>\n",
       "      <td>2.827025</td>\n",
       "      <td>0.832895</td>\n",
       "      <td>3.339335</td>\n",
       "      <td>15.179455</td>\n",
       "      <td>2.205019</td>\n",
       "      <td>5.926015</td>\n",
       "      <td>-0.342280</td>\n",
       "      <td>7339.538843</td>\n",
       "      <td>-2928.058417</td>\n",
       "      <td>7747.336560</td>\n",
       "      <td>8474.286332</td>\n",
       "    </tr>\n",
       "    <tr>\n",
       "      <th>2019-04-01</th>\n",
       "      <td>5.826295</td>\n",
       "      <td>1.099561</td>\n",
       "      <td>3.339335</td>\n",
       "      <td>15.179455</td>\n",
       "      <td>6.022782</td>\n",
       "      <td>14.260855</td>\n",
       "      <td>1.241281</td>\n",
       "      <td>11566.402313</td>\n",
       "      <td>1274.248889</td>\n",
       "      <td>7339.538843</td>\n",
       "      <td>11490.400030</td>\n",
       "    </tr>\n",
       "  </tbody>\n",
       "</table>\n",
       "<p>1916 rows × 11 columns</p>\n",
       "</div>"
      ],
      "text/plain": [
       "                AWND       PRCP        SNOW        SNWD       TAVG       TMAX  \\\n",
       "DATE                                                                            \n",
       "2014-01-02  6.129948   7.465360  125.339335  130.179455   8.879037  11.766152   \n",
       "2014-01-03  6.713601  -0.079891    1.172669  171.846122   1.397850  11.233595   \n",
       "2014-01-04  5.230952   7.803442   56.839335  150.179455   8.815567  14.751540   \n",
       "2014-01-05  6.314605  14.725543  179.839335  188.512788  11.633741  17.503595   \n",
       "2014-01-06  7.315792   2.808876    2.506002  221.846122  -1.299456   2.835650   \n",
       "2014-01-07  4.000222   2.803077    3.339335  200.179455  -1.084890   5.983367   \n",
       "2014-01-08  1.150085  -0.196923   -9.327331  206.012788   1.962873   7.766198   \n",
       "2014-01-09  1.799856   1.953077    2.839335  180.179455   1.977759  13.483641   \n",
       "2014-01-10  3.667162  19.686548    2.506002  185.179455  14.980453  20.470262   \n",
       "2014-01-11  4.951135   1.936548  -20.827331   35.179455  16.015247  16.136700   \n",
       "2014-01-12  5.717482  -0.113452    1.172669    1.846122  11.847941  18.704143   \n",
       "2014-01-13  4.017893   2.136548   -8.160665  -23.153878  19.898855  24.005650   \n",
       "2014-01-14  6.434834   3.052164    2.006002  -26.487212  14.515384  18.506152   \n",
       "2014-01-15  5.369171   2.468831    2.506002  -14.820545   7.598718  10.406152   \n",
       "2014-01-16  6.985747   2.502758    0.339335  -14.820545  10.163330  16.269805   \n",
       "2014-01-17  4.585199  -0.175142   24.172669  -19.820545   7.328763  10.669029   \n",
       "2014-01-18  2.901226   3.333899   54.172669   26.846122   6.309814  11.750079   \n",
       "2014-01-19  6.168761   2.366548   -2.160665   73.512788   7.544517  17.601084   \n",
       "2014-01-20  4.636432   3.767324   55.506002   15.179455  12.046709  15.569531   \n",
       "2014-01-21  6.770770   3.559470   56.172669  118.512788   2.146024   5.867476   \n",
       "2014-01-22  6.104468   2.792438   13.672669  101.846122  -0.905118   5.266700   \n",
       "2014-01-23  6.354377  -1.374229    1.172669  101.846122  -3.520871   1.485422   \n",
       "2014-01-24  8.254377   2.059105    5.339335   81.846122  -2.420095  10.302088   \n",
       "2014-01-25  7.303646   1.904584   -2.160665   71.846122   7.664288  15.039212   \n",
       "2014-01-26  6.453418   5.554584   47.006002   96.846122   5.484288  15.310947   \n",
       "2014-01-27  6.120998   2.621251   -3.827331   63.512788   0.372690   2.816015   \n",
       "2014-01-28  4.305245   2.821251    3.339335   46.846122  -4.973291   1.219349   \n",
       "2014-01-29  4.922596   0.524493  -18.327331   38.512788   0.829494   9.738070   \n",
       "2014-01-30  7.173281   2.868694    9.839335   35.179455   9.864243  16.938846   \n",
       "2014-01-31  2.640176   2.485360    1.506002   48.512788  12.413878  14.920901   \n",
       "...              ...        ...         ...         ...        ...        ...   \n",
       "2019-03-03  5.423783   2.593488   -0.493998  -44.820545   8.073010  11.175285   \n",
       "2019-03-04  5.807254   1.910155   -7.660665  -36.487212   0.290635   5.259896   \n",
       "2019-03-05  5.675016   2.429379    5.839335  -44.820545   2.258033   6.392225   \n",
       "2019-03-06  4.158304   2.596045    3.339335  -36.487212   0.373741   5.957659   \n",
       "2019-03-07  1.891409   1.662712    2.006002   -9.820545   1.805704   5.887933   \n",
       "2019-03-08  1.258943   2.895908    5.839335   -9.820545   4.770088  10.017202   \n",
       "2019-03-09  6.524879  13.962575    3.339335   10.179455   5.884608  11.750810   \n",
       "2019-03-10  8.524514   2.296274    1.672669   15.179455   8.847941  11.360399   \n",
       "2019-03-11  4.540176   0.863169  -10.160665    1.846122   9.042827  13.905559   \n",
       "2019-03-12  4.840541   2.679835    1.672669    1.846122  10.408307  14.971951   \n",
       "2019-03-13  4.273829   9.565360  -22.493998   -1.487212  12.426343  20.773732   \n",
       "2019-03-14  8.189811  10.551936  -11.827331  -14.820545  18.812234  22.143230   \n",
       "2019-03-15  5.207710   2.317598    3.339335    6.846122   9.832371  11.161175   \n",
       "2019-03-16  2.841500   2.744082    3.339335   10.179455   9.101001  13.549075   \n",
       "2019-03-17  3.340952   2.782392    3.339335   15.179455   8.220635  11.402636   \n",
       "2019-03-18  3.674331   2.115726    3.339335   15.179455   7.373786  12.420033   \n",
       "2019-03-19  3.640404   2.742666    0.339335   15.179455   9.757530  15.252636   \n",
       "2019-03-20  3.439765   5.349607    3.339335   15.179455  10.907074  13.018801   \n",
       "2019-03-21  4.488669   2.816411    2.506002   15.179455  11.156937  15.570581   \n",
       "2019-03-22  4.654057   0.316411  -20.327331    6.846122  13.043741  16.608253   \n",
       "2019-03-23  1.921637   2.185041    3.339335   -6.487212  11.548352  20.327750   \n",
       "2019-03-24  2.222459  -1.897927    0.839335    1.846122  13.335384  16.596974   \n",
       "2019-03-25  6.839308  -0.081261    3.339335   15.179455  10.920407  14.414645   \n",
       "2019-03-26  2.157254  -0.331261    0.839335   10.179455   8.105110  13.633595   \n",
       "2019-03-27  5.492322   0.935406    3.339335   15.179455   9.590270  18.551266   \n",
       "2019-03-28  5.109308   2.818739    3.339335   15.179455  16.356846  22.415650   \n",
       "2019-03-29  4.242185   9.009516    3.339335   15.179455  12.205658  15.978527   \n",
       "2019-03-30  4.426751  -3.890393    3.339335   15.179455   7.237987   9.744691   \n",
       "2019-03-31  2.827025   0.832895    3.339335   15.179455   2.205019   5.926015   \n",
       "2019-04-01  5.826295   1.099561    3.339335   15.179455   6.022782  14.260855   \n",
       "\n",
       "                 TMIN   trips_delta  trips_resid  yesterday_trips  \\\n",
       "DATE                                                                \n",
       "2014-01-02  -1.390043   7553.992268  2913.400487      7835.446149   \n",
       "2014-01-03  -8.670043   7047.591354  2373.226971      7553.992268   \n",
       "2014-01-04   7.499135   6050.975373  1344.178112      7047.591354   \n",
       "2014-01-05  -0.715477   5746.667610  1013.563501      6050.975373   \n",
       "2014-01-06  -6.599586   5894.023775  1133.385418      5746.667610   \n",
       "2014-01-07  -5.234427   6534.813729  1744.484962      5894.023775   \n",
       "2014-01-08  -4.321048   6854.857565  2031.789071      6534.813729   \n",
       "2014-01-09  -3.805659   6878.302770  2020.705510      6854.857565   \n",
       "2014-01-10  12.363793   6811.679939  1925.605966      6878.302770   \n",
       "2014-01-11  11.432240   6649.897747  1749.160761      6811.679939   \n",
       "2014-01-12  10.731464   6688.233364  1758.866240      6649.897747   \n",
       "2014-01-13  12.098131   8992.950259  4041.355738      6688.233364   \n",
       "2014-01-14   8.914523   8357.485418  3378.789528      8992.950259   \n",
       "2014-01-15   3.531418   7724.933364  2715.574459      8357.485418   \n",
       "2014-01-16   6.296852   7917.800030  2875.863044      7724.933364   \n",
       "2014-01-17   2.479409   7878.547519  2800.196834      7917.800030   \n",
       "2014-01-18   0.362742   6353.187245  1231.425601      7878.547519   \n",
       "2014-01-19   1.031920   5995.682679   843.715555      6353.187245   \n",
       "2014-01-20   1.249866   7152.520578  1973.446606      5995.682679   \n",
       "2014-01-21  -4.884518   6793.187245  1587.447519      7152.520578   \n",
       "2014-01-22  -6.201413   6391.853912  1158.505966      6793.187245   \n",
       "2014-01-23  -9.617577   6827.473090  1563.133364      6391.853912   \n",
       "2014-01-24  -9.899632   6656.995007  1364.586788      6827.473090   \n",
       "2014-01-25  -1.582737   6090.112359   763.002770      6656.995007   \n",
       "2014-01-26  -0.163057   5877.817382   521.814642      6090.112359   \n",
       "2014-01-27  -6.958719   5945.914642   564.479026      5877.817382   \n",
       "2014-01-28  -9.154655   6228.763501   821.018295      5945.914642   \n",
       "2014-01-29  -4.068034   7436.711446  1998.489528      6228.763501   \n",
       "2014-01-30   7.199363   7642.460304  2171.350715      7436.711446   \n",
       "2014-01-31   7.898861   7906.859848  2408.816012      7642.460304   \n",
       "...               ...           ...          ...              ...   \n",
       "2019-03-03  -2.660591   7642.471720 -2520.900883      8063.645236   \n",
       "2019-03-04  -5.309586   8889.400030 -1280.380792      7642.471720   \n",
       "2019-03-05  -0.940911   9329.472633  -852.138326      8889.400030   \n",
       "2019-03-06  -4.507577   9122.647062 -1065.744719      9329.472633   \n",
       "2019-03-07  -3.024518   9128.223775 -1074.847458      9122.647062   \n",
       "2019-03-08  -0.125522   8616.432907 -1606.789011      9128.223775   \n",
       "2019-03-09   1.387309   5873.049802 -4366.051568      8616.432907   \n",
       "2019-03-10   5.285802   6900.413729 -3334.684901      5873.049802   \n",
       "2019-03-11   6.665345  11021.959391   771.953912      6900.413729   \n",
       "2019-03-12   4.697674  11783.447062  1528.778569     11021.959391   \n",
       "2019-03-13   8.815847  11323.421491  1069.147519     11783.447062   \n",
       "2019-03-14  10.518633  10861.441126   609.063044     11323.421491   \n",
       "2019-03-15   6.239135   9210.529711 -1037.407276     10861.441126   \n",
       "2019-03-16   5.522468   8646.246606 -1607.509559      9210.529711   \n",
       "2019-03-17   3.592149   8746.405510 -1495.819148      8646.246606   \n",
       "2019-03-18   3.029318  11040.153912   790.534733      8746.405510   \n",
       "2019-03-19   4.147217  12266.689071  2015.064414     11040.153912   \n",
       "2019-03-20   8.362103   9218.231537 -1041.902709     12266.689071   \n",
       "2019-03-21   9.263382  10595.321491   323.935190      9218.231537   \n",
       "2019-03-22   6.217446  11062.682222   783.446606     10595.321491   \n",
       "2019-03-23   5.139729  11022.678112   749.787702     11062.682222   \n",
       "2019-03-24   6.461464   8474.286332 -1777.719148     11022.678112   \n",
       "2019-03-25   4.430688  11490.400030  1224.279482      8474.286332   \n",
       "2019-03-26   1.015756  11747.001400  1468.184962     11490.400030   \n",
       "2019-03-27   3.135482  13247.778569  2953.860761     11747.001400   \n",
       "2019-03-28  10.853153  12866.642039  2565.209163     13247.778569   \n",
       "2019-03-29   7.803884  10513.465327   232.870807     12866.642039   \n",
       "2019-03-30   1.004386   7747.336560 -2528.685358     10513.465327   \n",
       "2019-03-31  -0.342280   7339.538843 -2928.058417      7747.336560   \n",
       "2019-04-01   1.241281  11566.402313  1274.248889      7339.538843   \n",
       "\n",
       "            last_weeks_trips  \n",
       "DATE                          \n",
       "2014-01-02       8398.741583  \n",
       "2014-01-03       8514.105510  \n",
       "2014-01-04       8860.936560  \n",
       "2014-01-05       7033.068523  \n",
       "2014-01-06       7843.687702  \n",
       "2014-01-07       7712.314642  \n",
       "2014-01-08       7835.446149  \n",
       "2014-01-09       7553.992268  \n",
       "2014-01-10       7047.591354  \n",
       "2014-01-11       6050.975373  \n",
       "2014-01-12       5746.667610  \n",
       "2014-01-13       5894.023775  \n",
       "2014-01-14       6534.813729  \n",
       "2014-01-15       6854.857565  \n",
       "2014-01-16       6878.302770  \n",
       "2014-01-17       6811.679939  \n",
       "2014-01-18       6649.897747  \n",
       "2014-01-19       6688.233364  \n",
       "2014-01-20       8992.950259  \n",
       "2014-01-21       8357.485418  \n",
       "2014-01-22       7724.933364  \n",
       "2014-01-23       7917.800030  \n",
       "2014-01-24       7878.547519  \n",
       "2014-01-25       6353.187245  \n",
       "2014-01-26       5995.682679  \n",
       "2014-01-27       7152.520578  \n",
       "2014-01-28       6793.187245  \n",
       "2014-01-29       6391.853912  \n",
       "2014-01-30       6827.473090  \n",
       "2014-01-31       6656.995007  \n",
       "...                      ...  \n",
       "2019-03-03       7614.113729  \n",
       "2019-03-04      10310.973546  \n",
       "2019-03-05       9305.818295  \n",
       "2019-03-06       8939.975373  \n",
       "2019-03-07       9583.597291  \n",
       "2019-03-08      10949.527884  \n",
       "2019-03-09       8063.645236  \n",
       "2019-03-10       7642.471720  \n",
       "2019-03-11       8889.400030  \n",
       "2019-03-12       9329.472633  \n",
       "2019-03-13       9122.647062  \n",
       "2019-03-14       9128.223775  \n",
       "2019-03-15       8616.432907  \n",
       "2019-03-16       5873.049802  \n",
       "2019-03-17       6900.413729  \n",
       "2019-03-18      11021.959391  \n",
       "2019-03-19      11783.447062  \n",
       "2019-03-20      11323.421491  \n",
       "2019-03-21      10861.441126  \n",
       "2019-03-22       9210.529711  \n",
       "2019-03-23       8646.246606  \n",
       "2019-03-24       8746.405510  \n",
       "2019-03-25      11040.153912  \n",
       "2019-03-26      12266.689071  \n",
       "2019-03-27       9218.231537  \n",
       "2019-03-28      10595.321491  \n",
       "2019-03-29      11062.682222  \n",
       "2019-03-30      11022.678112  \n",
       "2019-03-31       8474.286332  \n",
       "2019-04-01      11490.400030  \n",
       "\n",
       "[1916 rows x 11 columns]"
      ]
     },
     "execution_count": 163,
     "metadata": {},
     "output_type": "execute_result"
    }
   ],
   "source": [
    "df['yesterday_trips'] = df.trips_delta.shift(1)\n",
    "df['last_weeks_trips'] = df.trips_delta.shift(7)\n",
    "df = df[df.last_weeks_trips.notnull()]\n",
    "df"
   ]
  },
  {
   "cell_type": "code",
   "execution_count": 165,
   "metadata": {},
   "outputs": [
    {
     "data": {
      "text/plain": [
       "-1102.712379980455"
      ]
     },
     "execution_count": 165,
     "metadata": {},
     "output_type": "execute_result"
    }
   ],
   "source": [
    "test_regressor(sklearn.linear_model.HuberRegressor(),\n",
    "              ['AWND', 'SNWD', 'TAVG', 'yesterday_trips', 'last_weeks_trips'])"
   ]
  },
  {
   "cell_type": "markdown",
   "metadata": {},
   "source": [
    "That's a big improvement. What if we include the price of petrol as well?\n",
    "\n",
    "There are two challenges here.\n",
    "\n",
    "1. The petrol price is given in a spreadsheet that has months as columns. We want to melt this dataframe\n",
    "into a long narrow form.\n",
    "\n",
    "2. It's only monthly data, so we need to interpolate it to make it daily."
   ]
  },
  {
   "cell_type": "code",
   "execution_count": 189,
   "metadata": {},
   "outputs": [
    {
     "data": {
      "text/plain": [
       "<matplotlib.axes._subplots.AxesSubplot at 0x23529a9e2e8>"
      ]
     },
     "execution_count": 189,
     "metadata": {},
     "output_type": "execute_result"
    },
    {
     "data": {
      "image/png": "[encoded data removed]",
      "text/plain": [
       "<Figure size 432x288 with 1 Axes>"
      ]
     },
     "metadata": {
      "needs_background": "light"
     },
     "output_type": "display_data"
    }
   ],
   "source": [
    "petrol_spreadsheet = pd.read_excel('SeriesReport-20200505193721_64241c.xlsx', skiprows=9).melt(\n",
    "    id_vars=['Year'], var_name='Month', value_name='petrol_price')\n",
    "petrol_spreadsheet['synthetic_date'] = petrol_spreadsheet.Year.map(str) + \"-\" + petrol_spreadsheet.Month + \"-1\"\n",
    "petrol_spreadsheet['date'] = pd.to_datetime(petrol_spreadsheet['synthetic_date'])\n",
    "petrol_spreadsheet.set_index('date', inplace=True)\n",
    "petrol_spreadsheet.sort_index(inplace=True)\n",
    "petrol_by_day = petrol_spreadsheet.petrol_price.resample('1D').median()\n",
    "petrol_by_day = petrol_by_day.interpolate()\n",
    "petrol_by_day.plot()"
   ]
  },
  {
   "cell_type": "code",
   "execution_count": 190,
   "metadata": {},
   "outputs": [
    {
     "name": "stderr",
     "output_type": "stream",
     "text": [
      "D:\\Users\\gregb\\AppData\\Local\\Continuum\\anaconda3\\lib\\site-packages\\ipykernel_launcher.py:1: SettingWithCopyWarning: \n",
      "A value is trying to be set on a copy of a slice from a DataFrame.\n",
      "Try using .loc[row_indexer,col_indexer] = value instead\n",
      "\n",
      "See the caveats in the documentation: http://pandas.pydata.org/pandas-docs/stable/indexing.html#indexing-view-versus-copy\n",
      "  \"\"\"Entry point for launching an IPython kernel.\n"
     ]
    },
    {
     "data": {
      "text/html": [
       "<div>\n",
       "<style scoped>\n",
       "    .dataframe tbody tr th:only-of-type {\n",
       "        vertical-align: middle;\n",
       "    }\n",
       "\n",
       "    .dataframe tbody tr th {\n",
       "        vertical-align: top;\n",
       "    }\n",
       "\n",
       "    .dataframe thead th {\n",
       "        text-align: right;\n",
       "    }\n",
       "</style>\n",
       "<table border=\"1\" class=\"dataframe\">\n",
       "  <thead>\n",
       "    <tr style=\"text-align: right;\">\n",
       "      <th></th>\n",
       "      <th>AWND</th>\n",
       "      <th>PRCP</th>\n",
       "      <th>SNOW</th>\n",
       "      <th>SNWD</th>\n",
       "      <th>TAVG</th>\n",
       "      <th>TMAX</th>\n",
       "      <th>TMIN</th>\n",
       "      <th>trips_delta</th>\n",
       "      <th>trips_resid</th>\n",
       "      <th>yesterday_trips</th>\n",
       "      <th>last_weeks_trips</th>\n",
       "      <th>petrol_price</th>\n",
       "    </tr>\n",
       "  </thead>\n",
       "  <tbody>\n",
       "    <tr>\n",
       "      <th>AWND</th>\n",
       "      <td>1.000000</td>\n",
       "      <td>0.093901</td>\n",
       "      <td>0.057017</td>\n",
       "      <td>-0.030698</td>\n",
       "      <td>0.111403</td>\n",
       "      <td>0.014964</td>\n",
       "      <td>0.087136</td>\n",
       "      <td>-0.120272</td>\n",
       "      <td>-0.118096</td>\n",
       "      <td>0.001177</td>\n",
       "      <td>0.073620</td>\n",
       "      <td>0.033617</td>\n",
       "    </tr>\n",
       "    <tr>\n",
       "      <th>PRCP</th>\n",
       "      <td>0.093901</td>\n",
       "      <td>1.000000</td>\n",
       "      <td>0.159527</td>\n",
       "      <td>0.007910</td>\n",
       "      <td>0.118324</td>\n",
       "      <td>0.046470</td>\n",
       "      <td>0.163684</td>\n",
       "      <td>-0.338073</td>\n",
       "      <td>-0.405696</td>\n",
       "      <td>-0.022456</td>\n",
       "      <td>0.025515</td>\n",
       "      <td>0.003373</td>\n",
       "    </tr>\n",
       "    <tr>\n",
       "      <th>SNOW</th>\n",
       "      <td>0.057017</td>\n",
       "      <td>0.159527</td>\n",
       "      <td>1.000000</td>\n",
       "      <td>0.254856</td>\n",
       "      <td>-0.105175</td>\n",
       "      <td>-0.136296</td>\n",
       "      <td>-0.122190</td>\n",
       "      <td>-0.149422</td>\n",
       "      <td>-0.109062</td>\n",
       "      <td>-0.085723</td>\n",
       "      <td>-0.038641</td>\n",
       "      <td>0.075027</td>\n",
       "    </tr>\n",
       "    <tr>\n",
       "      <th>SNWD</th>\n",
       "      <td>-0.030698</td>\n",
       "      <td>0.007910</td>\n",
       "      <td>0.254856</td>\n",
       "      <td>1.000000</td>\n",
       "      <td>-0.368006</td>\n",
       "      <td>-0.303043</td>\n",
       "      <td>-0.400702</td>\n",
       "      <td>-0.221356</td>\n",
       "      <td>-0.063993</td>\n",
       "      <td>-0.236506</td>\n",
       "      <td>-0.139629</td>\n",
       "      <td>0.219107</td>\n",
       "    </tr>\n",
       "    <tr>\n",
       "      <th>TAVG</th>\n",
       "      <td>0.111403</td>\n",
       "      <td>0.118324</td>\n",
       "      <td>-0.105175</td>\n",
       "      <td>-0.368006</td>\n",
       "      <td>1.000000</td>\n",
       "      <td>0.910728</td>\n",
       "      <td>0.915581</td>\n",
       "      <td>0.428332</td>\n",
       "      <td>0.357082</td>\n",
       "      <td>0.452412</td>\n",
       "      <td>0.133152</td>\n",
       "      <td>-0.200045</td>\n",
       "    </tr>\n",
       "    <tr>\n",
       "      <th>TMAX</th>\n",
       "      <td>0.014964</td>\n",
       "      <td>0.046470</td>\n",
       "      <td>-0.136296</td>\n",
       "      <td>-0.303043</td>\n",
       "      <td>0.910728</td>\n",
       "      <td>1.000000</td>\n",
       "      <td>0.788076</td>\n",
       "      <td>0.504594</td>\n",
       "      <td>0.470903</td>\n",
       "      <td>0.404838</td>\n",
       "      <td>0.104208</td>\n",
       "      <td>-0.162959</td>\n",
       "    </tr>\n",
       "    <tr>\n",
       "      <th>TMIN</th>\n",
       "      <td>0.087136</td>\n",
       "      <td>0.163684</td>\n",
       "      <td>-0.122190</td>\n",
       "      <td>-0.400702</td>\n",
       "      <td>0.915581</td>\n",
       "      <td>0.788076</td>\n",
       "      <td>1.000000</td>\n",
       "      <td>0.346270</td>\n",
       "      <td>0.243285</td>\n",
       "      <td>0.374751</td>\n",
       "      <td>0.144933</td>\n",
       "      <td>-0.222710</td>\n",
       "    </tr>\n",
       "    <tr>\n",
       "      <th>trips_delta</th>\n",
       "      <td>-0.120272</td>\n",
       "      <td>-0.338073</td>\n",
       "      <td>-0.149422</td>\n",
       "      <td>-0.221356</td>\n",
       "      <td>0.428332</td>\n",
       "      <td>0.504594</td>\n",
       "      <td>0.346270</td>\n",
       "      <td>1.000000</td>\n",
       "      <td>0.829173</td>\n",
       "      <td>0.577637</td>\n",
       "      <td>0.399393</td>\n",
       "      <td>-0.376112</td>\n",
       "    </tr>\n",
       "    <tr>\n",
       "      <th>trips_resid</th>\n",
       "      <td>-0.118096</td>\n",
       "      <td>-0.405696</td>\n",
       "      <td>-0.109062</td>\n",
       "      <td>-0.063993</td>\n",
       "      <td>0.357082</td>\n",
       "      <td>0.470903</td>\n",
       "      <td>0.243285</td>\n",
       "      <td>0.829173</td>\n",
       "      <td>1.000000</td>\n",
       "      <td>0.337871</td>\n",
       "      <td>0.132110</td>\n",
       "      <td>0.015501</td>\n",
       "    </tr>\n",
       "    <tr>\n",
       "      <th>yesterday_trips</th>\n",
       "      <td>0.001177</td>\n",
       "      <td>-0.022456</td>\n",
       "      <td>-0.085723</td>\n",
       "      <td>-0.236506</td>\n",
       "      <td>0.452412</td>\n",
       "      <td>0.404838</td>\n",
       "      <td>0.374751</td>\n",
       "      <td>0.577637</td>\n",
       "      <td>0.337871</td>\n",
       "      <td>1.000000</td>\n",
       "      <td>0.338841</td>\n",
       "      <td>-0.375816</td>\n",
       "    </tr>\n",
       "    <tr>\n",
       "      <th>last_weeks_trips</th>\n",
       "      <td>0.073620</td>\n",
       "      <td>0.025515</td>\n",
       "      <td>-0.038641</td>\n",
       "      <td>-0.139629</td>\n",
       "      <td>0.133152</td>\n",
       "      <td>0.104208</td>\n",
       "      <td>0.144933</td>\n",
       "      <td>0.399393</td>\n",
       "      <td>0.132110</td>\n",
       "      <td>0.338841</td>\n",
       "      <td>1.000000</td>\n",
       "      <td>-0.371971</td>\n",
       "    </tr>\n",
       "    <tr>\n",
       "      <th>petrol_price</th>\n",
       "      <td>0.033617</td>\n",
       "      <td>0.003373</td>\n",
       "      <td>0.075027</td>\n",
       "      <td>0.219107</td>\n",
       "      <td>-0.200045</td>\n",
       "      <td>-0.162959</td>\n",
       "      <td>-0.222710</td>\n",
       "      <td>-0.376112</td>\n",
       "      <td>0.015501</td>\n",
       "      <td>-0.375816</td>\n",
       "      <td>-0.371971</td>\n",
       "      <td>1.000000</td>\n",
       "    </tr>\n",
       "  </tbody>\n",
       "</table>\n",
       "</div>"
      ],
      "text/plain": [
       "                      AWND      PRCP      SNOW      SNWD      TAVG      TMAX  \\\n",
       "AWND              1.000000  0.093901  0.057017 -0.030698  0.111403  0.014964   \n",
       "PRCP              0.093901  1.000000  0.159527  0.007910  0.118324  0.046470   \n",
       "SNOW              0.057017  0.159527  1.000000  0.254856 -0.105175 -0.136296   \n",
       "SNWD             -0.030698  0.007910  0.254856  1.000000 -0.368006 -0.303043   \n",
       "TAVG              0.111403  0.118324 -0.105175 -0.368006  1.000000  0.910728   \n",
       "TMAX              0.014964  0.046470 -0.136296 -0.303043  0.910728  1.000000   \n",
       "TMIN              0.087136  0.163684 -0.122190 -0.400702  0.915581  0.788076   \n",
       "trips_delta      -0.120272 -0.338073 -0.149422 -0.221356  0.428332  0.504594   \n",
       "trips_resid      -0.118096 -0.405696 -0.109062 -0.063993  0.357082  0.470903   \n",
       "yesterday_trips   0.001177 -0.022456 -0.085723 -0.236506  0.452412  0.404838   \n",
       "last_weeks_trips  0.073620  0.025515 -0.038641 -0.139629  0.133152  0.104208   \n",
       "petrol_price      0.033617  0.003373  0.075027  0.219107 -0.200045 -0.162959   \n",
       "\n",
       "                      TMIN  trips_delta  trips_resid  yesterday_trips  \\\n",
       "AWND              0.087136    -0.120272    -0.118096         0.001177   \n",
       "PRCP              0.163684    -0.338073    -0.405696        -0.022456   \n",
       "SNOW             -0.122190    -0.149422    -0.109062        -0.085723   \n",
       "SNWD             -0.400702    -0.221356    -0.063993        -0.236506   \n",
       "TAVG              0.915581     0.428332     0.357082         0.452412   \n",
       "TMAX              0.788076     0.504594     0.470903         0.404838   \n",
       "TMIN              1.000000     0.346270     0.243285         0.374751   \n",
       "trips_delta       0.346270     1.000000     0.829173         0.577637   \n",
       "trips_resid       0.243285     0.829173     1.000000         0.337871   \n",
       "yesterday_trips   0.374751     0.577637     0.337871         1.000000   \n",
       "last_weeks_trips  0.144933     0.399393     0.132110         0.338841   \n",
       "petrol_price     -0.222710    -0.376112     0.015501        -0.375816   \n",
       "\n",
       "                  last_weeks_trips  petrol_price  \n",
       "AWND                      0.073620      0.033617  \n",
       "PRCP                      0.025515      0.003373  \n",
       "SNOW                     -0.038641      0.075027  \n",
       "SNWD                     -0.139629      0.219107  \n",
       "TAVG                      0.133152     -0.200045  \n",
       "TMAX                      0.104208     -0.162959  \n",
       "TMIN                      0.144933     -0.222710  \n",
       "trips_delta               0.399393     -0.376112  \n",
       "trips_resid               0.132110      0.015501  \n",
       "yesterday_trips           0.338841     -0.375816  \n",
       "last_weeks_trips          1.000000     -0.371971  \n",
       "petrol_price             -0.371971      1.000000  "
      ]
     },
     "execution_count": 190,
     "metadata": {},
     "output_type": "execute_result"
    }
   ],
   "source": [
    "df['petrol_price'] = petrol_by_day\n",
    "df.corr()"
   ]
  },
  {
   "cell_type": "markdown",
   "metadata": {},
   "source": [
    "## Other dimensionality reduction options\n",
    "\n",
    "There are other ways of having fewer features. Principal Component Analysis is a famous one. T-SNEF and UMAP are \n",
    "less famous, but produce very interesting results by allowing a little bit of randomness and a little bit of warping\n",
    "of the distances between distant points.\n"
   ]
  },
  {
   "cell_type": "code",
   "execution_count": null,
   "metadata": {},
   "outputs": [],
   "source": [
    "import umap"
   ]
  },
  {
   "cell_type": "code",
   "execution_count": null,
   "metadata": {},
   "outputs": [],
   "source": [
    "reducer = umap.UMAP()"
   ]
  },
  {
   "cell_type": "code",
   "execution_count": 194,
   "metadata": {},
   "outputs": [],
   "source": [
    "scaler = sklearn.preprocessing.RobustScaler()\n",
    "scaled_weather = scaler.fit_transform(df[['AWND','PRCP','SNOW','SNWD','TAVG','TMAX','TMIN']])"
   ]
  },
  {
   "cell_type": "code",
   "execution_count": null,
   "metadata": {},
   "outputs": [],
   "source": [
    "weather2d = reducer.fit_transform()"
   ]
  },
  {
   "cell_type": "code",
   "execution_count": null,
   "metadata": {},
   "outputs": [],
   "source": []
  }
 ],
 "metadata": {
  "kernelspec": {
   "display_name": "Python 3",
   "language": "python",
   "name": "python3"
  },
  "language_info": {
   "codemirror_mode": {
    "name": "ipython",
    "version": 3
   },
   "file_extension": ".py",
   "mimetype": "text/x-python",
   "name": "python",
   "nbconvert_exporter": "python",
   "pygments_lexer": "ipython3",
   "version": "3.7.3"
  }
 },
 "nbformat": 4,
 "nbformat_minor": 2
}
